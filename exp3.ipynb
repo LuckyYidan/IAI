{
  "cells": [
    {
      "cell_type": "markdown",
      "metadata": {
        "id": "view-in-github",
        "colab_type": "text"
      },
      "source": [
        "<a href=\"https://colab.research.google.com/github/LuckyYidan/IAI/blob/main/exp3.ipynb\" target=\"_parent\"><img src=\"https://colab.research.google.com/assets/colab-badge.svg\" alt=\"Open In Colab\"/></a>"
      ]
    },
    {
      "cell_type": "markdown",
      "metadata": {
        "id": "mdXBRm8eWEd8"
      },
      "source": [
        "# Load Packages"
      ]
    },
    {
      "cell_type": "code",
      "execution_count": null,
      "metadata": {
        "colab": {
          "base_uri": "https://localhost:8080/",
          "height": 1000
        },
        "id": "EsuRQu1vVzf7",
        "outputId": "029c0ef8-878a-45b5-bb55-31da4f68fb39"
      },
      "outputs": [
        {
          "output_type": "stream",
          "name": "stdout",
          "text": [
            "Collecting optuna\n",
            "  Downloading optuna-3.4.0-py3-none-any.whl (409 kB)\n",
            "\u001b[2K     \u001b[90m━━━━━━━━━━━━━━━━━━━━━━━━━━━━━━━━━━━━━━━━\u001b[0m \u001b[32m409.6/409.6 kB\u001b[0m \u001b[31m7.1 MB/s\u001b[0m eta \u001b[36m0:00:00\u001b[0m\n",
            "\u001b[?25hCollecting alembic>=1.5.0 (from optuna)\n",
            "  Downloading alembic-1.13.0-py3-none-any.whl (230 kB)\n",
            "\u001b[2K     \u001b[90m━━━━━━━━━━━━━━━━━━━━━━━━━━━━━━━━━━━━━━━━\u001b[0m \u001b[32m230.6/230.6 kB\u001b[0m \u001b[31m11.1 MB/s\u001b[0m eta \u001b[36m0:00:00\u001b[0m\n",
            "\u001b[?25hCollecting colorlog (from optuna)\n",
            "  Downloading colorlog-6.8.0-py3-none-any.whl (11 kB)\n",
            "Requirement already satisfied: numpy in /usr/local/lib/python3.10/dist-packages (from optuna) (1.23.5)\n",
            "Requirement already satisfied: packaging>=20.0 in /usr/local/lib/python3.10/dist-packages (from optuna) (23.2)\n",
            "Requirement already satisfied: sqlalchemy>=1.3.0 in /usr/local/lib/python3.10/dist-packages (from optuna) (2.0.23)\n",
            "Requirement already satisfied: tqdm in /usr/local/lib/python3.10/dist-packages (from optuna) (4.66.1)\n",
            "Requirement already satisfied: PyYAML in /usr/local/lib/python3.10/dist-packages (from optuna) (6.0.1)\n",
            "Collecting Mako (from alembic>=1.5.0->optuna)\n",
            "  Downloading Mako-1.3.0-py3-none-any.whl (78 kB)\n",
            "\u001b[2K     \u001b[90m━━━━━━━━━━━━━━━━━━━━━━━━━━━━━━━━━━━━━━━━\u001b[0m \u001b[32m78.6/78.6 kB\u001b[0m \u001b[31m7.3 MB/s\u001b[0m eta \u001b[36m0:00:00\u001b[0m\n",
            "\u001b[?25hRequirement already satisfied: typing-extensions>=4 in /usr/local/lib/python3.10/dist-packages (from alembic>=1.5.0->optuna) (4.5.0)\n",
            "Requirement already satisfied: greenlet!=0.4.17 in /usr/local/lib/python3.10/dist-packages (from sqlalchemy>=1.3.0->optuna) (3.0.1)\n",
            "Requirement already satisfied: MarkupSafe>=0.9.2 in /usr/local/lib/python3.10/dist-packages (from Mako->alembic>=1.5.0->optuna) (2.1.3)\n",
            "Installing collected packages: Mako, colorlog, alembic, optuna\n",
            "Successfully installed Mako-1.3.0 alembic-1.13.0 colorlog-6.8.0 optuna-3.4.0\n",
            "Collecting kaleido\n",
            "  Downloading kaleido-0.2.1-py2.py3-none-manylinux1_x86_64.whl (79.9 MB)\n",
            "\u001b[2K     \u001b[90m━━━━━━━━━━━━━━━━━━━━━━━━━━━━━━━━━━━━━━━━\u001b[0m \u001b[32m79.9/79.9 MB\u001b[0m \u001b[31m9.4 MB/s\u001b[0m eta \u001b[36m0:00:00\u001b[0m\n",
            "\u001b[?25hInstalling collected packages: kaleido\n",
            "\u001b[31mERROR: pip's dependency resolver does not currently take into account all the packages that are installed. This behaviour is the source of the following dependency conflicts.\n",
            "lida 0.0.10 requires fastapi, which is not installed.\n",
            "lida 0.0.10 requires python-multipart, which is not installed.\n",
            "lida 0.0.10 requires uvicorn, which is not installed.\u001b[0m\u001b[31m\n",
            "\u001b[0mSuccessfully installed kaleido-0.2.1\n",
            "Collecting zero\n",
            "  Downloading zero-0.9.1-py3-none-any.whl (139 kB)\n",
            "\u001b[2K     \u001b[90m━━━━━━━━━━━━━━━━━━━━━━━━━━━━━━━━━━━━━━━━\u001b[0m \u001b[32m139.1/139.1 kB\u001b[0m \u001b[31m3.9 MB/s\u001b[0m eta \u001b[36m0:00:00\u001b[0m\n",
            "\u001b[?25hRequirement already satisfied: numpy>=1.15.2 in /usr/local/lib/python3.10/dist-packages (from zero) (1.23.5)\n",
            "Requirement already satisfied: scipy>=1.1.0 in /usr/local/lib/python3.10/dist-packages (from zero) (1.11.4)\n",
            "Requirement already satisfied: matplotlib>=3.0.3 in /usr/local/lib/python3.10/dist-packages (from zero) (3.7.1)\n",
            "Requirement already satisfied: requests>=2.19.1 in /usr/local/lib/python3.10/dist-packages (from zero) (2.31.0)\n",
            "Requirement already satisfied: progressbar2>=3.38.0 in /usr/local/lib/python3.10/dist-packages (from zero) (4.2.0)\n",
            "Requirement already satisfied: tabulate>=0.8.2 in /usr/local/lib/python3.10/dist-packages (from zero) (0.9.0)\n",
            "Collecting setuptools-scm>=3.1.0 (from zero)\n",
            "  Downloading setuptools_scm-8.0.4-py3-none-any.whl (42 kB)\n",
            "\u001b[2K     \u001b[90m━━━━━━━━━━━━━━━━━━━━━━━━━━━━━━━━━━━━━━━━\u001b[0m \u001b[32m42.1/42.1 kB\u001b[0m \u001b[31m4.3 MB/s\u001b[0m eta \u001b[36m0:00:00\u001b[0m\n",
            "\u001b[?25hCollecting ply>=3.11 (from zero)\n",
            "  Downloading ply-3.11-py2.py3-none-any.whl (49 kB)\n",
            "\u001b[2K     \u001b[90m━━━━━━━━━━━━━━━━━━━━━━━━━━━━━━━━━━━━━━━━\u001b[0m \u001b[32m49.6/49.6 kB\u001b[0m \u001b[31m5.2 MB/s\u001b[0m eta \u001b[36m0:00:00\u001b[0m\n",
            "\u001b[?25hCollecting Click==7.0 (from zero)\n",
            "  Downloading Click-7.0-py2.py3-none-any.whl (81 kB)\n",
            "\u001b[2K     \u001b[90m━━━━━━━━━━━━━━━━━━━━━━━━━━━━━━━━━━━━━━━━\u001b[0m \u001b[32m81.3/81.3 kB\u001b[0m \u001b[31m7.1 MB/s\u001b[0m eta \u001b[36m0:00:00\u001b[0m\n",
            "\u001b[?25hCollecting quantiphy>=2.5.0 (from zero)\n",
            "  Downloading quantiphy-2.19-py3-none-any.whl (41 kB)\n",
            "\u001b[2K     \u001b[90m━━━━━━━━━━━━━━━━━━━━━━━━━━━━━━━━━━━━━━━━\u001b[0m \u001b[32m41.2/41.2 kB\u001b[0m \u001b[31m5.5 MB/s\u001b[0m eta \u001b[36m0:00:00\u001b[0m\n",
            "\u001b[?25hRequirement already satisfied: PyYAML>=3.13 in /usr/local/lib/python3.10/dist-packages (from zero) (6.0.1)\n",
            "Requirement already satisfied: graphviz>=0.9 in /usr/local/lib/python3.10/dist-packages (from zero) (0.20.1)\n",
            "Requirement already satisfied: contourpy>=1.0.1 in /usr/local/lib/python3.10/dist-packages (from matplotlib>=3.0.3->zero) (1.2.0)\n",
            "Requirement already satisfied: cycler>=0.10 in /usr/local/lib/python3.10/dist-packages (from matplotlib>=3.0.3->zero) (0.12.1)\n",
            "Requirement already satisfied: fonttools>=4.22.0 in /usr/local/lib/python3.10/dist-packages (from matplotlib>=3.0.3->zero) (4.45.1)\n",
            "Requirement already satisfied: kiwisolver>=1.0.1 in /usr/local/lib/python3.10/dist-packages (from matplotlib>=3.0.3->zero) (1.4.5)\n",
            "Requirement already satisfied: packaging>=20.0 in /usr/local/lib/python3.10/dist-packages (from matplotlib>=3.0.3->zero) (23.2)\n",
            "Requirement already satisfied: pillow>=6.2.0 in /usr/local/lib/python3.10/dist-packages (from matplotlib>=3.0.3->zero) (9.4.0)\n",
            "Requirement already satisfied: pyparsing>=2.3.1 in /usr/local/lib/python3.10/dist-packages (from matplotlib>=3.0.3->zero) (3.1.1)\n",
            "Requirement already satisfied: python-dateutil>=2.7 in /usr/local/lib/python3.10/dist-packages (from matplotlib>=3.0.3->zero) (2.8.2)\n",
            "Requirement already satisfied: python-utils>=3.0.0 in /usr/local/lib/python3.10/dist-packages (from progressbar2>=3.38.0->zero) (3.8.1)\n",
            "Requirement already satisfied: charset-normalizer<4,>=2 in /usr/local/lib/python3.10/dist-packages (from requests>=2.19.1->zero) (3.3.2)\n",
            "Requirement already satisfied: idna<4,>=2.5 in /usr/local/lib/python3.10/dist-packages (from requests>=2.19.1->zero) (3.6)\n",
            "Requirement already satisfied: urllib3<3,>=1.21.1 in /usr/local/lib/python3.10/dist-packages (from requests>=2.19.1->zero) (2.0.7)\n",
            "Requirement already satisfied: certifi>=2017.4.17 in /usr/local/lib/python3.10/dist-packages (from requests>=2.19.1->zero) (2023.11.17)\n",
            "Requirement already satisfied: setuptools in /usr/local/lib/python3.10/dist-packages (from setuptools-scm>=3.1.0->zero) (67.7.2)\n",
            "Requirement already satisfied: typing-extensions in /usr/local/lib/python3.10/dist-packages (from setuptools-scm>=3.1.0->zero) (4.5.0)\n",
            "Requirement already satisfied: tomli>=1 in /usr/local/lib/python3.10/dist-packages (from setuptools-scm>=3.1.0->zero) (2.0.1)\n",
            "Requirement already satisfied: six>=1.5 in /usr/local/lib/python3.10/dist-packages (from python-dateutil>=2.7->matplotlib>=3.0.3->zero) (1.16.0)\n",
            "Installing collected packages: ply, setuptools-scm, quantiphy, Click, zero\n",
            "  Attempting uninstall: Click\n",
            "    Found existing installation: click 8.1.7\n",
            "    Uninstalling click-8.1.7:\n",
            "      Successfully uninstalled click-8.1.7\n",
            "\u001b[31mERROR: pip's dependency resolver does not currently take into account all the packages that are installed. This behaviour is the source of the following dependency conflicts.\n",
            "lida 0.0.10 requires fastapi, which is not installed.\n",
            "lida 0.0.10 requires python-multipart, which is not installed.\n",
            "lida 0.0.10 requires uvicorn, which is not installed.\n",
            "flask 2.2.5 requires click>=8.0, but you have click 7.0 which is incompatible.\n",
            "dask 2023.8.1 requires click>=8.0, but you have click 7.0 which is incompatible.\n",
            "distributed 2023.8.1 requires click>=8.0, but you have click 7.0 which is incompatible.\n",
            "fiona 1.9.5 requires click~=8.0, but you have click 7.0 which is incompatible.\n",
            "pip-tools 6.13.0 requires click>=8, but you have click 7.0 which is incompatible.\n",
            "typer 0.9.0 requires click<9.0.0,>=7.1.1, but you have click 7.0 which is incompatible.\u001b[0m\u001b[31m\n",
            "\u001b[0mSuccessfully installed Click-7.0 ply-3.11 quantiphy-2.19 setuptools-scm-8.0.4 zero-0.9.1\n",
            "Collecting icecream\n",
            "  Downloading icecream-2.1.3-py2.py3-none-any.whl (8.4 kB)\n",
            "Collecting colorama>=0.3.9 (from icecream)\n",
            "  Downloading colorama-0.4.6-py2.py3-none-any.whl (25 kB)\n",
            "Requirement already satisfied: pygments>=2.2.0 in /usr/local/lib/python3.10/dist-packages (from icecream) (2.16.1)\n",
            "Collecting executing>=0.3.1 (from icecream)\n",
            "  Downloading executing-2.0.1-py2.py3-none-any.whl (24 kB)\n",
            "Collecting asttokens>=2.0.1 (from icecream)\n",
            "  Downloading asttokens-2.4.1-py2.py3-none-any.whl (27 kB)\n",
            "Requirement already satisfied: six>=1.12.0 in /usr/local/lib/python3.10/dist-packages (from asttokens>=2.0.1->icecream) (1.16.0)\n",
            "Installing collected packages: executing, colorama, asttokens, icecream\n",
            "Successfully installed asttokens-2.4.1 colorama-0.4.6 executing-2.0.1 icecream-2.1.3\n",
            "Collecting category_encoders\n",
            "  Downloading category_encoders-2.6.3-py2.py3-none-any.whl (81 kB)\n",
            "\u001b[2K     \u001b[90m━━━━━━━━━━━━━━━━━━━━━━━━━━━━━━━━━━━━━━━━\u001b[0m \u001b[32m81.9/81.9 kB\u001b[0m \u001b[31m2.7 MB/s\u001b[0m eta \u001b[36m0:00:00\u001b[0m\n",
            "\u001b[?25hRequirement already satisfied: numpy>=1.14.0 in /usr/local/lib/python3.10/dist-packages (from category_encoders) (1.23.5)\n",
            "Requirement already satisfied: scikit-learn>=0.20.0 in /usr/local/lib/python3.10/dist-packages (from category_encoders) (1.2.2)\n",
            "Requirement already satisfied: scipy>=1.0.0 in /usr/local/lib/python3.10/dist-packages (from category_encoders) (1.11.4)\n",
            "Requirement already satisfied: statsmodels>=0.9.0 in /usr/local/lib/python3.10/dist-packages (from category_encoders) (0.14.0)\n",
            "Requirement already satisfied: pandas>=1.0.5 in /usr/local/lib/python3.10/dist-packages (from category_encoders) (1.5.3)\n",
            "Requirement already satisfied: patsy>=0.5.1 in /usr/local/lib/python3.10/dist-packages (from category_encoders) (0.5.3)\n",
            "Requirement already satisfied: python-dateutil>=2.8.1 in /usr/local/lib/python3.10/dist-packages (from pandas>=1.0.5->category_encoders) (2.8.2)\n",
            "Requirement already satisfied: pytz>=2020.1 in /usr/local/lib/python3.10/dist-packages (from pandas>=1.0.5->category_encoders) (2023.3.post1)\n",
            "Requirement already satisfied: six in /usr/local/lib/python3.10/dist-packages (from patsy>=0.5.1->category_encoders) (1.16.0)\n",
            "Requirement already satisfied: joblib>=1.1.1 in /usr/local/lib/python3.10/dist-packages (from scikit-learn>=0.20.0->category_encoders) (1.3.2)\n",
            "Requirement already satisfied: threadpoolctl>=2.0.0 in /usr/local/lib/python3.10/dist-packages (from scikit-learn>=0.20.0->category_encoders) (3.2.0)\n",
            "Requirement already satisfied: packaging>=21.3 in /usr/local/lib/python3.10/dist-packages (from statsmodels>=0.9.0->category_encoders) (23.2)\n",
            "Installing collected packages: category_encoders\n",
            "Successfully installed category_encoders-2.6.3\n",
            "Collecting tomli_w\n",
            "  Downloading tomli_w-1.0.0-py3-none-any.whl (6.0 kB)\n",
            "Installing collected packages: tomli_w\n",
            "Successfully installed tomli_w-1.0.0\n",
            "Collecting rtdl\n",
            "  Downloading rtdl-0.0.13-py3-none-any.whl (23 kB)\n",
            "Requirement already satisfied: numpy<2,>=1.18 in /usr/local/lib/python3.10/dist-packages (from rtdl) (1.23.5)\n",
            "Collecting torch<2,>=1.7 (from rtdl)\n",
            "  Downloading torch-1.13.1-cp310-cp310-manylinux1_x86_64.whl (887.5 MB)\n",
            "\u001b[2K     \u001b[90m━━━━━━━━━━━━━━━━━━━━━━━━━━━━━━━━━━━━━━━━\u001b[0m \u001b[32m887.5/887.5 MB\u001b[0m \u001b[31m1.8 MB/s\u001b[0m eta \u001b[36m0:00:00\u001b[0m\n",
            "\u001b[?25hRequirement already satisfied: typing-extensions in /usr/local/lib/python3.10/dist-packages (from torch<2,>=1.7->rtdl) (4.5.0)\n",
            "Collecting nvidia-cuda-runtime-cu11==11.7.99 (from torch<2,>=1.7->rtdl)\n",
            "  Downloading nvidia_cuda_runtime_cu11-11.7.99-py3-none-manylinux1_x86_64.whl (849 kB)\n",
            "\u001b[2K     \u001b[90m━━━━━━━━━━━━━━━━━━━━━━━━━━━━━━━━━━━━━━━━\u001b[0m \u001b[32m849.3/849.3 kB\u001b[0m \u001b[31m65.0 MB/s\u001b[0m eta \u001b[36m0:00:00\u001b[0m\n",
            "\u001b[?25hCollecting nvidia-cudnn-cu11==8.5.0.96 (from torch<2,>=1.7->rtdl)\n",
            "  Downloading nvidia_cudnn_cu11-8.5.0.96-2-py3-none-manylinux1_x86_64.whl (557.1 MB)\n",
            "\u001b[2K     \u001b[90m━━━━━━━━━━━━━━━━━━━━━━━━━━━━━━━━━━━━━━━━\u001b[0m \u001b[32m557.1/557.1 MB\u001b[0m \u001b[31m2.3 MB/s\u001b[0m eta \u001b[36m0:00:00\u001b[0m\n",
            "\u001b[?25hCollecting nvidia-cublas-cu11==11.10.3.66 (from torch<2,>=1.7->rtdl)\n",
            "  Downloading nvidia_cublas_cu11-11.10.3.66-py3-none-manylinux1_x86_64.whl (317.1 MB)\n",
            "\u001b[2K     \u001b[90m━━━━━━━━━━━━━━━━━━━━━━━━━━━━━━━━━━━━━━━━\u001b[0m \u001b[32m317.1/317.1 MB\u001b[0m \u001b[31m4.6 MB/s\u001b[0m eta \u001b[36m0:00:00\u001b[0m\n",
            "\u001b[?25hCollecting nvidia-cuda-nvrtc-cu11==11.7.99 (from torch<2,>=1.7->rtdl)\n",
            "  Downloading nvidia_cuda_nvrtc_cu11-11.7.99-2-py3-none-manylinux1_x86_64.whl (21.0 MB)\n",
            "\u001b[2K     \u001b[90m━━━━━━━━━━━━━━━━━━━━━━━━━━━━━━━━━━━━━━━━\u001b[0m \u001b[32m21.0/21.0 MB\u001b[0m \u001b[31m54.9 MB/s\u001b[0m eta \u001b[36m0:00:00\u001b[0m\n",
            "\u001b[?25hRequirement already satisfied: setuptools in /usr/local/lib/python3.10/dist-packages (from nvidia-cublas-cu11==11.10.3.66->torch<2,>=1.7->rtdl) (67.7.2)\n",
            "Requirement already satisfied: wheel in /usr/local/lib/python3.10/dist-packages (from nvidia-cublas-cu11==11.10.3.66->torch<2,>=1.7->rtdl) (0.42.0)\n",
            "Installing collected packages: nvidia-cuda-runtime-cu11, nvidia-cuda-nvrtc-cu11, nvidia-cublas-cu11, nvidia-cudnn-cu11, torch, rtdl\n",
            "  Attempting uninstall: torch\n",
            "    Found existing installation: torch 2.1.0+cu118\n",
            "    Uninstalling torch-2.1.0+cu118:\n",
            "      Successfully uninstalled torch-2.1.0+cu118\n",
            "\u001b[31mERROR: pip's dependency resolver does not currently take into account all the packages that are installed. This behaviour is the source of the following dependency conflicts.\n",
            "torchaudio 2.1.0+cu118 requires torch==2.1.0, but you have torch 1.13.1 which is incompatible.\n",
            "torchdata 0.7.0 requires torch==2.1.0, but you have torch 1.13.1 which is incompatible.\n",
            "torchtext 0.16.0 requires torch==2.1.0, but you have torch 1.13.1 which is incompatible.\n",
            "torchvision 0.16.0+cu118 requires torch==2.1.0, but you have torch 1.13.1 which is incompatible.\u001b[0m\u001b[31m\n",
            "\u001b[0mSuccessfully installed nvidia-cublas-cu11-11.10.3.66 nvidia-cuda-nvrtc-cu11-11.7.99 nvidia-cuda-runtime-cu11-11.7.99 nvidia-cudnn-cu11-8.5.0.96 rtdl-0.0.13 torch-1.13.1\n"
          ]
        },
        {
          "output_type": "display_data",
          "data": {
            "application/vnd.colab-display-data+json": {
              "pip_warning": {
                "packages": [
                  "torch",
                  "torchgen"
                ]
              }
            }
          },
          "metadata": {}
        },
        {
          "output_type": "stream",
          "name": "stdout",
          "text": [
            "Collecting catboost\n",
            "  Downloading catboost-1.2.2-cp310-cp310-manylinux2014_x86_64.whl (98.7 MB)\n",
            "\u001b[2K     \u001b[90m━━━━━━━━━━━━━━━━━━━━━━━━━━━━━━━━━━━━━━━━\u001b[0m \u001b[32m98.7/98.7 MB\u001b[0m \u001b[31m9.1 MB/s\u001b[0m eta \u001b[36m0:00:00\u001b[0m\n",
            "\u001b[?25hRequirement already satisfied: graphviz in /usr/local/lib/python3.10/dist-packages (from catboost) (0.20.1)\n",
            "Requirement already satisfied: matplotlib in /usr/local/lib/python3.10/dist-packages (from catboost) (3.7.1)\n",
            "Requirement already satisfied: numpy>=1.16.0 in /usr/local/lib/python3.10/dist-packages (from catboost) (1.23.5)\n",
            "Requirement already satisfied: pandas>=0.24 in /usr/local/lib/python3.10/dist-packages (from catboost) (1.5.3)\n",
            "Requirement already satisfied: scipy in /usr/local/lib/python3.10/dist-packages (from catboost) (1.11.4)\n",
            "Requirement already satisfied: plotly in /usr/local/lib/python3.10/dist-packages (from catboost) (5.15.0)\n",
            "Requirement already satisfied: six in /usr/local/lib/python3.10/dist-packages (from catboost) (1.16.0)\n",
            "Requirement already satisfied: python-dateutil>=2.8.1 in /usr/local/lib/python3.10/dist-packages (from pandas>=0.24->catboost) (2.8.2)\n",
            "Requirement already satisfied: pytz>=2020.1 in /usr/local/lib/python3.10/dist-packages (from pandas>=0.24->catboost) (2023.3.post1)\n",
            "Requirement already satisfied: contourpy>=1.0.1 in /usr/local/lib/python3.10/dist-packages (from matplotlib->catboost) (1.2.0)\n",
            "Requirement already satisfied: cycler>=0.10 in /usr/local/lib/python3.10/dist-packages (from matplotlib->catboost) (0.12.1)\n",
            "Requirement already satisfied: fonttools>=4.22.0 in /usr/local/lib/python3.10/dist-packages (from matplotlib->catboost) (4.45.1)\n",
            "Requirement already satisfied: kiwisolver>=1.0.1 in /usr/local/lib/python3.10/dist-packages (from matplotlib->catboost) (1.4.5)\n",
            "Requirement already satisfied: packaging>=20.0 in /usr/local/lib/python3.10/dist-packages (from matplotlib->catboost) (23.2)\n",
            "Requirement already satisfied: pillow>=6.2.0 in /usr/local/lib/python3.10/dist-packages (from matplotlib->catboost) (9.4.0)\n",
            "Requirement already satisfied: pyparsing>=2.3.1 in /usr/local/lib/python3.10/dist-packages (from matplotlib->catboost) (3.1.1)\n",
            "Requirement already satisfied: tenacity>=6.2.0 in /usr/local/lib/python3.10/dist-packages (from plotly->catboost) (8.2.3)\n",
            "Installing collected packages: catboost\n",
            "Successfully installed catboost-1.2.2\n",
            "Collecting libzero==0.0.8\n",
            "  Downloading libzero-0.0.8-py3-none-any.whl (28 kB)\n",
            "Requirement already satisfied: numpy<2,>=1.18 in /usr/local/lib/python3.10/dist-packages (from libzero==0.0.8) (1.23.5)\n",
            "Collecting pynvml<12,>=11.0 (from libzero==0.0.8)\n",
            "  Downloading pynvml-11.5.0-py3-none-any.whl (53 kB)\n",
            "\u001b[2K     \u001b[90m━━━━━━━━━━━━━━━━━━━━━━━━━━━━━━━━━━━━━━━━\u001b[0m \u001b[32m53.1/53.1 kB\u001b[0m \u001b[31m3.7 MB/s\u001b[0m eta \u001b[36m0:00:00\u001b[0m\n",
            "\u001b[?25hRequirement already satisfied: torch<2,>=1.7 in /usr/local/lib/python3.10/dist-packages (from libzero==0.0.8) (1.13.1)\n",
            "Requirement already satisfied: tqdm<5,>=4.0 in /usr/local/lib/python3.10/dist-packages (from libzero==0.0.8) (4.66.1)\n",
            "Requirement already satisfied: typing-extensions in /usr/local/lib/python3.10/dist-packages (from torch<2,>=1.7->libzero==0.0.8) (4.5.0)\n",
            "Requirement already satisfied: nvidia-cuda-runtime-cu11==11.7.99 in /usr/local/lib/python3.10/dist-packages (from torch<2,>=1.7->libzero==0.0.8) (11.7.99)\n",
            "Requirement already satisfied: nvidia-cudnn-cu11==8.5.0.96 in /usr/local/lib/python3.10/dist-packages (from torch<2,>=1.7->libzero==0.0.8) (8.5.0.96)\n",
            "Requirement already satisfied: nvidia-cublas-cu11==11.10.3.66 in /usr/local/lib/python3.10/dist-packages (from torch<2,>=1.7->libzero==0.0.8) (11.10.3.66)\n",
            "Requirement already satisfied: nvidia-cuda-nvrtc-cu11==11.7.99 in /usr/local/lib/python3.10/dist-packages (from torch<2,>=1.7->libzero==0.0.8) (11.7.99)\n",
            "Requirement already satisfied: setuptools in /usr/local/lib/python3.10/dist-packages (from nvidia-cublas-cu11==11.10.3.66->torch<2,>=1.7->libzero==0.0.8) (67.7.2)\n",
            "Requirement already satisfied: wheel in /usr/local/lib/python3.10/dist-packages (from nvidia-cublas-cu11==11.10.3.66->torch<2,>=1.7->libzero==0.0.8) (0.42.0)\n",
            "Installing collected packages: pynvml, libzero\n",
            "Successfully installed libzero-0.0.8 pynvml-11.5.0\n",
            "Collecting skorch\n",
            "  Downloading skorch-0.15.0-py3-none-any.whl (239 kB)\n",
            "\u001b[2K     \u001b[90m━━━━━━━━━━━━━━━━━━━━━━━━━━━━━━━━━━━━━━━━\u001b[0m \u001b[32m239.3/239.3 kB\u001b[0m \u001b[31m5.3 MB/s\u001b[0m eta \u001b[36m0:00:00\u001b[0m\n",
            "\u001b[?25hRequirement already satisfied: numpy>=1.13.3 in /usr/local/lib/python3.10/dist-packages (from skorch) (1.23.5)\n",
            "Requirement already satisfied: scikit-learn>=0.22.0 in /usr/local/lib/python3.10/dist-packages (from skorch) (1.2.2)\n",
            "Requirement already satisfied: scipy>=1.1.0 in /usr/local/lib/python3.10/dist-packages (from skorch) (1.11.4)\n",
            "Requirement already satisfied: tabulate>=0.7.7 in /usr/local/lib/python3.10/dist-packages (from skorch) (0.9.0)\n",
            "Requirement already satisfied: tqdm>=4.14.0 in /usr/local/lib/python3.10/dist-packages (from skorch) (4.66.1)\n",
            "Requirement already satisfied: joblib>=1.1.1 in /usr/local/lib/python3.10/dist-packages (from scikit-learn>=0.22.0->skorch) (1.3.2)\n",
            "Requirement already satisfied: threadpoolctl>=2.0.0 in /usr/local/lib/python3.10/dist-packages (from scikit-learn>=0.22.0->skorch) (3.2.0)\n",
            "Installing collected packages: skorch\n",
            "Successfully installed skorch-0.15.0\n",
            "Collecting dython==0.6.4.post1\n",
            "  Downloading dython-0.6.4.post1-py3-none-any.whl (18 kB)\n",
            "Requirement already satisfied: numpy in /usr/local/lib/python3.10/dist-packages (from dython==0.6.4.post1) (1.23.5)\n",
            "Requirement already satisfied: pandas>=0.23.4 in /usr/local/lib/python3.10/dist-packages (from dython==0.6.4.post1) (1.5.3)\n",
            "Requirement already satisfied: seaborn in /usr/local/lib/python3.10/dist-packages (from dython==0.6.4.post1) (0.12.2)\n",
            "Requirement already satisfied: scipy in /usr/local/lib/python3.10/dist-packages (from dython==0.6.4.post1) (1.11.4)\n",
            "Requirement already satisfied: matplotlib in /usr/local/lib/python3.10/dist-packages (from dython==0.6.4.post1) (3.7.1)\n",
            "Requirement already satisfied: scikit-learn in /usr/local/lib/python3.10/dist-packages (from dython==0.6.4.post1) (1.2.2)\n",
            "Requirement already satisfied: python-dateutil>=2.8.1 in /usr/local/lib/python3.10/dist-packages (from pandas>=0.23.4->dython==0.6.4.post1) (2.8.2)\n",
            "Requirement already satisfied: pytz>=2020.1 in /usr/local/lib/python3.10/dist-packages (from pandas>=0.23.4->dython==0.6.4.post1) (2023.3.post1)\n",
            "Requirement already satisfied: contourpy>=1.0.1 in /usr/local/lib/python3.10/dist-packages (from matplotlib->dython==0.6.4.post1) (1.2.0)\n",
            "Requirement already satisfied: cycler>=0.10 in /usr/local/lib/python3.10/dist-packages (from matplotlib->dython==0.6.4.post1) (0.12.1)\n",
            "Requirement already satisfied: fonttools>=4.22.0 in /usr/local/lib/python3.10/dist-packages (from matplotlib->dython==0.6.4.post1) (4.45.1)\n",
            "Requirement already satisfied: kiwisolver>=1.0.1 in /usr/local/lib/python3.10/dist-packages (from matplotlib->dython==0.6.4.post1) (1.4.5)\n",
            "Requirement already satisfied: packaging>=20.0 in /usr/local/lib/python3.10/dist-packages (from matplotlib->dython==0.6.4.post1) (23.2)\n",
            "Requirement already satisfied: pillow>=6.2.0 in /usr/local/lib/python3.10/dist-packages (from matplotlib->dython==0.6.4.post1) (9.4.0)\n",
            "Requirement already satisfied: pyparsing>=2.3.1 in /usr/local/lib/python3.10/dist-packages (from matplotlib->dython==0.6.4.post1) (3.1.1)\n",
            "Requirement already satisfied: joblib>=1.1.1 in /usr/local/lib/python3.10/dist-packages (from scikit-learn->dython==0.6.4.post1) (1.3.2)\n",
            "Requirement already satisfied: threadpoolctl>=2.0.0 in /usr/local/lib/python3.10/dist-packages (from scikit-learn->dython==0.6.4.post1) (3.2.0)\n",
            "Requirement already satisfied: six>=1.5 in /usr/local/lib/python3.10/dist-packages (from python-dateutil>=2.8.1->pandas>=0.23.4->dython==0.6.4.post1) (1.16.0)\n",
            "Installing collected packages: dython\n",
            "Successfully installed dython-0.6.4.post1\n",
            "Collecting wandb\n",
            "  Downloading wandb-0.16.1-py3-none-any.whl (2.1 MB)\n",
            "\u001b[2K     \u001b[90m━━━━━━━━━━━━━━━━━━━━━━━━━━━━━━━━━━━━━━━━\u001b[0m \u001b[32m2.1/2.1 MB\u001b[0m \u001b[31m14.5 MB/s\u001b[0m eta \u001b[36m0:00:00\u001b[0m\n",
            "\u001b[?25hCollecting Click!=8.0.0,>=7.1 (from wandb)\n",
            "  Downloading click-8.1.7-py3-none-any.whl (97 kB)\n",
            "\u001b[2K     \u001b[90m━━━━━━━━━━━━━━━━━━━━━━━━━━━━━━━━━━━━━━━━\u001b[0m \u001b[32m97.9/97.9 kB\u001b[0m \u001b[31m15.4 MB/s\u001b[0m eta \u001b[36m0:00:00\u001b[0m\n",
            "\u001b[?25hCollecting GitPython!=3.1.29,>=1.0.0 (from wandb)\n",
            "  Downloading GitPython-3.1.40-py3-none-any.whl (190 kB)\n",
            "\u001b[2K     \u001b[90m━━━━━━━━━━━━━━━━━━━━━━━━━━━━━━━━━━━━━━━━\u001b[0m \u001b[32m190.6/190.6 kB\u001b[0m \u001b[31m18.3 MB/s\u001b[0m eta \u001b[36m0:00:00\u001b[0m\n",
            "\u001b[?25hRequirement already satisfied: requests<3,>=2.0.0 in /usr/local/lib/python3.10/dist-packages (from wandb) (2.31.0)\n",
            "Requirement already satisfied: psutil>=5.0.0 in /usr/local/lib/python3.10/dist-packages (from wandb) (5.9.5)\n",
            "Collecting sentry-sdk>=1.0.0 (from wandb)\n",
            "  Downloading sentry_sdk-1.38.0-py2.py3-none-any.whl (252 kB)\n",
            "\u001b[2K     \u001b[90m━━━━━━━━━━━━━━━━━━━━━━━━━━━━━━━━━━━━━━━━\u001b[0m \u001b[32m252.8/252.8 kB\u001b[0m \u001b[31m21.7 MB/s\u001b[0m eta \u001b[36m0:00:00\u001b[0m\n",
            "\u001b[?25hCollecting docker-pycreds>=0.4.0 (from wandb)\n",
            "  Downloading docker_pycreds-0.4.0-py2.py3-none-any.whl (9.0 kB)\n",
            "Requirement already satisfied: PyYAML in /usr/local/lib/python3.10/dist-packages (from wandb) (6.0.1)\n",
            "Collecting setproctitle (from wandb)\n",
            "  Downloading setproctitle-1.3.3-cp310-cp310-manylinux_2_5_x86_64.manylinux1_x86_64.manylinux_2_17_x86_64.manylinux2014_x86_64.whl (30 kB)\n",
            "Requirement already satisfied: setuptools in /usr/local/lib/python3.10/dist-packages (from wandb) (67.7.2)\n",
            "Requirement already satisfied: appdirs>=1.4.3 in /usr/local/lib/python3.10/dist-packages (from wandb) (1.4.4)\n",
            "Requirement already satisfied: protobuf!=4.21.0,<5,>=3.19.0 in /usr/local/lib/python3.10/dist-packages (from wandb) (3.20.3)\n",
            "Requirement already satisfied: six>=1.4.0 in /usr/local/lib/python3.10/dist-packages (from docker-pycreds>=0.4.0->wandb) (1.16.0)\n",
            "Collecting gitdb<5,>=4.0.1 (from GitPython!=3.1.29,>=1.0.0->wandb)\n",
            "  Downloading gitdb-4.0.11-py3-none-any.whl (62 kB)\n",
            "\u001b[2K     \u001b[90m━━━━━━━━━━━━━━━━━━━━━━━━━━━━━━━━━━━━━━━━\u001b[0m \u001b[32m62.7/62.7 kB\u001b[0m \u001b[31m8.6 MB/s\u001b[0m eta \u001b[36m0:00:00\u001b[0m\n",
            "\u001b[?25hRequirement already satisfied: charset-normalizer<4,>=2 in /usr/local/lib/python3.10/dist-packages (from requests<3,>=2.0.0->wandb) (3.3.2)\n",
            "Requirement already satisfied: idna<4,>=2.5 in /usr/local/lib/python3.10/dist-packages (from requests<3,>=2.0.0->wandb) (3.6)\n",
            "Requirement already satisfied: urllib3<3,>=1.21.1 in /usr/local/lib/python3.10/dist-packages (from requests<3,>=2.0.0->wandb) (2.0.7)\n",
            "Requirement already satisfied: certifi>=2017.4.17 in /usr/local/lib/python3.10/dist-packages (from requests<3,>=2.0.0->wandb) (2023.11.17)\n",
            "Collecting smmap<6,>=3.0.1 (from gitdb<5,>=4.0.1->GitPython!=3.1.29,>=1.0.0->wandb)\n",
            "  Downloading smmap-5.0.1-py3-none-any.whl (24 kB)\n",
            "Installing collected packages: smmap, setproctitle, sentry-sdk, docker-pycreds, Click, gitdb, GitPython, wandb\n",
            "  Attempting uninstall: Click\n",
            "    Found existing installation: Click 7.0\n",
            "    Uninstalling Click-7.0:\n",
            "      Successfully uninstalled Click-7.0\n",
            "\u001b[31mERROR: pip's dependency resolver does not currently take into account all the packages that are installed. This behaviour is the source of the following dependency conflicts.\n",
            "lida 0.0.10 requires fastapi, which is not installed.\n",
            "lida 0.0.10 requires python-multipart, which is not installed.\n",
            "lida 0.0.10 requires uvicorn, which is not installed.\n",
            "zero 0.9.1 requires Click==7.0, but you have click 8.1.7 which is incompatible.\u001b[0m\u001b[31m\n",
            "\u001b[0mSuccessfully installed Click-8.1.7 GitPython-3.1.40 docker-pycreds-0.4.0 gitdb-4.0.11 sentry-sdk-1.38.0 setproctitle-1.3.3 smmap-5.0.1 wandb-0.16.1\n",
            "CPU times: user 1.74 s, sys: 257 ms, total: 1.99 s\n",
            "Wall time: 3min 32s\n"
          ]
        }
      ],
      "source": [
        "%%time\n",
        "!pip install optuna\n",
        "!pip install kaleido\n",
        "\n",
        "# !pip install -r /content/drive/MyDrive/tab-ddpm/requirements.txt\n",
        "!pip install zero\n",
        "!pip install icecream\n",
        "!pip install category_encoders\n",
        "!pip install tomli_w\n",
        "!pip install rtdl\n",
        "!pip install catboost\n",
        "!pip install libzero==0.0.8\n",
        "!pip install -U skorch\n",
        "!pip install dython==0.6.4.post1\n",
        "!pip install wandb"
      ]
    },
    {
      "cell_type": "markdown",
      "metadata": {
        "id": "JF2PlNeHWLCg"
      },
      "source": [
        "# Import Packages\n"
      ]
    },
    {
      "cell_type": "code",
      "execution_count": null,
      "metadata": {
        "id": "3G3gxoL2WOsF"
      },
      "outputs": [],
      "source": [
        "import pandas as pd\n",
        "import numpy as np\n",
        "import sys\n",
        "import os\n",
        "sys.path.append('/content/drive/MyDrive/ThesisFinal')\n",
        "from self import *\n",
        "from self import Vime, Scarf\n",
        "from supervised import *\n",
        "from generative import *\n",
        "from generative import CTGAN\n",
        "from utils import *\n",
        "from utils import FeatureEngineering"
      ]
    },
    {
      "cell_type": "code",
      "execution_count": null,
      "metadata": {
        "id": "A1sHJ-vyWg3F"
      },
      "outputs": [],
      "source": [
        "from importlib import reload\n",
        "supervised = reload(sys.modules[\"supervised\"])\n",
        "from supervised import *\n",
        "\n",
        "\n",
        "\n",
        "utils = reload(sys.modules[\"utils\"])\n",
        "from utils import *\n",
        "self = reload(sys.modules[\"self\"])\n",
        "from self import *\n",
        "from self import Vime, Scarf"
      ]
    },
    {
      "cell_type": "code",
      "execution_count": null,
      "metadata": {
        "id": "eKzBxeI3-Scl"
      },
      "outputs": [],
      "source": [
        "SMOTETuner = reload(sys.modules[\"generative\"]).SMOTETuner"
      ]
    },
    {
      "cell_type": "markdown",
      "metadata": {
        "id": "oYezBWyLWcv1"
      },
      "source": [
        "# Import Wandb"
      ]
    },
    {
      "cell_type": "code",
      "execution_count": null,
      "metadata": {
        "colab": {
          "base_uri": "https://localhost:8080/",
          "height": 212
        },
        "id": "V9t61lD-Wk4d",
        "outputId": "9818369a-4788-47c1-b5fa-3b4e59696093"
      },
      "outputs": [
        {
          "output_type": "display_data",
          "data": {
            "text/plain": [
              "<IPython.core.display.Javascript object>"
            ],
            "application/javascript": [
              "\n",
              "        window._wandbApiKey = new Promise((resolve, reject) => {\n",
              "            function loadScript(url) {\n",
              "            return new Promise(function(resolve, reject) {\n",
              "                let newScript = document.createElement(\"script\");\n",
              "                newScript.onerror = reject;\n",
              "                newScript.onload = resolve;\n",
              "                document.body.appendChild(newScript);\n",
              "                newScript.src = url;\n",
              "            });\n",
              "            }\n",
              "            loadScript(\"https://cdn.jsdelivr.net/npm/postmate/build/postmate.min.js\").then(() => {\n",
              "            const iframe = document.createElement('iframe')\n",
              "            iframe.style.cssText = \"width:0;height:0;border:none\"\n",
              "            document.body.appendChild(iframe)\n",
              "            const handshake = new Postmate({\n",
              "                container: iframe,\n",
              "                url: 'https://wandb.ai/authorize'\n",
              "            });\n",
              "            const timeout = setTimeout(() => reject(\"Couldn't auto authenticate\"), 5000)\n",
              "            handshake.then(function(child) {\n",
              "                child.on('authorize', data => {\n",
              "                    clearTimeout(timeout)\n",
              "                    resolve(data)\n",
              "                });\n",
              "            });\n",
              "            })\n",
              "        });\n",
              "    "
            ]
          },
          "metadata": {}
        },
        {
          "output_type": "stream",
          "name": "stderr",
          "text": [
            "\u001b[34m\u001b[1mwandb\u001b[0m: Logging into wandb.ai. (Learn how to deploy a W&B server locally: https://wandb.me/wandb-server)\n",
            "\u001b[34m\u001b[1mwandb\u001b[0m: You can find your API key in your browser here: https://wandb.ai/authorize\n",
            "wandb: Paste an API key from your profile and hit enter, or press ctrl+c to quit:"
          ]
        },
        {
          "name": "stdout",
          "output_type": "stream",
          "text": [
            " ··········\n"
          ]
        },
        {
          "output_type": "stream",
          "name": "stderr",
          "text": [
            "\u001b[34m\u001b[1mwandb\u001b[0m: Appending key for api.wandb.ai to your netrc file: /root/.netrc\n"
          ]
        },
        {
          "output_type": "display_data",
          "data": {
            "text/plain": [
              "<IPython.core.display.HTML object>"
            ],
            "text/html": [
              "Tracking run with wandb version 0.16.1"
            ]
          },
          "metadata": {}
        },
        {
          "output_type": "display_data",
          "data": {
            "text/plain": [
              "<IPython.core.display.HTML object>"
            ],
            "text/html": [
              "Run data is saved locally in <code>/content/wandb/run-20231207_234157-0jnovhl4</code>"
            ]
          },
          "metadata": {}
        },
        {
          "output_type": "display_data",
          "data": {
            "text/plain": [
              "<IPython.core.display.HTML object>"
            ],
            "text/html": [
              "Syncing run <strong><a href='https://wandb.ai/uobproject/experiment3_supervised_generative/runs/0jnovhl4' target=\"_blank\">vibrant-thunder-7</a></strong> to <a href='https://wandb.ai/uobproject/experiment3_supervised_generative' target=\"_blank\">Weights & Biases</a> (<a href='https://wandb.me/run' target=\"_blank\">docs</a>)<br/>"
            ]
          },
          "metadata": {}
        },
        {
          "output_type": "display_data",
          "data": {
            "text/plain": [
              "<IPython.core.display.HTML object>"
            ],
            "text/html": [
              " View project at <a href='https://wandb.ai/uobproject/experiment3_supervised_generative' target=\"_blank\">https://wandb.ai/uobproject/experiment3_supervised_generative</a>"
            ]
          },
          "metadata": {}
        },
        {
          "output_type": "display_data",
          "data": {
            "text/plain": [
              "<IPython.core.display.HTML object>"
            ],
            "text/html": [
              " View run at <a href='https://wandb.ai/uobproject/experiment3_supervised_generative/runs/0jnovhl4' target=\"_blank\">https://wandb.ai/uobproject/experiment3_supervised_generative/runs/0jnovhl4</a>"
            ]
          },
          "metadata": {}
        },
        {
          "output_type": "execute_result",
          "data": {
            "text/html": [
              "<button onClick=\"this.nextSibling.style.display='block';this.style.display='none';\">Display W&B run</button><iframe src='https://wandb.ai/uobproject/experiment3_supervised_generative/runs/0jnovhl4?jupyter=true' style='border:none;width:100%;height:420px;display:none;'></iframe>"
            ],
            "text/plain": [
              "<wandb.sdk.wandb_run.Run at 0x7a20747b0ac0>"
            ]
          },
          "metadata": {},
          "execution_count": 8
        }
      ],
      "source": [
        "import wandb\n",
        "wandb.init(\n",
        "    project='experiment3_supervised_generative',\n",
        "    config={\n",
        "        'industry_label':{\n",
        "            '绿色环保产业':0,\n",
        "            '生物产业':1,\n",
        "            '新材料产业':2,\n",
        "            '高端装备制造产业':3,\n",
        "            '新一代信息技术产业':4,\n",
        "            '新能源产业':5,\n",
        "            '航空航天产业':6,\n",
        "            '海洋工程装备产业':3,\n",
        "            '新能源汽车产业':5\n",
        "\n",
        "        },\n",
        "        'categorical_encoding':'ordinary encoding',\n",
        "        'numerical imputation':'median',\n",
        "        'data normalization':'quantile',\n",
        "        'dimension reduction':None,\n",
        "        'feature enginerring':'xgboost + random forest'\n",
        "\n",
        "\n",
        "    }\n",
        ")"
      ]
    },
    {
      "cell_type": "markdown",
      "metadata": {
        "id": "B-TLimiSWob9"
      },
      "source": [
        "# Prepare Dir"
      ]
    },
    {
      "cell_type": "code",
      "execution_count": null,
      "metadata": {
        "colab": {
          "base_uri": "https://localhost:8080/"
        },
        "id": "Dio9rvZQWwmH",
        "outputId": "20065e66-21ab-4301-9891-bab90225f58d"
      },
      "outputs": [
        {
          "output_type": "stream",
          "name": "stdout",
          "text": [
            "/content/drive/MyDrive/ThesisFinal/experiment3/results\n",
            "/content/drive/MyDrive/ThesisFinal/EDA/exp3\n",
            "/content/drive/MyDrive/ThesisFinal/experiment3/results/supervised\n",
            "/content/drive/MyDrive/ThesisFinal/experiment3/results/supervised/xgb_features\n",
            "/content/drive/MyDrive/ThesisFinal/experiment3/results/supervised/rf_features\n",
            "/content/drive/MyDrive/ThesisFinal/experiment3/results/supervised/keep_features\n",
            "/content/drive/MyDrive/ThesisFinal/experiment3/results/supervised/small_features\n",
            "/content/drive/MyDrive/ThesisFinal/experiment3/results/fine_tuning\n",
            "/content/drive/MyDrive/ThesisFinal/experiment3/results/self\n",
            "/content/drive/MyDrive/ThesisFinal/experiment3/results/self/VIME\n",
            "/content/drive/MyDrive/ThesisFinal/experiment3/results/self/SCARF\n",
            "/content/drive/MyDrive/ThesisFinal/experiment3/experiment3/smote_fake\n",
            "/content/drive/MyDrive/ThesisFinal/experiment3/experiment3/ctgan+\n",
            "/content/drive/MyDrive/ThesisFinal/experiment3/results/smote\n",
            "/content/drive/MyDrive/ThesisFinal/experiment3/results/ctgan+\n"
          ]
        }
      ],
      "source": [
        "_EXP3_DATA_DIR = '/content/drive/MyDrive/ThesisFinal/experiment3/experiment3'\n",
        "_EDA_DIR = '/content/drive/MyDrive/ThesisFinal/EDA'\n",
        "_DICT_DIR = '/content/drive/MyDrive/ThesisFinal/dict'\n",
        "_PARENT_DIR = '/content/drive/MyDrive/ThesisFinal/experiment3'\n",
        "_RESULTS_DIR = create_dir(_PARENT_DIR,'results')\n",
        "_EXP3_EDA_DIR = create_dir(_EDA_DIR,'exp3')\n",
        "_SUPERVISED_RESULTS_DIR = create_dir(_RESULTS_DIR,'supervised')\n",
        "_SUPERVISED_XGB_RESULTS_DIR = create_dir(_SUPERVISED_RESULTS_DIR,'xgb_features')\n",
        "_SUPERVISED_RF_RESULTS_DIR = create_dir(_SUPERVISED_RESULTS_DIR,'rf_features')\n",
        "_SUPERVISED_COMBINE_RESULTS_DIR = create_dir(_SUPERVISED_RESULTS_DIR,'keep_features')\n",
        "_SUPERVISED_SMALL_RESULTS_DIR = create_dir(_SUPERVISED_RESULTS_DIR,'small_features')\n",
        "_SUPERVISED_FINETUNING = create_dir(_RESULTS_DIR,'fine_tuning')\n",
        "_SELF_RESULTS_DIR = create_dir(_RESULTS_DIR,'self')\n",
        "_SELF_VIME_RESULTS_DIR = create_dir(_SELF_RESULTS_DIR,'VIME')\n",
        "\n",
        "_SELF_SCARF_RESULTS_DIR = create_dir(_SELF_RESULTS_DIR,'SCARF')\n",
        "_GEN_SMOTE_DIR = create_dir(_EXP3_DATA_DIR,'smote_fake')\n",
        "_GEN_CTGANPLUS_DIR = create_dir(_EXP3_DATA_DIR,'ctgan+')\n",
        "_GEN_SMOTE_RESULT_DIR = create_dir(_RESULTS_DIR,'smote')\n",
        "_GEN_CTGANPLUS_RESULT_DIR = create_dir(_RESULTS_DIR,'ctgan+')"
      ]
    },
    {
      "cell_type": "code",
      "execution_count": null,
      "metadata": {
        "colab": {
          "base_uri": "https://localhost:8080/"
        },
        "id": "poCoVdwMtvig",
        "outputId": "d9ab39ea-4ca4-4a2a-9a38-aa2c740a16d9"
      },
      "outputs": [
        {
          "output_type": "stream",
          "name": "stdout",
          "text": [
            "/content/drive/MyDrive/ThesisFinal/experiment3/results/all_features\n"
          ]
        }
      ],
      "source": [
        "_SUPERVISED_ALL_RESULTS_DIR = create_dir(_RESULTS_DIR,'all_features')"
      ]
    },
    {
      "cell_type": "markdown",
      "metadata": {
        "id": "OT97iuH6W1La"
      },
      "source": [
        "# Load Data"
      ]
    },
    {
      "cell_type": "code",
      "execution_count": null,
      "metadata": {
        "colab": {
          "base_uri": "https://localhost:8080/"
        },
        "id": "1bGtn-8kW3BX",
        "outputId": "29789d13-7563-478f-e57d-0b4701ad583f"
      },
      "outputs": [
        {
          "output_type": "stream",
          "name": "stdout",
          "text": [
            "CPU times: user 812 ms, sys: 95.3 ms, total: 907 ms\n",
            "Wall time: 4.98 s\n"
          ]
        }
      ],
      "source": [
        "%%time\n",
        "X_train = load_data(_EXP3_DATA_DIR,'X_train')\n",
        "X_valid = load_data(_EXP3_DATA_DIR,'X_valid')\n",
        "X_test = load_data(_EXP3_DATA_DIR,'X_test')\n",
        "y_train = load_data(_EXP3_DATA_DIR,'y_train')\n",
        "y_test = load_data(_EXP3_DATA_DIR,'y_test')\n",
        "y_valid = load_data(_EXP3_DATA_DIR,'y_valid')\n",
        "X_unlabel = load_data(_EXP3_DATA_DIR,'X_unlabel')\n",
        "df = load_data(_EXP3_DATA_DIR,'industry_label')"
      ]
    },
    {
      "cell_type": "code",
      "execution_count": null,
      "metadata": {
        "colab": {
          "base_uri": "https://localhost:8080/"
        },
        "id": "Giy8_IBfjVUG",
        "outputId": "9fda020a-ea7d-46a1-dfdb-2b6d1e70b83d"
      },
      "outputs": [
        {
          "output_type": "stream",
          "name": "stdout",
          "text": [
            "Drive already mounted at /content/drive; to attempt to forcibly remount, call drive.mount(\"/content/drive\", force_remount=True).\n"
          ]
        }
      ],
      "source": [
        "from google.colab import drive\n",
        "drive.mount('/content/drive')"
      ]
    },
    {
      "cell_type": "code",
      "execution_count": null,
      "metadata": {
        "colab": {
          "base_uri": "https://localhost:8080/"
        },
        "id": "OCUYMtT6W5yX",
        "outputId": "4a9c01e5-abee-4af2-86f3-302a5bffce6a"
      },
      "outputs": [
        {
          "output_type": "stream",
          "name": "stdout",
          "text": [
            "train:\n",
            " features: (1525, 603)\n",
            " target (1525, 1)\n",
            "valid:\n",
            " features: (170, 603)\n",
            " target (170, 1)\n",
            "test:\n",
            " features: (727, 603)\n",
            " target (727, 1)\n",
            "unlbel:\n",
            " features: (4994, 603)\n",
            " target: None\n"
          ]
        }
      ],
      "source": [
        "target='industry'\n",
        "\n",
        "print('train:')\n",
        "print(' features:',X_train.shape)\n",
        "print(' target',y_train.shape)\n",
        "\n",
        "print('valid:')\n",
        "print(' features:',X_valid.shape)\n",
        "print(' target',y_valid.shape)\n",
        "\n",
        "print('test:')\n",
        "print(' features:',X_test.shape)\n",
        "print(' target',y_test.shape)\n",
        "\n",
        "print('unlbel:')\n",
        "print(' features:',X_unlabel.shape)\n",
        "print(' target:',None)"
      ]
    },
    {
      "cell_type": "code",
      "execution_count": null,
      "metadata": {
        "colab": {
          "base_uri": "https://localhost:8080/",
          "height": 517
        },
        "id": "CxnYMsKfW7oE",
        "outputId": "877d55af-fe72-417e-c128-4028449fbbf1"
      },
      "outputs": [
        {
          "output_type": "display_data",
          "data": {
            "text/html": [
              "<html>\n",
              "<head><meta charset=\"utf-8\" /></head>\n",
              "<body>\n",
              "    <div>            <script src=\"https://cdnjs.cloudflare.com/ajax/libs/mathjax/2.7.5/MathJax.js?config=TeX-AMS-MML_SVG\"></script><script type=\"text/javascript\">if (window.MathJax && window.MathJax.Hub && window.MathJax.Hub.Config) {window.MathJax.Hub.Config({SVG: {font: \"STIX-Web\"}});}</script>                <script type=\"text/javascript\">window.PlotlyConfig = {MathJaxConfig: 'local'};</script>\n",
              "        <script charset=\"utf-8\" src=\"https://cdn.plot.ly/plotly-2.24.1.min.js\"></script>                <div id=\"110c2242-f997-46db-8898-996a53970f48\" class=\"plotly-graph-div\" style=\"height:500px; width:600px;\"></div>            <script type=\"text/javascript\">                                    window.PLOTLYENV=window.PLOTLYENV || {};                                    if (document.getElementById(\"110c2242-f997-46db-8898-996a53970f48\")) {                    Plotly.newPlot(                        \"110c2242-f997-46db-8898-996a53970f48\",                        [{\"alignmentgroup\":\"True\",\"bingroup\":\"x\",\"hovertemplate\":\"industry=%{x}\\u003cbr\\u003ecount=%{y}\\u003cextra\\u003e\\u003c\\u002fextra\\u003e\",\"legendgroup\":\"\",\"marker\":{\"color\":\"black\",\"pattern\":{\"shape\":\"\"}},\"name\":\"\",\"offsetgroup\":\"\",\"orientation\":\"v\",\"showlegend\":false,\"texttemplate\":\"%{value}\",\"x\":[2.0,4.0,4.0,5.0,2.0,0.0,3.0,3.0,4.0,1.0,1.0,0.0,5.0,4.0,3.0,1.0,1.0,4.0,4.0,0.0,3.0,3.0,0.0,0.0,1.0,4.0,3.0,0.0,0.0,0.0,0.0,5.0,2.0,0.0,0.0,4.0,0.0,6.0,1.0,4.0,0.0,2.0,1.0,0.0,0.0,1.0,0.0,2.0,0.0,4.0,0.0,3.0,4.0,0.0,3.0,0.0,4.0,1.0,5.0,6.0,3.0,5.0,1.0,5.0,2.0,1.0,2.0,6.0,3.0,3.0,0.0,0.0,1.0,0.0,1.0,3.0,5.0,0.0,5.0,6.0,1.0,1.0,0.0,0.0,1.0,1.0,3.0,1.0,1.0,0.0,5.0,2.0,3.0,2.0,4.0,4.0,3.0,4.0,1.0,0.0,3.0,1.0,0.0,0.0,6.0,0.0,5.0,0.0,0.0,0.0,4.0,1.0,2.0,2.0,3.0,3.0,2.0,4.0,4.0,6.0,1.0,4.0,0.0,4.0,2.0,2.0,0.0,0.0,4.0,4.0,0.0,1.0,0.0,3.0,3.0,0.0,1.0,0.0,0.0,6.0,3.0,0.0,1.0,6.0,2.0,0.0,1.0,1.0,1.0,0.0,0.0,3.0,0.0,3.0,0.0,1.0,4.0,1.0,3.0,4.0,2.0,0.0,1.0,5.0,4.0,0.0,0.0,0.0,6.0,0.0,2.0,3.0,4.0,1.0,2.0,1.0,0.0,1.0,0.0,4.0,1.0,0.0,3.0,4.0,3.0,1.0,2.0,0.0,5.0,0.0,3.0,1.0,3.0,3.0,4.0,0.0,3.0,4.0,0.0,1.0,4.0,0.0,0.0,4.0,2.0,0.0,0.0,1.0,0.0,2.0,3.0,2.0,1.0,4.0,0.0,3.0,4.0,1.0,0.0,0.0,2.0,0.0,1.0,4.0,3.0,0.0,0.0,2.0,4.0,0.0,1.0,4.0,0.0,4.0,4.0,3.0,4.0,4.0,2.0,1.0,0.0,0.0,2.0,5.0,0.0,4.0,5.0,1.0,0.0,3.0,4.0,1.0,4.0,0.0,2.0,3.0,0.0,2.0,6.0,0.0,3.0,0.0,0.0,4.0,0.0,4.0,1.0,3.0,3.0,5.0,6.0,4.0,0.0,0.0,3.0,1.0,3.0,1.0,4.0,0.0,1.0,4.0,1.0,3.0,2.0,5.0,0.0,0.0,0.0,0.0,3.0,2.0,0.0,2.0,1.0,2.0,3.0,2.0,0.0,3.0,1.0,3.0,4.0,4.0,1.0,0.0,4.0,4.0,0.0,4.0,3.0,2.0,0.0,3.0,2.0,0.0,1.0,3.0,1.0,1.0,1.0,0.0,3.0,5.0,2.0,0.0,0.0,2.0,3.0,0.0,0.0,3.0,1.0,4.0,3.0,0.0,3.0,1.0,2.0,1.0,3.0,1.0,3.0,2.0,2.0,0.0,2.0,1.0,1.0,1.0,0.0,0.0,0.0,0.0,1.0,2.0,1.0,4.0,2.0,6.0,2.0,0.0,0.0,3.0,5.0,2.0,4.0,0.0,4.0,4.0,1.0,5.0,4.0,3.0,0.0,3.0,0.0,0.0,0.0,1.0,4.0,2.0,2.0,0.0,0.0,5.0,2.0,0.0,1.0,2.0,3.0,2.0,2.0,2.0,3.0,1.0,2.0,0.0,0.0,5.0,2.0,4.0,1.0,4.0,1.0,0.0,2.0,2.0,4.0,4.0,1.0,0.0,2.0,1.0,0.0,2.0,4.0,0.0,6.0,0.0,0.0,0.0,2.0,3.0,5.0,0.0,0.0,1.0,3.0,0.0,2.0,2.0,4.0,0.0,2.0,5.0,4.0,2.0,0.0,2.0,0.0,4.0,0.0,2.0,6.0,6.0,0.0,0.0,0.0,4.0,6.0,0.0,5.0,1.0,1.0,0.0,5.0,3.0,4.0,1.0,0.0,0.0,1.0,2.0,2.0,2.0,3.0,2.0,0.0,4.0,2.0,4.0,3.0,0.0,2.0,4.0,1.0,2.0,0.0,0.0,1.0,0.0,6.0,0.0,0.0,1.0,1.0,2.0,0.0,1.0,1.0,0.0,0.0,1.0,3.0,2.0,2.0,4.0,0.0,3.0,0.0,0.0,0.0,1.0,4.0,0.0,0.0,0.0,5.0,2.0,6.0,6.0,2.0,0.0,0.0,0.0,0.0,1.0,1.0,1.0,3.0,0.0,4.0,3.0,0.0,0.0,2.0,3.0,1.0,5.0,3.0,0.0,3.0,1.0,2.0,0.0,0.0,0.0,0.0,3.0,0.0,0.0,1.0,3.0,6.0,4.0,1.0,0.0,3.0,4.0,0.0,1.0,6.0,4.0,0.0,6.0,0.0,3.0,2.0,0.0,0.0,0.0,1.0,1.0,2.0,3.0,0.0,1.0,3.0,4.0,3.0,3.0,4.0,4.0,0.0,5.0,0.0,1.0,1.0,3.0,0.0,6.0,0.0,0.0,0.0,6.0,2.0,3.0,1.0,0.0,3.0,0.0,4.0,3.0,0.0,3.0,4.0,4.0,1.0,4.0,4.0,3.0,3.0,4.0,0.0,1.0,4.0,0.0,4.0,0.0,2.0,0.0,4.0,0.0,0.0,4.0,3.0,2.0,5.0,0.0,0.0,1.0,1.0,6.0,0.0,0.0,6.0,4.0,0.0,1.0,1.0,3.0,4.0,0.0,1.0,0.0,3.0,0.0,0.0,2.0,0.0,4.0,0.0,4.0,2.0,1.0,0.0,2.0,3.0,0.0,1.0,4.0,5.0,3.0,1.0,3.0,2.0,3.0,1.0,5.0,2.0,3.0,4.0,6.0,0.0,1.0,5.0,4.0,2.0,3.0,0.0,0.0,0.0,4.0,2.0,2.0,0.0,1.0,4.0,3.0,1.0,0.0,1.0,2.0,0.0,2.0,2.0,2.0,6.0,1.0,0.0,0.0,0.0,1.0,1.0,4.0,4.0,0.0,3.0,0.0,1.0,0.0,1.0,5.0,0.0,3.0,0.0,3.0,3.0,0.0,3.0,0.0,1.0,0.0,4.0,2.0,1.0,3.0,0.0,2.0,4.0,0.0,4.0,3.0,2.0,5.0,6.0,0.0,4.0,0.0,0.0,1.0,0.0,3.0,1.0,3.0,3.0,1.0,1.0,2.0,1.0,2.0,1.0,0.0,0.0,3.0,0.0,0.0,0.0,0.0,4.0,5.0,0.0,0.0,6.0,0.0,2.0,4.0,1.0,0.0,3.0,3.0,0.0,0.0,0.0,0.0,3.0,0.0,5.0,1.0,0.0,2.0,4.0,2.0,3.0,0.0,3.0,3.0,4.0,4.0,3.0,0.0,4.0,3.0,0.0,0.0,2.0,0.0,4.0,2.0,4.0,2.0,2.0,6.0,3.0,0.0,0.0,0.0,0.0,2.0,2.0,2.0,0.0,3.0,1.0,0.0,2.0,6.0,3.0,5.0,0.0,3.0,2.0,1.0,3.0,2.0,0.0,0.0,3.0,4.0,0.0,3.0,0.0,1.0,1.0,2.0,6.0,5.0,5.0,2.0,1.0,0.0,5.0,0.0,0.0,4.0,3.0,0.0,1.0,3.0,0.0,2.0,1.0,4.0,3.0,2.0,4.0,2.0,3.0,2.0,2.0,1.0,6.0,4.0,2.0,4.0,2.0,3.0,1.0,3.0,3.0,4.0,2.0,3.0,1.0,4.0,0.0,0.0,2.0,2.0,4.0,4.0,4.0,4.0,4.0,4.0,3.0,2.0,0.0,0.0,0.0,1.0,0.0,4.0,4.0,5.0,2.0,4.0,2.0,0.0,6.0,4.0,5.0,3.0,1.0,0.0,3.0,3.0,0.0,2.0,2.0,3.0,3.0,2.0,2.0,0.0,6.0,5.0,0.0,2.0,4.0,1.0,3.0,1.0,1.0,0.0,2.0,3.0,4.0,0.0,4.0,1.0,4.0,1.0,4.0,2.0,4.0,0.0,4.0,2.0,5.0,0.0,3.0,0.0,0.0,4.0,3.0,3.0,1.0,1.0,1.0,0.0,4.0,0.0,2.0,3.0,6.0,0.0,1.0,1.0,1.0,0.0,1.0,1.0,0.0,0.0,3.0,4.0,5.0,3.0,2.0,2.0,0.0,2.0,4.0,1.0,0.0,1.0,1.0,0.0,2.0,3.0,4.0,1.0,5.0,0.0,0.0,4.0,1.0,1.0,1.0,0.0,4.0,4.0,0.0,1.0,0.0,3.0,4.0,1.0,4.0,0.0,2.0,0.0,4.0,4.0,1.0,3.0,3.0,0.0,0.0,5.0,1.0,3.0,4.0,1.0,4.0,1.0,0.0,1.0,3.0,0.0,5.0,4.0,3.0,1.0,3.0,0.0,4.0,2.0,3.0,0.0,0.0,0.0,4.0,4.0,0.0,0.0,3.0,2.0,1.0,5.0,3.0,2.0,0.0,0.0,3.0,1.0,0.0,1.0,1.0,0.0,3.0,1.0,2.0,5.0,0.0,0.0,3.0,5.0,1.0,3.0,0.0,0.0,6.0,4.0,0.0,4.0,3.0,0.0,1.0,4.0,6.0,4.0,0.0,3.0,3.0,3.0,0.0,4.0,4.0,0.0,0.0,0.0,3.0,0.0,0.0,4.0,0.0,5.0,2.0,0.0,0.0,5.0,1.0,1.0,2.0,3.0,2.0,0.0,0.0,2.0,5.0,1.0,1.0,1.0,4.0,0.0,0.0,0.0,1.0,1.0,1.0,4.0,0.0,3.0,4.0,3.0,4.0,6.0,4.0,0.0,3.0,1.0,4.0,1.0,0.0,1.0,1.0,0.0,3.0,4.0,0.0,1.0,1.0,1.0,0.0,0.0,3.0,2.0,0.0,4.0,4.0,0.0,4.0,0.0,1.0,3.0,2.0,3.0,0.0,1.0,2.0,4.0,0.0,4.0,1.0,0.0,0.0,3.0,0.0,4.0,0.0,2.0,0.0,5.0,1.0,5.0,2.0,6.0,0.0,4.0,2.0,1.0,0.0,2.0,0.0,2.0,0.0,0.0,0.0,2.0,0.0,1.0,3.0,0.0,3.0,4.0,6.0,1.0,1.0,1.0,1.0,0.0,6.0,0.0,0.0,4.0,3.0,3.0,4.0,1.0,4.0,0.0,3.0,3.0,0.0,4.0,1.0,4.0,0.0,0.0,0.0,1.0,0.0,4.0,0.0,0.0,0.0,5.0,0.0,3.0,1.0,1.0,0.0,4.0,1.0,4.0,0.0,0.0,1.0,1.0,2.0,1.0,0.0,0.0,4.0,2.0,0.0,2.0,2.0,0.0,4.0,1.0,0.0,3.0,2.0,5.0,2.0,0.0,1.0,1.0,0.0,0.0,2.0,4.0,2.0,1.0,1.0,5.0,0.0,6.0,1.0,4.0,0.0,1.0,3.0,0.0,1.0,1.0,2.0,0.0,0.0,2.0,3.0,0.0,1.0,3.0,2.0,3.0,1.0,1.0,0.0,1.0,4.0,2.0,4.0,6.0,1.0,0.0,4.0,0.0,0.0,1.0,1.0,4.0,4.0,5.0,0.0,0.0,0.0,5.0,4.0,4.0,4.0,3.0,6.0,6.0,4.0,2.0,0.0,2.0,1.0,0.0,4.0,0.0,3.0,5.0,0.0,3.0,3.0,0.0,0.0,1.0,0.0,1.0,0.0,1.0,2.0,2.0,0.0,0.0,1.0,0.0,1.0,0.0,2.0,0.0,0.0,1.0,1.0,0.0,0.0,1.0,3.0,4.0,6.0,1.0,1.0,0.0,0.0,2.0,0.0,0.0,0.0,4.0,0.0,0.0,4.0,2.0,0.0,1.0,3.0,0.0,2.0,3.0,2.0,1.0,0.0,3.0,0.0,2.0,1.0,0.0,1.0,4.0,0.0,2.0,1.0,0.0,0.0,0.0,3.0,2.0,4.0,3.0,3.0,4.0,3.0,3.0,2.0,3.0,3.0,6.0,3.0,2.0,4.0,0.0,4.0,2.0,1.0,3.0,4.0,1.0,4.0,3.0,4.0,3.0,1.0,0.0,0.0,1.0,1.0,0.0,0.0,3.0,2.0,2.0,0.0,0.0,0.0,2.0,1.0,2.0,2.0,1.0,0.0,0.0,4.0,1.0,0.0,2.0,3.0,1.0,2.0,0.0,2.0,3.0,2.0,4.0,0.0,0.0,2.0,1.0,0.0,5.0,4.0,0.0,6.0,0.0,2.0,0.0,0.0,0.0,0.0,1.0,0.0,2.0,0.0,2.0,1.0,3.0,1.0,2.0,1.0,0.0,0.0,1.0,1.0,4.0,2.0,1.0,6.0,1.0,4.0,1.0,0.0,2.0,0.0,4.0,0.0,5.0,2.0,0.0,1.0,1.0,3.0,0.0,1.0,0.0,0.0,2.0,0.0,4.0,3.0,2.0,0.0,2.0,0.0,0.0,0.0,0.0,0.0,2.0,1.0,0.0,3.0,3.0,1.0,4.0,6.0,2.0,3.0,6.0,0.0,2.0,0.0,0.0,6.0,2.0,3.0,2.0,1.0,0.0,4.0,4.0,0.0,0.0,0.0,3.0,5.0,3.0,5.0,1.0,2.0],\"xaxis\":\"x\",\"yaxis\":\"y\",\"type\":\"histogram\"}],                        {\"template\":{\"data\":{\"histogram2dcontour\":[{\"type\":\"histogram2dcontour\",\"colorbar\":{\"outlinewidth\":0,\"ticks\":\"\"},\"colorscale\":[[0.0,\"#0d0887\"],[0.1111111111111111,\"#46039f\"],[0.2222222222222222,\"#7201a8\"],[0.3333333333333333,\"#9c179e\"],[0.4444444444444444,\"#bd3786\"],[0.5555555555555556,\"#d8576b\"],[0.6666666666666666,\"#ed7953\"],[0.7777777777777778,\"#fb9f3a\"],[0.8888888888888888,\"#fdca26\"],[1.0,\"#f0f921\"]]}],\"choropleth\":[{\"type\":\"choropleth\",\"colorbar\":{\"outlinewidth\":0,\"ticks\":\"\"}}],\"histogram2d\":[{\"type\":\"histogram2d\",\"colorbar\":{\"outlinewidth\":0,\"ticks\":\"\"},\"colorscale\":[[0.0,\"#0d0887\"],[0.1111111111111111,\"#46039f\"],[0.2222222222222222,\"#7201a8\"],[0.3333333333333333,\"#9c179e\"],[0.4444444444444444,\"#bd3786\"],[0.5555555555555556,\"#d8576b\"],[0.6666666666666666,\"#ed7953\"],[0.7777777777777778,\"#fb9f3a\"],[0.8888888888888888,\"#fdca26\"],[1.0,\"#f0f921\"]]}],\"heatmap\":[{\"type\":\"heatmap\",\"colorbar\":{\"outlinewidth\":0,\"ticks\":\"\"},\"colorscale\":[[0.0,\"#0d0887\"],[0.1111111111111111,\"#46039f\"],[0.2222222222222222,\"#7201a8\"],[0.3333333333333333,\"#9c179e\"],[0.4444444444444444,\"#bd3786\"],[0.5555555555555556,\"#d8576b\"],[0.6666666666666666,\"#ed7953\"],[0.7777777777777778,\"#fb9f3a\"],[0.8888888888888888,\"#fdca26\"],[1.0,\"#f0f921\"]]}],\"heatmapgl\":[{\"type\":\"heatmapgl\",\"colorbar\":{\"outlinewidth\":0,\"ticks\":\"\"},\"colorscale\":[[0.0,\"#0d0887\"],[0.1111111111111111,\"#46039f\"],[0.2222222222222222,\"#7201a8\"],[0.3333333333333333,\"#9c179e\"],[0.4444444444444444,\"#bd3786\"],[0.5555555555555556,\"#d8576b\"],[0.6666666666666666,\"#ed7953\"],[0.7777777777777778,\"#fb9f3a\"],[0.8888888888888888,\"#fdca26\"],[1.0,\"#f0f921\"]]}],\"contourcarpet\":[{\"type\":\"contourcarpet\",\"colorbar\":{\"outlinewidth\":0,\"ticks\":\"\"}}],\"contour\":[{\"type\":\"contour\",\"colorbar\":{\"outlinewidth\":0,\"ticks\":\"\"},\"colorscale\":[[0.0,\"#0d0887\"],[0.1111111111111111,\"#46039f\"],[0.2222222222222222,\"#7201a8\"],[0.3333333333333333,\"#9c179e\"],[0.4444444444444444,\"#bd3786\"],[0.5555555555555556,\"#d8576b\"],[0.6666666666666666,\"#ed7953\"],[0.7777777777777778,\"#fb9f3a\"],[0.8888888888888888,\"#fdca26\"],[1.0,\"#f0f921\"]]}],\"surface\":[{\"type\":\"surface\",\"colorbar\":{\"outlinewidth\":0,\"ticks\":\"\"},\"colorscale\":[[0.0,\"#0d0887\"],[0.1111111111111111,\"#46039f\"],[0.2222222222222222,\"#7201a8\"],[0.3333333333333333,\"#9c179e\"],[0.4444444444444444,\"#bd3786\"],[0.5555555555555556,\"#d8576b\"],[0.6666666666666666,\"#ed7953\"],[0.7777777777777778,\"#fb9f3a\"],[0.8888888888888888,\"#fdca26\"],[1.0,\"#f0f921\"]]}],\"mesh3d\":[{\"type\":\"mesh3d\",\"colorbar\":{\"outlinewidth\":0,\"ticks\":\"\"}}],\"scatter\":[{\"fillpattern\":{\"fillmode\":\"overlay\",\"size\":10,\"solidity\":0.2},\"type\":\"scatter\"}],\"parcoords\":[{\"type\":\"parcoords\",\"line\":{\"colorbar\":{\"outlinewidth\":0,\"ticks\":\"\"}}}],\"scatterpolargl\":[{\"type\":\"scatterpolargl\",\"marker\":{\"colorbar\":{\"outlinewidth\":0,\"ticks\":\"\"}}}],\"bar\":[{\"error_x\":{\"color\":\"#2a3f5f\"},\"error_y\":{\"color\":\"#2a3f5f\"},\"marker\":{\"line\":{\"color\":\"#E5ECF6\",\"width\":0.5},\"pattern\":{\"fillmode\":\"overlay\",\"size\":10,\"solidity\":0.2}},\"type\":\"bar\"}],\"scattergeo\":[{\"type\":\"scattergeo\",\"marker\":{\"colorbar\":{\"outlinewidth\":0,\"ticks\":\"\"}}}],\"scatterpolar\":[{\"type\":\"scatterpolar\",\"marker\":{\"colorbar\":{\"outlinewidth\":0,\"ticks\":\"\"}}}],\"histogram\":[{\"marker\":{\"pattern\":{\"fillmode\":\"overlay\",\"size\":10,\"solidity\":0.2}},\"type\":\"histogram\"}],\"scattergl\":[{\"type\":\"scattergl\",\"marker\":{\"colorbar\":{\"outlinewidth\":0,\"ticks\":\"\"}}}],\"scatter3d\":[{\"type\":\"scatter3d\",\"line\":{\"colorbar\":{\"outlinewidth\":0,\"ticks\":\"\"}},\"marker\":{\"colorbar\":{\"outlinewidth\":0,\"ticks\":\"\"}}}],\"scattermapbox\":[{\"type\":\"scattermapbox\",\"marker\":{\"colorbar\":{\"outlinewidth\":0,\"ticks\":\"\"}}}],\"scatterternary\":[{\"type\":\"scatterternary\",\"marker\":{\"colorbar\":{\"outlinewidth\":0,\"ticks\":\"\"}}}],\"scattercarpet\":[{\"type\":\"scattercarpet\",\"marker\":{\"colorbar\":{\"outlinewidth\":0,\"ticks\":\"\"}}}],\"carpet\":[{\"aaxis\":{\"endlinecolor\":\"#2a3f5f\",\"gridcolor\":\"white\",\"linecolor\":\"white\",\"minorgridcolor\":\"white\",\"startlinecolor\":\"#2a3f5f\"},\"baxis\":{\"endlinecolor\":\"#2a3f5f\",\"gridcolor\":\"white\",\"linecolor\":\"white\",\"minorgridcolor\":\"white\",\"startlinecolor\":\"#2a3f5f\"},\"type\":\"carpet\"}],\"table\":[{\"cells\":{\"fill\":{\"color\":\"#EBF0F8\"},\"line\":{\"color\":\"white\"}},\"header\":{\"fill\":{\"color\":\"#C8D4E3\"},\"line\":{\"color\":\"white\"}},\"type\":\"table\"}],\"barpolar\":[{\"marker\":{\"line\":{\"color\":\"#E5ECF6\",\"width\":0.5},\"pattern\":{\"fillmode\":\"overlay\",\"size\":10,\"solidity\":0.2}},\"type\":\"barpolar\"}],\"pie\":[{\"automargin\":true,\"type\":\"pie\"}]},\"layout\":{\"autotypenumbers\":\"strict\",\"colorway\":[\"#636efa\",\"#EF553B\",\"#00cc96\",\"#ab63fa\",\"#FFA15A\",\"#19d3f3\",\"#FF6692\",\"#B6E880\",\"#FF97FF\",\"#FECB52\"],\"font\":{\"color\":\"#2a3f5f\"},\"hovermode\":\"closest\",\"hoverlabel\":{\"align\":\"left\"},\"paper_bgcolor\":\"white\",\"plot_bgcolor\":\"#E5ECF6\",\"polar\":{\"bgcolor\":\"#E5ECF6\",\"angularaxis\":{\"gridcolor\":\"white\",\"linecolor\":\"white\",\"ticks\":\"\"},\"radialaxis\":{\"gridcolor\":\"white\",\"linecolor\":\"white\",\"ticks\":\"\"}},\"ternary\":{\"bgcolor\":\"#E5ECF6\",\"aaxis\":{\"gridcolor\":\"white\",\"linecolor\":\"white\",\"ticks\":\"\"},\"baxis\":{\"gridcolor\":\"white\",\"linecolor\":\"white\",\"ticks\":\"\"},\"caxis\":{\"gridcolor\":\"white\",\"linecolor\":\"white\",\"ticks\":\"\"}},\"coloraxis\":{\"colorbar\":{\"outlinewidth\":0,\"ticks\":\"\"}},\"colorscale\":{\"sequential\":[[0.0,\"#0d0887\"],[0.1111111111111111,\"#46039f\"],[0.2222222222222222,\"#7201a8\"],[0.3333333333333333,\"#9c179e\"],[0.4444444444444444,\"#bd3786\"],[0.5555555555555556,\"#d8576b\"],[0.6666666666666666,\"#ed7953\"],[0.7777777777777778,\"#fb9f3a\"],[0.8888888888888888,\"#fdca26\"],[1.0,\"#f0f921\"]],\"sequentialminus\":[[0.0,\"#0d0887\"],[0.1111111111111111,\"#46039f\"],[0.2222222222222222,\"#7201a8\"],[0.3333333333333333,\"#9c179e\"],[0.4444444444444444,\"#bd3786\"],[0.5555555555555556,\"#d8576b\"],[0.6666666666666666,\"#ed7953\"],[0.7777777777777778,\"#fb9f3a\"],[0.8888888888888888,\"#fdca26\"],[1.0,\"#f0f921\"]],\"diverging\":[[0,\"#8e0152\"],[0.1,\"#c51b7d\"],[0.2,\"#de77ae\"],[0.3,\"#f1b6da\"],[0.4,\"#fde0ef\"],[0.5,\"#f7f7f7\"],[0.6,\"#e6f5d0\"],[0.7,\"#b8e186\"],[0.8,\"#7fbc41\"],[0.9,\"#4d9221\"],[1,\"#276419\"]]},\"xaxis\":{\"gridcolor\":\"white\",\"linecolor\":\"white\",\"ticks\":\"\",\"title\":{\"standoff\":15},\"zerolinecolor\":\"white\",\"automargin\":true,\"zerolinewidth\":2},\"yaxis\":{\"gridcolor\":\"white\",\"linecolor\":\"white\",\"ticks\":\"\",\"title\":{\"standoff\":15},\"zerolinecolor\":\"white\",\"automargin\":true,\"zerolinewidth\":2},\"scene\":{\"xaxis\":{\"backgroundcolor\":\"#E5ECF6\",\"gridcolor\":\"white\",\"linecolor\":\"white\",\"showbackground\":true,\"ticks\":\"\",\"zerolinecolor\":\"white\",\"gridwidth\":2},\"yaxis\":{\"backgroundcolor\":\"#E5ECF6\",\"gridcolor\":\"white\",\"linecolor\":\"white\",\"showbackground\":true,\"ticks\":\"\",\"zerolinecolor\":\"white\",\"gridwidth\":2},\"zaxis\":{\"backgroundcolor\":\"#E5ECF6\",\"gridcolor\":\"white\",\"linecolor\":\"white\",\"showbackground\":true,\"ticks\":\"\",\"zerolinecolor\":\"white\",\"gridwidth\":2}},\"shapedefaults\":{\"line\":{\"color\":\"#2a3f5f\"}},\"annotationdefaults\":{\"arrowcolor\":\"#2a3f5f\",\"arrowhead\":0,\"arrowwidth\":1},\"geo\":{\"bgcolor\":\"white\",\"landcolor\":\"#E5ECF6\",\"subunitcolor\":\"white\",\"showland\":true,\"showlakes\":true,\"lakecolor\":\"white\"},\"title\":{\"x\":0.05},\"mapbox\":{\"style\":\"light\"}}},\"xaxis\":{\"anchor\":\"y\",\"domain\":[0.0,1.0],\"title\":{\"text\":\"Class Label\"}},\"yaxis\":{\"anchor\":\"x\",\"domain\":[0.0,1.0],\"title\":{\"text\":\"Frequency\"}},\"legend\":{\"tracegroupgap\":0},\"margin\":{\"t\":60},\"barmode\":\"relative\",\"title\":{\"font\":{\"color\":\"black\",\"size\":20},\"text\":\"Target Distribution\\u003cbr\\u003e\\u003csup\\u003eSource: experiment 3 - train\\u003c\\u002fsup\\u003e\",\"x\":0},\"font\":{\"family\":\"Times New Roman\"},\"plot_bgcolor\":\"rgba(0,0,0,0)\",\"paper_bgcolor\":\"rgba(0,0,0,0)\",\"width\":600,\"height\":500},                        {\"responsive\": true}                    ).then(function(){\n",
              "                            \n",
              "var gd = document.getElementById('110c2242-f997-46db-8898-996a53970f48');\n",
              "var x = new MutationObserver(function (mutations, observer) {{\n",
              "        var display = window.getComputedStyle(gd).display;\n",
              "        if (!display || display === 'none') {{\n",
              "            console.log([gd, 'removed!']);\n",
              "            Plotly.purge(gd);\n",
              "            observer.disconnect();\n",
              "        }}\n",
              "}});\n",
              "\n",
              "// Listen for the removal of the full notebook cells\n",
              "var notebookContainer = gd.closest('#notebook-container');\n",
              "if (notebookContainer) {{\n",
              "    x.observe(notebookContainer, {childList: true});\n",
              "}}\n",
              "\n",
              "// Listen for the clearing of the current output cell\n",
              "var outputEl = gd.closest('.output');\n",
              "if (outputEl) {{\n",
              "    x.observe(outputEl, {childList: true});\n",
              "}}\n",
              "\n",
              "                        })                };                            </script>        </div>\n",
              "</body>\n",
              "</html>"
            ]
          },
          "metadata": {}
        }
      ],
      "source": [
        "target_eda = EDA(data = y_train,\n",
        "                 target=target,\n",
        "                 output_path = _EXP3_EDA_DIR,\n",
        "                 logx = False,\n",
        "                 logy = False)\n",
        "target_eda.plot_hist(file_name='trainset',\n",
        "                     subtitle = 'Source: experiment 3 - train',\n",
        "                     maintitle = 'Target ')"
      ]
    },
    {
      "cell_type": "code",
      "execution_count": null,
      "metadata": {
        "colab": {
          "base_uri": "https://localhost:8080/",
          "height": 517
        },
        "id": "whKlYhfVW8HN",
        "outputId": "8b0c65ea-cf6a-46fe-bb0d-d58820823dad"
      },
      "outputs": [
        {
          "output_type": "display_data",
          "data": {
            "text/html": [
              "<html>\n",
              "<head><meta charset=\"utf-8\" /></head>\n",
              "<body>\n",
              "    <div>            <script src=\"https://cdnjs.cloudflare.com/ajax/libs/mathjax/2.7.5/MathJax.js?config=TeX-AMS-MML_SVG\"></script><script type=\"text/javascript\">if (window.MathJax && window.MathJax.Hub && window.MathJax.Hub.Config) {window.MathJax.Hub.Config({SVG: {font: \"STIX-Web\"}});}</script>                <script type=\"text/javascript\">window.PlotlyConfig = {MathJaxConfig: 'local'};</script>\n",
              "        <script charset=\"utf-8\" src=\"https://cdn.plot.ly/plotly-2.24.1.min.js\"></script>                <div id=\"7e4b54c9-671b-42ac-a155-7cce127739d0\" class=\"plotly-graph-div\" style=\"height:500px; width:600px;\"></div>            <script type=\"text/javascript\">                                    window.PLOTLYENV=window.PLOTLYENV || {};                                    if (document.getElementById(\"7e4b54c9-671b-42ac-a155-7cce127739d0\")) {                    Plotly.newPlot(                        \"7e4b54c9-671b-42ac-a155-7cce127739d0\",                        [{\"alignmentgroup\":\"True\",\"bingroup\":\"x\",\"hovertemplate\":\"industry=%{x}\\u003cbr\\u003ecount=%{y}\\u003cextra\\u003e\\u003c\\u002fextra\\u003e\",\"legendgroup\":\"\",\"marker\":{\"color\":\"black\",\"pattern\":{\"shape\":\"\"}},\"name\":\"\",\"offsetgroup\":\"\",\"orientation\":\"v\",\"showlegend\":false,\"texttemplate\":\"%{value}\",\"x\":[2.0,3.0,3.0,1.0,4.0,1.0,5.0,2.0,3.0,3.0,0.0,4.0,0.0,5.0,0.0,4.0,4.0,1.0,0.0,1.0,1.0,1.0,2.0,1.0,4.0,0.0,0.0,2.0,0.0,2.0,2.0,1.0,3.0,0.0,4.0,1.0,0.0,1.0,0.0,0.0,2.0,2.0,2.0,4.0,3.0,4.0,0.0,0.0,0.0,4.0,0.0,2.0,1.0,6.0,0.0,1.0,5.0,4.0,6.0,0.0,6.0,1.0,3.0,3.0,0.0,3.0,0.0,0.0,2.0,4.0,1.0,3.0,3.0,2.0,4.0,2.0,0.0,2.0,2.0,0.0,0.0,3.0,0.0,1.0,3.0,3.0,0.0,3.0,3.0,4.0,3.0,0.0,0.0,0.0,2.0,4.0,4.0,0.0,3.0,5.0,3.0,4.0,0.0,2.0,0.0,1.0,2.0,0.0,2.0,0.0,0.0,3.0,0.0,6.0,2.0,2.0,1.0,1.0,1.0,4.0,4.0,4.0,0.0,5.0,1.0,1.0,2.0,0.0,1.0,1.0,0.0,0.0,0.0,0.0,0.0,4.0,0.0,0.0,3.0,0.0,2.0,0.0,3.0,2.0,0.0,2.0,2.0,0.0,2.0,1.0,0.0,0.0,2.0,0.0,4.0,2.0,3.0,1.0,3.0,1.0,0.0,0.0,0.0,5.0,2.0,0.0,1.0,1.0,0.0,3.0],\"xaxis\":\"x\",\"yaxis\":\"y\",\"type\":\"histogram\"}],                        {\"template\":{\"data\":{\"histogram2dcontour\":[{\"type\":\"histogram2dcontour\",\"colorbar\":{\"outlinewidth\":0,\"ticks\":\"\"},\"colorscale\":[[0.0,\"#0d0887\"],[0.1111111111111111,\"#46039f\"],[0.2222222222222222,\"#7201a8\"],[0.3333333333333333,\"#9c179e\"],[0.4444444444444444,\"#bd3786\"],[0.5555555555555556,\"#d8576b\"],[0.6666666666666666,\"#ed7953\"],[0.7777777777777778,\"#fb9f3a\"],[0.8888888888888888,\"#fdca26\"],[1.0,\"#f0f921\"]]}],\"choropleth\":[{\"type\":\"choropleth\",\"colorbar\":{\"outlinewidth\":0,\"ticks\":\"\"}}],\"histogram2d\":[{\"type\":\"histogram2d\",\"colorbar\":{\"outlinewidth\":0,\"ticks\":\"\"},\"colorscale\":[[0.0,\"#0d0887\"],[0.1111111111111111,\"#46039f\"],[0.2222222222222222,\"#7201a8\"],[0.3333333333333333,\"#9c179e\"],[0.4444444444444444,\"#bd3786\"],[0.5555555555555556,\"#d8576b\"],[0.6666666666666666,\"#ed7953\"],[0.7777777777777778,\"#fb9f3a\"],[0.8888888888888888,\"#fdca26\"],[1.0,\"#f0f921\"]]}],\"heatmap\":[{\"type\":\"heatmap\",\"colorbar\":{\"outlinewidth\":0,\"ticks\":\"\"},\"colorscale\":[[0.0,\"#0d0887\"],[0.1111111111111111,\"#46039f\"],[0.2222222222222222,\"#7201a8\"],[0.3333333333333333,\"#9c179e\"],[0.4444444444444444,\"#bd3786\"],[0.5555555555555556,\"#d8576b\"],[0.6666666666666666,\"#ed7953\"],[0.7777777777777778,\"#fb9f3a\"],[0.8888888888888888,\"#fdca26\"],[1.0,\"#f0f921\"]]}],\"heatmapgl\":[{\"type\":\"heatmapgl\",\"colorbar\":{\"outlinewidth\":0,\"ticks\":\"\"},\"colorscale\":[[0.0,\"#0d0887\"],[0.1111111111111111,\"#46039f\"],[0.2222222222222222,\"#7201a8\"],[0.3333333333333333,\"#9c179e\"],[0.4444444444444444,\"#bd3786\"],[0.5555555555555556,\"#d8576b\"],[0.6666666666666666,\"#ed7953\"],[0.7777777777777778,\"#fb9f3a\"],[0.8888888888888888,\"#fdca26\"],[1.0,\"#f0f921\"]]}],\"contourcarpet\":[{\"type\":\"contourcarpet\",\"colorbar\":{\"outlinewidth\":0,\"ticks\":\"\"}}],\"contour\":[{\"type\":\"contour\",\"colorbar\":{\"outlinewidth\":0,\"ticks\":\"\"},\"colorscale\":[[0.0,\"#0d0887\"],[0.1111111111111111,\"#46039f\"],[0.2222222222222222,\"#7201a8\"],[0.3333333333333333,\"#9c179e\"],[0.4444444444444444,\"#bd3786\"],[0.5555555555555556,\"#d8576b\"],[0.6666666666666666,\"#ed7953\"],[0.7777777777777778,\"#fb9f3a\"],[0.8888888888888888,\"#fdca26\"],[1.0,\"#f0f921\"]]}],\"surface\":[{\"type\":\"surface\",\"colorbar\":{\"outlinewidth\":0,\"ticks\":\"\"},\"colorscale\":[[0.0,\"#0d0887\"],[0.1111111111111111,\"#46039f\"],[0.2222222222222222,\"#7201a8\"],[0.3333333333333333,\"#9c179e\"],[0.4444444444444444,\"#bd3786\"],[0.5555555555555556,\"#d8576b\"],[0.6666666666666666,\"#ed7953\"],[0.7777777777777778,\"#fb9f3a\"],[0.8888888888888888,\"#fdca26\"],[1.0,\"#f0f921\"]]}],\"mesh3d\":[{\"type\":\"mesh3d\",\"colorbar\":{\"outlinewidth\":0,\"ticks\":\"\"}}],\"scatter\":[{\"fillpattern\":{\"fillmode\":\"overlay\",\"size\":10,\"solidity\":0.2},\"type\":\"scatter\"}],\"parcoords\":[{\"type\":\"parcoords\",\"line\":{\"colorbar\":{\"outlinewidth\":0,\"ticks\":\"\"}}}],\"scatterpolargl\":[{\"type\":\"scatterpolargl\",\"marker\":{\"colorbar\":{\"outlinewidth\":0,\"ticks\":\"\"}}}],\"bar\":[{\"error_x\":{\"color\":\"#2a3f5f\"},\"error_y\":{\"color\":\"#2a3f5f\"},\"marker\":{\"line\":{\"color\":\"#E5ECF6\",\"width\":0.5},\"pattern\":{\"fillmode\":\"overlay\",\"size\":10,\"solidity\":0.2}},\"type\":\"bar\"}],\"scattergeo\":[{\"type\":\"scattergeo\",\"marker\":{\"colorbar\":{\"outlinewidth\":0,\"ticks\":\"\"}}}],\"scatterpolar\":[{\"type\":\"scatterpolar\",\"marker\":{\"colorbar\":{\"outlinewidth\":0,\"ticks\":\"\"}}}],\"histogram\":[{\"marker\":{\"pattern\":{\"fillmode\":\"overlay\",\"size\":10,\"solidity\":0.2}},\"type\":\"histogram\"}],\"scattergl\":[{\"type\":\"scattergl\",\"marker\":{\"colorbar\":{\"outlinewidth\":0,\"ticks\":\"\"}}}],\"scatter3d\":[{\"type\":\"scatter3d\",\"line\":{\"colorbar\":{\"outlinewidth\":0,\"ticks\":\"\"}},\"marker\":{\"colorbar\":{\"outlinewidth\":0,\"ticks\":\"\"}}}],\"scattermapbox\":[{\"type\":\"scattermapbox\",\"marker\":{\"colorbar\":{\"outlinewidth\":0,\"ticks\":\"\"}}}],\"scatterternary\":[{\"type\":\"scatterternary\",\"marker\":{\"colorbar\":{\"outlinewidth\":0,\"ticks\":\"\"}}}],\"scattercarpet\":[{\"type\":\"scattercarpet\",\"marker\":{\"colorbar\":{\"outlinewidth\":0,\"ticks\":\"\"}}}],\"carpet\":[{\"aaxis\":{\"endlinecolor\":\"#2a3f5f\",\"gridcolor\":\"white\",\"linecolor\":\"white\",\"minorgridcolor\":\"white\",\"startlinecolor\":\"#2a3f5f\"},\"baxis\":{\"endlinecolor\":\"#2a3f5f\",\"gridcolor\":\"white\",\"linecolor\":\"white\",\"minorgridcolor\":\"white\",\"startlinecolor\":\"#2a3f5f\"},\"type\":\"carpet\"}],\"table\":[{\"cells\":{\"fill\":{\"color\":\"#EBF0F8\"},\"line\":{\"color\":\"white\"}},\"header\":{\"fill\":{\"color\":\"#C8D4E3\"},\"line\":{\"color\":\"white\"}},\"type\":\"table\"}],\"barpolar\":[{\"marker\":{\"line\":{\"color\":\"#E5ECF6\",\"width\":0.5},\"pattern\":{\"fillmode\":\"overlay\",\"size\":10,\"solidity\":0.2}},\"type\":\"barpolar\"}],\"pie\":[{\"automargin\":true,\"type\":\"pie\"}]},\"layout\":{\"autotypenumbers\":\"strict\",\"colorway\":[\"#636efa\",\"#EF553B\",\"#00cc96\",\"#ab63fa\",\"#FFA15A\",\"#19d3f3\",\"#FF6692\",\"#B6E880\",\"#FF97FF\",\"#FECB52\"],\"font\":{\"color\":\"#2a3f5f\"},\"hovermode\":\"closest\",\"hoverlabel\":{\"align\":\"left\"},\"paper_bgcolor\":\"white\",\"plot_bgcolor\":\"#E5ECF6\",\"polar\":{\"bgcolor\":\"#E5ECF6\",\"angularaxis\":{\"gridcolor\":\"white\",\"linecolor\":\"white\",\"ticks\":\"\"},\"radialaxis\":{\"gridcolor\":\"white\",\"linecolor\":\"white\",\"ticks\":\"\"}},\"ternary\":{\"bgcolor\":\"#E5ECF6\",\"aaxis\":{\"gridcolor\":\"white\",\"linecolor\":\"white\",\"ticks\":\"\"},\"baxis\":{\"gridcolor\":\"white\",\"linecolor\":\"white\",\"ticks\":\"\"},\"caxis\":{\"gridcolor\":\"white\",\"linecolor\":\"white\",\"ticks\":\"\"}},\"coloraxis\":{\"colorbar\":{\"outlinewidth\":0,\"ticks\":\"\"}},\"colorscale\":{\"sequential\":[[0.0,\"#0d0887\"],[0.1111111111111111,\"#46039f\"],[0.2222222222222222,\"#7201a8\"],[0.3333333333333333,\"#9c179e\"],[0.4444444444444444,\"#bd3786\"],[0.5555555555555556,\"#d8576b\"],[0.6666666666666666,\"#ed7953\"],[0.7777777777777778,\"#fb9f3a\"],[0.8888888888888888,\"#fdca26\"],[1.0,\"#f0f921\"]],\"sequentialminus\":[[0.0,\"#0d0887\"],[0.1111111111111111,\"#46039f\"],[0.2222222222222222,\"#7201a8\"],[0.3333333333333333,\"#9c179e\"],[0.4444444444444444,\"#bd3786\"],[0.5555555555555556,\"#d8576b\"],[0.6666666666666666,\"#ed7953\"],[0.7777777777777778,\"#fb9f3a\"],[0.8888888888888888,\"#fdca26\"],[1.0,\"#f0f921\"]],\"diverging\":[[0,\"#8e0152\"],[0.1,\"#c51b7d\"],[0.2,\"#de77ae\"],[0.3,\"#f1b6da\"],[0.4,\"#fde0ef\"],[0.5,\"#f7f7f7\"],[0.6,\"#e6f5d0\"],[0.7,\"#b8e186\"],[0.8,\"#7fbc41\"],[0.9,\"#4d9221\"],[1,\"#276419\"]]},\"xaxis\":{\"gridcolor\":\"white\",\"linecolor\":\"white\",\"ticks\":\"\",\"title\":{\"standoff\":15},\"zerolinecolor\":\"white\",\"automargin\":true,\"zerolinewidth\":2},\"yaxis\":{\"gridcolor\":\"white\",\"linecolor\":\"white\",\"ticks\":\"\",\"title\":{\"standoff\":15},\"zerolinecolor\":\"white\",\"automargin\":true,\"zerolinewidth\":2},\"scene\":{\"xaxis\":{\"backgroundcolor\":\"#E5ECF6\",\"gridcolor\":\"white\",\"linecolor\":\"white\",\"showbackground\":true,\"ticks\":\"\",\"zerolinecolor\":\"white\",\"gridwidth\":2},\"yaxis\":{\"backgroundcolor\":\"#E5ECF6\",\"gridcolor\":\"white\",\"linecolor\":\"white\",\"showbackground\":true,\"ticks\":\"\",\"zerolinecolor\":\"white\",\"gridwidth\":2},\"zaxis\":{\"backgroundcolor\":\"#E5ECF6\",\"gridcolor\":\"white\",\"linecolor\":\"white\",\"showbackground\":true,\"ticks\":\"\",\"zerolinecolor\":\"white\",\"gridwidth\":2}},\"shapedefaults\":{\"line\":{\"color\":\"#2a3f5f\"}},\"annotationdefaults\":{\"arrowcolor\":\"#2a3f5f\",\"arrowhead\":0,\"arrowwidth\":1},\"geo\":{\"bgcolor\":\"white\",\"landcolor\":\"#E5ECF6\",\"subunitcolor\":\"white\",\"showland\":true,\"showlakes\":true,\"lakecolor\":\"white\"},\"title\":{\"x\":0.05},\"mapbox\":{\"style\":\"light\"}}},\"xaxis\":{\"anchor\":\"y\",\"domain\":[0.0,1.0],\"title\":{\"text\":\"Class Label\"}},\"yaxis\":{\"anchor\":\"x\",\"domain\":[0.0,1.0],\"title\":{\"text\":\"Frequency\"}},\"legend\":{\"tracegroupgap\":0},\"margin\":{\"t\":60},\"barmode\":\"relative\",\"title\":{\"font\":{\"color\":\"black\",\"size\":20},\"text\":\"Target Distribution\\u003cbr\\u003e\\u003csup\\u003eSource: experiment 3 - validation\\u003c\\u002fsup\\u003e\",\"x\":0},\"font\":{\"family\":\"Times New Roman\"},\"plot_bgcolor\":\"rgba(0,0,0,0)\",\"paper_bgcolor\":\"rgba(0,0,0,0)\",\"width\":600,\"height\":500},                        {\"responsive\": true}                    ).then(function(){\n",
              "                            \n",
              "var gd = document.getElementById('7e4b54c9-671b-42ac-a155-7cce127739d0');\n",
              "var x = new MutationObserver(function (mutations, observer) {{\n",
              "        var display = window.getComputedStyle(gd).display;\n",
              "        if (!display || display === 'none') {{\n",
              "            console.log([gd, 'removed!']);\n",
              "            Plotly.purge(gd);\n",
              "            observer.disconnect();\n",
              "        }}\n",
              "}});\n",
              "\n",
              "// Listen for the removal of the full notebook cells\n",
              "var notebookContainer = gd.closest('#notebook-container');\n",
              "if (notebookContainer) {{\n",
              "    x.observe(notebookContainer, {childList: true});\n",
              "}}\n",
              "\n",
              "// Listen for the clearing of the current output cell\n",
              "var outputEl = gd.closest('.output');\n",
              "if (outputEl) {{\n",
              "    x.observe(outputEl, {childList: true});\n",
              "}}\n",
              "\n",
              "                        })                };                            </script>        </div>\n",
              "</body>\n",
              "</html>"
            ]
          },
          "metadata": {}
        }
      ],
      "source": [
        "target_eda = EDA(data = y_valid,\n",
        "                 target=target,\n",
        "                 output_path = _EXP3_EDA_DIR,\n",
        "                 logx = False,\n",
        "                 logy = False)\n",
        "target_eda.plot_hist(file_name='validation_set',\n",
        "                     subtitle = 'Source: experiment 3 - validation',\n",
        "                     maintitle = 'Target ')"
      ]
    },
    {
      "cell_type": "code",
      "execution_count": null,
      "metadata": {
        "colab": {
          "base_uri": "https://localhost:8080/",
          "height": 517
        },
        "id": "q4CFM5TiW9ZE",
        "outputId": "c485c22a-a875-4892-f270-d01ac345a61a"
      },
      "outputs": [
        {
          "output_type": "display_data",
          "data": {
            "text/html": [
              "<html>\n",
              "<head><meta charset=\"utf-8\" /></head>\n",
              "<body>\n",
              "    <div>            <script src=\"https://cdnjs.cloudflare.com/ajax/libs/mathjax/2.7.5/MathJax.js?config=TeX-AMS-MML_SVG\"></script><script type=\"text/javascript\">if (window.MathJax && window.MathJax.Hub && window.MathJax.Hub.Config) {window.MathJax.Hub.Config({SVG: {font: \"STIX-Web\"}});}</script>                <script type=\"text/javascript\">window.PlotlyConfig = {MathJaxConfig: 'local'};</script>\n",
              "        <script charset=\"utf-8\" src=\"https://cdn.plot.ly/plotly-2.24.1.min.js\"></script>                <div id=\"0605ca49-4596-4fb1-90ea-0a98d89ed161\" class=\"plotly-graph-div\" style=\"height:500px; width:600px;\"></div>            <script type=\"text/javascript\">                                    window.PLOTLYENV=window.PLOTLYENV || {};                                    if (document.getElementById(\"0605ca49-4596-4fb1-90ea-0a98d89ed161\")) {                    Plotly.newPlot(                        \"0605ca49-4596-4fb1-90ea-0a98d89ed161\",                        [{\"alignmentgroup\":\"True\",\"bingroup\":\"x\",\"hovertemplate\":\"industry=%{x}\\u003cbr\\u003ecount=%{y}\\u003cextra\\u003e\\u003c\\u002fextra\\u003e\",\"legendgroup\":\"\",\"marker\":{\"color\":\"black\",\"pattern\":{\"shape\":\"\"}},\"name\":\"\",\"offsetgroup\":\"\",\"orientation\":\"v\",\"showlegend\":false,\"texttemplate\":\"%{value}\",\"x\":[0.0,4.0,5.0,6.0,1.0,0.0,2.0,3.0,2.0,0.0,4.0,0.0,1.0,3.0,2.0,0.0,0.0,1.0,4.0,1.0,4.0,3.0,4.0,0.0,0.0,1.0,0.0,6.0,2.0,3.0,0.0,1.0,0.0,5.0,3.0,4.0,4.0,1.0,4.0,0.0,4.0,0.0,3.0,4.0,4.0,1.0,3.0,3.0,0.0,1.0,1.0,4.0,0.0,4.0,0.0,2.0,4.0,3.0,0.0,2.0,3.0,0.0,1.0,4.0,2.0,0.0,6.0,3.0,2.0,4.0,3.0,0.0,2.0,6.0,0.0,0.0,4.0,3.0,4.0,3.0,6.0,0.0,3.0,0.0,3.0,0.0,0.0,4.0,0.0,0.0,3.0,1.0,4.0,5.0,3.0,3.0,3.0,3.0,2.0,1.0,1.0,0.0,0.0,0.0,4.0,1.0,3.0,1.0,1.0,2.0,0.0,0.0,3.0,4.0,0.0,0.0,4.0,4.0,3.0,2.0,0.0,3.0,4.0,0.0,6.0,0.0,4.0,0.0,1.0,1.0,2.0,0.0,0.0,6.0,0.0,0.0,0.0,0.0,1.0,3.0,4.0,2.0,3.0,3.0,0.0,2.0,2.0,0.0,3.0,2.0,4.0,0.0,2.0,3.0,4.0,0.0,2.0,1.0,2.0,4.0,2.0,2.0,0.0,0.0,0.0,0.0,4.0,3.0,6.0,1.0,1.0,2.0,0.0,5.0,0.0,5.0,3.0,0.0,1.0,2.0,0.0,0.0,4.0,2.0,1.0,0.0,0.0,4.0,0.0,4.0,0.0,0.0,0.0,4.0,0.0,0.0,1.0,3.0,2.0,0.0,0.0,4.0,1.0,1.0,0.0,0.0,1.0,2.0,4.0,0.0,3.0,2.0,0.0,4.0,0.0,3.0,2.0,4.0,4.0,3.0,0.0,3.0,0.0,0.0,4.0,1.0,0.0,1.0,2.0,0.0,4.0,2.0,1.0,3.0,0.0,2.0,3.0,2.0,2.0,0.0,0.0,4.0,0.0,4.0,2.0,4.0,4.0,3.0,0.0,0.0,1.0,0.0,2.0,4.0,4.0,2.0,1.0,2.0,1.0,0.0,2.0,4.0,0.0,4.0,5.0,3.0,0.0,4.0,0.0,1.0,5.0,1.0,2.0,2.0,0.0,4.0,5.0,2.0,4.0,0.0,0.0,0.0,3.0,3.0,1.0,3.0,0.0,1.0,0.0,1.0,3.0,4.0,2.0,1.0,4.0,2.0,5.0,2.0,1.0,1.0,0.0,0.0,2.0,0.0,0.0,4.0,2.0,0.0,3.0,1.0,0.0,0.0,1.0,2.0,1.0,1.0,0.0,3.0,0.0,0.0,0.0,0.0,3.0,0.0,0.0,2.0,1.0,0.0,2.0,0.0,0.0,2.0,2.0,0.0,5.0,2.0,0.0,5.0,0.0,2.0,1.0,4.0,4.0,2.0,0.0,6.0,3.0,0.0,0.0,2.0,1.0,6.0,2.0,3.0,2.0,3.0,1.0,0.0,1.0,6.0,1.0,0.0,6.0,0.0,0.0,2.0,1.0,5.0,4.0,4.0,0.0,0.0,0.0,1.0,0.0,0.0,3.0,3.0,1.0,0.0,0.0,3.0,0.0,2.0,0.0,0.0,0.0,4.0,4.0,3.0,6.0,5.0,0.0,3.0,1.0,4.0,6.0,1.0,0.0,3.0,1.0,0.0,0.0,2.0,2.0,2.0,6.0,0.0,0.0,6.0,1.0,0.0,0.0,2.0,3.0,4.0,6.0,6.0,2.0,0.0,4.0,0.0,0.0,2.0,0.0,0.0,5.0,1.0,5.0,3.0,5.0,5.0,1.0,1.0,1.0,3.0,2.0,3.0,3.0,3.0,0.0,0.0,2.0,0.0,6.0,1.0,0.0,0.0,0.0,0.0,3.0,6.0,3.0,4.0,0.0,1.0,0.0,4.0,0.0,3.0,0.0,1.0,3.0,1.0,1.0,0.0,0.0,2.0,1.0,2.0,4.0,3.0,1.0,1.0,1.0,2.0,3.0,1.0,6.0,2.0,0.0,3.0,0.0,4.0,0.0,0.0,3.0,5.0,2.0,0.0,4.0,2.0,0.0,0.0,0.0,4.0,5.0,2.0,4.0,4.0,1.0,2.0,2.0,4.0,2.0,1.0,4.0,5.0,3.0,3.0,0.0,0.0,3.0,0.0,0.0,4.0,1.0,4.0,0.0,5.0,3.0,4.0,3.0,1.0,0.0,0.0,0.0,0.0,0.0,0.0,0.0,0.0,3.0,0.0,1.0,2.0,0.0,0.0,1.0,0.0,4.0,0.0,0.0,0.0,1.0,2.0,0.0,3.0,2.0,0.0,1.0,2.0,5.0,4.0,2.0,0.0,4.0,2.0,2.0,0.0,2.0,3.0,1.0,0.0,2.0,2.0,0.0,3.0,0.0,3.0,0.0,0.0,2.0,2.0,1.0,0.0,0.0,4.0,2.0,1.0,3.0,0.0,6.0,0.0,3.0,3.0,0.0,6.0,0.0,0.0,4.0,2.0,2.0,4.0,3.0,0.0,0.0,1.0,0.0,2.0,1.0,3.0,3.0,0.0,5.0,4.0,1.0,2.0,0.0,2.0,0.0,2.0,1.0,0.0,3.0,1.0,4.0,2.0,0.0,0.0,5.0,6.0,0.0,0.0,2.0,3.0,0.0,0.0,2.0,1.0,2.0,2.0,2.0,3.0,2.0,1.0,4.0,2.0,2.0,2.0,0.0,1.0,2.0,0.0,1.0,3.0,3.0,0.0,3.0,2.0,1.0,4.0,2.0,0.0,0.0,3.0,0.0,1.0,1.0,2.0,0.0,3.0,0.0,3.0,2.0,3.0,0.0,0.0,0.0,1.0,0.0,1.0,1.0,3.0,0.0,1.0,1.0,3.0,2.0,3.0,5.0,2.0,4.0,1.0,4.0,0.0,0.0,1.0,4.0,0.0,6.0,1.0,3.0,0.0,3.0,3.0,4.0,1.0,0.0,2.0,1.0,0.0,0.0,3.0,0.0,3.0,1.0,5.0,0.0,0.0,1.0,3.0,1.0,0.0,2.0,1.0,4.0,4.0,0.0,0.0,1.0,3.0,2.0,4.0,0.0,6.0,2.0],\"xaxis\":\"x\",\"yaxis\":\"y\",\"type\":\"histogram\"}],                        {\"template\":{\"data\":{\"histogram2dcontour\":[{\"type\":\"histogram2dcontour\",\"colorbar\":{\"outlinewidth\":0,\"ticks\":\"\"},\"colorscale\":[[0.0,\"#0d0887\"],[0.1111111111111111,\"#46039f\"],[0.2222222222222222,\"#7201a8\"],[0.3333333333333333,\"#9c179e\"],[0.4444444444444444,\"#bd3786\"],[0.5555555555555556,\"#d8576b\"],[0.6666666666666666,\"#ed7953\"],[0.7777777777777778,\"#fb9f3a\"],[0.8888888888888888,\"#fdca26\"],[1.0,\"#f0f921\"]]}],\"choropleth\":[{\"type\":\"choropleth\",\"colorbar\":{\"outlinewidth\":0,\"ticks\":\"\"}}],\"histogram2d\":[{\"type\":\"histogram2d\",\"colorbar\":{\"outlinewidth\":0,\"ticks\":\"\"},\"colorscale\":[[0.0,\"#0d0887\"],[0.1111111111111111,\"#46039f\"],[0.2222222222222222,\"#7201a8\"],[0.3333333333333333,\"#9c179e\"],[0.4444444444444444,\"#bd3786\"],[0.5555555555555556,\"#d8576b\"],[0.6666666666666666,\"#ed7953\"],[0.7777777777777778,\"#fb9f3a\"],[0.8888888888888888,\"#fdca26\"],[1.0,\"#f0f921\"]]}],\"heatmap\":[{\"type\":\"heatmap\",\"colorbar\":{\"outlinewidth\":0,\"ticks\":\"\"},\"colorscale\":[[0.0,\"#0d0887\"],[0.1111111111111111,\"#46039f\"],[0.2222222222222222,\"#7201a8\"],[0.3333333333333333,\"#9c179e\"],[0.4444444444444444,\"#bd3786\"],[0.5555555555555556,\"#d8576b\"],[0.6666666666666666,\"#ed7953\"],[0.7777777777777778,\"#fb9f3a\"],[0.8888888888888888,\"#fdca26\"],[1.0,\"#f0f921\"]]}],\"heatmapgl\":[{\"type\":\"heatmapgl\",\"colorbar\":{\"outlinewidth\":0,\"ticks\":\"\"},\"colorscale\":[[0.0,\"#0d0887\"],[0.1111111111111111,\"#46039f\"],[0.2222222222222222,\"#7201a8\"],[0.3333333333333333,\"#9c179e\"],[0.4444444444444444,\"#bd3786\"],[0.5555555555555556,\"#d8576b\"],[0.6666666666666666,\"#ed7953\"],[0.7777777777777778,\"#fb9f3a\"],[0.8888888888888888,\"#fdca26\"],[1.0,\"#f0f921\"]]}],\"contourcarpet\":[{\"type\":\"contourcarpet\",\"colorbar\":{\"outlinewidth\":0,\"ticks\":\"\"}}],\"contour\":[{\"type\":\"contour\",\"colorbar\":{\"outlinewidth\":0,\"ticks\":\"\"},\"colorscale\":[[0.0,\"#0d0887\"],[0.1111111111111111,\"#46039f\"],[0.2222222222222222,\"#7201a8\"],[0.3333333333333333,\"#9c179e\"],[0.4444444444444444,\"#bd3786\"],[0.5555555555555556,\"#d8576b\"],[0.6666666666666666,\"#ed7953\"],[0.7777777777777778,\"#fb9f3a\"],[0.8888888888888888,\"#fdca26\"],[1.0,\"#f0f921\"]]}],\"surface\":[{\"type\":\"surface\",\"colorbar\":{\"outlinewidth\":0,\"ticks\":\"\"},\"colorscale\":[[0.0,\"#0d0887\"],[0.1111111111111111,\"#46039f\"],[0.2222222222222222,\"#7201a8\"],[0.3333333333333333,\"#9c179e\"],[0.4444444444444444,\"#bd3786\"],[0.5555555555555556,\"#d8576b\"],[0.6666666666666666,\"#ed7953\"],[0.7777777777777778,\"#fb9f3a\"],[0.8888888888888888,\"#fdca26\"],[1.0,\"#f0f921\"]]}],\"mesh3d\":[{\"type\":\"mesh3d\",\"colorbar\":{\"outlinewidth\":0,\"ticks\":\"\"}}],\"scatter\":[{\"fillpattern\":{\"fillmode\":\"overlay\",\"size\":10,\"solidity\":0.2},\"type\":\"scatter\"}],\"parcoords\":[{\"type\":\"parcoords\",\"line\":{\"colorbar\":{\"outlinewidth\":0,\"ticks\":\"\"}}}],\"scatterpolargl\":[{\"type\":\"scatterpolargl\",\"marker\":{\"colorbar\":{\"outlinewidth\":0,\"ticks\":\"\"}}}],\"bar\":[{\"error_x\":{\"color\":\"#2a3f5f\"},\"error_y\":{\"color\":\"#2a3f5f\"},\"marker\":{\"line\":{\"color\":\"#E5ECF6\",\"width\":0.5},\"pattern\":{\"fillmode\":\"overlay\",\"size\":10,\"solidity\":0.2}},\"type\":\"bar\"}],\"scattergeo\":[{\"type\":\"scattergeo\",\"marker\":{\"colorbar\":{\"outlinewidth\":0,\"ticks\":\"\"}}}],\"scatterpolar\":[{\"type\":\"scatterpolar\",\"marker\":{\"colorbar\":{\"outlinewidth\":0,\"ticks\":\"\"}}}],\"histogram\":[{\"marker\":{\"pattern\":{\"fillmode\":\"overlay\",\"size\":10,\"solidity\":0.2}},\"type\":\"histogram\"}],\"scattergl\":[{\"type\":\"scattergl\",\"marker\":{\"colorbar\":{\"outlinewidth\":0,\"ticks\":\"\"}}}],\"scatter3d\":[{\"type\":\"scatter3d\",\"line\":{\"colorbar\":{\"outlinewidth\":0,\"ticks\":\"\"}},\"marker\":{\"colorbar\":{\"outlinewidth\":0,\"ticks\":\"\"}}}],\"scattermapbox\":[{\"type\":\"scattermapbox\",\"marker\":{\"colorbar\":{\"outlinewidth\":0,\"ticks\":\"\"}}}],\"scatterternary\":[{\"type\":\"scatterternary\",\"marker\":{\"colorbar\":{\"outlinewidth\":0,\"ticks\":\"\"}}}],\"scattercarpet\":[{\"type\":\"scattercarpet\",\"marker\":{\"colorbar\":{\"outlinewidth\":0,\"ticks\":\"\"}}}],\"carpet\":[{\"aaxis\":{\"endlinecolor\":\"#2a3f5f\",\"gridcolor\":\"white\",\"linecolor\":\"white\",\"minorgridcolor\":\"white\",\"startlinecolor\":\"#2a3f5f\"},\"baxis\":{\"endlinecolor\":\"#2a3f5f\",\"gridcolor\":\"white\",\"linecolor\":\"white\",\"minorgridcolor\":\"white\",\"startlinecolor\":\"#2a3f5f\"},\"type\":\"carpet\"}],\"table\":[{\"cells\":{\"fill\":{\"color\":\"#EBF0F8\"},\"line\":{\"color\":\"white\"}},\"header\":{\"fill\":{\"color\":\"#C8D4E3\"},\"line\":{\"color\":\"white\"}},\"type\":\"table\"}],\"barpolar\":[{\"marker\":{\"line\":{\"color\":\"#E5ECF6\",\"width\":0.5},\"pattern\":{\"fillmode\":\"overlay\",\"size\":10,\"solidity\":0.2}},\"type\":\"barpolar\"}],\"pie\":[{\"automargin\":true,\"type\":\"pie\"}]},\"layout\":{\"autotypenumbers\":\"strict\",\"colorway\":[\"#636efa\",\"#EF553B\",\"#00cc96\",\"#ab63fa\",\"#FFA15A\",\"#19d3f3\",\"#FF6692\",\"#B6E880\",\"#FF97FF\",\"#FECB52\"],\"font\":{\"color\":\"#2a3f5f\"},\"hovermode\":\"closest\",\"hoverlabel\":{\"align\":\"left\"},\"paper_bgcolor\":\"white\",\"plot_bgcolor\":\"#E5ECF6\",\"polar\":{\"bgcolor\":\"#E5ECF6\",\"angularaxis\":{\"gridcolor\":\"white\",\"linecolor\":\"white\",\"ticks\":\"\"},\"radialaxis\":{\"gridcolor\":\"white\",\"linecolor\":\"white\",\"ticks\":\"\"}},\"ternary\":{\"bgcolor\":\"#E5ECF6\",\"aaxis\":{\"gridcolor\":\"white\",\"linecolor\":\"white\",\"ticks\":\"\"},\"baxis\":{\"gridcolor\":\"white\",\"linecolor\":\"white\",\"ticks\":\"\"},\"caxis\":{\"gridcolor\":\"white\",\"linecolor\":\"white\",\"ticks\":\"\"}},\"coloraxis\":{\"colorbar\":{\"outlinewidth\":0,\"ticks\":\"\"}},\"colorscale\":{\"sequential\":[[0.0,\"#0d0887\"],[0.1111111111111111,\"#46039f\"],[0.2222222222222222,\"#7201a8\"],[0.3333333333333333,\"#9c179e\"],[0.4444444444444444,\"#bd3786\"],[0.5555555555555556,\"#d8576b\"],[0.6666666666666666,\"#ed7953\"],[0.7777777777777778,\"#fb9f3a\"],[0.8888888888888888,\"#fdca26\"],[1.0,\"#f0f921\"]],\"sequentialminus\":[[0.0,\"#0d0887\"],[0.1111111111111111,\"#46039f\"],[0.2222222222222222,\"#7201a8\"],[0.3333333333333333,\"#9c179e\"],[0.4444444444444444,\"#bd3786\"],[0.5555555555555556,\"#d8576b\"],[0.6666666666666666,\"#ed7953\"],[0.7777777777777778,\"#fb9f3a\"],[0.8888888888888888,\"#fdca26\"],[1.0,\"#f0f921\"]],\"diverging\":[[0,\"#8e0152\"],[0.1,\"#c51b7d\"],[0.2,\"#de77ae\"],[0.3,\"#f1b6da\"],[0.4,\"#fde0ef\"],[0.5,\"#f7f7f7\"],[0.6,\"#e6f5d0\"],[0.7,\"#b8e186\"],[0.8,\"#7fbc41\"],[0.9,\"#4d9221\"],[1,\"#276419\"]]},\"xaxis\":{\"gridcolor\":\"white\",\"linecolor\":\"white\",\"ticks\":\"\",\"title\":{\"standoff\":15},\"zerolinecolor\":\"white\",\"automargin\":true,\"zerolinewidth\":2},\"yaxis\":{\"gridcolor\":\"white\",\"linecolor\":\"white\",\"ticks\":\"\",\"title\":{\"standoff\":15},\"zerolinecolor\":\"white\",\"automargin\":true,\"zerolinewidth\":2},\"scene\":{\"xaxis\":{\"backgroundcolor\":\"#E5ECF6\",\"gridcolor\":\"white\",\"linecolor\":\"white\",\"showbackground\":true,\"ticks\":\"\",\"zerolinecolor\":\"white\",\"gridwidth\":2},\"yaxis\":{\"backgroundcolor\":\"#E5ECF6\",\"gridcolor\":\"white\",\"linecolor\":\"white\",\"showbackground\":true,\"ticks\":\"\",\"zerolinecolor\":\"white\",\"gridwidth\":2},\"zaxis\":{\"backgroundcolor\":\"#E5ECF6\",\"gridcolor\":\"white\",\"linecolor\":\"white\",\"showbackground\":true,\"ticks\":\"\",\"zerolinecolor\":\"white\",\"gridwidth\":2}},\"shapedefaults\":{\"line\":{\"color\":\"#2a3f5f\"}},\"annotationdefaults\":{\"arrowcolor\":\"#2a3f5f\",\"arrowhead\":0,\"arrowwidth\":1},\"geo\":{\"bgcolor\":\"white\",\"landcolor\":\"#E5ECF6\",\"subunitcolor\":\"white\",\"showland\":true,\"showlakes\":true,\"lakecolor\":\"white\"},\"title\":{\"x\":0.05},\"mapbox\":{\"style\":\"light\"}}},\"xaxis\":{\"anchor\":\"y\",\"domain\":[0.0,1.0],\"title\":{\"text\":\"Class Label\"}},\"yaxis\":{\"anchor\":\"x\",\"domain\":[0.0,1.0],\"title\":{\"text\":\"Frequency\"}},\"legend\":{\"tracegroupgap\":0},\"margin\":{\"t\":60},\"barmode\":\"relative\",\"title\":{\"font\":{\"color\":\"black\",\"size\":20},\"text\":\"Target Distribution\\u003cbr\\u003e\\u003csup\\u003eSource: experiment 3 - test\\u003c\\u002fsup\\u003e\",\"x\":0},\"font\":{\"family\":\"Times New Roman\"},\"plot_bgcolor\":\"rgba(0,0,0,0)\",\"paper_bgcolor\":\"rgba(0,0,0,0)\",\"width\":600,\"height\":500},                        {\"responsive\": true}                    ).then(function(){\n",
              "                            \n",
              "var gd = document.getElementById('0605ca49-4596-4fb1-90ea-0a98d89ed161');\n",
              "var x = new MutationObserver(function (mutations, observer) {{\n",
              "        var display = window.getComputedStyle(gd).display;\n",
              "        if (!display || display === 'none') {{\n",
              "            console.log([gd, 'removed!']);\n",
              "            Plotly.purge(gd);\n",
              "            observer.disconnect();\n",
              "        }}\n",
              "}});\n",
              "\n",
              "// Listen for the removal of the full notebook cells\n",
              "var notebookContainer = gd.closest('#notebook-container');\n",
              "if (notebookContainer) {{\n",
              "    x.observe(notebookContainer, {childList: true});\n",
              "}}\n",
              "\n",
              "// Listen for the clearing of the current output cell\n",
              "var outputEl = gd.closest('.output');\n",
              "if (outputEl) {{\n",
              "    x.observe(outputEl, {childList: true});\n",
              "}}\n",
              "\n",
              "                        })                };                            </script>        </div>\n",
              "</body>\n",
              "</html>"
            ]
          },
          "metadata": {}
        }
      ],
      "source": [
        "target_eda = EDA(data = y_test,\n",
        "                 target=target,\n",
        "                 output_path = _EXP3_EDA_DIR,\n",
        "                 logx = False,\n",
        "                 logy = False)\n",
        "target_eda.plot_hist(file_name='test_set',\n",
        "                     subtitle = 'Source: experiment 3 - test',\n",
        "                     maintitle = 'Target ')"
      ]
    },
    {
      "cell_type": "markdown",
      "metadata": {
        "id": "HahNnrwoXOpQ"
      },
      "source": [
        "# Normalization"
      ]
    },
    {
      "cell_type": "code",
      "execution_count": null,
      "metadata": {
        "id": "iPtlWFGknUsd"
      },
      "outputs": [],
      "source": [
        "num_feas = load_json(_DICT_DIR,'feas_num_sample')['numerical_features']"
      ]
    },
    {
      "cell_type": "code",
      "execution_count": null,
      "metadata": {
        "id": "GDfpJH3Ho0xr"
      },
      "outputs": [],
      "source": [
        "num_feas.remove('prized_company')\n",
        "num_feas.remove('env_label')"
      ]
    },
    {
      "cell_type": "code",
      "execution_count": null,
      "metadata": {
        "id": "dRZUTC98o3wE"
      },
      "outputs": [],
      "source": [
        "normalized_cols = list(set(num_feas) - set(['patent_syxx_presv_total_3yr', 'patent_wgx_pledge_total_3yr', 'patent_presv_cnt_total_3yr', 'patent_fmsq_invalid_total_3yr', 'env_penalty_index']))"
      ]
    },
    {
      "cell_type": "code",
      "execution_count": null,
      "metadata": {
        "id": "UoP0C6x9o58Z"
      },
      "outputs": [],
      "source": [
        "X_train_num = NumImputeNormalized(X_train,normalized_cols)\n",
        "X_valid_num = NumImputeNormalized(X_valid,normalized_cols)\n",
        "X_test_num = NumImputeNormalized(X_test,normalized_cols)"
      ]
    },
    {
      "cell_type": "code",
      "execution_count": null,
      "metadata": {
        "id": "izzVxfTCo6MT"
      },
      "outputs": [],
      "source": [
        "X_train[normalized_cols] = X_train_num[normalized_cols]\n",
        "X_valid[normalized_cols] = X_valid_num[normalized_cols]\n",
        "X_test[normalized_cols] = X_test_num[normalized_cols]"
      ]
    },
    {
      "cell_type": "markdown",
      "metadata": {
        "id": "Viij5ui_pEjM"
      },
      "source": [
        "# Feature Enginerring"
      ]
    },
    {
      "cell_type": "code",
      "execution_count": null,
      "metadata": {
        "colab": {
          "base_uri": "https://localhost:8080/"
        },
        "id": "VO1m6gPYo_Lq",
        "outputId": "461fa46e-380f-4634-c28e-6010c47bfc69"
      },
      "outputs": [
        {
          "output_type": "stream",
          "name": "stdout",
          "text": [
            "/content/drive/MyDrive/ThesisFinal/dict/experiment3\n"
          ]
        }
      ],
      "source": [
        "keep_dir = create_dir(_DICT_DIR,'experiment3')"
      ]
    },
    {
      "cell_type": "code",
      "execution_count": null,
      "metadata": {
        "colab": {
          "base_uri": "https://localhost:8080/",
          "height": 1000
        },
        "id": "pIiilxyVpIjt",
        "outputId": "59eac386-98ec-4c96-ce78-d1272a9fc469"
      },
      "outputs": [
        {
          "output_type": "stream",
          "name": "stdout",
          "text": [
            "Fit XGBoost and Random forests\n"
          ]
        },
        {
          "output_type": "display_data",
          "data": {
            "text/html": [
              "<html>\n",
              "<head><meta charset=\"utf-8\" /></head>\n",
              "<body>\n",
              "    <div>            <script src=\"https://cdnjs.cloudflare.com/ajax/libs/mathjax/2.7.5/MathJax.js?config=TeX-AMS-MML_SVG\"></script><script type=\"text/javascript\">if (window.MathJax && window.MathJax.Hub && window.MathJax.Hub.Config) {window.MathJax.Hub.Config({SVG: {font: \"STIX-Web\"}});}</script>                <script type=\"text/javascript\">window.PlotlyConfig = {MathJaxConfig: 'local'};</script>\n",
              "        <script charset=\"utf-8\" src=\"https://cdn.plot.ly/plotly-2.24.1.min.js\"></script>                <div id=\"3bf596b0-a65d-4d9a-9354-d96d0abff548\" class=\"plotly-graph-div\" style=\"height:525px; width:100%;\"></div>            <script type=\"text/javascript\">                                    window.PLOTLYENV=window.PLOTLYENV || {};                                    if (document.getElementById(\"3bf596b0-a65d-4d9a-9354-d96d0abff548\")) {                    Plotly.newPlot(                        \"3bf596b0-a65d-4d9a-9354-d96d0abff548\",                        [{\"alignmentgroup\":\"True\",\"hovertemplate\":\"rf_importance=%{x}\\u003cbr\\u003efeature=%{y}\\u003cextra\\u003e\\u003c\\u002fextra\\u003e\",\"legendgroup\":\"\",\"marker\":{\"color\":\"#6f8278\",\"pattern\":{\"shape\":\"\"}},\"name\":\"\",\"offsetgroup\":\"\",\"orientation\":\"h\",\"showlegend\":false,\"textposition\":\"auto\",\"x\":[0.06754135568808337,0.026929988367179924,0.02048554917901517,0.016037746230206748,0.014986737472569478,0.014766734264300894,0.014490840523063021,0.014280693011165649,0.014038992541871544,0.01327707944848204,0.012666094459920403,0.01188934952559377,0.011879992537764728,0.01179343232314227,0.011677022347885866,0.011619170718669329,0.011584161467251403,0.011040620350091861,0.011026364575395005,0.01072106060432833],\"xaxis\":\"x\",\"y\":[\"industry_code\",\"es_days\",\"regcap\",\"security_cnt\",\"ipclass1_pt\",\"relate_ent_cnt\",\"mainbusinc_2yr\",\"mainbusinc_stablerate_3yr\",\"ipclass2_pt\",\"ipclass2_cnt\",\"shares_pt_max_indivual\",\"mainbusinc_1yr\",\"mainbusinc_grate_2yr\",\"mainbusinc_grate_1yr\",\"progro_profitrate\",\"patent_indep_cnt\",\"mainbusinc\",\"main_business00\",\"progro_roa\",\"patent_sqrate_total_3yr\"],\"yaxis\":\"y\",\"type\":\"bar\"}],                        {\"template\":{\"data\":{\"histogram2dcontour\":[{\"type\":\"histogram2dcontour\",\"colorbar\":{\"outlinewidth\":0,\"ticks\":\"\"},\"colorscale\":[[0.0,\"#0d0887\"],[0.1111111111111111,\"#46039f\"],[0.2222222222222222,\"#7201a8\"],[0.3333333333333333,\"#9c179e\"],[0.4444444444444444,\"#bd3786\"],[0.5555555555555556,\"#d8576b\"],[0.6666666666666666,\"#ed7953\"],[0.7777777777777778,\"#fb9f3a\"],[0.8888888888888888,\"#fdca26\"],[1.0,\"#f0f921\"]]}],\"choropleth\":[{\"type\":\"choropleth\",\"colorbar\":{\"outlinewidth\":0,\"ticks\":\"\"}}],\"histogram2d\":[{\"type\":\"histogram2d\",\"colorbar\":{\"outlinewidth\":0,\"ticks\":\"\"},\"colorscale\":[[0.0,\"#0d0887\"],[0.1111111111111111,\"#46039f\"],[0.2222222222222222,\"#7201a8\"],[0.3333333333333333,\"#9c179e\"],[0.4444444444444444,\"#bd3786\"],[0.5555555555555556,\"#d8576b\"],[0.6666666666666666,\"#ed7953\"],[0.7777777777777778,\"#fb9f3a\"],[0.8888888888888888,\"#fdca26\"],[1.0,\"#f0f921\"]]}],\"heatmap\":[{\"type\":\"heatmap\",\"colorbar\":{\"outlinewidth\":0,\"ticks\":\"\"},\"colorscale\":[[0.0,\"#0d0887\"],[0.1111111111111111,\"#46039f\"],[0.2222222222222222,\"#7201a8\"],[0.3333333333333333,\"#9c179e\"],[0.4444444444444444,\"#bd3786\"],[0.5555555555555556,\"#d8576b\"],[0.6666666666666666,\"#ed7953\"],[0.7777777777777778,\"#fb9f3a\"],[0.8888888888888888,\"#fdca26\"],[1.0,\"#f0f921\"]]}],\"heatmapgl\":[{\"type\":\"heatmapgl\",\"colorbar\":{\"outlinewidth\":0,\"ticks\":\"\"},\"colorscale\":[[0.0,\"#0d0887\"],[0.1111111111111111,\"#46039f\"],[0.2222222222222222,\"#7201a8\"],[0.3333333333333333,\"#9c179e\"],[0.4444444444444444,\"#bd3786\"],[0.5555555555555556,\"#d8576b\"],[0.6666666666666666,\"#ed7953\"],[0.7777777777777778,\"#fb9f3a\"],[0.8888888888888888,\"#fdca26\"],[1.0,\"#f0f921\"]]}],\"contourcarpet\":[{\"type\":\"contourcarpet\",\"colorbar\":{\"outlinewidth\":0,\"ticks\":\"\"}}],\"contour\":[{\"type\":\"contour\",\"colorbar\":{\"outlinewidth\":0,\"ticks\":\"\"},\"colorscale\":[[0.0,\"#0d0887\"],[0.1111111111111111,\"#46039f\"],[0.2222222222222222,\"#7201a8\"],[0.3333333333333333,\"#9c179e\"],[0.4444444444444444,\"#bd3786\"],[0.5555555555555556,\"#d8576b\"],[0.6666666666666666,\"#ed7953\"],[0.7777777777777778,\"#fb9f3a\"],[0.8888888888888888,\"#fdca26\"],[1.0,\"#f0f921\"]]}],\"surface\":[{\"type\":\"surface\",\"colorbar\":{\"outlinewidth\":0,\"ticks\":\"\"},\"colorscale\":[[0.0,\"#0d0887\"],[0.1111111111111111,\"#46039f\"],[0.2222222222222222,\"#7201a8\"],[0.3333333333333333,\"#9c179e\"],[0.4444444444444444,\"#bd3786\"],[0.5555555555555556,\"#d8576b\"],[0.6666666666666666,\"#ed7953\"],[0.7777777777777778,\"#fb9f3a\"],[0.8888888888888888,\"#fdca26\"],[1.0,\"#f0f921\"]]}],\"mesh3d\":[{\"type\":\"mesh3d\",\"colorbar\":{\"outlinewidth\":0,\"ticks\":\"\"}}],\"scatter\":[{\"fillpattern\":{\"fillmode\":\"overlay\",\"size\":10,\"solidity\":0.2},\"type\":\"scatter\"}],\"parcoords\":[{\"type\":\"parcoords\",\"line\":{\"colorbar\":{\"outlinewidth\":0,\"ticks\":\"\"}}}],\"scatterpolargl\":[{\"type\":\"scatterpolargl\",\"marker\":{\"colorbar\":{\"outlinewidth\":0,\"ticks\":\"\"}}}],\"bar\":[{\"error_x\":{\"color\":\"#2a3f5f\"},\"error_y\":{\"color\":\"#2a3f5f\"},\"marker\":{\"line\":{\"color\":\"#E5ECF6\",\"width\":0.5},\"pattern\":{\"fillmode\":\"overlay\",\"size\":10,\"solidity\":0.2}},\"type\":\"bar\"}],\"scattergeo\":[{\"type\":\"scattergeo\",\"marker\":{\"colorbar\":{\"outlinewidth\":0,\"ticks\":\"\"}}}],\"scatterpolar\":[{\"type\":\"scatterpolar\",\"marker\":{\"colorbar\":{\"outlinewidth\":0,\"ticks\":\"\"}}}],\"histogram\":[{\"marker\":{\"pattern\":{\"fillmode\":\"overlay\",\"size\":10,\"solidity\":0.2}},\"type\":\"histogram\"}],\"scattergl\":[{\"type\":\"scattergl\",\"marker\":{\"colorbar\":{\"outlinewidth\":0,\"ticks\":\"\"}}}],\"scatter3d\":[{\"type\":\"scatter3d\",\"line\":{\"colorbar\":{\"outlinewidth\":0,\"ticks\":\"\"}},\"marker\":{\"colorbar\":{\"outlinewidth\":0,\"ticks\":\"\"}}}],\"scattermapbox\":[{\"type\":\"scattermapbox\",\"marker\":{\"colorbar\":{\"outlinewidth\":0,\"ticks\":\"\"}}}],\"scatterternary\":[{\"type\":\"scatterternary\",\"marker\":{\"colorbar\":{\"outlinewidth\":0,\"ticks\":\"\"}}}],\"scattercarpet\":[{\"type\":\"scattercarpet\",\"marker\":{\"colorbar\":{\"outlinewidth\":0,\"ticks\":\"\"}}}],\"carpet\":[{\"aaxis\":{\"endlinecolor\":\"#2a3f5f\",\"gridcolor\":\"white\",\"linecolor\":\"white\",\"minorgridcolor\":\"white\",\"startlinecolor\":\"#2a3f5f\"},\"baxis\":{\"endlinecolor\":\"#2a3f5f\",\"gridcolor\":\"white\",\"linecolor\":\"white\",\"minorgridcolor\":\"white\",\"startlinecolor\":\"#2a3f5f\"},\"type\":\"carpet\"}],\"table\":[{\"cells\":{\"fill\":{\"color\":\"#EBF0F8\"},\"line\":{\"color\":\"white\"}},\"header\":{\"fill\":{\"color\":\"#C8D4E3\"},\"line\":{\"color\":\"white\"}},\"type\":\"table\"}],\"barpolar\":[{\"marker\":{\"line\":{\"color\":\"#E5ECF6\",\"width\":0.5},\"pattern\":{\"fillmode\":\"overlay\",\"size\":10,\"solidity\":0.2}},\"type\":\"barpolar\"}],\"pie\":[{\"automargin\":true,\"type\":\"pie\"}]},\"layout\":{\"autotypenumbers\":\"strict\",\"colorway\":[\"#636efa\",\"#EF553B\",\"#00cc96\",\"#ab63fa\",\"#FFA15A\",\"#19d3f3\",\"#FF6692\",\"#B6E880\",\"#FF97FF\",\"#FECB52\"],\"font\":{\"color\":\"#2a3f5f\"},\"hovermode\":\"closest\",\"hoverlabel\":{\"align\":\"left\"},\"paper_bgcolor\":\"white\",\"plot_bgcolor\":\"#E5ECF6\",\"polar\":{\"bgcolor\":\"#E5ECF6\",\"angularaxis\":{\"gridcolor\":\"white\",\"linecolor\":\"white\",\"ticks\":\"\"},\"radialaxis\":{\"gridcolor\":\"white\",\"linecolor\":\"white\",\"ticks\":\"\"}},\"ternary\":{\"bgcolor\":\"#E5ECF6\",\"aaxis\":{\"gridcolor\":\"white\",\"linecolor\":\"white\",\"ticks\":\"\"},\"baxis\":{\"gridcolor\":\"white\",\"linecolor\":\"white\",\"ticks\":\"\"},\"caxis\":{\"gridcolor\":\"white\",\"linecolor\":\"white\",\"ticks\":\"\"}},\"coloraxis\":{\"colorbar\":{\"outlinewidth\":0,\"ticks\":\"\"}},\"colorscale\":{\"sequential\":[[0.0,\"#0d0887\"],[0.1111111111111111,\"#46039f\"],[0.2222222222222222,\"#7201a8\"],[0.3333333333333333,\"#9c179e\"],[0.4444444444444444,\"#bd3786\"],[0.5555555555555556,\"#d8576b\"],[0.6666666666666666,\"#ed7953\"],[0.7777777777777778,\"#fb9f3a\"],[0.8888888888888888,\"#fdca26\"],[1.0,\"#f0f921\"]],\"sequentialminus\":[[0.0,\"#0d0887\"],[0.1111111111111111,\"#46039f\"],[0.2222222222222222,\"#7201a8\"],[0.3333333333333333,\"#9c179e\"],[0.4444444444444444,\"#bd3786\"],[0.5555555555555556,\"#d8576b\"],[0.6666666666666666,\"#ed7953\"],[0.7777777777777778,\"#fb9f3a\"],[0.8888888888888888,\"#fdca26\"],[1.0,\"#f0f921\"]],\"diverging\":[[0,\"#8e0152\"],[0.1,\"#c51b7d\"],[0.2,\"#de77ae\"],[0.3,\"#f1b6da\"],[0.4,\"#fde0ef\"],[0.5,\"#f7f7f7\"],[0.6,\"#e6f5d0\"],[0.7,\"#b8e186\"],[0.8,\"#7fbc41\"],[0.9,\"#4d9221\"],[1,\"#276419\"]]},\"xaxis\":{\"gridcolor\":\"white\",\"linecolor\":\"white\",\"ticks\":\"\",\"title\":{\"standoff\":15},\"zerolinecolor\":\"white\",\"automargin\":true,\"zerolinewidth\":2},\"yaxis\":{\"gridcolor\":\"white\",\"linecolor\":\"white\",\"ticks\":\"\",\"title\":{\"standoff\":15},\"zerolinecolor\":\"white\",\"automargin\":true,\"zerolinewidth\":2},\"scene\":{\"xaxis\":{\"backgroundcolor\":\"#E5ECF6\",\"gridcolor\":\"white\",\"linecolor\":\"white\",\"showbackground\":true,\"ticks\":\"\",\"zerolinecolor\":\"white\",\"gridwidth\":2},\"yaxis\":{\"backgroundcolor\":\"#E5ECF6\",\"gridcolor\":\"white\",\"linecolor\":\"white\",\"showbackground\":true,\"ticks\":\"\",\"zerolinecolor\":\"white\",\"gridwidth\":2},\"zaxis\":{\"backgroundcolor\":\"#E5ECF6\",\"gridcolor\":\"white\",\"linecolor\":\"white\",\"showbackground\":true,\"ticks\":\"\",\"zerolinecolor\":\"white\",\"gridwidth\":2}},\"shapedefaults\":{\"line\":{\"color\":\"#2a3f5f\"}},\"annotationdefaults\":{\"arrowcolor\":\"#2a3f5f\",\"arrowhead\":0,\"arrowwidth\":1},\"geo\":{\"bgcolor\":\"white\",\"landcolor\":\"#E5ECF6\",\"subunitcolor\":\"white\",\"showland\":true,\"showlakes\":true,\"lakecolor\":\"white\"},\"title\":{\"x\":0.05},\"mapbox\":{\"style\":\"light\"}}},\"xaxis\":{\"anchor\":\"y\",\"domain\":[0.0,1.0],\"title\":{\"text\":\"Features\"}},\"yaxis\":{\"anchor\":\"x\",\"domain\":[0.0,1.0],\"title\":{\"text\":\"Feature Importance\"}},\"legend\":{\"tracegroupgap\":0},\"margin\":{\"t\":60},\"barmode\":\"relative\",\"title\":{\"font\":{\"color\":\"black\",\"size\":20},\"text\":\"Feature Importance\\u003cbr\\u003e\\u003csup\\u003eRandom Forest\\u003c\\u002fsup\\u003e\",\"x\":0},\"font\":{\"family\":\"Times New Roman\"},\"plot_bgcolor\":\"rgba(0,0,0,0)\",\"paper_bgcolor\":\"rgba(0,0,0,0)\"},                        {\"responsive\": true}                    ).then(function(){\n",
              "                            \n",
              "var gd = document.getElementById('3bf596b0-a65d-4d9a-9354-d96d0abff548');\n",
              "var x = new MutationObserver(function (mutations, observer) {{\n",
              "        var display = window.getComputedStyle(gd).display;\n",
              "        if (!display || display === 'none') {{\n",
              "            console.log([gd, 'removed!']);\n",
              "            Plotly.purge(gd);\n",
              "            observer.disconnect();\n",
              "        }}\n",
              "}});\n",
              "\n",
              "// Listen for the removal of the full notebook cells\n",
              "var notebookContainer = gd.closest('#notebook-container');\n",
              "if (notebookContainer) {{\n",
              "    x.observe(notebookContainer, {childList: true});\n",
              "}}\n",
              "\n",
              "// Listen for the clearing of the current output cell\n",
              "var outputEl = gd.closest('.output');\n",
              "if (outputEl) {{\n",
              "    x.observe(outputEl, {childList: true});\n",
              "}}\n",
              "\n",
              "                        })                };                            </script>        </div>\n",
              "</body>\n",
              "</html>"
            ]
          },
          "metadata": {}
        },
        {
          "output_type": "display_data",
          "data": {
            "text/html": [
              "<html>\n",
              "<head><meta charset=\"utf-8\" /></head>\n",
              "<body>\n",
              "    <div>            <script src=\"https://cdnjs.cloudflare.com/ajax/libs/mathjax/2.7.5/MathJax.js?config=TeX-AMS-MML_SVG\"></script><script type=\"text/javascript\">if (window.MathJax && window.MathJax.Hub && window.MathJax.Hub.Config) {window.MathJax.Hub.Config({SVG: {font: \"STIX-Web\"}});}</script>                <script type=\"text/javascript\">window.PlotlyConfig = {MathJaxConfig: 'local'};</script>\n",
              "        <script charset=\"utf-8\" src=\"https://cdn.plot.ly/plotly-2.24.1.min.js\"></script>                <div id=\"8625a65b-ed19-4ac3-b162-28e246ef3b9b\" class=\"plotly-graph-div\" style=\"height:525px; width:100%;\"></div>            <script type=\"text/javascript\">                                    window.PLOTLYENV=window.PLOTLYENV || {};                                    if (document.getElementById(\"8625a65b-ed19-4ac3-b162-28e246ef3b9b\")) {                    Plotly.newPlot(                        \"8625a65b-ed19-4ac3-b162-28e246ef3b9b\",                        [{\"alignmentgroup\":\"True\",\"hovertemplate\":\"xgb_importance=%{x}\\u003cbr\\u003efeature=%{y}\\u003cextra\\u003e\\u003c\\u002fextra\\u003e\",\"legendgroup\":\"\",\"marker\":{\"color\":\"#e5e4da\",\"pattern\":{\"shape\":\"\"}},\"name\":\"\",\"offsetgroup\":\"\",\"orientation\":\"h\",\"showlegend\":false,\"textposition\":\"auto\",\"x\":[0.08380724489688873,0.027834443375468254,0.022588538005948067,0.01807168498635292,0.017636647447943687,0.016937220469117165,0.016367118805646896,0.015850231051445007,0.014921583235263824,0.014608283527195454,0.013689435087144375,0.013049614615738392,0.012743331491947174,0.012396604754030704,0.01222220528870821,0.011462604627013206,0.009760582819581032,0.009756392799317837,0.009409142658114433,0.009280216880142689],\"xaxis\":\"x\",\"y\":[\"industry_code\",\"ccc_item_code\",\"ccc_standard\",\"patent_pledge_cnt_total_3yr\",\"main_business260\",\"patent_fmzl_sqcnt_total_3yr\",\"project_cnt_total_3yr\",\"patent_fmsq_grate_2yr\",\"security_pt\",\"patent_fm_cnt\",\"main_business210.1\",\"winning_amt_1yr\",\"ipclass1_pt\",\"zb_grate_1yr\",\"tm_apply_cnt_total_3yr\",\"main_business31\",\"main_business140\",\"main_business170\",\"patent_wgx_cnt_2yr\",\"ccc_vis_prod_unit\"],\"yaxis\":\"y\",\"type\":\"bar\"}],                        {\"template\":{\"data\":{\"histogram2dcontour\":[{\"type\":\"histogram2dcontour\",\"colorbar\":{\"outlinewidth\":0,\"ticks\":\"\"},\"colorscale\":[[0.0,\"#0d0887\"],[0.1111111111111111,\"#46039f\"],[0.2222222222222222,\"#7201a8\"],[0.3333333333333333,\"#9c179e\"],[0.4444444444444444,\"#bd3786\"],[0.5555555555555556,\"#d8576b\"],[0.6666666666666666,\"#ed7953\"],[0.7777777777777778,\"#fb9f3a\"],[0.8888888888888888,\"#fdca26\"],[1.0,\"#f0f921\"]]}],\"choropleth\":[{\"type\":\"choropleth\",\"colorbar\":{\"outlinewidth\":0,\"ticks\":\"\"}}],\"histogram2d\":[{\"type\":\"histogram2d\",\"colorbar\":{\"outlinewidth\":0,\"ticks\":\"\"},\"colorscale\":[[0.0,\"#0d0887\"],[0.1111111111111111,\"#46039f\"],[0.2222222222222222,\"#7201a8\"],[0.3333333333333333,\"#9c179e\"],[0.4444444444444444,\"#bd3786\"],[0.5555555555555556,\"#d8576b\"],[0.6666666666666666,\"#ed7953\"],[0.7777777777777778,\"#fb9f3a\"],[0.8888888888888888,\"#fdca26\"],[1.0,\"#f0f921\"]]}],\"heatmap\":[{\"type\":\"heatmap\",\"colorbar\":{\"outlinewidth\":0,\"ticks\":\"\"},\"colorscale\":[[0.0,\"#0d0887\"],[0.1111111111111111,\"#46039f\"],[0.2222222222222222,\"#7201a8\"],[0.3333333333333333,\"#9c179e\"],[0.4444444444444444,\"#bd3786\"],[0.5555555555555556,\"#d8576b\"],[0.6666666666666666,\"#ed7953\"],[0.7777777777777778,\"#fb9f3a\"],[0.8888888888888888,\"#fdca26\"],[1.0,\"#f0f921\"]]}],\"heatmapgl\":[{\"type\":\"heatmapgl\",\"colorbar\":{\"outlinewidth\":0,\"ticks\":\"\"},\"colorscale\":[[0.0,\"#0d0887\"],[0.1111111111111111,\"#46039f\"],[0.2222222222222222,\"#7201a8\"],[0.3333333333333333,\"#9c179e\"],[0.4444444444444444,\"#bd3786\"],[0.5555555555555556,\"#d8576b\"],[0.6666666666666666,\"#ed7953\"],[0.7777777777777778,\"#fb9f3a\"],[0.8888888888888888,\"#fdca26\"],[1.0,\"#f0f921\"]]}],\"contourcarpet\":[{\"type\":\"contourcarpet\",\"colorbar\":{\"outlinewidth\":0,\"ticks\":\"\"}}],\"contour\":[{\"type\":\"contour\",\"colorbar\":{\"outlinewidth\":0,\"ticks\":\"\"},\"colorscale\":[[0.0,\"#0d0887\"],[0.1111111111111111,\"#46039f\"],[0.2222222222222222,\"#7201a8\"],[0.3333333333333333,\"#9c179e\"],[0.4444444444444444,\"#bd3786\"],[0.5555555555555556,\"#d8576b\"],[0.6666666666666666,\"#ed7953\"],[0.7777777777777778,\"#fb9f3a\"],[0.8888888888888888,\"#fdca26\"],[1.0,\"#f0f921\"]]}],\"surface\":[{\"type\":\"surface\",\"colorbar\":{\"outlinewidth\":0,\"ticks\":\"\"},\"colorscale\":[[0.0,\"#0d0887\"],[0.1111111111111111,\"#46039f\"],[0.2222222222222222,\"#7201a8\"],[0.3333333333333333,\"#9c179e\"],[0.4444444444444444,\"#bd3786\"],[0.5555555555555556,\"#d8576b\"],[0.6666666666666666,\"#ed7953\"],[0.7777777777777778,\"#fb9f3a\"],[0.8888888888888888,\"#fdca26\"],[1.0,\"#f0f921\"]]}],\"mesh3d\":[{\"type\":\"mesh3d\",\"colorbar\":{\"outlinewidth\":0,\"ticks\":\"\"}}],\"scatter\":[{\"fillpattern\":{\"fillmode\":\"overlay\",\"size\":10,\"solidity\":0.2},\"type\":\"scatter\"}],\"parcoords\":[{\"type\":\"parcoords\",\"line\":{\"colorbar\":{\"outlinewidth\":0,\"ticks\":\"\"}}}],\"scatterpolargl\":[{\"type\":\"scatterpolargl\",\"marker\":{\"colorbar\":{\"outlinewidth\":0,\"ticks\":\"\"}}}],\"bar\":[{\"error_x\":{\"color\":\"#2a3f5f\"},\"error_y\":{\"color\":\"#2a3f5f\"},\"marker\":{\"line\":{\"color\":\"#E5ECF6\",\"width\":0.5},\"pattern\":{\"fillmode\":\"overlay\",\"size\":10,\"solidity\":0.2}},\"type\":\"bar\"}],\"scattergeo\":[{\"type\":\"scattergeo\",\"marker\":{\"colorbar\":{\"outlinewidth\":0,\"ticks\":\"\"}}}],\"scatterpolar\":[{\"type\":\"scatterpolar\",\"marker\":{\"colorbar\":{\"outlinewidth\":0,\"ticks\":\"\"}}}],\"histogram\":[{\"marker\":{\"pattern\":{\"fillmode\":\"overlay\",\"size\":10,\"solidity\":0.2}},\"type\":\"histogram\"}],\"scattergl\":[{\"type\":\"scattergl\",\"marker\":{\"colorbar\":{\"outlinewidth\":0,\"ticks\":\"\"}}}],\"scatter3d\":[{\"type\":\"scatter3d\",\"line\":{\"colorbar\":{\"outlinewidth\":0,\"ticks\":\"\"}},\"marker\":{\"colorbar\":{\"outlinewidth\":0,\"ticks\":\"\"}}}],\"scattermapbox\":[{\"type\":\"scattermapbox\",\"marker\":{\"colorbar\":{\"outlinewidth\":0,\"ticks\":\"\"}}}],\"scatterternary\":[{\"type\":\"scatterternary\",\"marker\":{\"colorbar\":{\"outlinewidth\":0,\"ticks\":\"\"}}}],\"scattercarpet\":[{\"type\":\"scattercarpet\",\"marker\":{\"colorbar\":{\"outlinewidth\":0,\"ticks\":\"\"}}}],\"carpet\":[{\"aaxis\":{\"endlinecolor\":\"#2a3f5f\",\"gridcolor\":\"white\",\"linecolor\":\"white\",\"minorgridcolor\":\"white\",\"startlinecolor\":\"#2a3f5f\"},\"baxis\":{\"endlinecolor\":\"#2a3f5f\",\"gridcolor\":\"white\",\"linecolor\":\"white\",\"minorgridcolor\":\"white\",\"startlinecolor\":\"#2a3f5f\"},\"type\":\"carpet\"}],\"table\":[{\"cells\":{\"fill\":{\"color\":\"#EBF0F8\"},\"line\":{\"color\":\"white\"}},\"header\":{\"fill\":{\"color\":\"#C8D4E3\"},\"line\":{\"color\":\"white\"}},\"type\":\"table\"}],\"barpolar\":[{\"marker\":{\"line\":{\"color\":\"#E5ECF6\",\"width\":0.5},\"pattern\":{\"fillmode\":\"overlay\",\"size\":10,\"solidity\":0.2}},\"type\":\"barpolar\"}],\"pie\":[{\"automargin\":true,\"type\":\"pie\"}]},\"layout\":{\"autotypenumbers\":\"strict\",\"colorway\":[\"#636efa\",\"#EF553B\",\"#00cc96\",\"#ab63fa\",\"#FFA15A\",\"#19d3f3\",\"#FF6692\",\"#B6E880\",\"#FF97FF\",\"#FECB52\"],\"font\":{\"color\":\"#2a3f5f\"},\"hovermode\":\"closest\",\"hoverlabel\":{\"align\":\"left\"},\"paper_bgcolor\":\"white\",\"plot_bgcolor\":\"#E5ECF6\",\"polar\":{\"bgcolor\":\"#E5ECF6\",\"angularaxis\":{\"gridcolor\":\"white\",\"linecolor\":\"white\",\"ticks\":\"\"},\"radialaxis\":{\"gridcolor\":\"white\",\"linecolor\":\"white\",\"ticks\":\"\"}},\"ternary\":{\"bgcolor\":\"#E5ECF6\",\"aaxis\":{\"gridcolor\":\"white\",\"linecolor\":\"white\",\"ticks\":\"\"},\"baxis\":{\"gridcolor\":\"white\",\"linecolor\":\"white\",\"ticks\":\"\"},\"caxis\":{\"gridcolor\":\"white\",\"linecolor\":\"white\",\"ticks\":\"\"}},\"coloraxis\":{\"colorbar\":{\"outlinewidth\":0,\"ticks\":\"\"}},\"colorscale\":{\"sequential\":[[0.0,\"#0d0887\"],[0.1111111111111111,\"#46039f\"],[0.2222222222222222,\"#7201a8\"],[0.3333333333333333,\"#9c179e\"],[0.4444444444444444,\"#bd3786\"],[0.5555555555555556,\"#d8576b\"],[0.6666666666666666,\"#ed7953\"],[0.7777777777777778,\"#fb9f3a\"],[0.8888888888888888,\"#fdca26\"],[1.0,\"#f0f921\"]],\"sequentialminus\":[[0.0,\"#0d0887\"],[0.1111111111111111,\"#46039f\"],[0.2222222222222222,\"#7201a8\"],[0.3333333333333333,\"#9c179e\"],[0.4444444444444444,\"#bd3786\"],[0.5555555555555556,\"#d8576b\"],[0.6666666666666666,\"#ed7953\"],[0.7777777777777778,\"#fb9f3a\"],[0.8888888888888888,\"#fdca26\"],[1.0,\"#f0f921\"]],\"diverging\":[[0,\"#8e0152\"],[0.1,\"#c51b7d\"],[0.2,\"#de77ae\"],[0.3,\"#f1b6da\"],[0.4,\"#fde0ef\"],[0.5,\"#f7f7f7\"],[0.6,\"#e6f5d0\"],[0.7,\"#b8e186\"],[0.8,\"#7fbc41\"],[0.9,\"#4d9221\"],[1,\"#276419\"]]},\"xaxis\":{\"gridcolor\":\"white\",\"linecolor\":\"white\",\"ticks\":\"\",\"title\":{\"standoff\":15},\"zerolinecolor\":\"white\",\"automargin\":true,\"zerolinewidth\":2},\"yaxis\":{\"gridcolor\":\"white\",\"linecolor\":\"white\",\"ticks\":\"\",\"title\":{\"standoff\":15},\"zerolinecolor\":\"white\",\"automargin\":true,\"zerolinewidth\":2},\"scene\":{\"xaxis\":{\"backgroundcolor\":\"#E5ECF6\",\"gridcolor\":\"white\",\"linecolor\":\"white\",\"showbackground\":true,\"ticks\":\"\",\"zerolinecolor\":\"white\",\"gridwidth\":2},\"yaxis\":{\"backgroundcolor\":\"#E5ECF6\",\"gridcolor\":\"white\",\"linecolor\":\"white\",\"showbackground\":true,\"ticks\":\"\",\"zerolinecolor\":\"white\",\"gridwidth\":2},\"zaxis\":{\"backgroundcolor\":\"#E5ECF6\",\"gridcolor\":\"white\",\"linecolor\":\"white\",\"showbackground\":true,\"ticks\":\"\",\"zerolinecolor\":\"white\",\"gridwidth\":2}},\"shapedefaults\":{\"line\":{\"color\":\"#2a3f5f\"}},\"annotationdefaults\":{\"arrowcolor\":\"#2a3f5f\",\"arrowhead\":0,\"arrowwidth\":1},\"geo\":{\"bgcolor\":\"white\",\"landcolor\":\"#E5ECF6\",\"subunitcolor\":\"white\",\"showland\":true,\"showlakes\":true,\"lakecolor\":\"white\"},\"title\":{\"x\":0.05},\"mapbox\":{\"style\":\"light\"}}},\"xaxis\":{\"anchor\":\"y\",\"domain\":[0.0,1.0],\"title\":{\"text\":\"Features\"}},\"yaxis\":{\"anchor\":\"x\",\"domain\":[0.0,1.0],\"title\":{\"text\":\"Feature Importance\"}},\"legend\":{\"tracegroupgap\":0},\"margin\":{\"t\":60},\"barmode\":\"relative\",\"title\":{\"font\":{\"color\":\"black\",\"size\":20},\"text\":\"Feature Importance\\u003cbr\\u003e\\u003csup\\u003eXGBoost\\u003c\\u002fsup\\u003e\",\"x\":0},\"font\":{\"family\":\"Times New Roman\"},\"plot_bgcolor\":\"rgba(0,0,0,0)\",\"paper_bgcolor\":\"rgba(0,0,0,0)\"},                        {\"responsive\": true}                    ).then(function(){\n",
              "                            \n",
              "var gd = document.getElementById('8625a65b-ed19-4ac3-b162-28e246ef3b9b');\n",
              "var x = new MutationObserver(function (mutations, observer) {{\n",
              "        var display = window.getComputedStyle(gd).display;\n",
              "        if (!display || display === 'none') {{\n",
              "            console.log([gd, 'removed!']);\n",
              "            Plotly.purge(gd);\n",
              "            observer.disconnect();\n",
              "        }}\n",
              "}});\n",
              "\n",
              "// Listen for the removal of the full notebook cells\n",
              "var notebookContainer = gd.closest('#notebook-container');\n",
              "if (notebookContainer) {{\n",
              "    x.observe(notebookContainer, {childList: true});\n",
              "}}\n",
              "\n",
              "// Listen for the clearing of the current output cell\n",
              "var outputEl = gd.closest('.output');\n",
              "if (outputEl) {{\n",
              "    x.observe(outputEl, {childList: true});\n",
              "}}\n",
              "\n",
              "                        })                };                            </script>        </div>\n",
              "</body>\n",
              "</html>"
            ]
          },
          "metadata": {}
        },
        {
          "output_type": "stream",
          "name": "stdout",
          "text": [
            "The most 20 important features:\n",
            "\n",
            "xgb: ['industry_code', 'ccc_item_code', 'ccc_standard', 'patent_pledge_cnt_total_3yr', 'main_business260', 'patent_fmzl_sqcnt_total_3yr', 'project_cnt_total_3yr', 'patent_fmsq_grate_2yr', 'security_pt', 'patent_fm_cnt', 'main_business210.1', 'winning_amt_1yr', 'ipclass1_pt', 'zb_grate_1yr', 'tm_apply_cnt_total_3yr', 'main_business31', 'main_business140', 'main_business170', 'patent_wgx_cnt_2yr', 'ccc_vis_prod_unit']\n",
            "\n",
            "\n",
            "\n",
            "rf: ['industry_code', 'es_days', 'regcap', 'security_cnt', 'ipclass1_pt', 'relate_ent_cnt', 'mainbusinc_2yr', 'mainbusinc_stablerate_3yr', 'ipclass2_pt', 'ipclass2_cnt', 'shares_pt_max_indivual', 'mainbusinc_1yr', 'mainbusinc_grate_2yr', 'mainbusinc_grate_1yr', 'progro_profitrate', 'patent_indep_cnt', 'mainbusinc', 'main_business00', 'progro_roa', 'patent_sqrate_total_3yr']\n",
            "\n",
            "\n",
            "drop_importance:  565\n",
            "keep:  38\n",
            "['mainbusinc', 'tm_apply_cnt_total_3yr', 'main_business260', 'zb_grate_1yr', 'main_business31', 'main_business170', 'patent_pledge_cnt_total_3yr', 'mainbusinc_grate_2yr', 'patent_fm_cnt', 'winning_amt_1yr', 'regcap', 'security_cnt', 'progro_roa', 'relate_ent_cnt', 'patent_wgx_cnt_2yr', 'mainbusinc_1yr', 'progro_profitrate', 'main_business210.1', 'shares_pt_max_indivual', 'mainbusinc_2yr', 'ccc_item_code', 'ipclass2_cnt', 'ccc_vis_prod_unit', 'mainbusinc_grate_1yr', 'ipclass2_pt', 'mainbusinc_stablerate_3yr', 'patent_fmzl_sqcnt_total_3yr', 'project_cnt_total_3yr', 'security_pt', 'patent_indep_cnt', 'main_business140', 'es_days', 'industry_code', 'patent_fmsq_grate_2yr', 'ipclass1_pt', 'main_business00', 'ccc_standard', 'patent_sqrate_total_3yr']\n"
          ]
        },
        {
          "output_type": "display_data",
          "data": {
            "text/html": [
              "<html>\n",
              "<head><meta charset=\"utf-8\" /></head>\n",
              "<body>\n",
              "    <div>            <script src=\"https://cdnjs.cloudflare.com/ajax/libs/mathjax/2.7.5/MathJax.js?config=TeX-AMS-MML_SVG\"></script><script type=\"text/javascript\">if (window.MathJax && window.MathJax.Hub && window.MathJax.Hub.Config) {window.MathJax.Hub.Config({SVG: {font: \"STIX-Web\"}});}</script>                <script type=\"text/javascript\">window.PlotlyConfig = {MathJaxConfig: 'local'};</script>\n",
              "        <script charset=\"utf-8\" src=\"https://cdn.plot.ly/plotly-2.24.1.min.js\"></script>                <div id=\"e5620511-ed64-4173-9381-b9d0d7223d69\" class=\"plotly-graph-div\" style=\"height:525px; width:100%;\"></div>            <script type=\"text/javascript\">                                    window.PLOTLYENV=window.PLOTLYENV || {};                                    if (document.getElementById(\"e5620511-ed64-4173-9381-b9d0d7223d69\")) {                    Plotly.newPlot(                        \"e5620511-ed64-4173-9381-b9d0d7223d69\",                        [{\"alignmentgroup\":\"True\",\"hovertemplate\":\"Model=rf_importance\\u003cbr\\u003efeature=%{x}\\u003cbr\\u003eImportance=%{y}\\u003cextra\\u003e\\u003c\\u002fextra\\u003e\",\"legendgroup\":\"rf_importance\",\"marker\":{\"color\":\"#6f8278\",\"pattern\":{\"shape\":\"\"}},\"name\":\"rf_importance\",\"offsetgroup\":\"rf_importance\",\"orientation\":\"v\",\"showlegend\":true,\"textposition\":\"auto\",\"x\":[\"relate_ent_cnt\",\"progro_roa\",\"tm_apply_cnt_total_3yr\",\"project_cnt_total_3yr\",\"mainbusinc_1yr\",\"security_cnt\",\"ipclass2_cnt\",\"mainbusinc_stablerate_3yr\",\"mainbusinc_grate_1yr\",\"shares_pt_max_indivual\",\"es_days\",\"patent_wgx_cnt_2yr\",\"patent_pledge_cnt_total_3yr\",\"patent_fmzl_sqcnt_total_3yr\",\"mainbusinc_2yr\",\"zb_grate_1yr\",\"progro_profitrate\",\"mainbusinc\",\"patent_sqrate_total_3yr\",\"regcap\",\"mainbusinc_grate_2yr\",\"patent_fmsq_grate_2yr\",\"winning_amt_1yr\",\"ipclass1_pt\",\"patent_indep_cnt\",\"security_pt\",\"patent_fm_cnt\",\"ipclass2_pt\",\"industry_code\",\"ccc_standard\",\"ccc_item_code\",\"ccc_vis_prod_unit\",\"main_business00\",\"main_business31\",\"main_business140\",\"main_business170\",\"main_business210.1\",\"main_business260\"],\"xaxis\":\"x\",\"y\":[0.014766734264300894,0.011026364575395005,0.006711000346686723,0.008664785052967682,0.01188934952559377,0.016037746230206748,0.01327707944848204,0.014280693011165649,0.01179343232314227,0.012666094459920403,0.026929988367179924,0.0014151926379547077,0.0005673665554535894,0.004013418852293117,0.014490840523063021,0.003719058896741141,0.011677022347885866,0.011584161467251403,0.01072106060432833,0.02048554917901517,0.011879992537764728,0.00321574708060085,0.0049056502539211065,0.014986737472569478,0.011619170718669329,0.0007956531494342993,0.00439342015342224,0.014038992541871544,0.06754135568808337,0.001491385346473672,0.0014079556337346587,0.0012151640315479035,0.011040620350091861,0.0003121228573037514,0.0030976361318473633,0.0023869948590815905,0.0014780325511301012,0.0008252905773719608],\"yaxis\":\"y\",\"type\":\"bar\"},{\"alignmentgroup\":\"True\",\"hovertemplate\":\"Model=xgb_importance\\u003cbr\\u003efeature=%{x}\\u003cbr\\u003eImportance=%{y}\\u003cextra\\u003e\\u003c\\u002fextra\\u003e\",\"legendgroup\":\"xgb_importance\",\"marker\":{\"color\":\"#e5e4da\",\"pattern\":{\"shape\":\"\"}},\"name\":\"xgb_importance\",\"offsetgroup\":\"xgb_importance\",\"orientation\":\"v\",\"showlegend\":true,\"textposition\":\"auto\",\"x\":[\"relate_ent_cnt\",\"progro_roa\",\"tm_apply_cnt_total_3yr\",\"project_cnt_total_3yr\",\"mainbusinc_1yr\",\"security_cnt\",\"ipclass2_cnt\",\"mainbusinc_stablerate_3yr\",\"mainbusinc_grate_1yr\",\"shares_pt_max_indivual\",\"es_days\",\"patent_wgx_cnt_2yr\",\"patent_pledge_cnt_total_3yr\",\"patent_fmzl_sqcnt_total_3yr\",\"mainbusinc_2yr\",\"zb_grate_1yr\",\"progro_profitrate\",\"mainbusinc\",\"patent_sqrate_total_3yr\",\"regcap\",\"mainbusinc_grate_2yr\",\"patent_fmsq_grate_2yr\",\"winning_amt_1yr\",\"ipclass1_pt\",\"patent_indep_cnt\",\"security_pt\",\"patent_fm_cnt\",\"ipclass2_pt\",\"industry_code\",\"ccc_standard\",\"ccc_item_code\",\"ccc_vis_prod_unit\",\"main_business00\",\"main_business31\",\"main_business140\",\"main_business170\",\"main_business210.1\",\"main_business260\"],\"xaxis\":\"x\",\"y\":[0.0034416336566209793,0.0038484951946884394,0.01222220528870821,0.016367118805646896,0.0032784182112663984,0.0032419818453490734,0.005361953750252724,0.0038811741396784782,0.003821058664470911,0.002429508138448,0.004789288621395826,0.009409142658114433,0.01807168498635292,0.016937220469117165,0.00586305558681488,0.012396604754030704,0.0037671150639653206,0.005887611769139767,0.003390174824744463,0.004791858606040478,0.004501949064433575,0.015850231051445007,0.013049614615738392,0.012743331491947174,0.00365051394328475,0.014921583235263824,0.014608283527195454,0.004386459477245808,0.08380724489688873,0.022588538005948067,0.027834443375468254,0.009280216880142689,0.004192262422293425,0.011462604627013206,0.009760582819581032,0.009756392799317837,0.013689435087144375,0.017636647447943687],\"yaxis\":\"y\",\"type\":\"bar\"}],                        {\"template\":{\"data\":{\"histogram2dcontour\":[{\"type\":\"histogram2dcontour\",\"colorbar\":{\"outlinewidth\":0,\"ticks\":\"\"},\"colorscale\":[[0.0,\"#0d0887\"],[0.1111111111111111,\"#46039f\"],[0.2222222222222222,\"#7201a8\"],[0.3333333333333333,\"#9c179e\"],[0.4444444444444444,\"#bd3786\"],[0.5555555555555556,\"#d8576b\"],[0.6666666666666666,\"#ed7953\"],[0.7777777777777778,\"#fb9f3a\"],[0.8888888888888888,\"#fdca26\"],[1.0,\"#f0f921\"]]}],\"choropleth\":[{\"type\":\"choropleth\",\"colorbar\":{\"outlinewidth\":0,\"ticks\":\"\"}}],\"histogram2d\":[{\"type\":\"histogram2d\",\"colorbar\":{\"outlinewidth\":0,\"ticks\":\"\"},\"colorscale\":[[0.0,\"#0d0887\"],[0.1111111111111111,\"#46039f\"],[0.2222222222222222,\"#7201a8\"],[0.3333333333333333,\"#9c179e\"],[0.4444444444444444,\"#bd3786\"],[0.5555555555555556,\"#d8576b\"],[0.6666666666666666,\"#ed7953\"],[0.7777777777777778,\"#fb9f3a\"],[0.8888888888888888,\"#fdca26\"],[1.0,\"#f0f921\"]]}],\"heatmap\":[{\"type\":\"heatmap\",\"colorbar\":{\"outlinewidth\":0,\"ticks\":\"\"},\"colorscale\":[[0.0,\"#0d0887\"],[0.1111111111111111,\"#46039f\"],[0.2222222222222222,\"#7201a8\"],[0.3333333333333333,\"#9c179e\"],[0.4444444444444444,\"#bd3786\"],[0.5555555555555556,\"#d8576b\"],[0.6666666666666666,\"#ed7953\"],[0.7777777777777778,\"#fb9f3a\"],[0.8888888888888888,\"#fdca26\"],[1.0,\"#f0f921\"]]}],\"heatmapgl\":[{\"type\":\"heatmapgl\",\"colorbar\":{\"outlinewidth\":0,\"ticks\":\"\"},\"colorscale\":[[0.0,\"#0d0887\"],[0.1111111111111111,\"#46039f\"],[0.2222222222222222,\"#7201a8\"],[0.3333333333333333,\"#9c179e\"],[0.4444444444444444,\"#bd3786\"],[0.5555555555555556,\"#d8576b\"],[0.6666666666666666,\"#ed7953\"],[0.7777777777777778,\"#fb9f3a\"],[0.8888888888888888,\"#fdca26\"],[1.0,\"#f0f921\"]]}],\"contourcarpet\":[{\"type\":\"contourcarpet\",\"colorbar\":{\"outlinewidth\":0,\"ticks\":\"\"}}],\"contour\":[{\"type\":\"contour\",\"colorbar\":{\"outlinewidth\":0,\"ticks\":\"\"},\"colorscale\":[[0.0,\"#0d0887\"],[0.1111111111111111,\"#46039f\"],[0.2222222222222222,\"#7201a8\"],[0.3333333333333333,\"#9c179e\"],[0.4444444444444444,\"#bd3786\"],[0.5555555555555556,\"#d8576b\"],[0.6666666666666666,\"#ed7953\"],[0.7777777777777778,\"#fb9f3a\"],[0.8888888888888888,\"#fdca26\"],[1.0,\"#f0f921\"]]}],\"surface\":[{\"type\":\"surface\",\"colorbar\":{\"outlinewidth\":0,\"ticks\":\"\"},\"colorscale\":[[0.0,\"#0d0887\"],[0.1111111111111111,\"#46039f\"],[0.2222222222222222,\"#7201a8\"],[0.3333333333333333,\"#9c179e\"],[0.4444444444444444,\"#bd3786\"],[0.5555555555555556,\"#d8576b\"],[0.6666666666666666,\"#ed7953\"],[0.7777777777777778,\"#fb9f3a\"],[0.8888888888888888,\"#fdca26\"],[1.0,\"#f0f921\"]]}],\"mesh3d\":[{\"type\":\"mesh3d\",\"colorbar\":{\"outlinewidth\":0,\"ticks\":\"\"}}],\"scatter\":[{\"fillpattern\":{\"fillmode\":\"overlay\",\"size\":10,\"solidity\":0.2},\"type\":\"scatter\"}],\"parcoords\":[{\"type\":\"parcoords\",\"line\":{\"colorbar\":{\"outlinewidth\":0,\"ticks\":\"\"}}}],\"scatterpolargl\":[{\"type\":\"scatterpolargl\",\"marker\":{\"colorbar\":{\"outlinewidth\":0,\"ticks\":\"\"}}}],\"bar\":[{\"error_x\":{\"color\":\"#2a3f5f\"},\"error_y\":{\"color\":\"#2a3f5f\"},\"marker\":{\"line\":{\"color\":\"#E5ECF6\",\"width\":0.5},\"pattern\":{\"fillmode\":\"overlay\",\"size\":10,\"solidity\":0.2}},\"type\":\"bar\"}],\"scattergeo\":[{\"type\":\"scattergeo\",\"marker\":{\"colorbar\":{\"outlinewidth\":0,\"ticks\":\"\"}}}],\"scatterpolar\":[{\"type\":\"scatterpolar\",\"marker\":{\"colorbar\":{\"outlinewidth\":0,\"ticks\":\"\"}}}],\"histogram\":[{\"marker\":{\"pattern\":{\"fillmode\":\"overlay\",\"size\":10,\"solidity\":0.2}},\"type\":\"histogram\"}],\"scattergl\":[{\"type\":\"scattergl\",\"marker\":{\"colorbar\":{\"outlinewidth\":0,\"ticks\":\"\"}}}],\"scatter3d\":[{\"type\":\"scatter3d\",\"line\":{\"colorbar\":{\"outlinewidth\":0,\"ticks\":\"\"}},\"marker\":{\"colorbar\":{\"outlinewidth\":0,\"ticks\":\"\"}}}],\"scattermapbox\":[{\"type\":\"scattermapbox\",\"marker\":{\"colorbar\":{\"outlinewidth\":0,\"ticks\":\"\"}}}],\"scatterternary\":[{\"type\":\"scatterternary\",\"marker\":{\"colorbar\":{\"outlinewidth\":0,\"ticks\":\"\"}}}],\"scattercarpet\":[{\"type\":\"scattercarpet\",\"marker\":{\"colorbar\":{\"outlinewidth\":0,\"ticks\":\"\"}}}],\"carpet\":[{\"aaxis\":{\"endlinecolor\":\"#2a3f5f\",\"gridcolor\":\"white\",\"linecolor\":\"white\",\"minorgridcolor\":\"white\",\"startlinecolor\":\"#2a3f5f\"},\"baxis\":{\"endlinecolor\":\"#2a3f5f\",\"gridcolor\":\"white\",\"linecolor\":\"white\",\"minorgridcolor\":\"white\",\"startlinecolor\":\"#2a3f5f\"},\"type\":\"carpet\"}],\"table\":[{\"cells\":{\"fill\":{\"color\":\"#EBF0F8\"},\"line\":{\"color\":\"white\"}},\"header\":{\"fill\":{\"color\":\"#C8D4E3\"},\"line\":{\"color\":\"white\"}},\"type\":\"table\"}],\"barpolar\":[{\"marker\":{\"line\":{\"color\":\"#E5ECF6\",\"width\":0.5},\"pattern\":{\"fillmode\":\"overlay\",\"size\":10,\"solidity\":0.2}},\"type\":\"barpolar\"}],\"pie\":[{\"automargin\":true,\"type\":\"pie\"}]},\"layout\":{\"autotypenumbers\":\"strict\",\"colorway\":[\"#636efa\",\"#EF553B\",\"#00cc96\",\"#ab63fa\",\"#FFA15A\",\"#19d3f3\",\"#FF6692\",\"#B6E880\",\"#FF97FF\",\"#FECB52\"],\"font\":{\"color\":\"#2a3f5f\"},\"hovermode\":\"closest\",\"hoverlabel\":{\"align\":\"left\"},\"paper_bgcolor\":\"white\",\"plot_bgcolor\":\"#E5ECF6\",\"polar\":{\"bgcolor\":\"#E5ECF6\",\"angularaxis\":{\"gridcolor\":\"white\",\"linecolor\":\"white\",\"ticks\":\"\"},\"radialaxis\":{\"gridcolor\":\"white\",\"linecolor\":\"white\",\"ticks\":\"\"}},\"ternary\":{\"bgcolor\":\"#E5ECF6\",\"aaxis\":{\"gridcolor\":\"white\",\"linecolor\":\"white\",\"ticks\":\"\"},\"baxis\":{\"gridcolor\":\"white\",\"linecolor\":\"white\",\"ticks\":\"\"},\"caxis\":{\"gridcolor\":\"white\",\"linecolor\":\"white\",\"ticks\":\"\"}},\"coloraxis\":{\"colorbar\":{\"outlinewidth\":0,\"ticks\":\"\"}},\"colorscale\":{\"sequential\":[[0.0,\"#0d0887\"],[0.1111111111111111,\"#46039f\"],[0.2222222222222222,\"#7201a8\"],[0.3333333333333333,\"#9c179e\"],[0.4444444444444444,\"#bd3786\"],[0.5555555555555556,\"#d8576b\"],[0.6666666666666666,\"#ed7953\"],[0.7777777777777778,\"#fb9f3a\"],[0.8888888888888888,\"#fdca26\"],[1.0,\"#f0f921\"]],\"sequentialminus\":[[0.0,\"#0d0887\"],[0.1111111111111111,\"#46039f\"],[0.2222222222222222,\"#7201a8\"],[0.3333333333333333,\"#9c179e\"],[0.4444444444444444,\"#bd3786\"],[0.5555555555555556,\"#d8576b\"],[0.6666666666666666,\"#ed7953\"],[0.7777777777777778,\"#fb9f3a\"],[0.8888888888888888,\"#fdca26\"],[1.0,\"#f0f921\"]],\"diverging\":[[0,\"#8e0152\"],[0.1,\"#c51b7d\"],[0.2,\"#de77ae\"],[0.3,\"#f1b6da\"],[0.4,\"#fde0ef\"],[0.5,\"#f7f7f7\"],[0.6,\"#e6f5d0\"],[0.7,\"#b8e186\"],[0.8,\"#7fbc41\"],[0.9,\"#4d9221\"],[1,\"#276419\"]]},\"xaxis\":{\"gridcolor\":\"white\",\"linecolor\":\"white\",\"ticks\":\"\",\"title\":{\"standoff\":15},\"zerolinecolor\":\"white\",\"automargin\":true,\"zerolinewidth\":2},\"yaxis\":{\"gridcolor\":\"white\",\"linecolor\":\"white\",\"ticks\":\"\",\"title\":{\"standoff\":15},\"zerolinecolor\":\"white\",\"automargin\":true,\"zerolinewidth\":2},\"scene\":{\"xaxis\":{\"backgroundcolor\":\"#E5ECF6\",\"gridcolor\":\"white\",\"linecolor\":\"white\",\"showbackground\":true,\"ticks\":\"\",\"zerolinecolor\":\"white\",\"gridwidth\":2},\"yaxis\":{\"backgroundcolor\":\"#E5ECF6\",\"gridcolor\":\"white\",\"linecolor\":\"white\",\"showbackground\":true,\"ticks\":\"\",\"zerolinecolor\":\"white\",\"gridwidth\":2},\"zaxis\":{\"backgroundcolor\":\"#E5ECF6\",\"gridcolor\":\"white\",\"linecolor\":\"white\",\"showbackground\":true,\"ticks\":\"\",\"zerolinecolor\":\"white\",\"gridwidth\":2}},\"shapedefaults\":{\"line\":{\"color\":\"#2a3f5f\"}},\"annotationdefaults\":{\"arrowcolor\":\"#2a3f5f\",\"arrowhead\":0,\"arrowwidth\":1},\"geo\":{\"bgcolor\":\"white\",\"landcolor\":\"#E5ECF6\",\"subunitcolor\":\"white\",\"showland\":true,\"showlakes\":true,\"lakecolor\":\"white\"},\"title\":{\"x\":0.05},\"mapbox\":{\"style\":\"light\"}}},\"xaxis\":{\"anchor\":\"y\",\"domain\":[0.0,1.0],\"title\":{\"text\":\"Model\"}},\"yaxis\":{\"anchor\":\"x\",\"domain\":[0.0,1.0],\"title\":{\"text\":\"Feature Importance\"}},\"legend\":{\"title\":{\"text\":\"Model\"},\"tracegroupgap\":0},\"title\":{\"text\":\"Feature Importance from Random Forest and XGBoost\\u003cbr\\u003e\\u003csup\\u003ekeep features\\u003c\\u002fsup\\u003e\",\"font\":{\"color\":\"black\",\"size\":20},\"x\":0},\"barmode\":\"group\",\"font\":{\"family\":\"Times New Roman\"},\"plot_bgcolor\":\"rgba(0,0,0,0)\",\"paper_bgcolor\":\"rgba(0,0,0,0)\"},                        {\"responsive\": true}                    ).then(function(){\n",
              "                            \n",
              "var gd = document.getElementById('e5620511-ed64-4173-9381-b9d0d7223d69');\n",
              "var x = new MutationObserver(function (mutations, observer) {{\n",
              "        var display = window.getComputedStyle(gd).display;\n",
              "        if (!display || display === 'none') {{\n",
              "            console.log([gd, 'removed!']);\n",
              "            Plotly.purge(gd);\n",
              "            observer.disconnect();\n",
              "        }}\n",
              "}});\n",
              "\n",
              "// Listen for the removal of the full notebook cells\n",
              "var notebookContainer = gd.closest('#notebook-container');\n",
              "if (notebookContainer) {{\n",
              "    x.observe(notebookContainer, {childList: true});\n",
              "}}\n",
              "\n",
              "// Listen for the clearing of the current output cell\n",
              "var outputEl = gd.closest('.output');\n",
              "if (outputEl) {{\n",
              "    x.observe(outputEl, {childList: true});\n",
              "}}\n",
              "\n",
              "                        })                };                            </script>        </div>\n",
              "</body>\n",
              "</html>"
            ]
          },
          "metadata": {}
        }
      ],
      "source": [
        "n_features=20\n",
        "fe = FeatureEngineering(X_train, y_train,n_features)\n",
        "keep_feas,xgb_features,rf_features = fe.drop_importance(keep_dir,_EXP3_EDA_DIR)"
      ]
    },
    {
      "cell_type": "code",
      "execution_count": null,
      "metadata": {
        "id": "HhBfRYM-pLOQ"
      },
      "outputs": [],
      "source": [
        "keep_feas = ['ipclass2_cnt', 'main_business210.1', 'relate_ent_cnt', 'es_days', 'mainbusinc_1yr', 'ccc_standard', 'patent_indep_cnt', 'patent_fm_cnt', 'progro_roa', 'shares_pt_max_indivual', 'patent_fmsq_grate_2yr', 'progro_profitrate', 'project_cnt_total_3yr', 'ccc_vis_prod_unit', 'patent_sqrate_total_3yr', 'ccc_item_code', 'tm_apply_cnt_total_3yr', 'main_business170', 'security_pt', 'zb_grate_1yr', 'patent_pledge_cnt_total_3yr', 'mainbusinc', 'main_business260', 'patent_wgx_cnt_2yr', 'mainbusinc_2yr', 'main_business00', 'winning_amt_1yr', 'ipclass1_pt', 'patent_fmzl_sqcnt_total_3yr', 'ipclass2_pt', 'mainbusinc_stablerate_3yr', 'regcap', 'security_cnt', 'main_business140', 'mainbusinc_grate_1yr', 'main_business31', 'mainbusinc_grate_2yr', 'industry_code']"
      ]
    },
    {
      "cell_type": "code",
      "execution_count": null,
      "metadata": {
        "id": "r1-J44Dhm5xj"
      },
      "outputs": [],
      "source": [
        "most_feas = list(set(['industry_code', 'es_days', 'security_cnt', 'regcap'] + xgb_features))"
      ]
    },
    {
      "cell_type": "code",
      "execution_count": null,
      "metadata": {
        "colab": {
          "base_uri": "https://localhost:8080/"
        },
        "id": "BKSiiONbokrl",
        "outputId": "2c514f62-79c3-4e2f-ad68-bb688b1c3fa9"
      },
      "outputs": [
        {
          "output_type": "execute_result",
          "data": {
            "text/plain": [
              "['tm_apply_cnt_total_3yr',\n",
              " 'main_business260',\n",
              " 'zb_grate_1yr',\n",
              " 'main_business31',\n",
              " 'main_business170',\n",
              " 'patent_pledge_cnt_total_3yr',\n",
              " 'ccc_standard',\n",
              " 'regcap',\n",
              " 'security_cnt',\n",
              " 'patent_fm_cnt',\n",
              " 'winning_amt_1yr',\n",
              " 'patent_wgx_cnt_2yr',\n",
              " 'main_business210.1',\n",
              " 'ccc_item_code',\n",
              " 'ccc_vis_prod_unit',\n",
              " 'patent_fmzl_sqcnt_total_3yr',\n",
              " 'project_cnt_total_3yr',\n",
              " 'security_pt',\n",
              " 'main_business140',\n",
              " 'industry_code',\n",
              " 'patent_fmsq_grate_2yr',\n",
              " 'ipclass1_pt',\n",
              " 'es_days']"
            ]
          },
          "metadata": {},
          "execution_count": 31
        }
      ],
      "source": [
        "most_feas"
      ]
    },
    {
      "cell_type": "markdown",
      "metadata": {
        "id": "uMNmkpZ2pP21"
      },
      "source": [
        "# Supervised"
      ]
    },
    {
      "cell_type": "code",
      "execution_count": null,
      "metadata": {
        "id": "NN3WmMqWzlqa"
      },
      "outputs": [],
      "source": [
        "sample_weights = compute_sample_weight(class_weight='balanced',y=y_train['industry'])"
      ]
    },
    {
      "cell_type": "markdown",
      "metadata": {
        "id": "7LUACHMitELV"
      },
      "source": [
        "## All features"
      ]
    },
    {
      "cell_type": "code",
      "execution_count": null,
      "metadata": {
        "colab": {
          "base_uri": "https://localhost:8080/",
          "height": 223
        },
        "id": "43dkyywbpr1s",
        "outputId": "0609c977-4d7d-4e7c-b787-598c40f303c3"
      },
      "outputs": [
        {
          "output_type": "stream",
          "name": "stdout",
          "text": [
            "Model Performance\n"
          ]
        },
        {
          "output_type": "display_data",
          "data": {
            "text/plain": [
              "  Model  acc_valid  acc_test  f1_macro_valid  f1_macro_test\n",
              "0    lr      21.98     17.41            0.15           0.14\n",
              "1   xgb      47.26     54.20            0.48           0.56\n",
              "2   svm      19.81     16.38            0.12           0.10\n",
              "3    rf      38.19     39.14            0.37           0.40\n",
              "4   mlp      14.29     14.23            0.07           0.07"
            ],
            "text/html": [
              "\n",
              "  <div id=\"df-811034ca-0c00-470f-8183-8135a2845a39\" class=\"colab-df-container\">\n",
              "    <div>\n",
              "<style scoped>\n",
              "    .dataframe tbody tr th:only-of-type {\n",
              "        vertical-align: middle;\n",
              "    }\n",
              "\n",
              "    .dataframe tbody tr th {\n",
              "        vertical-align: top;\n",
              "    }\n",
              "\n",
              "    .dataframe thead th {\n",
              "        text-align: right;\n",
              "    }\n",
              "</style>\n",
              "<table border=\"1\" class=\"dataframe\">\n",
              "  <thead>\n",
              "    <tr style=\"text-align: right;\">\n",
              "      <th></th>\n",
              "      <th>Model</th>\n",
              "      <th>acc_valid</th>\n",
              "      <th>acc_test</th>\n",
              "      <th>f1_macro_valid</th>\n",
              "      <th>f1_macro_test</th>\n",
              "    </tr>\n",
              "  </thead>\n",
              "  <tbody>\n",
              "    <tr>\n",
              "      <th>0</th>\n",
              "      <td>lr</td>\n",
              "      <td>21.98</td>\n",
              "      <td>17.41</td>\n",
              "      <td>0.15</td>\n",
              "      <td>0.14</td>\n",
              "    </tr>\n",
              "    <tr>\n",
              "      <th>1</th>\n",
              "      <td>xgb</td>\n",
              "      <td>47.26</td>\n",
              "      <td>54.20</td>\n",
              "      <td>0.48</td>\n",
              "      <td>0.56</td>\n",
              "    </tr>\n",
              "    <tr>\n",
              "      <th>2</th>\n",
              "      <td>svm</td>\n",
              "      <td>19.81</td>\n",
              "      <td>16.38</td>\n",
              "      <td>0.12</td>\n",
              "      <td>0.10</td>\n",
              "    </tr>\n",
              "    <tr>\n",
              "      <th>3</th>\n",
              "      <td>rf</td>\n",
              "      <td>38.19</td>\n",
              "      <td>39.14</td>\n",
              "      <td>0.37</td>\n",
              "      <td>0.40</td>\n",
              "    </tr>\n",
              "    <tr>\n",
              "      <th>4</th>\n",
              "      <td>mlp</td>\n",
              "      <td>14.29</td>\n",
              "      <td>14.23</td>\n",
              "      <td>0.07</td>\n",
              "      <td>0.07</td>\n",
              "    </tr>\n",
              "  </tbody>\n",
              "</table>\n",
              "</div>\n",
              "    <div class=\"colab-df-buttons\">\n",
              "\n",
              "  <div class=\"colab-df-container\">\n",
              "    <button class=\"colab-df-convert\" onclick=\"convertToInteractive('df-811034ca-0c00-470f-8183-8135a2845a39')\"\n",
              "            title=\"Convert this dataframe to an interactive table.\"\n",
              "            style=\"display:none;\">\n",
              "\n",
              "  <svg xmlns=\"http://www.w3.org/2000/svg\" height=\"24px\" viewBox=\"0 -960 960 960\">\n",
              "    <path d=\"M120-120v-720h720v720H120Zm60-500h600v-160H180v160Zm220 220h160v-160H400v160Zm0 220h160v-160H400v160ZM180-400h160v-160H180v160Zm440 0h160v-160H620v160ZM180-180h160v-160H180v160Zm440 0h160v-160H620v160Z\"/>\n",
              "  </svg>\n",
              "    </button>\n",
              "\n",
              "  <style>\n",
              "    .colab-df-container {\n",
              "      display:flex;\n",
              "      gap: 12px;\n",
              "    }\n",
              "\n",
              "    .colab-df-convert {\n",
              "      background-color: #E8F0FE;\n",
              "      border: none;\n",
              "      border-radius: 50%;\n",
              "      cursor: pointer;\n",
              "      display: none;\n",
              "      fill: #1967D2;\n",
              "      height: 32px;\n",
              "      padding: 0 0 0 0;\n",
              "      width: 32px;\n",
              "    }\n",
              "\n",
              "    .colab-df-convert:hover {\n",
              "      background-color: #E2EBFA;\n",
              "      box-shadow: 0px 1px 2px rgba(60, 64, 67, 0.3), 0px 1px 3px 1px rgba(60, 64, 67, 0.15);\n",
              "      fill: #174EA6;\n",
              "    }\n",
              "\n",
              "    .colab-df-buttons div {\n",
              "      margin-bottom: 4px;\n",
              "    }\n",
              "\n",
              "    [theme=dark] .colab-df-convert {\n",
              "      background-color: #3B4455;\n",
              "      fill: #D2E3FC;\n",
              "    }\n",
              "\n",
              "    [theme=dark] .colab-df-convert:hover {\n",
              "      background-color: #434B5C;\n",
              "      box-shadow: 0px 1px 3px 1px rgba(0, 0, 0, 0.15);\n",
              "      filter: drop-shadow(0px 1px 2px rgba(0, 0, 0, 0.3));\n",
              "      fill: #FFFFFF;\n",
              "    }\n",
              "  </style>\n",
              "\n",
              "    <script>\n",
              "      const buttonEl =\n",
              "        document.querySelector('#df-811034ca-0c00-470f-8183-8135a2845a39 button.colab-df-convert');\n",
              "      buttonEl.style.display =\n",
              "        google.colab.kernel.accessAllowed ? 'block' : 'none';\n",
              "\n",
              "      async function convertToInteractive(key) {\n",
              "        const element = document.querySelector('#df-811034ca-0c00-470f-8183-8135a2845a39');\n",
              "        const dataTable =\n",
              "          await google.colab.kernel.invokeFunction('convertToInteractive',\n",
              "                                                    [key], {});\n",
              "        if (!dataTable) return;\n",
              "\n",
              "        const docLinkHtml = 'Like what you see? Visit the ' +\n",
              "          '<a target=\"_blank\" href=https://colab.research.google.com/notebooks/data_table.ipynb>data table notebook</a>'\n",
              "          + ' to learn more about interactive tables.';\n",
              "        element.innerHTML = '';\n",
              "        dataTable['output_type'] = 'display_data';\n",
              "        await google.colab.output.renderOutput(dataTable, element);\n",
              "        const docLink = document.createElement('div');\n",
              "        docLink.innerHTML = docLinkHtml;\n",
              "        element.appendChild(docLink);\n",
              "      }\n",
              "    </script>\n",
              "  </div>\n",
              "\n",
              "\n",
              "<div id=\"df-d694b670-8ecf-42f2-b21b-3e61637959ab\">\n",
              "  <button class=\"colab-df-quickchart\" onclick=\"quickchart('df-d694b670-8ecf-42f2-b21b-3e61637959ab')\"\n",
              "            title=\"Suggest charts\"\n",
              "            style=\"display:none;\">\n",
              "\n",
              "<svg xmlns=\"http://www.w3.org/2000/svg\" height=\"24px\"viewBox=\"0 0 24 24\"\n",
              "     width=\"24px\">\n",
              "    <g>\n",
              "        <path d=\"M19 3H5c-1.1 0-2 .9-2 2v14c0 1.1.9 2 2 2h14c1.1 0 2-.9 2-2V5c0-1.1-.9-2-2-2zM9 17H7v-7h2v7zm4 0h-2V7h2v10zm4 0h-2v-4h2v4z\"/>\n",
              "    </g>\n",
              "</svg>\n",
              "  </button>\n",
              "\n",
              "<style>\n",
              "  .colab-df-quickchart {\n",
              "      --bg-color: #E8F0FE;\n",
              "      --fill-color: #1967D2;\n",
              "      --hover-bg-color: #E2EBFA;\n",
              "      --hover-fill-color: #174EA6;\n",
              "      --disabled-fill-color: #AAA;\n",
              "      --disabled-bg-color: #DDD;\n",
              "  }\n",
              "\n",
              "  [theme=dark] .colab-df-quickchart {\n",
              "      --bg-color: #3B4455;\n",
              "      --fill-color: #D2E3FC;\n",
              "      --hover-bg-color: #434B5C;\n",
              "      --hover-fill-color: #FFFFFF;\n",
              "      --disabled-bg-color: #3B4455;\n",
              "      --disabled-fill-color: #666;\n",
              "  }\n",
              "\n",
              "  .colab-df-quickchart {\n",
              "    background-color: var(--bg-color);\n",
              "    border: none;\n",
              "    border-radius: 50%;\n",
              "    cursor: pointer;\n",
              "    display: none;\n",
              "    fill: var(--fill-color);\n",
              "    height: 32px;\n",
              "    padding: 0;\n",
              "    width: 32px;\n",
              "  }\n",
              "\n",
              "  .colab-df-quickchart:hover {\n",
              "    background-color: var(--hover-bg-color);\n",
              "    box-shadow: 0 1px 2px rgba(60, 64, 67, 0.3), 0 1px 3px 1px rgba(60, 64, 67, 0.15);\n",
              "    fill: var(--button-hover-fill-color);\n",
              "  }\n",
              "\n",
              "  .colab-df-quickchart-complete:disabled,\n",
              "  .colab-df-quickchart-complete:disabled:hover {\n",
              "    background-color: var(--disabled-bg-color);\n",
              "    fill: var(--disabled-fill-color);\n",
              "    box-shadow: none;\n",
              "  }\n",
              "\n",
              "  .colab-df-spinner {\n",
              "    border: 2px solid var(--fill-color);\n",
              "    border-color: transparent;\n",
              "    border-bottom-color: var(--fill-color);\n",
              "    animation:\n",
              "      spin 1s steps(1) infinite;\n",
              "  }\n",
              "\n",
              "  @keyframes spin {\n",
              "    0% {\n",
              "      border-color: transparent;\n",
              "      border-bottom-color: var(--fill-color);\n",
              "      border-left-color: var(--fill-color);\n",
              "    }\n",
              "    20% {\n",
              "      border-color: transparent;\n",
              "      border-left-color: var(--fill-color);\n",
              "      border-top-color: var(--fill-color);\n",
              "    }\n",
              "    30% {\n",
              "      border-color: transparent;\n",
              "      border-left-color: var(--fill-color);\n",
              "      border-top-color: var(--fill-color);\n",
              "      border-right-color: var(--fill-color);\n",
              "    }\n",
              "    40% {\n",
              "      border-color: transparent;\n",
              "      border-right-color: var(--fill-color);\n",
              "      border-top-color: var(--fill-color);\n",
              "    }\n",
              "    60% {\n",
              "      border-color: transparent;\n",
              "      border-right-color: var(--fill-color);\n",
              "    }\n",
              "    80% {\n",
              "      border-color: transparent;\n",
              "      border-right-color: var(--fill-color);\n",
              "      border-bottom-color: var(--fill-color);\n",
              "    }\n",
              "    90% {\n",
              "      border-color: transparent;\n",
              "      border-bottom-color: var(--fill-color);\n",
              "    }\n",
              "  }\n",
              "</style>\n",
              "\n",
              "  <script>\n",
              "    async function quickchart(key) {\n",
              "      const quickchartButtonEl =\n",
              "        document.querySelector('#' + key + ' button');\n",
              "      quickchartButtonEl.disabled = true;  // To prevent multiple clicks.\n",
              "      quickchartButtonEl.classList.add('colab-df-spinner');\n",
              "      try {\n",
              "        const charts = await google.colab.kernel.invokeFunction(\n",
              "            'suggestCharts', [key], {});\n",
              "      } catch (error) {\n",
              "        console.error('Error during call to suggestCharts:', error);\n",
              "      }\n",
              "      quickchartButtonEl.classList.remove('colab-df-spinner');\n",
              "      quickchartButtonEl.classList.add('colab-df-quickchart-complete');\n",
              "    }\n",
              "    (() => {\n",
              "      let quickchartButtonEl =\n",
              "        document.querySelector('#df-d694b670-8ecf-42f2-b21b-3e61637959ab button');\n",
              "      quickchartButtonEl.style.display =\n",
              "        google.colab.kernel.accessAllowed ? 'block' : 'none';\n",
              "    })();\n",
              "  </script>\n",
              "</div>\n",
              "    </div>\n",
              "  </div>\n"
            ]
          },
          "metadata": {}
        }
      ],
      "source": [
        "model_lst = ['lr','xgb','svm','rf','mlp']\n",
        "problem = 'multiclass'\n",
        "used_feas = X_train.columns.tolist()\n",
        "report_dir = _SUPERVISED_ALL_RESULTS_DIR\n",
        "\n",
        "supervised_result_all = RunSupervised(model_lst,problem,X_train,y_train,X_valid,y_valid,X_test,y_test,used_feas,report_dir,algorithm='all')"
      ]
    },
    {
      "cell_type": "markdown",
      "metadata": {
        "id": "cmCgIotJps2R"
      },
      "source": [
        "## XGBoost Important Features"
      ]
    },
    {
      "cell_type": "code",
      "execution_count": null,
      "metadata": {
        "colab": {
          "base_uri": "https://localhost:8080/",
          "height": 223
        },
        "id": "pb90xVYstMOL",
        "outputId": "0b09d82b-53a8-477f-bfc4-c9473fce9447"
      },
      "outputs": [
        {
          "output_type": "stream",
          "name": "stdout",
          "text": [
            "Model Performance\n"
          ]
        },
        {
          "output_type": "display_data",
          "data": {
            "text/plain": [
              "  Model  acc_valid  acc_test  f1_macro_valid  f1_macro_test\n",
              "0    lr      32.09     31.05            0.29           0.26\n",
              "1   xgb      50.50     47.90            0.53           0.49\n",
              "2   svm      17.57     17.01            0.06           0.06\n",
              "3    rf      47.91     47.21            0.48           0.48\n",
              "4   mlp      16.26     15.00            0.10           0.08"
            ],
            "text/html": [
              "\n",
              "  <div id=\"df-72eef2d1-3d12-4a18-afb4-2a5a5961f8e6\" class=\"colab-df-container\">\n",
              "    <div>\n",
              "<style scoped>\n",
              "    .dataframe tbody tr th:only-of-type {\n",
              "        vertical-align: middle;\n",
              "    }\n",
              "\n",
              "    .dataframe tbody tr th {\n",
              "        vertical-align: top;\n",
              "    }\n",
              "\n",
              "    .dataframe thead th {\n",
              "        text-align: right;\n",
              "    }\n",
              "</style>\n",
              "<table border=\"1\" class=\"dataframe\">\n",
              "  <thead>\n",
              "    <tr style=\"text-align: right;\">\n",
              "      <th></th>\n",
              "      <th>Model</th>\n",
              "      <th>acc_valid</th>\n",
              "      <th>acc_test</th>\n",
              "      <th>f1_macro_valid</th>\n",
              "      <th>f1_macro_test</th>\n",
              "    </tr>\n",
              "  </thead>\n",
              "  <tbody>\n",
              "    <tr>\n",
              "      <th>0</th>\n",
              "      <td>lr</td>\n",
              "      <td>32.09</td>\n",
              "      <td>31.05</td>\n",
              "      <td>0.29</td>\n",
              "      <td>0.26</td>\n",
              "    </tr>\n",
              "    <tr>\n",
              "      <th>1</th>\n",
              "      <td>xgb</td>\n",
              "      <td>50.50</td>\n",
              "      <td>47.90</td>\n",
              "      <td>0.53</td>\n",
              "      <td>0.49</td>\n",
              "    </tr>\n",
              "    <tr>\n",
              "      <th>2</th>\n",
              "      <td>svm</td>\n",
              "      <td>17.57</td>\n",
              "      <td>17.01</td>\n",
              "      <td>0.06</td>\n",
              "      <td>0.06</td>\n",
              "    </tr>\n",
              "    <tr>\n",
              "      <th>3</th>\n",
              "      <td>rf</td>\n",
              "      <td>47.91</td>\n",
              "      <td>47.21</td>\n",
              "      <td>0.48</td>\n",
              "      <td>0.48</td>\n",
              "    </tr>\n",
              "    <tr>\n",
              "      <th>4</th>\n",
              "      <td>mlp</td>\n",
              "      <td>16.26</td>\n",
              "      <td>15.00</td>\n",
              "      <td>0.10</td>\n",
              "      <td>0.08</td>\n",
              "    </tr>\n",
              "  </tbody>\n",
              "</table>\n",
              "</div>\n",
              "    <div class=\"colab-df-buttons\">\n",
              "\n",
              "  <div class=\"colab-df-container\">\n",
              "    <button class=\"colab-df-convert\" onclick=\"convertToInteractive('df-72eef2d1-3d12-4a18-afb4-2a5a5961f8e6')\"\n",
              "            title=\"Convert this dataframe to an interactive table.\"\n",
              "            style=\"display:none;\">\n",
              "\n",
              "  <svg xmlns=\"http://www.w3.org/2000/svg\" height=\"24px\" viewBox=\"0 -960 960 960\">\n",
              "    <path d=\"M120-120v-720h720v720H120Zm60-500h600v-160H180v160Zm220 220h160v-160H400v160Zm0 220h160v-160H400v160ZM180-400h160v-160H180v160Zm440 0h160v-160H620v160ZM180-180h160v-160H180v160Zm440 0h160v-160H620v160Z\"/>\n",
              "  </svg>\n",
              "    </button>\n",
              "\n",
              "  <style>\n",
              "    .colab-df-container {\n",
              "      display:flex;\n",
              "      gap: 12px;\n",
              "    }\n",
              "\n",
              "    .colab-df-convert {\n",
              "      background-color: #E8F0FE;\n",
              "      border: none;\n",
              "      border-radius: 50%;\n",
              "      cursor: pointer;\n",
              "      display: none;\n",
              "      fill: #1967D2;\n",
              "      height: 32px;\n",
              "      padding: 0 0 0 0;\n",
              "      width: 32px;\n",
              "    }\n",
              "\n",
              "    .colab-df-convert:hover {\n",
              "      background-color: #E2EBFA;\n",
              "      box-shadow: 0px 1px 2px rgba(60, 64, 67, 0.3), 0px 1px 3px 1px rgba(60, 64, 67, 0.15);\n",
              "      fill: #174EA6;\n",
              "    }\n",
              "\n",
              "    .colab-df-buttons div {\n",
              "      margin-bottom: 4px;\n",
              "    }\n",
              "\n",
              "    [theme=dark] .colab-df-convert {\n",
              "      background-color: #3B4455;\n",
              "      fill: #D2E3FC;\n",
              "    }\n",
              "\n",
              "    [theme=dark] .colab-df-convert:hover {\n",
              "      background-color: #434B5C;\n",
              "      box-shadow: 0px 1px 3px 1px rgba(0, 0, 0, 0.15);\n",
              "      filter: drop-shadow(0px 1px 2px rgba(0, 0, 0, 0.3));\n",
              "      fill: #FFFFFF;\n",
              "    }\n",
              "  </style>\n",
              "\n",
              "    <script>\n",
              "      const buttonEl =\n",
              "        document.querySelector('#df-72eef2d1-3d12-4a18-afb4-2a5a5961f8e6 button.colab-df-convert');\n",
              "      buttonEl.style.display =\n",
              "        google.colab.kernel.accessAllowed ? 'block' : 'none';\n",
              "\n",
              "      async function convertToInteractive(key) {\n",
              "        const element = document.querySelector('#df-72eef2d1-3d12-4a18-afb4-2a5a5961f8e6');\n",
              "        const dataTable =\n",
              "          await google.colab.kernel.invokeFunction('convertToInteractive',\n",
              "                                                    [key], {});\n",
              "        if (!dataTable) return;\n",
              "\n",
              "        const docLinkHtml = 'Like what you see? Visit the ' +\n",
              "          '<a target=\"_blank\" href=https://colab.research.google.com/notebooks/data_table.ipynb>data table notebook</a>'\n",
              "          + ' to learn more about interactive tables.';\n",
              "        element.innerHTML = '';\n",
              "        dataTable['output_type'] = 'display_data';\n",
              "        await google.colab.output.renderOutput(dataTable, element);\n",
              "        const docLink = document.createElement('div');\n",
              "        docLink.innerHTML = docLinkHtml;\n",
              "        element.appendChild(docLink);\n",
              "      }\n",
              "    </script>\n",
              "  </div>\n",
              "\n",
              "\n",
              "<div id=\"df-343fba88-5eba-4230-bcf9-fc62e14e0764\">\n",
              "  <button class=\"colab-df-quickchart\" onclick=\"quickchart('df-343fba88-5eba-4230-bcf9-fc62e14e0764')\"\n",
              "            title=\"Suggest charts\"\n",
              "            style=\"display:none;\">\n",
              "\n",
              "<svg xmlns=\"http://www.w3.org/2000/svg\" height=\"24px\"viewBox=\"0 0 24 24\"\n",
              "     width=\"24px\">\n",
              "    <g>\n",
              "        <path d=\"M19 3H5c-1.1 0-2 .9-2 2v14c0 1.1.9 2 2 2h14c1.1 0 2-.9 2-2V5c0-1.1-.9-2-2-2zM9 17H7v-7h2v7zm4 0h-2V7h2v10zm4 0h-2v-4h2v4z\"/>\n",
              "    </g>\n",
              "</svg>\n",
              "  </button>\n",
              "\n",
              "<style>\n",
              "  .colab-df-quickchart {\n",
              "      --bg-color: #E8F0FE;\n",
              "      --fill-color: #1967D2;\n",
              "      --hover-bg-color: #E2EBFA;\n",
              "      --hover-fill-color: #174EA6;\n",
              "      --disabled-fill-color: #AAA;\n",
              "      --disabled-bg-color: #DDD;\n",
              "  }\n",
              "\n",
              "  [theme=dark] .colab-df-quickchart {\n",
              "      --bg-color: #3B4455;\n",
              "      --fill-color: #D2E3FC;\n",
              "      --hover-bg-color: #434B5C;\n",
              "      --hover-fill-color: #FFFFFF;\n",
              "      --disabled-bg-color: #3B4455;\n",
              "      --disabled-fill-color: #666;\n",
              "  }\n",
              "\n",
              "  .colab-df-quickchart {\n",
              "    background-color: var(--bg-color);\n",
              "    border: none;\n",
              "    border-radius: 50%;\n",
              "    cursor: pointer;\n",
              "    display: none;\n",
              "    fill: var(--fill-color);\n",
              "    height: 32px;\n",
              "    padding: 0;\n",
              "    width: 32px;\n",
              "  }\n",
              "\n",
              "  .colab-df-quickchart:hover {\n",
              "    background-color: var(--hover-bg-color);\n",
              "    box-shadow: 0 1px 2px rgba(60, 64, 67, 0.3), 0 1px 3px 1px rgba(60, 64, 67, 0.15);\n",
              "    fill: var(--button-hover-fill-color);\n",
              "  }\n",
              "\n",
              "  .colab-df-quickchart-complete:disabled,\n",
              "  .colab-df-quickchart-complete:disabled:hover {\n",
              "    background-color: var(--disabled-bg-color);\n",
              "    fill: var(--disabled-fill-color);\n",
              "    box-shadow: none;\n",
              "  }\n",
              "\n",
              "  .colab-df-spinner {\n",
              "    border: 2px solid var(--fill-color);\n",
              "    border-color: transparent;\n",
              "    border-bottom-color: var(--fill-color);\n",
              "    animation:\n",
              "      spin 1s steps(1) infinite;\n",
              "  }\n",
              "\n",
              "  @keyframes spin {\n",
              "    0% {\n",
              "      border-color: transparent;\n",
              "      border-bottom-color: var(--fill-color);\n",
              "      border-left-color: var(--fill-color);\n",
              "    }\n",
              "    20% {\n",
              "      border-color: transparent;\n",
              "      border-left-color: var(--fill-color);\n",
              "      border-top-color: var(--fill-color);\n",
              "    }\n",
              "    30% {\n",
              "      border-color: transparent;\n",
              "      border-left-color: var(--fill-color);\n",
              "      border-top-color: var(--fill-color);\n",
              "      border-right-color: var(--fill-color);\n",
              "    }\n",
              "    40% {\n",
              "      border-color: transparent;\n",
              "      border-right-color: var(--fill-color);\n",
              "      border-top-color: var(--fill-color);\n",
              "    }\n",
              "    60% {\n",
              "      border-color: transparent;\n",
              "      border-right-color: var(--fill-color);\n",
              "    }\n",
              "    80% {\n",
              "      border-color: transparent;\n",
              "      border-right-color: var(--fill-color);\n",
              "      border-bottom-color: var(--fill-color);\n",
              "    }\n",
              "    90% {\n",
              "      border-color: transparent;\n",
              "      border-bottom-color: var(--fill-color);\n",
              "    }\n",
              "  }\n",
              "</style>\n",
              "\n",
              "  <script>\n",
              "    async function quickchart(key) {\n",
              "      const quickchartButtonEl =\n",
              "        document.querySelector('#' + key + ' button');\n",
              "      quickchartButtonEl.disabled = true;  // To prevent multiple clicks.\n",
              "      quickchartButtonEl.classList.add('colab-df-spinner');\n",
              "      try {\n",
              "        const charts = await google.colab.kernel.invokeFunction(\n",
              "            'suggestCharts', [key], {});\n",
              "      } catch (error) {\n",
              "        console.error('Error during call to suggestCharts:', error);\n",
              "      }\n",
              "      quickchartButtonEl.classList.remove('colab-df-spinner');\n",
              "      quickchartButtonEl.classList.add('colab-df-quickchart-complete');\n",
              "    }\n",
              "    (() => {\n",
              "      let quickchartButtonEl =\n",
              "        document.querySelector('#df-343fba88-5eba-4230-bcf9-fc62e14e0764 button');\n",
              "      quickchartButtonEl.style.display =\n",
              "        google.colab.kernel.accessAllowed ? 'block' : 'none';\n",
              "    })();\n",
              "  </script>\n",
              "</div>\n",
              "    </div>\n",
              "  </div>\n"
            ]
          },
          "metadata": {}
        }
      ],
      "source": [
        "model_lst = ['lr','xgb','svm','rf','mlp']\n",
        "problem = 'multiclass'\n",
        "used_feas = xgb_features\n",
        "report_dir = _SUPERVISED_XGB_RESULTS_DIR\n",
        "\n",
        "supervised_result_xgb = RunSupervised(model_lst,problem,X_train,y_train,X_valid,y_valid,X_test,y_test,used_feas,report_dir,algorithm='supervised')"
      ]
    },
    {
      "cell_type": "markdown",
      "metadata": {
        "id": "_bzrasviqFD-"
      },
      "source": [
        "## Random Forest Important Features"
      ]
    },
    {
      "cell_type": "code",
      "execution_count": null,
      "metadata": {
        "colab": {
          "base_uri": "https://localhost:8080/",
          "height": 223
        },
        "id": "dde5SoLeqIQG",
        "outputId": "89e50aae-ceaa-46f9-8607-ad105c89ba46"
      },
      "outputs": [
        {
          "output_type": "stream",
          "name": "stdout",
          "text": [
            "Model Performance\n"
          ]
        },
        {
          "output_type": "display_data",
          "data": {
            "text/plain": [
              "  Model  acc_valid  acc_test  f1_macro_valid  f1_macro_test\n",
              "0    lr      33.04     32.41            0.25           0.25\n",
              "1   xgb      54.33     54.41            0.55           0.56\n",
              "2   svm      18.27     16.64            0.13           0.13\n",
              "3    rf      46.11     49.00            0.47           0.52\n",
              "4   mlp      16.07     15.73            0.08           0.07"
            ],
            "text/html": [
              "\n",
              "  <div id=\"df-f0521b01-0103-41ac-9ecc-4b45115c979f\" class=\"colab-df-container\">\n",
              "    <div>\n",
              "<style scoped>\n",
              "    .dataframe tbody tr th:only-of-type {\n",
              "        vertical-align: middle;\n",
              "    }\n",
              "\n",
              "    .dataframe tbody tr th {\n",
              "        vertical-align: top;\n",
              "    }\n",
              "\n",
              "    .dataframe thead th {\n",
              "        text-align: right;\n",
              "    }\n",
              "</style>\n",
              "<table border=\"1\" class=\"dataframe\">\n",
              "  <thead>\n",
              "    <tr style=\"text-align: right;\">\n",
              "      <th></th>\n",
              "      <th>Model</th>\n",
              "      <th>acc_valid</th>\n",
              "      <th>acc_test</th>\n",
              "      <th>f1_macro_valid</th>\n",
              "      <th>f1_macro_test</th>\n",
              "    </tr>\n",
              "  </thead>\n",
              "  <tbody>\n",
              "    <tr>\n",
              "      <th>0</th>\n",
              "      <td>lr</td>\n",
              "      <td>33.04</td>\n",
              "      <td>32.41</td>\n",
              "      <td>0.25</td>\n",
              "      <td>0.25</td>\n",
              "    </tr>\n",
              "    <tr>\n",
              "      <th>1</th>\n",
              "      <td>xgb</td>\n",
              "      <td>54.33</td>\n",
              "      <td>54.41</td>\n",
              "      <td>0.55</td>\n",
              "      <td>0.56</td>\n",
              "    </tr>\n",
              "    <tr>\n",
              "      <th>2</th>\n",
              "      <td>svm</td>\n",
              "      <td>18.27</td>\n",
              "      <td>16.64</td>\n",
              "      <td>0.13</td>\n",
              "      <td>0.13</td>\n",
              "    </tr>\n",
              "    <tr>\n",
              "      <th>3</th>\n",
              "      <td>rf</td>\n",
              "      <td>46.11</td>\n",
              "      <td>49.00</td>\n",
              "      <td>0.47</td>\n",
              "      <td>0.52</td>\n",
              "    </tr>\n",
              "    <tr>\n",
              "      <th>4</th>\n",
              "      <td>mlp</td>\n",
              "      <td>16.07</td>\n",
              "      <td>15.73</td>\n",
              "      <td>0.08</td>\n",
              "      <td>0.07</td>\n",
              "    </tr>\n",
              "  </tbody>\n",
              "</table>\n",
              "</div>\n",
              "    <div class=\"colab-df-buttons\">\n",
              "\n",
              "  <div class=\"colab-df-container\">\n",
              "    <button class=\"colab-df-convert\" onclick=\"convertToInteractive('df-f0521b01-0103-41ac-9ecc-4b45115c979f')\"\n",
              "            title=\"Convert this dataframe to an interactive table.\"\n",
              "            style=\"display:none;\">\n",
              "\n",
              "  <svg xmlns=\"http://www.w3.org/2000/svg\" height=\"24px\" viewBox=\"0 -960 960 960\">\n",
              "    <path d=\"M120-120v-720h720v720H120Zm60-500h600v-160H180v160Zm220 220h160v-160H400v160Zm0 220h160v-160H400v160ZM180-400h160v-160H180v160Zm440 0h160v-160H620v160ZM180-180h160v-160H180v160Zm440 0h160v-160H620v160Z\"/>\n",
              "  </svg>\n",
              "    </button>\n",
              "\n",
              "  <style>\n",
              "    .colab-df-container {\n",
              "      display:flex;\n",
              "      gap: 12px;\n",
              "    }\n",
              "\n",
              "    .colab-df-convert {\n",
              "      background-color: #E8F0FE;\n",
              "      border: none;\n",
              "      border-radius: 50%;\n",
              "      cursor: pointer;\n",
              "      display: none;\n",
              "      fill: #1967D2;\n",
              "      height: 32px;\n",
              "      padding: 0 0 0 0;\n",
              "      width: 32px;\n",
              "    }\n",
              "\n",
              "    .colab-df-convert:hover {\n",
              "      background-color: #E2EBFA;\n",
              "      box-shadow: 0px 1px 2px rgba(60, 64, 67, 0.3), 0px 1px 3px 1px rgba(60, 64, 67, 0.15);\n",
              "      fill: #174EA6;\n",
              "    }\n",
              "\n",
              "    .colab-df-buttons div {\n",
              "      margin-bottom: 4px;\n",
              "    }\n",
              "\n",
              "    [theme=dark] .colab-df-convert {\n",
              "      background-color: #3B4455;\n",
              "      fill: #D2E3FC;\n",
              "    }\n",
              "\n",
              "    [theme=dark] .colab-df-convert:hover {\n",
              "      background-color: #434B5C;\n",
              "      box-shadow: 0px 1px 3px 1px rgba(0, 0, 0, 0.15);\n",
              "      filter: drop-shadow(0px 1px 2px rgba(0, 0, 0, 0.3));\n",
              "      fill: #FFFFFF;\n",
              "    }\n",
              "  </style>\n",
              "\n",
              "    <script>\n",
              "      const buttonEl =\n",
              "        document.querySelector('#df-f0521b01-0103-41ac-9ecc-4b45115c979f button.colab-df-convert');\n",
              "      buttonEl.style.display =\n",
              "        google.colab.kernel.accessAllowed ? 'block' : 'none';\n",
              "\n",
              "      async function convertToInteractive(key) {\n",
              "        const element = document.querySelector('#df-f0521b01-0103-41ac-9ecc-4b45115c979f');\n",
              "        const dataTable =\n",
              "          await google.colab.kernel.invokeFunction('convertToInteractive',\n",
              "                                                    [key], {});\n",
              "        if (!dataTable) return;\n",
              "\n",
              "        const docLinkHtml = 'Like what you see? Visit the ' +\n",
              "          '<a target=\"_blank\" href=https://colab.research.google.com/notebooks/data_table.ipynb>data table notebook</a>'\n",
              "          + ' to learn more about interactive tables.';\n",
              "        element.innerHTML = '';\n",
              "        dataTable['output_type'] = 'display_data';\n",
              "        await google.colab.output.renderOutput(dataTable, element);\n",
              "        const docLink = document.createElement('div');\n",
              "        docLink.innerHTML = docLinkHtml;\n",
              "        element.appendChild(docLink);\n",
              "      }\n",
              "    </script>\n",
              "  </div>\n",
              "\n",
              "\n",
              "<div id=\"df-d3254ddb-ab4c-4853-944c-f14cd024ef1b\">\n",
              "  <button class=\"colab-df-quickchart\" onclick=\"quickchart('df-d3254ddb-ab4c-4853-944c-f14cd024ef1b')\"\n",
              "            title=\"Suggest charts\"\n",
              "            style=\"display:none;\">\n",
              "\n",
              "<svg xmlns=\"http://www.w3.org/2000/svg\" height=\"24px\"viewBox=\"0 0 24 24\"\n",
              "     width=\"24px\">\n",
              "    <g>\n",
              "        <path d=\"M19 3H5c-1.1 0-2 .9-2 2v14c0 1.1.9 2 2 2h14c1.1 0 2-.9 2-2V5c0-1.1-.9-2-2-2zM9 17H7v-7h2v7zm4 0h-2V7h2v10zm4 0h-2v-4h2v4z\"/>\n",
              "    </g>\n",
              "</svg>\n",
              "  </button>\n",
              "\n",
              "<style>\n",
              "  .colab-df-quickchart {\n",
              "      --bg-color: #E8F0FE;\n",
              "      --fill-color: #1967D2;\n",
              "      --hover-bg-color: #E2EBFA;\n",
              "      --hover-fill-color: #174EA6;\n",
              "      --disabled-fill-color: #AAA;\n",
              "      --disabled-bg-color: #DDD;\n",
              "  }\n",
              "\n",
              "  [theme=dark] .colab-df-quickchart {\n",
              "      --bg-color: #3B4455;\n",
              "      --fill-color: #D2E3FC;\n",
              "      --hover-bg-color: #434B5C;\n",
              "      --hover-fill-color: #FFFFFF;\n",
              "      --disabled-bg-color: #3B4455;\n",
              "      --disabled-fill-color: #666;\n",
              "  }\n",
              "\n",
              "  .colab-df-quickchart {\n",
              "    background-color: var(--bg-color);\n",
              "    border: none;\n",
              "    border-radius: 50%;\n",
              "    cursor: pointer;\n",
              "    display: none;\n",
              "    fill: var(--fill-color);\n",
              "    height: 32px;\n",
              "    padding: 0;\n",
              "    width: 32px;\n",
              "  }\n",
              "\n",
              "  .colab-df-quickchart:hover {\n",
              "    background-color: var(--hover-bg-color);\n",
              "    box-shadow: 0 1px 2px rgba(60, 64, 67, 0.3), 0 1px 3px 1px rgba(60, 64, 67, 0.15);\n",
              "    fill: var(--button-hover-fill-color);\n",
              "  }\n",
              "\n",
              "  .colab-df-quickchart-complete:disabled,\n",
              "  .colab-df-quickchart-complete:disabled:hover {\n",
              "    background-color: var(--disabled-bg-color);\n",
              "    fill: var(--disabled-fill-color);\n",
              "    box-shadow: none;\n",
              "  }\n",
              "\n",
              "  .colab-df-spinner {\n",
              "    border: 2px solid var(--fill-color);\n",
              "    border-color: transparent;\n",
              "    border-bottom-color: var(--fill-color);\n",
              "    animation:\n",
              "      spin 1s steps(1) infinite;\n",
              "  }\n",
              "\n",
              "  @keyframes spin {\n",
              "    0% {\n",
              "      border-color: transparent;\n",
              "      border-bottom-color: var(--fill-color);\n",
              "      border-left-color: var(--fill-color);\n",
              "    }\n",
              "    20% {\n",
              "      border-color: transparent;\n",
              "      border-left-color: var(--fill-color);\n",
              "      border-top-color: var(--fill-color);\n",
              "    }\n",
              "    30% {\n",
              "      border-color: transparent;\n",
              "      border-left-color: var(--fill-color);\n",
              "      border-top-color: var(--fill-color);\n",
              "      border-right-color: var(--fill-color);\n",
              "    }\n",
              "    40% {\n",
              "      border-color: transparent;\n",
              "      border-right-color: var(--fill-color);\n",
              "      border-top-color: var(--fill-color);\n",
              "    }\n",
              "    60% {\n",
              "      border-color: transparent;\n",
              "      border-right-color: var(--fill-color);\n",
              "    }\n",
              "    80% {\n",
              "      border-color: transparent;\n",
              "      border-right-color: var(--fill-color);\n",
              "      border-bottom-color: var(--fill-color);\n",
              "    }\n",
              "    90% {\n",
              "      border-color: transparent;\n",
              "      border-bottom-color: var(--fill-color);\n",
              "    }\n",
              "  }\n",
              "</style>\n",
              "\n",
              "  <script>\n",
              "    async function quickchart(key) {\n",
              "      const quickchartButtonEl =\n",
              "        document.querySelector('#' + key + ' button');\n",
              "      quickchartButtonEl.disabled = true;  // To prevent multiple clicks.\n",
              "      quickchartButtonEl.classList.add('colab-df-spinner');\n",
              "      try {\n",
              "        const charts = await google.colab.kernel.invokeFunction(\n",
              "            'suggestCharts', [key], {});\n",
              "      } catch (error) {\n",
              "        console.error('Error during call to suggestCharts:', error);\n",
              "      }\n",
              "      quickchartButtonEl.classList.remove('colab-df-spinner');\n",
              "      quickchartButtonEl.classList.add('colab-df-quickchart-complete');\n",
              "    }\n",
              "    (() => {\n",
              "      let quickchartButtonEl =\n",
              "        document.querySelector('#df-d3254ddb-ab4c-4853-944c-f14cd024ef1b button');\n",
              "      quickchartButtonEl.style.display =\n",
              "        google.colab.kernel.accessAllowed ? 'block' : 'none';\n",
              "    })();\n",
              "  </script>\n",
              "</div>\n",
              "    </div>\n",
              "  </div>\n"
            ]
          },
          "metadata": {}
        }
      ],
      "source": [
        "model_lst = ['lr','xgb','svm','rf','mlp']\n",
        "problem = 'multiclass'\n",
        "used_feas = rf_features\n",
        "report_dir = _SUPERVISED_RF_RESULTS_DIR\n",
        "\n",
        "supervised_result_rf = RunSupervised(model_lst,problem,X_train,y_train,X_valid,y_valid,X_test,y_test,used_feas,report_dir,algorithm='supervised')"
      ]
    },
    {
      "cell_type": "markdown",
      "metadata": {
        "id": "fnezjCR2qLTd"
      },
      "source": [
        "## Keep Feas"
      ]
    },
    {
      "cell_type": "code",
      "execution_count": null,
      "metadata": {
        "colab": {
          "base_uri": "https://localhost:8080/",
          "height": 223
        },
        "id": "ueTS2d2dqNIo",
        "outputId": "87f4937b-63a9-4cc3-e3e6-babb7d093d97"
      },
      "outputs": [
        {
          "output_type": "stream",
          "name": "stdout",
          "text": [
            "Model Performance\n"
          ]
        },
        {
          "output_type": "display_data",
          "data": {
            "text/plain": [
              "  Model  acc_valid  acc_test  f1_macro_valid  f1_macro_test\n",
              "0    lr      30.73     31.26            0.27           0.26\n",
              "1   xgb      57.66     53.02            0.59           0.55\n",
              "2   svm      22.07     17.82            0.15           0.09\n",
              "3    rf      47.39     50.26            0.49           0.53\n",
              "4   mlp      13.33     14.14            0.08           0.10"
            ],
            "text/html": [
              "\n",
              "  <div id=\"df-f45d5ce4-a72f-4f4d-af09-ba7267910e25\" class=\"colab-df-container\">\n",
              "    <div>\n",
              "<style scoped>\n",
              "    .dataframe tbody tr th:only-of-type {\n",
              "        vertical-align: middle;\n",
              "    }\n",
              "\n",
              "    .dataframe tbody tr th {\n",
              "        vertical-align: top;\n",
              "    }\n",
              "\n",
              "    .dataframe thead th {\n",
              "        text-align: right;\n",
              "    }\n",
              "</style>\n",
              "<table border=\"1\" class=\"dataframe\">\n",
              "  <thead>\n",
              "    <tr style=\"text-align: right;\">\n",
              "      <th></th>\n",
              "      <th>Model</th>\n",
              "      <th>acc_valid</th>\n",
              "      <th>acc_test</th>\n",
              "      <th>f1_macro_valid</th>\n",
              "      <th>f1_macro_test</th>\n",
              "    </tr>\n",
              "  </thead>\n",
              "  <tbody>\n",
              "    <tr>\n",
              "      <th>0</th>\n",
              "      <td>lr</td>\n",
              "      <td>30.73</td>\n",
              "      <td>31.26</td>\n",
              "      <td>0.27</td>\n",
              "      <td>0.26</td>\n",
              "    </tr>\n",
              "    <tr>\n",
              "      <th>1</th>\n",
              "      <td>xgb</td>\n",
              "      <td>57.66</td>\n",
              "      <td>53.02</td>\n",
              "      <td>0.59</td>\n",
              "      <td>0.55</td>\n",
              "    </tr>\n",
              "    <tr>\n",
              "      <th>2</th>\n",
              "      <td>svm</td>\n",
              "      <td>22.07</td>\n",
              "      <td>17.82</td>\n",
              "      <td>0.15</td>\n",
              "      <td>0.09</td>\n",
              "    </tr>\n",
              "    <tr>\n",
              "      <th>3</th>\n",
              "      <td>rf</td>\n",
              "      <td>47.39</td>\n",
              "      <td>50.26</td>\n",
              "      <td>0.49</td>\n",
              "      <td>0.53</td>\n",
              "    </tr>\n",
              "    <tr>\n",
              "      <th>4</th>\n",
              "      <td>mlp</td>\n",
              "      <td>13.33</td>\n",
              "      <td>14.14</td>\n",
              "      <td>0.08</td>\n",
              "      <td>0.10</td>\n",
              "    </tr>\n",
              "  </tbody>\n",
              "</table>\n",
              "</div>\n",
              "    <div class=\"colab-df-buttons\">\n",
              "\n",
              "  <div class=\"colab-df-container\">\n",
              "    <button class=\"colab-df-convert\" onclick=\"convertToInteractive('df-f45d5ce4-a72f-4f4d-af09-ba7267910e25')\"\n",
              "            title=\"Convert this dataframe to an interactive table.\"\n",
              "            style=\"display:none;\">\n",
              "\n",
              "  <svg xmlns=\"http://www.w3.org/2000/svg\" height=\"24px\" viewBox=\"0 -960 960 960\">\n",
              "    <path d=\"M120-120v-720h720v720H120Zm60-500h600v-160H180v160Zm220 220h160v-160H400v160Zm0 220h160v-160H400v160ZM180-400h160v-160H180v160Zm440 0h160v-160H620v160ZM180-180h160v-160H180v160Zm440 0h160v-160H620v160Z\"/>\n",
              "  </svg>\n",
              "    </button>\n",
              "\n",
              "  <style>\n",
              "    .colab-df-container {\n",
              "      display:flex;\n",
              "      gap: 12px;\n",
              "    }\n",
              "\n",
              "    .colab-df-convert {\n",
              "      background-color: #E8F0FE;\n",
              "      border: none;\n",
              "      border-radius: 50%;\n",
              "      cursor: pointer;\n",
              "      display: none;\n",
              "      fill: #1967D2;\n",
              "      height: 32px;\n",
              "      padding: 0 0 0 0;\n",
              "      width: 32px;\n",
              "    }\n",
              "\n",
              "    .colab-df-convert:hover {\n",
              "      background-color: #E2EBFA;\n",
              "      box-shadow: 0px 1px 2px rgba(60, 64, 67, 0.3), 0px 1px 3px 1px rgba(60, 64, 67, 0.15);\n",
              "      fill: #174EA6;\n",
              "    }\n",
              "\n",
              "    .colab-df-buttons div {\n",
              "      margin-bottom: 4px;\n",
              "    }\n",
              "\n",
              "    [theme=dark] .colab-df-convert {\n",
              "      background-color: #3B4455;\n",
              "      fill: #D2E3FC;\n",
              "    }\n",
              "\n",
              "    [theme=dark] .colab-df-convert:hover {\n",
              "      background-color: #434B5C;\n",
              "      box-shadow: 0px 1px 3px 1px rgba(0, 0, 0, 0.15);\n",
              "      filter: drop-shadow(0px 1px 2px rgba(0, 0, 0, 0.3));\n",
              "      fill: #FFFFFF;\n",
              "    }\n",
              "  </style>\n",
              "\n",
              "    <script>\n",
              "      const buttonEl =\n",
              "        document.querySelector('#df-f45d5ce4-a72f-4f4d-af09-ba7267910e25 button.colab-df-convert');\n",
              "      buttonEl.style.display =\n",
              "        google.colab.kernel.accessAllowed ? 'block' : 'none';\n",
              "\n",
              "      async function convertToInteractive(key) {\n",
              "        const element = document.querySelector('#df-f45d5ce4-a72f-4f4d-af09-ba7267910e25');\n",
              "        const dataTable =\n",
              "          await google.colab.kernel.invokeFunction('convertToInteractive',\n",
              "                                                    [key], {});\n",
              "        if (!dataTable) return;\n",
              "\n",
              "        const docLinkHtml = 'Like what you see? Visit the ' +\n",
              "          '<a target=\"_blank\" href=https://colab.research.google.com/notebooks/data_table.ipynb>data table notebook</a>'\n",
              "          + ' to learn more about interactive tables.';\n",
              "        element.innerHTML = '';\n",
              "        dataTable['output_type'] = 'display_data';\n",
              "        await google.colab.output.renderOutput(dataTable, element);\n",
              "        const docLink = document.createElement('div');\n",
              "        docLink.innerHTML = docLinkHtml;\n",
              "        element.appendChild(docLink);\n",
              "      }\n",
              "    </script>\n",
              "  </div>\n",
              "\n",
              "\n",
              "<div id=\"df-d167a472-4f7d-472d-ac63-446ae5a1cc27\">\n",
              "  <button class=\"colab-df-quickchart\" onclick=\"quickchart('df-d167a472-4f7d-472d-ac63-446ae5a1cc27')\"\n",
              "            title=\"Suggest charts\"\n",
              "            style=\"display:none;\">\n",
              "\n",
              "<svg xmlns=\"http://www.w3.org/2000/svg\" height=\"24px\"viewBox=\"0 0 24 24\"\n",
              "     width=\"24px\">\n",
              "    <g>\n",
              "        <path d=\"M19 3H5c-1.1 0-2 .9-2 2v14c0 1.1.9 2 2 2h14c1.1 0 2-.9 2-2V5c0-1.1-.9-2-2-2zM9 17H7v-7h2v7zm4 0h-2V7h2v10zm4 0h-2v-4h2v4z\"/>\n",
              "    </g>\n",
              "</svg>\n",
              "  </button>\n",
              "\n",
              "<style>\n",
              "  .colab-df-quickchart {\n",
              "      --bg-color: #E8F0FE;\n",
              "      --fill-color: #1967D2;\n",
              "      --hover-bg-color: #E2EBFA;\n",
              "      --hover-fill-color: #174EA6;\n",
              "      --disabled-fill-color: #AAA;\n",
              "      --disabled-bg-color: #DDD;\n",
              "  }\n",
              "\n",
              "  [theme=dark] .colab-df-quickchart {\n",
              "      --bg-color: #3B4455;\n",
              "      --fill-color: #D2E3FC;\n",
              "      --hover-bg-color: #434B5C;\n",
              "      --hover-fill-color: #FFFFFF;\n",
              "      --disabled-bg-color: #3B4455;\n",
              "      --disabled-fill-color: #666;\n",
              "  }\n",
              "\n",
              "  .colab-df-quickchart {\n",
              "    background-color: var(--bg-color);\n",
              "    border: none;\n",
              "    border-radius: 50%;\n",
              "    cursor: pointer;\n",
              "    display: none;\n",
              "    fill: var(--fill-color);\n",
              "    height: 32px;\n",
              "    padding: 0;\n",
              "    width: 32px;\n",
              "  }\n",
              "\n",
              "  .colab-df-quickchart:hover {\n",
              "    background-color: var(--hover-bg-color);\n",
              "    box-shadow: 0 1px 2px rgba(60, 64, 67, 0.3), 0 1px 3px 1px rgba(60, 64, 67, 0.15);\n",
              "    fill: var(--button-hover-fill-color);\n",
              "  }\n",
              "\n",
              "  .colab-df-quickchart-complete:disabled,\n",
              "  .colab-df-quickchart-complete:disabled:hover {\n",
              "    background-color: var(--disabled-bg-color);\n",
              "    fill: var(--disabled-fill-color);\n",
              "    box-shadow: none;\n",
              "  }\n",
              "\n",
              "  .colab-df-spinner {\n",
              "    border: 2px solid var(--fill-color);\n",
              "    border-color: transparent;\n",
              "    border-bottom-color: var(--fill-color);\n",
              "    animation:\n",
              "      spin 1s steps(1) infinite;\n",
              "  }\n",
              "\n",
              "  @keyframes spin {\n",
              "    0% {\n",
              "      border-color: transparent;\n",
              "      border-bottom-color: var(--fill-color);\n",
              "      border-left-color: var(--fill-color);\n",
              "    }\n",
              "    20% {\n",
              "      border-color: transparent;\n",
              "      border-left-color: var(--fill-color);\n",
              "      border-top-color: var(--fill-color);\n",
              "    }\n",
              "    30% {\n",
              "      border-color: transparent;\n",
              "      border-left-color: var(--fill-color);\n",
              "      border-top-color: var(--fill-color);\n",
              "      border-right-color: var(--fill-color);\n",
              "    }\n",
              "    40% {\n",
              "      border-color: transparent;\n",
              "      border-right-color: var(--fill-color);\n",
              "      border-top-color: var(--fill-color);\n",
              "    }\n",
              "    60% {\n",
              "      border-color: transparent;\n",
              "      border-right-color: var(--fill-color);\n",
              "    }\n",
              "    80% {\n",
              "      border-color: transparent;\n",
              "      border-right-color: var(--fill-color);\n",
              "      border-bottom-color: var(--fill-color);\n",
              "    }\n",
              "    90% {\n",
              "      border-color: transparent;\n",
              "      border-bottom-color: var(--fill-color);\n",
              "    }\n",
              "  }\n",
              "</style>\n",
              "\n",
              "  <script>\n",
              "    async function quickchart(key) {\n",
              "      const quickchartButtonEl =\n",
              "        document.querySelector('#' + key + ' button');\n",
              "      quickchartButtonEl.disabled = true;  // To prevent multiple clicks.\n",
              "      quickchartButtonEl.classList.add('colab-df-spinner');\n",
              "      try {\n",
              "        const charts = await google.colab.kernel.invokeFunction(\n",
              "            'suggestCharts', [key], {});\n",
              "      } catch (error) {\n",
              "        console.error('Error during call to suggestCharts:', error);\n",
              "      }\n",
              "      quickchartButtonEl.classList.remove('colab-df-spinner');\n",
              "      quickchartButtonEl.classList.add('colab-df-quickchart-complete');\n",
              "    }\n",
              "    (() => {\n",
              "      let quickchartButtonEl =\n",
              "        document.querySelector('#df-d167a472-4f7d-472d-ac63-446ae5a1cc27 button');\n",
              "      quickchartButtonEl.style.display =\n",
              "        google.colab.kernel.accessAllowed ? 'block' : 'none';\n",
              "    })();\n",
              "  </script>\n",
              "</div>\n",
              "    </div>\n",
              "  </div>\n"
            ]
          },
          "metadata": {}
        }
      ],
      "source": [
        "model_lst = ['lr','xgb','svm','rf','mlp']\n",
        "problem = 'multiclass'\n",
        "used_feas = keep_feas\n",
        "report_dir = _SUPERVISED_COMBINE_RESULTS_DIR\n",
        "\n",
        "supervised_result_keep_feas = RunSupervised(model_lst,problem,X_train,y_train,X_valid,y_valid,X_test,y_test,used_feas,report_dir,algorithm='supervised')"
      ]
    },
    {
      "cell_type": "markdown",
      "metadata": {
        "id": "YJddU8JOr2xW"
      },
      "source": [
        "## Most Feas\n"
      ]
    },
    {
      "cell_type": "code",
      "execution_count": null,
      "metadata": {
        "colab": {
          "base_uri": "https://localhost:8080/",
          "height": 223
        },
        "id": "808LT7cBr-cv",
        "outputId": "2a15ce78-5e6a-477e-a16f-2827ca3e87fe"
      },
      "outputs": [
        {
          "output_type": "stream",
          "name": "stdout",
          "text": [
            "Model Performance\n"
          ]
        },
        {
          "output_type": "display_data",
          "data": {
            "text/plain": [
              "  Model  acc_valid  acc_test  f1_macro_valid  f1_macro_test\n",
              "0    lr      38.13     34.64            0.35           0.29\n",
              "1   xgb      53.35     50.13            0.54           0.52\n",
              "2   svm      18.04     17.01            0.07           0.06\n",
              "3    rf      50.30     52.20            0.51           0.55\n",
              "4   mlp      14.54     15.50            0.07           0.09"
            ],
            "text/html": [
              "\n",
              "  <div id=\"df-6799dfc8-e2cd-45e3-aecc-413c55b193c5\" class=\"colab-df-container\">\n",
              "    <div>\n",
              "<style scoped>\n",
              "    .dataframe tbody tr th:only-of-type {\n",
              "        vertical-align: middle;\n",
              "    }\n",
              "\n",
              "    .dataframe tbody tr th {\n",
              "        vertical-align: top;\n",
              "    }\n",
              "\n",
              "    .dataframe thead th {\n",
              "        text-align: right;\n",
              "    }\n",
              "</style>\n",
              "<table border=\"1\" class=\"dataframe\">\n",
              "  <thead>\n",
              "    <tr style=\"text-align: right;\">\n",
              "      <th></th>\n",
              "      <th>Model</th>\n",
              "      <th>acc_valid</th>\n",
              "      <th>acc_test</th>\n",
              "      <th>f1_macro_valid</th>\n",
              "      <th>f1_macro_test</th>\n",
              "    </tr>\n",
              "  </thead>\n",
              "  <tbody>\n",
              "    <tr>\n",
              "      <th>0</th>\n",
              "      <td>lr</td>\n",
              "      <td>38.13</td>\n",
              "      <td>34.64</td>\n",
              "      <td>0.35</td>\n",
              "      <td>0.29</td>\n",
              "    </tr>\n",
              "    <tr>\n",
              "      <th>1</th>\n",
              "      <td>xgb</td>\n",
              "      <td>53.35</td>\n",
              "      <td>50.13</td>\n",
              "      <td>0.54</td>\n",
              "      <td>0.52</td>\n",
              "    </tr>\n",
              "    <tr>\n",
              "      <th>2</th>\n",
              "      <td>svm</td>\n",
              "      <td>18.04</td>\n",
              "      <td>17.01</td>\n",
              "      <td>0.07</td>\n",
              "      <td>0.06</td>\n",
              "    </tr>\n",
              "    <tr>\n",
              "      <th>3</th>\n",
              "      <td>rf</td>\n",
              "      <td>50.30</td>\n",
              "      <td>52.20</td>\n",
              "      <td>0.51</td>\n",
              "      <td>0.55</td>\n",
              "    </tr>\n",
              "    <tr>\n",
              "      <th>4</th>\n",
              "      <td>mlp</td>\n",
              "      <td>14.54</td>\n",
              "      <td>15.50</td>\n",
              "      <td>0.07</td>\n",
              "      <td>0.09</td>\n",
              "    </tr>\n",
              "  </tbody>\n",
              "</table>\n",
              "</div>\n",
              "    <div class=\"colab-df-buttons\">\n",
              "\n",
              "  <div class=\"colab-df-container\">\n",
              "    <button class=\"colab-df-convert\" onclick=\"convertToInteractive('df-6799dfc8-e2cd-45e3-aecc-413c55b193c5')\"\n",
              "            title=\"Convert this dataframe to an interactive table.\"\n",
              "            style=\"display:none;\">\n",
              "\n",
              "  <svg xmlns=\"http://www.w3.org/2000/svg\" height=\"24px\" viewBox=\"0 -960 960 960\">\n",
              "    <path d=\"M120-120v-720h720v720H120Zm60-500h600v-160H180v160Zm220 220h160v-160H400v160Zm0 220h160v-160H400v160ZM180-400h160v-160H180v160Zm440 0h160v-160H620v160ZM180-180h160v-160H180v160Zm440 0h160v-160H620v160Z\"/>\n",
              "  </svg>\n",
              "    </button>\n",
              "\n",
              "  <style>\n",
              "    .colab-df-container {\n",
              "      display:flex;\n",
              "      gap: 12px;\n",
              "    }\n",
              "\n",
              "    .colab-df-convert {\n",
              "      background-color: #E8F0FE;\n",
              "      border: none;\n",
              "      border-radius: 50%;\n",
              "      cursor: pointer;\n",
              "      display: none;\n",
              "      fill: #1967D2;\n",
              "      height: 32px;\n",
              "      padding: 0 0 0 0;\n",
              "      width: 32px;\n",
              "    }\n",
              "\n",
              "    .colab-df-convert:hover {\n",
              "      background-color: #E2EBFA;\n",
              "      box-shadow: 0px 1px 2px rgba(60, 64, 67, 0.3), 0px 1px 3px 1px rgba(60, 64, 67, 0.15);\n",
              "      fill: #174EA6;\n",
              "    }\n",
              "\n",
              "    .colab-df-buttons div {\n",
              "      margin-bottom: 4px;\n",
              "    }\n",
              "\n",
              "    [theme=dark] .colab-df-convert {\n",
              "      background-color: #3B4455;\n",
              "      fill: #D2E3FC;\n",
              "    }\n",
              "\n",
              "    [theme=dark] .colab-df-convert:hover {\n",
              "      background-color: #434B5C;\n",
              "      box-shadow: 0px 1px 3px 1px rgba(0, 0, 0, 0.15);\n",
              "      filter: drop-shadow(0px 1px 2px rgba(0, 0, 0, 0.3));\n",
              "      fill: #FFFFFF;\n",
              "    }\n",
              "  </style>\n",
              "\n",
              "    <script>\n",
              "      const buttonEl =\n",
              "        document.querySelector('#df-6799dfc8-e2cd-45e3-aecc-413c55b193c5 button.colab-df-convert');\n",
              "      buttonEl.style.display =\n",
              "        google.colab.kernel.accessAllowed ? 'block' : 'none';\n",
              "\n",
              "      async function convertToInteractive(key) {\n",
              "        const element = document.querySelector('#df-6799dfc8-e2cd-45e3-aecc-413c55b193c5');\n",
              "        const dataTable =\n",
              "          await google.colab.kernel.invokeFunction('convertToInteractive',\n",
              "                                                    [key], {});\n",
              "        if (!dataTable) return;\n",
              "\n",
              "        const docLinkHtml = 'Like what you see? Visit the ' +\n",
              "          '<a target=\"_blank\" href=https://colab.research.google.com/notebooks/data_table.ipynb>data table notebook</a>'\n",
              "          + ' to learn more about interactive tables.';\n",
              "        element.innerHTML = '';\n",
              "        dataTable['output_type'] = 'display_data';\n",
              "        await google.colab.output.renderOutput(dataTable, element);\n",
              "        const docLink = document.createElement('div');\n",
              "        docLink.innerHTML = docLinkHtml;\n",
              "        element.appendChild(docLink);\n",
              "      }\n",
              "    </script>\n",
              "  </div>\n",
              "\n",
              "\n",
              "<div id=\"df-9a945aeb-aa56-42c7-bbdd-4020a8b8141d\">\n",
              "  <button class=\"colab-df-quickchart\" onclick=\"quickchart('df-9a945aeb-aa56-42c7-bbdd-4020a8b8141d')\"\n",
              "            title=\"Suggest charts\"\n",
              "            style=\"display:none;\">\n",
              "\n",
              "<svg xmlns=\"http://www.w3.org/2000/svg\" height=\"24px\"viewBox=\"0 0 24 24\"\n",
              "     width=\"24px\">\n",
              "    <g>\n",
              "        <path d=\"M19 3H5c-1.1 0-2 .9-2 2v14c0 1.1.9 2 2 2h14c1.1 0 2-.9 2-2V5c0-1.1-.9-2-2-2zM9 17H7v-7h2v7zm4 0h-2V7h2v10zm4 0h-2v-4h2v4z\"/>\n",
              "    </g>\n",
              "</svg>\n",
              "  </button>\n",
              "\n",
              "<style>\n",
              "  .colab-df-quickchart {\n",
              "      --bg-color: #E8F0FE;\n",
              "      --fill-color: #1967D2;\n",
              "      --hover-bg-color: #E2EBFA;\n",
              "      --hover-fill-color: #174EA6;\n",
              "      --disabled-fill-color: #AAA;\n",
              "      --disabled-bg-color: #DDD;\n",
              "  }\n",
              "\n",
              "  [theme=dark] .colab-df-quickchart {\n",
              "      --bg-color: #3B4455;\n",
              "      --fill-color: #D2E3FC;\n",
              "      --hover-bg-color: #434B5C;\n",
              "      --hover-fill-color: #FFFFFF;\n",
              "      --disabled-bg-color: #3B4455;\n",
              "      --disabled-fill-color: #666;\n",
              "  }\n",
              "\n",
              "  .colab-df-quickchart {\n",
              "    background-color: var(--bg-color);\n",
              "    border: none;\n",
              "    border-radius: 50%;\n",
              "    cursor: pointer;\n",
              "    display: none;\n",
              "    fill: var(--fill-color);\n",
              "    height: 32px;\n",
              "    padding: 0;\n",
              "    width: 32px;\n",
              "  }\n",
              "\n",
              "  .colab-df-quickchart:hover {\n",
              "    background-color: var(--hover-bg-color);\n",
              "    box-shadow: 0 1px 2px rgba(60, 64, 67, 0.3), 0 1px 3px 1px rgba(60, 64, 67, 0.15);\n",
              "    fill: var(--button-hover-fill-color);\n",
              "  }\n",
              "\n",
              "  .colab-df-quickchart-complete:disabled,\n",
              "  .colab-df-quickchart-complete:disabled:hover {\n",
              "    background-color: var(--disabled-bg-color);\n",
              "    fill: var(--disabled-fill-color);\n",
              "    box-shadow: none;\n",
              "  }\n",
              "\n",
              "  .colab-df-spinner {\n",
              "    border: 2px solid var(--fill-color);\n",
              "    border-color: transparent;\n",
              "    border-bottom-color: var(--fill-color);\n",
              "    animation:\n",
              "      spin 1s steps(1) infinite;\n",
              "  }\n",
              "\n",
              "  @keyframes spin {\n",
              "    0% {\n",
              "      border-color: transparent;\n",
              "      border-bottom-color: var(--fill-color);\n",
              "      border-left-color: var(--fill-color);\n",
              "    }\n",
              "    20% {\n",
              "      border-color: transparent;\n",
              "      border-left-color: var(--fill-color);\n",
              "      border-top-color: var(--fill-color);\n",
              "    }\n",
              "    30% {\n",
              "      border-color: transparent;\n",
              "      border-left-color: var(--fill-color);\n",
              "      border-top-color: var(--fill-color);\n",
              "      border-right-color: var(--fill-color);\n",
              "    }\n",
              "    40% {\n",
              "      border-color: transparent;\n",
              "      border-right-color: var(--fill-color);\n",
              "      border-top-color: var(--fill-color);\n",
              "    }\n",
              "    60% {\n",
              "      border-color: transparent;\n",
              "      border-right-color: var(--fill-color);\n",
              "    }\n",
              "    80% {\n",
              "      border-color: transparent;\n",
              "      border-right-color: var(--fill-color);\n",
              "      border-bottom-color: var(--fill-color);\n",
              "    }\n",
              "    90% {\n",
              "      border-color: transparent;\n",
              "      border-bottom-color: var(--fill-color);\n",
              "    }\n",
              "  }\n",
              "</style>\n",
              "\n",
              "  <script>\n",
              "    async function quickchart(key) {\n",
              "      const quickchartButtonEl =\n",
              "        document.querySelector('#' + key + ' button');\n",
              "      quickchartButtonEl.disabled = true;  // To prevent multiple clicks.\n",
              "      quickchartButtonEl.classList.add('colab-df-spinner');\n",
              "      try {\n",
              "        const charts = await google.colab.kernel.invokeFunction(\n",
              "            'suggestCharts', [key], {});\n",
              "      } catch (error) {\n",
              "        console.error('Error during call to suggestCharts:', error);\n",
              "      }\n",
              "      quickchartButtonEl.classList.remove('colab-df-spinner');\n",
              "      quickchartButtonEl.classList.add('colab-df-quickchart-complete');\n",
              "    }\n",
              "    (() => {\n",
              "      let quickchartButtonEl =\n",
              "        document.querySelector('#df-9a945aeb-aa56-42c7-bbdd-4020a8b8141d button');\n",
              "      quickchartButtonEl.style.display =\n",
              "        google.colab.kernel.accessAllowed ? 'block' : 'none';\n",
              "    })();\n",
              "  </script>\n",
              "</div>\n",
              "    </div>\n",
              "  </div>\n"
            ]
          },
          "metadata": {}
        }
      ],
      "source": [
        "model_lst = ['lr','xgb','svm','rf','mlp']\n",
        "problem = 'multiclass'\n",
        "used_feas = most_feas\n",
        "report_dir = _SUPERVISED_SMALL_RESULTS_DIR\n",
        "\n",
        "supervised_result_most_feas = RunSupervised(model_lst,problem,X_train,y_train,X_valid,y_valid,X_test,y_test,used_feas,report_dir,algorithm='supervised')"
      ]
    },
    {
      "cell_type": "markdown",
      "metadata": {
        "id": "OVWyPBdDsKEN"
      },
      "source": [
        "## Fine tuning"
      ]
    },
    {
      "cell_type": "code",
      "execution_count": null,
      "metadata": {
        "colab": {
          "base_uri": "https://localhost:8080/",
          "height": 1000
        },
        "id": "AxD2AHdesZHV",
        "outputId": "67632037-9d53-43fe-df29-b061f0b5338d"
      },
      "outputs": [
        {
          "output_type": "stream",
          "name": "stdout",
          "text": [
            "lr\n",
            "Best hyperparameters for lr: {'C': 0.021200306273404457}\n",
            "Best objective value for lr: 0.28\n"
          ]
        },
        {
          "output_type": "display_data",
          "data": {
            "text/html": [
              "<html>\n",
              "<head><meta charset=\"utf-8\" /></head>\n",
              "<body>\n",
              "    <div>            <script src=\"https://cdnjs.cloudflare.com/ajax/libs/mathjax/2.7.5/MathJax.js?config=TeX-AMS-MML_SVG\"></script><script type=\"text/javascript\">if (window.MathJax && window.MathJax.Hub && window.MathJax.Hub.Config) {window.MathJax.Hub.Config({SVG: {font: \"STIX-Web\"}});}</script>                <script type=\"text/javascript\">window.PlotlyConfig = {MathJaxConfig: 'local'};</script>\n",
              "        <script charset=\"utf-8\" src=\"https://cdn.plot.ly/plotly-2.24.1.min.js\"></script>                <div id=\"03677c16-6536-47f7-93ce-47ea4f2093f0\" class=\"plotly-graph-div\" style=\"height:500px; width:600px;\"></div>            <script type=\"text/javascript\">                                    window.PLOTLYENV=window.PLOTLYENV || {};                                    if (document.getElementById(\"03677c16-6536-47f7-93ce-47ea4f2093f0\")) {                    Plotly.newPlot(                        \"03677c16-6536-47f7-93ce-47ea4f2093f0\",                        [{\"mode\":\"markers\",\"name\":\"Objective Value\",\"x\":[0,1,2,3,4,5,6,7,8,9,10,11,12,13,14,15,16,17,18,19,20,21,22,23,24,25,26,27,28,29,30,31,32,33,34,35,36,37,38,39,40,41,42,43,44,45,46,47,48,49],\"y\":[0.27,0.26,0.28,0.26,0.26,0.26,0.27,0.27,0.26,0.27,0.27,0.27,0.27,0.27,0.27,0.27,0.27,0.27,0.27,0.27,0.27,0.27,0.26,0.27,0.27,0.27,0.27,0.27,0.28,0.27,0.26,0.27,0.27,0.27,0.27,0.26,0.27,0.27,0.27,0.27,0.27,0.27,0.27,0.27,0.27,0.27,0.26,0.27,0.27,0.27],\"type\":\"scatter\",\"marker\":{\"color\":\"black\"}},{\"mode\":\"lines\",\"name\":\"Best Value\",\"x\":[0,1,2,3,4,5,6,7,8,9,10,11,12,13,14,15,16,17,18,19,20,21,22,23,24,25,26,27,28,29,30,31,32,33,34,35,36,37,38,39,40,41,42,43,44,45,46,47,48,49],\"y\":[0.27,0.27,0.28,0.28,0.28,0.28,0.28,0.28,0.28,0.28,0.28,0.28,0.28,0.28,0.28,0.28,0.28,0.28,0.28,0.28,0.28,0.28,0.28,0.28,0.28,0.28,0.28,0.28,0.28,0.28,0.28,0.28,0.28,0.28,0.28,0.28,0.28,0.28,0.28,0.28,0.28,0.28,0.28,0.28,0.28,0.28,0.28,0.28,0.28,0.28],\"type\":\"scatter\",\"marker\":{\"color\":\"black\"}},{\"marker\":{\"color\":\"black\"},\"mode\":\"markers\",\"name\":\"Infeasible Trial\",\"showlegend\":false,\"x\":[],\"y\":[],\"type\":\"scatter\"}],                        {\"title\":{\"text\":\"Optimization History\\u003cbr\\u003e\\u003csup\\u003elr\\u003c\\u002fsup\\u003e\",\"font\":{\"color\":\"black\",\"size\":20},\"x\":0},\"xaxis\":{\"title\":{\"text\":\"Trial\"}},\"yaxis\":{\"title\":{\"text\":\"Objective Value\"}},\"template\":{\"data\":{\"histogram2dcontour\":[{\"type\":\"histogram2dcontour\",\"colorbar\":{\"outlinewidth\":0,\"ticks\":\"\"},\"colorscale\":[[0.0,\"#0d0887\"],[0.1111111111111111,\"#46039f\"],[0.2222222222222222,\"#7201a8\"],[0.3333333333333333,\"#9c179e\"],[0.4444444444444444,\"#bd3786\"],[0.5555555555555556,\"#d8576b\"],[0.6666666666666666,\"#ed7953\"],[0.7777777777777778,\"#fb9f3a\"],[0.8888888888888888,\"#fdca26\"],[1.0,\"#f0f921\"]]}],\"choropleth\":[{\"type\":\"choropleth\",\"colorbar\":{\"outlinewidth\":0,\"ticks\":\"\"}}],\"histogram2d\":[{\"type\":\"histogram2d\",\"colorbar\":{\"outlinewidth\":0,\"ticks\":\"\"},\"colorscale\":[[0.0,\"#0d0887\"],[0.1111111111111111,\"#46039f\"],[0.2222222222222222,\"#7201a8\"],[0.3333333333333333,\"#9c179e\"],[0.4444444444444444,\"#bd3786\"],[0.5555555555555556,\"#d8576b\"],[0.6666666666666666,\"#ed7953\"],[0.7777777777777778,\"#fb9f3a\"],[0.8888888888888888,\"#fdca26\"],[1.0,\"#f0f921\"]]}],\"heatmap\":[{\"type\":\"heatmap\",\"colorbar\":{\"outlinewidth\":0,\"ticks\":\"\"},\"colorscale\":[[0.0,\"#0d0887\"],[0.1111111111111111,\"#46039f\"],[0.2222222222222222,\"#7201a8\"],[0.3333333333333333,\"#9c179e\"],[0.4444444444444444,\"#bd3786\"],[0.5555555555555556,\"#d8576b\"],[0.6666666666666666,\"#ed7953\"],[0.7777777777777778,\"#fb9f3a\"],[0.8888888888888888,\"#fdca26\"],[1.0,\"#f0f921\"]]}],\"heatmapgl\":[{\"type\":\"heatmapgl\",\"colorbar\":{\"outlinewidth\":0,\"ticks\":\"\"},\"colorscale\":[[0.0,\"#0d0887\"],[0.1111111111111111,\"#46039f\"],[0.2222222222222222,\"#7201a8\"],[0.3333333333333333,\"#9c179e\"],[0.4444444444444444,\"#bd3786\"],[0.5555555555555556,\"#d8576b\"],[0.6666666666666666,\"#ed7953\"],[0.7777777777777778,\"#fb9f3a\"],[0.8888888888888888,\"#fdca26\"],[1.0,\"#f0f921\"]]}],\"contourcarpet\":[{\"type\":\"contourcarpet\",\"colorbar\":{\"outlinewidth\":0,\"ticks\":\"\"}}],\"contour\":[{\"type\":\"contour\",\"colorbar\":{\"outlinewidth\":0,\"ticks\":\"\"},\"colorscale\":[[0.0,\"#0d0887\"],[0.1111111111111111,\"#46039f\"],[0.2222222222222222,\"#7201a8\"],[0.3333333333333333,\"#9c179e\"],[0.4444444444444444,\"#bd3786\"],[0.5555555555555556,\"#d8576b\"],[0.6666666666666666,\"#ed7953\"],[0.7777777777777778,\"#fb9f3a\"],[0.8888888888888888,\"#fdca26\"],[1.0,\"#f0f921\"]]}],\"surface\":[{\"type\":\"surface\",\"colorbar\":{\"outlinewidth\":0,\"ticks\":\"\"},\"colorscale\":[[0.0,\"#0d0887\"],[0.1111111111111111,\"#46039f\"],[0.2222222222222222,\"#7201a8\"],[0.3333333333333333,\"#9c179e\"],[0.4444444444444444,\"#bd3786\"],[0.5555555555555556,\"#d8576b\"],[0.6666666666666666,\"#ed7953\"],[0.7777777777777778,\"#fb9f3a\"],[0.8888888888888888,\"#fdca26\"],[1.0,\"#f0f921\"]]}],\"mesh3d\":[{\"type\":\"mesh3d\",\"colorbar\":{\"outlinewidth\":0,\"ticks\":\"\"}}],\"scatter\":[{\"fillpattern\":{\"fillmode\":\"overlay\",\"size\":10,\"solidity\":0.2},\"type\":\"scatter\"}],\"parcoords\":[{\"type\":\"parcoords\",\"line\":{\"colorbar\":{\"outlinewidth\":0,\"ticks\":\"\"}}}],\"scatterpolargl\":[{\"type\":\"scatterpolargl\",\"marker\":{\"colorbar\":{\"outlinewidth\":0,\"ticks\":\"\"}}}],\"bar\":[{\"error_x\":{\"color\":\"#2a3f5f\"},\"error_y\":{\"color\":\"#2a3f5f\"},\"marker\":{\"line\":{\"color\":\"#E5ECF6\",\"width\":0.5},\"pattern\":{\"fillmode\":\"overlay\",\"size\":10,\"solidity\":0.2}},\"type\":\"bar\"}],\"scattergeo\":[{\"type\":\"scattergeo\",\"marker\":{\"colorbar\":{\"outlinewidth\":0,\"ticks\":\"\"}}}],\"scatterpolar\":[{\"type\":\"scatterpolar\",\"marker\":{\"colorbar\":{\"outlinewidth\":0,\"ticks\":\"\"}}}],\"histogram\":[{\"marker\":{\"pattern\":{\"fillmode\":\"overlay\",\"size\":10,\"solidity\":0.2}},\"type\":\"histogram\"}],\"scattergl\":[{\"type\":\"scattergl\",\"marker\":{\"colorbar\":{\"outlinewidth\":0,\"ticks\":\"\"}}}],\"scatter3d\":[{\"type\":\"scatter3d\",\"line\":{\"colorbar\":{\"outlinewidth\":0,\"ticks\":\"\"}},\"marker\":{\"colorbar\":{\"outlinewidth\":0,\"ticks\":\"\"}}}],\"scattermapbox\":[{\"type\":\"scattermapbox\",\"marker\":{\"colorbar\":{\"outlinewidth\":0,\"ticks\":\"\"}}}],\"scatterternary\":[{\"type\":\"scatterternary\",\"marker\":{\"colorbar\":{\"outlinewidth\":0,\"ticks\":\"\"}}}],\"scattercarpet\":[{\"type\":\"scattercarpet\",\"marker\":{\"colorbar\":{\"outlinewidth\":0,\"ticks\":\"\"}}}],\"carpet\":[{\"aaxis\":{\"endlinecolor\":\"#2a3f5f\",\"gridcolor\":\"white\",\"linecolor\":\"white\",\"minorgridcolor\":\"white\",\"startlinecolor\":\"#2a3f5f\"},\"baxis\":{\"endlinecolor\":\"#2a3f5f\",\"gridcolor\":\"white\",\"linecolor\":\"white\",\"minorgridcolor\":\"white\",\"startlinecolor\":\"#2a3f5f\"},\"type\":\"carpet\"}],\"table\":[{\"cells\":{\"fill\":{\"color\":\"#EBF0F8\"},\"line\":{\"color\":\"white\"}},\"header\":{\"fill\":{\"color\":\"#C8D4E3\"},\"line\":{\"color\":\"white\"}},\"type\":\"table\"}],\"barpolar\":[{\"marker\":{\"line\":{\"color\":\"#E5ECF6\",\"width\":0.5},\"pattern\":{\"fillmode\":\"overlay\",\"size\":10,\"solidity\":0.2}},\"type\":\"barpolar\"}],\"pie\":[{\"automargin\":true,\"type\":\"pie\"}]},\"layout\":{\"autotypenumbers\":\"strict\",\"colorway\":[\"#636efa\",\"#EF553B\",\"#00cc96\",\"#ab63fa\",\"#FFA15A\",\"#19d3f3\",\"#FF6692\",\"#B6E880\",\"#FF97FF\",\"#FECB52\"],\"font\":{\"color\":\"#2a3f5f\"},\"hovermode\":\"closest\",\"hoverlabel\":{\"align\":\"left\"},\"paper_bgcolor\":\"white\",\"plot_bgcolor\":\"#E5ECF6\",\"polar\":{\"bgcolor\":\"#E5ECF6\",\"angularaxis\":{\"gridcolor\":\"white\",\"linecolor\":\"white\",\"ticks\":\"\"},\"radialaxis\":{\"gridcolor\":\"white\",\"linecolor\":\"white\",\"ticks\":\"\"}},\"ternary\":{\"bgcolor\":\"#E5ECF6\",\"aaxis\":{\"gridcolor\":\"white\",\"linecolor\":\"white\",\"ticks\":\"\"},\"baxis\":{\"gridcolor\":\"white\",\"linecolor\":\"white\",\"ticks\":\"\"},\"caxis\":{\"gridcolor\":\"white\",\"linecolor\":\"white\",\"ticks\":\"\"}},\"coloraxis\":{\"colorbar\":{\"outlinewidth\":0,\"ticks\":\"\"}},\"colorscale\":{\"sequential\":[[0.0,\"#0d0887\"],[0.1111111111111111,\"#46039f\"],[0.2222222222222222,\"#7201a8\"],[0.3333333333333333,\"#9c179e\"],[0.4444444444444444,\"#bd3786\"],[0.5555555555555556,\"#d8576b\"],[0.6666666666666666,\"#ed7953\"],[0.7777777777777778,\"#fb9f3a\"],[0.8888888888888888,\"#fdca26\"],[1.0,\"#f0f921\"]],\"sequentialminus\":[[0.0,\"#0d0887\"],[0.1111111111111111,\"#46039f\"],[0.2222222222222222,\"#7201a8\"],[0.3333333333333333,\"#9c179e\"],[0.4444444444444444,\"#bd3786\"],[0.5555555555555556,\"#d8576b\"],[0.6666666666666666,\"#ed7953\"],[0.7777777777777778,\"#fb9f3a\"],[0.8888888888888888,\"#fdca26\"],[1.0,\"#f0f921\"]],\"diverging\":[[0,\"#8e0152\"],[0.1,\"#c51b7d\"],[0.2,\"#de77ae\"],[0.3,\"#f1b6da\"],[0.4,\"#fde0ef\"],[0.5,\"#f7f7f7\"],[0.6,\"#e6f5d0\"],[0.7,\"#b8e186\"],[0.8,\"#7fbc41\"],[0.9,\"#4d9221\"],[1,\"#276419\"]]},\"xaxis\":{\"gridcolor\":\"white\",\"linecolor\":\"white\",\"ticks\":\"\",\"title\":{\"standoff\":15},\"zerolinecolor\":\"white\",\"automargin\":true,\"zerolinewidth\":2},\"yaxis\":{\"gridcolor\":\"white\",\"linecolor\":\"white\",\"ticks\":\"\",\"title\":{\"standoff\":15},\"zerolinecolor\":\"white\",\"automargin\":true,\"zerolinewidth\":2},\"scene\":{\"xaxis\":{\"backgroundcolor\":\"#E5ECF6\",\"gridcolor\":\"white\",\"linecolor\":\"white\",\"showbackground\":true,\"ticks\":\"\",\"zerolinecolor\":\"white\",\"gridwidth\":2},\"yaxis\":{\"backgroundcolor\":\"#E5ECF6\",\"gridcolor\":\"white\",\"linecolor\":\"white\",\"showbackground\":true,\"ticks\":\"\",\"zerolinecolor\":\"white\",\"gridwidth\":2},\"zaxis\":{\"backgroundcolor\":\"#E5ECF6\",\"gridcolor\":\"white\",\"linecolor\":\"white\",\"showbackground\":true,\"ticks\":\"\",\"zerolinecolor\":\"white\",\"gridwidth\":2}},\"shapedefaults\":{\"line\":{\"color\":\"#2a3f5f\"}},\"annotationdefaults\":{\"arrowcolor\":\"#2a3f5f\",\"arrowhead\":0,\"arrowwidth\":1},\"geo\":{\"bgcolor\":\"white\",\"landcolor\":\"#E5ECF6\",\"subunitcolor\":\"white\",\"showland\":true,\"showlakes\":true,\"lakecolor\":\"white\"},\"title\":{\"x\":0.05},\"mapbox\":{\"style\":\"light\"}}},\"font\":{\"family\":\"Times New Roman\"},\"plot_bgcolor\":\"rgba(0,0,0,0)\",\"paper_bgcolor\":\"rgba(0,0,0,0)\",\"width\":600,\"height\":500},                        {\"responsive\": true}                    ).then(function(){\n",
              "                            \n",
              "var gd = document.getElementById('03677c16-6536-47f7-93ce-47ea4f2093f0');\n",
              "var x = new MutationObserver(function (mutations, observer) {{\n",
              "        var display = window.getComputedStyle(gd).display;\n",
              "        if (!display || display === 'none') {{\n",
              "            console.log([gd, 'removed!']);\n",
              "            Plotly.purge(gd);\n",
              "            observer.disconnect();\n",
              "        }}\n",
              "}});\n",
              "\n",
              "// Listen for the removal of the full notebook cells\n",
              "var notebookContainer = gd.closest('#notebook-container');\n",
              "if (notebookContainer) {{\n",
              "    x.observe(notebookContainer, {childList: true});\n",
              "}}\n",
              "\n",
              "// Listen for the clearing of the current output cell\n",
              "var outputEl = gd.closest('.output');\n",
              "if (outputEl) {{\n",
              "    x.observe(outputEl, {childList: true});\n",
              "}}\n",
              "\n",
              "                        })                };                            </script>        </div>\n",
              "</body>\n",
              "</html>"
            ]
          },
          "metadata": {}
        },
        {
          "output_type": "display_data",
          "data": {
            "text/html": [
              "<html>\n",
              "<head><meta charset=\"utf-8\" /></head>\n",
              "<body>\n",
              "    <div>            <script src=\"https://cdnjs.cloudflare.com/ajax/libs/mathjax/2.7.5/MathJax.js?config=TeX-AMS-MML_SVG\"></script><script type=\"text/javascript\">if (window.MathJax && window.MathJax.Hub && window.MathJax.Hub.Config) {window.MathJax.Hub.Config({SVG: {font: \"STIX-Web\"}});}</script>                <script type=\"text/javascript\">window.PlotlyConfig = {MathJaxConfig: 'local'};</script>\n",
              "        <script charset=\"utf-8\" src=\"https://cdn.plot.ly/plotly-2.24.1.min.js\"></script>                <div id=\"c0fc5e11-8703-4091-9177-e3a086d772e9\" class=\"plotly-graph-div\" style=\"height:500px; width:600px;\"></div>            <script type=\"text/javascript\">                                    window.PLOTLYENV=window.PLOTLYENV || {};                                    if (document.getElementById(\"c0fc5e11-8703-4091-9177-e3a086d772e9\")) {                    Plotly.newPlot(                        \"c0fc5e11-8703-4091-9177-e3a086d772e9\",                        [{\"cliponaxis\":false,\"hovertemplate\":[\"C (FloatDistribution): 1.0\\u003cextra\\u003e\\u003c\\u002fextra\\u003e\"],\"name\":\"Objective Value\",\"orientation\":\"h\",\"text\":[\"1.00\"],\"textposition\":\"outside\",\"x\":[1.0],\"y\":[\"C\"],\"type\":\"bar\",\"marker\":{\"color\":\"black\"}}],                        {\"title\":{\"text\":\"Hyperparameters Importance\\u003cbr\\u003e\\u003csup\\u003elr\\u003c\\u002fsup\\u003e\",\"font\":{\"color\":\"black\",\"size\":20},\"x\":0},\"xaxis\":{\"title\":{\"text\":\"Hyperparameter Importance\"}},\"yaxis\":{\"title\":{\"text\":\"Hyperparameter\"}},\"template\":{\"data\":{\"histogram2dcontour\":[{\"type\":\"histogram2dcontour\",\"colorbar\":{\"outlinewidth\":0,\"ticks\":\"\"},\"colorscale\":[[0.0,\"#0d0887\"],[0.1111111111111111,\"#46039f\"],[0.2222222222222222,\"#7201a8\"],[0.3333333333333333,\"#9c179e\"],[0.4444444444444444,\"#bd3786\"],[0.5555555555555556,\"#d8576b\"],[0.6666666666666666,\"#ed7953\"],[0.7777777777777778,\"#fb9f3a\"],[0.8888888888888888,\"#fdca26\"],[1.0,\"#f0f921\"]]}],\"choropleth\":[{\"type\":\"choropleth\",\"colorbar\":{\"outlinewidth\":0,\"ticks\":\"\"}}],\"histogram2d\":[{\"type\":\"histogram2d\",\"colorbar\":{\"outlinewidth\":0,\"ticks\":\"\"},\"colorscale\":[[0.0,\"#0d0887\"],[0.1111111111111111,\"#46039f\"],[0.2222222222222222,\"#7201a8\"],[0.3333333333333333,\"#9c179e\"],[0.4444444444444444,\"#bd3786\"],[0.5555555555555556,\"#d8576b\"],[0.6666666666666666,\"#ed7953\"],[0.7777777777777778,\"#fb9f3a\"],[0.8888888888888888,\"#fdca26\"],[1.0,\"#f0f921\"]]}],\"heatmap\":[{\"type\":\"heatmap\",\"colorbar\":{\"outlinewidth\":0,\"ticks\":\"\"},\"colorscale\":[[0.0,\"#0d0887\"],[0.1111111111111111,\"#46039f\"],[0.2222222222222222,\"#7201a8\"],[0.3333333333333333,\"#9c179e\"],[0.4444444444444444,\"#bd3786\"],[0.5555555555555556,\"#d8576b\"],[0.6666666666666666,\"#ed7953\"],[0.7777777777777778,\"#fb9f3a\"],[0.8888888888888888,\"#fdca26\"],[1.0,\"#f0f921\"]]}],\"heatmapgl\":[{\"type\":\"heatmapgl\",\"colorbar\":{\"outlinewidth\":0,\"ticks\":\"\"},\"colorscale\":[[0.0,\"#0d0887\"],[0.1111111111111111,\"#46039f\"],[0.2222222222222222,\"#7201a8\"],[0.3333333333333333,\"#9c179e\"],[0.4444444444444444,\"#bd3786\"],[0.5555555555555556,\"#d8576b\"],[0.6666666666666666,\"#ed7953\"],[0.7777777777777778,\"#fb9f3a\"],[0.8888888888888888,\"#fdca26\"],[1.0,\"#f0f921\"]]}],\"contourcarpet\":[{\"type\":\"contourcarpet\",\"colorbar\":{\"outlinewidth\":0,\"ticks\":\"\"}}],\"contour\":[{\"type\":\"contour\",\"colorbar\":{\"outlinewidth\":0,\"ticks\":\"\"},\"colorscale\":[[0.0,\"#0d0887\"],[0.1111111111111111,\"#46039f\"],[0.2222222222222222,\"#7201a8\"],[0.3333333333333333,\"#9c179e\"],[0.4444444444444444,\"#bd3786\"],[0.5555555555555556,\"#d8576b\"],[0.6666666666666666,\"#ed7953\"],[0.7777777777777778,\"#fb9f3a\"],[0.8888888888888888,\"#fdca26\"],[1.0,\"#f0f921\"]]}],\"surface\":[{\"type\":\"surface\",\"colorbar\":{\"outlinewidth\":0,\"ticks\":\"\"},\"colorscale\":[[0.0,\"#0d0887\"],[0.1111111111111111,\"#46039f\"],[0.2222222222222222,\"#7201a8\"],[0.3333333333333333,\"#9c179e\"],[0.4444444444444444,\"#bd3786\"],[0.5555555555555556,\"#d8576b\"],[0.6666666666666666,\"#ed7953\"],[0.7777777777777778,\"#fb9f3a\"],[0.8888888888888888,\"#fdca26\"],[1.0,\"#f0f921\"]]}],\"mesh3d\":[{\"type\":\"mesh3d\",\"colorbar\":{\"outlinewidth\":0,\"ticks\":\"\"}}],\"scatter\":[{\"fillpattern\":{\"fillmode\":\"overlay\",\"size\":10,\"solidity\":0.2},\"type\":\"scatter\"}],\"parcoords\":[{\"type\":\"parcoords\",\"line\":{\"colorbar\":{\"outlinewidth\":0,\"ticks\":\"\"}}}],\"scatterpolargl\":[{\"type\":\"scatterpolargl\",\"marker\":{\"colorbar\":{\"outlinewidth\":0,\"ticks\":\"\"}}}],\"bar\":[{\"error_x\":{\"color\":\"#2a3f5f\"},\"error_y\":{\"color\":\"#2a3f5f\"},\"marker\":{\"line\":{\"color\":\"#E5ECF6\",\"width\":0.5},\"pattern\":{\"fillmode\":\"overlay\",\"size\":10,\"solidity\":0.2}},\"type\":\"bar\"}],\"scattergeo\":[{\"type\":\"scattergeo\",\"marker\":{\"colorbar\":{\"outlinewidth\":0,\"ticks\":\"\"}}}],\"scatterpolar\":[{\"type\":\"scatterpolar\",\"marker\":{\"colorbar\":{\"outlinewidth\":0,\"ticks\":\"\"}}}],\"histogram\":[{\"marker\":{\"pattern\":{\"fillmode\":\"overlay\",\"size\":10,\"solidity\":0.2}},\"type\":\"histogram\"}],\"scattergl\":[{\"type\":\"scattergl\",\"marker\":{\"colorbar\":{\"outlinewidth\":0,\"ticks\":\"\"}}}],\"scatter3d\":[{\"type\":\"scatter3d\",\"line\":{\"colorbar\":{\"outlinewidth\":0,\"ticks\":\"\"}},\"marker\":{\"colorbar\":{\"outlinewidth\":0,\"ticks\":\"\"}}}],\"scattermapbox\":[{\"type\":\"scattermapbox\",\"marker\":{\"colorbar\":{\"outlinewidth\":0,\"ticks\":\"\"}}}],\"scatterternary\":[{\"type\":\"scatterternary\",\"marker\":{\"colorbar\":{\"outlinewidth\":0,\"ticks\":\"\"}}}],\"scattercarpet\":[{\"type\":\"scattercarpet\",\"marker\":{\"colorbar\":{\"outlinewidth\":0,\"ticks\":\"\"}}}],\"carpet\":[{\"aaxis\":{\"endlinecolor\":\"#2a3f5f\",\"gridcolor\":\"white\",\"linecolor\":\"white\",\"minorgridcolor\":\"white\",\"startlinecolor\":\"#2a3f5f\"},\"baxis\":{\"endlinecolor\":\"#2a3f5f\",\"gridcolor\":\"white\",\"linecolor\":\"white\",\"minorgridcolor\":\"white\",\"startlinecolor\":\"#2a3f5f\"},\"type\":\"carpet\"}],\"table\":[{\"cells\":{\"fill\":{\"color\":\"#EBF0F8\"},\"line\":{\"color\":\"white\"}},\"header\":{\"fill\":{\"color\":\"#C8D4E3\"},\"line\":{\"color\":\"white\"}},\"type\":\"table\"}],\"barpolar\":[{\"marker\":{\"line\":{\"color\":\"#E5ECF6\",\"width\":0.5},\"pattern\":{\"fillmode\":\"overlay\",\"size\":10,\"solidity\":0.2}},\"type\":\"barpolar\"}],\"pie\":[{\"automargin\":true,\"type\":\"pie\"}]},\"layout\":{\"autotypenumbers\":\"strict\",\"colorway\":[\"#636efa\",\"#EF553B\",\"#00cc96\",\"#ab63fa\",\"#FFA15A\",\"#19d3f3\",\"#FF6692\",\"#B6E880\",\"#FF97FF\",\"#FECB52\"],\"font\":{\"color\":\"#2a3f5f\"},\"hovermode\":\"closest\",\"hoverlabel\":{\"align\":\"left\"},\"paper_bgcolor\":\"white\",\"plot_bgcolor\":\"#E5ECF6\",\"polar\":{\"bgcolor\":\"#E5ECF6\",\"angularaxis\":{\"gridcolor\":\"white\",\"linecolor\":\"white\",\"ticks\":\"\"},\"radialaxis\":{\"gridcolor\":\"white\",\"linecolor\":\"white\",\"ticks\":\"\"}},\"ternary\":{\"bgcolor\":\"#E5ECF6\",\"aaxis\":{\"gridcolor\":\"white\",\"linecolor\":\"white\",\"ticks\":\"\"},\"baxis\":{\"gridcolor\":\"white\",\"linecolor\":\"white\",\"ticks\":\"\"},\"caxis\":{\"gridcolor\":\"white\",\"linecolor\":\"white\",\"ticks\":\"\"}},\"coloraxis\":{\"colorbar\":{\"outlinewidth\":0,\"ticks\":\"\"}},\"colorscale\":{\"sequential\":[[0.0,\"#0d0887\"],[0.1111111111111111,\"#46039f\"],[0.2222222222222222,\"#7201a8\"],[0.3333333333333333,\"#9c179e\"],[0.4444444444444444,\"#bd3786\"],[0.5555555555555556,\"#d8576b\"],[0.6666666666666666,\"#ed7953\"],[0.7777777777777778,\"#fb9f3a\"],[0.8888888888888888,\"#fdca26\"],[1.0,\"#f0f921\"]],\"sequentialminus\":[[0.0,\"#0d0887\"],[0.1111111111111111,\"#46039f\"],[0.2222222222222222,\"#7201a8\"],[0.3333333333333333,\"#9c179e\"],[0.4444444444444444,\"#bd3786\"],[0.5555555555555556,\"#d8576b\"],[0.6666666666666666,\"#ed7953\"],[0.7777777777777778,\"#fb9f3a\"],[0.8888888888888888,\"#fdca26\"],[1.0,\"#f0f921\"]],\"diverging\":[[0,\"#8e0152\"],[0.1,\"#c51b7d\"],[0.2,\"#de77ae\"],[0.3,\"#f1b6da\"],[0.4,\"#fde0ef\"],[0.5,\"#f7f7f7\"],[0.6,\"#e6f5d0\"],[0.7,\"#b8e186\"],[0.8,\"#7fbc41\"],[0.9,\"#4d9221\"],[1,\"#276419\"]]},\"xaxis\":{\"gridcolor\":\"white\",\"linecolor\":\"white\",\"ticks\":\"\",\"title\":{\"standoff\":15},\"zerolinecolor\":\"white\",\"automargin\":true,\"zerolinewidth\":2},\"yaxis\":{\"gridcolor\":\"white\",\"linecolor\":\"white\",\"ticks\":\"\",\"title\":{\"standoff\":15},\"zerolinecolor\":\"white\",\"automargin\":true,\"zerolinewidth\":2},\"scene\":{\"xaxis\":{\"backgroundcolor\":\"#E5ECF6\",\"gridcolor\":\"white\",\"linecolor\":\"white\",\"showbackground\":true,\"ticks\":\"\",\"zerolinecolor\":\"white\",\"gridwidth\":2},\"yaxis\":{\"backgroundcolor\":\"#E5ECF6\",\"gridcolor\":\"white\",\"linecolor\":\"white\",\"showbackground\":true,\"ticks\":\"\",\"zerolinecolor\":\"white\",\"gridwidth\":2},\"zaxis\":{\"backgroundcolor\":\"#E5ECF6\",\"gridcolor\":\"white\",\"linecolor\":\"white\",\"showbackground\":true,\"ticks\":\"\",\"zerolinecolor\":\"white\",\"gridwidth\":2}},\"shapedefaults\":{\"line\":{\"color\":\"#2a3f5f\"}},\"annotationdefaults\":{\"arrowcolor\":\"#2a3f5f\",\"arrowhead\":0,\"arrowwidth\":1},\"geo\":{\"bgcolor\":\"white\",\"landcolor\":\"#E5ECF6\",\"subunitcolor\":\"white\",\"showland\":true,\"showlakes\":true,\"lakecolor\":\"white\"},\"title\":{\"x\":0.05},\"mapbox\":{\"style\":\"light\"}}},\"font\":{\"family\":\"Times New Roman\"},\"plot_bgcolor\":\"rgba(0,0,0,0)\",\"paper_bgcolor\":\"rgba(0,0,0,0)\",\"width\":600,\"height\":500},                        {\"responsive\": true}                    ).then(function(){\n",
              "                            \n",
              "var gd = document.getElementById('c0fc5e11-8703-4091-9177-e3a086d772e9');\n",
              "var x = new MutationObserver(function (mutations, observer) {{\n",
              "        var display = window.getComputedStyle(gd).display;\n",
              "        if (!display || display === 'none') {{\n",
              "            console.log([gd, 'removed!']);\n",
              "            Plotly.purge(gd);\n",
              "            observer.disconnect();\n",
              "        }}\n",
              "}});\n",
              "\n",
              "// Listen for the removal of the full notebook cells\n",
              "var notebookContainer = gd.closest('#notebook-container');\n",
              "if (notebookContainer) {{\n",
              "    x.observe(notebookContainer, {childList: true});\n",
              "}}\n",
              "\n",
              "// Listen for the clearing of the current output cell\n",
              "var outputEl = gd.closest('.output');\n",
              "if (outputEl) {{\n",
              "    x.observe(outputEl, {childList: true});\n",
              "}}\n",
              "\n",
              "                        })                };                            </script>        </div>\n",
              "</body>\n",
              "</html>"
            ]
          },
          "metadata": {}
        },
        {
          "output_type": "stream",
          "name": "stdout",
          "text": [
            "----------------------------------------------------------------------\n",
            "xgb\n",
            "Best hyperparameters for xgb: {'n_estimators': 180, 'max_depth': 6, 'learning_rate': 0.05035977903294764}\n",
            "Best objective value for xgb: 0.61\n"
          ]
        },
        {
          "output_type": "display_data",
          "data": {
            "text/html": [
              "<html>\n",
              "<head><meta charset=\"utf-8\" /></head>\n",
              "<body>\n",
              "    <div>            <script src=\"https://cdnjs.cloudflare.com/ajax/libs/mathjax/2.7.5/MathJax.js?config=TeX-AMS-MML_SVG\"></script><script type=\"text/javascript\">if (window.MathJax && window.MathJax.Hub && window.MathJax.Hub.Config) {window.MathJax.Hub.Config({SVG: {font: \"STIX-Web\"}});}</script>                <script type=\"text/javascript\">window.PlotlyConfig = {MathJaxConfig: 'local'};</script>\n",
              "        <script charset=\"utf-8\" src=\"https://cdn.plot.ly/plotly-2.24.1.min.js\"></script>                <div id=\"da1199d2-e203-4a0c-b01a-7e0f2e67cd13\" class=\"plotly-graph-div\" style=\"height:500px; width:600px;\"></div>            <script type=\"text/javascript\">                                    window.PLOTLYENV=window.PLOTLYENV || {};                                    if (document.getElementById(\"da1199d2-e203-4a0c-b01a-7e0f2e67cd13\")) {                    Plotly.newPlot(                        \"da1199d2-e203-4a0c-b01a-7e0f2e67cd13\",                        [{\"mode\":\"markers\",\"name\":\"Objective Value\",\"x\":[0,1,2,3,4,5,6,7,8,9,10,11,12,13,14,15,16,17,18,19,20,21,22,23,24,25,26,27,28,29,30,31,32,33,34,35,36,37,38,39,40,41,42,43,44,45,46,47,48,49],\"y\":[0.57,0.56,0.57,0.56,0.57,0.55,0.58,0.57,0.57,0.57,0.55,0.59,0.58,0.57,0.56,0.57,0.58,0.6,0.57,0.57,0.58,0.59,0.58,0.61,0.59,0.57,0.58,0.58,0.59,0.59,0.59,0.59,0.6,0.6,0.57,0.6,0.55,0.59,0.59,0.58,0.6,0.6,0.59,0.58,0.58,0.57,0.6,0.57,0.57,0.58],\"type\":\"scatter\",\"marker\":{\"color\":\"black\"}},{\"mode\":\"lines\",\"name\":\"Best Value\",\"x\":[0,1,2,3,4,5,6,7,8,9,10,11,12,13,14,15,16,17,18,19,20,21,22,23,24,25,26,27,28,29,30,31,32,33,34,35,36,37,38,39,40,41,42,43,44,45,46,47,48,49],\"y\":[0.57,0.57,0.57,0.57,0.57,0.57,0.58,0.58,0.58,0.58,0.58,0.59,0.59,0.59,0.59,0.59,0.59,0.6,0.6,0.6,0.6,0.6,0.6,0.61,0.61,0.61,0.61,0.61,0.61,0.61,0.61,0.61,0.61,0.61,0.61,0.61,0.61,0.61,0.61,0.61,0.61,0.61,0.61,0.61,0.61,0.61,0.61,0.61,0.61,0.61],\"type\":\"scatter\",\"marker\":{\"color\":\"black\"}},{\"marker\":{\"color\":\"black\"},\"mode\":\"markers\",\"name\":\"Infeasible Trial\",\"showlegend\":false,\"x\":[],\"y\":[],\"type\":\"scatter\"}],                        {\"title\":{\"text\":\"Optimization History\\u003cbr\\u003e\\u003csup\\u003exgb\\u003c\\u002fsup\\u003e\",\"font\":{\"color\":\"black\",\"size\":20},\"x\":0},\"xaxis\":{\"title\":{\"text\":\"Trial\"}},\"yaxis\":{\"title\":{\"text\":\"Objective Value\"}},\"template\":{\"data\":{\"histogram2dcontour\":[{\"type\":\"histogram2dcontour\",\"colorbar\":{\"outlinewidth\":0,\"ticks\":\"\"},\"colorscale\":[[0.0,\"#0d0887\"],[0.1111111111111111,\"#46039f\"],[0.2222222222222222,\"#7201a8\"],[0.3333333333333333,\"#9c179e\"],[0.4444444444444444,\"#bd3786\"],[0.5555555555555556,\"#d8576b\"],[0.6666666666666666,\"#ed7953\"],[0.7777777777777778,\"#fb9f3a\"],[0.8888888888888888,\"#fdca26\"],[1.0,\"#f0f921\"]]}],\"choropleth\":[{\"type\":\"choropleth\",\"colorbar\":{\"outlinewidth\":0,\"ticks\":\"\"}}],\"histogram2d\":[{\"type\":\"histogram2d\",\"colorbar\":{\"outlinewidth\":0,\"ticks\":\"\"},\"colorscale\":[[0.0,\"#0d0887\"],[0.1111111111111111,\"#46039f\"],[0.2222222222222222,\"#7201a8\"],[0.3333333333333333,\"#9c179e\"],[0.4444444444444444,\"#bd3786\"],[0.5555555555555556,\"#d8576b\"],[0.6666666666666666,\"#ed7953\"],[0.7777777777777778,\"#fb9f3a\"],[0.8888888888888888,\"#fdca26\"],[1.0,\"#f0f921\"]]}],\"heatmap\":[{\"type\":\"heatmap\",\"colorbar\":{\"outlinewidth\":0,\"ticks\":\"\"},\"colorscale\":[[0.0,\"#0d0887\"],[0.1111111111111111,\"#46039f\"],[0.2222222222222222,\"#7201a8\"],[0.3333333333333333,\"#9c179e\"],[0.4444444444444444,\"#bd3786\"],[0.5555555555555556,\"#d8576b\"],[0.6666666666666666,\"#ed7953\"],[0.7777777777777778,\"#fb9f3a\"],[0.8888888888888888,\"#fdca26\"],[1.0,\"#f0f921\"]]}],\"heatmapgl\":[{\"type\":\"heatmapgl\",\"colorbar\":{\"outlinewidth\":0,\"ticks\":\"\"},\"colorscale\":[[0.0,\"#0d0887\"],[0.1111111111111111,\"#46039f\"],[0.2222222222222222,\"#7201a8\"],[0.3333333333333333,\"#9c179e\"],[0.4444444444444444,\"#bd3786\"],[0.5555555555555556,\"#d8576b\"],[0.6666666666666666,\"#ed7953\"],[0.7777777777777778,\"#fb9f3a\"],[0.8888888888888888,\"#fdca26\"],[1.0,\"#f0f921\"]]}],\"contourcarpet\":[{\"type\":\"contourcarpet\",\"colorbar\":{\"outlinewidth\":0,\"ticks\":\"\"}}],\"contour\":[{\"type\":\"contour\",\"colorbar\":{\"outlinewidth\":0,\"ticks\":\"\"},\"colorscale\":[[0.0,\"#0d0887\"],[0.1111111111111111,\"#46039f\"],[0.2222222222222222,\"#7201a8\"],[0.3333333333333333,\"#9c179e\"],[0.4444444444444444,\"#bd3786\"],[0.5555555555555556,\"#d8576b\"],[0.6666666666666666,\"#ed7953\"],[0.7777777777777778,\"#fb9f3a\"],[0.8888888888888888,\"#fdca26\"],[1.0,\"#f0f921\"]]}],\"surface\":[{\"type\":\"surface\",\"colorbar\":{\"outlinewidth\":0,\"ticks\":\"\"},\"colorscale\":[[0.0,\"#0d0887\"],[0.1111111111111111,\"#46039f\"],[0.2222222222222222,\"#7201a8\"],[0.3333333333333333,\"#9c179e\"],[0.4444444444444444,\"#bd3786\"],[0.5555555555555556,\"#d8576b\"],[0.6666666666666666,\"#ed7953\"],[0.7777777777777778,\"#fb9f3a\"],[0.8888888888888888,\"#fdca26\"],[1.0,\"#f0f921\"]]}],\"mesh3d\":[{\"type\":\"mesh3d\",\"colorbar\":{\"outlinewidth\":0,\"ticks\":\"\"}}],\"scatter\":[{\"fillpattern\":{\"fillmode\":\"overlay\",\"size\":10,\"solidity\":0.2},\"type\":\"scatter\"}],\"parcoords\":[{\"type\":\"parcoords\",\"line\":{\"colorbar\":{\"outlinewidth\":0,\"ticks\":\"\"}}}],\"scatterpolargl\":[{\"type\":\"scatterpolargl\",\"marker\":{\"colorbar\":{\"outlinewidth\":0,\"ticks\":\"\"}}}],\"bar\":[{\"error_x\":{\"color\":\"#2a3f5f\"},\"error_y\":{\"color\":\"#2a3f5f\"},\"marker\":{\"line\":{\"color\":\"#E5ECF6\",\"width\":0.5},\"pattern\":{\"fillmode\":\"overlay\",\"size\":10,\"solidity\":0.2}},\"type\":\"bar\"}],\"scattergeo\":[{\"type\":\"scattergeo\",\"marker\":{\"colorbar\":{\"outlinewidth\":0,\"ticks\":\"\"}}}],\"scatterpolar\":[{\"type\":\"scatterpolar\",\"marker\":{\"colorbar\":{\"outlinewidth\":0,\"ticks\":\"\"}}}],\"histogram\":[{\"marker\":{\"pattern\":{\"fillmode\":\"overlay\",\"size\":10,\"solidity\":0.2}},\"type\":\"histogram\"}],\"scattergl\":[{\"type\":\"scattergl\",\"marker\":{\"colorbar\":{\"outlinewidth\":0,\"ticks\":\"\"}}}],\"scatter3d\":[{\"type\":\"scatter3d\",\"line\":{\"colorbar\":{\"outlinewidth\":0,\"ticks\":\"\"}},\"marker\":{\"colorbar\":{\"outlinewidth\":0,\"ticks\":\"\"}}}],\"scattermapbox\":[{\"type\":\"scattermapbox\",\"marker\":{\"colorbar\":{\"outlinewidth\":0,\"ticks\":\"\"}}}],\"scatterternary\":[{\"type\":\"scatterternary\",\"marker\":{\"colorbar\":{\"outlinewidth\":0,\"ticks\":\"\"}}}],\"scattercarpet\":[{\"type\":\"scattercarpet\",\"marker\":{\"colorbar\":{\"outlinewidth\":0,\"ticks\":\"\"}}}],\"carpet\":[{\"aaxis\":{\"endlinecolor\":\"#2a3f5f\",\"gridcolor\":\"white\",\"linecolor\":\"white\",\"minorgridcolor\":\"white\",\"startlinecolor\":\"#2a3f5f\"},\"baxis\":{\"endlinecolor\":\"#2a3f5f\",\"gridcolor\":\"white\",\"linecolor\":\"white\",\"minorgridcolor\":\"white\",\"startlinecolor\":\"#2a3f5f\"},\"type\":\"carpet\"}],\"table\":[{\"cells\":{\"fill\":{\"color\":\"#EBF0F8\"},\"line\":{\"color\":\"white\"}},\"header\":{\"fill\":{\"color\":\"#C8D4E3\"},\"line\":{\"color\":\"white\"}},\"type\":\"table\"}],\"barpolar\":[{\"marker\":{\"line\":{\"color\":\"#E5ECF6\",\"width\":0.5},\"pattern\":{\"fillmode\":\"overlay\",\"size\":10,\"solidity\":0.2}},\"type\":\"barpolar\"}],\"pie\":[{\"automargin\":true,\"type\":\"pie\"}]},\"layout\":{\"autotypenumbers\":\"strict\",\"colorway\":[\"#636efa\",\"#EF553B\",\"#00cc96\",\"#ab63fa\",\"#FFA15A\",\"#19d3f3\",\"#FF6692\",\"#B6E880\",\"#FF97FF\",\"#FECB52\"],\"font\":{\"color\":\"#2a3f5f\"},\"hovermode\":\"closest\",\"hoverlabel\":{\"align\":\"left\"},\"paper_bgcolor\":\"white\",\"plot_bgcolor\":\"#E5ECF6\",\"polar\":{\"bgcolor\":\"#E5ECF6\",\"angularaxis\":{\"gridcolor\":\"white\",\"linecolor\":\"white\",\"ticks\":\"\"},\"radialaxis\":{\"gridcolor\":\"white\",\"linecolor\":\"white\",\"ticks\":\"\"}},\"ternary\":{\"bgcolor\":\"#E5ECF6\",\"aaxis\":{\"gridcolor\":\"white\",\"linecolor\":\"white\",\"ticks\":\"\"},\"baxis\":{\"gridcolor\":\"white\",\"linecolor\":\"white\",\"ticks\":\"\"},\"caxis\":{\"gridcolor\":\"white\",\"linecolor\":\"white\",\"ticks\":\"\"}},\"coloraxis\":{\"colorbar\":{\"outlinewidth\":0,\"ticks\":\"\"}},\"colorscale\":{\"sequential\":[[0.0,\"#0d0887\"],[0.1111111111111111,\"#46039f\"],[0.2222222222222222,\"#7201a8\"],[0.3333333333333333,\"#9c179e\"],[0.4444444444444444,\"#bd3786\"],[0.5555555555555556,\"#d8576b\"],[0.6666666666666666,\"#ed7953\"],[0.7777777777777778,\"#fb9f3a\"],[0.8888888888888888,\"#fdca26\"],[1.0,\"#f0f921\"]],\"sequentialminus\":[[0.0,\"#0d0887\"],[0.1111111111111111,\"#46039f\"],[0.2222222222222222,\"#7201a8\"],[0.3333333333333333,\"#9c179e\"],[0.4444444444444444,\"#bd3786\"],[0.5555555555555556,\"#d8576b\"],[0.6666666666666666,\"#ed7953\"],[0.7777777777777778,\"#fb9f3a\"],[0.8888888888888888,\"#fdca26\"],[1.0,\"#f0f921\"]],\"diverging\":[[0,\"#8e0152\"],[0.1,\"#c51b7d\"],[0.2,\"#de77ae\"],[0.3,\"#f1b6da\"],[0.4,\"#fde0ef\"],[0.5,\"#f7f7f7\"],[0.6,\"#e6f5d0\"],[0.7,\"#b8e186\"],[0.8,\"#7fbc41\"],[0.9,\"#4d9221\"],[1,\"#276419\"]]},\"xaxis\":{\"gridcolor\":\"white\",\"linecolor\":\"white\",\"ticks\":\"\",\"title\":{\"standoff\":15},\"zerolinecolor\":\"white\",\"automargin\":true,\"zerolinewidth\":2},\"yaxis\":{\"gridcolor\":\"white\",\"linecolor\":\"white\",\"ticks\":\"\",\"title\":{\"standoff\":15},\"zerolinecolor\":\"white\",\"automargin\":true,\"zerolinewidth\":2},\"scene\":{\"xaxis\":{\"backgroundcolor\":\"#E5ECF6\",\"gridcolor\":\"white\",\"linecolor\":\"white\",\"showbackground\":true,\"ticks\":\"\",\"zerolinecolor\":\"white\",\"gridwidth\":2},\"yaxis\":{\"backgroundcolor\":\"#E5ECF6\",\"gridcolor\":\"white\",\"linecolor\":\"white\",\"showbackground\":true,\"ticks\":\"\",\"zerolinecolor\":\"white\",\"gridwidth\":2},\"zaxis\":{\"backgroundcolor\":\"#E5ECF6\",\"gridcolor\":\"white\",\"linecolor\":\"white\",\"showbackground\":true,\"ticks\":\"\",\"zerolinecolor\":\"white\",\"gridwidth\":2}},\"shapedefaults\":{\"line\":{\"color\":\"#2a3f5f\"}},\"annotationdefaults\":{\"arrowcolor\":\"#2a3f5f\",\"arrowhead\":0,\"arrowwidth\":1},\"geo\":{\"bgcolor\":\"white\",\"landcolor\":\"#E5ECF6\",\"subunitcolor\":\"white\",\"showland\":true,\"showlakes\":true,\"lakecolor\":\"white\"},\"title\":{\"x\":0.05},\"mapbox\":{\"style\":\"light\"}}},\"font\":{\"family\":\"Times New Roman\"},\"plot_bgcolor\":\"rgba(0,0,0,0)\",\"paper_bgcolor\":\"rgba(0,0,0,0)\",\"width\":600,\"height\":500},                        {\"responsive\": true}                    ).then(function(){\n",
              "                            \n",
              "var gd = document.getElementById('da1199d2-e203-4a0c-b01a-7e0f2e67cd13');\n",
              "var x = new MutationObserver(function (mutations, observer) {{\n",
              "        var display = window.getComputedStyle(gd).display;\n",
              "        if (!display || display === 'none') {{\n",
              "            console.log([gd, 'removed!']);\n",
              "            Plotly.purge(gd);\n",
              "            observer.disconnect();\n",
              "        }}\n",
              "}});\n",
              "\n",
              "// Listen for the removal of the full notebook cells\n",
              "var notebookContainer = gd.closest('#notebook-container');\n",
              "if (notebookContainer) {{\n",
              "    x.observe(notebookContainer, {childList: true});\n",
              "}}\n",
              "\n",
              "// Listen for the clearing of the current output cell\n",
              "var outputEl = gd.closest('.output');\n",
              "if (outputEl) {{\n",
              "    x.observe(outputEl, {childList: true});\n",
              "}}\n",
              "\n",
              "                        })                };                            </script>        </div>\n",
              "</body>\n",
              "</html>"
            ]
          },
          "metadata": {}
        },
        {
          "output_type": "display_data",
          "data": {
            "text/html": [
              "<html>\n",
              "<head><meta charset=\"utf-8\" /></head>\n",
              "<body>\n",
              "    <div>            <script src=\"https://cdnjs.cloudflare.com/ajax/libs/mathjax/2.7.5/MathJax.js?config=TeX-AMS-MML_SVG\"></script><script type=\"text/javascript\">if (window.MathJax && window.MathJax.Hub && window.MathJax.Hub.Config) {window.MathJax.Hub.Config({SVG: {font: \"STIX-Web\"}});}</script>                <script type=\"text/javascript\">window.PlotlyConfig = {MathJaxConfig: 'local'};</script>\n",
              "        <script charset=\"utf-8\" src=\"https://cdn.plot.ly/plotly-2.24.1.min.js\"></script>                <div id=\"c38833d2-2a80-4d5b-a35b-6953b0468344\" class=\"plotly-graph-div\" style=\"height:500px; width:600px;\"></div>            <script type=\"text/javascript\">                                    window.PLOTLYENV=window.PLOTLYENV || {};                                    if (document.getElementById(\"c38833d2-2a80-4d5b-a35b-6953b0468344\")) {                    Plotly.newPlot(                        \"c38833d2-2a80-4d5b-a35b-6953b0468344\",                        [{\"cliponaxis\":false,\"hovertemplate\":[\"learning_rate (FloatDistribution): 0.24526147955550978\\u003cextra\\u003e\\u003c\\u002fextra\\u003e\",\"max_depth (IntDistribution): 0.36658101983367813\\u003cextra\\u003e\\u003c\\u002fextra\\u003e\",\"n_estimators (IntDistribution): 0.388157500610812\\u003cextra\\u003e\\u003c\\u002fextra\\u003e\"],\"name\":\"Objective Value\",\"orientation\":\"h\",\"text\":[\"0.25\",\"0.37\",\"0.39\"],\"textposition\":\"outside\",\"x\":[0.24526147955550978,0.36658101983367813,0.388157500610812],\"y\":[\"learning_rate\",\"max_depth\",\"n_estimators\"],\"type\":\"bar\",\"marker\":{\"color\":\"black\"}}],                        {\"title\":{\"text\":\"Hyperparameters Importance\\u003cbr\\u003e\\u003csup\\u003exgb\\u003c\\u002fsup\\u003e\",\"font\":{\"color\":\"black\",\"size\":20},\"x\":0},\"xaxis\":{\"title\":{\"text\":\"Hyperparameter Importance\"}},\"yaxis\":{\"title\":{\"text\":\"Hyperparameter\"}},\"template\":{\"data\":{\"histogram2dcontour\":[{\"type\":\"histogram2dcontour\",\"colorbar\":{\"outlinewidth\":0,\"ticks\":\"\"},\"colorscale\":[[0.0,\"#0d0887\"],[0.1111111111111111,\"#46039f\"],[0.2222222222222222,\"#7201a8\"],[0.3333333333333333,\"#9c179e\"],[0.4444444444444444,\"#bd3786\"],[0.5555555555555556,\"#d8576b\"],[0.6666666666666666,\"#ed7953\"],[0.7777777777777778,\"#fb9f3a\"],[0.8888888888888888,\"#fdca26\"],[1.0,\"#f0f921\"]]}],\"choropleth\":[{\"type\":\"choropleth\",\"colorbar\":{\"outlinewidth\":0,\"ticks\":\"\"}}],\"histogram2d\":[{\"type\":\"histogram2d\",\"colorbar\":{\"outlinewidth\":0,\"ticks\":\"\"},\"colorscale\":[[0.0,\"#0d0887\"],[0.1111111111111111,\"#46039f\"],[0.2222222222222222,\"#7201a8\"],[0.3333333333333333,\"#9c179e\"],[0.4444444444444444,\"#bd3786\"],[0.5555555555555556,\"#d8576b\"],[0.6666666666666666,\"#ed7953\"],[0.7777777777777778,\"#fb9f3a\"],[0.8888888888888888,\"#fdca26\"],[1.0,\"#f0f921\"]]}],\"heatmap\":[{\"type\":\"heatmap\",\"colorbar\":{\"outlinewidth\":0,\"ticks\":\"\"},\"colorscale\":[[0.0,\"#0d0887\"],[0.1111111111111111,\"#46039f\"],[0.2222222222222222,\"#7201a8\"],[0.3333333333333333,\"#9c179e\"],[0.4444444444444444,\"#bd3786\"],[0.5555555555555556,\"#d8576b\"],[0.6666666666666666,\"#ed7953\"],[0.7777777777777778,\"#fb9f3a\"],[0.8888888888888888,\"#fdca26\"],[1.0,\"#f0f921\"]]}],\"heatmapgl\":[{\"type\":\"heatmapgl\",\"colorbar\":{\"outlinewidth\":0,\"ticks\":\"\"},\"colorscale\":[[0.0,\"#0d0887\"],[0.1111111111111111,\"#46039f\"],[0.2222222222222222,\"#7201a8\"],[0.3333333333333333,\"#9c179e\"],[0.4444444444444444,\"#bd3786\"],[0.5555555555555556,\"#d8576b\"],[0.6666666666666666,\"#ed7953\"],[0.7777777777777778,\"#fb9f3a\"],[0.8888888888888888,\"#fdca26\"],[1.0,\"#f0f921\"]]}],\"contourcarpet\":[{\"type\":\"contourcarpet\",\"colorbar\":{\"outlinewidth\":0,\"ticks\":\"\"}}],\"contour\":[{\"type\":\"contour\",\"colorbar\":{\"outlinewidth\":0,\"ticks\":\"\"},\"colorscale\":[[0.0,\"#0d0887\"],[0.1111111111111111,\"#46039f\"],[0.2222222222222222,\"#7201a8\"],[0.3333333333333333,\"#9c179e\"],[0.4444444444444444,\"#bd3786\"],[0.5555555555555556,\"#d8576b\"],[0.6666666666666666,\"#ed7953\"],[0.7777777777777778,\"#fb9f3a\"],[0.8888888888888888,\"#fdca26\"],[1.0,\"#f0f921\"]]}],\"surface\":[{\"type\":\"surface\",\"colorbar\":{\"outlinewidth\":0,\"ticks\":\"\"},\"colorscale\":[[0.0,\"#0d0887\"],[0.1111111111111111,\"#46039f\"],[0.2222222222222222,\"#7201a8\"],[0.3333333333333333,\"#9c179e\"],[0.4444444444444444,\"#bd3786\"],[0.5555555555555556,\"#d8576b\"],[0.6666666666666666,\"#ed7953\"],[0.7777777777777778,\"#fb9f3a\"],[0.8888888888888888,\"#fdca26\"],[1.0,\"#f0f921\"]]}],\"mesh3d\":[{\"type\":\"mesh3d\",\"colorbar\":{\"outlinewidth\":0,\"ticks\":\"\"}}],\"scatter\":[{\"fillpattern\":{\"fillmode\":\"overlay\",\"size\":10,\"solidity\":0.2},\"type\":\"scatter\"}],\"parcoords\":[{\"type\":\"parcoords\",\"line\":{\"colorbar\":{\"outlinewidth\":0,\"ticks\":\"\"}}}],\"scatterpolargl\":[{\"type\":\"scatterpolargl\",\"marker\":{\"colorbar\":{\"outlinewidth\":0,\"ticks\":\"\"}}}],\"bar\":[{\"error_x\":{\"color\":\"#2a3f5f\"},\"error_y\":{\"color\":\"#2a3f5f\"},\"marker\":{\"line\":{\"color\":\"#E5ECF6\",\"width\":0.5},\"pattern\":{\"fillmode\":\"overlay\",\"size\":10,\"solidity\":0.2}},\"type\":\"bar\"}],\"scattergeo\":[{\"type\":\"scattergeo\",\"marker\":{\"colorbar\":{\"outlinewidth\":0,\"ticks\":\"\"}}}],\"scatterpolar\":[{\"type\":\"scatterpolar\",\"marker\":{\"colorbar\":{\"outlinewidth\":0,\"ticks\":\"\"}}}],\"histogram\":[{\"marker\":{\"pattern\":{\"fillmode\":\"overlay\",\"size\":10,\"solidity\":0.2}},\"type\":\"histogram\"}],\"scattergl\":[{\"type\":\"scattergl\",\"marker\":{\"colorbar\":{\"outlinewidth\":0,\"ticks\":\"\"}}}],\"scatter3d\":[{\"type\":\"scatter3d\",\"line\":{\"colorbar\":{\"outlinewidth\":0,\"ticks\":\"\"}},\"marker\":{\"colorbar\":{\"outlinewidth\":0,\"ticks\":\"\"}}}],\"scattermapbox\":[{\"type\":\"scattermapbox\",\"marker\":{\"colorbar\":{\"outlinewidth\":0,\"ticks\":\"\"}}}],\"scatterternary\":[{\"type\":\"scatterternary\",\"marker\":{\"colorbar\":{\"outlinewidth\":0,\"ticks\":\"\"}}}],\"scattercarpet\":[{\"type\":\"scattercarpet\",\"marker\":{\"colorbar\":{\"outlinewidth\":0,\"ticks\":\"\"}}}],\"carpet\":[{\"aaxis\":{\"endlinecolor\":\"#2a3f5f\",\"gridcolor\":\"white\",\"linecolor\":\"white\",\"minorgridcolor\":\"white\",\"startlinecolor\":\"#2a3f5f\"},\"baxis\":{\"endlinecolor\":\"#2a3f5f\",\"gridcolor\":\"white\",\"linecolor\":\"white\",\"minorgridcolor\":\"white\",\"startlinecolor\":\"#2a3f5f\"},\"type\":\"carpet\"}],\"table\":[{\"cells\":{\"fill\":{\"color\":\"#EBF0F8\"},\"line\":{\"color\":\"white\"}},\"header\":{\"fill\":{\"color\":\"#C8D4E3\"},\"line\":{\"color\":\"white\"}},\"type\":\"table\"}],\"barpolar\":[{\"marker\":{\"line\":{\"color\":\"#E5ECF6\",\"width\":0.5},\"pattern\":{\"fillmode\":\"overlay\",\"size\":10,\"solidity\":0.2}},\"type\":\"barpolar\"}],\"pie\":[{\"automargin\":true,\"type\":\"pie\"}]},\"layout\":{\"autotypenumbers\":\"strict\",\"colorway\":[\"#636efa\",\"#EF553B\",\"#00cc96\",\"#ab63fa\",\"#FFA15A\",\"#19d3f3\",\"#FF6692\",\"#B6E880\",\"#FF97FF\",\"#FECB52\"],\"font\":{\"color\":\"#2a3f5f\"},\"hovermode\":\"closest\",\"hoverlabel\":{\"align\":\"left\"},\"paper_bgcolor\":\"white\",\"plot_bgcolor\":\"#E5ECF6\",\"polar\":{\"bgcolor\":\"#E5ECF6\",\"angularaxis\":{\"gridcolor\":\"white\",\"linecolor\":\"white\",\"ticks\":\"\"},\"radialaxis\":{\"gridcolor\":\"white\",\"linecolor\":\"white\",\"ticks\":\"\"}},\"ternary\":{\"bgcolor\":\"#E5ECF6\",\"aaxis\":{\"gridcolor\":\"white\",\"linecolor\":\"white\",\"ticks\":\"\"},\"baxis\":{\"gridcolor\":\"white\",\"linecolor\":\"white\",\"ticks\":\"\"},\"caxis\":{\"gridcolor\":\"white\",\"linecolor\":\"white\",\"ticks\":\"\"}},\"coloraxis\":{\"colorbar\":{\"outlinewidth\":0,\"ticks\":\"\"}},\"colorscale\":{\"sequential\":[[0.0,\"#0d0887\"],[0.1111111111111111,\"#46039f\"],[0.2222222222222222,\"#7201a8\"],[0.3333333333333333,\"#9c179e\"],[0.4444444444444444,\"#bd3786\"],[0.5555555555555556,\"#d8576b\"],[0.6666666666666666,\"#ed7953\"],[0.7777777777777778,\"#fb9f3a\"],[0.8888888888888888,\"#fdca26\"],[1.0,\"#f0f921\"]],\"sequentialminus\":[[0.0,\"#0d0887\"],[0.1111111111111111,\"#46039f\"],[0.2222222222222222,\"#7201a8\"],[0.3333333333333333,\"#9c179e\"],[0.4444444444444444,\"#bd3786\"],[0.5555555555555556,\"#d8576b\"],[0.6666666666666666,\"#ed7953\"],[0.7777777777777778,\"#fb9f3a\"],[0.8888888888888888,\"#fdca26\"],[1.0,\"#f0f921\"]],\"diverging\":[[0,\"#8e0152\"],[0.1,\"#c51b7d\"],[0.2,\"#de77ae\"],[0.3,\"#f1b6da\"],[0.4,\"#fde0ef\"],[0.5,\"#f7f7f7\"],[0.6,\"#e6f5d0\"],[0.7,\"#b8e186\"],[0.8,\"#7fbc41\"],[0.9,\"#4d9221\"],[1,\"#276419\"]]},\"xaxis\":{\"gridcolor\":\"white\",\"linecolor\":\"white\",\"ticks\":\"\",\"title\":{\"standoff\":15},\"zerolinecolor\":\"white\",\"automargin\":true,\"zerolinewidth\":2},\"yaxis\":{\"gridcolor\":\"white\",\"linecolor\":\"white\",\"ticks\":\"\",\"title\":{\"standoff\":15},\"zerolinecolor\":\"white\",\"automargin\":true,\"zerolinewidth\":2},\"scene\":{\"xaxis\":{\"backgroundcolor\":\"#E5ECF6\",\"gridcolor\":\"white\",\"linecolor\":\"white\",\"showbackground\":true,\"ticks\":\"\",\"zerolinecolor\":\"white\",\"gridwidth\":2},\"yaxis\":{\"backgroundcolor\":\"#E5ECF6\",\"gridcolor\":\"white\",\"linecolor\":\"white\",\"showbackground\":true,\"ticks\":\"\",\"zerolinecolor\":\"white\",\"gridwidth\":2},\"zaxis\":{\"backgroundcolor\":\"#E5ECF6\",\"gridcolor\":\"white\",\"linecolor\":\"white\",\"showbackground\":true,\"ticks\":\"\",\"zerolinecolor\":\"white\",\"gridwidth\":2}},\"shapedefaults\":{\"line\":{\"color\":\"#2a3f5f\"}},\"annotationdefaults\":{\"arrowcolor\":\"#2a3f5f\",\"arrowhead\":0,\"arrowwidth\":1},\"geo\":{\"bgcolor\":\"white\",\"landcolor\":\"#E5ECF6\",\"subunitcolor\":\"white\",\"showland\":true,\"showlakes\":true,\"lakecolor\":\"white\"},\"title\":{\"x\":0.05},\"mapbox\":{\"style\":\"light\"}}},\"font\":{\"family\":\"Times New Roman\"},\"plot_bgcolor\":\"rgba(0,0,0,0)\",\"paper_bgcolor\":\"rgba(0,0,0,0)\",\"width\":600,\"height\":500},                        {\"responsive\": true}                    ).then(function(){\n",
              "                            \n",
              "var gd = document.getElementById('c38833d2-2a80-4d5b-a35b-6953b0468344');\n",
              "var x = new MutationObserver(function (mutations, observer) {{\n",
              "        var display = window.getComputedStyle(gd).display;\n",
              "        if (!display || display === 'none') {{\n",
              "            console.log([gd, 'removed!']);\n",
              "            Plotly.purge(gd);\n",
              "            observer.disconnect();\n",
              "        }}\n",
              "}});\n",
              "\n",
              "// Listen for the removal of the full notebook cells\n",
              "var notebookContainer = gd.closest('#notebook-container');\n",
              "if (notebookContainer) {{\n",
              "    x.observe(notebookContainer, {childList: true});\n",
              "}}\n",
              "\n",
              "// Listen for the clearing of the current output cell\n",
              "var outputEl = gd.closest('.output');\n",
              "if (outputEl) {{\n",
              "    x.observe(outputEl, {childList: true});\n",
              "}}\n",
              "\n",
              "                        })                };                            </script>        </div>\n",
              "</body>\n",
              "</html>"
            ]
          },
          "metadata": {}
        },
        {
          "output_type": "stream",
          "name": "stdout",
          "text": [
            "----------------------------------------------------------------------\n",
            "rf\n",
            "Best hyperparameters for rf: {'n_estimators': 95, 'max_depth': 10}\n",
            "Best objective value for rf: 0.55\n"
          ]
        },
        {
          "output_type": "display_data",
          "data": {
            "text/html": [
              "<html>\n",
              "<head><meta charset=\"utf-8\" /></head>\n",
              "<body>\n",
              "    <div>            <script src=\"https://cdnjs.cloudflare.com/ajax/libs/mathjax/2.7.5/MathJax.js?config=TeX-AMS-MML_SVG\"></script><script type=\"text/javascript\">if (window.MathJax && window.MathJax.Hub && window.MathJax.Hub.Config) {window.MathJax.Hub.Config({SVG: {font: \"STIX-Web\"}});}</script>                <script type=\"text/javascript\">window.PlotlyConfig = {MathJaxConfig: 'local'};</script>\n",
              "        <script charset=\"utf-8\" src=\"https://cdn.plot.ly/plotly-2.24.1.min.js\"></script>                <div id=\"f4909d67-cc6c-4d96-91a5-30ef16f41496\" class=\"plotly-graph-div\" style=\"height:500px; width:600px;\"></div>            <script type=\"text/javascript\">                                    window.PLOTLYENV=window.PLOTLYENV || {};                                    if (document.getElementById(\"f4909d67-cc6c-4d96-91a5-30ef16f41496\")) {                    Plotly.newPlot(                        \"f4909d67-cc6c-4d96-91a5-30ef16f41496\",                        [{\"mode\":\"markers\",\"name\":\"Objective Value\",\"x\":[0,1,2,3,4,5,6,7,8,9,10,11,12,13,14,15,16,17,18,19,20,21,22,23,24,25,26,27,28,29,30,31,32,33,34,35,36,37,38,39,40,41,42,43,44,45,46,47,48,49],\"y\":[0.51,0.52,0.52,0.49,0.51,0.51,0.53,0.48,0.43,0.47,0.53,0.52,0.52,0.54,0.41,0.52,0.49,0.47,0.48,0.52,0.49,0.52,0.52,0.45,0.5,0.53,0.5,0.5,0.49,0.54,0.48,0.52,0.5,0.53,0.45,0.51,0.49,0.52,0.54,0.54,0.51,0.53,0.54,0.51,0.51,0.54,0.46,0.46,0.54,0.55],\"type\":\"scatter\",\"marker\":{\"color\":\"black\"}},{\"mode\":\"lines\",\"name\":\"Best Value\",\"x\":[0,1,2,3,4,5,6,7,8,9,10,11,12,13,14,15,16,17,18,19,20,21,22,23,24,25,26,27,28,29,30,31,32,33,34,35,36,37,38,39,40,41,42,43,44,45,46,47,48,49],\"y\":[0.51,0.52,0.52,0.52,0.52,0.52,0.53,0.53,0.53,0.53,0.53,0.53,0.53,0.54,0.54,0.54,0.54,0.54,0.54,0.54,0.54,0.54,0.54,0.54,0.54,0.54,0.54,0.54,0.54,0.54,0.54,0.54,0.54,0.54,0.54,0.54,0.54,0.54,0.54,0.54,0.54,0.54,0.54,0.54,0.54,0.54,0.54,0.54,0.54,0.55],\"type\":\"scatter\",\"marker\":{\"color\":\"black\"}},{\"marker\":{\"color\":\"black\"},\"mode\":\"markers\",\"name\":\"Infeasible Trial\",\"showlegend\":false,\"x\":[],\"y\":[],\"type\":\"scatter\"}],                        {\"title\":{\"text\":\"Optimization History\\u003cbr\\u003e\\u003csup\\u003erf\\u003c\\u002fsup\\u003e\",\"font\":{\"color\":\"black\",\"size\":20},\"x\":0},\"xaxis\":{\"title\":{\"text\":\"Trial\"}},\"yaxis\":{\"title\":{\"text\":\"Objective Value\"}},\"template\":{\"data\":{\"histogram2dcontour\":[{\"type\":\"histogram2dcontour\",\"colorbar\":{\"outlinewidth\":0,\"ticks\":\"\"},\"colorscale\":[[0.0,\"#0d0887\"],[0.1111111111111111,\"#46039f\"],[0.2222222222222222,\"#7201a8\"],[0.3333333333333333,\"#9c179e\"],[0.4444444444444444,\"#bd3786\"],[0.5555555555555556,\"#d8576b\"],[0.6666666666666666,\"#ed7953\"],[0.7777777777777778,\"#fb9f3a\"],[0.8888888888888888,\"#fdca26\"],[1.0,\"#f0f921\"]]}],\"choropleth\":[{\"type\":\"choropleth\",\"colorbar\":{\"outlinewidth\":0,\"ticks\":\"\"}}],\"histogram2d\":[{\"type\":\"histogram2d\",\"colorbar\":{\"outlinewidth\":0,\"ticks\":\"\"},\"colorscale\":[[0.0,\"#0d0887\"],[0.1111111111111111,\"#46039f\"],[0.2222222222222222,\"#7201a8\"],[0.3333333333333333,\"#9c179e\"],[0.4444444444444444,\"#bd3786\"],[0.5555555555555556,\"#d8576b\"],[0.6666666666666666,\"#ed7953\"],[0.7777777777777778,\"#fb9f3a\"],[0.8888888888888888,\"#fdca26\"],[1.0,\"#f0f921\"]]}],\"heatmap\":[{\"type\":\"heatmap\",\"colorbar\":{\"outlinewidth\":0,\"ticks\":\"\"},\"colorscale\":[[0.0,\"#0d0887\"],[0.1111111111111111,\"#46039f\"],[0.2222222222222222,\"#7201a8\"],[0.3333333333333333,\"#9c179e\"],[0.4444444444444444,\"#bd3786\"],[0.5555555555555556,\"#d8576b\"],[0.6666666666666666,\"#ed7953\"],[0.7777777777777778,\"#fb9f3a\"],[0.8888888888888888,\"#fdca26\"],[1.0,\"#f0f921\"]]}],\"heatmapgl\":[{\"type\":\"heatmapgl\",\"colorbar\":{\"outlinewidth\":0,\"ticks\":\"\"},\"colorscale\":[[0.0,\"#0d0887\"],[0.1111111111111111,\"#46039f\"],[0.2222222222222222,\"#7201a8\"],[0.3333333333333333,\"#9c179e\"],[0.4444444444444444,\"#bd3786\"],[0.5555555555555556,\"#d8576b\"],[0.6666666666666666,\"#ed7953\"],[0.7777777777777778,\"#fb9f3a\"],[0.8888888888888888,\"#fdca26\"],[1.0,\"#f0f921\"]]}],\"contourcarpet\":[{\"type\":\"contourcarpet\",\"colorbar\":{\"outlinewidth\":0,\"ticks\":\"\"}}],\"contour\":[{\"type\":\"contour\",\"colorbar\":{\"outlinewidth\":0,\"ticks\":\"\"},\"colorscale\":[[0.0,\"#0d0887\"],[0.1111111111111111,\"#46039f\"],[0.2222222222222222,\"#7201a8\"],[0.3333333333333333,\"#9c179e\"],[0.4444444444444444,\"#bd3786\"],[0.5555555555555556,\"#d8576b\"],[0.6666666666666666,\"#ed7953\"],[0.7777777777777778,\"#fb9f3a\"],[0.8888888888888888,\"#fdca26\"],[1.0,\"#f0f921\"]]}],\"surface\":[{\"type\":\"surface\",\"colorbar\":{\"outlinewidth\":0,\"ticks\":\"\"},\"colorscale\":[[0.0,\"#0d0887\"],[0.1111111111111111,\"#46039f\"],[0.2222222222222222,\"#7201a8\"],[0.3333333333333333,\"#9c179e\"],[0.4444444444444444,\"#bd3786\"],[0.5555555555555556,\"#d8576b\"],[0.6666666666666666,\"#ed7953\"],[0.7777777777777778,\"#fb9f3a\"],[0.8888888888888888,\"#fdca26\"],[1.0,\"#f0f921\"]]}],\"mesh3d\":[{\"type\":\"mesh3d\",\"colorbar\":{\"outlinewidth\":0,\"ticks\":\"\"}}],\"scatter\":[{\"fillpattern\":{\"fillmode\":\"overlay\",\"size\":10,\"solidity\":0.2},\"type\":\"scatter\"}],\"parcoords\":[{\"type\":\"parcoords\",\"line\":{\"colorbar\":{\"outlinewidth\":0,\"ticks\":\"\"}}}],\"scatterpolargl\":[{\"type\":\"scatterpolargl\",\"marker\":{\"colorbar\":{\"outlinewidth\":0,\"ticks\":\"\"}}}],\"bar\":[{\"error_x\":{\"color\":\"#2a3f5f\"},\"error_y\":{\"color\":\"#2a3f5f\"},\"marker\":{\"line\":{\"color\":\"#E5ECF6\",\"width\":0.5},\"pattern\":{\"fillmode\":\"overlay\",\"size\":10,\"solidity\":0.2}},\"type\":\"bar\"}],\"scattergeo\":[{\"type\":\"scattergeo\",\"marker\":{\"colorbar\":{\"outlinewidth\":0,\"ticks\":\"\"}}}],\"scatterpolar\":[{\"type\":\"scatterpolar\",\"marker\":{\"colorbar\":{\"outlinewidth\":0,\"ticks\":\"\"}}}],\"histogram\":[{\"marker\":{\"pattern\":{\"fillmode\":\"overlay\",\"size\":10,\"solidity\":0.2}},\"type\":\"histogram\"}],\"scattergl\":[{\"type\":\"scattergl\",\"marker\":{\"colorbar\":{\"outlinewidth\":0,\"ticks\":\"\"}}}],\"scatter3d\":[{\"type\":\"scatter3d\",\"line\":{\"colorbar\":{\"outlinewidth\":0,\"ticks\":\"\"}},\"marker\":{\"colorbar\":{\"outlinewidth\":0,\"ticks\":\"\"}}}],\"scattermapbox\":[{\"type\":\"scattermapbox\",\"marker\":{\"colorbar\":{\"outlinewidth\":0,\"ticks\":\"\"}}}],\"scatterternary\":[{\"type\":\"scatterternary\",\"marker\":{\"colorbar\":{\"outlinewidth\":0,\"ticks\":\"\"}}}],\"scattercarpet\":[{\"type\":\"scattercarpet\",\"marker\":{\"colorbar\":{\"outlinewidth\":0,\"ticks\":\"\"}}}],\"carpet\":[{\"aaxis\":{\"endlinecolor\":\"#2a3f5f\",\"gridcolor\":\"white\",\"linecolor\":\"white\",\"minorgridcolor\":\"white\",\"startlinecolor\":\"#2a3f5f\"},\"baxis\":{\"endlinecolor\":\"#2a3f5f\",\"gridcolor\":\"white\",\"linecolor\":\"white\",\"minorgridcolor\":\"white\",\"startlinecolor\":\"#2a3f5f\"},\"type\":\"carpet\"}],\"table\":[{\"cells\":{\"fill\":{\"color\":\"#EBF0F8\"},\"line\":{\"color\":\"white\"}},\"header\":{\"fill\":{\"color\":\"#C8D4E3\"},\"line\":{\"color\":\"white\"}},\"type\":\"table\"}],\"barpolar\":[{\"marker\":{\"line\":{\"color\":\"#E5ECF6\",\"width\":0.5},\"pattern\":{\"fillmode\":\"overlay\",\"size\":10,\"solidity\":0.2}},\"type\":\"barpolar\"}],\"pie\":[{\"automargin\":true,\"type\":\"pie\"}]},\"layout\":{\"autotypenumbers\":\"strict\",\"colorway\":[\"#636efa\",\"#EF553B\",\"#00cc96\",\"#ab63fa\",\"#FFA15A\",\"#19d3f3\",\"#FF6692\",\"#B6E880\",\"#FF97FF\",\"#FECB52\"],\"font\":{\"color\":\"#2a3f5f\"},\"hovermode\":\"closest\",\"hoverlabel\":{\"align\":\"left\"},\"paper_bgcolor\":\"white\",\"plot_bgcolor\":\"#E5ECF6\",\"polar\":{\"bgcolor\":\"#E5ECF6\",\"angularaxis\":{\"gridcolor\":\"white\",\"linecolor\":\"white\",\"ticks\":\"\"},\"radialaxis\":{\"gridcolor\":\"white\",\"linecolor\":\"white\",\"ticks\":\"\"}},\"ternary\":{\"bgcolor\":\"#E5ECF6\",\"aaxis\":{\"gridcolor\":\"white\",\"linecolor\":\"white\",\"ticks\":\"\"},\"baxis\":{\"gridcolor\":\"white\",\"linecolor\":\"white\",\"ticks\":\"\"},\"caxis\":{\"gridcolor\":\"white\",\"linecolor\":\"white\",\"ticks\":\"\"}},\"coloraxis\":{\"colorbar\":{\"outlinewidth\":0,\"ticks\":\"\"}},\"colorscale\":{\"sequential\":[[0.0,\"#0d0887\"],[0.1111111111111111,\"#46039f\"],[0.2222222222222222,\"#7201a8\"],[0.3333333333333333,\"#9c179e\"],[0.4444444444444444,\"#bd3786\"],[0.5555555555555556,\"#d8576b\"],[0.6666666666666666,\"#ed7953\"],[0.7777777777777778,\"#fb9f3a\"],[0.8888888888888888,\"#fdca26\"],[1.0,\"#f0f921\"]],\"sequentialminus\":[[0.0,\"#0d0887\"],[0.1111111111111111,\"#46039f\"],[0.2222222222222222,\"#7201a8\"],[0.3333333333333333,\"#9c179e\"],[0.4444444444444444,\"#bd3786\"],[0.5555555555555556,\"#d8576b\"],[0.6666666666666666,\"#ed7953\"],[0.7777777777777778,\"#fb9f3a\"],[0.8888888888888888,\"#fdca26\"],[1.0,\"#f0f921\"]],\"diverging\":[[0,\"#8e0152\"],[0.1,\"#c51b7d\"],[0.2,\"#de77ae\"],[0.3,\"#f1b6da\"],[0.4,\"#fde0ef\"],[0.5,\"#f7f7f7\"],[0.6,\"#e6f5d0\"],[0.7,\"#b8e186\"],[0.8,\"#7fbc41\"],[0.9,\"#4d9221\"],[1,\"#276419\"]]},\"xaxis\":{\"gridcolor\":\"white\",\"linecolor\":\"white\",\"ticks\":\"\",\"title\":{\"standoff\":15},\"zerolinecolor\":\"white\",\"automargin\":true,\"zerolinewidth\":2},\"yaxis\":{\"gridcolor\":\"white\",\"linecolor\":\"white\",\"ticks\":\"\",\"title\":{\"standoff\":15},\"zerolinecolor\":\"white\",\"automargin\":true,\"zerolinewidth\":2},\"scene\":{\"xaxis\":{\"backgroundcolor\":\"#E5ECF6\",\"gridcolor\":\"white\",\"linecolor\":\"white\",\"showbackground\":true,\"ticks\":\"\",\"zerolinecolor\":\"white\",\"gridwidth\":2},\"yaxis\":{\"backgroundcolor\":\"#E5ECF6\",\"gridcolor\":\"white\",\"linecolor\":\"white\",\"showbackground\":true,\"ticks\":\"\",\"zerolinecolor\":\"white\",\"gridwidth\":2},\"zaxis\":{\"backgroundcolor\":\"#E5ECF6\",\"gridcolor\":\"white\",\"linecolor\":\"white\",\"showbackground\":true,\"ticks\":\"\",\"zerolinecolor\":\"white\",\"gridwidth\":2}},\"shapedefaults\":{\"line\":{\"color\":\"#2a3f5f\"}},\"annotationdefaults\":{\"arrowcolor\":\"#2a3f5f\",\"arrowhead\":0,\"arrowwidth\":1},\"geo\":{\"bgcolor\":\"white\",\"landcolor\":\"#E5ECF6\",\"subunitcolor\":\"white\",\"showland\":true,\"showlakes\":true,\"lakecolor\":\"white\"},\"title\":{\"x\":0.05},\"mapbox\":{\"style\":\"light\"}}},\"font\":{\"family\":\"Times New Roman\"},\"plot_bgcolor\":\"rgba(0,0,0,0)\",\"paper_bgcolor\":\"rgba(0,0,0,0)\",\"width\":600,\"height\":500},                        {\"responsive\": true}                    ).then(function(){\n",
              "                            \n",
              "var gd = document.getElementById('f4909d67-cc6c-4d96-91a5-30ef16f41496');\n",
              "var x = new MutationObserver(function (mutations, observer) {{\n",
              "        var display = window.getComputedStyle(gd).display;\n",
              "        if (!display || display === 'none') {{\n",
              "            console.log([gd, 'removed!']);\n",
              "            Plotly.purge(gd);\n",
              "            observer.disconnect();\n",
              "        }}\n",
              "}});\n",
              "\n",
              "// Listen for the removal of the full notebook cells\n",
              "var notebookContainer = gd.closest('#notebook-container');\n",
              "if (notebookContainer) {{\n",
              "    x.observe(notebookContainer, {childList: true});\n",
              "}}\n",
              "\n",
              "// Listen for the clearing of the current output cell\n",
              "var outputEl = gd.closest('.output');\n",
              "if (outputEl) {{\n",
              "    x.observe(outputEl, {childList: true});\n",
              "}}\n",
              "\n",
              "                        })                };                            </script>        </div>\n",
              "</body>\n",
              "</html>"
            ]
          },
          "metadata": {}
        },
        {
          "output_type": "display_data",
          "data": {
            "text/html": [
              "<html>\n",
              "<head><meta charset=\"utf-8\" /></head>\n",
              "<body>\n",
              "    <div>            <script src=\"https://cdnjs.cloudflare.com/ajax/libs/mathjax/2.7.5/MathJax.js?config=TeX-AMS-MML_SVG\"></script><script type=\"text/javascript\">if (window.MathJax && window.MathJax.Hub && window.MathJax.Hub.Config) {window.MathJax.Hub.Config({SVG: {font: \"STIX-Web\"}});}</script>                <script type=\"text/javascript\">window.PlotlyConfig = {MathJaxConfig: 'local'};</script>\n",
              "        <script charset=\"utf-8\" src=\"https://cdn.plot.ly/plotly-2.24.1.min.js\"></script>                <div id=\"595ca7d6-5d7f-49d1-b248-283589c3d506\" class=\"plotly-graph-div\" style=\"height:500px; width:600px;\"></div>            <script type=\"text/javascript\">                                    window.PLOTLYENV=window.PLOTLYENV || {};                                    if (document.getElementById(\"595ca7d6-5d7f-49d1-b248-283589c3d506\")) {                    Plotly.newPlot(                        \"595ca7d6-5d7f-49d1-b248-283589c3d506\",                        [{\"cliponaxis\":false,\"hovertemplate\":[\"n_estimators (IntDistribution): 0.07731662092393066\\u003cextra\\u003e\\u003c\\u002fextra\\u003e\",\"max_depth (IntDistribution): 0.9226833790760693\\u003cextra\\u003e\\u003c\\u002fextra\\u003e\"],\"name\":\"Objective Value\",\"orientation\":\"h\",\"text\":[\"0.08\",\"0.92\"],\"textposition\":\"outside\",\"x\":[0.07731662092393066,0.9226833790760693],\"y\":[\"n_estimators\",\"max_depth\"],\"type\":\"bar\",\"marker\":{\"color\":\"black\"}}],                        {\"title\":{\"text\":\"Hyperparameters Importance\\u003cbr\\u003e\\u003csup\\u003erf\\u003c\\u002fsup\\u003e\",\"font\":{\"color\":\"black\",\"size\":20},\"x\":0},\"xaxis\":{\"title\":{\"text\":\"Hyperparameter Importance\"}},\"yaxis\":{\"title\":{\"text\":\"Hyperparameter\"}},\"template\":{\"data\":{\"histogram2dcontour\":[{\"type\":\"histogram2dcontour\",\"colorbar\":{\"outlinewidth\":0,\"ticks\":\"\"},\"colorscale\":[[0.0,\"#0d0887\"],[0.1111111111111111,\"#46039f\"],[0.2222222222222222,\"#7201a8\"],[0.3333333333333333,\"#9c179e\"],[0.4444444444444444,\"#bd3786\"],[0.5555555555555556,\"#d8576b\"],[0.6666666666666666,\"#ed7953\"],[0.7777777777777778,\"#fb9f3a\"],[0.8888888888888888,\"#fdca26\"],[1.0,\"#f0f921\"]]}],\"choropleth\":[{\"type\":\"choropleth\",\"colorbar\":{\"outlinewidth\":0,\"ticks\":\"\"}}],\"histogram2d\":[{\"type\":\"histogram2d\",\"colorbar\":{\"outlinewidth\":0,\"ticks\":\"\"},\"colorscale\":[[0.0,\"#0d0887\"],[0.1111111111111111,\"#46039f\"],[0.2222222222222222,\"#7201a8\"],[0.3333333333333333,\"#9c179e\"],[0.4444444444444444,\"#bd3786\"],[0.5555555555555556,\"#d8576b\"],[0.6666666666666666,\"#ed7953\"],[0.7777777777777778,\"#fb9f3a\"],[0.8888888888888888,\"#fdca26\"],[1.0,\"#f0f921\"]]}],\"heatmap\":[{\"type\":\"heatmap\",\"colorbar\":{\"outlinewidth\":0,\"ticks\":\"\"},\"colorscale\":[[0.0,\"#0d0887\"],[0.1111111111111111,\"#46039f\"],[0.2222222222222222,\"#7201a8\"],[0.3333333333333333,\"#9c179e\"],[0.4444444444444444,\"#bd3786\"],[0.5555555555555556,\"#d8576b\"],[0.6666666666666666,\"#ed7953\"],[0.7777777777777778,\"#fb9f3a\"],[0.8888888888888888,\"#fdca26\"],[1.0,\"#f0f921\"]]}],\"heatmapgl\":[{\"type\":\"heatmapgl\",\"colorbar\":{\"outlinewidth\":0,\"ticks\":\"\"},\"colorscale\":[[0.0,\"#0d0887\"],[0.1111111111111111,\"#46039f\"],[0.2222222222222222,\"#7201a8\"],[0.3333333333333333,\"#9c179e\"],[0.4444444444444444,\"#bd3786\"],[0.5555555555555556,\"#d8576b\"],[0.6666666666666666,\"#ed7953\"],[0.7777777777777778,\"#fb9f3a\"],[0.8888888888888888,\"#fdca26\"],[1.0,\"#f0f921\"]]}],\"contourcarpet\":[{\"type\":\"contourcarpet\",\"colorbar\":{\"outlinewidth\":0,\"ticks\":\"\"}}],\"contour\":[{\"type\":\"contour\",\"colorbar\":{\"outlinewidth\":0,\"ticks\":\"\"},\"colorscale\":[[0.0,\"#0d0887\"],[0.1111111111111111,\"#46039f\"],[0.2222222222222222,\"#7201a8\"],[0.3333333333333333,\"#9c179e\"],[0.4444444444444444,\"#bd3786\"],[0.5555555555555556,\"#d8576b\"],[0.6666666666666666,\"#ed7953\"],[0.7777777777777778,\"#fb9f3a\"],[0.8888888888888888,\"#fdca26\"],[1.0,\"#f0f921\"]]}],\"surface\":[{\"type\":\"surface\",\"colorbar\":{\"outlinewidth\":0,\"ticks\":\"\"},\"colorscale\":[[0.0,\"#0d0887\"],[0.1111111111111111,\"#46039f\"],[0.2222222222222222,\"#7201a8\"],[0.3333333333333333,\"#9c179e\"],[0.4444444444444444,\"#bd3786\"],[0.5555555555555556,\"#d8576b\"],[0.6666666666666666,\"#ed7953\"],[0.7777777777777778,\"#fb9f3a\"],[0.8888888888888888,\"#fdca26\"],[1.0,\"#f0f921\"]]}],\"mesh3d\":[{\"type\":\"mesh3d\",\"colorbar\":{\"outlinewidth\":0,\"ticks\":\"\"}}],\"scatter\":[{\"fillpattern\":{\"fillmode\":\"overlay\",\"size\":10,\"solidity\":0.2},\"type\":\"scatter\"}],\"parcoords\":[{\"type\":\"parcoords\",\"line\":{\"colorbar\":{\"outlinewidth\":0,\"ticks\":\"\"}}}],\"scatterpolargl\":[{\"type\":\"scatterpolargl\",\"marker\":{\"colorbar\":{\"outlinewidth\":0,\"ticks\":\"\"}}}],\"bar\":[{\"error_x\":{\"color\":\"#2a3f5f\"},\"error_y\":{\"color\":\"#2a3f5f\"},\"marker\":{\"line\":{\"color\":\"#E5ECF6\",\"width\":0.5},\"pattern\":{\"fillmode\":\"overlay\",\"size\":10,\"solidity\":0.2}},\"type\":\"bar\"}],\"scattergeo\":[{\"type\":\"scattergeo\",\"marker\":{\"colorbar\":{\"outlinewidth\":0,\"ticks\":\"\"}}}],\"scatterpolar\":[{\"type\":\"scatterpolar\",\"marker\":{\"colorbar\":{\"outlinewidth\":0,\"ticks\":\"\"}}}],\"histogram\":[{\"marker\":{\"pattern\":{\"fillmode\":\"overlay\",\"size\":10,\"solidity\":0.2}},\"type\":\"histogram\"}],\"scattergl\":[{\"type\":\"scattergl\",\"marker\":{\"colorbar\":{\"outlinewidth\":0,\"ticks\":\"\"}}}],\"scatter3d\":[{\"type\":\"scatter3d\",\"line\":{\"colorbar\":{\"outlinewidth\":0,\"ticks\":\"\"}},\"marker\":{\"colorbar\":{\"outlinewidth\":0,\"ticks\":\"\"}}}],\"scattermapbox\":[{\"type\":\"scattermapbox\",\"marker\":{\"colorbar\":{\"outlinewidth\":0,\"ticks\":\"\"}}}],\"scatterternary\":[{\"type\":\"scatterternary\",\"marker\":{\"colorbar\":{\"outlinewidth\":0,\"ticks\":\"\"}}}],\"scattercarpet\":[{\"type\":\"scattercarpet\",\"marker\":{\"colorbar\":{\"outlinewidth\":0,\"ticks\":\"\"}}}],\"carpet\":[{\"aaxis\":{\"endlinecolor\":\"#2a3f5f\",\"gridcolor\":\"white\",\"linecolor\":\"white\",\"minorgridcolor\":\"white\",\"startlinecolor\":\"#2a3f5f\"},\"baxis\":{\"endlinecolor\":\"#2a3f5f\",\"gridcolor\":\"white\",\"linecolor\":\"white\",\"minorgridcolor\":\"white\",\"startlinecolor\":\"#2a3f5f\"},\"type\":\"carpet\"}],\"table\":[{\"cells\":{\"fill\":{\"color\":\"#EBF0F8\"},\"line\":{\"color\":\"white\"}},\"header\":{\"fill\":{\"color\":\"#C8D4E3\"},\"line\":{\"color\":\"white\"}},\"type\":\"table\"}],\"barpolar\":[{\"marker\":{\"line\":{\"color\":\"#E5ECF6\",\"width\":0.5},\"pattern\":{\"fillmode\":\"overlay\",\"size\":10,\"solidity\":0.2}},\"type\":\"barpolar\"}],\"pie\":[{\"automargin\":true,\"type\":\"pie\"}]},\"layout\":{\"autotypenumbers\":\"strict\",\"colorway\":[\"#636efa\",\"#EF553B\",\"#00cc96\",\"#ab63fa\",\"#FFA15A\",\"#19d3f3\",\"#FF6692\",\"#B6E880\",\"#FF97FF\",\"#FECB52\"],\"font\":{\"color\":\"#2a3f5f\"},\"hovermode\":\"closest\",\"hoverlabel\":{\"align\":\"left\"},\"paper_bgcolor\":\"white\",\"plot_bgcolor\":\"#E5ECF6\",\"polar\":{\"bgcolor\":\"#E5ECF6\",\"angularaxis\":{\"gridcolor\":\"white\",\"linecolor\":\"white\",\"ticks\":\"\"},\"radialaxis\":{\"gridcolor\":\"white\",\"linecolor\":\"white\",\"ticks\":\"\"}},\"ternary\":{\"bgcolor\":\"#E5ECF6\",\"aaxis\":{\"gridcolor\":\"white\",\"linecolor\":\"white\",\"ticks\":\"\"},\"baxis\":{\"gridcolor\":\"white\",\"linecolor\":\"white\",\"ticks\":\"\"},\"caxis\":{\"gridcolor\":\"white\",\"linecolor\":\"white\",\"ticks\":\"\"}},\"coloraxis\":{\"colorbar\":{\"outlinewidth\":0,\"ticks\":\"\"}},\"colorscale\":{\"sequential\":[[0.0,\"#0d0887\"],[0.1111111111111111,\"#46039f\"],[0.2222222222222222,\"#7201a8\"],[0.3333333333333333,\"#9c179e\"],[0.4444444444444444,\"#bd3786\"],[0.5555555555555556,\"#d8576b\"],[0.6666666666666666,\"#ed7953\"],[0.7777777777777778,\"#fb9f3a\"],[0.8888888888888888,\"#fdca26\"],[1.0,\"#f0f921\"]],\"sequentialminus\":[[0.0,\"#0d0887\"],[0.1111111111111111,\"#46039f\"],[0.2222222222222222,\"#7201a8\"],[0.3333333333333333,\"#9c179e\"],[0.4444444444444444,\"#bd3786\"],[0.5555555555555556,\"#d8576b\"],[0.6666666666666666,\"#ed7953\"],[0.7777777777777778,\"#fb9f3a\"],[0.8888888888888888,\"#fdca26\"],[1.0,\"#f0f921\"]],\"diverging\":[[0,\"#8e0152\"],[0.1,\"#c51b7d\"],[0.2,\"#de77ae\"],[0.3,\"#f1b6da\"],[0.4,\"#fde0ef\"],[0.5,\"#f7f7f7\"],[0.6,\"#e6f5d0\"],[0.7,\"#b8e186\"],[0.8,\"#7fbc41\"],[0.9,\"#4d9221\"],[1,\"#276419\"]]},\"xaxis\":{\"gridcolor\":\"white\",\"linecolor\":\"white\",\"ticks\":\"\",\"title\":{\"standoff\":15},\"zerolinecolor\":\"white\",\"automargin\":true,\"zerolinewidth\":2},\"yaxis\":{\"gridcolor\":\"white\",\"linecolor\":\"white\",\"ticks\":\"\",\"title\":{\"standoff\":15},\"zerolinecolor\":\"white\",\"automargin\":true,\"zerolinewidth\":2},\"scene\":{\"xaxis\":{\"backgroundcolor\":\"#E5ECF6\",\"gridcolor\":\"white\",\"linecolor\":\"white\",\"showbackground\":true,\"ticks\":\"\",\"zerolinecolor\":\"white\",\"gridwidth\":2},\"yaxis\":{\"backgroundcolor\":\"#E5ECF6\",\"gridcolor\":\"white\",\"linecolor\":\"white\",\"showbackground\":true,\"ticks\":\"\",\"zerolinecolor\":\"white\",\"gridwidth\":2},\"zaxis\":{\"backgroundcolor\":\"#E5ECF6\",\"gridcolor\":\"white\",\"linecolor\":\"white\",\"showbackground\":true,\"ticks\":\"\",\"zerolinecolor\":\"white\",\"gridwidth\":2}},\"shapedefaults\":{\"line\":{\"color\":\"#2a3f5f\"}},\"annotationdefaults\":{\"arrowcolor\":\"#2a3f5f\",\"arrowhead\":0,\"arrowwidth\":1},\"geo\":{\"bgcolor\":\"white\",\"landcolor\":\"#E5ECF6\",\"subunitcolor\":\"white\",\"showland\":true,\"showlakes\":true,\"lakecolor\":\"white\"},\"title\":{\"x\":0.05},\"mapbox\":{\"style\":\"light\"}}},\"font\":{\"family\":\"Times New Roman\"},\"plot_bgcolor\":\"rgba(0,0,0,0)\",\"paper_bgcolor\":\"rgba(0,0,0,0)\",\"width\":600,\"height\":500},                        {\"responsive\": true}                    ).then(function(){\n",
              "                            \n",
              "var gd = document.getElementById('595ca7d6-5d7f-49d1-b248-283589c3d506');\n",
              "var x = new MutationObserver(function (mutations, observer) {{\n",
              "        var display = window.getComputedStyle(gd).display;\n",
              "        if (!display || display === 'none') {{\n",
              "            console.log([gd, 'removed!']);\n",
              "            Plotly.purge(gd);\n",
              "            observer.disconnect();\n",
              "        }}\n",
              "}});\n",
              "\n",
              "// Listen for the removal of the full notebook cells\n",
              "var notebookContainer = gd.closest('#notebook-container');\n",
              "if (notebookContainer) {{\n",
              "    x.observe(notebookContainer, {childList: true});\n",
              "}}\n",
              "\n",
              "// Listen for the clearing of the current output cell\n",
              "var outputEl = gd.closest('.output');\n",
              "if (outputEl) {{\n",
              "    x.observe(outputEl, {childList: true});\n",
              "}}\n",
              "\n",
              "                        })                };                            </script>        </div>\n",
              "</body>\n",
              "</html>"
            ]
          },
          "metadata": {}
        },
        {
          "output_type": "stream",
          "name": "stdout",
          "text": [
            "----------------------------------------------------------------------\n",
            "CPU times: user 3min 27s, sys: 23.1 s, total: 3min 50s\n",
            "Wall time: 3min 43s\n"
          ]
        }
      ],
      "source": [
        "%%time\n",
        "model_lst = ['lr','xgb','rf']\n",
        "best_models = []\n",
        "problem = 'multiclass'\n",
        "model_dir = _SUPERVISED_FINETUNING\n",
        "for model in model_lst:\n",
        "  print(model)\n",
        "  sub_best = supervised_fintune(model,problem,model_dir,X_train[keep_feas],y_train,X_valid[keep_feas],y_valid,sample_weights)\n",
        "  best_models.append(sub_best)\n",
        "  print('-'*70)"
      ]
    },
    {
      "cell_type": "code",
      "source": [
        "####### running mlp again here! #########"
      ],
      "metadata": {
        "id": "LS3vrrkqr33d"
      },
      "execution_count": null,
      "outputs": []
    },
    {
      "cell_type": "code",
      "execution_count": null,
      "metadata": {
        "id": "tx6KH5_P4WBW",
        "colab": {
          "base_uri": "https://localhost:8080/",
          "height": 1000
        },
        "outputId": "074bd088-c4ea-4feb-d3e7-dc681eac07e8"
      },
      "outputs": [
        {
          "output_type": "display_data",
          "data": {
            "text/plain": [
              "LogisticRegression(C=0.021200306273404457, class_weight='balanced',\n",
              "                   max_iter=500, random_state=42)"
            ],
            "text/html": [
              "<style>#sk-container-id-1 {color: black;background-color: white;}#sk-container-id-1 pre{padding: 0;}#sk-container-id-1 div.sk-toggleable {background-color: white;}#sk-container-id-1 label.sk-toggleable__label {cursor: pointer;display: block;width: 100%;margin-bottom: 0;padding: 0.3em;box-sizing: border-box;text-align: center;}#sk-container-id-1 label.sk-toggleable__label-arrow:before {content: \"▸\";float: left;margin-right: 0.25em;color: #696969;}#sk-container-id-1 label.sk-toggleable__label-arrow:hover:before {color: black;}#sk-container-id-1 div.sk-estimator:hover label.sk-toggleable__label-arrow:before {color: black;}#sk-container-id-1 div.sk-toggleable__content {max-height: 0;max-width: 0;overflow: hidden;text-align: left;background-color: #f0f8ff;}#sk-container-id-1 div.sk-toggleable__content pre {margin: 0.2em;color: black;border-radius: 0.25em;background-color: #f0f8ff;}#sk-container-id-1 input.sk-toggleable__control:checked~div.sk-toggleable__content {max-height: 200px;max-width: 100%;overflow: auto;}#sk-container-id-1 input.sk-toggleable__control:checked~label.sk-toggleable__label-arrow:before {content: \"▾\";}#sk-container-id-1 div.sk-estimator input.sk-toggleable__control:checked~label.sk-toggleable__label {background-color: #d4ebff;}#sk-container-id-1 div.sk-label input.sk-toggleable__control:checked~label.sk-toggleable__label {background-color: #d4ebff;}#sk-container-id-1 input.sk-hidden--visually {border: 0;clip: rect(1px 1px 1px 1px);clip: rect(1px, 1px, 1px, 1px);height: 1px;margin: -1px;overflow: hidden;padding: 0;position: absolute;width: 1px;}#sk-container-id-1 div.sk-estimator {font-family: monospace;background-color: #f0f8ff;border: 1px dotted black;border-radius: 0.25em;box-sizing: border-box;margin-bottom: 0.5em;}#sk-container-id-1 div.sk-estimator:hover {background-color: #d4ebff;}#sk-container-id-1 div.sk-parallel-item::after {content: \"\";width: 100%;border-bottom: 1px solid gray;flex-grow: 1;}#sk-container-id-1 div.sk-label:hover label.sk-toggleable__label {background-color: #d4ebff;}#sk-container-id-1 div.sk-serial::before {content: \"\";position: absolute;border-left: 1px solid gray;box-sizing: border-box;top: 0;bottom: 0;left: 50%;z-index: 0;}#sk-container-id-1 div.sk-serial {display: flex;flex-direction: column;align-items: center;background-color: white;padding-right: 0.2em;padding-left: 0.2em;position: relative;}#sk-container-id-1 div.sk-item {position: relative;z-index: 1;}#sk-container-id-1 div.sk-parallel {display: flex;align-items: stretch;justify-content: center;background-color: white;position: relative;}#sk-container-id-1 div.sk-item::before, #sk-container-id-1 div.sk-parallel-item::before {content: \"\";position: absolute;border-left: 1px solid gray;box-sizing: border-box;top: 0;bottom: 0;left: 50%;z-index: -1;}#sk-container-id-1 div.sk-parallel-item {display: flex;flex-direction: column;z-index: 1;position: relative;background-color: white;}#sk-container-id-1 div.sk-parallel-item:first-child::after {align-self: flex-end;width: 50%;}#sk-container-id-1 div.sk-parallel-item:last-child::after {align-self: flex-start;width: 50%;}#sk-container-id-1 div.sk-parallel-item:only-child::after {width: 0;}#sk-container-id-1 div.sk-dashed-wrapped {border: 1px dashed gray;margin: 0 0.4em 0.5em 0.4em;box-sizing: border-box;padding-bottom: 0.4em;background-color: white;}#sk-container-id-1 div.sk-label label {font-family: monospace;font-weight: bold;display: inline-block;line-height: 1.2em;}#sk-container-id-1 div.sk-label-container {text-align: center;}#sk-container-id-1 div.sk-container {/* jupyter's `normalize.less` sets `[hidden] { display: none; }` but bootstrap.min.css set `[hidden] { display: none !important; }` so we also need the `!important` here to be able to override the default hidden behavior on the sphinx rendered scikit-learn.org. See: https://github.com/scikit-learn/scikit-learn/issues/21755 */display: inline-block !important;position: relative;}#sk-container-id-1 div.sk-text-repr-fallback {display: none;}</style><div id=\"sk-container-id-1\" class=\"sk-top-container\"><div class=\"sk-text-repr-fallback\"><pre>LogisticRegression(C=0.021200306273404457, class_weight=&#x27;balanced&#x27;,\n",
              "                   max_iter=500, random_state=42)</pre><b>In a Jupyter environment, please rerun this cell to show the HTML representation or trust the notebook. <br />On GitHub, the HTML representation is unable to render, please try loading this page with nbviewer.org.</b></div><div class=\"sk-container\" hidden><div class=\"sk-item\"><div class=\"sk-estimator sk-toggleable\"><input class=\"sk-toggleable__control sk-hidden--visually\" id=\"sk-estimator-id-1\" type=\"checkbox\" checked><label for=\"sk-estimator-id-1\" class=\"sk-toggleable__label sk-toggleable__label-arrow\">LogisticRegression</label><div class=\"sk-toggleable__content\"><pre>LogisticRegression(C=0.021200306273404457, class_weight=&#x27;balanced&#x27;,\n",
              "                   max_iter=500, random_state=42)</pre></div></div></div></div></div>"
            ]
          },
          "metadata": {}
        },
        {
          "output_type": "stream",
          "name": "stdout",
          "text": [
            "              precision    recall  f1-score   support\n",
            "\n",
            "         0.0       0.47      0.30      0.37       243\n",
            "         1.0       0.30      0.44      0.36       112\n",
            "         2.0       0.34      0.52      0.41       118\n",
            "         3.0       0.35      0.19      0.24       107\n",
            "         4.0       0.23      0.08      0.12        95\n",
            "         5.0       0.23      0.54      0.32        26\n",
            "         6.0       0.06      0.19      0.10        26\n",
            "\n",
            "    accuracy                           0.32       727\n",
            "   macro avg       0.28      0.32      0.27       727\n",
            "weighted avg       0.35      0.32      0.31       727\n",
            "\n"
          ]
        },
        {
          "output_type": "display_data",
          "data": {
            "text/plain": [
              "XGBClassifier(base_score=None, booster=None, callbacks=None,\n",
              "              colsample_bylevel=None, colsample_bynode=None,\n",
              "              colsample_bytree=None, device=None, early_stopping_rounds=None,\n",
              "              enable_categorical=False, eval_metric=None, feature_types=None,\n",
              "              gamma=None, grow_policy=None, importance_type=None,\n",
              "              interaction_constraints=None, learning_rate=0.05035977903294764,\n",
              "              max_bin=None, max_cat_threshold=None, max_cat_to_onehot=None,\n",
              "              max_delta_step=None, max_depth=6, max_leaves=None,\n",
              "              min_child_weight=None, missing=nan, monotone_constraints=None,\n",
              "              multi_strategy=None, n_estimators=180, n_jobs=None,\n",
              "              num_parallel_tree=None, objective='multi:softprob', ...)"
            ],
            "text/html": [
              "<style>#sk-container-id-2 {color: black;background-color: white;}#sk-container-id-2 pre{padding: 0;}#sk-container-id-2 div.sk-toggleable {background-color: white;}#sk-container-id-2 label.sk-toggleable__label {cursor: pointer;display: block;width: 100%;margin-bottom: 0;padding: 0.3em;box-sizing: border-box;text-align: center;}#sk-container-id-2 label.sk-toggleable__label-arrow:before {content: \"▸\";float: left;margin-right: 0.25em;color: #696969;}#sk-container-id-2 label.sk-toggleable__label-arrow:hover:before {color: black;}#sk-container-id-2 div.sk-estimator:hover label.sk-toggleable__label-arrow:before {color: black;}#sk-container-id-2 div.sk-toggleable__content {max-height: 0;max-width: 0;overflow: hidden;text-align: left;background-color: #f0f8ff;}#sk-container-id-2 div.sk-toggleable__content pre {margin: 0.2em;color: black;border-radius: 0.25em;background-color: #f0f8ff;}#sk-container-id-2 input.sk-toggleable__control:checked~div.sk-toggleable__content {max-height: 200px;max-width: 100%;overflow: auto;}#sk-container-id-2 input.sk-toggleable__control:checked~label.sk-toggleable__label-arrow:before {content: \"▾\";}#sk-container-id-2 div.sk-estimator input.sk-toggleable__control:checked~label.sk-toggleable__label {background-color: #d4ebff;}#sk-container-id-2 div.sk-label input.sk-toggleable__control:checked~label.sk-toggleable__label {background-color: #d4ebff;}#sk-container-id-2 input.sk-hidden--visually {border: 0;clip: rect(1px 1px 1px 1px);clip: rect(1px, 1px, 1px, 1px);height: 1px;margin: -1px;overflow: hidden;padding: 0;position: absolute;width: 1px;}#sk-container-id-2 div.sk-estimator {font-family: monospace;background-color: #f0f8ff;border: 1px dotted black;border-radius: 0.25em;box-sizing: border-box;margin-bottom: 0.5em;}#sk-container-id-2 div.sk-estimator:hover {background-color: #d4ebff;}#sk-container-id-2 div.sk-parallel-item::after {content: \"\";width: 100%;border-bottom: 1px solid gray;flex-grow: 1;}#sk-container-id-2 div.sk-label:hover label.sk-toggleable__label {background-color: #d4ebff;}#sk-container-id-2 div.sk-serial::before {content: \"\";position: absolute;border-left: 1px solid gray;box-sizing: border-box;top: 0;bottom: 0;left: 50%;z-index: 0;}#sk-container-id-2 div.sk-serial {display: flex;flex-direction: column;align-items: center;background-color: white;padding-right: 0.2em;padding-left: 0.2em;position: relative;}#sk-container-id-2 div.sk-item {position: relative;z-index: 1;}#sk-container-id-2 div.sk-parallel {display: flex;align-items: stretch;justify-content: center;background-color: white;position: relative;}#sk-container-id-2 div.sk-item::before, #sk-container-id-2 div.sk-parallel-item::before {content: \"\";position: absolute;border-left: 1px solid gray;box-sizing: border-box;top: 0;bottom: 0;left: 50%;z-index: -1;}#sk-container-id-2 div.sk-parallel-item {display: flex;flex-direction: column;z-index: 1;position: relative;background-color: white;}#sk-container-id-2 div.sk-parallel-item:first-child::after {align-self: flex-end;width: 50%;}#sk-container-id-2 div.sk-parallel-item:last-child::after {align-self: flex-start;width: 50%;}#sk-container-id-2 div.sk-parallel-item:only-child::after {width: 0;}#sk-container-id-2 div.sk-dashed-wrapped {border: 1px dashed gray;margin: 0 0.4em 0.5em 0.4em;box-sizing: border-box;padding-bottom: 0.4em;background-color: white;}#sk-container-id-2 div.sk-label label {font-family: monospace;font-weight: bold;display: inline-block;line-height: 1.2em;}#sk-container-id-2 div.sk-label-container {text-align: center;}#sk-container-id-2 div.sk-container {/* jupyter's `normalize.less` sets `[hidden] { display: none; }` but bootstrap.min.css set `[hidden] { display: none !important; }` so we also need the `!important` here to be able to override the default hidden behavior on the sphinx rendered scikit-learn.org. See: https://github.com/scikit-learn/scikit-learn/issues/21755 */display: inline-block !important;position: relative;}#sk-container-id-2 div.sk-text-repr-fallback {display: none;}</style><div id=\"sk-container-id-2\" class=\"sk-top-container\"><div class=\"sk-text-repr-fallback\"><pre>XGBClassifier(base_score=None, booster=None, callbacks=None,\n",
              "              colsample_bylevel=None, colsample_bynode=None,\n",
              "              colsample_bytree=None, device=None, early_stopping_rounds=None,\n",
              "              enable_categorical=False, eval_metric=None, feature_types=None,\n",
              "              gamma=None, grow_policy=None, importance_type=None,\n",
              "              interaction_constraints=None, learning_rate=0.05035977903294764,\n",
              "              max_bin=None, max_cat_threshold=None, max_cat_to_onehot=None,\n",
              "              max_delta_step=None, max_depth=6, max_leaves=None,\n",
              "              min_child_weight=None, missing=nan, monotone_constraints=None,\n",
              "              multi_strategy=None, n_estimators=180, n_jobs=None,\n",
              "              num_parallel_tree=None, objective=&#x27;multi:softprob&#x27;, ...)</pre><b>In a Jupyter environment, please rerun this cell to show the HTML representation or trust the notebook. <br />On GitHub, the HTML representation is unable to render, please try loading this page with nbviewer.org.</b></div><div class=\"sk-container\" hidden><div class=\"sk-item\"><div class=\"sk-estimator sk-toggleable\"><input class=\"sk-toggleable__control sk-hidden--visually\" id=\"sk-estimator-id-2\" type=\"checkbox\" checked><label for=\"sk-estimator-id-2\" class=\"sk-toggleable__label sk-toggleable__label-arrow\">XGBClassifier</label><div class=\"sk-toggleable__content\"><pre>XGBClassifier(base_score=None, booster=None, callbacks=None,\n",
              "              colsample_bylevel=None, colsample_bynode=None,\n",
              "              colsample_bytree=None, device=None, early_stopping_rounds=None,\n",
              "              enable_categorical=False, eval_metric=None, feature_types=None,\n",
              "              gamma=None, grow_policy=None, importance_type=None,\n",
              "              interaction_constraints=None, learning_rate=0.05035977903294764,\n",
              "              max_bin=None, max_cat_threshold=None, max_cat_to_onehot=None,\n",
              "              max_delta_step=None, max_depth=6, max_leaves=None,\n",
              "              min_child_weight=None, missing=nan, monotone_constraints=None,\n",
              "              multi_strategy=None, n_estimators=180, n_jobs=None,\n",
              "              num_parallel_tree=None, objective=&#x27;multi:softprob&#x27;, ...)</pre></div></div></div></div></div>"
            ]
          },
          "metadata": {}
        },
        {
          "output_type": "stream",
          "name": "stdout",
          "text": [
            "              precision    recall  f1-score   support\n",
            "\n",
            "         0.0       0.74      0.94      0.83       243\n",
            "         1.0       0.54      0.78      0.64       112\n",
            "         2.0       0.80      0.35      0.49       118\n",
            "         3.0       0.55      0.54      0.54       107\n",
            "         4.0       0.78      0.66      0.72        95\n",
            "         5.0       0.86      0.46      0.60        26\n",
            "         6.0       0.33      0.08      0.12        26\n",
            "\n",
            "    accuracy                           0.68       727\n",
            "   macro avg       0.66      0.54      0.56       727\n",
            "weighted avg       0.69      0.68      0.65       727\n",
            "\n"
          ]
        },
        {
          "output_type": "display_data",
          "data": {
            "text/plain": [
              "RandomForestClassifier(class_weight='balanced', max_depth=10, n_estimators=95,\n",
              "                       random_state=42)"
            ],
            "text/html": [
              "<style>#sk-container-id-3 {color: black;background-color: white;}#sk-container-id-3 pre{padding: 0;}#sk-container-id-3 div.sk-toggleable {background-color: white;}#sk-container-id-3 label.sk-toggleable__label {cursor: pointer;display: block;width: 100%;margin-bottom: 0;padding: 0.3em;box-sizing: border-box;text-align: center;}#sk-container-id-3 label.sk-toggleable__label-arrow:before {content: \"▸\";float: left;margin-right: 0.25em;color: #696969;}#sk-container-id-3 label.sk-toggleable__label-arrow:hover:before {color: black;}#sk-container-id-3 div.sk-estimator:hover label.sk-toggleable__label-arrow:before {color: black;}#sk-container-id-3 div.sk-toggleable__content {max-height: 0;max-width: 0;overflow: hidden;text-align: left;background-color: #f0f8ff;}#sk-container-id-3 div.sk-toggleable__content pre {margin: 0.2em;color: black;border-radius: 0.25em;background-color: #f0f8ff;}#sk-container-id-3 input.sk-toggleable__control:checked~div.sk-toggleable__content {max-height: 200px;max-width: 100%;overflow: auto;}#sk-container-id-3 input.sk-toggleable__control:checked~label.sk-toggleable__label-arrow:before {content: \"▾\";}#sk-container-id-3 div.sk-estimator input.sk-toggleable__control:checked~label.sk-toggleable__label {background-color: #d4ebff;}#sk-container-id-3 div.sk-label input.sk-toggleable__control:checked~label.sk-toggleable__label {background-color: #d4ebff;}#sk-container-id-3 input.sk-hidden--visually {border: 0;clip: rect(1px 1px 1px 1px);clip: rect(1px, 1px, 1px, 1px);height: 1px;margin: -1px;overflow: hidden;padding: 0;position: absolute;width: 1px;}#sk-container-id-3 div.sk-estimator {font-family: monospace;background-color: #f0f8ff;border: 1px dotted black;border-radius: 0.25em;box-sizing: border-box;margin-bottom: 0.5em;}#sk-container-id-3 div.sk-estimator:hover {background-color: #d4ebff;}#sk-container-id-3 div.sk-parallel-item::after {content: \"\";width: 100%;border-bottom: 1px solid gray;flex-grow: 1;}#sk-container-id-3 div.sk-label:hover label.sk-toggleable__label {background-color: #d4ebff;}#sk-container-id-3 div.sk-serial::before {content: \"\";position: absolute;border-left: 1px solid gray;box-sizing: border-box;top: 0;bottom: 0;left: 50%;z-index: 0;}#sk-container-id-3 div.sk-serial {display: flex;flex-direction: column;align-items: center;background-color: white;padding-right: 0.2em;padding-left: 0.2em;position: relative;}#sk-container-id-3 div.sk-item {position: relative;z-index: 1;}#sk-container-id-3 div.sk-parallel {display: flex;align-items: stretch;justify-content: center;background-color: white;position: relative;}#sk-container-id-3 div.sk-item::before, #sk-container-id-3 div.sk-parallel-item::before {content: \"\";position: absolute;border-left: 1px solid gray;box-sizing: border-box;top: 0;bottom: 0;left: 50%;z-index: -1;}#sk-container-id-3 div.sk-parallel-item {display: flex;flex-direction: column;z-index: 1;position: relative;background-color: white;}#sk-container-id-3 div.sk-parallel-item:first-child::after {align-self: flex-end;width: 50%;}#sk-container-id-3 div.sk-parallel-item:last-child::after {align-self: flex-start;width: 50%;}#sk-container-id-3 div.sk-parallel-item:only-child::after {width: 0;}#sk-container-id-3 div.sk-dashed-wrapped {border: 1px dashed gray;margin: 0 0.4em 0.5em 0.4em;box-sizing: border-box;padding-bottom: 0.4em;background-color: white;}#sk-container-id-3 div.sk-label label {font-family: monospace;font-weight: bold;display: inline-block;line-height: 1.2em;}#sk-container-id-3 div.sk-label-container {text-align: center;}#sk-container-id-3 div.sk-container {/* jupyter's `normalize.less` sets `[hidden] { display: none; }` but bootstrap.min.css set `[hidden] { display: none !important; }` so we also need the `!important` here to be able to override the default hidden behavior on the sphinx rendered scikit-learn.org. See: https://github.com/scikit-learn/scikit-learn/issues/21755 */display: inline-block !important;position: relative;}#sk-container-id-3 div.sk-text-repr-fallback {display: none;}</style><div id=\"sk-container-id-3\" class=\"sk-top-container\"><div class=\"sk-text-repr-fallback\"><pre>RandomForestClassifier(class_weight=&#x27;balanced&#x27;, max_depth=10, n_estimators=95,\n",
              "                       random_state=42)</pre><b>In a Jupyter environment, please rerun this cell to show the HTML representation or trust the notebook. <br />On GitHub, the HTML representation is unable to render, please try loading this page with nbviewer.org.</b></div><div class=\"sk-container\" hidden><div class=\"sk-item\"><div class=\"sk-estimator sk-toggleable\"><input class=\"sk-toggleable__control sk-hidden--visually\" id=\"sk-estimator-id-3\" type=\"checkbox\" checked><label for=\"sk-estimator-id-3\" class=\"sk-toggleable__label sk-toggleable__label-arrow\">RandomForestClassifier</label><div class=\"sk-toggleable__content\"><pre>RandomForestClassifier(class_weight=&#x27;balanced&#x27;, max_depth=10, n_estimators=95,\n",
              "                       random_state=42)</pre></div></div></div></div></div>"
            ]
          },
          "metadata": {}
        },
        {
          "output_type": "stream",
          "name": "stdout",
          "text": [
            "              precision    recall  f1-score   support\n",
            "\n",
            "         0.0       0.75      0.80      0.78       243\n",
            "         1.0       0.61      0.54      0.58       112\n",
            "         2.0       0.62      0.64      0.63       118\n",
            "         3.0       0.46      0.66      0.55       107\n",
            "         4.0       0.72      0.54      0.61        95\n",
            "         5.0       0.62      0.31      0.41        26\n",
            "         6.0       0.50      0.19      0.28        26\n",
            "\n",
            "    accuracy                           0.64       727\n",
            "   macro avg       0.61      0.53      0.55       727\n",
            "weighted avg       0.65      0.64      0.64       727\n",
            "\n"
          ]
        },
        {
          "output_type": "display_data",
          "data": {
            "text/plain": [
              "       Acc  F1 Macro\n",
              "lr   32.24      0.27\n",
              "xgb  54.43      0.56\n",
              "rf   52.62      0.55"
            ],
            "text/html": [
              "\n",
              "  <div id=\"df-ef30999b-9667-449e-b175-59494c60a085\" class=\"colab-df-container\">\n",
              "    <div>\n",
              "<style scoped>\n",
              "    .dataframe tbody tr th:only-of-type {\n",
              "        vertical-align: middle;\n",
              "    }\n",
              "\n",
              "    .dataframe tbody tr th {\n",
              "        vertical-align: top;\n",
              "    }\n",
              "\n",
              "    .dataframe thead th {\n",
              "        text-align: right;\n",
              "    }\n",
              "</style>\n",
              "<table border=\"1\" class=\"dataframe\">\n",
              "  <thead>\n",
              "    <tr style=\"text-align: right;\">\n",
              "      <th></th>\n",
              "      <th>Acc</th>\n",
              "      <th>F1 Macro</th>\n",
              "    </tr>\n",
              "  </thead>\n",
              "  <tbody>\n",
              "    <tr>\n",
              "      <th>lr</th>\n",
              "      <td>32.24</td>\n",
              "      <td>0.27</td>\n",
              "    </tr>\n",
              "    <tr>\n",
              "      <th>xgb</th>\n",
              "      <td>54.43</td>\n",
              "      <td>0.56</td>\n",
              "    </tr>\n",
              "    <tr>\n",
              "      <th>rf</th>\n",
              "      <td>52.62</td>\n",
              "      <td>0.55</td>\n",
              "    </tr>\n",
              "  </tbody>\n",
              "</table>\n",
              "</div>\n",
              "    <div class=\"colab-df-buttons\">\n",
              "\n",
              "  <div class=\"colab-df-container\">\n",
              "    <button class=\"colab-df-convert\" onclick=\"convertToInteractive('df-ef30999b-9667-449e-b175-59494c60a085')\"\n",
              "            title=\"Convert this dataframe to an interactive table.\"\n",
              "            style=\"display:none;\">\n",
              "\n",
              "  <svg xmlns=\"http://www.w3.org/2000/svg\" height=\"24px\" viewBox=\"0 -960 960 960\">\n",
              "    <path d=\"M120-120v-720h720v720H120Zm60-500h600v-160H180v160Zm220 220h160v-160H400v160Zm0 220h160v-160H400v160ZM180-400h160v-160H180v160Zm440 0h160v-160H620v160ZM180-180h160v-160H180v160Zm440 0h160v-160H620v160Z\"/>\n",
              "  </svg>\n",
              "    </button>\n",
              "\n",
              "  <style>\n",
              "    .colab-df-container {\n",
              "      display:flex;\n",
              "      gap: 12px;\n",
              "    }\n",
              "\n",
              "    .colab-df-convert {\n",
              "      background-color: #E8F0FE;\n",
              "      border: none;\n",
              "      border-radius: 50%;\n",
              "      cursor: pointer;\n",
              "      display: none;\n",
              "      fill: #1967D2;\n",
              "      height: 32px;\n",
              "      padding: 0 0 0 0;\n",
              "      width: 32px;\n",
              "    }\n",
              "\n",
              "    .colab-df-convert:hover {\n",
              "      background-color: #E2EBFA;\n",
              "      box-shadow: 0px 1px 2px rgba(60, 64, 67, 0.3), 0px 1px 3px 1px rgba(60, 64, 67, 0.15);\n",
              "      fill: #174EA6;\n",
              "    }\n",
              "\n",
              "    .colab-df-buttons div {\n",
              "      margin-bottom: 4px;\n",
              "    }\n",
              "\n",
              "    [theme=dark] .colab-df-convert {\n",
              "      background-color: #3B4455;\n",
              "      fill: #D2E3FC;\n",
              "    }\n",
              "\n",
              "    [theme=dark] .colab-df-convert:hover {\n",
              "      background-color: #434B5C;\n",
              "      box-shadow: 0px 1px 3px 1px rgba(0, 0, 0, 0.15);\n",
              "      filter: drop-shadow(0px 1px 2px rgba(0, 0, 0, 0.3));\n",
              "      fill: #FFFFFF;\n",
              "    }\n",
              "  </style>\n",
              "\n",
              "    <script>\n",
              "      const buttonEl =\n",
              "        document.querySelector('#df-ef30999b-9667-449e-b175-59494c60a085 button.colab-df-convert');\n",
              "      buttonEl.style.display =\n",
              "        google.colab.kernel.accessAllowed ? 'block' : 'none';\n",
              "\n",
              "      async function convertToInteractive(key) {\n",
              "        const element = document.querySelector('#df-ef30999b-9667-449e-b175-59494c60a085');\n",
              "        const dataTable =\n",
              "          await google.colab.kernel.invokeFunction('convertToInteractive',\n",
              "                                                    [key], {});\n",
              "        if (!dataTable) return;\n",
              "\n",
              "        const docLinkHtml = 'Like what you see? Visit the ' +\n",
              "          '<a target=\"_blank\" href=https://colab.research.google.com/notebooks/data_table.ipynb>data table notebook</a>'\n",
              "          + ' to learn more about interactive tables.';\n",
              "        element.innerHTML = '';\n",
              "        dataTable['output_type'] = 'display_data';\n",
              "        await google.colab.output.renderOutput(dataTable, element);\n",
              "        const docLink = document.createElement('div');\n",
              "        docLink.innerHTML = docLinkHtml;\n",
              "        element.appendChild(docLink);\n",
              "      }\n",
              "    </script>\n",
              "  </div>\n",
              "\n",
              "\n",
              "<div id=\"df-3fdec78d-a7bf-4fcd-87b8-08d8ee3812b1\">\n",
              "  <button class=\"colab-df-quickchart\" onclick=\"quickchart('df-3fdec78d-a7bf-4fcd-87b8-08d8ee3812b1')\"\n",
              "            title=\"Suggest charts\"\n",
              "            style=\"display:none;\">\n",
              "\n",
              "<svg xmlns=\"http://www.w3.org/2000/svg\" height=\"24px\"viewBox=\"0 0 24 24\"\n",
              "     width=\"24px\">\n",
              "    <g>\n",
              "        <path d=\"M19 3H5c-1.1 0-2 .9-2 2v14c0 1.1.9 2 2 2h14c1.1 0 2-.9 2-2V5c0-1.1-.9-2-2-2zM9 17H7v-7h2v7zm4 0h-2V7h2v10zm4 0h-2v-4h2v4z\"/>\n",
              "    </g>\n",
              "</svg>\n",
              "  </button>\n",
              "\n",
              "<style>\n",
              "  .colab-df-quickchart {\n",
              "      --bg-color: #E8F0FE;\n",
              "      --fill-color: #1967D2;\n",
              "      --hover-bg-color: #E2EBFA;\n",
              "      --hover-fill-color: #174EA6;\n",
              "      --disabled-fill-color: #AAA;\n",
              "      --disabled-bg-color: #DDD;\n",
              "  }\n",
              "\n",
              "  [theme=dark] .colab-df-quickchart {\n",
              "      --bg-color: #3B4455;\n",
              "      --fill-color: #D2E3FC;\n",
              "      --hover-bg-color: #434B5C;\n",
              "      --hover-fill-color: #FFFFFF;\n",
              "      --disabled-bg-color: #3B4455;\n",
              "      --disabled-fill-color: #666;\n",
              "  }\n",
              "\n",
              "  .colab-df-quickchart {\n",
              "    background-color: var(--bg-color);\n",
              "    border: none;\n",
              "    border-radius: 50%;\n",
              "    cursor: pointer;\n",
              "    display: none;\n",
              "    fill: var(--fill-color);\n",
              "    height: 32px;\n",
              "    padding: 0;\n",
              "    width: 32px;\n",
              "  }\n",
              "\n",
              "  .colab-df-quickchart:hover {\n",
              "    background-color: var(--hover-bg-color);\n",
              "    box-shadow: 0 1px 2px rgba(60, 64, 67, 0.3), 0 1px 3px 1px rgba(60, 64, 67, 0.15);\n",
              "    fill: var(--button-hover-fill-color);\n",
              "  }\n",
              "\n",
              "  .colab-df-quickchart-complete:disabled,\n",
              "  .colab-df-quickchart-complete:disabled:hover {\n",
              "    background-color: var(--disabled-bg-color);\n",
              "    fill: var(--disabled-fill-color);\n",
              "    box-shadow: none;\n",
              "  }\n",
              "\n",
              "  .colab-df-spinner {\n",
              "    border: 2px solid var(--fill-color);\n",
              "    border-color: transparent;\n",
              "    border-bottom-color: var(--fill-color);\n",
              "    animation:\n",
              "      spin 1s steps(1) infinite;\n",
              "  }\n",
              "\n",
              "  @keyframes spin {\n",
              "    0% {\n",
              "      border-color: transparent;\n",
              "      border-bottom-color: var(--fill-color);\n",
              "      border-left-color: var(--fill-color);\n",
              "    }\n",
              "    20% {\n",
              "      border-color: transparent;\n",
              "      border-left-color: var(--fill-color);\n",
              "      border-top-color: var(--fill-color);\n",
              "    }\n",
              "    30% {\n",
              "      border-color: transparent;\n",
              "      border-left-color: var(--fill-color);\n",
              "      border-top-color: var(--fill-color);\n",
              "      border-right-color: var(--fill-color);\n",
              "    }\n",
              "    40% {\n",
              "      border-color: transparent;\n",
              "      border-right-color: var(--fill-color);\n",
              "      border-top-color: var(--fill-color);\n",
              "    }\n",
              "    60% {\n",
              "      border-color: transparent;\n",
              "      border-right-color: var(--fill-color);\n",
              "    }\n",
              "    80% {\n",
              "      border-color: transparent;\n",
              "      border-right-color: var(--fill-color);\n",
              "      border-bottom-color: var(--fill-color);\n",
              "    }\n",
              "    90% {\n",
              "      border-color: transparent;\n",
              "      border-bottom-color: var(--fill-color);\n",
              "    }\n",
              "  }\n",
              "</style>\n",
              "\n",
              "  <script>\n",
              "    async function quickchart(key) {\n",
              "      const quickchartButtonEl =\n",
              "        document.querySelector('#' + key + ' button');\n",
              "      quickchartButtonEl.disabled = true;  // To prevent multiple clicks.\n",
              "      quickchartButtonEl.classList.add('colab-df-spinner');\n",
              "      try {\n",
              "        const charts = await google.colab.kernel.invokeFunction(\n",
              "            'suggestCharts', [key], {});\n",
              "      } catch (error) {\n",
              "        console.error('Error during call to suggestCharts:', error);\n",
              "      }\n",
              "      quickchartButtonEl.classList.remove('colab-df-spinner');\n",
              "      quickchartButtonEl.classList.add('colab-df-quickchart-complete');\n",
              "    }\n",
              "    (() => {\n",
              "      let quickchartButtonEl =\n",
              "        document.querySelector('#df-3fdec78d-a7bf-4fcd-87b8-08d8ee3812b1 button');\n",
              "      quickchartButtonEl.style.display =\n",
              "        google.colab.kernel.accessAllowed ? 'block' : 'none';\n",
              "    })();\n",
              "  </script>\n",
              "</div>\n",
              "    </div>\n",
              "  </div>\n"
            ]
          },
          "metadata": {}
        }
      ],
      "source": [
        "Supervised_Best = RunBestSupervised(best_models,X_train,X_test,keep_feas,y_train,y_test)\n",
        "Supervised_Best.index=model_lst\n",
        "display(Supervised_Best)\n",
        "Supervised_Best.to_csv('/content/drive/MyDrive/ThesisFinal/experiment3/results/fine_tuning/supervised_best.csv')"
      ]
    },
    {
      "cell_type": "markdown",
      "metadata": {
        "id": "JdJqnSpI9Bu4"
      },
      "source": [
        "# Generative Models"
      ]
    },
    {
      "cell_type": "markdown",
      "metadata": {
        "id": "qtPqr4Pk9Die"
      },
      "source": [
        "## SMOTE"
      ]
    },
    {
      "cell_type": "code",
      "execution_count": null,
      "metadata": {
        "id": "HUANXuVt37qf"
      },
      "outputs": [],
      "source": [
        "data_dir = _GEN_SMOTE_DIR"
      ]
    },
    {
      "cell_type": "code",
      "execution_count": null,
      "metadata": {
        "id": "kcIsDJW4-WG6",
        "colab": {
          "base_uri": "https://localhost:8080/"
        },
        "outputId": "b2c85f16-4234-4e37-afe3-151bb2d4a824"
      },
      "outputs": [
        {
          "output_type": "stream",
          "name": "stdout",
          "text": [
            "{'k_neighbors': 2, 'sampling_strategy': 'not minority'}\n",
            "CPU times: user 14min 16s, sys: 5.83 s, total: 14min 22s\n",
            "Wall time: 14min 34s\n"
          ]
        }
      ],
      "source": [
        "# %%time\n",
        "# smote_tuner = SMOTETuner(X_train[keep_feas], y_train)\n",
        "# # Resample the dataset using SMOTE and Optuna\n",
        "# best_params = smote_tuner.tune()\n",
        "\n",
        "# # Print the resampled class distribution and the best parameters\n"
      ]
    },
    {
      "cell_type": "code",
      "source": [
        "best_params={'k_neighbors': 2, 'sampling_strategy': 'not minority'}"
      ],
      "metadata": {
        "id": "0P5YG53b5FlH"
      },
      "execution_count": null,
      "outputs": []
    },
    {
      "cell_type": "code",
      "source": [
        "import pickle\n",
        "\n",
        "params_path=\"/content/drive/MyDrive/ThesisFinal/experiment3/shs\"\n",
        "params_file=os.path.join(params_path,\"params.pkl\")\n",
        "os.makedirs(params_path,exist_ok=True)\n",
        "\n",
        "\n",
        "# ############# save my params #############\n",
        "# with open(params_file,\"wb\") as file:\n",
        "#   pickle.dump(best_params,file)\n",
        "# ############################################\n",
        "\n",
        "\n",
        "############# load ur params ###############\n",
        "with open(params_file,\"rb\") as file:\n",
        "  best_params=pickle.load(file)\n",
        "################################################\n",
        "print(best_params)"
      ],
      "metadata": {
        "colab": {
          "base_uri": "https://localhost:8080/"
        },
        "id": "BYwzPX43kwil",
        "outputId": "e6dd4ad7-d7b1-4c43-d105-2dab62b556d3"
      },
      "execution_count": null,
      "outputs": [
        {
          "output_type": "stream",
          "name": "stdout",
          "text": [
            "{'k_neighbors': 2, 'sampling_strategy': 'not minority'}\n"
          ]
        }
      ]
    },
    {
      "cell_type": "code",
      "source": [
        "best_params.values()"
      ],
      "metadata": {
        "colab": {
          "base_uri": "https://localhost:8080/"
        },
        "id": "MMCxdQen7Uoj",
        "outputId": "6bd89878-6468-48c1-9bec-8b639bfa6ee1"
      },
      "execution_count": null,
      "outputs": [
        {
          "output_type": "execute_result",
          "data": {
            "text/plain": [
              "dict_values([2, 'not minority'])"
            ]
          },
          "metadata": {},
          "execution_count": 54
        }
      ]
    },
    {
      "cell_type": "markdown",
      "metadata": {
        "id": "bueQD70DMR6T"
      },
      "source": [
        "### Not miniority"
      ]
    },
    {
      "cell_type": "code",
      "execution_count": null,
      "metadata": {
        "id": "IRPkaZBt_QN0"
      },
      "outputs": [],
      "source": [
        "data_dir =data_dir\n",
        "dataset = 'exp3'\n",
        "x_train = X_train[keep_feas]\n",
        "y_train = y_train\n",
        "x_train_res, y_train_res = Smote(*best_params.values(),data_dir,dataset,x_train,y_train)"
      ]
    },
    {
      "cell_type": "code",
      "execution_count": null,
      "metadata": {
        "id": "p7Wn9Zf-_lVa"
      },
      "outputs": [],
      "source": [
        "Smote_X_train = pd.concat([x_train,x_train_res])\n",
        "Smote_y_train = pd.concat([y_train,y_train_res])"
      ]
    },
    {
      "cell_type": "code",
      "execution_count": null,
      "metadata": {
        "id": "8QCGAE1dCnHL",
        "colab": {
          "base_uri": "https://localhost:8080/",
          "height": 517
        },
        "outputId": "46dc2e9a-190e-4a8e-9025-02fd0f931ae3"
      },
      "outputs": [
        {
          "output_type": "display_data",
          "data": {
            "text/html": [
              "<html>\n",
              "<head><meta charset=\"utf-8\" /></head>\n",
              "<body>\n",
              "    <div>            <script src=\"https://cdnjs.cloudflare.com/ajax/libs/mathjax/2.7.5/MathJax.js?config=TeX-AMS-MML_SVG\"></script><script type=\"text/javascript\">if (window.MathJax && window.MathJax.Hub && window.MathJax.Hub.Config) {window.MathJax.Hub.Config({SVG: {font: \"STIX-Web\"}});}</script>                <script type=\"text/javascript\">window.PlotlyConfig = {MathJaxConfig: 'local'};</script>\n",
              "        <script charset=\"utf-8\" src=\"https://cdn.plot.ly/plotly-2.24.1.min.js\"></script>                <div id=\"c34f07f1-7b0c-464b-8d9f-2801eb961f57\" class=\"plotly-graph-div\" style=\"height:500px; width:600px;\"></div>            <script type=\"text/javascript\">                                    window.PLOTLYENV=window.PLOTLYENV || {};                                    if (document.getElementById(\"c34f07f1-7b0c-464b-8d9f-2801eb961f57\")) {                    Plotly.newPlot(                        \"c34f07f1-7b0c-464b-8d9f-2801eb961f57\",                        [{\"alignmentgroup\":\"True\",\"bingroup\":\"x\",\"hovertemplate\":\"industry=%{x}\\u003cbr\\u003ecount=%{y}\\u003cextra\\u003e\\u003c\\u002fextra\\u003e\",\"legendgroup\":\"\",\"marker\":{\"color\":\"black\",\"pattern\":{\"shape\":\"\"}},\"name\":\"\",\"offsetgroup\":\"\",\"orientation\":\"v\",\"showlegend\":false,\"texttemplate\":\"%{value}\",\"x\":[2.0,4.0,4.0,5.0,2.0,0.0,3.0,3.0,4.0,1.0,1.0,0.0,5.0,4.0,3.0,1.0,1.0,4.0,4.0,0.0,3.0,3.0,0.0,0.0,1.0,4.0,3.0,0.0,0.0,0.0,0.0,5.0,2.0,0.0,0.0,4.0,0.0,6.0,1.0,4.0,0.0,2.0,1.0,0.0,0.0,1.0,0.0,2.0,0.0,4.0,0.0,3.0,4.0,0.0,3.0,0.0,4.0,1.0,5.0,6.0,3.0,5.0,1.0,5.0,2.0,1.0,2.0,6.0,3.0,3.0,0.0,0.0,1.0,0.0,1.0,3.0,5.0,0.0,5.0,6.0,1.0,1.0,0.0,0.0,1.0,1.0,3.0,1.0,1.0,0.0,5.0,2.0,3.0,2.0,4.0,4.0,3.0,4.0,1.0,0.0,3.0,1.0,0.0,0.0,6.0,0.0,5.0,0.0,0.0,0.0,4.0,1.0,2.0,2.0,3.0,3.0,2.0,4.0,4.0,6.0,1.0,4.0,0.0,4.0,2.0,2.0,0.0,0.0,4.0,4.0,0.0,1.0,0.0,3.0,3.0,0.0,1.0,0.0,0.0,6.0,3.0,0.0,1.0,6.0,2.0,0.0,1.0,1.0,1.0,0.0,0.0,3.0,0.0,3.0,0.0,1.0,4.0,1.0,3.0,4.0,2.0,0.0,1.0,5.0,4.0,0.0,0.0,0.0,6.0,0.0,2.0,3.0,4.0,1.0,2.0,1.0,0.0,1.0,0.0,4.0,1.0,0.0,3.0,4.0,3.0,1.0,2.0,0.0,5.0,0.0,3.0,1.0,3.0,3.0,4.0,0.0,3.0,4.0,0.0,1.0,4.0,0.0,0.0,4.0,2.0,0.0,0.0,1.0,0.0,2.0,3.0,2.0,1.0,4.0,0.0,3.0,4.0,1.0,0.0,0.0,2.0,0.0,1.0,4.0,3.0,0.0,0.0,2.0,4.0,0.0,1.0,4.0,0.0,4.0,4.0,3.0,4.0,4.0,2.0,1.0,0.0,0.0,2.0,5.0,0.0,4.0,5.0,1.0,0.0,3.0,4.0,1.0,4.0,0.0,2.0,3.0,0.0,2.0,6.0,0.0,3.0,0.0,0.0,4.0,0.0,4.0,1.0,3.0,3.0,5.0,6.0,4.0,0.0,0.0,3.0,1.0,3.0,1.0,4.0,0.0,1.0,4.0,1.0,3.0,2.0,5.0,0.0,0.0,0.0,0.0,3.0,2.0,0.0,2.0,1.0,2.0,3.0,2.0,0.0,3.0,1.0,3.0,4.0,4.0,1.0,0.0,4.0,4.0,0.0,4.0,3.0,2.0,0.0,3.0,2.0,0.0,1.0,3.0,1.0,1.0,1.0,0.0,3.0,5.0,2.0,0.0,0.0,2.0,3.0,0.0,0.0,3.0,1.0,4.0,3.0,0.0,3.0,1.0,2.0,1.0,3.0,1.0,3.0,2.0,2.0,0.0,2.0,1.0,1.0,1.0,0.0,0.0,0.0,0.0,1.0,2.0,1.0,4.0,2.0,6.0,2.0,0.0,0.0,3.0,5.0,2.0,4.0,0.0,4.0,4.0,1.0,5.0,4.0,3.0,0.0,3.0,0.0,0.0,0.0,1.0,4.0,2.0,2.0,0.0,0.0,5.0,2.0,0.0,1.0,2.0,3.0,2.0,2.0,2.0,3.0,1.0,2.0,0.0,0.0,5.0,2.0,4.0,1.0,4.0,1.0,0.0,2.0,2.0,4.0,4.0,1.0,0.0,2.0,1.0,0.0,2.0,4.0,0.0,6.0,0.0,0.0,0.0,2.0,3.0,5.0,0.0,0.0,1.0,3.0,0.0,2.0,2.0,4.0,0.0,2.0,5.0,4.0,2.0,0.0,2.0,0.0,4.0,0.0,2.0,6.0,6.0,0.0,0.0,0.0,4.0,6.0,0.0,5.0,1.0,1.0,0.0,5.0,3.0,4.0,1.0,0.0,0.0,1.0,2.0,2.0,2.0,3.0,2.0,0.0,4.0,2.0,4.0,3.0,0.0,2.0,4.0,1.0,2.0,0.0,0.0,1.0,0.0,6.0,0.0,0.0,1.0,1.0,2.0,0.0,1.0,1.0,0.0,0.0,1.0,3.0,2.0,2.0,4.0,0.0,3.0,0.0,0.0,0.0,1.0,4.0,0.0,0.0,0.0,5.0,2.0,6.0,6.0,2.0,0.0,0.0,0.0,0.0,1.0,1.0,1.0,3.0,0.0,4.0,3.0,0.0,0.0,2.0,3.0,1.0,5.0,3.0,0.0,3.0,1.0,2.0,0.0,0.0,0.0,0.0,3.0,0.0,0.0,1.0,3.0,6.0,4.0,1.0,0.0,3.0,4.0,0.0,1.0,6.0,4.0,0.0,6.0,0.0,3.0,2.0,0.0,0.0,0.0,1.0,1.0,2.0,3.0,0.0,1.0,3.0,4.0,3.0,3.0,4.0,4.0,0.0,5.0,0.0,1.0,1.0,3.0,0.0,6.0,0.0,0.0,0.0,6.0,2.0,3.0,1.0,0.0,3.0,0.0,4.0,3.0,0.0,3.0,4.0,4.0,1.0,4.0,4.0,3.0,3.0,4.0,0.0,1.0,4.0,0.0,4.0,0.0,2.0,0.0,4.0,0.0,0.0,4.0,3.0,2.0,5.0,0.0,0.0,1.0,1.0,6.0,0.0,0.0,6.0,4.0,0.0,1.0,1.0,3.0,4.0,0.0,1.0,0.0,3.0,0.0,0.0,2.0,0.0,4.0,0.0,4.0,2.0,1.0,0.0,2.0,3.0,0.0,1.0,4.0,5.0,3.0,1.0,3.0,2.0,3.0,1.0,5.0,2.0,3.0,4.0,6.0,0.0,1.0,5.0,4.0,2.0,3.0,0.0,0.0,0.0,4.0,2.0,2.0,0.0,1.0,4.0,3.0,1.0,0.0,1.0,2.0,0.0,2.0,2.0,2.0,6.0,1.0,0.0,0.0,0.0,1.0,1.0,4.0,4.0,0.0,3.0,0.0,1.0,0.0,1.0,5.0,0.0,3.0,0.0,3.0,3.0,0.0,3.0,0.0,1.0,0.0,4.0,2.0,1.0,3.0,0.0,2.0,4.0,0.0,4.0,3.0,2.0,5.0,6.0,0.0,4.0,0.0,0.0,1.0,0.0,3.0,1.0,3.0,3.0,1.0,1.0,2.0,1.0,2.0,1.0,0.0,0.0,3.0,0.0,0.0,0.0,0.0,4.0,5.0,0.0,0.0,6.0,0.0,2.0,4.0,1.0,0.0,3.0,3.0,0.0,0.0,0.0,0.0,3.0,0.0,5.0,1.0,0.0,2.0,4.0,2.0,3.0,0.0,3.0,3.0,4.0,4.0,3.0,0.0,4.0,3.0,0.0,0.0,2.0,0.0,4.0,2.0,4.0,2.0,2.0,6.0,3.0,0.0,0.0,0.0,0.0,2.0,2.0,2.0,0.0,3.0,1.0,0.0,2.0,6.0,3.0,5.0,0.0,3.0,2.0,1.0,3.0,2.0,0.0,0.0,3.0,4.0,0.0,3.0,0.0,1.0,1.0,2.0,6.0,5.0,5.0,2.0,1.0,0.0,5.0,0.0,0.0,4.0,3.0,0.0,1.0,3.0,0.0,2.0,1.0,4.0,3.0,2.0,4.0,2.0,3.0,2.0,2.0,1.0,6.0,4.0,2.0,4.0,2.0,3.0,1.0,3.0,3.0,4.0,2.0,3.0,1.0,4.0,0.0,0.0,2.0,2.0,4.0,4.0,4.0,4.0,4.0,4.0,3.0,2.0,0.0,0.0,0.0,1.0,0.0,4.0,4.0,5.0,2.0,4.0,2.0,0.0,6.0,4.0,5.0,3.0,1.0,0.0,3.0,3.0,0.0,2.0,2.0,3.0,3.0,2.0,2.0,0.0,6.0,5.0,0.0,2.0,4.0,1.0,3.0,1.0,1.0,0.0,2.0,3.0,4.0,0.0,4.0,1.0,4.0,1.0,4.0,2.0,4.0,0.0,4.0,2.0,5.0,0.0,3.0,0.0,0.0,4.0,3.0,3.0,1.0,1.0,1.0,0.0,4.0,0.0,2.0,3.0,6.0,0.0,1.0,1.0,1.0,0.0,1.0,1.0,0.0,0.0,3.0,4.0,5.0,3.0,2.0,2.0,0.0,2.0,4.0,1.0,0.0,1.0,1.0,0.0,2.0,3.0,4.0,1.0,5.0,0.0,0.0,4.0,1.0,1.0,1.0,0.0,4.0,4.0,0.0,1.0,0.0,3.0,4.0,1.0,4.0,0.0,2.0,0.0,4.0,4.0,1.0,3.0,3.0,0.0,0.0,5.0,1.0,3.0,4.0,1.0,4.0,1.0,0.0,1.0,3.0,0.0,5.0,4.0,3.0,1.0,3.0,0.0,4.0,2.0,3.0,0.0,0.0,0.0,4.0,4.0,0.0,0.0,3.0,2.0,1.0,5.0,3.0,2.0,0.0,0.0,3.0,1.0,0.0,1.0,1.0,0.0,3.0,1.0,2.0,5.0,0.0,0.0,3.0,5.0,1.0,3.0,0.0,0.0,6.0,4.0,0.0,4.0,3.0,0.0,1.0,4.0,6.0,4.0,0.0,3.0,3.0,3.0,0.0,4.0,4.0,0.0,0.0,0.0,3.0,0.0,0.0,4.0,0.0,5.0,2.0,0.0,0.0,5.0,1.0,1.0,2.0,3.0,2.0,0.0,0.0,2.0,5.0,1.0,1.0,1.0,4.0,0.0,0.0,0.0,1.0,1.0,1.0,4.0,0.0,3.0,4.0,3.0,4.0,6.0,4.0,0.0,3.0,1.0,4.0,1.0,0.0,1.0,1.0,0.0,3.0,4.0,0.0,1.0,1.0,1.0,0.0,0.0,3.0,2.0,0.0,4.0,4.0,0.0,4.0,0.0,1.0,3.0,2.0,3.0,0.0,1.0,2.0,4.0,0.0,4.0,1.0,0.0,0.0,3.0,0.0,4.0,0.0,2.0,0.0,5.0,1.0,5.0,2.0,6.0,0.0,4.0,2.0,1.0,0.0,2.0,0.0,2.0,0.0,0.0,0.0,2.0,0.0,1.0,3.0,0.0,3.0,4.0,6.0,1.0,1.0,1.0,1.0,0.0,6.0,0.0,0.0,4.0,3.0,3.0,4.0,1.0,4.0,0.0,3.0,3.0,0.0,4.0,1.0,4.0,0.0,0.0,0.0,1.0,0.0,4.0,0.0,0.0,0.0,5.0,0.0,3.0,1.0,1.0,0.0,4.0,1.0,4.0,0.0,0.0,1.0,1.0,2.0,1.0,0.0,0.0,4.0,2.0,0.0,2.0,2.0,0.0,4.0,1.0,0.0,3.0,2.0,5.0,2.0,0.0,1.0,1.0,0.0,0.0,2.0,4.0,2.0,1.0,1.0,5.0,0.0,6.0,1.0,4.0,0.0,1.0,3.0,0.0,1.0,1.0,2.0,0.0,0.0,2.0,3.0,0.0,1.0,3.0,2.0,3.0,1.0,1.0,0.0,1.0,4.0,2.0,4.0,6.0,1.0,0.0,4.0,0.0,0.0,1.0,1.0,4.0,4.0,5.0,0.0,0.0,0.0,5.0,4.0,4.0,4.0,3.0,6.0,6.0,4.0,2.0,0.0,2.0,1.0,0.0,4.0,0.0,3.0,5.0,0.0,3.0,3.0,0.0,0.0,1.0,0.0,1.0,0.0,1.0,2.0,2.0,0.0,0.0,1.0,0.0,1.0,0.0,2.0,0.0,0.0,1.0,1.0,0.0,0.0,1.0,3.0,4.0,6.0,1.0,1.0,0.0,0.0,2.0,0.0,0.0,0.0,4.0,0.0,0.0,4.0,2.0,0.0,1.0,3.0,0.0,2.0,3.0,2.0,1.0,0.0,3.0,0.0,2.0,1.0,0.0,1.0,4.0,0.0,2.0,1.0,0.0,0.0,0.0,3.0,2.0,4.0,3.0,3.0,4.0,3.0,3.0,2.0,3.0,3.0,6.0,3.0,2.0,4.0,0.0,4.0,2.0,1.0,3.0,4.0,1.0,4.0,3.0,4.0,3.0,1.0,0.0,0.0,1.0,1.0,0.0,0.0,3.0,2.0,2.0,0.0,0.0,0.0,2.0,1.0,2.0,2.0,1.0,0.0,0.0,4.0,1.0,0.0,2.0,3.0,1.0,2.0,0.0,2.0,3.0,2.0,4.0,0.0,0.0,2.0,1.0,0.0,5.0,4.0,0.0,6.0,0.0,2.0,0.0,0.0,0.0,0.0,1.0,0.0,2.0,0.0,2.0,1.0,3.0,1.0,2.0,1.0,0.0,0.0,1.0,1.0,4.0,2.0,1.0,6.0,1.0,4.0,1.0,0.0,2.0,0.0,4.0,0.0,5.0,2.0,0.0,1.0,1.0,3.0,0.0,1.0,0.0,0.0,2.0,0.0,4.0,3.0,2.0,0.0,2.0,0.0,0.0,0.0,0.0,0.0,2.0,1.0,0.0,3.0,3.0,1.0,4.0,6.0,2.0,3.0,6.0,0.0,2.0,0.0,0.0,6.0,2.0,3.0,2.0,1.0,0.0,4.0,4.0,0.0,0.0,0.0,3.0,5.0,3.0,5.0,1.0,2.0,2.0,4.0,4.0,5.0,2.0,0.0,3.0,3.0,4.0,1.0,1.0,0.0,5.0,4.0,3.0,1.0,1.0,4.0,4.0,0.0,3.0,3.0,0.0,0.0,1.0,4.0,3.0,0.0,0.0,0.0,0.0,5.0,2.0,0.0,0.0,4.0,0.0,6.0,1.0,4.0,0.0,2.0,1.0,0.0,0.0,1.0,0.0,2.0,0.0,4.0,0.0,3.0,4.0,0.0,3.0,0.0,4.0,1.0,5.0,6.0,3.0,5.0,1.0,5.0,2.0,1.0,2.0,6.0,3.0,3.0,0.0,0.0,1.0,0.0,1.0,3.0,5.0,0.0,5.0,6.0,1.0,1.0,0.0,0.0,1.0,1.0,3.0,1.0,1.0,0.0,5.0,2.0,3.0,2.0,4.0,4.0,3.0,4.0,1.0,0.0,3.0,1.0,0.0,0.0,6.0,0.0,5.0,0.0,0.0,0.0,4.0,1.0,2.0,2.0,3.0,3.0,2.0,4.0,4.0,6.0,1.0,4.0,0.0,4.0,2.0,2.0,0.0,0.0,4.0,4.0,0.0,1.0,0.0,3.0,3.0,0.0,1.0,0.0,0.0,6.0,3.0,0.0,1.0,6.0,2.0,0.0,1.0,1.0,1.0,0.0,0.0,3.0,0.0,3.0,0.0,1.0,4.0,1.0,3.0,4.0,2.0,0.0,1.0,5.0,4.0,0.0,0.0,0.0,6.0,0.0,2.0,3.0,4.0,1.0,2.0,1.0,0.0,1.0,0.0,4.0,1.0,0.0,3.0,4.0,3.0,1.0,2.0,0.0,5.0,0.0,3.0,1.0,3.0,3.0,4.0,0.0,3.0,4.0,0.0,1.0,4.0,0.0,0.0,4.0,2.0,0.0,0.0,1.0,0.0,2.0,3.0,2.0,1.0,4.0,0.0,3.0,4.0,1.0,0.0,0.0,2.0,0.0,1.0,4.0,3.0,0.0,0.0,2.0,4.0,0.0,1.0,4.0,0.0,4.0,4.0,3.0,4.0,4.0,2.0,1.0,0.0,0.0,2.0,5.0,0.0,4.0,5.0,1.0,0.0,3.0,4.0,1.0,4.0,0.0,2.0,3.0,0.0,2.0,6.0,0.0,3.0,0.0,0.0,4.0,0.0,4.0,1.0,3.0,3.0,5.0,6.0,4.0,0.0,0.0,3.0,1.0,3.0,1.0,4.0,0.0,1.0,4.0,1.0,3.0,2.0,5.0,0.0,0.0,0.0,0.0,3.0,2.0,0.0,2.0,1.0,2.0,3.0,2.0,0.0,3.0,1.0,3.0,4.0,4.0,1.0,0.0,4.0,4.0,0.0,4.0,3.0,2.0,0.0,3.0,2.0,0.0,1.0,3.0,1.0,1.0,1.0,0.0,3.0,5.0,2.0,0.0,0.0,2.0,3.0,0.0,0.0,3.0,1.0,4.0,3.0,0.0,3.0,1.0,2.0,1.0,3.0,1.0,3.0,2.0,2.0,0.0,2.0,1.0,1.0,1.0,0.0,0.0,0.0,0.0,1.0,2.0,1.0,4.0,2.0,6.0,2.0,0.0,0.0,3.0,5.0,2.0,4.0,0.0,4.0,4.0,1.0,5.0,4.0,3.0,0.0,3.0,0.0,0.0,0.0,1.0,4.0,2.0,2.0,0.0,0.0,5.0,2.0,0.0,1.0,2.0,3.0,2.0,2.0,2.0,3.0,1.0,2.0,0.0,0.0,5.0,2.0,4.0,1.0,4.0,1.0,0.0,2.0,2.0,4.0,4.0,1.0,0.0,2.0,1.0,0.0,2.0,4.0,0.0,6.0,0.0,0.0,0.0,2.0,3.0,5.0,0.0,0.0,1.0,3.0,0.0,2.0,2.0,4.0,0.0,2.0,5.0,4.0,2.0,0.0,2.0,0.0,4.0,0.0,2.0,6.0,6.0,0.0,0.0,0.0,4.0,6.0,0.0,5.0,1.0,1.0,0.0,5.0,3.0,4.0,1.0,0.0,0.0,1.0,2.0,2.0,2.0,3.0,2.0,0.0,4.0,2.0,4.0,3.0,0.0,2.0,4.0,1.0,2.0,0.0,0.0,1.0,0.0,6.0,0.0,0.0,1.0,1.0,2.0,0.0,1.0,1.0,0.0,0.0,1.0,3.0,2.0,2.0,4.0,0.0,3.0,0.0,0.0,0.0,1.0,4.0,0.0,0.0,0.0,5.0,2.0,6.0,6.0,2.0,0.0,0.0,0.0,0.0,1.0,1.0,1.0,3.0,0.0,4.0,3.0,0.0,0.0,2.0,3.0,1.0,5.0,3.0,0.0,3.0,1.0,2.0,0.0,0.0,0.0,0.0,3.0,0.0,0.0,1.0,3.0,6.0,4.0,1.0,0.0,3.0,4.0,0.0,1.0,6.0,4.0,0.0,6.0,0.0,3.0,2.0,0.0,0.0,0.0,1.0,1.0,2.0,3.0,0.0,1.0,3.0,4.0,3.0,3.0,4.0,4.0,0.0,5.0,0.0,1.0,1.0,3.0,0.0,6.0,0.0,0.0,0.0,6.0,2.0,3.0,1.0,0.0,3.0,0.0,4.0,3.0,0.0,3.0,4.0,4.0,1.0,4.0,4.0,3.0,3.0,4.0,0.0,1.0,4.0,0.0,4.0,0.0,2.0,0.0,4.0,0.0,0.0,4.0,3.0,2.0,5.0,0.0,0.0,1.0,1.0,6.0,0.0,0.0,6.0,4.0,0.0,1.0,1.0,3.0,4.0,0.0,1.0,0.0,3.0,0.0,0.0,2.0,0.0,4.0,0.0,4.0,2.0,1.0,0.0,2.0,3.0,0.0,1.0,4.0,5.0,3.0,1.0,3.0,2.0,3.0,1.0,5.0,2.0,3.0,4.0,6.0,0.0,1.0,5.0,4.0,2.0,3.0,0.0,0.0,0.0,4.0,2.0,2.0,0.0,1.0,4.0,3.0,1.0,0.0,1.0,2.0,0.0,2.0,2.0,2.0,6.0,1.0,0.0,0.0,0.0,1.0,1.0,4.0,4.0,0.0,3.0,0.0,1.0,0.0,1.0,5.0,0.0,3.0,0.0,3.0,3.0,0.0,3.0,0.0,1.0,0.0,4.0,2.0,1.0,3.0,0.0,2.0,4.0,0.0,4.0,3.0,2.0,5.0,6.0,0.0,4.0,0.0,0.0,1.0,0.0,3.0,1.0,3.0,3.0,1.0,1.0,2.0,1.0,2.0,1.0,0.0,0.0,3.0,0.0,0.0,0.0,0.0,4.0,5.0,0.0,0.0,6.0,0.0,2.0,4.0,1.0,0.0,3.0,3.0,0.0,0.0,0.0,0.0,3.0,0.0,5.0,1.0,0.0,2.0,4.0,2.0,3.0,0.0,3.0,3.0,4.0,4.0,3.0,0.0,4.0,3.0,0.0,0.0,2.0,0.0,4.0,2.0,4.0,2.0,2.0,6.0,3.0,0.0,0.0,0.0,0.0,2.0,2.0,2.0,0.0,3.0,1.0,0.0,2.0,6.0,3.0,5.0,0.0,3.0,2.0,1.0,3.0,2.0,0.0,0.0,3.0,4.0,0.0,3.0,0.0,1.0,1.0,2.0,6.0,5.0,5.0,2.0,1.0,0.0,5.0,0.0,0.0,4.0,3.0,0.0,1.0,3.0,0.0,2.0,1.0,4.0,3.0,2.0,4.0,2.0,3.0,2.0,2.0,1.0,6.0,4.0,2.0,4.0,2.0,3.0,1.0,3.0,3.0,4.0,2.0,3.0,1.0,4.0,0.0,0.0,2.0,2.0,4.0,4.0,4.0,4.0,4.0,4.0,3.0,2.0,0.0,0.0,0.0,1.0,0.0,4.0,4.0,5.0,2.0,4.0,2.0,0.0,6.0,4.0,5.0,3.0,1.0,0.0,3.0,3.0,0.0,2.0,2.0,3.0,3.0,2.0,2.0,0.0,6.0,5.0,0.0,2.0,4.0,1.0,3.0,1.0,1.0,0.0,2.0,3.0,4.0,0.0,4.0,1.0,4.0,1.0,4.0,2.0,4.0,0.0,4.0,2.0,5.0,0.0,3.0,0.0,0.0,4.0,3.0,3.0,1.0,1.0,1.0,0.0,4.0,0.0,2.0,3.0,6.0,0.0,1.0,1.0,1.0,0.0,1.0,1.0,0.0,0.0,3.0,4.0,5.0,3.0,2.0,2.0,0.0,2.0,4.0,1.0,0.0,1.0,1.0,0.0,2.0,3.0,4.0,1.0,5.0,0.0,0.0,4.0,1.0,1.0,1.0,0.0,4.0,4.0,0.0,1.0,0.0,3.0,4.0,1.0,4.0,0.0,2.0,0.0,4.0,4.0,1.0,3.0,3.0,0.0,0.0,5.0,1.0,3.0,4.0,1.0,4.0,1.0,0.0,1.0,3.0,0.0,5.0,4.0,3.0,1.0,3.0,0.0,4.0,2.0,3.0,0.0,0.0,0.0,4.0,4.0,0.0,0.0,3.0,2.0,1.0,5.0,3.0,2.0,0.0,0.0,3.0,1.0,0.0,1.0,1.0,0.0,3.0,1.0,2.0,5.0,0.0,0.0,3.0,5.0,1.0,3.0,0.0,0.0,6.0,4.0,0.0,4.0,3.0,0.0,1.0,4.0,6.0,4.0,0.0,3.0,3.0,3.0,0.0,4.0,4.0,0.0,0.0,0.0,3.0,0.0,0.0,4.0,0.0,5.0,2.0,0.0,0.0,5.0,1.0,1.0,2.0,3.0,2.0,0.0,0.0,2.0,5.0,1.0,1.0,1.0,4.0,0.0,0.0,0.0,1.0,1.0,1.0,4.0,0.0,3.0,4.0,3.0,4.0,6.0,4.0,0.0,3.0,1.0,4.0,1.0,0.0,1.0,1.0,0.0,3.0,4.0,0.0,1.0,1.0,1.0,0.0,0.0,3.0,2.0,0.0,4.0,4.0,0.0,4.0,0.0,1.0,3.0,2.0,3.0,0.0,1.0,2.0,4.0,0.0,4.0,1.0,0.0,0.0,3.0,0.0,4.0,0.0,2.0,0.0,5.0,1.0,5.0,2.0,6.0,0.0,4.0,2.0,1.0,0.0,2.0,0.0,2.0,0.0,0.0,0.0,2.0,0.0,1.0,3.0,0.0,3.0,4.0,6.0,1.0,1.0,1.0,1.0,0.0,6.0,0.0,0.0,4.0,3.0,3.0,4.0,1.0,4.0,0.0,3.0,3.0,0.0,4.0,1.0,4.0,0.0,0.0,0.0,1.0,0.0,4.0,0.0,0.0,0.0,5.0,0.0,3.0,1.0,1.0,0.0,4.0,1.0,4.0,0.0,0.0,1.0,1.0,2.0,1.0,0.0,0.0,4.0,2.0,0.0,2.0,2.0,0.0,4.0,1.0,0.0,3.0,2.0,5.0,2.0,0.0,1.0,1.0,0.0,0.0,2.0,4.0,2.0,1.0,1.0,5.0,0.0,6.0,1.0,4.0,0.0,1.0,3.0,0.0,1.0,1.0,2.0,0.0,0.0,2.0,3.0,0.0,1.0,3.0,2.0,3.0,1.0,1.0,0.0,1.0,4.0,2.0,4.0,6.0,1.0,0.0,4.0,0.0,0.0,1.0,1.0,4.0,4.0,5.0,0.0,0.0,0.0,5.0,4.0,4.0,4.0,3.0,6.0,6.0,4.0,2.0,0.0,2.0,1.0,0.0,4.0,0.0,3.0,5.0,0.0,3.0,3.0,0.0,0.0,1.0,0.0,1.0,0.0,1.0,2.0,2.0,0.0,0.0,1.0,0.0,1.0,0.0,2.0,0.0,0.0,1.0,1.0,0.0,0.0,1.0,3.0,4.0,6.0,1.0,1.0,0.0,0.0,2.0,0.0,0.0,0.0,4.0,0.0,0.0,4.0,2.0,0.0,1.0,3.0,0.0,2.0,3.0,2.0,1.0,0.0,3.0,0.0,2.0,1.0,0.0,1.0,4.0,0.0,2.0,1.0,0.0,0.0,0.0,3.0,2.0,4.0,3.0,3.0,4.0,3.0,3.0,2.0,3.0,3.0,6.0,3.0,2.0,4.0,0.0,4.0,2.0,1.0,3.0,4.0,1.0,4.0,3.0,4.0,3.0,1.0,0.0,0.0,1.0,1.0,0.0,0.0,3.0,2.0,2.0,0.0,0.0,0.0,2.0,1.0,2.0,2.0,1.0,0.0,0.0,4.0,1.0,0.0,2.0,3.0,1.0,2.0,0.0,2.0,3.0,2.0,4.0,0.0,0.0,2.0,1.0,0.0,5.0,4.0,0.0,6.0,0.0,2.0,0.0,0.0,0.0,0.0,1.0,0.0,2.0,0.0,2.0,1.0,3.0,1.0,2.0,1.0,0.0,0.0,1.0,1.0,4.0,2.0,1.0,6.0,1.0,4.0,1.0,0.0,2.0,0.0,4.0,0.0,5.0,2.0,0.0,1.0,1.0,3.0,0.0,1.0,0.0,0.0,2.0,0.0,4.0,3.0,2.0,0.0,2.0,0.0,0.0,0.0,0.0,0.0,2.0,1.0,0.0,3.0,3.0,1.0,4.0,6.0,2.0,3.0,6.0,0.0,2.0,0.0,0.0,6.0,2.0,3.0,2.0,1.0,0.0,4.0,4.0,0.0,0.0,0.0,3.0,5.0,3.0,5.0,1.0,2.0,1.0,1.0,1.0,1.0,1.0,1.0,1.0,1.0,1.0,1.0,1.0,1.0,1.0,1.0,1.0,1.0,1.0,1.0,1.0,1.0,1.0,1.0,1.0,1.0,1.0,1.0,1.0,1.0,1.0,1.0,1.0,1.0,1.0,1.0,1.0,1.0,1.0,1.0,1.0,1.0,1.0,1.0,1.0,1.0,1.0,1.0,1.0,1.0,1.0,1.0,1.0,1.0,1.0,1.0,1.0,1.0,1.0,1.0,1.0,1.0,1.0,1.0,1.0,1.0,1.0,1.0,1.0,1.0,1.0,1.0,1.0,1.0,1.0,1.0,1.0,1.0,1.0,1.0,1.0,1.0,1.0,1.0,1.0,1.0,1.0,1.0,1.0,1.0,1.0,1.0,1.0,1.0,1.0,1.0,1.0,1.0,1.0,1.0,1.0,1.0,1.0,1.0,1.0,1.0,1.0,1.0,1.0,1.0,1.0,1.0,1.0,1.0,1.0,1.0,1.0,1.0,1.0,1.0,1.0,1.0,1.0,1.0,1.0,1.0,1.0,1.0,1.0,1.0,1.0,1.0,1.0,1.0,1.0,1.0,1.0,1.0,1.0,1.0,1.0,1.0,1.0,1.0,1.0,1.0,1.0,1.0,1.0,1.0,1.0,1.0,1.0,1.0,1.0,1.0,1.0,1.0,1.0,1.0,1.0,1.0,1.0,1.0,1.0,1.0,1.0,1.0,1.0,1.0,1.0,1.0,1.0,1.0,1.0,1.0,1.0,1.0,1.0,1.0,1.0,1.0,1.0,1.0,1.0,1.0,1.0,1.0,1.0,1.0,1.0,1.0,1.0,1.0,1.0,1.0,1.0,1.0,1.0,1.0,1.0,1.0,1.0,1.0,1.0,1.0,1.0,2.0,2.0,2.0,2.0,2.0,2.0,2.0,2.0,2.0,2.0,2.0,2.0,2.0,2.0,2.0,2.0,2.0,2.0,2.0,2.0,2.0,2.0,2.0,2.0,2.0,2.0,2.0,2.0,2.0,2.0,2.0,2.0,2.0,2.0,2.0,2.0,2.0,2.0,2.0,2.0,2.0,2.0,2.0,2.0,2.0,2.0,2.0,2.0,2.0,2.0,2.0,2.0,2.0,2.0,2.0,2.0,2.0,2.0,2.0,2.0,2.0,2.0,2.0,2.0,2.0,2.0,2.0,2.0,2.0,2.0,2.0,2.0,2.0,2.0,2.0,2.0,2.0,2.0,2.0,2.0,2.0,2.0,2.0,2.0,2.0,2.0,2.0,2.0,2.0,2.0,2.0,2.0,2.0,2.0,2.0,2.0,2.0,2.0,2.0,2.0,2.0,2.0,2.0,2.0,2.0,2.0,2.0,2.0,2.0,2.0,2.0,2.0,2.0,2.0,2.0,2.0,2.0,2.0,2.0,2.0,2.0,2.0,2.0,2.0,2.0,2.0,2.0,2.0,2.0,2.0,2.0,2.0,2.0,2.0,2.0,2.0,2.0,2.0,2.0,2.0,2.0,2.0,2.0,2.0,2.0,2.0,2.0,2.0,2.0,2.0,2.0,2.0,2.0,2.0,2.0,2.0,2.0,2.0,2.0,2.0,2.0,2.0,2.0,2.0,2.0,2.0,2.0,2.0,2.0,2.0,2.0,2.0,2.0,2.0,2.0,2.0,2.0,2.0,2.0,2.0,2.0,2.0,2.0,2.0,2.0,2.0,2.0,2.0,2.0,2.0,2.0,2.0,2.0,2.0,2.0,2.0,2.0,2.0,2.0,2.0,2.0,2.0,2.0,2.0,2.0,2.0,2.0,2.0,2.0,2.0,2.0,2.0,2.0,2.0,2.0,2.0,2.0,2.0,2.0,2.0,2.0,2.0,2.0,2.0,2.0,2.0,2.0,2.0,2.0,2.0,2.0,2.0,2.0,2.0,2.0,2.0,2.0,2.0,2.0,2.0,2.0,2.0,2.0,2.0,2.0,2.0,2.0,2.0,2.0,2.0,2.0,2.0,2.0,2.0,2.0,2.0,2.0,2.0,2.0,2.0,2.0,2.0,2.0,2.0,3.0,3.0,3.0,3.0,3.0,3.0,3.0,3.0,3.0,3.0,3.0,3.0,3.0,3.0,3.0,3.0,3.0,3.0,3.0,3.0,3.0,3.0,3.0,3.0,3.0,3.0,3.0,3.0,3.0,3.0,3.0,3.0,3.0,3.0,3.0,3.0,3.0,3.0,3.0,3.0,3.0,3.0,3.0,3.0,3.0,3.0,3.0,3.0,3.0,3.0,3.0,3.0,3.0,3.0,3.0,3.0,3.0,3.0,3.0,3.0,3.0,3.0,3.0,3.0,3.0,3.0,3.0,3.0,3.0,3.0,3.0,3.0,3.0,3.0,3.0,3.0,3.0,3.0,3.0,3.0,3.0,3.0,3.0,3.0,3.0,3.0,3.0,3.0,3.0,3.0,3.0,3.0,3.0,3.0,3.0,3.0,3.0,3.0,3.0,3.0,3.0,3.0,3.0,3.0,3.0,3.0,3.0,3.0,3.0,3.0,3.0,3.0,3.0,3.0,3.0,3.0,3.0,3.0,3.0,3.0,3.0,3.0,3.0,3.0,3.0,3.0,3.0,3.0,3.0,3.0,3.0,3.0,3.0,3.0,3.0,3.0,3.0,3.0,3.0,3.0,3.0,3.0,3.0,3.0,3.0,3.0,3.0,3.0,3.0,3.0,3.0,3.0,3.0,3.0,3.0,3.0,3.0,3.0,3.0,3.0,3.0,3.0,3.0,3.0,3.0,3.0,3.0,3.0,3.0,3.0,3.0,3.0,3.0,3.0,3.0,3.0,3.0,3.0,3.0,3.0,3.0,3.0,3.0,3.0,3.0,3.0,3.0,3.0,3.0,3.0,3.0,3.0,3.0,3.0,3.0,3.0,3.0,3.0,3.0,3.0,3.0,3.0,3.0,3.0,3.0,3.0,3.0,3.0,3.0,3.0,3.0,3.0,3.0,3.0,3.0,3.0,3.0,3.0,3.0,3.0,3.0,3.0,3.0,3.0,3.0,3.0,3.0,3.0,3.0,3.0,3.0,3.0,3.0,3.0,3.0,3.0,3.0,3.0,3.0,3.0,3.0,3.0,3.0,3.0,3.0,3.0,3.0,3.0,3.0,3.0,3.0,3.0,3.0,3.0,3.0,3.0,3.0,3.0,4.0,4.0,4.0,4.0,4.0,4.0,4.0,4.0,4.0,4.0,4.0,4.0,4.0,4.0,4.0,4.0,4.0,4.0,4.0,4.0,4.0,4.0,4.0,4.0,4.0,4.0,4.0,4.0,4.0,4.0,4.0,4.0,4.0,4.0,4.0,4.0,4.0,4.0,4.0,4.0,4.0,4.0,4.0,4.0,4.0,4.0,4.0,4.0,4.0,4.0,4.0,4.0,4.0,4.0,4.0,4.0,4.0,4.0,4.0,4.0,4.0,4.0,4.0,4.0,4.0,4.0,4.0,4.0,4.0,4.0,4.0,4.0,4.0,4.0,4.0,4.0,4.0,4.0,4.0,4.0,4.0,4.0,4.0,4.0,4.0,4.0,4.0,4.0,4.0,4.0,4.0,4.0,4.0,4.0,4.0,4.0,4.0,4.0,4.0,4.0,4.0,4.0,4.0,4.0,4.0,4.0,4.0,4.0,4.0,4.0,4.0,4.0,4.0,4.0,4.0,4.0,4.0,4.0,4.0,4.0,4.0,4.0,4.0,4.0,4.0,4.0,4.0,4.0,4.0,4.0,4.0,4.0,4.0,4.0,4.0,4.0,4.0,4.0,4.0,4.0,4.0,4.0,4.0,4.0,4.0,4.0,4.0,4.0,4.0,4.0,4.0,4.0,4.0,4.0,4.0,4.0,4.0,4.0,4.0,4.0,4.0,4.0,4.0,4.0,4.0,4.0,4.0,4.0,4.0,4.0,4.0,4.0,4.0,4.0,4.0,4.0,4.0,4.0,4.0,4.0,4.0,4.0,4.0,4.0,4.0,4.0,4.0,4.0,4.0,4.0,4.0,4.0,4.0,4.0,4.0,4.0,4.0,4.0,4.0,4.0,4.0,4.0,4.0,4.0,4.0,4.0,4.0,4.0,4.0,4.0,4.0,4.0,4.0,4.0,4.0,4.0,4.0,4.0,4.0,4.0,4.0,4.0,4.0,4.0,4.0,4.0,4.0,4.0,4.0,4.0,4.0,4.0,4.0,4.0,4.0,4.0,4.0,4.0,4.0,4.0,4.0,4.0,4.0,4.0,4.0,4.0,4.0,4.0,4.0,4.0,4.0,4.0,4.0,5.0,5.0,5.0,5.0,5.0,5.0,5.0,5.0,5.0,5.0,5.0,5.0,5.0,5.0,5.0,5.0,5.0,5.0,5.0,5.0,5.0,5.0,5.0,5.0,5.0,5.0,5.0,5.0,5.0,5.0,5.0,5.0,5.0,5.0,5.0,5.0,5.0,5.0,5.0,5.0,5.0,5.0,5.0,5.0,5.0,5.0,5.0,5.0,5.0,5.0,5.0,5.0,5.0,5.0,5.0,5.0,5.0,5.0,5.0,5.0,5.0,5.0,5.0,5.0,5.0,5.0,5.0,5.0,5.0,5.0,5.0,5.0,5.0,5.0,5.0,5.0,5.0,5.0,5.0,5.0,5.0,5.0,5.0,5.0,5.0,5.0,5.0,5.0,5.0,5.0,5.0,5.0,5.0,5.0,5.0,5.0,5.0,5.0,5.0,5.0,5.0,5.0,5.0,5.0,5.0,5.0,5.0,5.0,5.0,5.0,5.0,5.0,5.0,5.0,5.0,5.0,5.0,5.0,5.0,5.0,5.0,5.0,5.0,5.0,5.0,5.0,5.0,5.0,5.0,5.0,5.0,5.0,5.0,5.0,5.0,5.0,5.0,5.0,5.0,5.0,5.0,5.0,5.0,5.0,5.0,5.0,5.0,5.0,5.0,5.0,5.0,5.0,5.0,5.0,5.0,5.0,5.0,5.0,5.0,5.0,5.0,5.0,5.0,5.0,5.0,5.0,5.0,5.0,5.0,5.0,5.0,5.0,5.0,5.0,5.0,5.0,5.0,5.0,5.0,5.0,5.0,5.0,5.0,5.0,5.0,5.0,5.0,5.0,5.0,5.0,5.0,5.0,5.0,5.0,5.0,5.0,5.0,5.0,5.0,5.0,5.0,5.0,5.0,5.0,5.0,5.0,5.0,5.0,5.0,5.0,5.0,5.0,5.0,5.0,5.0,5.0,5.0,5.0,5.0,5.0,5.0,5.0,5.0,5.0,5.0,5.0,5.0,5.0,5.0,5.0,5.0,5.0,5.0,5.0,5.0,5.0,5.0,5.0,5.0,5.0,5.0,5.0,5.0,5.0,5.0,5.0,5.0,5.0,5.0,5.0,5.0,5.0,5.0,5.0,5.0,5.0,5.0,5.0,5.0,5.0,5.0,5.0,5.0,5.0,5.0,5.0,5.0,5.0,5.0,5.0,5.0,5.0,5.0,5.0,5.0,5.0,5.0,5.0,5.0,5.0,5.0,5.0,5.0,5.0,5.0,5.0,5.0,5.0,5.0,5.0,5.0,5.0,5.0,5.0,5.0,5.0,5.0,5.0,5.0,5.0,5.0,5.0,5.0,5.0,5.0,5.0,5.0,5.0,5.0,5.0,5.0,5.0,5.0,5.0,5.0,5.0,5.0,5.0,5.0,5.0,5.0,5.0,5.0,5.0,5.0,5.0,5.0,5.0,5.0,5.0,5.0,5.0,5.0,5.0,5.0,5.0,5.0,5.0,5.0,5.0,5.0,5.0,5.0,5.0,5.0,5.0,5.0,5.0,5.0,5.0,5.0,5.0,5.0,5.0,5.0,5.0,5.0,5.0,5.0,5.0,5.0,5.0,5.0,5.0,5.0,5.0,5.0,5.0,5.0,5.0,5.0,5.0,5.0,5.0,5.0,5.0,5.0,5.0,5.0,5.0,5.0,5.0,5.0,5.0,5.0,5.0,5.0,5.0,5.0,5.0,5.0,5.0,5.0,5.0,5.0,5.0,5.0,5.0,5.0,5.0,5.0,5.0,5.0,5.0,5.0,5.0,5.0,5.0,5.0,5.0,5.0],\"xaxis\":\"x\",\"yaxis\":\"y\",\"type\":\"histogram\"}],                        {\"template\":{\"data\":{\"histogram2dcontour\":[{\"type\":\"histogram2dcontour\",\"colorbar\":{\"outlinewidth\":0,\"ticks\":\"\"},\"colorscale\":[[0.0,\"#0d0887\"],[0.1111111111111111,\"#46039f\"],[0.2222222222222222,\"#7201a8\"],[0.3333333333333333,\"#9c179e\"],[0.4444444444444444,\"#bd3786\"],[0.5555555555555556,\"#d8576b\"],[0.6666666666666666,\"#ed7953\"],[0.7777777777777778,\"#fb9f3a\"],[0.8888888888888888,\"#fdca26\"],[1.0,\"#f0f921\"]]}],\"choropleth\":[{\"type\":\"choropleth\",\"colorbar\":{\"outlinewidth\":0,\"ticks\":\"\"}}],\"histogram2d\":[{\"type\":\"histogram2d\",\"colorbar\":{\"outlinewidth\":0,\"ticks\":\"\"},\"colorscale\":[[0.0,\"#0d0887\"],[0.1111111111111111,\"#46039f\"],[0.2222222222222222,\"#7201a8\"],[0.3333333333333333,\"#9c179e\"],[0.4444444444444444,\"#bd3786\"],[0.5555555555555556,\"#d8576b\"],[0.6666666666666666,\"#ed7953\"],[0.7777777777777778,\"#fb9f3a\"],[0.8888888888888888,\"#fdca26\"],[1.0,\"#f0f921\"]]}],\"heatmap\":[{\"type\":\"heatmap\",\"colorbar\":{\"outlinewidth\":0,\"ticks\":\"\"},\"colorscale\":[[0.0,\"#0d0887\"],[0.1111111111111111,\"#46039f\"],[0.2222222222222222,\"#7201a8\"],[0.3333333333333333,\"#9c179e\"],[0.4444444444444444,\"#bd3786\"],[0.5555555555555556,\"#d8576b\"],[0.6666666666666666,\"#ed7953\"],[0.7777777777777778,\"#fb9f3a\"],[0.8888888888888888,\"#fdca26\"],[1.0,\"#f0f921\"]]}],\"heatmapgl\":[{\"type\":\"heatmapgl\",\"colorbar\":{\"outlinewidth\":0,\"ticks\":\"\"},\"colorscale\":[[0.0,\"#0d0887\"],[0.1111111111111111,\"#46039f\"],[0.2222222222222222,\"#7201a8\"],[0.3333333333333333,\"#9c179e\"],[0.4444444444444444,\"#bd3786\"],[0.5555555555555556,\"#d8576b\"],[0.6666666666666666,\"#ed7953\"],[0.7777777777777778,\"#fb9f3a\"],[0.8888888888888888,\"#fdca26\"],[1.0,\"#f0f921\"]]}],\"contourcarpet\":[{\"type\":\"contourcarpet\",\"colorbar\":{\"outlinewidth\":0,\"ticks\":\"\"}}],\"contour\":[{\"type\":\"contour\",\"colorbar\":{\"outlinewidth\":0,\"ticks\":\"\"},\"colorscale\":[[0.0,\"#0d0887\"],[0.1111111111111111,\"#46039f\"],[0.2222222222222222,\"#7201a8\"],[0.3333333333333333,\"#9c179e\"],[0.4444444444444444,\"#bd3786\"],[0.5555555555555556,\"#d8576b\"],[0.6666666666666666,\"#ed7953\"],[0.7777777777777778,\"#fb9f3a\"],[0.8888888888888888,\"#fdca26\"],[1.0,\"#f0f921\"]]}],\"surface\":[{\"type\":\"surface\",\"colorbar\":{\"outlinewidth\":0,\"ticks\":\"\"},\"colorscale\":[[0.0,\"#0d0887\"],[0.1111111111111111,\"#46039f\"],[0.2222222222222222,\"#7201a8\"],[0.3333333333333333,\"#9c179e\"],[0.4444444444444444,\"#bd3786\"],[0.5555555555555556,\"#d8576b\"],[0.6666666666666666,\"#ed7953\"],[0.7777777777777778,\"#fb9f3a\"],[0.8888888888888888,\"#fdca26\"],[1.0,\"#f0f921\"]]}],\"mesh3d\":[{\"type\":\"mesh3d\",\"colorbar\":{\"outlinewidth\":0,\"ticks\":\"\"}}],\"scatter\":[{\"fillpattern\":{\"fillmode\":\"overlay\",\"size\":10,\"solidity\":0.2},\"type\":\"scatter\"}],\"parcoords\":[{\"type\":\"parcoords\",\"line\":{\"colorbar\":{\"outlinewidth\":0,\"ticks\":\"\"}}}],\"scatterpolargl\":[{\"type\":\"scatterpolargl\",\"marker\":{\"colorbar\":{\"outlinewidth\":0,\"ticks\":\"\"}}}],\"bar\":[{\"error_x\":{\"color\":\"#2a3f5f\"},\"error_y\":{\"color\":\"#2a3f5f\"},\"marker\":{\"line\":{\"color\":\"#E5ECF6\",\"width\":0.5},\"pattern\":{\"fillmode\":\"overlay\",\"size\":10,\"solidity\":0.2}},\"type\":\"bar\"}],\"scattergeo\":[{\"type\":\"scattergeo\",\"marker\":{\"colorbar\":{\"outlinewidth\":0,\"ticks\":\"\"}}}],\"scatterpolar\":[{\"type\":\"scatterpolar\",\"marker\":{\"colorbar\":{\"outlinewidth\":0,\"ticks\":\"\"}}}],\"histogram\":[{\"marker\":{\"pattern\":{\"fillmode\":\"overlay\",\"size\":10,\"solidity\":0.2}},\"type\":\"histogram\"}],\"scattergl\":[{\"type\":\"scattergl\",\"marker\":{\"colorbar\":{\"outlinewidth\":0,\"ticks\":\"\"}}}],\"scatter3d\":[{\"type\":\"scatter3d\",\"line\":{\"colorbar\":{\"outlinewidth\":0,\"ticks\":\"\"}},\"marker\":{\"colorbar\":{\"outlinewidth\":0,\"ticks\":\"\"}}}],\"scattermapbox\":[{\"type\":\"scattermapbox\",\"marker\":{\"colorbar\":{\"outlinewidth\":0,\"ticks\":\"\"}}}],\"scatterternary\":[{\"type\":\"scatterternary\",\"marker\":{\"colorbar\":{\"outlinewidth\":0,\"ticks\":\"\"}}}],\"scattercarpet\":[{\"type\":\"scattercarpet\",\"marker\":{\"colorbar\":{\"outlinewidth\":0,\"ticks\":\"\"}}}],\"carpet\":[{\"aaxis\":{\"endlinecolor\":\"#2a3f5f\",\"gridcolor\":\"white\",\"linecolor\":\"white\",\"minorgridcolor\":\"white\",\"startlinecolor\":\"#2a3f5f\"},\"baxis\":{\"endlinecolor\":\"#2a3f5f\",\"gridcolor\":\"white\",\"linecolor\":\"white\",\"minorgridcolor\":\"white\",\"startlinecolor\":\"#2a3f5f\"},\"type\":\"carpet\"}],\"table\":[{\"cells\":{\"fill\":{\"color\":\"#EBF0F8\"},\"line\":{\"color\":\"white\"}},\"header\":{\"fill\":{\"color\":\"#C8D4E3\"},\"line\":{\"color\":\"white\"}},\"type\":\"table\"}],\"barpolar\":[{\"marker\":{\"line\":{\"color\":\"#E5ECF6\",\"width\":0.5},\"pattern\":{\"fillmode\":\"overlay\",\"size\":10,\"solidity\":0.2}},\"type\":\"barpolar\"}],\"pie\":[{\"automargin\":true,\"type\":\"pie\"}]},\"layout\":{\"autotypenumbers\":\"strict\",\"colorway\":[\"#636efa\",\"#EF553B\",\"#00cc96\",\"#ab63fa\",\"#FFA15A\",\"#19d3f3\",\"#FF6692\",\"#B6E880\",\"#FF97FF\",\"#FECB52\"],\"font\":{\"color\":\"#2a3f5f\"},\"hovermode\":\"closest\",\"hoverlabel\":{\"align\":\"left\"},\"paper_bgcolor\":\"white\",\"plot_bgcolor\":\"#E5ECF6\",\"polar\":{\"bgcolor\":\"#E5ECF6\",\"angularaxis\":{\"gridcolor\":\"white\",\"linecolor\":\"white\",\"ticks\":\"\"},\"radialaxis\":{\"gridcolor\":\"white\",\"linecolor\":\"white\",\"ticks\":\"\"}},\"ternary\":{\"bgcolor\":\"#E5ECF6\",\"aaxis\":{\"gridcolor\":\"white\",\"linecolor\":\"white\",\"ticks\":\"\"},\"baxis\":{\"gridcolor\":\"white\",\"linecolor\":\"white\",\"ticks\":\"\"},\"caxis\":{\"gridcolor\":\"white\",\"linecolor\":\"white\",\"ticks\":\"\"}},\"coloraxis\":{\"colorbar\":{\"outlinewidth\":0,\"ticks\":\"\"}},\"colorscale\":{\"sequential\":[[0.0,\"#0d0887\"],[0.1111111111111111,\"#46039f\"],[0.2222222222222222,\"#7201a8\"],[0.3333333333333333,\"#9c179e\"],[0.4444444444444444,\"#bd3786\"],[0.5555555555555556,\"#d8576b\"],[0.6666666666666666,\"#ed7953\"],[0.7777777777777778,\"#fb9f3a\"],[0.8888888888888888,\"#fdca26\"],[1.0,\"#f0f921\"]],\"sequentialminus\":[[0.0,\"#0d0887\"],[0.1111111111111111,\"#46039f\"],[0.2222222222222222,\"#7201a8\"],[0.3333333333333333,\"#9c179e\"],[0.4444444444444444,\"#bd3786\"],[0.5555555555555556,\"#d8576b\"],[0.6666666666666666,\"#ed7953\"],[0.7777777777777778,\"#fb9f3a\"],[0.8888888888888888,\"#fdca26\"],[1.0,\"#f0f921\"]],\"diverging\":[[0,\"#8e0152\"],[0.1,\"#c51b7d\"],[0.2,\"#de77ae\"],[0.3,\"#f1b6da\"],[0.4,\"#fde0ef\"],[0.5,\"#f7f7f7\"],[0.6,\"#e6f5d0\"],[0.7,\"#b8e186\"],[0.8,\"#7fbc41\"],[0.9,\"#4d9221\"],[1,\"#276419\"]]},\"xaxis\":{\"gridcolor\":\"white\",\"linecolor\":\"white\",\"ticks\":\"\",\"title\":{\"standoff\":15},\"zerolinecolor\":\"white\",\"automargin\":true,\"zerolinewidth\":2},\"yaxis\":{\"gridcolor\":\"white\",\"linecolor\":\"white\",\"ticks\":\"\",\"title\":{\"standoff\":15},\"zerolinecolor\":\"white\",\"automargin\":true,\"zerolinewidth\":2},\"scene\":{\"xaxis\":{\"backgroundcolor\":\"#E5ECF6\",\"gridcolor\":\"white\",\"linecolor\":\"white\",\"showbackground\":true,\"ticks\":\"\",\"zerolinecolor\":\"white\",\"gridwidth\":2},\"yaxis\":{\"backgroundcolor\":\"#E5ECF6\",\"gridcolor\":\"white\",\"linecolor\":\"white\",\"showbackground\":true,\"ticks\":\"\",\"zerolinecolor\":\"white\",\"gridwidth\":2},\"zaxis\":{\"backgroundcolor\":\"#E5ECF6\",\"gridcolor\":\"white\",\"linecolor\":\"white\",\"showbackground\":true,\"ticks\":\"\",\"zerolinecolor\":\"white\",\"gridwidth\":2}},\"shapedefaults\":{\"line\":{\"color\":\"#2a3f5f\"}},\"annotationdefaults\":{\"arrowcolor\":\"#2a3f5f\",\"arrowhead\":0,\"arrowwidth\":1},\"geo\":{\"bgcolor\":\"white\",\"landcolor\":\"#E5ECF6\",\"subunitcolor\":\"white\",\"showland\":true,\"showlakes\":true,\"lakecolor\":\"white\"},\"title\":{\"x\":0.05},\"mapbox\":{\"style\":\"light\"}}},\"xaxis\":{\"anchor\":\"y\",\"domain\":[0.0,1.0],\"title\":{\"text\":\"Class Label\"}},\"yaxis\":{\"anchor\":\"x\",\"domain\":[0.0,1.0],\"title\":{\"text\":\"Frequency\"}},\"legend\":{\"tracegroupgap\":0},\"margin\":{\"t\":60},\"barmode\":\"relative\",\"title\":{\"font\":{\"color\":\"black\",\"size\":20},\"text\":\"Target Distribution\\u003cbr\\u003e\\u003csup\\u003eSource: experiment 3 - combine real train set and SMOTE synthetic data set\\u003c\\u002fsup\\u003e\",\"x\":0},\"font\":{\"family\":\"Times New Roman\"},\"plot_bgcolor\":\"rgba(0,0,0,0)\",\"paper_bgcolor\":\"rgba(0,0,0,0)\",\"width\":600,\"height\":500},                        {\"responsive\": true}                    ).then(function(){\n",
              "                            \n",
              "var gd = document.getElementById('c34f07f1-7b0c-464b-8d9f-2801eb961f57');\n",
              "var x = new MutationObserver(function (mutations, observer) {{\n",
              "        var display = window.getComputedStyle(gd).display;\n",
              "        if (!display || display === 'none') {{\n",
              "            console.log([gd, 'removed!']);\n",
              "            Plotly.purge(gd);\n",
              "            observer.disconnect();\n",
              "        }}\n",
              "}});\n",
              "\n",
              "// Listen for the removal of the full notebook cells\n",
              "var notebookContainer = gd.closest('#notebook-container');\n",
              "if (notebookContainer) {{\n",
              "    x.observe(notebookContainer, {childList: true});\n",
              "}}\n",
              "\n",
              "// Listen for the clearing of the current output cell\n",
              "var outputEl = gd.closest('.output');\n",
              "if (outputEl) {{\n",
              "    x.observe(outputEl, {childList: true});\n",
              "}}\n",
              "\n",
              "                        })                };                            </script>        </div>\n",
              "</body>\n",
              "</html>"
            ]
          },
          "metadata": {}
        }
      ],
      "source": [
        "smote_target_eda = EDA(data = Smote_y_train,\n",
        "                 target=target,\n",
        "                 output_path = _EXP3_EDA_DIR,\n",
        "                 logx = False,\n",
        "                 logy = False)\n",
        "smote_target_eda.plot_hist(file_name='smote_trainset',\n",
        "                     subtitle = 'Source: experiment 3 - combine real train set and SMOTE synthetic data set',\n",
        "                     maintitle = 'Target ')"
      ]
    },
    {
      "cell_type": "code",
      "execution_count": null,
      "metadata": {
        "id": "dfEDy9Ym_09a",
        "colab": {
          "base_uri": "https://localhost:8080/",
          "height": 223
        },
        "outputId": "63fc343c-9f4e-4e4d-df7b-a156b1f7689a"
      },
      "outputs": [
        {
          "output_type": "stream",
          "name": "stdout",
          "text": [
            "Model Performance\n"
          ]
        },
        {
          "output_type": "display_data",
          "data": {
            "text/plain": [
              "  Model  acc_valid  acc_test  f1_macro_valid  f1_macro_test\n",
              "0    lr      32.63     31.00            0.30           0.26\n",
              "1   xgb      52.63     52.09            0.51           0.49\n",
              "2   svm      16.50     16.46            0.11           0.11\n",
              "3    rf      52.34     52.48            0.53           0.53\n",
              "4   mlp      15.88     17.19            0.04           0.06"
            ],
            "text/html": [
              "\n",
              "  <div id=\"df-69ff6c9b-b85f-436b-ba81-978ee4a50cb8\" class=\"colab-df-container\">\n",
              "    <div>\n",
              "<style scoped>\n",
              "    .dataframe tbody tr th:only-of-type {\n",
              "        vertical-align: middle;\n",
              "    }\n",
              "\n",
              "    .dataframe tbody tr th {\n",
              "        vertical-align: top;\n",
              "    }\n",
              "\n",
              "    .dataframe thead th {\n",
              "        text-align: right;\n",
              "    }\n",
              "</style>\n",
              "<table border=\"1\" class=\"dataframe\">\n",
              "  <thead>\n",
              "    <tr style=\"text-align: right;\">\n",
              "      <th></th>\n",
              "      <th>Model</th>\n",
              "      <th>acc_valid</th>\n",
              "      <th>acc_test</th>\n",
              "      <th>f1_macro_valid</th>\n",
              "      <th>f1_macro_test</th>\n",
              "    </tr>\n",
              "  </thead>\n",
              "  <tbody>\n",
              "    <tr>\n",
              "      <th>0</th>\n",
              "      <td>lr</td>\n",
              "      <td>32.63</td>\n",
              "      <td>31.00</td>\n",
              "      <td>0.30</td>\n",
              "      <td>0.26</td>\n",
              "    </tr>\n",
              "    <tr>\n",
              "      <th>1</th>\n",
              "      <td>xgb</td>\n",
              "      <td>52.63</td>\n",
              "      <td>52.09</td>\n",
              "      <td>0.51</td>\n",
              "      <td>0.49</td>\n",
              "    </tr>\n",
              "    <tr>\n",
              "      <th>2</th>\n",
              "      <td>svm</td>\n",
              "      <td>16.50</td>\n",
              "      <td>16.46</td>\n",
              "      <td>0.11</td>\n",
              "      <td>0.11</td>\n",
              "    </tr>\n",
              "    <tr>\n",
              "      <th>3</th>\n",
              "      <td>rf</td>\n",
              "      <td>52.34</td>\n",
              "      <td>52.48</td>\n",
              "      <td>0.53</td>\n",
              "      <td>0.53</td>\n",
              "    </tr>\n",
              "    <tr>\n",
              "      <th>4</th>\n",
              "      <td>mlp</td>\n",
              "      <td>15.88</td>\n",
              "      <td>17.19</td>\n",
              "      <td>0.04</td>\n",
              "      <td>0.06</td>\n",
              "    </tr>\n",
              "  </tbody>\n",
              "</table>\n",
              "</div>\n",
              "    <div class=\"colab-df-buttons\">\n",
              "\n",
              "  <div class=\"colab-df-container\">\n",
              "    <button class=\"colab-df-convert\" onclick=\"convertToInteractive('df-69ff6c9b-b85f-436b-ba81-978ee4a50cb8')\"\n",
              "            title=\"Convert this dataframe to an interactive table.\"\n",
              "            style=\"display:none;\">\n",
              "\n",
              "  <svg xmlns=\"http://www.w3.org/2000/svg\" height=\"24px\" viewBox=\"0 -960 960 960\">\n",
              "    <path d=\"M120-120v-720h720v720H120Zm60-500h600v-160H180v160Zm220 220h160v-160H400v160Zm0 220h160v-160H400v160ZM180-400h160v-160H180v160Zm440 0h160v-160H620v160ZM180-180h160v-160H180v160Zm440 0h160v-160H620v160Z\"/>\n",
              "  </svg>\n",
              "    </button>\n",
              "\n",
              "  <style>\n",
              "    .colab-df-container {\n",
              "      display:flex;\n",
              "      gap: 12px;\n",
              "    }\n",
              "\n",
              "    .colab-df-convert {\n",
              "      background-color: #E8F0FE;\n",
              "      border: none;\n",
              "      border-radius: 50%;\n",
              "      cursor: pointer;\n",
              "      display: none;\n",
              "      fill: #1967D2;\n",
              "      height: 32px;\n",
              "      padding: 0 0 0 0;\n",
              "      width: 32px;\n",
              "    }\n",
              "\n",
              "    .colab-df-convert:hover {\n",
              "      background-color: #E2EBFA;\n",
              "      box-shadow: 0px 1px 2px rgba(60, 64, 67, 0.3), 0px 1px 3px 1px rgba(60, 64, 67, 0.15);\n",
              "      fill: #174EA6;\n",
              "    }\n",
              "\n",
              "    .colab-df-buttons div {\n",
              "      margin-bottom: 4px;\n",
              "    }\n",
              "\n",
              "    [theme=dark] .colab-df-convert {\n",
              "      background-color: #3B4455;\n",
              "      fill: #D2E3FC;\n",
              "    }\n",
              "\n",
              "    [theme=dark] .colab-df-convert:hover {\n",
              "      background-color: #434B5C;\n",
              "      box-shadow: 0px 1px 3px 1px rgba(0, 0, 0, 0.15);\n",
              "      filter: drop-shadow(0px 1px 2px rgba(0, 0, 0, 0.3));\n",
              "      fill: #FFFFFF;\n",
              "    }\n",
              "  </style>\n",
              "\n",
              "    <script>\n",
              "      const buttonEl =\n",
              "        document.querySelector('#df-69ff6c9b-b85f-436b-ba81-978ee4a50cb8 button.colab-df-convert');\n",
              "      buttonEl.style.display =\n",
              "        google.colab.kernel.accessAllowed ? 'block' : 'none';\n",
              "\n",
              "      async function convertToInteractive(key) {\n",
              "        const element = document.querySelector('#df-69ff6c9b-b85f-436b-ba81-978ee4a50cb8');\n",
              "        const dataTable =\n",
              "          await google.colab.kernel.invokeFunction('convertToInteractive',\n",
              "                                                    [key], {});\n",
              "        if (!dataTable) return;\n",
              "\n",
              "        const docLinkHtml = 'Like what you see? Visit the ' +\n",
              "          '<a target=\"_blank\" href=https://colab.research.google.com/notebooks/data_table.ipynb>data table notebook</a>'\n",
              "          + ' to learn more about interactive tables.';\n",
              "        element.innerHTML = '';\n",
              "        dataTable['output_type'] = 'display_data';\n",
              "        await google.colab.output.renderOutput(dataTable, element);\n",
              "        const docLink = document.createElement('div');\n",
              "        docLink.innerHTML = docLinkHtml;\n",
              "        element.appendChild(docLink);\n",
              "      }\n",
              "    </script>\n",
              "  </div>\n",
              "\n",
              "\n",
              "<div id=\"df-e6fc5750-7515-4111-a952-455316f3c87b\">\n",
              "  <button class=\"colab-df-quickchart\" onclick=\"quickchart('df-e6fc5750-7515-4111-a952-455316f3c87b')\"\n",
              "            title=\"Suggest charts\"\n",
              "            style=\"display:none;\">\n",
              "\n",
              "<svg xmlns=\"http://www.w3.org/2000/svg\" height=\"24px\"viewBox=\"0 0 24 24\"\n",
              "     width=\"24px\">\n",
              "    <g>\n",
              "        <path d=\"M19 3H5c-1.1 0-2 .9-2 2v14c0 1.1.9 2 2 2h14c1.1 0 2-.9 2-2V5c0-1.1-.9-2-2-2zM9 17H7v-7h2v7zm4 0h-2V7h2v10zm4 0h-2v-4h2v4z\"/>\n",
              "    </g>\n",
              "</svg>\n",
              "  </button>\n",
              "\n",
              "<style>\n",
              "  .colab-df-quickchart {\n",
              "      --bg-color: #E8F0FE;\n",
              "      --fill-color: #1967D2;\n",
              "      --hover-bg-color: #E2EBFA;\n",
              "      --hover-fill-color: #174EA6;\n",
              "      --disabled-fill-color: #AAA;\n",
              "      --disabled-bg-color: #DDD;\n",
              "  }\n",
              "\n",
              "  [theme=dark] .colab-df-quickchart {\n",
              "      --bg-color: #3B4455;\n",
              "      --fill-color: #D2E3FC;\n",
              "      --hover-bg-color: #434B5C;\n",
              "      --hover-fill-color: #FFFFFF;\n",
              "      --disabled-bg-color: #3B4455;\n",
              "      --disabled-fill-color: #666;\n",
              "  }\n",
              "\n",
              "  .colab-df-quickchart {\n",
              "    background-color: var(--bg-color);\n",
              "    border: none;\n",
              "    border-radius: 50%;\n",
              "    cursor: pointer;\n",
              "    display: none;\n",
              "    fill: var(--fill-color);\n",
              "    height: 32px;\n",
              "    padding: 0;\n",
              "    width: 32px;\n",
              "  }\n",
              "\n",
              "  .colab-df-quickchart:hover {\n",
              "    background-color: var(--hover-bg-color);\n",
              "    box-shadow: 0 1px 2px rgba(60, 64, 67, 0.3), 0 1px 3px 1px rgba(60, 64, 67, 0.15);\n",
              "    fill: var(--button-hover-fill-color);\n",
              "  }\n",
              "\n",
              "  .colab-df-quickchart-complete:disabled,\n",
              "  .colab-df-quickchart-complete:disabled:hover {\n",
              "    background-color: var(--disabled-bg-color);\n",
              "    fill: var(--disabled-fill-color);\n",
              "    box-shadow: none;\n",
              "  }\n",
              "\n",
              "  .colab-df-spinner {\n",
              "    border: 2px solid var(--fill-color);\n",
              "    border-color: transparent;\n",
              "    border-bottom-color: var(--fill-color);\n",
              "    animation:\n",
              "      spin 1s steps(1) infinite;\n",
              "  }\n",
              "\n",
              "  @keyframes spin {\n",
              "    0% {\n",
              "      border-color: transparent;\n",
              "      border-bottom-color: var(--fill-color);\n",
              "      border-left-color: var(--fill-color);\n",
              "    }\n",
              "    20% {\n",
              "      border-color: transparent;\n",
              "      border-left-color: var(--fill-color);\n",
              "      border-top-color: var(--fill-color);\n",
              "    }\n",
              "    30% {\n",
              "      border-color: transparent;\n",
              "      border-left-color: var(--fill-color);\n",
              "      border-top-color: var(--fill-color);\n",
              "      border-right-color: var(--fill-color);\n",
              "    }\n",
              "    40% {\n",
              "      border-color: transparent;\n",
              "      border-right-color: var(--fill-color);\n",
              "      border-top-color: var(--fill-color);\n",
              "    }\n",
              "    60% {\n",
              "      border-color: transparent;\n",
              "      border-right-color: var(--fill-color);\n",
              "    }\n",
              "    80% {\n",
              "      border-color: transparent;\n",
              "      border-right-color: var(--fill-color);\n",
              "      border-bottom-color: var(--fill-color);\n",
              "    }\n",
              "    90% {\n",
              "      border-color: transparent;\n",
              "      border-bottom-color: var(--fill-color);\n",
              "    }\n",
              "  }\n",
              "</style>\n",
              "\n",
              "  <script>\n",
              "    async function quickchart(key) {\n",
              "      const quickchartButtonEl =\n",
              "        document.querySelector('#' + key + ' button');\n",
              "      quickchartButtonEl.disabled = true;  // To prevent multiple clicks.\n",
              "      quickchartButtonEl.classList.add('colab-df-spinner');\n",
              "      try {\n",
              "        const charts = await google.colab.kernel.invokeFunction(\n",
              "            'suggestCharts', [key], {});\n",
              "      } catch (error) {\n",
              "        console.error('Error during call to suggestCharts:', error);\n",
              "      }\n",
              "      quickchartButtonEl.classList.remove('colab-df-spinner');\n",
              "      quickchartButtonEl.classList.add('colab-df-quickchart-complete');\n",
              "    }\n",
              "    (() => {\n",
              "      let quickchartButtonEl =\n",
              "        document.querySelector('#df-e6fc5750-7515-4111-a952-455316f3c87b button');\n",
              "      quickchartButtonEl.style.display =\n",
              "        google.colab.kernel.accessAllowed ? 'block' : 'none';\n",
              "    })();\n",
              "  </script>\n",
              "</div>\n",
              "    </div>\n",
              "  </div>\n"
            ]
          },
          "metadata": {}
        }
      ],
      "source": [
        "model_lst = ['lr','xgb','svm','rf','mlp']\n",
        "problem = 'multiclass'\n",
        "used_feas = keep_feas\n",
        "report_dir = _GEN_SMOTE_RESULT_DIR\n",
        "\n",
        "smote_supervised_result_keep_feas = RunSupervised(model_lst,problem,Smote_X_train,Smote_y_train,X_valid,y_valid,X_test,y_test,used_feas,report_dir,algorithm='supervised')"
      ]
    },
    {
      "cell_type": "markdown",
      "metadata": {
        "id": "41-1zTp5OT5e"
      },
      "source": [
        "### Fine Tuning"
      ]
    },
    {
      "cell_type": "code",
      "execution_count": null,
      "metadata": {
        "id": "VJJyHJ98EU1h",
        "colab": {
          "base_uri": "https://localhost:8080/",
          "height": 1000
        },
        "outputId": "a9987eae-fbf3-4884-8c03-451d5ddfb48e"
      },
      "outputs": [
        {
          "output_type": "stream",
          "name": "stdout",
          "text": [
            "lr\n",
            "Best hyperparameters for lr: {'C': 1.3389578843664596}\n",
            "Best objective value for lr: 0.31\n"
          ]
        },
        {
          "output_type": "display_data",
          "data": {
            "text/html": [
              "<html>\n",
              "<head><meta charset=\"utf-8\" /></head>\n",
              "<body>\n",
              "    <div>            <script src=\"https://cdnjs.cloudflare.com/ajax/libs/mathjax/2.7.5/MathJax.js?config=TeX-AMS-MML_SVG\"></script><script type=\"text/javascript\">if (window.MathJax && window.MathJax.Hub && window.MathJax.Hub.Config) {window.MathJax.Hub.Config({SVG: {font: \"STIX-Web\"}});}</script>                <script type=\"text/javascript\">window.PlotlyConfig = {MathJaxConfig: 'local'};</script>\n",
              "        <script charset=\"utf-8\" src=\"https://cdn.plot.ly/plotly-2.24.1.min.js\"></script>                <div id=\"7ff92190-cc57-4ab4-87be-e6ff958feeec\" class=\"plotly-graph-div\" style=\"height:500px; width:600px;\"></div>            <script type=\"text/javascript\">                                    window.PLOTLYENV=window.PLOTLYENV || {};                                    if (document.getElementById(\"7ff92190-cc57-4ab4-87be-e6ff958feeec\")) {                    Plotly.newPlot(                        \"7ff92190-cc57-4ab4-87be-e6ff958feeec\",                        [{\"mode\":\"markers\",\"name\":\"Objective Value\",\"x\":[0,1,2,3,4,5,6,7,8,9,10,11,12,13,14,15,16,17,18,19,20,21,22,23,24,25,26,27,28,29,30,31,32,33,34,35,36,37,38,39,40,41,42,43,44,45,46,47,48,49],\"y\":[0.3,0.29,0.29,0.3,0.3,0.29,0.3,0.29,0.29,0.29,0.26,0.29,0.3,0.29,0.29,0.29,0.3,0.3,0.29,0.29,0.31,0.3,0.29,0.3,0.3,0.29,0.29,0.29,0.31,0.3,0.3,0.29,0.27,0.29,0.29,0.29,0.3,0.3,0.29,0.29,0.29,0.29,0.29,0.29,0.29,0.29,0.3,0.3,0.3,0.29],\"type\":\"scatter\",\"marker\":{\"color\":\"black\"}},{\"mode\":\"lines\",\"name\":\"Best Value\",\"x\":[0,1,2,3,4,5,6,7,8,9,10,11,12,13,14,15,16,17,18,19,20,21,22,23,24,25,26,27,28,29,30,31,32,33,34,35,36,37,38,39,40,41,42,43,44,45,46,47,48,49],\"y\":[0.3,0.3,0.3,0.3,0.3,0.3,0.3,0.3,0.3,0.3,0.3,0.3,0.3,0.3,0.3,0.3,0.3,0.3,0.3,0.3,0.31,0.31,0.31,0.31,0.31,0.31,0.31,0.31,0.31,0.31,0.31,0.31,0.31,0.31,0.31,0.31,0.31,0.31,0.31,0.31,0.31,0.31,0.31,0.31,0.31,0.31,0.31,0.31,0.31,0.31],\"type\":\"scatter\",\"marker\":{\"color\":\"black\"}},{\"marker\":{\"color\":\"black\"},\"mode\":\"markers\",\"name\":\"Infeasible Trial\",\"showlegend\":false,\"x\":[],\"y\":[],\"type\":\"scatter\"}],                        {\"title\":{\"text\":\"Optimization History\\u003cbr\\u003e\\u003csup\\u003elr\\u003c\\u002fsup\\u003e\",\"font\":{\"color\":\"black\",\"size\":20},\"x\":0},\"xaxis\":{\"title\":{\"text\":\"Trial\"}},\"yaxis\":{\"title\":{\"text\":\"Objective Value\"}},\"template\":{\"data\":{\"histogram2dcontour\":[{\"type\":\"histogram2dcontour\",\"colorbar\":{\"outlinewidth\":0,\"ticks\":\"\"},\"colorscale\":[[0.0,\"#0d0887\"],[0.1111111111111111,\"#46039f\"],[0.2222222222222222,\"#7201a8\"],[0.3333333333333333,\"#9c179e\"],[0.4444444444444444,\"#bd3786\"],[0.5555555555555556,\"#d8576b\"],[0.6666666666666666,\"#ed7953\"],[0.7777777777777778,\"#fb9f3a\"],[0.8888888888888888,\"#fdca26\"],[1.0,\"#f0f921\"]]}],\"choropleth\":[{\"type\":\"choropleth\",\"colorbar\":{\"outlinewidth\":0,\"ticks\":\"\"}}],\"histogram2d\":[{\"type\":\"histogram2d\",\"colorbar\":{\"outlinewidth\":0,\"ticks\":\"\"},\"colorscale\":[[0.0,\"#0d0887\"],[0.1111111111111111,\"#46039f\"],[0.2222222222222222,\"#7201a8\"],[0.3333333333333333,\"#9c179e\"],[0.4444444444444444,\"#bd3786\"],[0.5555555555555556,\"#d8576b\"],[0.6666666666666666,\"#ed7953\"],[0.7777777777777778,\"#fb9f3a\"],[0.8888888888888888,\"#fdca26\"],[1.0,\"#f0f921\"]]}],\"heatmap\":[{\"type\":\"heatmap\",\"colorbar\":{\"outlinewidth\":0,\"ticks\":\"\"},\"colorscale\":[[0.0,\"#0d0887\"],[0.1111111111111111,\"#46039f\"],[0.2222222222222222,\"#7201a8\"],[0.3333333333333333,\"#9c179e\"],[0.4444444444444444,\"#bd3786\"],[0.5555555555555556,\"#d8576b\"],[0.6666666666666666,\"#ed7953\"],[0.7777777777777778,\"#fb9f3a\"],[0.8888888888888888,\"#fdca26\"],[1.0,\"#f0f921\"]]}],\"heatmapgl\":[{\"type\":\"heatmapgl\",\"colorbar\":{\"outlinewidth\":0,\"ticks\":\"\"},\"colorscale\":[[0.0,\"#0d0887\"],[0.1111111111111111,\"#46039f\"],[0.2222222222222222,\"#7201a8\"],[0.3333333333333333,\"#9c179e\"],[0.4444444444444444,\"#bd3786\"],[0.5555555555555556,\"#d8576b\"],[0.6666666666666666,\"#ed7953\"],[0.7777777777777778,\"#fb9f3a\"],[0.8888888888888888,\"#fdca26\"],[1.0,\"#f0f921\"]]}],\"contourcarpet\":[{\"type\":\"contourcarpet\",\"colorbar\":{\"outlinewidth\":0,\"ticks\":\"\"}}],\"contour\":[{\"type\":\"contour\",\"colorbar\":{\"outlinewidth\":0,\"ticks\":\"\"},\"colorscale\":[[0.0,\"#0d0887\"],[0.1111111111111111,\"#46039f\"],[0.2222222222222222,\"#7201a8\"],[0.3333333333333333,\"#9c179e\"],[0.4444444444444444,\"#bd3786\"],[0.5555555555555556,\"#d8576b\"],[0.6666666666666666,\"#ed7953\"],[0.7777777777777778,\"#fb9f3a\"],[0.8888888888888888,\"#fdca26\"],[1.0,\"#f0f921\"]]}],\"surface\":[{\"type\":\"surface\",\"colorbar\":{\"outlinewidth\":0,\"ticks\":\"\"},\"colorscale\":[[0.0,\"#0d0887\"],[0.1111111111111111,\"#46039f\"],[0.2222222222222222,\"#7201a8\"],[0.3333333333333333,\"#9c179e\"],[0.4444444444444444,\"#bd3786\"],[0.5555555555555556,\"#d8576b\"],[0.6666666666666666,\"#ed7953\"],[0.7777777777777778,\"#fb9f3a\"],[0.8888888888888888,\"#fdca26\"],[1.0,\"#f0f921\"]]}],\"mesh3d\":[{\"type\":\"mesh3d\",\"colorbar\":{\"outlinewidth\":0,\"ticks\":\"\"}}],\"scatter\":[{\"fillpattern\":{\"fillmode\":\"overlay\",\"size\":10,\"solidity\":0.2},\"type\":\"scatter\"}],\"parcoords\":[{\"type\":\"parcoords\",\"line\":{\"colorbar\":{\"outlinewidth\":0,\"ticks\":\"\"}}}],\"scatterpolargl\":[{\"type\":\"scatterpolargl\",\"marker\":{\"colorbar\":{\"outlinewidth\":0,\"ticks\":\"\"}}}],\"bar\":[{\"error_x\":{\"color\":\"#2a3f5f\"},\"error_y\":{\"color\":\"#2a3f5f\"},\"marker\":{\"line\":{\"color\":\"#E5ECF6\",\"width\":0.5},\"pattern\":{\"fillmode\":\"overlay\",\"size\":10,\"solidity\":0.2}},\"type\":\"bar\"}],\"scattergeo\":[{\"type\":\"scattergeo\",\"marker\":{\"colorbar\":{\"outlinewidth\":0,\"ticks\":\"\"}}}],\"scatterpolar\":[{\"type\":\"scatterpolar\",\"marker\":{\"colorbar\":{\"outlinewidth\":0,\"ticks\":\"\"}}}],\"histogram\":[{\"marker\":{\"pattern\":{\"fillmode\":\"overlay\",\"size\":10,\"solidity\":0.2}},\"type\":\"histogram\"}],\"scattergl\":[{\"type\":\"scattergl\",\"marker\":{\"colorbar\":{\"outlinewidth\":0,\"ticks\":\"\"}}}],\"scatter3d\":[{\"type\":\"scatter3d\",\"line\":{\"colorbar\":{\"outlinewidth\":0,\"ticks\":\"\"}},\"marker\":{\"colorbar\":{\"outlinewidth\":0,\"ticks\":\"\"}}}],\"scattermapbox\":[{\"type\":\"scattermapbox\",\"marker\":{\"colorbar\":{\"outlinewidth\":0,\"ticks\":\"\"}}}],\"scatterternary\":[{\"type\":\"scatterternary\",\"marker\":{\"colorbar\":{\"outlinewidth\":0,\"ticks\":\"\"}}}],\"scattercarpet\":[{\"type\":\"scattercarpet\",\"marker\":{\"colorbar\":{\"outlinewidth\":0,\"ticks\":\"\"}}}],\"carpet\":[{\"aaxis\":{\"endlinecolor\":\"#2a3f5f\",\"gridcolor\":\"white\",\"linecolor\":\"white\",\"minorgridcolor\":\"white\",\"startlinecolor\":\"#2a3f5f\"},\"baxis\":{\"endlinecolor\":\"#2a3f5f\",\"gridcolor\":\"white\",\"linecolor\":\"white\",\"minorgridcolor\":\"white\",\"startlinecolor\":\"#2a3f5f\"},\"type\":\"carpet\"}],\"table\":[{\"cells\":{\"fill\":{\"color\":\"#EBF0F8\"},\"line\":{\"color\":\"white\"}},\"header\":{\"fill\":{\"color\":\"#C8D4E3\"},\"line\":{\"color\":\"white\"}},\"type\":\"table\"}],\"barpolar\":[{\"marker\":{\"line\":{\"color\":\"#E5ECF6\",\"width\":0.5},\"pattern\":{\"fillmode\":\"overlay\",\"size\":10,\"solidity\":0.2}},\"type\":\"barpolar\"}],\"pie\":[{\"automargin\":true,\"type\":\"pie\"}]},\"layout\":{\"autotypenumbers\":\"strict\",\"colorway\":[\"#636efa\",\"#EF553B\",\"#00cc96\",\"#ab63fa\",\"#FFA15A\",\"#19d3f3\",\"#FF6692\",\"#B6E880\",\"#FF97FF\",\"#FECB52\"],\"font\":{\"color\":\"#2a3f5f\"},\"hovermode\":\"closest\",\"hoverlabel\":{\"align\":\"left\"},\"paper_bgcolor\":\"white\",\"plot_bgcolor\":\"#E5ECF6\",\"polar\":{\"bgcolor\":\"#E5ECF6\",\"angularaxis\":{\"gridcolor\":\"white\",\"linecolor\":\"white\",\"ticks\":\"\"},\"radialaxis\":{\"gridcolor\":\"white\",\"linecolor\":\"white\",\"ticks\":\"\"}},\"ternary\":{\"bgcolor\":\"#E5ECF6\",\"aaxis\":{\"gridcolor\":\"white\",\"linecolor\":\"white\",\"ticks\":\"\"},\"baxis\":{\"gridcolor\":\"white\",\"linecolor\":\"white\",\"ticks\":\"\"},\"caxis\":{\"gridcolor\":\"white\",\"linecolor\":\"white\",\"ticks\":\"\"}},\"coloraxis\":{\"colorbar\":{\"outlinewidth\":0,\"ticks\":\"\"}},\"colorscale\":{\"sequential\":[[0.0,\"#0d0887\"],[0.1111111111111111,\"#46039f\"],[0.2222222222222222,\"#7201a8\"],[0.3333333333333333,\"#9c179e\"],[0.4444444444444444,\"#bd3786\"],[0.5555555555555556,\"#d8576b\"],[0.6666666666666666,\"#ed7953\"],[0.7777777777777778,\"#fb9f3a\"],[0.8888888888888888,\"#fdca26\"],[1.0,\"#f0f921\"]],\"sequentialminus\":[[0.0,\"#0d0887\"],[0.1111111111111111,\"#46039f\"],[0.2222222222222222,\"#7201a8\"],[0.3333333333333333,\"#9c179e\"],[0.4444444444444444,\"#bd3786\"],[0.5555555555555556,\"#d8576b\"],[0.6666666666666666,\"#ed7953\"],[0.7777777777777778,\"#fb9f3a\"],[0.8888888888888888,\"#fdca26\"],[1.0,\"#f0f921\"]],\"diverging\":[[0,\"#8e0152\"],[0.1,\"#c51b7d\"],[0.2,\"#de77ae\"],[0.3,\"#f1b6da\"],[0.4,\"#fde0ef\"],[0.5,\"#f7f7f7\"],[0.6,\"#e6f5d0\"],[0.7,\"#b8e186\"],[0.8,\"#7fbc41\"],[0.9,\"#4d9221\"],[1,\"#276419\"]]},\"xaxis\":{\"gridcolor\":\"white\",\"linecolor\":\"white\",\"ticks\":\"\",\"title\":{\"standoff\":15},\"zerolinecolor\":\"white\",\"automargin\":true,\"zerolinewidth\":2},\"yaxis\":{\"gridcolor\":\"white\",\"linecolor\":\"white\",\"ticks\":\"\",\"title\":{\"standoff\":15},\"zerolinecolor\":\"white\",\"automargin\":true,\"zerolinewidth\":2},\"scene\":{\"xaxis\":{\"backgroundcolor\":\"#E5ECF6\",\"gridcolor\":\"white\",\"linecolor\":\"white\",\"showbackground\":true,\"ticks\":\"\",\"zerolinecolor\":\"white\",\"gridwidth\":2},\"yaxis\":{\"backgroundcolor\":\"#E5ECF6\",\"gridcolor\":\"white\",\"linecolor\":\"white\",\"showbackground\":true,\"ticks\":\"\",\"zerolinecolor\":\"white\",\"gridwidth\":2},\"zaxis\":{\"backgroundcolor\":\"#E5ECF6\",\"gridcolor\":\"white\",\"linecolor\":\"white\",\"showbackground\":true,\"ticks\":\"\",\"zerolinecolor\":\"white\",\"gridwidth\":2}},\"shapedefaults\":{\"line\":{\"color\":\"#2a3f5f\"}},\"annotationdefaults\":{\"arrowcolor\":\"#2a3f5f\",\"arrowhead\":0,\"arrowwidth\":1},\"geo\":{\"bgcolor\":\"white\",\"landcolor\":\"#E5ECF6\",\"subunitcolor\":\"white\",\"showland\":true,\"showlakes\":true,\"lakecolor\":\"white\"},\"title\":{\"x\":0.05},\"mapbox\":{\"style\":\"light\"}}},\"font\":{\"family\":\"Times New Roman\"},\"plot_bgcolor\":\"rgba(0,0,0,0)\",\"paper_bgcolor\":\"rgba(0,0,0,0)\",\"width\":600,\"height\":500},                        {\"responsive\": true}                    ).then(function(){\n",
              "                            \n",
              "var gd = document.getElementById('7ff92190-cc57-4ab4-87be-e6ff958feeec');\n",
              "var x = new MutationObserver(function (mutations, observer) {{\n",
              "        var display = window.getComputedStyle(gd).display;\n",
              "        if (!display || display === 'none') {{\n",
              "            console.log([gd, 'removed!']);\n",
              "            Plotly.purge(gd);\n",
              "            observer.disconnect();\n",
              "        }}\n",
              "}});\n",
              "\n",
              "// Listen for the removal of the full notebook cells\n",
              "var notebookContainer = gd.closest('#notebook-container');\n",
              "if (notebookContainer) {{\n",
              "    x.observe(notebookContainer, {childList: true});\n",
              "}}\n",
              "\n",
              "// Listen for the clearing of the current output cell\n",
              "var outputEl = gd.closest('.output');\n",
              "if (outputEl) {{\n",
              "    x.observe(outputEl, {childList: true});\n",
              "}}\n",
              "\n",
              "                        })                };                            </script>        </div>\n",
              "</body>\n",
              "</html>"
            ]
          },
          "metadata": {}
        },
        {
          "output_type": "display_data",
          "data": {
            "text/html": [
              "<html>\n",
              "<head><meta charset=\"utf-8\" /></head>\n",
              "<body>\n",
              "    <div>            <script src=\"https://cdnjs.cloudflare.com/ajax/libs/mathjax/2.7.5/MathJax.js?config=TeX-AMS-MML_SVG\"></script><script type=\"text/javascript\">if (window.MathJax && window.MathJax.Hub && window.MathJax.Hub.Config) {window.MathJax.Hub.Config({SVG: {font: \"STIX-Web\"}});}</script>                <script type=\"text/javascript\">window.PlotlyConfig = {MathJaxConfig: 'local'};</script>\n",
              "        <script charset=\"utf-8\" src=\"https://cdn.plot.ly/plotly-2.24.1.min.js\"></script>                <div id=\"85dfa2e1-8771-4326-97ac-bb5bc9fd0391\" class=\"plotly-graph-div\" style=\"height:500px; width:600px;\"></div>            <script type=\"text/javascript\">                                    window.PLOTLYENV=window.PLOTLYENV || {};                                    if (document.getElementById(\"85dfa2e1-8771-4326-97ac-bb5bc9fd0391\")) {                    Plotly.newPlot(                        \"85dfa2e1-8771-4326-97ac-bb5bc9fd0391\",                        [{\"cliponaxis\":false,\"hovertemplate\":[\"C (FloatDistribution): 1.0\\u003cextra\\u003e\\u003c\\u002fextra\\u003e\"],\"name\":\"Objective Value\",\"orientation\":\"h\",\"text\":[\"1.00\"],\"textposition\":\"outside\",\"x\":[1.0],\"y\":[\"C\"],\"type\":\"bar\",\"marker\":{\"color\":\"black\"}}],                        {\"title\":{\"text\":\"Hyperparameters Importance\\u003cbr\\u003e\\u003csup\\u003elr\\u003c\\u002fsup\\u003e\",\"font\":{\"color\":\"black\",\"size\":20},\"x\":0},\"xaxis\":{\"title\":{\"text\":\"Hyperparameter Importance\"}},\"yaxis\":{\"title\":{\"text\":\"Hyperparameter\"}},\"template\":{\"data\":{\"histogram2dcontour\":[{\"type\":\"histogram2dcontour\",\"colorbar\":{\"outlinewidth\":0,\"ticks\":\"\"},\"colorscale\":[[0.0,\"#0d0887\"],[0.1111111111111111,\"#46039f\"],[0.2222222222222222,\"#7201a8\"],[0.3333333333333333,\"#9c179e\"],[0.4444444444444444,\"#bd3786\"],[0.5555555555555556,\"#d8576b\"],[0.6666666666666666,\"#ed7953\"],[0.7777777777777778,\"#fb9f3a\"],[0.8888888888888888,\"#fdca26\"],[1.0,\"#f0f921\"]]}],\"choropleth\":[{\"type\":\"choropleth\",\"colorbar\":{\"outlinewidth\":0,\"ticks\":\"\"}}],\"histogram2d\":[{\"type\":\"histogram2d\",\"colorbar\":{\"outlinewidth\":0,\"ticks\":\"\"},\"colorscale\":[[0.0,\"#0d0887\"],[0.1111111111111111,\"#46039f\"],[0.2222222222222222,\"#7201a8\"],[0.3333333333333333,\"#9c179e\"],[0.4444444444444444,\"#bd3786\"],[0.5555555555555556,\"#d8576b\"],[0.6666666666666666,\"#ed7953\"],[0.7777777777777778,\"#fb9f3a\"],[0.8888888888888888,\"#fdca26\"],[1.0,\"#f0f921\"]]}],\"heatmap\":[{\"type\":\"heatmap\",\"colorbar\":{\"outlinewidth\":0,\"ticks\":\"\"},\"colorscale\":[[0.0,\"#0d0887\"],[0.1111111111111111,\"#46039f\"],[0.2222222222222222,\"#7201a8\"],[0.3333333333333333,\"#9c179e\"],[0.4444444444444444,\"#bd3786\"],[0.5555555555555556,\"#d8576b\"],[0.6666666666666666,\"#ed7953\"],[0.7777777777777778,\"#fb9f3a\"],[0.8888888888888888,\"#fdca26\"],[1.0,\"#f0f921\"]]}],\"heatmapgl\":[{\"type\":\"heatmapgl\",\"colorbar\":{\"outlinewidth\":0,\"ticks\":\"\"},\"colorscale\":[[0.0,\"#0d0887\"],[0.1111111111111111,\"#46039f\"],[0.2222222222222222,\"#7201a8\"],[0.3333333333333333,\"#9c179e\"],[0.4444444444444444,\"#bd3786\"],[0.5555555555555556,\"#d8576b\"],[0.6666666666666666,\"#ed7953\"],[0.7777777777777778,\"#fb9f3a\"],[0.8888888888888888,\"#fdca26\"],[1.0,\"#f0f921\"]]}],\"contourcarpet\":[{\"type\":\"contourcarpet\",\"colorbar\":{\"outlinewidth\":0,\"ticks\":\"\"}}],\"contour\":[{\"type\":\"contour\",\"colorbar\":{\"outlinewidth\":0,\"ticks\":\"\"},\"colorscale\":[[0.0,\"#0d0887\"],[0.1111111111111111,\"#46039f\"],[0.2222222222222222,\"#7201a8\"],[0.3333333333333333,\"#9c179e\"],[0.4444444444444444,\"#bd3786\"],[0.5555555555555556,\"#d8576b\"],[0.6666666666666666,\"#ed7953\"],[0.7777777777777778,\"#fb9f3a\"],[0.8888888888888888,\"#fdca26\"],[1.0,\"#f0f921\"]]}],\"surface\":[{\"type\":\"surface\",\"colorbar\":{\"outlinewidth\":0,\"ticks\":\"\"},\"colorscale\":[[0.0,\"#0d0887\"],[0.1111111111111111,\"#46039f\"],[0.2222222222222222,\"#7201a8\"],[0.3333333333333333,\"#9c179e\"],[0.4444444444444444,\"#bd3786\"],[0.5555555555555556,\"#d8576b\"],[0.6666666666666666,\"#ed7953\"],[0.7777777777777778,\"#fb9f3a\"],[0.8888888888888888,\"#fdca26\"],[1.0,\"#f0f921\"]]}],\"mesh3d\":[{\"type\":\"mesh3d\",\"colorbar\":{\"outlinewidth\":0,\"ticks\":\"\"}}],\"scatter\":[{\"fillpattern\":{\"fillmode\":\"overlay\",\"size\":10,\"solidity\":0.2},\"type\":\"scatter\"}],\"parcoords\":[{\"type\":\"parcoords\",\"line\":{\"colorbar\":{\"outlinewidth\":0,\"ticks\":\"\"}}}],\"scatterpolargl\":[{\"type\":\"scatterpolargl\",\"marker\":{\"colorbar\":{\"outlinewidth\":0,\"ticks\":\"\"}}}],\"bar\":[{\"error_x\":{\"color\":\"#2a3f5f\"},\"error_y\":{\"color\":\"#2a3f5f\"},\"marker\":{\"line\":{\"color\":\"#E5ECF6\",\"width\":0.5},\"pattern\":{\"fillmode\":\"overlay\",\"size\":10,\"solidity\":0.2}},\"type\":\"bar\"}],\"scattergeo\":[{\"type\":\"scattergeo\",\"marker\":{\"colorbar\":{\"outlinewidth\":0,\"ticks\":\"\"}}}],\"scatterpolar\":[{\"type\":\"scatterpolar\",\"marker\":{\"colorbar\":{\"outlinewidth\":0,\"ticks\":\"\"}}}],\"histogram\":[{\"marker\":{\"pattern\":{\"fillmode\":\"overlay\",\"size\":10,\"solidity\":0.2}},\"type\":\"histogram\"}],\"scattergl\":[{\"type\":\"scattergl\",\"marker\":{\"colorbar\":{\"outlinewidth\":0,\"ticks\":\"\"}}}],\"scatter3d\":[{\"type\":\"scatter3d\",\"line\":{\"colorbar\":{\"outlinewidth\":0,\"ticks\":\"\"}},\"marker\":{\"colorbar\":{\"outlinewidth\":0,\"ticks\":\"\"}}}],\"scattermapbox\":[{\"type\":\"scattermapbox\",\"marker\":{\"colorbar\":{\"outlinewidth\":0,\"ticks\":\"\"}}}],\"scatterternary\":[{\"type\":\"scatterternary\",\"marker\":{\"colorbar\":{\"outlinewidth\":0,\"ticks\":\"\"}}}],\"scattercarpet\":[{\"type\":\"scattercarpet\",\"marker\":{\"colorbar\":{\"outlinewidth\":0,\"ticks\":\"\"}}}],\"carpet\":[{\"aaxis\":{\"endlinecolor\":\"#2a3f5f\",\"gridcolor\":\"white\",\"linecolor\":\"white\",\"minorgridcolor\":\"white\",\"startlinecolor\":\"#2a3f5f\"},\"baxis\":{\"endlinecolor\":\"#2a3f5f\",\"gridcolor\":\"white\",\"linecolor\":\"white\",\"minorgridcolor\":\"white\",\"startlinecolor\":\"#2a3f5f\"},\"type\":\"carpet\"}],\"table\":[{\"cells\":{\"fill\":{\"color\":\"#EBF0F8\"},\"line\":{\"color\":\"white\"}},\"header\":{\"fill\":{\"color\":\"#C8D4E3\"},\"line\":{\"color\":\"white\"}},\"type\":\"table\"}],\"barpolar\":[{\"marker\":{\"line\":{\"color\":\"#E5ECF6\",\"width\":0.5},\"pattern\":{\"fillmode\":\"overlay\",\"size\":10,\"solidity\":0.2}},\"type\":\"barpolar\"}],\"pie\":[{\"automargin\":true,\"type\":\"pie\"}]},\"layout\":{\"autotypenumbers\":\"strict\",\"colorway\":[\"#636efa\",\"#EF553B\",\"#00cc96\",\"#ab63fa\",\"#FFA15A\",\"#19d3f3\",\"#FF6692\",\"#B6E880\",\"#FF97FF\",\"#FECB52\"],\"font\":{\"color\":\"#2a3f5f\"},\"hovermode\":\"closest\",\"hoverlabel\":{\"align\":\"left\"},\"paper_bgcolor\":\"white\",\"plot_bgcolor\":\"#E5ECF6\",\"polar\":{\"bgcolor\":\"#E5ECF6\",\"angularaxis\":{\"gridcolor\":\"white\",\"linecolor\":\"white\",\"ticks\":\"\"},\"radialaxis\":{\"gridcolor\":\"white\",\"linecolor\":\"white\",\"ticks\":\"\"}},\"ternary\":{\"bgcolor\":\"#E5ECF6\",\"aaxis\":{\"gridcolor\":\"white\",\"linecolor\":\"white\",\"ticks\":\"\"},\"baxis\":{\"gridcolor\":\"white\",\"linecolor\":\"white\",\"ticks\":\"\"},\"caxis\":{\"gridcolor\":\"white\",\"linecolor\":\"white\",\"ticks\":\"\"}},\"coloraxis\":{\"colorbar\":{\"outlinewidth\":0,\"ticks\":\"\"}},\"colorscale\":{\"sequential\":[[0.0,\"#0d0887\"],[0.1111111111111111,\"#46039f\"],[0.2222222222222222,\"#7201a8\"],[0.3333333333333333,\"#9c179e\"],[0.4444444444444444,\"#bd3786\"],[0.5555555555555556,\"#d8576b\"],[0.6666666666666666,\"#ed7953\"],[0.7777777777777778,\"#fb9f3a\"],[0.8888888888888888,\"#fdca26\"],[1.0,\"#f0f921\"]],\"sequentialminus\":[[0.0,\"#0d0887\"],[0.1111111111111111,\"#46039f\"],[0.2222222222222222,\"#7201a8\"],[0.3333333333333333,\"#9c179e\"],[0.4444444444444444,\"#bd3786\"],[0.5555555555555556,\"#d8576b\"],[0.6666666666666666,\"#ed7953\"],[0.7777777777777778,\"#fb9f3a\"],[0.8888888888888888,\"#fdca26\"],[1.0,\"#f0f921\"]],\"diverging\":[[0,\"#8e0152\"],[0.1,\"#c51b7d\"],[0.2,\"#de77ae\"],[0.3,\"#f1b6da\"],[0.4,\"#fde0ef\"],[0.5,\"#f7f7f7\"],[0.6,\"#e6f5d0\"],[0.7,\"#b8e186\"],[0.8,\"#7fbc41\"],[0.9,\"#4d9221\"],[1,\"#276419\"]]},\"xaxis\":{\"gridcolor\":\"white\",\"linecolor\":\"white\",\"ticks\":\"\",\"title\":{\"standoff\":15},\"zerolinecolor\":\"white\",\"automargin\":true,\"zerolinewidth\":2},\"yaxis\":{\"gridcolor\":\"white\",\"linecolor\":\"white\",\"ticks\":\"\",\"title\":{\"standoff\":15},\"zerolinecolor\":\"white\",\"automargin\":true,\"zerolinewidth\":2},\"scene\":{\"xaxis\":{\"backgroundcolor\":\"#E5ECF6\",\"gridcolor\":\"white\",\"linecolor\":\"white\",\"showbackground\":true,\"ticks\":\"\",\"zerolinecolor\":\"white\",\"gridwidth\":2},\"yaxis\":{\"backgroundcolor\":\"#E5ECF6\",\"gridcolor\":\"white\",\"linecolor\":\"white\",\"showbackground\":true,\"ticks\":\"\",\"zerolinecolor\":\"white\",\"gridwidth\":2},\"zaxis\":{\"backgroundcolor\":\"#E5ECF6\",\"gridcolor\":\"white\",\"linecolor\":\"white\",\"showbackground\":true,\"ticks\":\"\",\"zerolinecolor\":\"white\",\"gridwidth\":2}},\"shapedefaults\":{\"line\":{\"color\":\"#2a3f5f\"}},\"annotationdefaults\":{\"arrowcolor\":\"#2a3f5f\",\"arrowhead\":0,\"arrowwidth\":1},\"geo\":{\"bgcolor\":\"white\",\"landcolor\":\"#E5ECF6\",\"subunitcolor\":\"white\",\"showland\":true,\"showlakes\":true,\"lakecolor\":\"white\"},\"title\":{\"x\":0.05},\"mapbox\":{\"style\":\"light\"}}},\"font\":{\"family\":\"Times New Roman\"},\"plot_bgcolor\":\"rgba(0,0,0,0)\",\"paper_bgcolor\":\"rgba(0,0,0,0)\",\"width\":600,\"height\":500},                        {\"responsive\": true}                    ).then(function(){\n",
              "                            \n",
              "var gd = document.getElementById('85dfa2e1-8771-4326-97ac-bb5bc9fd0391');\n",
              "var x = new MutationObserver(function (mutations, observer) {{\n",
              "        var display = window.getComputedStyle(gd).display;\n",
              "        if (!display || display === 'none') {{\n",
              "            console.log([gd, 'removed!']);\n",
              "            Plotly.purge(gd);\n",
              "            observer.disconnect();\n",
              "        }}\n",
              "}});\n",
              "\n",
              "// Listen for the removal of the full notebook cells\n",
              "var notebookContainer = gd.closest('#notebook-container');\n",
              "if (notebookContainer) {{\n",
              "    x.observe(notebookContainer, {childList: true});\n",
              "}}\n",
              "\n",
              "// Listen for the clearing of the current output cell\n",
              "var outputEl = gd.closest('.output');\n",
              "if (outputEl) {{\n",
              "    x.observe(outputEl, {childList: true});\n",
              "}}\n",
              "\n",
              "                        })                };                            </script>        </div>\n",
              "</body>\n",
              "</html>"
            ]
          },
          "metadata": {}
        },
        {
          "output_type": "stream",
          "name": "stdout",
          "text": [
            "----------------------------------------------------------------------\n",
            "xgb\n",
            "Best hyperparameters for xgb: {'n_estimators': 86, 'max_depth': 6, 'learning_rate': 0.06879840405876046}\n",
            "Best objective value for xgb: 0.62\n"
          ]
        },
        {
          "output_type": "display_data",
          "data": {
            "text/html": [
              "<html>\n",
              "<head><meta charset=\"utf-8\" /></head>\n",
              "<body>\n",
              "    <div>            <script src=\"https://cdnjs.cloudflare.com/ajax/libs/mathjax/2.7.5/MathJax.js?config=TeX-AMS-MML_SVG\"></script><script type=\"text/javascript\">if (window.MathJax && window.MathJax.Hub && window.MathJax.Hub.Config) {window.MathJax.Hub.Config({SVG: {font: \"STIX-Web\"}});}</script>                <script type=\"text/javascript\">window.PlotlyConfig = {MathJaxConfig: 'local'};</script>\n",
              "        <script charset=\"utf-8\" src=\"https://cdn.plot.ly/plotly-2.24.1.min.js\"></script>                <div id=\"8080eaf4-fdae-486a-a15e-eb63d1bc51f8\" class=\"plotly-graph-div\" style=\"height:500px; width:600px;\"></div>            <script type=\"text/javascript\">                                    window.PLOTLYENV=window.PLOTLYENV || {};                                    if (document.getElementById(\"8080eaf4-fdae-486a-a15e-eb63d1bc51f8\")) {                    Plotly.newPlot(                        \"8080eaf4-fdae-486a-a15e-eb63d1bc51f8\",                        [{\"mode\":\"markers\",\"name\":\"Objective Value\",\"x\":[0,1,2,3,4,5,6,7,8,9,10,11,12,13,14,15,16,17,18,19,20,21,22,23,24,25,26,27,28,29,30,31,32,33,34,35,36,37,38,39,40,41,42,43,44,45,46,47,48,49],\"y\":[0.54,0.6,0.58,0.59,0.57,0.59,0.57,0.61,0.53,0.58,0.59,0.57,0.62,0.59,0.59,0.59,0.56,0.61,0.6,0.59,0.57,0.58,0.57,0.57,0.61,0.57,0.57,0.57,0.6,0.6,0.55,0.61,0.57,0.6,0.59,0.6,0.59,0.59,0.62,0.58,0.6,0.59,0.59,0.61,0.61,0.61,0.6,0.6,0.59,0.6],\"type\":\"scatter\",\"marker\":{\"color\":\"black\"}},{\"mode\":\"lines\",\"name\":\"Best Value\",\"x\":[0,1,2,3,4,5,6,7,8,9,10,11,12,13,14,15,16,17,18,19,20,21,22,23,24,25,26,27,28,29,30,31,32,33,34,35,36,37,38,39,40,41,42,43,44,45,46,47,48,49],\"y\":[0.54,0.6,0.6,0.6,0.6,0.6,0.6,0.61,0.61,0.61,0.61,0.61,0.62,0.62,0.62,0.62,0.62,0.62,0.62,0.62,0.62,0.62,0.62,0.62,0.62,0.62,0.62,0.62,0.62,0.62,0.62,0.62,0.62,0.62,0.62,0.62,0.62,0.62,0.62,0.62,0.62,0.62,0.62,0.62,0.62,0.62,0.62,0.62,0.62,0.62],\"type\":\"scatter\",\"marker\":{\"color\":\"black\"}},{\"marker\":{\"color\":\"black\"},\"mode\":\"markers\",\"name\":\"Infeasible Trial\",\"showlegend\":false,\"x\":[],\"y\":[],\"type\":\"scatter\"}],                        {\"title\":{\"text\":\"Optimization History\\u003cbr\\u003e\\u003csup\\u003exgb\\u003c\\u002fsup\\u003e\",\"font\":{\"color\":\"black\",\"size\":20},\"x\":0},\"xaxis\":{\"title\":{\"text\":\"Trial\"}},\"yaxis\":{\"title\":{\"text\":\"Objective Value\"}},\"template\":{\"data\":{\"histogram2dcontour\":[{\"type\":\"histogram2dcontour\",\"colorbar\":{\"outlinewidth\":0,\"ticks\":\"\"},\"colorscale\":[[0.0,\"#0d0887\"],[0.1111111111111111,\"#46039f\"],[0.2222222222222222,\"#7201a8\"],[0.3333333333333333,\"#9c179e\"],[0.4444444444444444,\"#bd3786\"],[0.5555555555555556,\"#d8576b\"],[0.6666666666666666,\"#ed7953\"],[0.7777777777777778,\"#fb9f3a\"],[0.8888888888888888,\"#fdca26\"],[1.0,\"#f0f921\"]]}],\"choropleth\":[{\"type\":\"choropleth\",\"colorbar\":{\"outlinewidth\":0,\"ticks\":\"\"}}],\"histogram2d\":[{\"type\":\"histogram2d\",\"colorbar\":{\"outlinewidth\":0,\"ticks\":\"\"},\"colorscale\":[[0.0,\"#0d0887\"],[0.1111111111111111,\"#46039f\"],[0.2222222222222222,\"#7201a8\"],[0.3333333333333333,\"#9c179e\"],[0.4444444444444444,\"#bd3786\"],[0.5555555555555556,\"#d8576b\"],[0.6666666666666666,\"#ed7953\"],[0.7777777777777778,\"#fb9f3a\"],[0.8888888888888888,\"#fdca26\"],[1.0,\"#f0f921\"]]}],\"heatmap\":[{\"type\":\"heatmap\",\"colorbar\":{\"outlinewidth\":0,\"ticks\":\"\"},\"colorscale\":[[0.0,\"#0d0887\"],[0.1111111111111111,\"#46039f\"],[0.2222222222222222,\"#7201a8\"],[0.3333333333333333,\"#9c179e\"],[0.4444444444444444,\"#bd3786\"],[0.5555555555555556,\"#d8576b\"],[0.6666666666666666,\"#ed7953\"],[0.7777777777777778,\"#fb9f3a\"],[0.8888888888888888,\"#fdca26\"],[1.0,\"#f0f921\"]]}],\"heatmapgl\":[{\"type\":\"heatmapgl\",\"colorbar\":{\"outlinewidth\":0,\"ticks\":\"\"},\"colorscale\":[[0.0,\"#0d0887\"],[0.1111111111111111,\"#46039f\"],[0.2222222222222222,\"#7201a8\"],[0.3333333333333333,\"#9c179e\"],[0.4444444444444444,\"#bd3786\"],[0.5555555555555556,\"#d8576b\"],[0.6666666666666666,\"#ed7953\"],[0.7777777777777778,\"#fb9f3a\"],[0.8888888888888888,\"#fdca26\"],[1.0,\"#f0f921\"]]}],\"contourcarpet\":[{\"type\":\"contourcarpet\",\"colorbar\":{\"outlinewidth\":0,\"ticks\":\"\"}}],\"contour\":[{\"type\":\"contour\",\"colorbar\":{\"outlinewidth\":0,\"ticks\":\"\"},\"colorscale\":[[0.0,\"#0d0887\"],[0.1111111111111111,\"#46039f\"],[0.2222222222222222,\"#7201a8\"],[0.3333333333333333,\"#9c179e\"],[0.4444444444444444,\"#bd3786\"],[0.5555555555555556,\"#d8576b\"],[0.6666666666666666,\"#ed7953\"],[0.7777777777777778,\"#fb9f3a\"],[0.8888888888888888,\"#fdca26\"],[1.0,\"#f0f921\"]]}],\"surface\":[{\"type\":\"surface\",\"colorbar\":{\"outlinewidth\":0,\"ticks\":\"\"},\"colorscale\":[[0.0,\"#0d0887\"],[0.1111111111111111,\"#46039f\"],[0.2222222222222222,\"#7201a8\"],[0.3333333333333333,\"#9c179e\"],[0.4444444444444444,\"#bd3786\"],[0.5555555555555556,\"#d8576b\"],[0.6666666666666666,\"#ed7953\"],[0.7777777777777778,\"#fb9f3a\"],[0.8888888888888888,\"#fdca26\"],[1.0,\"#f0f921\"]]}],\"mesh3d\":[{\"type\":\"mesh3d\",\"colorbar\":{\"outlinewidth\":0,\"ticks\":\"\"}}],\"scatter\":[{\"fillpattern\":{\"fillmode\":\"overlay\",\"size\":10,\"solidity\":0.2},\"type\":\"scatter\"}],\"parcoords\":[{\"type\":\"parcoords\",\"line\":{\"colorbar\":{\"outlinewidth\":0,\"ticks\":\"\"}}}],\"scatterpolargl\":[{\"type\":\"scatterpolargl\",\"marker\":{\"colorbar\":{\"outlinewidth\":0,\"ticks\":\"\"}}}],\"bar\":[{\"error_x\":{\"color\":\"#2a3f5f\"},\"error_y\":{\"color\":\"#2a3f5f\"},\"marker\":{\"line\":{\"color\":\"#E5ECF6\",\"width\":0.5},\"pattern\":{\"fillmode\":\"overlay\",\"size\":10,\"solidity\":0.2}},\"type\":\"bar\"}],\"scattergeo\":[{\"type\":\"scattergeo\",\"marker\":{\"colorbar\":{\"outlinewidth\":0,\"ticks\":\"\"}}}],\"scatterpolar\":[{\"type\":\"scatterpolar\",\"marker\":{\"colorbar\":{\"outlinewidth\":0,\"ticks\":\"\"}}}],\"histogram\":[{\"marker\":{\"pattern\":{\"fillmode\":\"overlay\",\"size\":10,\"solidity\":0.2}},\"type\":\"histogram\"}],\"scattergl\":[{\"type\":\"scattergl\",\"marker\":{\"colorbar\":{\"outlinewidth\":0,\"ticks\":\"\"}}}],\"scatter3d\":[{\"type\":\"scatter3d\",\"line\":{\"colorbar\":{\"outlinewidth\":0,\"ticks\":\"\"}},\"marker\":{\"colorbar\":{\"outlinewidth\":0,\"ticks\":\"\"}}}],\"scattermapbox\":[{\"type\":\"scattermapbox\",\"marker\":{\"colorbar\":{\"outlinewidth\":0,\"ticks\":\"\"}}}],\"scatterternary\":[{\"type\":\"scatterternary\",\"marker\":{\"colorbar\":{\"outlinewidth\":0,\"ticks\":\"\"}}}],\"scattercarpet\":[{\"type\":\"scattercarpet\",\"marker\":{\"colorbar\":{\"outlinewidth\":0,\"ticks\":\"\"}}}],\"carpet\":[{\"aaxis\":{\"endlinecolor\":\"#2a3f5f\",\"gridcolor\":\"white\",\"linecolor\":\"white\",\"minorgridcolor\":\"white\",\"startlinecolor\":\"#2a3f5f\"},\"baxis\":{\"endlinecolor\":\"#2a3f5f\",\"gridcolor\":\"white\",\"linecolor\":\"white\",\"minorgridcolor\":\"white\",\"startlinecolor\":\"#2a3f5f\"},\"type\":\"carpet\"}],\"table\":[{\"cells\":{\"fill\":{\"color\":\"#EBF0F8\"},\"line\":{\"color\":\"white\"}},\"header\":{\"fill\":{\"color\":\"#C8D4E3\"},\"line\":{\"color\":\"white\"}},\"type\":\"table\"}],\"barpolar\":[{\"marker\":{\"line\":{\"color\":\"#E5ECF6\",\"width\":0.5},\"pattern\":{\"fillmode\":\"overlay\",\"size\":10,\"solidity\":0.2}},\"type\":\"barpolar\"}],\"pie\":[{\"automargin\":true,\"type\":\"pie\"}]},\"layout\":{\"autotypenumbers\":\"strict\",\"colorway\":[\"#636efa\",\"#EF553B\",\"#00cc96\",\"#ab63fa\",\"#FFA15A\",\"#19d3f3\",\"#FF6692\",\"#B6E880\",\"#FF97FF\",\"#FECB52\"],\"font\":{\"color\":\"#2a3f5f\"},\"hovermode\":\"closest\",\"hoverlabel\":{\"align\":\"left\"},\"paper_bgcolor\":\"white\",\"plot_bgcolor\":\"#E5ECF6\",\"polar\":{\"bgcolor\":\"#E5ECF6\",\"angularaxis\":{\"gridcolor\":\"white\",\"linecolor\":\"white\",\"ticks\":\"\"},\"radialaxis\":{\"gridcolor\":\"white\",\"linecolor\":\"white\",\"ticks\":\"\"}},\"ternary\":{\"bgcolor\":\"#E5ECF6\",\"aaxis\":{\"gridcolor\":\"white\",\"linecolor\":\"white\",\"ticks\":\"\"},\"baxis\":{\"gridcolor\":\"white\",\"linecolor\":\"white\",\"ticks\":\"\"},\"caxis\":{\"gridcolor\":\"white\",\"linecolor\":\"white\",\"ticks\":\"\"}},\"coloraxis\":{\"colorbar\":{\"outlinewidth\":0,\"ticks\":\"\"}},\"colorscale\":{\"sequential\":[[0.0,\"#0d0887\"],[0.1111111111111111,\"#46039f\"],[0.2222222222222222,\"#7201a8\"],[0.3333333333333333,\"#9c179e\"],[0.4444444444444444,\"#bd3786\"],[0.5555555555555556,\"#d8576b\"],[0.6666666666666666,\"#ed7953\"],[0.7777777777777778,\"#fb9f3a\"],[0.8888888888888888,\"#fdca26\"],[1.0,\"#f0f921\"]],\"sequentialminus\":[[0.0,\"#0d0887\"],[0.1111111111111111,\"#46039f\"],[0.2222222222222222,\"#7201a8\"],[0.3333333333333333,\"#9c179e\"],[0.4444444444444444,\"#bd3786\"],[0.5555555555555556,\"#d8576b\"],[0.6666666666666666,\"#ed7953\"],[0.7777777777777778,\"#fb9f3a\"],[0.8888888888888888,\"#fdca26\"],[1.0,\"#f0f921\"]],\"diverging\":[[0,\"#8e0152\"],[0.1,\"#c51b7d\"],[0.2,\"#de77ae\"],[0.3,\"#f1b6da\"],[0.4,\"#fde0ef\"],[0.5,\"#f7f7f7\"],[0.6,\"#e6f5d0\"],[0.7,\"#b8e186\"],[0.8,\"#7fbc41\"],[0.9,\"#4d9221\"],[1,\"#276419\"]]},\"xaxis\":{\"gridcolor\":\"white\",\"linecolor\":\"white\",\"ticks\":\"\",\"title\":{\"standoff\":15},\"zerolinecolor\":\"white\",\"automargin\":true,\"zerolinewidth\":2},\"yaxis\":{\"gridcolor\":\"white\",\"linecolor\":\"white\",\"ticks\":\"\",\"title\":{\"standoff\":15},\"zerolinecolor\":\"white\",\"automargin\":true,\"zerolinewidth\":2},\"scene\":{\"xaxis\":{\"backgroundcolor\":\"#E5ECF6\",\"gridcolor\":\"white\",\"linecolor\":\"white\",\"showbackground\":true,\"ticks\":\"\",\"zerolinecolor\":\"white\",\"gridwidth\":2},\"yaxis\":{\"backgroundcolor\":\"#E5ECF6\",\"gridcolor\":\"white\",\"linecolor\":\"white\",\"showbackground\":true,\"ticks\":\"\",\"zerolinecolor\":\"white\",\"gridwidth\":2},\"zaxis\":{\"backgroundcolor\":\"#E5ECF6\",\"gridcolor\":\"white\",\"linecolor\":\"white\",\"showbackground\":true,\"ticks\":\"\",\"zerolinecolor\":\"white\",\"gridwidth\":2}},\"shapedefaults\":{\"line\":{\"color\":\"#2a3f5f\"}},\"annotationdefaults\":{\"arrowcolor\":\"#2a3f5f\",\"arrowhead\":0,\"arrowwidth\":1},\"geo\":{\"bgcolor\":\"white\",\"landcolor\":\"#E5ECF6\",\"subunitcolor\":\"white\",\"showland\":true,\"showlakes\":true,\"lakecolor\":\"white\"},\"title\":{\"x\":0.05},\"mapbox\":{\"style\":\"light\"}}},\"font\":{\"family\":\"Times New Roman\"},\"plot_bgcolor\":\"rgba(0,0,0,0)\",\"paper_bgcolor\":\"rgba(0,0,0,0)\",\"width\":600,\"height\":500},                        {\"responsive\": true}                    ).then(function(){\n",
              "                            \n",
              "var gd = document.getElementById('8080eaf4-fdae-486a-a15e-eb63d1bc51f8');\n",
              "var x = new MutationObserver(function (mutations, observer) {{\n",
              "        var display = window.getComputedStyle(gd).display;\n",
              "        if (!display || display === 'none') {{\n",
              "            console.log([gd, 'removed!']);\n",
              "            Plotly.purge(gd);\n",
              "            observer.disconnect();\n",
              "        }}\n",
              "}});\n",
              "\n",
              "// Listen for the removal of the full notebook cells\n",
              "var notebookContainer = gd.closest('#notebook-container');\n",
              "if (notebookContainer) {{\n",
              "    x.observe(notebookContainer, {childList: true});\n",
              "}}\n",
              "\n",
              "// Listen for the clearing of the current output cell\n",
              "var outputEl = gd.closest('.output');\n",
              "if (outputEl) {{\n",
              "    x.observe(outputEl, {childList: true});\n",
              "}}\n",
              "\n",
              "                        })                };                            </script>        </div>\n",
              "</body>\n",
              "</html>"
            ]
          },
          "metadata": {}
        },
        {
          "output_type": "display_data",
          "data": {
            "text/html": [
              "<html>\n",
              "<head><meta charset=\"utf-8\" /></head>\n",
              "<body>\n",
              "    <div>            <script src=\"https://cdnjs.cloudflare.com/ajax/libs/mathjax/2.7.5/MathJax.js?config=TeX-AMS-MML_SVG\"></script><script type=\"text/javascript\">if (window.MathJax && window.MathJax.Hub && window.MathJax.Hub.Config) {window.MathJax.Hub.Config({SVG: {font: \"STIX-Web\"}});}</script>                <script type=\"text/javascript\">window.PlotlyConfig = {MathJaxConfig: 'local'};</script>\n",
              "        <script charset=\"utf-8\" src=\"https://cdn.plot.ly/plotly-2.24.1.min.js\"></script>                <div id=\"1c3cee99-72fc-4c77-953e-61cb14cade0d\" class=\"plotly-graph-div\" style=\"height:500px; width:600px;\"></div>            <script type=\"text/javascript\">                                    window.PLOTLYENV=window.PLOTLYENV || {};                                    if (document.getElementById(\"1c3cee99-72fc-4c77-953e-61cb14cade0d\")) {                    Plotly.newPlot(                        \"1c3cee99-72fc-4c77-953e-61cb14cade0d\",                        [{\"cliponaxis\":false,\"hovertemplate\":[\"max_depth (IntDistribution): 0.11530299131177485\\u003cextra\\u003e\\u003c\\u002fextra\\u003e\",\"n_estimators (IntDistribution): 0.28499763188743704\\u003cextra\\u003e\\u003c\\u002fextra\\u003e\",\"learning_rate (FloatDistribution): 0.5996993768007882\\u003cextra\\u003e\\u003c\\u002fextra\\u003e\"],\"name\":\"Objective Value\",\"orientation\":\"h\",\"text\":[\"0.12\",\"0.28\",\"0.60\"],\"textposition\":\"outside\",\"x\":[0.11530299131177485,0.28499763188743704,0.5996993768007882],\"y\":[\"max_depth\",\"n_estimators\",\"learning_rate\"],\"type\":\"bar\",\"marker\":{\"color\":\"black\"}}],                        {\"title\":{\"text\":\"Hyperparameters Importance\\u003cbr\\u003e\\u003csup\\u003exgb\\u003c\\u002fsup\\u003e\",\"font\":{\"color\":\"black\",\"size\":20},\"x\":0},\"xaxis\":{\"title\":{\"text\":\"Hyperparameter Importance\"}},\"yaxis\":{\"title\":{\"text\":\"Hyperparameter\"}},\"template\":{\"data\":{\"histogram2dcontour\":[{\"type\":\"histogram2dcontour\",\"colorbar\":{\"outlinewidth\":0,\"ticks\":\"\"},\"colorscale\":[[0.0,\"#0d0887\"],[0.1111111111111111,\"#46039f\"],[0.2222222222222222,\"#7201a8\"],[0.3333333333333333,\"#9c179e\"],[0.4444444444444444,\"#bd3786\"],[0.5555555555555556,\"#d8576b\"],[0.6666666666666666,\"#ed7953\"],[0.7777777777777778,\"#fb9f3a\"],[0.8888888888888888,\"#fdca26\"],[1.0,\"#f0f921\"]]}],\"choropleth\":[{\"type\":\"choropleth\",\"colorbar\":{\"outlinewidth\":0,\"ticks\":\"\"}}],\"histogram2d\":[{\"type\":\"histogram2d\",\"colorbar\":{\"outlinewidth\":0,\"ticks\":\"\"},\"colorscale\":[[0.0,\"#0d0887\"],[0.1111111111111111,\"#46039f\"],[0.2222222222222222,\"#7201a8\"],[0.3333333333333333,\"#9c179e\"],[0.4444444444444444,\"#bd3786\"],[0.5555555555555556,\"#d8576b\"],[0.6666666666666666,\"#ed7953\"],[0.7777777777777778,\"#fb9f3a\"],[0.8888888888888888,\"#fdca26\"],[1.0,\"#f0f921\"]]}],\"heatmap\":[{\"type\":\"heatmap\",\"colorbar\":{\"outlinewidth\":0,\"ticks\":\"\"},\"colorscale\":[[0.0,\"#0d0887\"],[0.1111111111111111,\"#46039f\"],[0.2222222222222222,\"#7201a8\"],[0.3333333333333333,\"#9c179e\"],[0.4444444444444444,\"#bd3786\"],[0.5555555555555556,\"#d8576b\"],[0.6666666666666666,\"#ed7953\"],[0.7777777777777778,\"#fb9f3a\"],[0.8888888888888888,\"#fdca26\"],[1.0,\"#f0f921\"]]}],\"heatmapgl\":[{\"type\":\"heatmapgl\",\"colorbar\":{\"outlinewidth\":0,\"ticks\":\"\"},\"colorscale\":[[0.0,\"#0d0887\"],[0.1111111111111111,\"#46039f\"],[0.2222222222222222,\"#7201a8\"],[0.3333333333333333,\"#9c179e\"],[0.4444444444444444,\"#bd3786\"],[0.5555555555555556,\"#d8576b\"],[0.6666666666666666,\"#ed7953\"],[0.7777777777777778,\"#fb9f3a\"],[0.8888888888888888,\"#fdca26\"],[1.0,\"#f0f921\"]]}],\"contourcarpet\":[{\"type\":\"contourcarpet\",\"colorbar\":{\"outlinewidth\":0,\"ticks\":\"\"}}],\"contour\":[{\"type\":\"contour\",\"colorbar\":{\"outlinewidth\":0,\"ticks\":\"\"},\"colorscale\":[[0.0,\"#0d0887\"],[0.1111111111111111,\"#46039f\"],[0.2222222222222222,\"#7201a8\"],[0.3333333333333333,\"#9c179e\"],[0.4444444444444444,\"#bd3786\"],[0.5555555555555556,\"#d8576b\"],[0.6666666666666666,\"#ed7953\"],[0.7777777777777778,\"#fb9f3a\"],[0.8888888888888888,\"#fdca26\"],[1.0,\"#f0f921\"]]}],\"surface\":[{\"type\":\"surface\",\"colorbar\":{\"outlinewidth\":0,\"ticks\":\"\"},\"colorscale\":[[0.0,\"#0d0887\"],[0.1111111111111111,\"#46039f\"],[0.2222222222222222,\"#7201a8\"],[0.3333333333333333,\"#9c179e\"],[0.4444444444444444,\"#bd3786\"],[0.5555555555555556,\"#d8576b\"],[0.6666666666666666,\"#ed7953\"],[0.7777777777777778,\"#fb9f3a\"],[0.8888888888888888,\"#fdca26\"],[1.0,\"#f0f921\"]]}],\"mesh3d\":[{\"type\":\"mesh3d\",\"colorbar\":{\"outlinewidth\":0,\"ticks\":\"\"}}],\"scatter\":[{\"fillpattern\":{\"fillmode\":\"overlay\",\"size\":10,\"solidity\":0.2},\"type\":\"scatter\"}],\"parcoords\":[{\"type\":\"parcoords\",\"line\":{\"colorbar\":{\"outlinewidth\":0,\"ticks\":\"\"}}}],\"scatterpolargl\":[{\"type\":\"scatterpolargl\",\"marker\":{\"colorbar\":{\"outlinewidth\":0,\"ticks\":\"\"}}}],\"bar\":[{\"error_x\":{\"color\":\"#2a3f5f\"},\"error_y\":{\"color\":\"#2a3f5f\"},\"marker\":{\"line\":{\"color\":\"#E5ECF6\",\"width\":0.5},\"pattern\":{\"fillmode\":\"overlay\",\"size\":10,\"solidity\":0.2}},\"type\":\"bar\"}],\"scattergeo\":[{\"type\":\"scattergeo\",\"marker\":{\"colorbar\":{\"outlinewidth\":0,\"ticks\":\"\"}}}],\"scatterpolar\":[{\"type\":\"scatterpolar\",\"marker\":{\"colorbar\":{\"outlinewidth\":0,\"ticks\":\"\"}}}],\"histogram\":[{\"marker\":{\"pattern\":{\"fillmode\":\"overlay\",\"size\":10,\"solidity\":0.2}},\"type\":\"histogram\"}],\"scattergl\":[{\"type\":\"scattergl\",\"marker\":{\"colorbar\":{\"outlinewidth\":0,\"ticks\":\"\"}}}],\"scatter3d\":[{\"type\":\"scatter3d\",\"line\":{\"colorbar\":{\"outlinewidth\":0,\"ticks\":\"\"}},\"marker\":{\"colorbar\":{\"outlinewidth\":0,\"ticks\":\"\"}}}],\"scattermapbox\":[{\"type\":\"scattermapbox\",\"marker\":{\"colorbar\":{\"outlinewidth\":0,\"ticks\":\"\"}}}],\"scatterternary\":[{\"type\":\"scatterternary\",\"marker\":{\"colorbar\":{\"outlinewidth\":0,\"ticks\":\"\"}}}],\"scattercarpet\":[{\"type\":\"scattercarpet\",\"marker\":{\"colorbar\":{\"outlinewidth\":0,\"ticks\":\"\"}}}],\"carpet\":[{\"aaxis\":{\"endlinecolor\":\"#2a3f5f\",\"gridcolor\":\"white\",\"linecolor\":\"white\",\"minorgridcolor\":\"white\",\"startlinecolor\":\"#2a3f5f\"},\"baxis\":{\"endlinecolor\":\"#2a3f5f\",\"gridcolor\":\"white\",\"linecolor\":\"white\",\"minorgridcolor\":\"white\",\"startlinecolor\":\"#2a3f5f\"},\"type\":\"carpet\"}],\"table\":[{\"cells\":{\"fill\":{\"color\":\"#EBF0F8\"},\"line\":{\"color\":\"white\"}},\"header\":{\"fill\":{\"color\":\"#C8D4E3\"},\"line\":{\"color\":\"white\"}},\"type\":\"table\"}],\"barpolar\":[{\"marker\":{\"line\":{\"color\":\"#E5ECF6\",\"width\":0.5},\"pattern\":{\"fillmode\":\"overlay\",\"size\":10,\"solidity\":0.2}},\"type\":\"barpolar\"}],\"pie\":[{\"automargin\":true,\"type\":\"pie\"}]},\"layout\":{\"autotypenumbers\":\"strict\",\"colorway\":[\"#636efa\",\"#EF553B\",\"#00cc96\",\"#ab63fa\",\"#FFA15A\",\"#19d3f3\",\"#FF6692\",\"#B6E880\",\"#FF97FF\",\"#FECB52\"],\"font\":{\"color\":\"#2a3f5f\"},\"hovermode\":\"closest\",\"hoverlabel\":{\"align\":\"left\"},\"paper_bgcolor\":\"white\",\"plot_bgcolor\":\"#E5ECF6\",\"polar\":{\"bgcolor\":\"#E5ECF6\",\"angularaxis\":{\"gridcolor\":\"white\",\"linecolor\":\"white\",\"ticks\":\"\"},\"radialaxis\":{\"gridcolor\":\"white\",\"linecolor\":\"white\",\"ticks\":\"\"}},\"ternary\":{\"bgcolor\":\"#E5ECF6\",\"aaxis\":{\"gridcolor\":\"white\",\"linecolor\":\"white\",\"ticks\":\"\"},\"baxis\":{\"gridcolor\":\"white\",\"linecolor\":\"white\",\"ticks\":\"\"},\"caxis\":{\"gridcolor\":\"white\",\"linecolor\":\"white\",\"ticks\":\"\"}},\"coloraxis\":{\"colorbar\":{\"outlinewidth\":0,\"ticks\":\"\"}},\"colorscale\":{\"sequential\":[[0.0,\"#0d0887\"],[0.1111111111111111,\"#46039f\"],[0.2222222222222222,\"#7201a8\"],[0.3333333333333333,\"#9c179e\"],[0.4444444444444444,\"#bd3786\"],[0.5555555555555556,\"#d8576b\"],[0.6666666666666666,\"#ed7953\"],[0.7777777777777778,\"#fb9f3a\"],[0.8888888888888888,\"#fdca26\"],[1.0,\"#f0f921\"]],\"sequentialminus\":[[0.0,\"#0d0887\"],[0.1111111111111111,\"#46039f\"],[0.2222222222222222,\"#7201a8\"],[0.3333333333333333,\"#9c179e\"],[0.4444444444444444,\"#bd3786\"],[0.5555555555555556,\"#d8576b\"],[0.6666666666666666,\"#ed7953\"],[0.7777777777777778,\"#fb9f3a\"],[0.8888888888888888,\"#fdca26\"],[1.0,\"#f0f921\"]],\"diverging\":[[0,\"#8e0152\"],[0.1,\"#c51b7d\"],[0.2,\"#de77ae\"],[0.3,\"#f1b6da\"],[0.4,\"#fde0ef\"],[0.5,\"#f7f7f7\"],[0.6,\"#e6f5d0\"],[0.7,\"#b8e186\"],[0.8,\"#7fbc41\"],[0.9,\"#4d9221\"],[1,\"#276419\"]]},\"xaxis\":{\"gridcolor\":\"white\",\"linecolor\":\"white\",\"ticks\":\"\",\"title\":{\"standoff\":15},\"zerolinecolor\":\"white\",\"automargin\":true,\"zerolinewidth\":2},\"yaxis\":{\"gridcolor\":\"white\",\"linecolor\":\"white\",\"ticks\":\"\",\"title\":{\"standoff\":15},\"zerolinecolor\":\"white\",\"automargin\":true,\"zerolinewidth\":2},\"scene\":{\"xaxis\":{\"backgroundcolor\":\"#E5ECF6\",\"gridcolor\":\"white\",\"linecolor\":\"white\",\"showbackground\":true,\"ticks\":\"\",\"zerolinecolor\":\"white\",\"gridwidth\":2},\"yaxis\":{\"backgroundcolor\":\"#E5ECF6\",\"gridcolor\":\"white\",\"linecolor\":\"white\",\"showbackground\":true,\"ticks\":\"\",\"zerolinecolor\":\"white\",\"gridwidth\":2},\"zaxis\":{\"backgroundcolor\":\"#E5ECF6\",\"gridcolor\":\"white\",\"linecolor\":\"white\",\"showbackground\":true,\"ticks\":\"\",\"zerolinecolor\":\"white\",\"gridwidth\":2}},\"shapedefaults\":{\"line\":{\"color\":\"#2a3f5f\"}},\"annotationdefaults\":{\"arrowcolor\":\"#2a3f5f\",\"arrowhead\":0,\"arrowwidth\":1},\"geo\":{\"bgcolor\":\"white\",\"landcolor\":\"#E5ECF6\",\"subunitcolor\":\"white\",\"showland\":true,\"showlakes\":true,\"lakecolor\":\"white\"},\"title\":{\"x\":0.05},\"mapbox\":{\"style\":\"light\"}}},\"font\":{\"family\":\"Times New Roman\"},\"plot_bgcolor\":\"rgba(0,0,0,0)\",\"paper_bgcolor\":\"rgba(0,0,0,0)\",\"width\":600,\"height\":500},                        {\"responsive\": true}                    ).then(function(){\n",
              "                            \n",
              "var gd = document.getElementById('1c3cee99-72fc-4c77-953e-61cb14cade0d');\n",
              "var x = new MutationObserver(function (mutations, observer) {{\n",
              "        var display = window.getComputedStyle(gd).display;\n",
              "        if (!display || display === 'none') {{\n",
              "            console.log([gd, 'removed!']);\n",
              "            Plotly.purge(gd);\n",
              "            observer.disconnect();\n",
              "        }}\n",
              "}});\n",
              "\n",
              "// Listen for the removal of the full notebook cells\n",
              "var notebookContainer = gd.closest('#notebook-container');\n",
              "if (notebookContainer) {{\n",
              "    x.observe(notebookContainer, {childList: true});\n",
              "}}\n",
              "\n",
              "// Listen for the clearing of the current output cell\n",
              "var outputEl = gd.closest('.output');\n",
              "if (outputEl) {{\n",
              "    x.observe(outputEl, {childList: true});\n",
              "}}\n",
              "\n",
              "                        })                };                            </script>        </div>\n",
              "</body>\n",
              "</html>"
            ]
          },
          "metadata": {}
        },
        {
          "output_type": "stream",
          "name": "stdout",
          "text": [
            "----------------------------------------------------------------------\n",
            "rf\n",
            "Best hyperparameters for rf: {'n_estimators': 73, 'max_depth': 10}\n",
            "Best objective value for rf: 0.56\n"
          ]
        },
        {
          "output_type": "display_data",
          "data": {
            "text/html": [
              "<html>\n",
              "<head><meta charset=\"utf-8\" /></head>\n",
              "<body>\n",
              "    <div>            <script src=\"https://cdnjs.cloudflare.com/ajax/libs/mathjax/2.7.5/MathJax.js?config=TeX-AMS-MML_SVG\"></script><script type=\"text/javascript\">if (window.MathJax && window.MathJax.Hub && window.MathJax.Hub.Config) {window.MathJax.Hub.Config({SVG: {font: \"STIX-Web\"}});}</script>                <script type=\"text/javascript\">window.PlotlyConfig = {MathJaxConfig: 'local'};</script>\n",
              "        <script charset=\"utf-8\" src=\"https://cdn.plot.ly/plotly-2.24.1.min.js\"></script>                <div id=\"a7818cb7-9827-4cba-b225-fba191d796fd\" class=\"plotly-graph-div\" style=\"height:500px; width:600px;\"></div>            <script type=\"text/javascript\">                                    window.PLOTLYENV=window.PLOTLYENV || {};                                    if (document.getElementById(\"a7818cb7-9827-4cba-b225-fba191d796fd\")) {                    Plotly.newPlot(                        \"a7818cb7-9827-4cba-b225-fba191d796fd\",                        [{\"mode\":\"markers\",\"name\":\"Objective Value\",\"x\":[0,1,2,3,4,5,6,7,8,9,10,11,12,13,14,15,16,17,18,19,20,21,22,23,24,25,26,27,28,29,30,31,32,33,34,35,36,37,38,39,40,41,42,43,44,45,46,47,48,49],\"y\":[0.5,0.52,0.51,0.4,0.4,0.4,0.53,0.51,0.55,0.39,0.51,0.53,0.53,0.47,0.53,0.54,0.47,0.51,0.52,0.53,0.47,0.54,0.51,0.52,0.5,0.51,0.55,0.53,0.54,0.48,0.52,0.55,0.5,0.55,0.54,0.56,0.5,0.47,0.52,0.39,0.55,0.55,0.55,0.5,0.55,0.51,0.55,0.54,0.54,0.52],\"type\":\"scatter\",\"marker\":{\"color\":\"black\"}},{\"mode\":\"lines\",\"name\":\"Best Value\",\"x\":[0,1,2,3,4,5,6,7,8,9,10,11,12,13,14,15,16,17,18,19,20,21,22,23,24,25,26,27,28,29,30,31,32,33,34,35,36,37,38,39,40,41,42,43,44,45,46,47,48,49],\"y\":[0.5,0.52,0.52,0.52,0.52,0.52,0.53,0.53,0.55,0.55,0.55,0.55,0.55,0.55,0.55,0.55,0.55,0.55,0.55,0.55,0.55,0.55,0.55,0.55,0.55,0.55,0.55,0.55,0.55,0.55,0.55,0.55,0.55,0.55,0.55,0.56,0.56,0.56,0.56,0.56,0.56,0.56,0.56,0.56,0.56,0.56,0.56,0.56,0.56,0.56],\"type\":\"scatter\",\"marker\":{\"color\":\"black\"}},{\"marker\":{\"color\":\"black\"},\"mode\":\"markers\",\"name\":\"Infeasible Trial\",\"showlegend\":false,\"x\":[],\"y\":[],\"type\":\"scatter\"}],                        {\"title\":{\"text\":\"Optimization History\\u003cbr\\u003e\\u003csup\\u003erf\\u003c\\u002fsup\\u003e\",\"font\":{\"color\":\"black\",\"size\":20},\"x\":0},\"xaxis\":{\"title\":{\"text\":\"Trial\"}},\"yaxis\":{\"title\":{\"text\":\"Objective Value\"}},\"template\":{\"data\":{\"histogram2dcontour\":[{\"type\":\"histogram2dcontour\",\"colorbar\":{\"outlinewidth\":0,\"ticks\":\"\"},\"colorscale\":[[0.0,\"#0d0887\"],[0.1111111111111111,\"#46039f\"],[0.2222222222222222,\"#7201a8\"],[0.3333333333333333,\"#9c179e\"],[0.4444444444444444,\"#bd3786\"],[0.5555555555555556,\"#d8576b\"],[0.6666666666666666,\"#ed7953\"],[0.7777777777777778,\"#fb9f3a\"],[0.8888888888888888,\"#fdca26\"],[1.0,\"#f0f921\"]]}],\"choropleth\":[{\"type\":\"choropleth\",\"colorbar\":{\"outlinewidth\":0,\"ticks\":\"\"}}],\"histogram2d\":[{\"type\":\"histogram2d\",\"colorbar\":{\"outlinewidth\":0,\"ticks\":\"\"},\"colorscale\":[[0.0,\"#0d0887\"],[0.1111111111111111,\"#46039f\"],[0.2222222222222222,\"#7201a8\"],[0.3333333333333333,\"#9c179e\"],[0.4444444444444444,\"#bd3786\"],[0.5555555555555556,\"#d8576b\"],[0.6666666666666666,\"#ed7953\"],[0.7777777777777778,\"#fb9f3a\"],[0.8888888888888888,\"#fdca26\"],[1.0,\"#f0f921\"]]}],\"heatmap\":[{\"type\":\"heatmap\",\"colorbar\":{\"outlinewidth\":0,\"ticks\":\"\"},\"colorscale\":[[0.0,\"#0d0887\"],[0.1111111111111111,\"#46039f\"],[0.2222222222222222,\"#7201a8\"],[0.3333333333333333,\"#9c179e\"],[0.4444444444444444,\"#bd3786\"],[0.5555555555555556,\"#d8576b\"],[0.6666666666666666,\"#ed7953\"],[0.7777777777777778,\"#fb9f3a\"],[0.8888888888888888,\"#fdca26\"],[1.0,\"#f0f921\"]]}],\"heatmapgl\":[{\"type\":\"heatmapgl\",\"colorbar\":{\"outlinewidth\":0,\"ticks\":\"\"},\"colorscale\":[[0.0,\"#0d0887\"],[0.1111111111111111,\"#46039f\"],[0.2222222222222222,\"#7201a8\"],[0.3333333333333333,\"#9c179e\"],[0.4444444444444444,\"#bd3786\"],[0.5555555555555556,\"#d8576b\"],[0.6666666666666666,\"#ed7953\"],[0.7777777777777778,\"#fb9f3a\"],[0.8888888888888888,\"#fdca26\"],[1.0,\"#f0f921\"]]}],\"contourcarpet\":[{\"type\":\"contourcarpet\",\"colorbar\":{\"outlinewidth\":0,\"ticks\":\"\"}}],\"contour\":[{\"type\":\"contour\",\"colorbar\":{\"outlinewidth\":0,\"ticks\":\"\"},\"colorscale\":[[0.0,\"#0d0887\"],[0.1111111111111111,\"#46039f\"],[0.2222222222222222,\"#7201a8\"],[0.3333333333333333,\"#9c179e\"],[0.4444444444444444,\"#bd3786\"],[0.5555555555555556,\"#d8576b\"],[0.6666666666666666,\"#ed7953\"],[0.7777777777777778,\"#fb9f3a\"],[0.8888888888888888,\"#fdca26\"],[1.0,\"#f0f921\"]]}],\"surface\":[{\"type\":\"surface\",\"colorbar\":{\"outlinewidth\":0,\"ticks\":\"\"},\"colorscale\":[[0.0,\"#0d0887\"],[0.1111111111111111,\"#46039f\"],[0.2222222222222222,\"#7201a8\"],[0.3333333333333333,\"#9c179e\"],[0.4444444444444444,\"#bd3786\"],[0.5555555555555556,\"#d8576b\"],[0.6666666666666666,\"#ed7953\"],[0.7777777777777778,\"#fb9f3a\"],[0.8888888888888888,\"#fdca26\"],[1.0,\"#f0f921\"]]}],\"mesh3d\":[{\"type\":\"mesh3d\",\"colorbar\":{\"outlinewidth\":0,\"ticks\":\"\"}}],\"scatter\":[{\"fillpattern\":{\"fillmode\":\"overlay\",\"size\":10,\"solidity\":0.2},\"type\":\"scatter\"}],\"parcoords\":[{\"type\":\"parcoords\",\"line\":{\"colorbar\":{\"outlinewidth\":0,\"ticks\":\"\"}}}],\"scatterpolargl\":[{\"type\":\"scatterpolargl\",\"marker\":{\"colorbar\":{\"outlinewidth\":0,\"ticks\":\"\"}}}],\"bar\":[{\"error_x\":{\"color\":\"#2a3f5f\"},\"error_y\":{\"color\":\"#2a3f5f\"},\"marker\":{\"line\":{\"color\":\"#E5ECF6\",\"width\":0.5},\"pattern\":{\"fillmode\":\"overlay\",\"size\":10,\"solidity\":0.2}},\"type\":\"bar\"}],\"scattergeo\":[{\"type\":\"scattergeo\",\"marker\":{\"colorbar\":{\"outlinewidth\":0,\"ticks\":\"\"}}}],\"scatterpolar\":[{\"type\":\"scatterpolar\",\"marker\":{\"colorbar\":{\"outlinewidth\":0,\"ticks\":\"\"}}}],\"histogram\":[{\"marker\":{\"pattern\":{\"fillmode\":\"overlay\",\"size\":10,\"solidity\":0.2}},\"type\":\"histogram\"}],\"scattergl\":[{\"type\":\"scattergl\",\"marker\":{\"colorbar\":{\"outlinewidth\":0,\"ticks\":\"\"}}}],\"scatter3d\":[{\"type\":\"scatter3d\",\"line\":{\"colorbar\":{\"outlinewidth\":0,\"ticks\":\"\"}},\"marker\":{\"colorbar\":{\"outlinewidth\":0,\"ticks\":\"\"}}}],\"scattermapbox\":[{\"type\":\"scattermapbox\",\"marker\":{\"colorbar\":{\"outlinewidth\":0,\"ticks\":\"\"}}}],\"scatterternary\":[{\"type\":\"scatterternary\",\"marker\":{\"colorbar\":{\"outlinewidth\":0,\"ticks\":\"\"}}}],\"scattercarpet\":[{\"type\":\"scattercarpet\",\"marker\":{\"colorbar\":{\"outlinewidth\":0,\"ticks\":\"\"}}}],\"carpet\":[{\"aaxis\":{\"endlinecolor\":\"#2a3f5f\",\"gridcolor\":\"white\",\"linecolor\":\"white\",\"minorgridcolor\":\"white\",\"startlinecolor\":\"#2a3f5f\"},\"baxis\":{\"endlinecolor\":\"#2a3f5f\",\"gridcolor\":\"white\",\"linecolor\":\"white\",\"minorgridcolor\":\"white\",\"startlinecolor\":\"#2a3f5f\"},\"type\":\"carpet\"}],\"table\":[{\"cells\":{\"fill\":{\"color\":\"#EBF0F8\"},\"line\":{\"color\":\"white\"}},\"header\":{\"fill\":{\"color\":\"#C8D4E3\"},\"line\":{\"color\":\"white\"}},\"type\":\"table\"}],\"barpolar\":[{\"marker\":{\"line\":{\"color\":\"#E5ECF6\",\"width\":0.5},\"pattern\":{\"fillmode\":\"overlay\",\"size\":10,\"solidity\":0.2}},\"type\":\"barpolar\"}],\"pie\":[{\"automargin\":true,\"type\":\"pie\"}]},\"layout\":{\"autotypenumbers\":\"strict\",\"colorway\":[\"#636efa\",\"#EF553B\",\"#00cc96\",\"#ab63fa\",\"#FFA15A\",\"#19d3f3\",\"#FF6692\",\"#B6E880\",\"#FF97FF\",\"#FECB52\"],\"font\":{\"color\":\"#2a3f5f\"},\"hovermode\":\"closest\",\"hoverlabel\":{\"align\":\"left\"},\"paper_bgcolor\":\"white\",\"plot_bgcolor\":\"#E5ECF6\",\"polar\":{\"bgcolor\":\"#E5ECF6\",\"angularaxis\":{\"gridcolor\":\"white\",\"linecolor\":\"white\",\"ticks\":\"\"},\"radialaxis\":{\"gridcolor\":\"white\",\"linecolor\":\"white\",\"ticks\":\"\"}},\"ternary\":{\"bgcolor\":\"#E5ECF6\",\"aaxis\":{\"gridcolor\":\"white\",\"linecolor\":\"white\",\"ticks\":\"\"},\"baxis\":{\"gridcolor\":\"white\",\"linecolor\":\"white\",\"ticks\":\"\"},\"caxis\":{\"gridcolor\":\"white\",\"linecolor\":\"white\",\"ticks\":\"\"}},\"coloraxis\":{\"colorbar\":{\"outlinewidth\":0,\"ticks\":\"\"}},\"colorscale\":{\"sequential\":[[0.0,\"#0d0887\"],[0.1111111111111111,\"#46039f\"],[0.2222222222222222,\"#7201a8\"],[0.3333333333333333,\"#9c179e\"],[0.4444444444444444,\"#bd3786\"],[0.5555555555555556,\"#d8576b\"],[0.6666666666666666,\"#ed7953\"],[0.7777777777777778,\"#fb9f3a\"],[0.8888888888888888,\"#fdca26\"],[1.0,\"#f0f921\"]],\"sequentialminus\":[[0.0,\"#0d0887\"],[0.1111111111111111,\"#46039f\"],[0.2222222222222222,\"#7201a8\"],[0.3333333333333333,\"#9c179e\"],[0.4444444444444444,\"#bd3786\"],[0.5555555555555556,\"#d8576b\"],[0.6666666666666666,\"#ed7953\"],[0.7777777777777778,\"#fb9f3a\"],[0.8888888888888888,\"#fdca26\"],[1.0,\"#f0f921\"]],\"diverging\":[[0,\"#8e0152\"],[0.1,\"#c51b7d\"],[0.2,\"#de77ae\"],[0.3,\"#f1b6da\"],[0.4,\"#fde0ef\"],[0.5,\"#f7f7f7\"],[0.6,\"#e6f5d0\"],[0.7,\"#b8e186\"],[0.8,\"#7fbc41\"],[0.9,\"#4d9221\"],[1,\"#276419\"]]},\"xaxis\":{\"gridcolor\":\"white\",\"linecolor\":\"white\",\"ticks\":\"\",\"title\":{\"standoff\":15},\"zerolinecolor\":\"white\",\"automargin\":true,\"zerolinewidth\":2},\"yaxis\":{\"gridcolor\":\"white\",\"linecolor\":\"white\",\"ticks\":\"\",\"title\":{\"standoff\":15},\"zerolinecolor\":\"white\",\"automargin\":true,\"zerolinewidth\":2},\"scene\":{\"xaxis\":{\"backgroundcolor\":\"#E5ECF6\",\"gridcolor\":\"white\",\"linecolor\":\"white\",\"showbackground\":true,\"ticks\":\"\",\"zerolinecolor\":\"white\",\"gridwidth\":2},\"yaxis\":{\"backgroundcolor\":\"#E5ECF6\",\"gridcolor\":\"white\",\"linecolor\":\"white\",\"showbackground\":true,\"ticks\":\"\",\"zerolinecolor\":\"white\",\"gridwidth\":2},\"zaxis\":{\"backgroundcolor\":\"#E5ECF6\",\"gridcolor\":\"white\",\"linecolor\":\"white\",\"showbackground\":true,\"ticks\":\"\",\"zerolinecolor\":\"white\",\"gridwidth\":2}},\"shapedefaults\":{\"line\":{\"color\":\"#2a3f5f\"}},\"annotationdefaults\":{\"arrowcolor\":\"#2a3f5f\",\"arrowhead\":0,\"arrowwidth\":1},\"geo\":{\"bgcolor\":\"white\",\"landcolor\":\"#E5ECF6\",\"subunitcolor\":\"white\",\"showland\":true,\"showlakes\":true,\"lakecolor\":\"white\"},\"title\":{\"x\":0.05},\"mapbox\":{\"style\":\"light\"}}},\"font\":{\"family\":\"Times New Roman\"},\"plot_bgcolor\":\"rgba(0,0,0,0)\",\"paper_bgcolor\":\"rgba(0,0,0,0)\",\"width\":600,\"height\":500},                        {\"responsive\": true}                    ).then(function(){\n",
              "                            \n",
              "var gd = document.getElementById('a7818cb7-9827-4cba-b225-fba191d796fd');\n",
              "var x = new MutationObserver(function (mutations, observer) {{\n",
              "        var display = window.getComputedStyle(gd).display;\n",
              "        if (!display || display === 'none') {{\n",
              "            console.log([gd, 'removed!']);\n",
              "            Plotly.purge(gd);\n",
              "            observer.disconnect();\n",
              "        }}\n",
              "}});\n",
              "\n",
              "// Listen for the removal of the full notebook cells\n",
              "var notebookContainer = gd.closest('#notebook-container');\n",
              "if (notebookContainer) {{\n",
              "    x.observe(notebookContainer, {childList: true});\n",
              "}}\n",
              "\n",
              "// Listen for the clearing of the current output cell\n",
              "var outputEl = gd.closest('.output');\n",
              "if (outputEl) {{\n",
              "    x.observe(outputEl, {childList: true});\n",
              "}}\n",
              "\n",
              "                        })                };                            </script>        </div>\n",
              "</body>\n",
              "</html>"
            ]
          },
          "metadata": {}
        },
        {
          "output_type": "display_data",
          "data": {
            "text/html": [
              "<html>\n",
              "<head><meta charset=\"utf-8\" /></head>\n",
              "<body>\n",
              "    <div>            <script src=\"https://cdnjs.cloudflare.com/ajax/libs/mathjax/2.7.5/MathJax.js?config=TeX-AMS-MML_SVG\"></script><script type=\"text/javascript\">if (window.MathJax && window.MathJax.Hub && window.MathJax.Hub.Config) {window.MathJax.Hub.Config({SVG: {font: \"STIX-Web\"}});}</script>                <script type=\"text/javascript\">window.PlotlyConfig = {MathJaxConfig: 'local'};</script>\n",
              "        <script charset=\"utf-8\" src=\"https://cdn.plot.ly/plotly-2.24.1.min.js\"></script>                <div id=\"75899bb8-4912-4c3d-81b4-566cdc130f04\" class=\"plotly-graph-div\" style=\"height:500px; width:600px;\"></div>            <script type=\"text/javascript\">                                    window.PLOTLYENV=window.PLOTLYENV || {};                                    if (document.getElementById(\"75899bb8-4912-4c3d-81b4-566cdc130f04\")) {                    Plotly.newPlot(                        \"75899bb8-4912-4c3d-81b4-566cdc130f04\",                        [{\"cliponaxis\":false,\"hovertemplate\":[\"n_estimators (IntDistribution): 0.029223817620555332\\u003cextra\\u003e\\u003c\\u002fextra\\u003e\",\"max_depth (IntDistribution): 0.9707761823794446\\u003cextra\\u003e\\u003c\\u002fextra\\u003e\"],\"name\":\"Objective Value\",\"orientation\":\"h\",\"text\":[\"0.03\",\"0.97\"],\"textposition\":\"outside\",\"x\":[0.029223817620555332,0.9707761823794446],\"y\":[\"n_estimators\",\"max_depth\"],\"type\":\"bar\",\"marker\":{\"color\":\"black\"}}],                        {\"title\":{\"text\":\"Hyperparameters Importance\\u003cbr\\u003e\\u003csup\\u003erf\\u003c\\u002fsup\\u003e\",\"font\":{\"color\":\"black\",\"size\":20},\"x\":0},\"xaxis\":{\"title\":{\"text\":\"Hyperparameter Importance\"}},\"yaxis\":{\"title\":{\"text\":\"Hyperparameter\"}},\"template\":{\"data\":{\"histogram2dcontour\":[{\"type\":\"histogram2dcontour\",\"colorbar\":{\"outlinewidth\":0,\"ticks\":\"\"},\"colorscale\":[[0.0,\"#0d0887\"],[0.1111111111111111,\"#46039f\"],[0.2222222222222222,\"#7201a8\"],[0.3333333333333333,\"#9c179e\"],[0.4444444444444444,\"#bd3786\"],[0.5555555555555556,\"#d8576b\"],[0.6666666666666666,\"#ed7953\"],[0.7777777777777778,\"#fb9f3a\"],[0.8888888888888888,\"#fdca26\"],[1.0,\"#f0f921\"]]}],\"choropleth\":[{\"type\":\"choropleth\",\"colorbar\":{\"outlinewidth\":0,\"ticks\":\"\"}}],\"histogram2d\":[{\"type\":\"histogram2d\",\"colorbar\":{\"outlinewidth\":0,\"ticks\":\"\"},\"colorscale\":[[0.0,\"#0d0887\"],[0.1111111111111111,\"#46039f\"],[0.2222222222222222,\"#7201a8\"],[0.3333333333333333,\"#9c179e\"],[0.4444444444444444,\"#bd3786\"],[0.5555555555555556,\"#d8576b\"],[0.6666666666666666,\"#ed7953\"],[0.7777777777777778,\"#fb9f3a\"],[0.8888888888888888,\"#fdca26\"],[1.0,\"#f0f921\"]]}],\"heatmap\":[{\"type\":\"heatmap\",\"colorbar\":{\"outlinewidth\":0,\"ticks\":\"\"},\"colorscale\":[[0.0,\"#0d0887\"],[0.1111111111111111,\"#46039f\"],[0.2222222222222222,\"#7201a8\"],[0.3333333333333333,\"#9c179e\"],[0.4444444444444444,\"#bd3786\"],[0.5555555555555556,\"#d8576b\"],[0.6666666666666666,\"#ed7953\"],[0.7777777777777778,\"#fb9f3a\"],[0.8888888888888888,\"#fdca26\"],[1.0,\"#f0f921\"]]}],\"heatmapgl\":[{\"type\":\"heatmapgl\",\"colorbar\":{\"outlinewidth\":0,\"ticks\":\"\"},\"colorscale\":[[0.0,\"#0d0887\"],[0.1111111111111111,\"#46039f\"],[0.2222222222222222,\"#7201a8\"],[0.3333333333333333,\"#9c179e\"],[0.4444444444444444,\"#bd3786\"],[0.5555555555555556,\"#d8576b\"],[0.6666666666666666,\"#ed7953\"],[0.7777777777777778,\"#fb9f3a\"],[0.8888888888888888,\"#fdca26\"],[1.0,\"#f0f921\"]]}],\"contourcarpet\":[{\"type\":\"contourcarpet\",\"colorbar\":{\"outlinewidth\":0,\"ticks\":\"\"}}],\"contour\":[{\"type\":\"contour\",\"colorbar\":{\"outlinewidth\":0,\"ticks\":\"\"},\"colorscale\":[[0.0,\"#0d0887\"],[0.1111111111111111,\"#46039f\"],[0.2222222222222222,\"#7201a8\"],[0.3333333333333333,\"#9c179e\"],[0.4444444444444444,\"#bd3786\"],[0.5555555555555556,\"#d8576b\"],[0.6666666666666666,\"#ed7953\"],[0.7777777777777778,\"#fb9f3a\"],[0.8888888888888888,\"#fdca26\"],[1.0,\"#f0f921\"]]}],\"surface\":[{\"type\":\"surface\",\"colorbar\":{\"outlinewidth\":0,\"ticks\":\"\"},\"colorscale\":[[0.0,\"#0d0887\"],[0.1111111111111111,\"#46039f\"],[0.2222222222222222,\"#7201a8\"],[0.3333333333333333,\"#9c179e\"],[0.4444444444444444,\"#bd3786\"],[0.5555555555555556,\"#d8576b\"],[0.6666666666666666,\"#ed7953\"],[0.7777777777777778,\"#fb9f3a\"],[0.8888888888888888,\"#fdca26\"],[1.0,\"#f0f921\"]]}],\"mesh3d\":[{\"type\":\"mesh3d\",\"colorbar\":{\"outlinewidth\":0,\"ticks\":\"\"}}],\"scatter\":[{\"fillpattern\":{\"fillmode\":\"overlay\",\"size\":10,\"solidity\":0.2},\"type\":\"scatter\"}],\"parcoords\":[{\"type\":\"parcoords\",\"line\":{\"colorbar\":{\"outlinewidth\":0,\"ticks\":\"\"}}}],\"scatterpolargl\":[{\"type\":\"scatterpolargl\",\"marker\":{\"colorbar\":{\"outlinewidth\":0,\"ticks\":\"\"}}}],\"bar\":[{\"error_x\":{\"color\":\"#2a3f5f\"},\"error_y\":{\"color\":\"#2a3f5f\"},\"marker\":{\"line\":{\"color\":\"#E5ECF6\",\"width\":0.5},\"pattern\":{\"fillmode\":\"overlay\",\"size\":10,\"solidity\":0.2}},\"type\":\"bar\"}],\"scattergeo\":[{\"type\":\"scattergeo\",\"marker\":{\"colorbar\":{\"outlinewidth\":0,\"ticks\":\"\"}}}],\"scatterpolar\":[{\"type\":\"scatterpolar\",\"marker\":{\"colorbar\":{\"outlinewidth\":0,\"ticks\":\"\"}}}],\"histogram\":[{\"marker\":{\"pattern\":{\"fillmode\":\"overlay\",\"size\":10,\"solidity\":0.2}},\"type\":\"histogram\"}],\"scattergl\":[{\"type\":\"scattergl\",\"marker\":{\"colorbar\":{\"outlinewidth\":0,\"ticks\":\"\"}}}],\"scatter3d\":[{\"type\":\"scatter3d\",\"line\":{\"colorbar\":{\"outlinewidth\":0,\"ticks\":\"\"}},\"marker\":{\"colorbar\":{\"outlinewidth\":0,\"ticks\":\"\"}}}],\"scattermapbox\":[{\"type\":\"scattermapbox\",\"marker\":{\"colorbar\":{\"outlinewidth\":0,\"ticks\":\"\"}}}],\"scatterternary\":[{\"type\":\"scatterternary\",\"marker\":{\"colorbar\":{\"outlinewidth\":0,\"ticks\":\"\"}}}],\"scattercarpet\":[{\"type\":\"scattercarpet\",\"marker\":{\"colorbar\":{\"outlinewidth\":0,\"ticks\":\"\"}}}],\"carpet\":[{\"aaxis\":{\"endlinecolor\":\"#2a3f5f\",\"gridcolor\":\"white\",\"linecolor\":\"white\",\"minorgridcolor\":\"white\",\"startlinecolor\":\"#2a3f5f\"},\"baxis\":{\"endlinecolor\":\"#2a3f5f\",\"gridcolor\":\"white\",\"linecolor\":\"white\",\"minorgridcolor\":\"white\",\"startlinecolor\":\"#2a3f5f\"},\"type\":\"carpet\"}],\"table\":[{\"cells\":{\"fill\":{\"color\":\"#EBF0F8\"},\"line\":{\"color\":\"white\"}},\"header\":{\"fill\":{\"color\":\"#C8D4E3\"},\"line\":{\"color\":\"white\"}},\"type\":\"table\"}],\"barpolar\":[{\"marker\":{\"line\":{\"color\":\"#E5ECF6\",\"width\":0.5},\"pattern\":{\"fillmode\":\"overlay\",\"size\":10,\"solidity\":0.2}},\"type\":\"barpolar\"}],\"pie\":[{\"automargin\":true,\"type\":\"pie\"}]},\"layout\":{\"autotypenumbers\":\"strict\",\"colorway\":[\"#636efa\",\"#EF553B\",\"#00cc96\",\"#ab63fa\",\"#FFA15A\",\"#19d3f3\",\"#FF6692\",\"#B6E880\",\"#FF97FF\",\"#FECB52\"],\"font\":{\"color\":\"#2a3f5f\"},\"hovermode\":\"closest\",\"hoverlabel\":{\"align\":\"left\"},\"paper_bgcolor\":\"white\",\"plot_bgcolor\":\"#E5ECF6\",\"polar\":{\"bgcolor\":\"#E5ECF6\",\"angularaxis\":{\"gridcolor\":\"white\",\"linecolor\":\"white\",\"ticks\":\"\"},\"radialaxis\":{\"gridcolor\":\"white\",\"linecolor\":\"white\",\"ticks\":\"\"}},\"ternary\":{\"bgcolor\":\"#E5ECF6\",\"aaxis\":{\"gridcolor\":\"white\",\"linecolor\":\"white\",\"ticks\":\"\"},\"baxis\":{\"gridcolor\":\"white\",\"linecolor\":\"white\",\"ticks\":\"\"},\"caxis\":{\"gridcolor\":\"white\",\"linecolor\":\"white\",\"ticks\":\"\"}},\"coloraxis\":{\"colorbar\":{\"outlinewidth\":0,\"ticks\":\"\"}},\"colorscale\":{\"sequential\":[[0.0,\"#0d0887\"],[0.1111111111111111,\"#46039f\"],[0.2222222222222222,\"#7201a8\"],[0.3333333333333333,\"#9c179e\"],[0.4444444444444444,\"#bd3786\"],[0.5555555555555556,\"#d8576b\"],[0.6666666666666666,\"#ed7953\"],[0.7777777777777778,\"#fb9f3a\"],[0.8888888888888888,\"#fdca26\"],[1.0,\"#f0f921\"]],\"sequentialminus\":[[0.0,\"#0d0887\"],[0.1111111111111111,\"#46039f\"],[0.2222222222222222,\"#7201a8\"],[0.3333333333333333,\"#9c179e\"],[0.4444444444444444,\"#bd3786\"],[0.5555555555555556,\"#d8576b\"],[0.6666666666666666,\"#ed7953\"],[0.7777777777777778,\"#fb9f3a\"],[0.8888888888888888,\"#fdca26\"],[1.0,\"#f0f921\"]],\"diverging\":[[0,\"#8e0152\"],[0.1,\"#c51b7d\"],[0.2,\"#de77ae\"],[0.3,\"#f1b6da\"],[0.4,\"#fde0ef\"],[0.5,\"#f7f7f7\"],[0.6,\"#e6f5d0\"],[0.7,\"#b8e186\"],[0.8,\"#7fbc41\"],[0.9,\"#4d9221\"],[1,\"#276419\"]]},\"xaxis\":{\"gridcolor\":\"white\",\"linecolor\":\"white\",\"ticks\":\"\",\"title\":{\"standoff\":15},\"zerolinecolor\":\"white\",\"automargin\":true,\"zerolinewidth\":2},\"yaxis\":{\"gridcolor\":\"white\",\"linecolor\":\"white\",\"ticks\":\"\",\"title\":{\"standoff\":15},\"zerolinecolor\":\"white\",\"automargin\":true,\"zerolinewidth\":2},\"scene\":{\"xaxis\":{\"backgroundcolor\":\"#E5ECF6\",\"gridcolor\":\"white\",\"linecolor\":\"white\",\"showbackground\":true,\"ticks\":\"\",\"zerolinecolor\":\"white\",\"gridwidth\":2},\"yaxis\":{\"backgroundcolor\":\"#E5ECF6\",\"gridcolor\":\"white\",\"linecolor\":\"white\",\"showbackground\":true,\"ticks\":\"\",\"zerolinecolor\":\"white\",\"gridwidth\":2},\"zaxis\":{\"backgroundcolor\":\"#E5ECF6\",\"gridcolor\":\"white\",\"linecolor\":\"white\",\"showbackground\":true,\"ticks\":\"\",\"zerolinecolor\":\"white\",\"gridwidth\":2}},\"shapedefaults\":{\"line\":{\"color\":\"#2a3f5f\"}},\"annotationdefaults\":{\"arrowcolor\":\"#2a3f5f\",\"arrowhead\":0,\"arrowwidth\":1},\"geo\":{\"bgcolor\":\"white\",\"landcolor\":\"#E5ECF6\",\"subunitcolor\":\"white\",\"showland\":true,\"showlakes\":true,\"lakecolor\":\"white\"},\"title\":{\"x\":0.05},\"mapbox\":{\"style\":\"light\"}}},\"font\":{\"family\":\"Times New Roman\"},\"plot_bgcolor\":\"rgba(0,0,0,0)\",\"paper_bgcolor\":\"rgba(0,0,0,0)\",\"width\":600,\"height\":500},                        {\"responsive\": true}                    ).then(function(){\n",
              "                            \n",
              "var gd = document.getElementById('75899bb8-4912-4c3d-81b4-566cdc130f04');\n",
              "var x = new MutationObserver(function (mutations, observer) {{\n",
              "        var display = window.getComputedStyle(gd).display;\n",
              "        if (!display || display === 'none') {{\n",
              "            console.log([gd, 'removed!']);\n",
              "            Plotly.purge(gd);\n",
              "            observer.disconnect();\n",
              "        }}\n",
              "}});\n",
              "\n",
              "// Listen for the removal of the full notebook cells\n",
              "var notebookContainer = gd.closest('#notebook-container');\n",
              "if (notebookContainer) {{\n",
              "    x.observe(notebookContainer, {childList: true});\n",
              "}}\n",
              "\n",
              "// Listen for the clearing of the current output cell\n",
              "var outputEl = gd.closest('.output');\n",
              "if (outputEl) {{\n",
              "    x.observe(outputEl, {childList: true});\n",
              "}}\n",
              "\n",
              "                        })                };                            </script>        </div>\n",
              "</body>\n",
              "</html>"
            ]
          },
          "metadata": {}
        },
        {
          "output_type": "stream",
          "name": "stdout",
          "text": [
            "----------------------------------------------------------------------\n",
            "CPU times: user 6min 6s, sys: 49.3 s, total: 6min 56s\n",
            "Wall time: 7min 7s\n"
          ]
        }
      ],
      "source": [
        "%%time\n",
        "#################################### 这部分只需要运行一次:时间长，已经序列化保存，next cell. ##################################################################\n",
        "# model_lst = ['lr','xgb','rf']\n",
        "# best_models_smote = []\n",
        "# problem = 'multiclass'\n",
        "# model_dir = '/content/drive/MyDrive/ThesisFinal/experiment3/experiment3/smote_fake'\n",
        "# sample_weights = compute_sample_weight(class_weight='balanced',y=Smote_y_train['industry'])\n",
        "# for model in model_lst:\n",
        "#   print(model)\n",
        "#   sub_best = supervised_fintune(model,problem,model_dir,Smote_X_train,Smote_y_train,X_valid[keep_feas],y_valid,sample_weights)\n",
        "#   best_models_smote.append(sub_best)\n",
        "#   print('-'*70)\n",
        "##############################################################################################################################\n",
        "\n"
      ]
    },
    {
      "cell_type": "code",
      "source": [
        "best_models_smote_path=os.path.join(model_dir,\"bms.pkl\")\n",
        "\n",
        "# ####################### dump ############################\n",
        "# with open(best_models_smote_path,\"wb\") as file:\n",
        "#   pickle.dump(best_models_smote,file)\n",
        "# ###########################################################\n",
        "\n",
        "####################### load ############################\n",
        "with open(best_models_smote_path,\"rb\") as file:\n",
        "  best_models_smote=pickle.load(file)\n",
        "###########################################################\n"
      ],
      "metadata": {
        "id": "O_qtc5-m97ih"
      },
      "execution_count": null,
      "outputs": []
    },
    {
      "cell_type": "code",
      "execution_count": null,
      "metadata": {
        "id": "ss7uq8MLt9D1",
        "colab": {
          "base_uri": "https://localhost:8080/"
        },
        "outputId": "2e4dcf71-0649-49d6-d2f5-7b070454e3aa"
      },
      "outputs": [
        {
          "output_type": "stream",
          "name": "stdout",
          "text": [
            "/content/drive/MyDrive/ThesisFinal/experiment3/results/fine_tuning/smote_fn_best\n"
          ]
        }
      ],
      "source": [
        "_SMOTE_FN_RESULT = create_dir(_SUPERVISED_FINETUNING,'smote_fn_best')"
      ]
    },
    {
      "cell_type": "code",
      "execution_count": null,
      "metadata": {
        "id": "mBxdxeu-ARYs",
        "colab": {
          "base_uri": "https://localhost:8080/",
          "height": 1000
        },
        "outputId": "b51dc174-a15d-4bed-b509-c35067ae4b9f"
      },
      "outputs": [
        {
          "output_type": "display_data",
          "data": {
            "text/plain": [
              "LogisticRegression(C=1.3389578843664596, class_weight='balanced', max_iter=500,\n",
              "                   random_state=42)"
            ],
            "text/html": [
              "<style>#sk-container-id-1 {color: black;background-color: white;}#sk-container-id-1 pre{padding: 0;}#sk-container-id-1 div.sk-toggleable {background-color: white;}#sk-container-id-1 label.sk-toggleable__label {cursor: pointer;display: block;width: 100%;margin-bottom: 0;padding: 0.3em;box-sizing: border-box;text-align: center;}#sk-container-id-1 label.sk-toggleable__label-arrow:before {content: \"▸\";float: left;margin-right: 0.25em;color: #696969;}#sk-container-id-1 label.sk-toggleable__label-arrow:hover:before {color: black;}#sk-container-id-1 div.sk-estimator:hover label.sk-toggleable__label-arrow:before {color: black;}#sk-container-id-1 div.sk-toggleable__content {max-height: 0;max-width: 0;overflow: hidden;text-align: left;background-color: #f0f8ff;}#sk-container-id-1 div.sk-toggleable__content pre {margin: 0.2em;color: black;border-radius: 0.25em;background-color: #f0f8ff;}#sk-container-id-1 input.sk-toggleable__control:checked~div.sk-toggleable__content {max-height: 200px;max-width: 100%;overflow: auto;}#sk-container-id-1 input.sk-toggleable__control:checked~label.sk-toggleable__label-arrow:before {content: \"▾\";}#sk-container-id-1 div.sk-estimator input.sk-toggleable__control:checked~label.sk-toggleable__label {background-color: #d4ebff;}#sk-container-id-1 div.sk-label input.sk-toggleable__control:checked~label.sk-toggleable__label {background-color: #d4ebff;}#sk-container-id-1 input.sk-hidden--visually {border: 0;clip: rect(1px 1px 1px 1px);clip: rect(1px, 1px, 1px, 1px);height: 1px;margin: -1px;overflow: hidden;padding: 0;position: absolute;width: 1px;}#sk-container-id-1 div.sk-estimator {font-family: monospace;background-color: #f0f8ff;border: 1px dotted black;border-radius: 0.25em;box-sizing: border-box;margin-bottom: 0.5em;}#sk-container-id-1 div.sk-estimator:hover {background-color: #d4ebff;}#sk-container-id-1 div.sk-parallel-item::after {content: \"\";width: 100%;border-bottom: 1px solid gray;flex-grow: 1;}#sk-container-id-1 div.sk-label:hover label.sk-toggleable__label {background-color: #d4ebff;}#sk-container-id-1 div.sk-serial::before {content: \"\";position: absolute;border-left: 1px solid gray;box-sizing: border-box;top: 0;bottom: 0;left: 50%;z-index: 0;}#sk-container-id-1 div.sk-serial {display: flex;flex-direction: column;align-items: center;background-color: white;padding-right: 0.2em;padding-left: 0.2em;position: relative;}#sk-container-id-1 div.sk-item {position: relative;z-index: 1;}#sk-container-id-1 div.sk-parallel {display: flex;align-items: stretch;justify-content: center;background-color: white;position: relative;}#sk-container-id-1 div.sk-item::before, #sk-container-id-1 div.sk-parallel-item::before {content: \"\";position: absolute;border-left: 1px solid gray;box-sizing: border-box;top: 0;bottom: 0;left: 50%;z-index: -1;}#sk-container-id-1 div.sk-parallel-item {display: flex;flex-direction: column;z-index: 1;position: relative;background-color: white;}#sk-container-id-1 div.sk-parallel-item:first-child::after {align-self: flex-end;width: 50%;}#sk-container-id-1 div.sk-parallel-item:last-child::after {align-self: flex-start;width: 50%;}#sk-container-id-1 div.sk-parallel-item:only-child::after {width: 0;}#sk-container-id-1 div.sk-dashed-wrapped {border: 1px dashed gray;margin: 0 0.4em 0.5em 0.4em;box-sizing: border-box;padding-bottom: 0.4em;background-color: white;}#sk-container-id-1 div.sk-label label {font-family: monospace;font-weight: bold;display: inline-block;line-height: 1.2em;}#sk-container-id-1 div.sk-label-container {text-align: center;}#sk-container-id-1 div.sk-container {/* jupyter's `normalize.less` sets `[hidden] { display: none; }` but bootstrap.min.css set `[hidden] { display: none !important; }` so we also need the `!important` here to be able to override the default hidden behavior on the sphinx rendered scikit-learn.org. See: https://github.com/scikit-learn/scikit-learn/issues/21755 */display: inline-block !important;position: relative;}#sk-container-id-1 div.sk-text-repr-fallback {display: none;}</style><div id=\"sk-container-id-1\" class=\"sk-top-container\"><div class=\"sk-text-repr-fallback\"><pre>LogisticRegression(C=1.3389578843664596, class_weight=&#x27;balanced&#x27;, max_iter=500,\n",
              "                   random_state=42)</pre><b>In a Jupyter environment, please rerun this cell to show the HTML representation or trust the notebook. <br />On GitHub, the HTML representation is unable to render, please try loading this page with nbviewer.org.</b></div><div class=\"sk-container\" hidden><div class=\"sk-item\"><div class=\"sk-estimator sk-toggleable\"><input class=\"sk-toggleable__control sk-hidden--visually\" id=\"sk-estimator-id-1\" type=\"checkbox\" checked><label for=\"sk-estimator-id-1\" class=\"sk-toggleable__label sk-toggleable__label-arrow\">LogisticRegression</label><div class=\"sk-toggleable__content\"><pre>LogisticRegression(C=1.3389578843664596, class_weight=&#x27;balanced&#x27;, max_iter=500,\n",
              "                   random_state=42)</pre></div></div></div></div></div>"
            ]
          },
          "metadata": {}
        },
        {
          "output_type": "stream",
          "name": "stdout",
          "text": [
            "              precision    recall  f1-score   support\n",
            "\n",
            "         0.0       0.46      0.30      0.37       243\n",
            "         1.0       0.29      0.39      0.34       112\n",
            "         2.0       0.34      0.49      0.40       118\n",
            "         3.0       0.25      0.11      0.15       107\n",
            "         4.0       0.19      0.12      0.14        95\n",
            "         5.0       0.24      0.54      0.33        26\n",
            "         6.0       0.06      0.19      0.09        26\n",
            "\n",
            "    accuracy                           0.30       727\n",
            "   macro avg       0.26      0.31      0.26       727\n",
            "weighted avg       0.33      0.30      0.30       727\n",
            "\n"
          ]
        },
        {
          "output_type": "display_data",
          "data": {
            "text/plain": [
              "XGBClassifier(base_score=None, booster=None, callbacks=None,\n",
              "              colsample_bylevel=None, colsample_bynode=None,\n",
              "              colsample_bytree=None, device=None, early_stopping_rounds=None,\n",
              "              enable_categorical=False, eval_metric=None, feature_types=None,\n",
              "              gamma=None, grow_policy=None, importance_type=None,\n",
              "              interaction_constraints=None, learning_rate=0.06879840405876046,\n",
              "              max_bin=None, max_cat_threshold=None, max_cat_to_onehot=None,\n",
              "              max_delta_step=None, max_depth=6, max_leaves=None,\n",
              "              min_child_weight=None, missing=nan, monotone_constraints=None,\n",
              "              multi_strategy=None, n_estimators=86, n_jobs=None,\n",
              "              num_parallel_tree=None, objective='multi:softprob', ...)"
            ],
            "text/html": [
              "<style>#sk-container-id-2 {color: black;background-color: white;}#sk-container-id-2 pre{padding: 0;}#sk-container-id-2 div.sk-toggleable {background-color: white;}#sk-container-id-2 label.sk-toggleable__label {cursor: pointer;display: block;width: 100%;margin-bottom: 0;padding: 0.3em;box-sizing: border-box;text-align: center;}#sk-container-id-2 label.sk-toggleable__label-arrow:before {content: \"▸\";float: left;margin-right: 0.25em;color: #696969;}#sk-container-id-2 label.sk-toggleable__label-arrow:hover:before {color: black;}#sk-container-id-2 div.sk-estimator:hover label.sk-toggleable__label-arrow:before {color: black;}#sk-container-id-2 div.sk-toggleable__content {max-height: 0;max-width: 0;overflow: hidden;text-align: left;background-color: #f0f8ff;}#sk-container-id-2 div.sk-toggleable__content pre {margin: 0.2em;color: black;border-radius: 0.25em;background-color: #f0f8ff;}#sk-container-id-2 input.sk-toggleable__control:checked~div.sk-toggleable__content {max-height: 200px;max-width: 100%;overflow: auto;}#sk-container-id-2 input.sk-toggleable__control:checked~label.sk-toggleable__label-arrow:before {content: \"▾\";}#sk-container-id-2 div.sk-estimator input.sk-toggleable__control:checked~label.sk-toggleable__label {background-color: #d4ebff;}#sk-container-id-2 div.sk-label input.sk-toggleable__control:checked~label.sk-toggleable__label {background-color: #d4ebff;}#sk-container-id-2 input.sk-hidden--visually {border: 0;clip: rect(1px 1px 1px 1px);clip: rect(1px, 1px, 1px, 1px);height: 1px;margin: -1px;overflow: hidden;padding: 0;position: absolute;width: 1px;}#sk-container-id-2 div.sk-estimator {font-family: monospace;background-color: #f0f8ff;border: 1px dotted black;border-radius: 0.25em;box-sizing: border-box;margin-bottom: 0.5em;}#sk-container-id-2 div.sk-estimator:hover {background-color: #d4ebff;}#sk-container-id-2 div.sk-parallel-item::after {content: \"\";width: 100%;border-bottom: 1px solid gray;flex-grow: 1;}#sk-container-id-2 div.sk-label:hover label.sk-toggleable__label {background-color: #d4ebff;}#sk-container-id-2 div.sk-serial::before {content: \"\";position: absolute;border-left: 1px solid gray;box-sizing: border-box;top: 0;bottom: 0;left: 50%;z-index: 0;}#sk-container-id-2 div.sk-serial {display: flex;flex-direction: column;align-items: center;background-color: white;padding-right: 0.2em;padding-left: 0.2em;position: relative;}#sk-container-id-2 div.sk-item {position: relative;z-index: 1;}#sk-container-id-2 div.sk-parallel {display: flex;align-items: stretch;justify-content: center;background-color: white;position: relative;}#sk-container-id-2 div.sk-item::before, #sk-container-id-2 div.sk-parallel-item::before {content: \"\";position: absolute;border-left: 1px solid gray;box-sizing: border-box;top: 0;bottom: 0;left: 50%;z-index: -1;}#sk-container-id-2 div.sk-parallel-item {display: flex;flex-direction: column;z-index: 1;position: relative;background-color: white;}#sk-container-id-2 div.sk-parallel-item:first-child::after {align-self: flex-end;width: 50%;}#sk-container-id-2 div.sk-parallel-item:last-child::after {align-self: flex-start;width: 50%;}#sk-container-id-2 div.sk-parallel-item:only-child::after {width: 0;}#sk-container-id-2 div.sk-dashed-wrapped {border: 1px dashed gray;margin: 0 0.4em 0.5em 0.4em;box-sizing: border-box;padding-bottom: 0.4em;background-color: white;}#sk-container-id-2 div.sk-label label {font-family: monospace;font-weight: bold;display: inline-block;line-height: 1.2em;}#sk-container-id-2 div.sk-label-container {text-align: center;}#sk-container-id-2 div.sk-container {/* jupyter's `normalize.less` sets `[hidden] { display: none; }` but bootstrap.min.css set `[hidden] { display: none !important; }` so we also need the `!important` here to be able to override the default hidden behavior on the sphinx rendered scikit-learn.org. See: https://github.com/scikit-learn/scikit-learn/issues/21755 */display: inline-block !important;position: relative;}#sk-container-id-2 div.sk-text-repr-fallback {display: none;}</style><div id=\"sk-container-id-2\" class=\"sk-top-container\"><div class=\"sk-text-repr-fallback\"><pre>XGBClassifier(base_score=None, booster=None, callbacks=None,\n",
              "              colsample_bylevel=None, colsample_bynode=None,\n",
              "              colsample_bytree=None, device=None, early_stopping_rounds=None,\n",
              "              enable_categorical=False, eval_metric=None, feature_types=None,\n",
              "              gamma=None, grow_policy=None, importance_type=None,\n",
              "              interaction_constraints=None, learning_rate=0.06879840405876046,\n",
              "              max_bin=None, max_cat_threshold=None, max_cat_to_onehot=None,\n",
              "              max_delta_step=None, max_depth=6, max_leaves=None,\n",
              "              min_child_weight=None, missing=nan, monotone_constraints=None,\n",
              "              multi_strategy=None, n_estimators=86, n_jobs=None,\n",
              "              num_parallel_tree=None, objective=&#x27;multi:softprob&#x27;, ...)</pre><b>In a Jupyter environment, please rerun this cell to show the HTML representation or trust the notebook. <br />On GitHub, the HTML representation is unable to render, please try loading this page with nbviewer.org.</b></div><div class=\"sk-container\" hidden><div class=\"sk-item\"><div class=\"sk-estimator sk-toggleable\"><input class=\"sk-toggleable__control sk-hidden--visually\" id=\"sk-estimator-id-2\" type=\"checkbox\" checked><label for=\"sk-estimator-id-2\" class=\"sk-toggleable__label sk-toggleable__label-arrow\">XGBClassifier</label><div class=\"sk-toggleable__content\"><pre>XGBClassifier(base_score=None, booster=None, callbacks=None,\n",
              "              colsample_bylevel=None, colsample_bynode=None,\n",
              "              colsample_bytree=None, device=None, early_stopping_rounds=None,\n",
              "              enable_categorical=False, eval_metric=None, feature_types=None,\n",
              "              gamma=None, grow_policy=None, importance_type=None,\n",
              "              interaction_constraints=None, learning_rate=0.06879840405876046,\n",
              "              max_bin=None, max_cat_threshold=None, max_cat_to_onehot=None,\n",
              "              max_delta_step=None, max_depth=6, max_leaves=None,\n",
              "              min_child_weight=None, missing=nan, monotone_constraints=None,\n",
              "              multi_strategy=None, n_estimators=86, n_jobs=None,\n",
              "              num_parallel_tree=None, objective=&#x27;multi:softprob&#x27;, ...)</pre></div></div></div></div></div>"
            ]
          },
          "metadata": {}
        },
        {
          "output_type": "stream",
          "name": "stdout",
          "text": [
            "              precision    recall  f1-score   support\n",
            "\n",
            "         0.0       0.93      0.51      0.66       243\n",
            "         1.0       0.54      0.60      0.57       112\n",
            "         2.0       0.51      0.92      0.66       118\n",
            "         3.0       0.50      0.62      0.55       107\n",
            "         4.0       0.63      0.62      0.62        95\n",
            "         5.0       0.44      0.42      0.43        26\n",
            "         6.0       0.25      0.04      0.07        26\n",
            "\n",
            "    accuracy                           0.60       727\n",
            "   macro avg       0.54      0.53      0.51       727\n",
            "weighted avg       0.66      0.60      0.59       727\n",
            "\n"
          ]
        },
        {
          "output_type": "display_data",
          "data": {
            "text/plain": [
              "RandomForestClassifier(class_weight='balanced', max_depth=10, n_estimators=73,\n",
              "                       random_state=42)"
            ],
            "text/html": [
              "<style>#sk-container-id-3 {color: black;background-color: white;}#sk-container-id-3 pre{padding: 0;}#sk-container-id-3 div.sk-toggleable {background-color: white;}#sk-container-id-3 label.sk-toggleable__label {cursor: pointer;display: block;width: 100%;margin-bottom: 0;padding: 0.3em;box-sizing: border-box;text-align: center;}#sk-container-id-3 label.sk-toggleable__label-arrow:before {content: \"▸\";float: left;margin-right: 0.25em;color: #696969;}#sk-container-id-3 label.sk-toggleable__label-arrow:hover:before {color: black;}#sk-container-id-3 div.sk-estimator:hover label.sk-toggleable__label-arrow:before {color: black;}#sk-container-id-3 div.sk-toggleable__content {max-height: 0;max-width: 0;overflow: hidden;text-align: left;background-color: #f0f8ff;}#sk-container-id-3 div.sk-toggleable__content pre {margin: 0.2em;color: black;border-radius: 0.25em;background-color: #f0f8ff;}#sk-container-id-3 input.sk-toggleable__control:checked~div.sk-toggleable__content {max-height: 200px;max-width: 100%;overflow: auto;}#sk-container-id-3 input.sk-toggleable__control:checked~label.sk-toggleable__label-arrow:before {content: \"▾\";}#sk-container-id-3 div.sk-estimator input.sk-toggleable__control:checked~label.sk-toggleable__label {background-color: #d4ebff;}#sk-container-id-3 div.sk-label input.sk-toggleable__control:checked~label.sk-toggleable__label {background-color: #d4ebff;}#sk-container-id-3 input.sk-hidden--visually {border: 0;clip: rect(1px 1px 1px 1px);clip: rect(1px, 1px, 1px, 1px);height: 1px;margin: -1px;overflow: hidden;padding: 0;position: absolute;width: 1px;}#sk-container-id-3 div.sk-estimator {font-family: monospace;background-color: #f0f8ff;border: 1px dotted black;border-radius: 0.25em;box-sizing: border-box;margin-bottom: 0.5em;}#sk-container-id-3 div.sk-estimator:hover {background-color: #d4ebff;}#sk-container-id-3 div.sk-parallel-item::after {content: \"\";width: 100%;border-bottom: 1px solid gray;flex-grow: 1;}#sk-container-id-3 div.sk-label:hover label.sk-toggleable__label {background-color: #d4ebff;}#sk-container-id-3 div.sk-serial::before {content: \"\";position: absolute;border-left: 1px solid gray;box-sizing: border-box;top: 0;bottom: 0;left: 50%;z-index: 0;}#sk-container-id-3 div.sk-serial {display: flex;flex-direction: column;align-items: center;background-color: white;padding-right: 0.2em;padding-left: 0.2em;position: relative;}#sk-container-id-3 div.sk-item {position: relative;z-index: 1;}#sk-container-id-3 div.sk-parallel {display: flex;align-items: stretch;justify-content: center;background-color: white;position: relative;}#sk-container-id-3 div.sk-item::before, #sk-container-id-3 div.sk-parallel-item::before {content: \"\";position: absolute;border-left: 1px solid gray;box-sizing: border-box;top: 0;bottom: 0;left: 50%;z-index: -1;}#sk-container-id-3 div.sk-parallel-item {display: flex;flex-direction: column;z-index: 1;position: relative;background-color: white;}#sk-container-id-3 div.sk-parallel-item:first-child::after {align-self: flex-end;width: 50%;}#sk-container-id-3 div.sk-parallel-item:last-child::after {align-self: flex-start;width: 50%;}#sk-container-id-3 div.sk-parallel-item:only-child::after {width: 0;}#sk-container-id-3 div.sk-dashed-wrapped {border: 1px dashed gray;margin: 0 0.4em 0.5em 0.4em;box-sizing: border-box;padding-bottom: 0.4em;background-color: white;}#sk-container-id-3 div.sk-label label {font-family: monospace;font-weight: bold;display: inline-block;line-height: 1.2em;}#sk-container-id-3 div.sk-label-container {text-align: center;}#sk-container-id-3 div.sk-container {/* jupyter's `normalize.less` sets `[hidden] { display: none; }` but bootstrap.min.css set `[hidden] { display: none !important; }` so we also need the `!important` here to be able to override the default hidden behavior on the sphinx rendered scikit-learn.org. See: https://github.com/scikit-learn/scikit-learn/issues/21755 */display: inline-block !important;position: relative;}#sk-container-id-3 div.sk-text-repr-fallback {display: none;}</style><div id=\"sk-container-id-3\" class=\"sk-top-container\"><div class=\"sk-text-repr-fallback\"><pre>RandomForestClassifier(class_weight=&#x27;balanced&#x27;, max_depth=10, n_estimators=73,\n",
              "                       random_state=42)</pre><b>In a Jupyter environment, please rerun this cell to show the HTML representation or trust the notebook. <br />On GitHub, the HTML representation is unable to render, please try loading this page with nbviewer.org.</b></div><div class=\"sk-container\" hidden><div class=\"sk-item\"><div class=\"sk-estimator sk-toggleable\"><input class=\"sk-toggleable__control sk-hidden--visually\" id=\"sk-estimator-id-3\" type=\"checkbox\" checked><label for=\"sk-estimator-id-3\" class=\"sk-toggleable__label sk-toggleable__label-arrow\">RandomForestClassifier</label><div class=\"sk-toggleable__content\"><pre>RandomForestClassifier(class_weight=&#x27;balanced&#x27;, max_depth=10, n_estimators=73,\n",
              "                       random_state=42)</pre></div></div></div></div></div>"
            ]
          },
          "metadata": {}
        },
        {
          "output_type": "stream",
          "name": "stdout",
          "text": [
            "              precision    recall  f1-score   support\n",
            "\n",
            "         0.0       0.84      0.66      0.74       243\n",
            "         1.0       0.61      0.47      0.53       112\n",
            "         2.0       0.56      0.81      0.66       118\n",
            "         3.0       0.48      0.73      0.58       107\n",
            "         4.0       0.69      0.57      0.62        95\n",
            "         5.0       0.34      0.38      0.36        26\n",
            "         6.0       0.50      0.15      0.24        26\n",
            "\n",
            "    accuracy                           0.63       727\n",
            "   macro avg       0.58      0.54      0.53       727\n",
            "weighted avg       0.66      0.63      0.62       727\n",
            "\n"
          ]
        },
        {
          "output_type": "display_data",
          "data": {
            "text/plain": [
              "       Acc  F1 Macro\n",
              "lr   30.68      0.26\n",
              "xgb  53.31      0.51\n",
              "rf   54.02      0.53"
            ],
            "text/html": [
              "\n",
              "  <div id=\"df-bef107dc-da41-499e-acfb-dc622aafc55f\" class=\"colab-df-container\">\n",
              "    <div>\n",
              "<style scoped>\n",
              "    .dataframe tbody tr th:only-of-type {\n",
              "        vertical-align: middle;\n",
              "    }\n",
              "\n",
              "    .dataframe tbody tr th {\n",
              "        vertical-align: top;\n",
              "    }\n",
              "\n",
              "    .dataframe thead th {\n",
              "        text-align: right;\n",
              "    }\n",
              "</style>\n",
              "<table border=\"1\" class=\"dataframe\">\n",
              "  <thead>\n",
              "    <tr style=\"text-align: right;\">\n",
              "      <th></th>\n",
              "      <th>Acc</th>\n",
              "      <th>F1 Macro</th>\n",
              "    </tr>\n",
              "  </thead>\n",
              "  <tbody>\n",
              "    <tr>\n",
              "      <th>lr</th>\n",
              "      <td>30.68</td>\n",
              "      <td>0.26</td>\n",
              "    </tr>\n",
              "    <tr>\n",
              "      <th>xgb</th>\n",
              "      <td>53.31</td>\n",
              "      <td>0.51</td>\n",
              "    </tr>\n",
              "    <tr>\n",
              "      <th>rf</th>\n",
              "      <td>54.02</td>\n",
              "      <td>0.53</td>\n",
              "    </tr>\n",
              "  </tbody>\n",
              "</table>\n",
              "</div>\n",
              "    <div class=\"colab-df-buttons\">\n",
              "\n",
              "  <div class=\"colab-df-container\">\n",
              "    <button class=\"colab-df-convert\" onclick=\"convertToInteractive('df-bef107dc-da41-499e-acfb-dc622aafc55f')\"\n",
              "            title=\"Convert this dataframe to an interactive table.\"\n",
              "            style=\"display:none;\">\n",
              "\n",
              "  <svg xmlns=\"http://www.w3.org/2000/svg\" height=\"24px\" viewBox=\"0 -960 960 960\">\n",
              "    <path d=\"M120-120v-720h720v720H120Zm60-500h600v-160H180v160Zm220 220h160v-160H400v160Zm0 220h160v-160H400v160ZM180-400h160v-160H180v160Zm440 0h160v-160H620v160ZM180-180h160v-160H180v160Zm440 0h160v-160H620v160Z\"/>\n",
              "  </svg>\n",
              "    </button>\n",
              "\n",
              "  <style>\n",
              "    .colab-df-container {\n",
              "      display:flex;\n",
              "      gap: 12px;\n",
              "    }\n",
              "\n",
              "    .colab-df-convert {\n",
              "      background-color: #E8F0FE;\n",
              "      border: none;\n",
              "      border-radius: 50%;\n",
              "      cursor: pointer;\n",
              "      display: none;\n",
              "      fill: #1967D2;\n",
              "      height: 32px;\n",
              "      padding: 0 0 0 0;\n",
              "      width: 32px;\n",
              "    }\n",
              "\n",
              "    .colab-df-convert:hover {\n",
              "      background-color: #E2EBFA;\n",
              "      box-shadow: 0px 1px 2px rgba(60, 64, 67, 0.3), 0px 1px 3px 1px rgba(60, 64, 67, 0.15);\n",
              "      fill: #174EA6;\n",
              "    }\n",
              "\n",
              "    .colab-df-buttons div {\n",
              "      margin-bottom: 4px;\n",
              "    }\n",
              "\n",
              "    [theme=dark] .colab-df-convert {\n",
              "      background-color: #3B4455;\n",
              "      fill: #D2E3FC;\n",
              "    }\n",
              "\n",
              "    [theme=dark] .colab-df-convert:hover {\n",
              "      background-color: #434B5C;\n",
              "      box-shadow: 0px 1px 3px 1px rgba(0, 0, 0, 0.15);\n",
              "      filter: drop-shadow(0px 1px 2px rgba(0, 0, 0, 0.3));\n",
              "      fill: #FFFFFF;\n",
              "    }\n",
              "  </style>\n",
              "\n",
              "    <script>\n",
              "      const buttonEl =\n",
              "        document.querySelector('#df-bef107dc-da41-499e-acfb-dc622aafc55f button.colab-df-convert');\n",
              "      buttonEl.style.display =\n",
              "        google.colab.kernel.accessAllowed ? 'block' : 'none';\n",
              "\n",
              "      async function convertToInteractive(key) {\n",
              "        const element = document.querySelector('#df-bef107dc-da41-499e-acfb-dc622aafc55f');\n",
              "        const dataTable =\n",
              "          await google.colab.kernel.invokeFunction('convertToInteractive',\n",
              "                                                    [key], {});\n",
              "        if (!dataTable) return;\n",
              "\n",
              "        const docLinkHtml = 'Like what you see? Visit the ' +\n",
              "          '<a target=\"_blank\" href=https://colab.research.google.com/notebooks/data_table.ipynb>data table notebook</a>'\n",
              "          + ' to learn more about interactive tables.';\n",
              "        element.innerHTML = '';\n",
              "        dataTable['output_type'] = 'display_data';\n",
              "        await google.colab.output.renderOutput(dataTable, element);\n",
              "        const docLink = document.createElement('div');\n",
              "        docLink.innerHTML = docLinkHtml;\n",
              "        element.appendChild(docLink);\n",
              "      }\n",
              "    </script>\n",
              "  </div>\n",
              "\n",
              "\n",
              "<div id=\"df-32effbb9-373f-4e54-ba52-881086fdd172\">\n",
              "  <button class=\"colab-df-quickchart\" onclick=\"quickchart('df-32effbb9-373f-4e54-ba52-881086fdd172')\"\n",
              "            title=\"Suggest charts\"\n",
              "            style=\"display:none;\">\n",
              "\n",
              "<svg xmlns=\"http://www.w3.org/2000/svg\" height=\"24px\"viewBox=\"0 0 24 24\"\n",
              "     width=\"24px\">\n",
              "    <g>\n",
              "        <path d=\"M19 3H5c-1.1 0-2 .9-2 2v14c0 1.1.9 2 2 2h14c1.1 0 2-.9 2-2V5c0-1.1-.9-2-2-2zM9 17H7v-7h2v7zm4 0h-2V7h2v10zm4 0h-2v-4h2v4z\"/>\n",
              "    </g>\n",
              "</svg>\n",
              "  </button>\n",
              "\n",
              "<style>\n",
              "  .colab-df-quickchart {\n",
              "      --bg-color: #E8F0FE;\n",
              "      --fill-color: #1967D2;\n",
              "      --hover-bg-color: #E2EBFA;\n",
              "      --hover-fill-color: #174EA6;\n",
              "      --disabled-fill-color: #AAA;\n",
              "      --disabled-bg-color: #DDD;\n",
              "  }\n",
              "\n",
              "  [theme=dark] .colab-df-quickchart {\n",
              "      --bg-color: #3B4455;\n",
              "      --fill-color: #D2E3FC;\n",
              "      --hover-bg-color: #434B5C;\n",
              "      --hover-fill-color: #FFFFFF;\n",
              "      --disabled-bg-color: #3B4455;\n",
              "      --disabled-fill-color: #666;\n",
              "  }\n",
              "\n",
              "  .colab-df-quickchart {\n",
              "    background-color: var(--bg-color);\n",
              "    border: none;\n",
              "    border-radius: 50%;\n",
              "    cursor: pointer;\n",
              "    display: none;\n",
              "    fill: var(--fill-color);\n",
              "    height: 32px;\n",
              "    padding: 0;\n",
              "    width: 32px;\n",
              "  }\n",
              "\n",
              "  .colab-df-quickchart:hover {\n",
              "    background-color: var(--hover-bg-color);\n",
              "    box-shadow: 0 1px 2px rgba(60, 64, 67, 0.3), 0 1px 3px 1px rgba(60, 64, 67, 0.15);\n",
              "    fill: var(--button-hover-fill-color);\n",
              "  }\n",
              "\n",
              "  .colab-df-quickchart-complete:disabled,\n",
              "  .colab-df-quickchart-complete:disabled:hover {\n",
              "    background-color: var(--disabled-bg-color);\n",
              "    fill: var(--disabled-fill-color);\n",
              "    box-shadow: none;\n",
              "  }\n",
              "\n",
              "  .colab-df-spinner {\n",
              "    border: 2px solid var(--fill-color);\n",
              "    border-color: transparent;\n",
              "    border-bottom-color: var(--fill-color);\n",
              "    animation:\n",
              "      spin 1s steps(1) infinite;\n",
              "  }\n",
              "\n",
              "  @keyframes spin {\n",
              "    0% {\n",
              "      border-color: transparent;\n",
              "      border-bottom-color: var(--fill-color);\n",
              "      border-left-color: var(--fill-color);\n",
              "    }\n",
              "    20% {\n",
              "      border-color: transparent;\n",
              "      border-left-color: var(--fill-color);\n",
              "      border-top-color: var(--fill-color);\n",
              "    }\n",
              "    30% {\n",
              "      border-color: transparent;\n",
              "      border-left-color: var(--fill-color);\n",
              "      border-top-color: var(--fill-color);\n",
              "      border-right-color: var(--fill-color);\n",
              "    }\n",
              "    40% {\n",
              "      border-color: transparent;\n",
              "      border-right-color: var(--fill-color);\n",
              "      border-top-color: var(--fill-color);\n",
              "    }\n",
              "    60% {\n",
              "      border-color: transparent;\n",
              "      border-right-color: var(--fill-color);\n",
              "    }\n",
              "    80% {\n",
              "      border-color: transparent;\n",
              "      border-right-color: var(--fill-color);\n",
              "      border-bottom-color: var(--fill-color);\n",
              "    }\n",
              "    90% {\n",
              "      border-color: transparent;\n",
              "      border-bottom-color: var(--fill-color);\n",
              "    }\n",
              "  }\n",
              "</style>\n",
              "\n",
              "  <script>\n",
              "    async function quickchart(key) {\n",
              "      const quickchartButtonEl =\n",
              "        document.querySelector('#' + key + ' button');\n",
              "      quickchartButtonEl.disabled = true;  // To prevent multiple clicks.\n",
              "      quickchartButtonEl.classList.add('colab-df-spinner');\n",
              "      try {\n",
              "        const charts = await google.colab.kernel.invokeFunction(\n",
              "            'suggestCharts', [key], {});\n",
              "      } catch (error) {\n",
              "        console.error('Error during call to suggestCharts:', error);\n",
              "      }\n",
              "      quickchartButtonEl.classList.remove('colab-df-spinner');\n",
              "      quickchartButtonEl.classList.add('colab-df-quickchart-complete');\n",
              "    }\n",
              "    (() => {\n",
              "      let quickchartButtonEl =\n",
              "        document.querySelector('#df-32effbb9-373f-4e54-ba52-881086fdd172 button');\n",
              "      quickchartButtonEl.style.display =\n",
              "        google.colab.kernel.accessAllowed ? 'block' : 'none';\n",
              "    })();\n",
              "  </script>\n",
              "</div>\n",
              "    </div>\n",
              "  </div>\n"
            ]
          },
          "metadata": {}
        },
        {
          "output_type": "stream",
          "name": "stdout",
          "text": [
            "CPU times: user 6.26 s, sys: 1.24 s, total: 7.5 s\n",
            "Wall time: 7.44 s\n"
          ]
        }
      ],
      "source": [
        "%%time\n",
        "Supervised_Best_Smote = RunBestSupervised(best_models_smote,Smote_X_train,X_test,keep_feas,Smote_y_train,y_test)\n",
        "Supervised_Best_Smote.index=model_lst\n",
        "display(Supervised_Best_Smote)"
      ]
    },
    {
      "cell_type": "code",
      "execution_count": null,
      "metadata": {
        "id": "OvVGcjLEt4MI"
      },
      "outputs": [],
      "source": [
        "Supervised_Best_Smote.to_csv(_SMOTE_FN_RESULT + '/' + 'fn_smote_perform.csv')"
      ]
    },
    {
      "cell_type": "markdown",
      "metadata": {
        "id": "8g3Mta2GBO2S"
      },
      "source": [
        "## CTGAN+"
      ]
    },
    {
      "cell_type": "code",
      "source": [
        "create_dir('/content/drive/MyDrive/ThesisFinal/experiment3/experiment3','ctgan+')"
      ],
      "metadata": {
        "colab": {
          "base_uri": "https://localhost:8080/",
          "height": 52
        },
        "id": "-Ce96NzD6wFl",
        "outputId": "511db477-fd50-4913-a002-96b0668ea2e5"
      },
      "execution_count": null,
      "outputs": [
        {
          "output_type": "stream",
          "name": "stdout",
          "text": [
            "/content/drive/MyDrive/ThesisFinal/experiment3/experiment3/ctgan+\n"
          ]
        },
        {
          "output_type": "execute_result",
          "data": {
            "text/plain": [
              "'/content/drive/MyDrive/ThesisFinal/experiment3/experiment3/ctgan+'"
            ],
            "application/vnd.google.colaboratory.intrinsic+json": {
              "type": "string"
            }
          },
          "metadata": {},
          "execution_count": 33
        }
      ]
    },
    {
      "cell_type": "code",
      "execution_count": null,
      "metadata": {
        "id": "AVAK6o1fBdxB"
      },
      "outputs": [],
      "source": [
        "data = X_train[keep_feas].copy()\n",
        "data['industry'] = y_train['industry']\n",
        "data.to_csv('/content/drive/MyDrive/ThesisFinal/experiment3/experiment3/ctgan+/train_data_label.csv',index=False)"
      ]
    },
    {
      "cell_type": "code",
      "source": [
        "_GEN_CTGANPLUS_DIR"
      ],
      "metadata": {
        "colab": {
          "base_uri": "https://localhost:8080/",
          "height": 35
        },
        "id": "nACziLwZ7Azl",
        "outputId": "00dcb6a3-0a38-42c5-df1a-ec9bfaf3d36b"
      },
      "execution_count": null,
      "outputs": [
        {
          "output_type": "execute_result",
          "data": {
            "text/plain": [
              "'/content/drive/MyDrive/ThesisFinal/experiment3/experiment3/ctgan+'"
            ],
            "application/vnd.google.colaboratory.intrinsic+json": {
              "type": "string"
            }
          },
          "metadata": {},
          "execution_count": 35
        }
      ]
    },
    {
      "cell_type": "code",
      "execution_count": null,
      "metadata": {
        "id": "HiZhyUGOBXuS",
        "colab": {
          "base_uri": "https://localhost:8080/"
        },
        "outputId": "5bcd6646-004f-451c-edd4-360ef8ecc1ed"
      },
      "outputs": [
        {
          "output_type": "stream",
          "name": "stdout",
          "text": [
            "/content/drive/MyDrive/ThesisFinal/experiment3/experiment3/ctgan+/fake_data\n"
          ]
        }
      ],
      "source": [
        "num_exp = 5\n",
        "dataset = 'industry'\n",
        "real_path = '/content/drive/MyDrive/ThesisFinal/experiment3/experiment3/ctgan+/train_data_label.csv'\n",
        "fake_file_root = _GEN_CTGANPLUS_DIR\n",
        "fake_file_root = create_dir(fake_file_root,'fake_data')\n",
        "cat_col =  ['industry_code','ccc_item_code','ccc_standard','ccc_vis_prod_unit']\n",
        "num_col = keep_feas\n",
        "target='industry'"
      ]
    },
    {
      "cell_type": "code",
      "execution_count": null,
      "metadata": {
        "id": "StD57NMWNRuG"
      },
      "outputs": [],
      "source": [
        "int_cols = [x for x in keep_feas if x.startswith('main_business')]"
      ]
    },
    {
      "cell_type": "code",
      "execution_count": null,
      "metadata": {
        "id": "z8f2eVPRNI3u"
      },
      "outputs": [],
      "source": [
        "synthesizer =  CTABGAN(raw_csv_path = real_path,\n",
        "                 test_ratio = 0.30,\n",
        "                 categorical_columns = cat_col + [target],\n",
        "                 log_columns = [],\n",
        "                 mixed_columns= {},\n",
        "                 general_columns = num_col,\n",
        "                 non_categorical_columns = [],\n",
        "                 integer_columns = int_cols,\n",
        "                 problem_type= {\"Classification\": target})"
      ]
    },
    {
      "cell_type": "code",
      "execution_count": null,
      "metadata": {
        "id": "0UgjV0M_N4HI",
        "colab": {
          "base_uri": "https://localhost:8080/"
        },
        "outputId": "02fb3d24-ec83-411f-b672-480b42c4a693"
      },
      "outputs": [
        {
          "output_type": "stream",
          "name": "stderr",
          "text": [
            "100%|██████████| 150/150 [00:32<00:00,  4.66it/s]\n"
          ]
        },
        {
          "output_type": "stream",
          "name": "stdout",
          "text": [
            "Finished training in 36.95409059524536  seconds.\n"
          ]
        },
        {
          "output_type": "stream",
          "name": "stderr",
          "text": [
            "100%|██████████| 150/150 [00:25<00:00,  5.98it/s]\n"
          ]
        },
        {
          "output_type": "stream",
          "name": "stdout",
          "text": [
            "Finished training in 25.286356449127197  seconds.\n"
          ]
        },
        {
          "output_type": "stream",
          "name": "stderr",
          "text": [
            "100%|██████████| 150/150 [00:25<00:00,  5.79it/s]\n"
          ]
        },
        {
          "output_type": "stream",
          "name": "stdout",
          "text": [
            "Finished training in 26.030388832092285  seconds.\n"
          ]
        },
        {
          "output_type": "stream",
          "name": "stderr",
          "text": [
            "100%|██████████| 150/150 [00:24<00:00,  6.04it/s]\n"
          ]
        },
        {
          "output_type": "stream",
          "name": "stdout",
          "text": [
            "Finished training in 25.03961420059204  seconds.\n"
          ]
        },
        {
          "output_type": "stream",
          "name": "stderr",
          "text": [
            "100%|██████████| 150/150 [00:25<00:00,  5.79it/s]\n"
          ]
        },
        {
          "output_type": "stream",
          "name": "stdout",
          "text": [
            "Finished training in 26.11747145652771  seconds.\n",
            "CPU times: user 2min 6s, sys: 2.54 s, total: 2min 9s\n",
            "Wall time: 2min 20s\n"
          ]
        }
      ],
      "source": [
        "%%time\n",
        "############################ 运行时间长，注释不影响 ################################################\n",
        "for i in range(num_exp):\n",
        "    synthesizer.fit()\n",
        "    syn = synthesizer.generate_samples()\n",
        "    syn.to_csv(fake_file_root+\"/\"+ dataset+\"_fake_{exp}.csv\".format(exp=i), index= False)\n",
        "#####################################################################################################"
      ]
    },
    {
      "cell_type": "code",
      "execution_count": null,
      "metadata": {
        "id": "lEni2wE6O9Kp"
      },
      "outputs": [],
      "source": [
        "fake_paths = glob.glob(fake_file_root+\"/\"+\"*\")\n",
        "fakes= []\n",
        "for i in fake_paths:\n",
        "  sub_df = pd.read_csv(i)\n",
        "  fakes.append(sub_df)\n",
        "ctgan_fakes = pd.concat(fakes)"
      ]
    },
    {
      "cell_type": "code",
      "execution_count": null,
      "metadata": {
        "id": "06bugrB9PK5x",
        "colab": {
          "base_uri": "https://localhost:8080/",
          "height": 517
        },
        "outputId": "7b3da108-4057-4452-a68b-62ad538b7b19"
      },
      "outputs": [
        {
          "output_type": "display_data",
          "data": {
            "text/html": [
              "<html>\n",
              "<head><meta charset=\"utf-8\" /></head>\n",
              "<body>\n",
              "    <div>            <script src=\"https://cdnjs.cloudflare.com/ajax/libs/mathjax/2.7.5/MathJax.js?config=TeX-AMS-MML_SVG\"></script><script type=\"text/javascript\">if (window.MathJax && window.MathJax.Hub && window.MathJax.Hub.Config) {window.MathJax.Hub.Config({SVG: {font: \"STIX-Web\"}});}</script>                <script type=\"text/javascript\">window.PlotlyConfig = {MathJaxConfig: 'local'};</script>\n",
              "        <script charset=\"utf-8\" src=\"https://cdn.plot.ly/plotly-2.24.1.min.js\"></script>                <div id=\"57bc277a-d4b3-4c8b-8d0a-94d7b992b27b\" class=\"plotly-graph-div\" style=\"height:500px; width:600px;\"></div>            <script type=\"text/javascript\">                                    window.PLOTLYENV=window.PLOTLYENV || {};                                    if (document.getElementById(\"57bc277a-d4b3-4c8b-8d0a-94d7b992b27b\")) {                    Plotly.newPlot(                        \"57bc277a-d4b3-4c8b-8d0a-94d7b992b27b\",                        [{\"alignmentgroup\":\"True\",\"bingroup\":\"x\",\"hovertemplate\":\"industry=%{x}\\u003cbr\\u003ecount=%{y}\\u003cextra\\u003e\\u003c\\u002fextra\\u003e\",\"legendgroup\":\"\",\"marker\":{\"color\":\"black\",\"pattern\":{\"shape\":\"\"}},\"name\":\"\",\"offsetgroup\":\"\",\"orientation\":\"v\",\"showlegend\":false,\"texttemplate\":\"%{value}\",\"x\":[2.0,0.0,4.0,0.0,2.0,4.0,0.0,0.0,0.0,1.0,4.0,0.0,6.0,4.0,0.0,4.0,6.0,3.0,1.0,0.0,4.0,4.0,0.0,1.0,0.0,6.0,5.0,4.0,1.0,4.0,4.0,0.0,4.0,3.0,0.0,5.0,2.0,0.0,3.0,4.0,1.0,0.0,6.0,0.0,1.0,5.0,0.0,4.0,3.0,0.0,6.0,2.0,4.0,3.0,6.0,5.0,1.0,0.0,2.0,3.0,4.0,2.0,1.0,3.0,5.0,2.0,2.0,0.0,4.0,6.0,0.0,0.0,0.0,3.0,0.0,1.0,6.0,2.0,0.0,0.0,0.0,5.0,4.0,4.0,1.0,3.0,1.0,0.0,1.0,0.0,3.0,0.0,0.0,0.0,3.0,3.0,0.0,4.0,1.0,4.0,5.0,4.0,1.0,3.0,4.0,0.0,5.0,1.0,6.0,1.0,1.0,5.0,0.0,4.0,0.0,3.0,2.0,4.0,2.0,3.0,4.0,4.0,4.0,1.0,4.0,0.0,4.0,5.0,0.0,6.0,2.0,4.0,1.0,5.0,4.0,0.0,3.0,4.0,4.0,4.0,0.0,4.0,4.0,1.0,0.0,1.0,3.0,4.0,3.0,0.0,3.0,4.0,1.0,0.0,4.0,4.0,1.0,1.0,0.0,4.0,4.0,1.0,4.0,2.0,0.0,1.0,4.0,1.0,3.0,3.0,5.0,5.0,1.0,1.0,5.0,0.0,6.0,0.0,6.0,1.0,0.0,4.0,2.0,1.0,5.0,0.0,0.0,0.0,3.0,3.0,3.0,4.0,5.0,0.0,0.0,1.0,0.0,0.0,0.0,0.0,1.0,3.0,2.0,0.0,6.0,6.0,0.0,0.0,5.0,1.0,0.0,0.0,0.0,0.0,3.0,0.0,4.0,0.0,4.0,4.0,3.0,0.0,0.0,3.0,4.0,3.0,4.0,0.0,0.0,4.0,2.0,1.0,0.0,4.0,4.0,5.0,0.0,2.0,3.0,1.0,0.0,3.0,5.0,0.0,0.0,4.0,3.0,0.0,0.0,0.0,4.0,0.0,3.0,5.0,0.0,0.0,3.0,3.0,0.0,4.0,0.0,1.0,5.0,0.0,0.0,4.0,4.0,0.0,0.0,0.0,4.0,0.0,4.0,1.0,0.0,6.0,0.0,6.0,4.0,2.0,5.0,0.0,0.0,2.0,0.0,1.0,6.0,4.0,4.0,0.0,4.0,1.0,4.0,4.0,1.0,0.0,4.0,5.0,0.0,0.0,1.0,4.0,3.0,0.0,3.0,0.0,1.0,4.0,0.0,2.0,1.0,0.0,0.0,2.0,5.0,0.0,1.0,6.0,0.0,1.0,0.0,1.0,6.0,1.0,5.0,4.0,4.0,4.0,1.0,4.0,1.0,4.0,4.0,0.0,1.0,1.0,3.0,0.0,1.0,3.0,5.0,3.0,3.0,1.0,0.0,0.0,4.0,2.0,4.0,0.0,4.0,4.0,0.0,0.0,4.0,0.0,3.0,5.0,1.0,2.0,0.0,1.0,4.0,5.0,0.0,1.0,0.0,4.0,1.0,4.0,0.0,3.0,5.0,0.0,0.0,4.0,1.0,0.0,5.0,4.0,1.0,6.0,3.0,4.0,3.0,4.0,0.0,0.0,6.0,4.0,4.0,5.0,2.0,0.0,4.0,4.0,0.0,5.0,2.0,3.0,3.0,4.0,5.0,3.0,2.0,4.0,2.0,0.0,4.0,4.0,1.0,4.0,4.0,5.0,3.0,3.0,0.0,4.0,5.0,0.0,5.0,1.0,2.0,6.0,6.0,4.0,2.0,2.0,5.0,0.0,0.0,5.0,0.0,5.0,4.0,1.0,5.0,5.0,1.0,0.0,1.0,0.0,4.0,4.0,2.0,2.0,0.0,1.0,0.0,4.0,3.0,4.0,4.0,1.0,4.0,2.0,0.0,1.0,4.0,3.0,0.0,0.0,1.0,0.0,4.0,6.0,0.0,0.0,1.0,0.0,1.0,4.0,0.0,6.0,1.0,0.0,1.0,1.0,0.0,0.0,0.0,4.0,4.0,5.0,0.0,0.0,3.0,4.0,0.0,4.0,1.0,4.0,2.0,1.0,3.0,0.0,0.0,4.0,3.0,4.0,4.0,4.0,5.0,4.0,3.0,0.0,3.0,3.0,4.0,0.0,4.0,5.0,4.0,5.0,3.0,4.0,3.0,1.0,1.0,0.0,4.0,0.0,0.0,0.0,0.0,0.0,0.0,3.0,0.0,0.0,5.0,0.0,0.0,0.0,4.0,4.0,2.0,4.0,3.0,1.0,3.0,1.0,0.0,0.0,5.0,2.0,1.0,4.0,2.0,3.0,4.0,5.0,5.0,5.0,1.0,0.0,0.0,0.0,0.0,2.0,6.0,0.0,3.0,4.0,4.0,0.0,1.0,3.0,0.0,6.0,0.0,1.0,2.0,6.0,0.0,5.0,4.0,3.0,0.0,0.0,1.0,0.0,3.0,4.0,4.0,0.0,0.0,1.0,0.0,5.0,0.0,1.0,0.0,4.0,5.0,0.0,4.0,0.0,0.0,0.0,0.0,1.0,0.0,2.0,1.0,5.0,3.0,3.0,0.0,0.0,3.0,3.0,5.0,3.0,0.0,4.0,1.0,0.0,2.0,4.0,3.0,4.0,0.0,4.0,0.0,3.0,3.0,0.0,0.0,2.0,0.0,2.0,5.0,5.0,2.0,0.0,0.0,5.0,2.0,5.0,0.0,4.0,1.0,4.0,2.0,0.0,1.0,6.0,6.0,0.0,0.0,4.0,0.0,3.0,0.0,4.0,0.0,6.0,5.0,2.0,1.0,0.0,4.0,0.0,5.0,0.0,0.0,5.0,4.0,1.0,5.0,0.0,4.0,0.0,0.0,4.0,1.0,3.0,1.0,4.0,1.0,0.0,0.0,4.0,6.0,0.0,4.0,0.0,4.0,0.0,3.0,4.0,1.0,6.0,1.0,3.0,4.0,3.0,0.0,4.0,4.0,6.0,4.0,4.0,3.0,1.0,3.0,5.0,1.0,4.0,1.0,0.0,2.0,0.0,4.0,1.0,4.0,6.0,1.0,0.0,1.0,4.0,6.0,4.0,0.0,4.0,4.0,2.0,2.0,1.0,0.0,0.0,3.0,2.0,1.0,5.0,0.0,0.0,1.0,3.0,0.0,4.0,3.0,4.0,0.0,4.0,3.0,0.0,0.0,0.0,0.0,4.0,0.0,1.0,4.0,1.0,3.0,0.0,0.0,3.0,1.0,0.0,0.0,2.0,6.0,1.0,4.0,5.0,4.0,3.0,5.0,0.0,5.0,5.0,4.0,4.0,1.0,0.0,4.0,0.0,0.0,0.0,3.0,4.0,0.0,4.0,1.0,1.0,5.0,4.0,4.0,0.0,6.0,5.0,0.0,4.0,1.0,0.0,0.0,4.0,3.0,1.0,1.0,6.0,0.0,0.0,0.0,1.0,4.0,4.0,0.0,4.0,0.0,0.0,4.0,2.0,4.0,0.0,1.0,0.0,3.0,4.0,3.0,3.0,4.0,4.0,4.0,5.0,0.0,0.0,0.0,3.0,6.0,4.0,5.0,3.0,5.0,1.0,6.0,2.0,2.0,1.0,5.0,4.0,3.0,0.0,0.0,0.0,1.0,0.0,4.0,3.0,0.0,4.0,3.0,1.0,0.0,0.0,5.0,4.0,1.0,4.0,1.0,3.0,0.0,1.0,4.0,3.0,4.0,2.0,0.0,1.0,0.0,0.0,0.0,4.0,5.0,0.0,4.0,0.0,0.0,4.0,3.0,3.0,0.0,4.0,0.0,3.0,4.0,4.0,0.0,5.0,6.0,5.0,2.0,6.0,5.0,1.0,3.0,0.0,0.0,3.0,0.0,0.0,4.0,6.0,0.0,4.0,6.0,3.0,4.0,1.0,0.0,0.0,3.0,1.0,0.0,0.0,4.0,5.0,5.0,1.0,0.0,0.0,4.0,2.0,3.0,0.0,6.0,0.0,1.0,0.0,0.0,5.0,1.0,4.0,1.0,0.0,0.0,0.0,0.0,6.0,3.0,4.0,4.0,5.0,4.0,0.0,0.0,1.0,5.0,0.0,0.0,4.0,3.0,5.0,0.0,4.0,3.0,2.0,4.0,0.0,0.0,6.0,4.0,3.0,4.0,4.0,4.0,2.0,6.0,3.0,1.0,1.0,0.0,3.0,4.0,4.0,1.0,4.0,5.0,0.0,4.0,0.0,4.0,0.0,0.0,3.0,0.0,4.0,1.0,5.0,1.0,3.0,5.0,4.0,3.0,1.0,1.0,4.0,0.0,3.0,5.0,0.0,5.0,0.0,4.0,0.0,6.0,5.0,4.0,2.0,3.0,0.0,0.0,4.0,2.0,4.0,5.0,5.0,1.0,0.0,4.0,4.0,1.0,4.0,0.0,4.0,3.0,4.0,6.0,3.0,1.0,6.0,3.0,3.0,6.0,5.0,4.0,4.0,2.0,0.0,6.0,2.0,0.0,4.0,0.0,0.0,2.0,4.0,0.0,3.0,0.0,0.0,4.0,4.0,0.0,0.0,0.0,5.0,0.0,0.0,4.0,0.0,4.0,3.0,0.0,4.0,1.0,2.0,0.0,0.0,1.0,0.0,2.0,0.0,1.0,5.0,4.0,4.0,4.0,2.0,3.0,4.0,1.0,6.0,0.0,0.0,0.0,3.0,0.0,5.0,4.0,0.0,4.0,0.0,1.0,0.0,6.0,1.0,5.0,4.0,4.0,0.0,2.0,1.0,3.0,4.0,4.0,0.0,0.0,4.0,2.0,4.0,3.0,0.0,5.0,1.0,0.0,1.0,3.0,5.0,1.0,3.0,5.0,4.0,0.0,4.0,4.0,4.0,1.0,0.0,3.0,3.0,1.0,0.0,0.0,3.0,6.0,1.0,1.0,2.0,5.0,5.0,0.0,2.0,0.0,2.0,4.0,3.0,0.0,5.0,0.0,5.0,4.0,1.0,6.0,2.0,4.0,5.0,1.0,4.0,4.0,3.0,4.0,1.0,4.0,4.0,0.0,3.0,5.0,4.0,6.0,1.0,3.0,1.0,1.0,3.0,1.0,4.0,2.0,5.0,0.0,6.0,1.0,3.0,4.0,1.0,0.0,1.0,4.0,5.0,2.0,0.0,0.0,5.0,0.0,1.0,4.0,5.0,0.0,1.0,6.0,1.0,0.0,0.0,0.0,0.0,1.0,2.0,0.0,0.0,0.0,5.0,4.0,0.0,4.0,4.0,4.0,1.0,0.0,0.0,4.0,0.0,5.0,4.0,0.0,0.0,1.0,5.0,5.0,4.0,4.0,5.0,6.0,1.0,0.0,2.0,0.0,3.0,3.0,5.0,1.0,4.0,0.0,3.0,5.0,5.0,5.0,0.0,2.0,5.0,1.0,3.0,3.0,4.0,0.0,6.0,1.0,0.0,4.0,4.0,0.0,0.0,5.0,1.0,0.0,0.0,1.0,4.0,0.0,4.0,0.0,1.0,5.0,4.0,2.0,4.0,2.0,0.0,4.0,3.0,0.0,3.0,0.0,0.0,0.0,4.0,0.0,0.0,0.0,1.0,3.0,1.0,2.0,0.0,0.0,0.0,0.0,4.0,0.0,2.0,3.0,4.0,6.0,0.0,4.0,6.0,0.0,3.0,4.0,0.0,4.0,4.0,4.0,0.0,1.0,6.0,0.0,4.0,0.0,3.0,0.0,1.0,2.0,4.0,5.0,0.0,0.0,0.0,0.0,3.0,0.0,2.0,4.0,5.0,0.0,0.0,4.0,1.0,0.0,0.0,2.0,4.0,5.0,3.0,1.0,4.0,5.0,1.0,3.0,4.0,4.0,1.0,4.0,4.0,4.0,1.0,2.0,2.0,5.0,5.0,0.0,5.0,3.0,0.0,0.0,4.0,5.0,3.0,5.0,0.0,0.0,4.0,4.0,1.0,4.0,0.0,4.0,4.0,4.0,0.0,0.0,0.0,3.0,0.0,0.0,1.0,2.0,1.0,3.0,2.0,0.0,1.0,3.0,1.0,0.0,3.0,0.0,1.0,0.0,1.0,1.0,0.0,5.0,1.0,0.0,4.0,0.0,5.0,6.0,4.0,1.0,0.0,4.0,4.0,2.0,1.0,1.0,0.0,4.0,3.0,4.0,4.0,0.0,1.0,5.0,5.0,4.0,4.0,1.0,0.0,4.0,3.0,0.0,0.0,0.0,1.0,4.0,0.0,4.0,4.0,1.0,6.0,3.0,6.0,1.0,3.0,0.0,0.0,0.0,4.0,4.0,0.0,4.0,0.0,1.0,5.0,0.0,2.0,3.0,0.0,3.0,3.0,1.0,1.0,3.0,0.0,6.0,0.0,4.0,3.0,1.0,1.0,0.0,6.0,6.0,0.0,4.0,0.0,4.0,0.0,0.0,0.0,0.0,5.0,3.0,0.0,1.0,3.0,5.0,4.0,2.0,2.0,0.0,0.0,1.0,4.0,0.0,2.0,3.0,0.0,0.0,3.0,2.0,6.0,4.0,0.0,0.0,2.0,0.0,1.0,5.0,2.0,5.0,4.0,4.0,3.0,0.0,4.0,3.0,2.0,5.0,0.0,0.0,3.0,0.0,0.0,5.0,2.0,3.0,4.0,0.0,4.0,1.0,4.0,4.0,2.0,0.0,1.0,0.0,0.0,4.0,0.0,6.0,4.0,0.0,1.0,1.0,0.0,1.0,3.0,0.0,4.0,3.0,4.0,0.0,1.0,4.0,4.0,1.0,4.0,1.0,2.0,3.0,3.0,1.0,1.0,1.0,5.0,4.0,5.0,4.0,4.0,4.0,3.0,0.0,3.0,1.0,5.0,1.0,2.0,0.0,5.0,4.0,1.0,2.0,5.0,4.0,4.0,4.0,3.0,4.0,4.0,4.0,1.0,1.0,4.0,4.0,3.0,0.0,4.0,5.0,3.0,0.0,0.0,3.0,1.0,4.0,0.0,4.0,0.0,0.0,4.0,2.0,0.0,5.0,5.0,4.0,4.0,0.0,3.0,1.0,1.0,3.0,0.0,4.0,1.0,3.0,4.0,4.0,4.0,4.0,4.0,1.0,4.0,2.0,1.0,5.0,4.0,4.0,0.0,1.0,1.0,0.0,4.0,1.0,2.0,1.0,1.0,2.0,4.0,4.0,3.0,5.0,2.0,0.0,5.0,0.0,0.0,0.0,4.0,2.0,0.0,2.0,4.0,4.0,1.0,3.0,4.0,2.0,0.0,1.0,0.0,4.0,1.0,1.0,1.0,1.0,5.0,0.0,4.0,0.0,4.0,1.0,0.0,1.0,0.0,4.0,1.0,1.0,1.0,4.0,0.0,0.0,0.0,2.0,4.0,4.0,1.0,5.0,0.0,3.0,4.0,3.0,6.0,1.0,0.0,4.0,1.0,4.0,4.0,4.0,1.0,2.0,4.0,1.0,4.0,1.0,4.0,3.0,1.0,6.0,3.0,4.0,1.0,1.0,4.0,4.0,1.0,0.0,1.0,0.0,2.0,4.0,2.0,0.0,0.0,0.0,5.0,1.0,3.0,1.0,4.0,1.0,4.0,4.0,3.0,5.0,1.0,4.0,3.0,6.0,1.0,0.0,4.0,2.0,0.0,3.0,2.0,4.0,1.0,0.0,1.0,4.0,1.0,0.0,4.0,1.0,0.0,0.0,1.0,3.0,1.0,5.0,1.0,3.0,0.0,1.0,1.0,0.0,4.0,0.0,0.0,1.0,0.0,4.0,4.0,5.0,0.0,3.0,0.0,4.0,1.0,3.0,4.0,2.0,0.0,5.0,3.0,4.0,2.0,4.0,3.0,5.0,0.0,1.0,0.0,0.0,1.0,4.0,0.0,2.0,1.0,4.0,1.0,1.0,4.0,4.0,4.0,2.0,1.0,4.0,1.0,1.0,4.0,0.0,0.0,2.0,1.0,4.0,1.0,0.0,0.0,1.0,0.0,6.0,2.0,5.0,4.0,5.0,4.0,1.0,5.0,0.0,0.0,0.0,4.0,5.0,4.0,4.0,1.0,4.0,1.0,0.0,2.0,4.0,4.0,6.0,2.0,0.0,4.0,4.0,4.0,4.0,0.0,4.0,0.0,2.0,4.0,3.0,0.0,2.0,4.0,4.0,3.0,4.0,6.0,4.0,0.0,0.0,2.0,1.0,4.0,0.0,4.0,6.0,1.0,5.0,2.0,2.0,1.0,3.0,0.0,1.0,3.0,3.0,4.0,4.0,4.0,0.0,1.0,1.0,2.0,5.0,3.0,1.0,4.0,0.0,2.0,0.0,1.0,0.0,2.0,4.0,0.0,3.0,5.0,1.0,4.0,1.0,2.0,0.0,4.0,1.0,1.0,1.0,4.0,0.0,3.0,4.0,3.0,2.0,4.0,3.0,1.0,1.0,4.0,4.0,4.0,1.0,6.0,4.0,4.0,3.0,4.0,1.0,4.0,4.0,1.0,4.0,4.0,1.0,2.0,4.0,4.0,4.0,4.0,0.0,4.0,3.0,3.0,2.0,4.0,2.0,0.0,1.0,1.0,1.0,4.0,0.0,4.0,6.0,0.0,0.0,5.0,0.0,1.0,0.0,4.0,0.0,4.0,5.0,4.0,4.0,4.0,1.0,0.0,2.0,4.0,5.0,4.0,0.0,6.0,0.0,4.0,1.0,4.0,1.0,5.0,0.0,4.0,1.0,1.0,2.0,3.0,1.0,4.0,0.0,0.0,0.0,0.0,4.0,2.0,0.0,3.0,3.0,1.0,3.0,3.0,4.0,0.0,0.0,1.0,2.0,4.0,4.0,3.0,4.0,5.0,2.0,4.0,6.0,1.0,3.0,1.0,3.0,4.0,5.0,0.0,2.0,4.0,4.0,0.0,0.0,2.0,1.0,1.0,4.0,1.0,3.0,6.0,4.0,1.0,1.0,1.0,1.0,4.0,0.0,6.0,4.0,0.0,1.0,2.0,5.0,4.0,2.0,2.0,1.0,4.0,4.0,4.0,1.0,6.0,3.0,4.0,0.0,4.0,0.0,1.0,3.0,0.0,4.0,2.0,4.0,3.0,4.0,0.0,0.0,4.0,3.0,2.0,0.0,2.0,2.0,1.0,4.0,3.0,4.0,0.0,6.0,0.0,6.0,1.0,3.0,1.0,1.0,4.0,3.0,1.0,1.0,3.0,3.0,4.0,0.0,1.0,4.0,1.0,3.0,0.0,4.0,4.0,0.0,3.0,0.0,1.0,4.0,4.0,0.0,1.0,0.0,0.0,6.0,1.0,1.0,0.0,2.0,1.0,4.0,0.0,1.0,4.0,5.0,4.0,1.0,1.0,0.0,1.0,0.0,4.0,3.0,4.0,0.0,1.0,4.0,6.0,0.0,3.0,3.0,0.0,5.0,1.0,3.0,1.0,4.0,1.0,0.0,4.0,0.0,2.0,4.0,1.0,4.0,0.0,4.0,5.0,4.0,0.0,0.0,4.0,0.0,6.0,0.0,5.0,4.0,1.0,4.0,0.0,4.0,1.0,0.0,1.0,1.0,0.0,4.0,0.0,4.0,4.0,1.0,0.0,0.0,4.0,0.0,5.0,4.0,0.0,0.0,0.0,0.0,4.0,1.0,0.0,0.0,3.0,4.0,1.0,0.0,6.0,1.0,2.0,1.0,0.0,0.0,1.0,4.0,1.0,3.0,0.0,0.0,1.0,1.0,4.0,4.0,5.0,0.0,1.0,2.0,5.0,4.0,1.0,0.0,4.0,1.0,0.0,3.0,1.0,3.0,0.0,0.0,1.0,0.0,6.0,1.0,6.0,4.0,1.0,4.0,1.0,1.0,4.0,5.0,3.0,1.0,1.0,1.0,1.0,4.0,5.0,1.0,4.0,0.0,1.0,3.0,4.0,0.0,0.0,3.0,4.0,1.0,3.0,4.0,0.0,2.0,3.0,4.0,0.0,1.0,0.0,4.0,4.0,1.0,0.0,1.0,2.0,0.0,6.0,1.0,1.0,6.0,1.0,1.0,4.0,6.0,2.0,0.0,0.0,1.0,3.0,4.0,3.0,0.0,0.0,6.0,0.0,5.0,1.0,1.0,1.0,4.0,5.0,5.0,5.0,1.0,4.0,4.0,0.0,0.0,4.0,1.0,4.0,3.0,2.0,2.0,2.0,4.0,3.0,4.0,4.0,1.0,3.0,0.0,0.0,4.0,0.0,1.0,6.0,0.0,5.0,4.0,0.0,0.0,4.0,4.0,0.0,3.0,4.0,2.0,0.0,4.0,0.0,4.0,0.0,4.0,5.0,2.0,0.0,2.0,1.0,4.0,4.0,2.0,1.0,0.0,4.0,5.0,3.0,6.0,4.0,1.0,0.0,4.0,0.0,0.0,0.0,6.0,0.0,4.0,4.0,1.0,5.0,1.0,3.0,1.0,1.0,2.0,5.0,1.0,1.0,0.0,5.0,1.0,6.0,1.0,4.0,4.0,2.0,0.0,4.0,0.0,1.0,3.0,0.0,0.0,2.0,0.0,0.0,0.0,1.0,4.0,0.0,5.0,6.0,6.0,1.0,3.0,1.0,3.0,4.0,0.0,5.0,4.0,5.0,1.0,1.0,3.0,6.0,4.0,6.0,4.0,2.0,4.0,1.0,4.0,1.0,3.0,3.0,3.0,4.0,4.0,4.0,0.0,4.0,0.0,4.0,1.0,0.0,4.0,4.0,4.0,1.0,3.0,1.0,4.0,5.0,3.0,0.0,1.0,4.0,3.0,4.0,3.0,4.0,4.0,0.0,2.0,4.0,4.0,4.0,1.0,3.0,4.0,1.0,0.0,0.0,1.0,1.0,6.0,4.0,3.0,2.0,4.0,1.0,3.0,1.0,0.0,0.0,3.0,4.0,1.0,4.0,1.0,1.0,0.0,3.0,1.0,0.0,4.0,1.0,3.0,1.0,2.0,4.0,5.0,6.0,4.0,1.0,0.0,1.0,2.0,3.0,3.0,4.0,0.0,4.0,6.0,4.0,5.0,4.0,6.0,1.0,4.0,2.0,1.0,0.0,2.0,4.0,0.0,5.0,4.0,6.0,1.0,0.0,3.0,4.0,5.0,0.0,1.0,0.0,0.0,4.0,2.0,4.0,0.0,3.0,1.0,1.0,1.0,0.0,4.0,6.0,2.0,1.0,1.0,4.0,4.0,0.0,3.0,4.0,4.0,0.0,4.0,4.0,0.0,4.0,4.0,4.0,3.0,3.0,0.0,2.0,1.0,4.0,0.0,6.0,0.0,0.0,6.0,1.0,4.0,1.0,4.0,4.0,0.0,5.0,0.0,4.0,1.0,1.0,0.0,3.0,0.0,5.0,1.0,5.0,1.0,4.0,1.0,3.0,0.0,1.0,0.0,0.0,0.0,2.0,1.0,0.0,0.0,2.0,4.0,4.0,4.0,0.0,4.0,4.0,3.0,1.0,3.0,4.0,1.0,0.0,3.0,4.0,1.0,4.0,2.0,1.0,0.0,4.0,4.0,5.0,2.0,5.0,1.0,3.0,0.0,4.0,1.0,2.0,1.0,4.0,1.0,0.0,1.0,2.0,0.0,1.0,1.0,4.0,0.0,4.0,0.0,0.0,4.0,4.0,2.0,1.0,1.0,2.0,6.0,4.0,0.0,1.0,5.0,0.0,4.0,3.0,1.0,1.0,0.0,4.0,4.0,4.0,6.0,1.0,4.0,4.0,3.0,3.0,0.0,2.0,0.0,3.0,0.0,4.0,4.0,1.0,4.0,1.0,1.0,0.0,3.0,4.0,0.0,3.0,2.0,0.0,4.0,4.0,2.0,4.0,4.0,4.0,4.0,4.0,4.0,6.0,3.0,4.0,1.0,4.0,3.0,1.0,0.0,4.0,1.0,4.0,5.0,1.0,0.0,0.0,0.0,6.0,1.0,2.0,4.0,4.0,4.0,4.0,4.0,0.0,5.0,4.0,4.0,0.0,4.0,1.0,1.0,6.0,4.0,5.0,4.0,1.0,3.0,2.0,1.0,4.0,0.0,1.0,0.0,4.0,4.0,4.0,1.0,4.0,3.0,1.0,0.0,4.0,4.0,1.0,3.0,1.0,4.0,2.0,3.0,3.0,2.0,4.0,1.0,1.0,5.0,4.0,4.0,1.0,4.0,1.0,0.0,0.0,1.0,4.0,5.0,0.0,4.0,6.0,2.0,0.0,2.0,6.0,0.0,1.0,0.0,0.0,4.0,4.0,6.0,0.0,1.0,3.0,2.0,0.0,1.0,4.0,2.0,4.0,5.0,1.0,4.0,3.0,4.0,0.0,3.0,3.0,0.0,0.0,4.0,4.0,3.0,0.0,3.0,6.0,4.0,6.0,0.0,3.0,0.0,0.0,1.0,4.0,4.0,3.0,2.0,4.0,5.0,1.0,3.0,4.0,2.0,5.0,0.0,1.0,4.0,1.0,0.0,1.0,0.0,4.0,2.0,4.0,0.0,0.0,4.0,0.0,0.0,2.0,0.0,1.0,3.0,1.0,1.0,4.0,0.0,1.0,0.0,2.0,4.0,0.0,1.0,3.0,0.0,2.0,4.0,4.0,0.0,1.0,4.0,0.0,4.0,1.0,3.0,0.0,4.0,4.0,0.0,3.0,1.0,0.0,2.0,1.0,3.0,4.0,4.0,1.0,4.0,4.0,4.0,1.0,1.0,1.0,0.0,1.0,4.0,0.0,4.0,4.0,0.0,5.0,0.0,5.0,1.0,3.0,1.0,3.0,4.0,4.0,0.0,3.0,1.0,1.0,0.0,0.0,3.0,2.0,4.0,0.0,2.0,1.0,2.0,1.0,1.0,4.0,4.0,0.0,4.0,1.0,4.0,3.0,1.0,1.0,4.0,0.0,1.0,4.0,4.0,0.0,4.0,3.0,1.0,4.0,1.0,4.0,0.0,0.0,4.0,5.0,2.0,1.0,0.0,0.0,3.0,4.0,0.0,3.0,4.0,1.0,4.0,5.0,1.0,0.0,1.0,5.0,4.0,4.0,0.0,4.0,4.0,1.0,1.0,0.0,4.0,0.0,0.0,3.0,0.0,4.0,5.0,0.0,0.0,0.0,4.0,1.0,2.0,0.0,1.0,1.0,3.0,1.0,4.0,5.0,3.0,4.0,4.0,1.0,1.0,4.0,0.0,6.0,6.0,0.0,0.0,4.0,0.0,2.0,1.0,1.0,0.0,4.0,1.0,3.0,2.0,1.0,0.0,3.0,0.0,0.0,0.0,3.0,0.0,1.0,1.0,0.0,2.0,4.0,2.0,0.0,1.0,0.0,0.0,3.0,1.0,4.0,2.0,5.0,6.0,2.0,6.0,4.0,0.0,0.0,1.0,4.0,0.0,6.0,0.0,0.0,4.0,0.0,1.0,3.0,1.0,4.0,0.0,4.0,1.0,5.0,4.0,2.0,4.0,0.0,0.0,4.0,2.0,3.0,2.0,1.0,3.0,1.0,0.0,4.0,1.0,0.0,0.0,3.0,4.0,0.0,0.0,1.0,0.0,1.0,1.0,6.0,1.0,2.0,4.0,6.0,1.0,4.0,1.0,4.0,4.0,1.0,1.0,0.0,4.0,1.0,0.0,4.0,3.0,0.0,4.0,0.0,5.0,3.0,5.0,4.0,0.0,0.0,3.0,4.0,4.0,3.0,1.0,3.0,2.0,1.0,0.0,4.0,3.0,2.0,0.0,4.0,0.0,5.0,0.0,4.0,3.0,3.0,0.0,4.0,3.0,2.0,0.0,4.0,4.0,0.0,0.0,5.0,0.0,0.0,1.0,0.0,5.0,5.0,0.0,1.0,6.0,4.0,6.0,5.0,4.0,0.0,2.0,5.0,4.0,5.0,5.0,4.0,4.0,6.0,1.0,5.0,1.0,3.0,1.0,6.0,3.0,6.0,3.0,4.0,4.0,5.0,4.0,3.0,5.0,0.0,4.0,0.0,4.0,4.0,1.0,2.0,6.0,4.0,3.0,4.0,4.0,6.0,1.0,0.0,5.0,4.0,0.0,0.0,0.0,3.0,1.0,2.0,4.0,1.0,6.0,4.0,0.0,0.0,3.0,4.0,1.0,6.0,4.0,0.0,2.0,1.0,1.0,4.0,2.0,1.0,4.0,1.0,4.0,0.0,0.0,4.0,4.0,4.0,3.0,3.0,0.0,2.0,4.0,5.0,0.0,3.0,1.0,4.0,4.0,3.0,1.0,5.0,4.0,1.0,4.0,1.0,3.0,3.0,4.0,4.0,0.0,1.0,4.0,1.0,3.0,6.0,1.0,4.0,3.0,4.0,4.0,4.0,4.0,1.0,5.0,2.0,4.0,1.0,3.0,4.0,3.0,1.0,2.0,5.0,5.0,4.0,4.0,4.0,6.0,3.0,4.0,4.0,3.0,4.0,0.0,3.0,4.0,4.0,0.0,0.0,3.0,1.0,2.0,6.0,4.0,1.0,1.0,0.0,1.0,3.0,4.0,4.0,0.0,1.0,4.0,0.0,3.0,0.0,3.0,5.0,3.0,1.0,4.0,5.0,0.0,1.0,4.0,3.0,3.0,0.0,4.0,2.0,1.0,3.0,3.0,0.0,4.0,0.0,5.0,4.0,0.0,0.0,4.0,2.0,1.0,3.0,5.0,2.0,1.0,2.0,1.0,1.0,3.0,0.0,4.0,0.0,3.0,4.0,5.0,5.0,5.0,4.0,0.0,4.0,3.0,5.0,1.0,4.0,4.0,3.0,5.0,6.0,1.0,2.0,6.0,0.0,2.0,2.0,3.0,3.0,4.0,0.0,5.0,3.0,0.0,4.0,4.0,5.0,2.0,4.0,4.0,3.0,0.0,3.0,3.0,0.0,4.0,3.0,4.0,1.0,4.0,1.0,0.0,2.0,5.0,0.0,1.0,4.0,4.0,0.0,5.0,4.0,6.0,1.0,4.0,5.0,4.0,0.0,1.0,4.0,3.0,3.0,5.0,0.0,0.0,3.0,0.0,5.0,5.0,0.0,3.0,0.0,5.0,4.0,0.0,3.0,5.0,6.0,3.0,0.0,1.0,0.0,0.0,1.0,1.0,2.0,1.0,3.0,3.0,3.0,0.0,1.0,4.0,4.0,1.0,3.0,6.0,1.0,1.0,5.0,0.0,4.0,5.0,1.0,1.0,0.0,5.0,3.0,0.0,3.0,1.0,1.0,0.0,0.0,0.0,3.0,3.0,0.0,1.0,5.0,3.0,3.0,2.0,3.0,0.0,3.0,0.0,2.0,4.0,3.0,0.0,4.0,2.0,0.0,4.0,0.0,2.0,1.0,4.0,5.0,4.0,4.0,3.0,3.0,1.0,4.0,5.0,4.0,5.0,1.0,6.0,3.0,5.0,1.0,1.0,3.0,4.0,4.0,6.0,2.0,1.0,4.0,4.0,1.0,4.0,0.0,5.0,3.0,5.0,6.0,2.0,4.0,0.0,3.0,5.0,0.0,5.0,4.0,1.0,2.0,4.0,0.0,4.0,4.0,3.0,1.0,2.0,3.0,1.0,3.0,2.0,5.0,2.0,4.0,3.0,2.0,5.0,2.0,1.0,0.0,4.0,4.0,5.0,3.0,1.0,1.0,1.0,4.0,5.0,1.0,1.0,3.0,5.0,2.0,3.0,3.0,1.0,4.0,1.0,1.0,3.0,4.0,1.0,4.0,5.0,6.0,0.0,5.0,0.0,0.0,0.0,4.0,4.0,4.0,4.0,3.0,4.0,4.0,1.0,4.0,1.0,3.0,5.0,1.0,4.0,4.0,4.0,3.0,3.0,5.0,0.0,2.0,5.0,3.0,0.0,0.0,0.0,6.0,0.0,2.0,1.0,3.0,4.0,6.0,3.0,0.0,3.0,0.0,4.0,0.0,3.0,0.0,4.0,6.0,4.0,4.0,5.0,0.0,1.0,4.0,1.0,5.0,3.0,6.0,4.0,3.0,1.0,4.0,1.0,3.0,4.0,0.0,3.0,0.0,6.0,4.0,5.0,4.0,2.0,4.0,4.0,5.0,4.0,2.0,5.0,1.0,4.0,5.0,2.0,4.0,3.0,1.0,1.0,3.0,4.0,3.0,4.0,4.0,5.0,2.0,1.0,0.0,4.0,3.0,1.0,4.0,4.0,5.0,1.0,4.0,6.0,0.0,0.0,0.0,4.0,3.0,3.0,4.0,4.0,4.0,0.0,4.0,2.0,1.0,4.0,4.0,0.0,4.0,1.0,4.0,5.0,1.0,4.0,0.0,4.0,3.0,3.0,4.0,3.0,0.0,5.0,4.0,4.0,1.0,4.0,4.0,1.0,0.0,3.0,4.0,0.0,1.0,2.0,0.0,0.0,0.0,4.0,4.0,5.0,5.0,0.0,0.0,3.0,0.0,4.0,1.0,4.0,3.0,3.0,0.0,1.0,3.0,1.0,2.0,4.0,1.0,4.0,4.0,4.0,0.0,5.0,0.0,4.0,0.0,5.0,0.0,5.0,3.0,4.0,5.0,1.0,0.0,4.0,5.0,0.0,3.0,4.0,3.0,5.0,1.0,4.0,5.0,4.0,4.0,1.0,0.0,3.0,5.0,6.0,4.0,4.0,1.0,0.0,2.0,5.0,5.0,0.0,0.0,1.0,2.0,0.0,1.0,3.0,4.0,4.0,2.0,2.0,6.0,4.0,1.0,0.0,2.0,1.0,1.0,5.0,4.0,1.0,4.0,6.0,4.0,0.0,6.0,5.0,5.0,4.0,1.0,1.0,2.0,0.0,0.0,1.0,1.0,0.0,6.0,5.0,4.0,4.0,1.0,3.0,0.0,6.0,1.0,4.0,1.0,4.0,1.0,0.0,6.0,1.0,4.0,1.0,3.0,5.0,0.0,1.0,4.0,1.0,4.0,1.0,0.0,4.0,2.0,1.0,0.0,2.0,2.0,4.0,0.0,5.0,1.0,1.0,0.0,4.0,2.0,6.0,2.0,1.0,0.0,4.0,2.0,3.0,4.0,3.0,4.0,5.0,3.0,3.0,1.0,4.0,5.0,4.0,5.0,1.0,4.0,2.0,0.0,1.0,5.0,5.0,4.0,1.0,1.0,1.0,3.0,4.0,2.0,2.0,1.0,2.0,0.0,1.0,0.0,3.0,2.0,5.0,1.0,3.0,4.0,4.0,1.0,0.0,0.0,4.0,1.0,5.0,3.0,5.0,1.0,4.0,2.0,1.0,1.0,3.0,3.0,1.0,0.0,1.0,0.0,4.0,0.0,1.0,2.0,4.0,3.0,1.0,6.0,3.0,0.0,5.0,1.0,3.0,5.0,6.0,4.0,4.0,4.0,0.0,3.0,3.0,4.0,0.0,0.0,4.0,3.0,3.0,1.0,5.0,1.0,1.0,0.0,5.0,4.0,3.0,3.0,4.0,5.0,5.0,3.0,2.0,5.0,4.0,4.0,4.0,3.0,4.0,4.0,1.0,5.0,2.0,0.0,3.0,4.0,3.0,0.0,6.0,4.0,0.0,1.0,0.0,4.0,4.0,3.0,4.0,4.0,2.0,5.0,0.0,0.0,5.0,6.0,3.0,2.0,0.0,6.0,3.0,4.0,4.0,4.0,5.0,4.0,4.0,3.0,4.0,6.0,3.0,0.0,4.0,5.0,0.0,4.0,4.0,5.0,3.0,1.0,0.0,0.0,0.0,3.0,6.0,3.0,4.0,4.0,4.0,0.0,1.0,6.0,4.0,4.0,4.0,0.0,0.0,3.0,0.0,2.0,1.0,4.0,4.0,0.0,5.0,3.0,0.0,4.0,3.0,1.0,3.0,4.0,1.0,1.0,4.0,1.0,4.0,1.0,5.0,6.0,4.0,3.0,4.0,0.0,1.0,2.0,3.0,3.0,4.0,4.0,2.0,0.0,1.0,4.0,1.0,0.0,6.0,4.0,3.0,3.0,5.0,6.0,3.0,1.0,4.0,5.0,4.0,2.0,4.0,4.0,0.0,4.0,5.0,4.0,4.0,1.0,0.0,3.0,2.0,4.0,1.0,3.0,2.0,3.0,0.0,5.0,4.0,0.0,0.0,4.0,0.0,1.0,1.0,5.0,0.0,1.0,5.0,1.0,3.0,2.0,6.0,4.0,4.0,3.0,4.0,4.0,4.0,4.0,0.0,4.0,1.0,6.0,4.0,1.0,1.0,1.0,1.0,3.0,2.0,3.0,6.0,0.0,5.0,3.0,5.0,4.0,5.0,0.0,4.0,3.0,0.0,1.0,4.0,1.0,2.0,5.0,1.0,3.0,1.0,6.0,1.0,1.0,1.0,6.0,0.0,0.0,1.0,3.0,3.0,5.0,4.0,1.0,0.0,4.0,0.0,6.0,3.0,2.0,4.0,4.0,4.0,1.0,3.0,0.0,1.0,4.0,0.0,4.0,3.0,4.0,1.0,4.0,6.0,3.0,0.0,2.0,1.0,4.0,3.0,4.0,4.0,3.0,2.0,4.0,4.0,0.0,3.0,1.0,4.0,4.0,0.0,2.0,0.0,3.0,5.0,4.0,4.0,6.0,4.0,0.0,4.0,1.0,4.0,5.0,1.0,5.0,4.0,5.0,3.0,4.0,0.0,2.0,3.0,6.0,5.0,1.0,4.0,3.0,2.0,4.0,5.0,0.0,5.0,4.0,2.0,0.0,4.0,4.0,4.0,6.0,6.0,5.0,4.0,2.0,0.0,6.0,3.0,4.0,3.0,0.0,3.0,6.0,4.0,4.0,4.0,1.0,3.0,0.0,1.0,1.0,2.0,0.0,4.0,1.0,0.0,3.0,0.0,3.0,0.0,0.0,3.0,3.0,0.0,5.0,0.0,0.0,2.0,2.0,3.0,1.0,4.0,4.0,4.0,3.0,0.0,0.0,4.0,6.0,0.0,4.0,0.0,4.0,4.0,0.0,0.0,2.0,3.0,3.0,4.0,1.0,5.0,3.0,4.0,2.0,3.0,0.0,5.0,5.0,4.0,6.0,3.0,1.0,1.0,1.0,0.0,2.0,4.0,1.0,0.0,2.0,0.0,4.0,5.0,0.0,1.0,4.0,0.0,5.0,4.0,5.0,4.0,6.0,3.0,0.0,5.0,0.0,4.0,4.0,1.0,1.0,0.0,5.0,6.0,1.0,4.0,3.0,4.0,3.0,1.0,0.0,5.0,6.0,5.0,5.0,4.0,3.0,4.0,1.0,5.0,0.0,0.0,0.0,6.0,6.0,4.0,4.0,0.0,3.0,1.0,1.0,4.0,4.0,0.0,4.0,3.0,1.0,4.0,4.0,0.0,2.0,5.0,4.0,0.0,2.0,4.0,5.0,0.0,3.0,1.0,1.0,1.0,4.0,0.0,1.0,0.0,4.0,4.0,0.0,1.0,0.0,0.0,2.0,1.0,5.0,5.0,2.0,1.0,5.0,2.0,4.0,4.0,4.0,4.0,5.0,4.0,4.0,2.0,4.0,5.0,0.0,4.0,0.0,0.0,1.0,5.0,5.0,0.0,4.0,1.0,2.0,4.0,0.0,3.0,0.0,4.0,4.0,3.0,3.0,1.0,6.0,1.0,3.0,4.0,3.0,2.0,2.0,0.0,0.0,4.0,1.0,0.0,1.0,3.0,3.0,0.0,1.0,4.0,3.0,2.0,4.0,4.0,4.0,4.0,5.0,3.0,0.0,4.0,3.0,6.0,1.0,1.0,4.0,2.0,2.0,5.0,1.0,1.0,6.0,2.0,0.0,0.0,1.0,5.0,2.0,4.0,4.0,0.0,0.0,0.0,2.0,4.0,1.0,4.0,3.0,5.0,0.0,5.0,1.0,5.0,0.0,3.0,4.0,1.0,0.0,4.0,0.0,1.0,3.0,4.0,0.0,1.0,4.0,4.0,5.0,4.0,0.0,2.0,0.0,4.0,2.0,2.0,4.0,4.0,4.0,4.0,3.0,0.0,3.0,0.0,6.0,2.0,4.0,1.0,3.0,1.0,3.0,0.0,4.0,5.0,4.0,0.0,4.0,0.0,4.0,0.0,1.0,0.0,0.0,4.0,0.0,0.0,2.0,0.0,0.0,0.0,1.0,4.0,5.0,3.0,0.0,3.0,4.0,0.0,0.0,5.0,0.0,1.0,0.0,4.0,3.0,4.0,1.0,0.0,4.0,2.0,0.0,4.0,0.0,1.0,0.0,4.0,6.0,4.0,5.0,5.0,0.0,0.0,1.0,5.0,4.0,2.0,4.0,5.0,3.0,4.0,4.0,0.0,0.0,0.0,0.0,4.0,5.0,2.0,4.0,6.0,4.0,0.0,4.0,4.0,4.0,4.0,3.0,2.0,0.0,4.0,0.0,6.0,3.0,4.0,0.0,1.0,6.0,0.0,4.0,3.0,1.0,3.0,0.0,2.0,0.0,4.0,4.0,1.0,5.0,4.0,0.0,5.0,4.0,6.0,0.0,4.0,1.0,2.0,4.0,4.0,2.0,0.0,1.0,5.0,4.0,1.0,5.0,1.0,0.0,0.0,0.0,4.0,0.0,4.0,4.0,1.0,4.0,6.0,0.0,4.0,4.0,0.0,0.0,5.0,0.0,4.0,4.0,1.0,1.0,0.0,3.0,0.0,4.0,0.0,1.0,2.0,1.0,3.0,0.0,1.0,4.0,0.0,4.0,0.0,1.0,4.0,0.0,0.0,4.0,6.0,3.0,1.0,4.0,0.0,0.0,0.0,3.0,4.0,0.0,4.0,0.0,0.0,0.0,5.0,4.0,4.0,4.0,6.0,3.0,4.0,0.0,5.0,0.0,4.0,5.0,4.0,0.0,0.0,4.0,3.0,1.0,4.0,5.0,4.0,0.0,0.0,4.0,4.0,4.0,3.0,1.0,4.0,4.0,4.0,4.0,5.0,0.0,4.0,4.0,0.0,0.0,3.0,1.0,4.0,5.0,1.0,0.0,1.0,5.0,4.0,4.0,0.0,4.0,1.0,1.0,4.0,3.0,5.0,5.0,4.0,3.0,4.0,5.0,0.0,4.0,0.0,4.0,5.0,4.0,4.0,6.0,4.0,5.0,4.0,3.0,3.0,4.0,4.0,4.0,0.0,6.0,5.0,4.0,0.0,4.0,0.0,4.0,1.0,1.0,1.0,0.0,2.0,1.0,0.0,4.0,0.0,4.0,3.0,1.0,4.0,0.0,0.0,0.0,0.0,0.0,2.0,0.0,5.0,3.0,0.0,0.0,1.0,3.0,4.0,1.0,0.0,0.0,0.0,4.0,3.0,4.0,2.0,4.0,3.0,4.0,5.0,4.0,4.0,6.0,3.0,0.0,4.0,4.0,4.0,4.0,2.0,4.0,1.0,0.0,5.0,3.0,3.0,1.0,3.0,0.0,0.0,4.0,0.0,0.0,4.0,4.0,0.0,5.0,5.0,6.0,2.0,4.0,4.0,0.0,0.0,4.0,4.0,0.0,0.0,1.0,6.0,3.0,5.0,3.0,1.0,1.0,4.0,5.0,0.0,4.0,2.0,0.0,4.0,3.0,4.0,1.0,1.0,4.0,4.0,1.0,4.0,0.0,1.0,0.0,4.0,4.0,3.0,0.0,0.0,1.0,5.0,4.0,0.0,6.0,3.0,1.0,4.0,5.0,0.0,3.0,3.0,0.0,2.0,3.0,4.0,4.0,6.0,1.0,4.0,4.0,4.0,2.0,1.0,3.0,1.0,0.0,0.0,0.0,0.0,4.0,5.0,3.0,3.0,4.0,3.0,0.0,4.0,3.0,4.0,0.0,2.0,1.0,4.0,0.0,0.0,0.0,0.0,4.0,4.0,4.0,0.0,4.0,0.0,4.0,0.0,3.0,5.0,4.0,4.0,3.0,0.0,4.0,2.0,0.0,0.0,4.0,2.0,2.0,1.0,4.0,0.0,4.0,4.0,0.0,0.0,0.0,1.0,4.0,1.0,5.0,4.0,0.0,4.0,2.0,1.0,4.0,4.0,4.0,4.0,2.0,0.0,0.0,4.0,6.0,3.0,6.0,0.0,4.0,4.0,4.0,0.0,4.0,4.0,4.0,3.0,5.0,4.0,4.0,1.0,6.0,0.0,4.0,2.0,5.0,0.0,4.0,1.0,3.0,4.0,0.0,4.0,0.0,4.0,4.0,4.0,5.0,4.0,0.0,0.0,5.0,6.0,0.0,5.0,4.0,0.0,5.0,0.0,4.0,4.0,2.0,4.0,4.0,1.0,3.0,4.0,3.0,5.0,1.0,4.0,5.0,4.0,4.0,0.0,0.0,4.0,1.0,3.0,1.0,3.0,3.0,4.0,4.0,4.0,4.0,4.0,4.0,0.0,0.0,4.0,0.0,1.0,5.0,4.0,3.0,3.0,4.0,4.0,0.0,4.0,4.0,3.0,1.0,0.0,6.0,1.0,4.0,4.0,2.0,4.0,5.0,4.0,4.0,4.0,4.0,1.0,0.0,4.0,5.0,5.0,3.0,0.0,4.0,4.0,4.0,4.0,4.0,5.0,0.0,4.0,0.0,0.0,4.0,0.0,5.0,0.0,3.0,4.0,4.0,1.0,4.0,1.0,4.0,0.0,4.0,4.0,1.0,2.0,3.0,3.0,1.0,4.0,0.0,4.0,5.0,4.0,0.0,4.0,5.0,5.0,4.0,4.0,0.0,0.0,0.0,4.0,5.0,4.0,4.0,0.0,2.0,1.0,3.0,0.0,6.0,3.0,4.0,5.0,1.0,0.0,4.0,5.0,4.0,0.0,6.0,4.0,4.0,4.0,0.0,0.0,0.0,0.0,4.0,6.0,0.0,4.0,5.0,2.0,0.0,0.0,4.0,1.0,0.0,0.0,2.0,4.0,2.0,0.0,0.0,4.0,4.0,1.0,4.0,0.0,5.0,0.0,4.0,3.0,4.0,6.0,1.0,4.0,0.0,6.0,1.0,0.0,4.0,3.0,4.0,4.0,2.0,1.0,5.0,4.0,4.0,0.0,5.0,4.0,0.0,0.0,0.0,3.0,0.0,0.0,0.0,0.0,5.0,4.0,0.0,0.0,6.0,0.0,4.0,6.0,4.0,4.0,0.0,4.0,4.0,1.0,4.0,4.0,4.0,4.0,3.0,0.0,0.0,1.0,0.0,4.0,2.0,3.0,4.0,4.0,5.0,3.0,4.0,3.0,4.0,0.0,1.0,2.0,0.0,0.0,4.0,0.0,4.0,0.0,1.0,4.0,5.0,0.0,0.0,2.0,0.0,4.0,0.0,4.0,3.0,0.0,0.0,6.0,1.0,4.0,0.0,4.0,4.0,4.0,1.0,4.0,0.0,6.0,4.0,0.0,4.0,0.0,5.0,4.0,4.0,4.0,4.0,0.0,4.0,3.0,0.0,0.0,0.0,0.0,0.0,1.0,4.0,4.0,0.0,6.0,0.0,4.0,4.0,3.0,0.0,0.0,1.0,3.0,4.0,4.0,6.0,5.0,0.0,2.0,4.0,2.0,4.0,1.0,5.0,0.0,4.0,2.0,3.0,4.0,3.0,4.0,4.0,0.0,1.0,4.0,0.0,4.0,0.0,0.0,0.0,0.0,3.0,4.0,1.0,5.0,6.0,1.0,0.0,1.0,0.0,0.0,5.0,4.0,4.0,4.0,4.0,5.0,0.0,4.0,4.0,3.0,3.0,1.0,4.0,0.0,0.0,5.0,4.0,1.0,0.0,0.0,1.0,6.0,6.0,1.0,5.0,0.0,0.0,3.0,3.0,0.0,0.0,5.0,1.0,4.0,4.0,3.0,4.0,4.0,1.0,4.0,2.0,3.0,0.0,4.0,1.0,0.0,4.0,0.0,0.0,2.0,0.0,1.0,6.0,2.0,0.0,0.0,4.0,5.0,4.0,1.0,0.0,0.0,4.0,4.0,4.0,4.0,6.0,0.0,3.0,5.0,6.0,4.0,1.0,4.0,4.0,1.0,0.0,4.0,3.0,0.0,4.0,5.0,0.0,4.0,0.0,4.0,4.0,1.0,3.0,4.0,0.0,4.0,0.0,6.0,4.0,4.0,0.0,4.0,5.0,4.0,5.0,2.0,0.0,4.0,0.0,4.0,4.0,4.0,0.0,0.0,0.0,4.0,3.0,0.0,4.0,0.0,4.0,3.0,4.0,5.0,4.0,2.0,0.0,6.0,4.0,4.0,4.0,1.0,5.0,4.0,2.0,3.0,5.0,3.0,1.0,4.0,4.0,4.0,1.0,2.0,4.0,0.0,2.0,4.0,1.0,2.0,3.0,4.0,3.0,4.0,3.0,1.0,1.0,5.0,2.0,3.0,4.0,0.0,5.0,5.0,2.0,4.0,0.0,3.0,4.0,4.0,0.0,5.0,3.0,4.0,4.0,0.0,0.0,3.0,4.0,3.0,4.0,0.0,2.0,5.0,5.0,5.0,4.0,0.0,5.0,4.0,6.0,2.0,0.0,1.0,5.0,3.0,0.0,1.0,4.0,0.0,4.0,4.0,4.0,0.0,3.0,4.0,5.0,4.0,0.0,0.0,1.0,4.0,0.0,0.0,0.0,4.0,4.0,3.0,0.0,0.0,6.0,4.0,4.0,0.0,0.0,6.0,3.0,0.0,5.0,0.0,3.0,4.0,0.0,0.0,4.0,0.0,5.0,0.0,4.0,2.0,0.0,3.0,0.0,0.0,5.0,3.0,0.0,4.0,4.0,4.0,4.0,5.0,0.0,4.0,6.0,0.0,4.0,6.0,4.0,6.0,5.0,1.0,4.0,0.0,4.0,0.0,6.0,4.0,6.0,4.0,3.0,0.0,0.0,4.0,0.0,4.0,0.0,4.0,3.0,6.0,4.0,0.0,6.0,5.0,1.0,1.0,0.0,0.0,0.0,4.0,4.0,5.0,2.0,2.0,2.0,0.0,5.0,4.0,0.0,1.0,4.0,1.0,4.0,0.0,0.0,0.0,5.0,0.0,2.0,2.0,1.0,4.0,0.0,0.0,1.0,4.0,3.0,1.0,4.0,3.0,4.0,1.0,0.0,2.0,0.0,4.0,2.0,0.0,3.0,6.0,1.0,4.0,4.0,4.0,4.0,4.0,0.0,0.0,6.0,4.0,5.0,4.0,2.0,4.0,4.0,0.0,0.0,4.0,4.0,0.0,5.0,0.0,4.0,3.0,0.0,5.0,4.0,1.0,0.0,4.0,0.0,4.0,1.0,2.0,3.0,4.0,3.0,5.0,4.0,4.0,4.0,4.0,0.0,0.0,0.0,4.0,4.0,3.0,1.0,0.0,4.0,2.0,0.0,2.0,5.0,4.0,2.0,1.0,6.0,1.0,4.0,4.0,4.0,0.0,4.0,3.0,0.0,4.0,4.0,4.0,0.0,4.0,3.0,1.0,1.0,0.0,0.0,4.0,0.0,0.0,5.0,5.0,1.0,4.0,1.0,6.0,3.0,6.0,2.0,6.0,0.0,0.0,0.0,4.0,5.0,0.0,1.0,5.0,3.0,3.0,3.0,4.0,1.0,1.0,2.0,0.0,4.0,4.0,4.0,0.0,0.0,5.0,1.0,1.0,0.0,0.0,0.0,0.0,4.0,2.0,4.0,3.0,4.0,3.0,0.0,3.0,1.0,3.0,0.0,4.0,2.0,0.0,0.0,2.0,4.0,4.0,4.0,4.0,2.0,4.0,0.0,0.0,4.0,2.0,0.0,4.0,0.0,2.0,4.0,0.0,6.0,0.0,4.0,5.0,2.0,6.0,4.0,0.0,4.0,0.0,6.0,4.0,4.0,1.0,3.0,0.0,5.0,0.0,0.0,0.0,4.0,5.0,1.0,4.0,0.0,3.0,0.0,5.0,0.0,4.0,2.0,5.0,0.0,3.0,2.0,4.0,4.0,4.0,0.0,4.0,4.0,6.0,0.0,3.0,0.0,1.0,0.0,2.0,4.0,4.0,5.0,5.0,5.0,1.0,5.0,0.0,0.0,3.0,0.0,6.0,0.0,3.0,5.0,0.0,4.0,5.0,0.0,1.0,0.0,0.0,5.0,5.0,4.0,0.0,4.0,3.0,4.0,6.0,0.0,4.0,0.0,3.0,1.0,4.0,2.0,0.0,4.0,4.0,0.0,3.0,4.0,0.0,2.0,3.0,3.0,0.0,0.0,3.0,4.0,3.0,5.0,0.0,4.0,4.0,0.0,4.0,3.0,2.0,4.0,0.0,0.0,2.0,4.0,0.0,3.0,4.0,0.0,4.0,0.0,4.0,1.0,4.0,5.0,4.0,4.0,1.0,4.0,4.0,3.0,4.0,5.0,0.0,0.0,2.0,3.0,3.0,5.0,4.0,0.0,4.0,4.0,1.0,5.0,4.0,0.0,0.0,0.0,4.0,1.0,0.0,0.0,3.0,5.0,3.0,0.0,4.0,1.0,2.0,4.0,0.0,0.0,0.0,0.0,4.0,4.0,1.0,5.0,5.0,3.0,1.0,2.0,4.0,1.0,0.0,0.0,4.0,1.0,1.0,3.0,6.0,0.0,4.0,0.0,0.0,4.0,0.0,0.0,4.0,0.0,0.0,0.0,0.0,4.0,4.0,2.0,0.0,0.0,4.0,4.0,1.0,4.0,3.0,0.0,1.0,3.0,4.0,4.0,2.0,0.0,4.0,1.0,6.0,1.0,0.0,0.0,4.0,5.0,0.0,4.0,4.0,4.0,0.0,0.0,3.0,3.0,4.0,0.0,2.0,3.0,0.0,4.0,0.0,0.0,4.0,0.0,0.0,3.0,6.0,4.0,0.0,0.0,3.0,1.0,0.0,0.0,2.0,5.0,6.0,6.0,0.0,4.0,0.0,0.0,3.0,3.0,4.0,0.0,4.0,4.0,3.0,0.0,0.0,0.0,4.0,3.0,1.0,1.0,2.0,4.0,4.0,5.0,1.0,1.0,0.0,3.0,0.0,5.0,0.0,5.0,0.0,0.0,3.0,0.0,5.0,0.0,4.0,3.0,0.0,5.0,5.0,6.0,3.0,1.0,4.0,0.0,1.0,3.0,6.0,0.0,3.0,4.0,1.0,1.0,2.0,6.0,1.0,2.0,0.0,1.0,6.0,0.0,5.0,3.0,2.0,5.0,0.0,0.0,0.0,0.0,4.0,0.0,3.0,5.0,5.0,6.0,5.0,4.0,0.0,0.0,5.0,6.0,4.0,1.0,5.0,4.0,3.0,4.0,0.0,0.0,4.0,4.0,4.0,3.0,4.0,5.0,2.0,6.0,0.0,0.0,4.0,4.0,4.0,4.0,5.0,1.0,2.0,4.0,6.0,2.0,0.0,4.0,2.0,4.0,4.0,6.0,2.0,4.0,4.0,5.0,4.0,4.0,2.0,1.0,1.0,4.0,6.0,1.0,4.0,0.0,1.0,1.0,5.0,4.0,4.0,4.0,5.0,4.0,4.0,4.0,4.0,0.0,4.0,2.0,3.0,2.0,4.0,1.0,1.0,0.0,0.0,0.0,0.0,6.0,1.0,4.0,1.0,0.0,3.0,1.0,3.0,3.0,4.0,0.0,3.0,0.0,0.0,4.0,2.0,2.0,0.0,3.0,3.0,4.0,3.0,4.0,4.0,4.0,0.0,4.0,2.0,0.0,1.0,0.0,5.0,2.0,6.0,0.0,1.0,4.0,5.0,0.0,5.0,4.0,2.0,4.0,0.0,1.0,2.0,6.0,1.0,3.0,5.0,1.0,1.0,3.0,1.0,0.0,6.0,0.0,4.0,4.0,4.0,4.0,3.0,4.0,0.0,1.0,0.0,4.0,0.0,5.0,5.0,4.0,3.0,4.0,0.0,1.0,1.0,5.0,6.0,0.0,1.0,0.0,1.0,0.0,4.0,0.0,4.0,4.0,5.0,0.0,0.0,4.0,0.0,0.0,1.0,0.0,6.0,6.0,4.0,3.0,1.0,0.0,3.0,4.0,5.0,3.0,4.0,3.0,4.0,0.0,2.0,4.0,0.0,0.0,0.0,3.0,1.0,1.0,4.0,1.0,0.0,3.0,0.0,0.0,3.0,0.0,0.0,1.0,0.0,4.0,5.0,1.0,0.0,3.0,3.0,3.0,0.0,5.0,6.0,1.0,3.0,5.0,1.0,5.0,5.0,3.0,5.0,4.0,4.0,6.0,2.0,3.0,0.0,0.0,4.0,0.0,5.0,6.0,5.0,1.0,0.0,4.0,0.0,3.0,0.0,1.0,0.0,1.0,1.0,4.0,5.0,3.0,1.0,3.0,2.0,1.0,3.0,0.0,1.0,1.0,5.0,4.0,0.0,0.0,0.0,4.0,2.0,1.0,5.0,5.0,0.0,5.0,5.0,4.0,0.0,0.0,4.0,2.0,1.0,0.0,2.0,6.0,0.0,3.0,0.0,4.0,1.0,4.0,1.0,1.0,4.0,0.0,1.0,0.0,5.0,4.0,0.0,4.0,0.0,0.0,0.0,6.0,1.0,0.0,1.0,3.0,4.0,1.0,0.0,1.0,3.0,0.0,6.0,4.0,3.0,3.0,3.0,0.0,1.0,0.0,0.0,4.0,3.0,1.0,6.0,0.0,0.0,1.0,4.0,1.0,5.0,0.0,5.0,1.0,4.0,3.0,5.0,5.0,6.0,0.0,4.0,5.0,0.0,4.0,4.0,6.0,1.0,4.0,0.0,1.0,2.0,6.0,5.0,0.0,0.0,2.0,1.0,3.0,0.0,0.0,6.0,3.0,6.0,3.0,0.0,4.0,0.0,2.0,2.0,4.0,1.0,1.0,2.0,1.0,1.0,4.0,0.0,0.0,1.0,4.0,1.0,1.0,2.0,1.0,1.0,4.0,6.0,5.0,0.0,3.0,0.0,3.0,4.0,5.0,4.0,1.0,0.0,0.0,1.0,6.0,0.0,0.0,5.0,1.0,6.0,6.0,3.0,4.0,1.0,1.0,4.0,0.0,1.0,1.0,1.0,4.0,3.0,6.0,1.0,5.0,0.0,1.0,3.0,3.0,5.0,5.0,0.0,5.0,2.0,4.0,4.0,0.0,0.0,4.0,4.0,1.0,0.0,0.0,0.0,1.0,1.0,2.0,4.0,4.0,6.0,3.0,0.0,4.0,3.0,6.0,4.0,2.0,3.0,5.0,4.0,3.0,0.0,5.0,1.0,0.0,4.0,4.0,3.0,4.0,5.0,0.0,0.0,4.0,5.0,4.0,0.0,0.0,3.0,3.0,0.0,5.0,0.0,6.0,2.0,0.0,4.0,4.0,0.0,0.0,3.0,0.0,6.0,5.0,1.0,3.0,0.0,3.0,5.0,0.0,1.0,0.0,6.0,2.0,6.0,4.0,5.0,6.0,0.0,2.0,0.0,1.0,4.0,5.0,0.0,5.0,6.0,0.0,4.0,4.0,1.0,2.0,2.0,0.0,3.0,2.0,0.0,4.0,3.0,4.0,0.0,0.0,4.0,2.0,1.0,4.0,2.0,1.0,0.0,6.0,1.0,1.0,4.0,0.0,3.0,5.0,1.0,4.0,0.0,0.0,4.0,6.0,2.0,3.0,1.0,4.0,3.0,0.0,4.0,4.0,4.0,1.0,0.0,3.0,4.0,3.0,1.0,6.0,0.0,5.0,1.0,1.0,0.0,1.0,1.0,1.0,1.0,1.0,3.0,5.0,4.0,4.0,3.0,0.0,4.0,4.0,0.0,4.0,5.0,0.0,6.0,6.0,4.0,0.0,2.0,1.0,3.0,1.0,3.0,5.0,0.0,0.0,1.0,3.0,5.0,2.0,2.0,2.0,3.0,0.0,4.0,1.0,4.0,6.0,3.0,3.0,1.0,4.0,3.0,4.0,4.0,1.0,3.0,6.0,4.0,1.0,0.0,0.0,0.0,3.0,0.0,0.0,4.0,3.0,0.0,4.0,3.0,3.0,5.0,1.0,4.0,0.0,5.0,3.0,5.0,0.0,4.0,1.0,0.0,5.0,1.0,5.0,0.0,4.0,1.0,1.0,0.0,4.0,5.0,3.0,6.0,2.0,6.0,3.0,4.0,1.0,3.0,1.0,3.0,0.0,0.0,2.0,0.0,1.0,2.0,0.0,3.0,0.0,0.0,4.0,0.0,4.0,4.0,5.0,0.0,0.0,3.0,6.0,2.0,0.0,5.0,0.0,3.0,0.0,4.0,1.0,4.0,6.0,0.0,5.0,1.0,4.0,3.0,4.0,0.0,5.0,4.0,0.0,4.0,3.0,2.0,0.0,0.0,0.0,5.0,5.0,2.0,2.0,3.0,4.0,0.0,5.0,5.0,1.0,4.0,1.0,1.0,5.0,5.0,1.0,4.0,0.0,0.0,2.0,5.0,2.0,5.0,3.0,0.0,5.0,0.0,3.0,1.0,0.0,4.0,0.0,3.0,4.0,4.0,0.0,1.0,0.0,3.0,4.0,1.0,0.0,0.0,1.0,4.0,6.0,1.0,4.0,4.0,5.0,1.0,5.0,1.0,0.0,4.0,3.0,4.0,0.0,0.0,2.0,3.0,3.0,3.0,4.0,1.0,4.0,0.0,2.0,4.0,4.0,1.0,3.0,3.0,2.0,5.0,4.0,1.0,1.0,4.0,4.0,3.0,1.0,5.0,0.0,4.0,0.0,1.0,1.0,5.0,1.0,2.0,5.0,0.0,2.0,0.0,4.0,0.0,3.0,1.0,0.0,4.0,1.0,4.0,3.0,1.0,6.0,5.0,3.0,5.0,1.0,5.0,1.0,0.0,2.0,2.0,2.0,0.0,5.0,3.0,4.0,1.0,3.0,0.0,1.0,1.0,6.0,1.0,0.0,1.0,4.0,0.0,0.0,5.0,4.0,1.0,0.0,0.0,0.0,0.0,2.0,3.0,4.0,5.0,3.0,0.0,5.0,3.0,4.0,1.0,6.0,1.0,0.0,0.0,4.0,2.0,6.0,0.0,5.0,4.0,0.0,3.0,0.0,5.0,3.0,3.0,3.0,0.0,0.0,2.0,0.0,6.0,0.0,3.0,1.0,0.0,2.0,1.0,5.0,1.0,0.0,3.0,1.0,4.0,1.0,4.0,4.0,6.0,4.0,3.0,5.0,0.0,1.0,1.0,3.0,6.0,4.0,0.0,4.0,0.0,1.0,5.0,5.0,5.0,0.0,5.0,4.0,1.0,6.0,5.0,1.0,5.0,3.0,6.0,0.0,0.0,0.0,1.0,3.0,0.0,1.0,4.0,5.0,0.0,0.0,6.0,2.0,3.0,1.0,0.0,0.0,4.0,3.0,0.0,6.0,4.0,5.0,4.0,4.0,4.0,1.0,0.0,0.0,2.0,0.0,4.0,5.0,4.0,6.0,5.0,6.0,2.0,0.0,3.0,6.0,4.0,1.0,0.0,4.0,1.0,0.0,3.0,4.0,2.0,5.0,2.0,0.0,6.0,0.0,3.0,1.0,5.0,3.0,0.0,4.0,1.0,0.0,1.0,5.0,0.0,0.0,1.0,1.0,5.0,0.0,0.0,1.0,4.0,2.0,3.0,1.0,3.0,0.0,5.0,0.0,3.0,0.0,2.0,4.0,2.0,1.0,0.0,3.0,6.0,0.0,0.0,1.0,0.0,3.0,4.0,0.0,1.0,0.0,3.0,0.0,0.0,4.0,3.0,4.0,3.0,5.0,3.0,6.0,2.0,0.0,6.0,2.0,4.0,1.0,3.0,4.0,0.0,1.0,0.0,5.0,1.0,1.0,4.0,1.0,1.0,4.0,0.0,0.0,4.0,4.0,1.0,1.0,0.0,3.0,3.0,0.0,0.0,3.0,0.0,2.0,4.0,5.0,5.0,0.0,6.0,0.0,4.0,0.0,0.0,4.0,0.0,1.0,2.0,0.0,0.0,1.0,1.0,1.0,0.0,6.0,3.0,3.0,4.0,0.0,1.0,3.0,1.0,1.0,1.0,2.0,0.0,1.0,1.0,3.0,4.0,1.0,3.0,0.0,1.0,1.0,1.0,1.0,5.0,4.0,0.0,0.0,3.0,3.0,1.0,4.0,2.0,4.0,6.0,0.0,4.0,3.0,4.0,6.0,1.0,1.0,0.0,0.0,4.0,5.0,4.0,6.0,2.0,4.0,5.0,4.0,0.0,0.0,5.0,1.0,6.0,1.0,0.0,1.0,2.0,0.0,1.0,4.0,5.0,6.0,6.0,3.0,6.0,3.0,0.0,4.0,1.0,4.0,5.0,3.0,0.0,0.0,3.0,0.0,1.0,5.0,4.0,3.0,6.0,4.0,0.0,6.0,3.0,3.0,3.0,4.0,0.0,0.0,4.0,3.0,5.0,4.0,1.0,6.0,5.0,5.0,3.0,6.0,5.0,3.0,0.0,1.0,4.0,1.0,1.0,1.0,0.0,0.0,5.0,0.0,2.0,3.0,0.0,0.0,4.0,4.0,2.0,5.0,5.0,4.0,1.0,1.0,6.0,5.0,0.0,3.0,0.0,5.0,6.0,1.0,2.0,0.0,0.0,3.0,0.0,0.0,0.0,1.0,3.0,5.0,0.0,0.0,6.0,4.0,0.0,6.0,4.0,3.0,1.0,3.0,5.0,1.0,3.0,6.0,5.0,4.0,4.0,0.0,0.0,4.0,4.0,6.0,3.0,4.0,1.0,1.0,3.0,4.0,3.0,6.0,5.0,6.0,3.0,3.0,3.0,4.0,4.0,1.0,0.0,4.0,0.0,0.0,2.0,4.0,0.0,4.0,1.0,0.0,6.0,0.0,1.0,2.0,2.0,1.0,0.0,5.0,4.0,0.0,2.0,4.0,1.0,0.0,3.0,2.0,0.0,0.0,0.0,1.0,2.0,5.0,2.0,3.0,2.0,0.0,1.0,1.0,2.0,4.0,5.0,3.0,5.0,4.0,0.0,4.0,1.0,5.0,1.0,1.0,1.0,6.0,0.0,2.0,0.0,0.0,3.0,3.0,3.0,3.0,1.0,0.0,4.0,5.0,3.0,5.0,5.0,5.0,1.0,5.0,3.0,6.0,4.0,4.0,4.0,5.0,0.0,4.0,4.0,2.0,4.0,0.0,0.0,3.0,3.0,0.0,1.0,4.0,0.0,0.0,2.0,0.0,4.0,3.0,0.0,4.0,0.0,6.0,4.0,0.0,0.0,1.0,4.0,1.0,0.0,0.0,0.0,1.0,6.0,6.0,0.0,3.0,0.0,0.0,0.0,1.0,3.0,1.0,1.0,1.0,0.0,0.0,5.0,2.0,0.0,1.0,6.0,6.0,2.0,0.0,0.0,5.0,0.0,0.0,1.0,5.0,0.0,0.0,1.0,0.0,3.0,0.0,4.0,6.0,4.0,3.0,1.0,0.0,3.0,0.0,0.0,1.0,0.0,5.0,4.0,0.0,3.0,0.0,3.0,3.0,4.0,0.0,1.0,1.0,0.0,0.0,6.0,0.0,2.0,0.0,4.0,4.0,6.0,1.0,3.0,2.0,1.0],\"xaxis\":\"x\",\"yaxis\":\"y\",\"type\":\"histogram\"}],                        {\"template\":{\"data\":{\"histogram2dcontour\":[{\"type\":\"histogram2dcontour\",\"colorbar\":{\"outlinewidth\":0,\"ticks\":\"\"},\"colorscale\":[[0.0,\"#0d0887\"],[0.1111111111111111,\"#46039f\"],[0.2222222222222222,\"#7201a8\"],[0.3333333333333333,\"#9c179e\"],[0.4444444444444444,\"#bd3786\"],[0.5555555555555556,\"#d8576b\"],[0.6666666666666666,\"#ed7953\"],[0.7777777777777778,\"#fb9f3a\"],[0.8888888888888888,\"#fdca26\"],[1.0,\"#f0f921\"]]}],\"choropleth\":[{\"type\":\"choropleth\",\"colorbar\":{\"outlinewidth\":0,\"ticks\":\"\"}}],\"histogram2d\":[{\"type\":\"histogram2d\",\"colorbar\":{\"outlinewidth\":0,\"ticks\":\"\"},\"colorscale\":[[0.0,\"#0d0887\"],[0.1111111111111111,\"#46039f\"],[0.2222222222222222,\"#7201a8\"],[0.3333333333333333,\"#9c179e\"],[0.4444444444444444,\"#bd3786\"],[0.5555555555555556,\"#d8576b\"],[0.6666666666666666,\"#ed7953\"],[0.7777777777777778,\"#fb9f3a\"],[0.8888888888888888,\"#fdca26\"],[1.0,\"#f0f921\"]]}],\"heatmap\":[{\"type\":\"heatmap\",\"colorbar\":{\"outlinewidth\":0,\"ticks\":\"\"},\"colorscale\":[[0.0,\"#0d0887\"],[0.1111111111111111,\"#46039f\"],[0.2222222222222222,\"#7201a8\"],[0.3333333333333333,\"#9c179e\"],[0.4444444444444444,\"#bd3786\"],[0.5555555555555556,\"#d8576b\"],[0.6666666666666666,\"#ed7953\"],[0.7777777777777778,\"#fb9f3a\"],[0.8888888888888888,\"#fdca26\"],[1.0,\"#f0f921\"]]}],\"heatmapgl\":[{\"type\":\"heatmapgl\",\"colorbar\":{\"outlinewidth\":0,\"ticks\":\"\"},\"colorscale\":[[0.0,\"#0d0887\"],[0.1111111111111111,\"#46039f\"],[0.2222222222222222,\"#7201a8\"],[0.3333333333333333,\"#9c179e\"],[0.4444444444444444,\"#bd3786\"],[0.5555555555555556,\"#d8576b\"],[0.6666666666666666,\"#ed7953\"],[0.7777777777777778,\"#fb9f3a\"],[0.8888888888888888,\"#fdca26\"],[1.0,\"#f0f921\"]]}],\"contourcarpet\":[{\"type\":\"contourcarpet\",\"colorbar\":{\"outlinewidth\":0,\"ticks\":\"\"}}],\"contour\":[{\"type\":\"contour\",\"colorbar\":{\"outlinewidth\":0,\"ticks\":\"\"},\"colorscale\":[[0.0,\"#0d0887\"],[0.1111111111111111,\"#46039f\"],[0.2222222222222222,\"#7201a8\"],[0.3333333333333333,\"#9c179e\"],[0.4444444444444444,\"#bd3786\"],[0.5555555555555556,\"#d8576b\"],[0.6666666666666666,\"#ed7953\"],[0.7777777777777778,\"#fb9f3a\"],[0.8888888888888888,\"#fdca26\"],[1.0,\"#f0f921\"]]}],\"surface\":[{\"type\":\"surface\",\"colorbar\":{\"outlinewidth\":0,\"ticks\":\"\"},\"colorscale\":[[0.0,\"#0d0887\"],[0.1111111111111111,\"#46039f\"],[0.2222222222222222,\"#7201a8\"],[0.3333333333333333,\"#9c179e\"],[0.4444444444444444,\"#bd3786\"],[0.5555555555555556,\"#d8576b\"],[0.6666666666666666,\"#ed7953\"],[0.7777777777777778,\"#fb9f3a\"],[0.8888888888888888,\"#fdca26\"],[1.0,\"#f0f921\"]]}],\"mesh3d\":[{\"type\":\"mesh3d\",\"colorbar\":{\"outlinewidth\":0,\"ticks\":\"\"}}],\"scatter\":[{\"fillpattern\":{\"fillmode\":\"overlay\",\"size\":10,\"solidity\":0.2},\"type\":\"scatter\"}],\"parcoords\":[{\"type\":\"parcoords\",\"line\":{\"colorbar\":{\"outlinewidth\":0,\"ticks\":\"\"}}}],\"scatterpolargl\":[{\"type\":\"scatterpolargl\",\"marker\":{\"colorbar\":{\"outlinewidth\":0,\"ticks\":\"\"}}}],\"bar\":[{\"error_x\":{\"color\":\"#2a3f5f\"},\"error_y\":{\"color\":\"#2a3f5f\"},\"marker\":{\"line\":{\"color\":\"#E5ECF6\",\"width\":0.5},\"pattern\":{\"fillmode\":\"overlay\",\"size\":10,\"solidity\":0.2}},\"type\":\"bar\"}],\"scattergeo\":[{\"type\":\"scattergeo\",\"marker\":{\"colorbar\":{\"outlinewidth\":0,\"ticks\":\"\"}}}],\"scatterpolar\":[{\"type\":\"scatterpolar\",\"marker\":{\"colorbar\":{\"outlinewidth\":0,\"ticks\":\"\"}}}],\"histogram\":[{\"marker\":{\"pattern\":{\"fillmode\":\"overlay\",\"size\":10,\"solidity\":0.2}},\"type\":\"histogram\"}],\"scattergl\":[{\"type\":\"scattergl\",\"marker\":{\"colorbar\":{\"outlinewidth\":0,\"ticks\":\"\"}}}],\"scatter3d\":[{\"type\":\"scatter3d\",\"line\":{\"colorbar\":{\"outlinewidth\":0,\"ticks\":\"\"}},\"marker\":{\"colorbar\":{\"outlinewidth\":0,\"ticks\":\"\"}}}],\"scattermapbox\":[{\"type\":\"scattermapbox\",\"marker\":{\"colorbar\":{\"outlinewidth\":0,\"ticks\":\"\"}}}],\"scatterternary\":[{\"type\":\"scatterternary\",\"marker\":{\"colorbar\":{\"outlinewidth\":0,\"ticks\":\"\"}}}],\"scattercarpet\":[{\"type\":\"scattercarpet\",\"marker\":{\"colorbar\":{\"outlinewidth\":0,\"ticks\":\"\"}}}],\"carpet\":[{\"aaxis\":{\"endlinecolor\":\"#2a3f5f\",\"gridcolor\":\"white\",\"linecolor\":\"white\",\"minorgridcolor\":\"white\",\"startlinecolor\":\"#2a3f5f\"},\"baxis\":{\"endlinecolor\":\"#2a3f5f\",\"gridcolor\":\"white\",\"linecolor\":\"white\",\"minorgridcolor\":\"white\",\"startlinecolor\":\"#2a3f5f\"},\"type\":\"carpet\"}],\"table\":[{\"cells\":{\"fill\":{\"color\":\"#EBF0F8\"},\"line\":{\"color\":\"white\"}},\"header\":{\"fill\":{\"color\":\"#C8D4E3\"},\"line\":{\"color\":\"white\"}},\"type\":\"table\"}],\"barpolar\":[{\"marker\":{\"line\":{\"color\":\"#E5ECF6\",\"width\":0.5},\"pattern\":{\"fillmode\":\"overlay\",\"size\":10,\"solidity\":0.2}},\"type\":\"barpolar\"}],\"pie\":[{\"automargin\":true,\"type\":\"pie\"}]},\"layout\":{\"autotypenumbers\":\"strict\",\"colorway\":[\"#636efa\",\"#EF553B\",\"#00cc96\",\"#ab63fa\",\"#FFA15A\",\"#19d3f3\",\"#FF6692\",\"#B6E880\",\"#FF97FF\",\"#FECB52\"],\"font\":{\"color\":\"#2a3f5f\"},\"hovermode\":\"closest\",\"hoverlabel\":{\"align\":\"left\"},\"paper_bgcolor\":\"white\",\"plot_bgcolor\":\"#E5ECF6\",\"polar\":{\"bgcolor\":\"#E5ECF6\",\"angularaxis\":{\"gridcolor\":\"white\",\"linecolor\":\"white\",\"ticks\":\"\"},\"radialaxis\":{\"gridcolor\":\"white\",\"linecolor\":\"white\",\"ticks\":\"\"}},\"ternary\":{\"bgcolor\":\"#E5ECF6\",\"aaxis\":{\"gridcolor\":\"white\",\"linecolor\":\"white\",\"ticks\":\"\"},\"baxis\":{\"gridcolor\":\"white\",\"linecolor\":\"white\",\"ticks\":\"\"},\"caxis\":{\"gridcolor\":\"white\",\"linecolor\":\"white\",\"ticks\":\"\"}},\"coloraxis\":{\"colorbar\":{\"outlinewidth\":0,\"ticks\":\"\"}},\"colorscale\":{\"sequential\":[[0.0,\"#0d0887\"],[0.1111111111111111,\"#46039f\"],[0.2222222222222222,\"#7201a8\"],[0.3333333333333333,\"#9c179e\"],[0.4444444444444444,\"#bd3786\"],[0.5555555555555556,\"#d8576b\"],[0.6666666666666666,\"#ed7953\"],[0.7777777777777778,\"#fb9f3a\"],[0.8888888888888888,\"#fdca26\"],[1.0,\"#f0f921\"]],\"sequentialminus\":[[0.0,\"#0d0887\"],[0.1111111111111111,\"#46039f\"],[0.2222222222222222,\"#7201a8\"],[0.3333333333333333,\"#9c179e\"],[0.4444444444444444,\"#bd3786\"],[0.5555555555555556,\"#d8576b\"],[0.6666666666666666,\"#ed7953\"],[0.7777777777777778,\"#fb9f3a\"],[0.8888888888888888,\"#fdca26\"],[1.0,\"#f0f921\"]],\"diverging\":[[0,\"#8e0152\"],[0.1,\"#c51b7d\"],[0.2,\"#de77ae\"],[0.3,\"#f1b6da\"],[0.4,\"#fde0ef\"],[0.5,\"#f7f7f7\"],[0.6,\"#e6f5d0\"],[0.7,\"#b8e186\"],[0.8,\"#7fbc41\"],[0.9,\"#4d9221\"],[1,\"#276419\"]]},\"xaxis\":{\"gridcolor\":\"white\",\"linecolor\":\"white\",\"ticks\":\"\",\"title\":{\"standoff\":15},\"zerolinecolor\":\"white\",\"automargin\":true,\"zerolinewidth\":2},\"yaxis\":{\"gridcolor\":\"white\",\"linecolor\":\"white\",\"ticks\":\"\",\"title\":{\"standoff\":15},\"zerolinecolor\":\"white\",\"automargin\":true,\"zerolinewidth\":2},\"scene\":{\"xaxis\":{\"backgroundcolor\":\"#E5ECF6\",\"gridcolor\":\"white\",\"linecolor\":\"white\",\"showbackground\":true,\"ticks\":\"\",\"zerolinecolor\":\"white\",\"gridwidth\":2},\"yaxis\":{\"backgroundcolor\":\"#E5ECF6\",\"gridcolor\":\"white\",\"linecolor\":\"white\",\"showbackground\":true,\"ticks\":\"\",\"zerolinecolor\":\"white\",\"gridwidth\":2},\"zaxis\":{\"backgroundcolor\":\"#E5ECF6\",\"gridcolor\":\"white\",\"linecolor\":\"white\",\"showbackground\":true,\"ticks\":\"\",\"zerolinecolor\":\"white\",\"gridwidth\":2}},\"shapedefaults\":{\"line\":{\"color\":\"#2a3f5f\"}},\"annotationdefaults\":{\"arrowcolor\":\"#2a3f5f\",\"arrowhead\":0,\"arrowwidth\":1},\"geo\":{\"bgcolor\":\"white\",\"landcolor\":\"#E5ECF6\",\"subunitcolor\":\"white\",\"showland\":true,\"showlakes\":true,\"lakecolor\":\"white\"},\"title\":{\"x\":0.05},\"mapbox\":{\"style\":\"light\"}}},\"xaxis\":{\"anchor\":\"y\",\"domain\":[0.0,1.0],\"title\":{\"text\":\"Class Label\"}},\"yaxis\":{\"anchor\":\"x\",\"domain\":[0.0,1.0],\"title\":{\"text\":\"Frequency\"}},\"legend\":{\"tracegroupgap\":0},\"margin\":{\"t\":60},\"barmode\":\"relative\",\"title\":{\"font\":{\"color\":\"black\",\"size\":20},\"text\":\"Target Distribution\\u003cbr\\u003e\\u003csup\\u003eSource: experiment 3 - CTGANPlus synthetic data set\\u003c\\u002fsup\\u003e\",\"x\":0},\"font\":{\"family\":\"Times New Roman\"},\"plot_bgcolor\":\"rgba(0,0,0,0)\",\"paper_bgcolor\":\"rgba(0,0,0,0)\",\"width\":600,\"height\":500},                        {\"responsive\": true}                    ).then(function(){\n",
              "                            \n",
              "var gd = document.getElementById('57bc277a-d4b3-4c8b-8d0a-94d7b992b27b');\n",
              "var x = new MutationObserver(function (mutations, observer) {{\n",
              "        var display = window.getComputedStyle(gd).display;\n",
              "        if (!display || display === 'none') {{\n",
              "            console.log([gd, 'removed!']);\n",
              "            Plotly.purge(gd);\n",
              "            observer.disconnect();\n",
              "        }}\n",
              "}});\n",
              "\n",
              "// Listen for the removal of the full notebook cells\n",
              "var notebookContainer = gd.closest('#notebook-container');\n",
              "if (notebookContainer) {{\n",
              "    x.observe(notebookContainer, {childList: true});\n",
              "}}\n",
              "\n",
              "// Listen for the clearing of the current output cell\n",
              "var outputEl = gd.closest('.output');\n",
              "if (outputEl) {{\n",
              "    x.observe(outputEl, {childList: true});\n",
              "}}\n",
              "\n",
              "                        })                };                            </script>        </div>\n",
              "</body>\n",
              "</html>"
            ]
          },
          "metadata": {}
        }
      ],
      "source": [
        "ct_target_eda = EDA(data = ctgan_fakes,\n",
        "                 target=target,\n",
        "                 output_path = _EXP3_EDA_DIR,\n",
        "                 logx = False,\n",
        "                 logy = False)\n",
        "ct_target_eda.plot_hist(file_name='CTGANPlus_trainset_all',\n",
        "                     subtitle = 'Source: experiment 3 - CTGANPlus synthetic data set',\n",
        "                     maintitle = 'Target ')"
      ]
    },
    {
      "cell_type": "code",
      "execution_count": null,
      "metadata": {
        "id": "VCPSHQ1yW2QV"
      },
      "outputs": [],
      "source": [
        "ct_X_train = pd.concat([X_train[keep_feas],ctgan_fakes[keep_feas]])\n",
        "ct_y_train = pd.concat([y_train,ctgan_fakes[target]])"
      ]
    },
    {
      "cell_type": "code",
      "execution_count": null,
      "metadata": {
        "id": "NsgtixSiXRAU"
      },
      "outputs": [],
      "source": [
        "ct_y_train[target] = ct_y_train[target].fillna(ct_y_train[0])"
      ]
    },
    {
      "cell_type": "code",
      "execution_count": null,
      "metadata": {
        "id": "v5zVvBl5XlYY"
      },
      "outputs": [],
      "source": [
        "ct_y_train.drop(0,axis=1,inplace=True)"
      ]
    },
    {
      "cell_type": "code",
      "execution_count": null,
      "metadata": {
        "id": "UsILenw7PSp2",
        "colab": {
          "base_uri": "https://localhost:8080/",
          "height": 517
        },
        "outputId": "fa0d1ca4-aa54-4eb2-f2b2-537611290111"
      },
      "outputs": [
        {
          "output_type": "display_data",
          "data": {
            "text/html": [
              "<html>\n",
              "<head><meta charset=\"utf-8\" /></head>\n",
              "<body>\n",
              "    <div>            <script src=\"https://cdnjs.cloudflare.com/ajax/libs/mathjax/2.7.5/MathJax.js?config=TeX-AMS-MML_SVG\"></script><script type=\"text/javascript\">if (window.MathJax && window.MathJax.Hub && window.MathJax.Hub.Config) {window.MathJax.Hub.Config({SVG: {font: \"STIX-Web\"}});}</script>                <script type=\"text/javascript\">window.PlotlyConfig = {MathJaxConfig: 'local'};</script>\n",
              "        <script charset=\"utf-8\" src=\"https://cdn.plot.ly/plotly-2.24.1.min.js\"></script>                <div id=\"0f7b6ea2-137a-43aa-b0bc-47ebb303aebe\" class=\"plotly-graph-div\" style=\"height:500px; width:600px;\"></div>            <script type=\"text/javascript\">                                    window.PLOTLYENV=window.PLOTLYENV || {};                                    if (document.getElementById(\"0f7b6ea2-137a-43aa-b0bc-47ebb303aebe\")) {                    Plotly.newPlot(                        \"0f7b6ea2-137a-43aa-b0bc-47ebb303aebe\",                        [{\"alignmentgroup\":\"True\",\"bingroup\":\"x\",\"hovertemplate\":\"industry=%{x}\\u003cbr\\u003ecount=%{y}\\u003cextra\\u003e\\u003c\\u002fextra\\u003e\",\"legendgroup\":\"\",\"marker\":{\"color\":\"black\",\"pattern\":{\"shape\":\"\"}},\"name\":\"\",\"offsetgroup\":\"\",\"orientation\":\"v\",\"showlegend\":false,\"texttemplate\":\"%{value}\",\"x\":[2.0,4.0,4.0,5.0,2.0,0.0,3.0,3.0,4.0,1.0,1.0,0.0,5.0,4.0,3.0,1.0,1.0,4.0,4.0,0.0,3.0,3.0,0.0,0.0,1.0,4.0,3.0,0.0,0.0,0.0,0.0,5.0,2.0,0.0,0.0,4.0,0.0,6.0,1.0,4.0,0.0,2.0,1.0,0.0,0.0,1.0,0.0,2.0,0.0,4.0,0.0,3.0,4.0,0.0,3.0,0.0,4.0,1.0,5.0,6.0,3.0,5.0,1.0,5.0,2.0,1.0,2.0,6.0,3.0,3.0,0.0,0.0,1.0,0.0,1.0,3.0,5.0,0.0,5.0,6.0,1.0,1.0,0.0,0.0,1.0,1.0,3.0,1.0,1.0,0.0,5.0,2.0,3.0,2.0,4.0,4.0,3.0,4.0,1.0,0.0,3.0,1.0,0.0,0.0,6.0,0.0,5.0,0.0,0.0,0.0,4.0,1.0,2.0,2.0,3.0,3.0,2.0,4.0,4.0,6.0,1.0,4.0,0.0,4.0,2.0,2.0,0.0,0.0,4.0,4.0,0.0,1.0,0.0,3.0,3.0,0.0,1.0,0.0,0.0,6.0,3.0,0.0,1.0,6.0,2.0,0.0,1.0,1.0,1.0,0.0,0.0,3.0,0.0,3.0,0.0,1.0,4.0,1.0,3.0,4.0,2.0,0.0,1.0,5.0,4.0,0.0,0.0,0.0,6.0,0.0,2.0,3.0,4.0,1.0,2.0,1.0,0.0,1.0,0.0,4.0,1.0,0.0,3.0,4.0,3.0,1.0,2.0,0.0,5.0,0.0,3.0,1.0,3.0,3.0,4.0,0.0,3.0,4.0,0.0,1.0,4.0,0.0,0.0,4.0,2.0,0.0,0.0,1.0,0.0,2.0,3.0,2.0,1.0,4.0,0.0,3.0,4.0,1.0,0.0,0.0,2.0,0.0,1.0,4.0,3.0,0.0,0.0,2.0,4.0,0.0,1.0,4.0,0.0,4.0,4.0,3.0,4.0,4.0,2.0,1.0,0.0,0.0,2.0,5.0,0.0,4.0,5.0,1.0,0.0,3.0,4.0,1.0,4.0,0.0,2.0,3.0,0.0,2.0,6.0,0.0,3.0,0.0,0.0,4.0,0.0,4.0,1.0,3.0,3.0,5.0,6.0,4.0,0.0,0.0,3.0,1.0,3.0,1.0,4.0,0.0,1.0,4.0,1.0,3.0,2.0,5.0,0.0,0.0,0.0,0.0,3.0,2.0,0.0,2.0,1.0,2.0,3.0,2.0,0.0,3.0,1.0,3.0,4.0,4.0,1.0,0.0,4.0,4.0,0.0,4.0,3.0,2.0,0.0,3.0,2.0,0.0,1.0,3.0,1.0,1.0,1.0,0.0,3.0,5.0,2.0,0.0,0.0,2.0,3.0,0.0,0.0,3.0,1.0,4.0,3.0,0.0,3.0,1.0,2.0,1.0,3.0,1.0,3.0,2.0,2.0,0.0,2.0,1.0,1.0,1.0,0.0,0.0,0.0,0.0,1.0,2.0,1.0,4.0,2.0,6.0,2.0,0.0,0.0,3.0,5.0,2.0,4.0,0.0,4.0,4.0,1.0,5.0,4.0,3.0,0.0,3.0,0.0,0.0,0.0,1.0,4.0,2.0,2.0,0.0,0.0,5.0,2.0,0.0,1.0,2.0,3.0,2.0,2.0,2.0,3.0,1.0,2.0,0.0,0.0,5.0,2.0,4.0,1.0,4.0,1.0,0.0,2.0,2.0,4.0,4.0,1.0,0.0,2.0,1.0,0.0,2.0,4.0,0.0,6.0,0.0,0.0,0.0,2.0,3.0,5.0,0.0,0.0,1.0,3.0,0.0,2.0,2.0,4.0,0.0,2.0,5.0,4.0,2.0,0.0,2.0,0.0,4.0,0.0,2.0,6.0,6.0,0.0,0.0,0.0,4.0,6.0,0.0,5.0,1.0,1.0,0.0,5.0,3.0,4.0,1.0,0.0,0.0,1.0,2.0,2.0,2.0,3.0,2.0,0.0,4.0,2.0,4.0,3.0,0.0,2.0,4.0,1.0,2.0,0.0,0.0,1.0,0.0,6.0,0.0,0.0,1.0,1.0,2.0,0.0,1.0,1.0,0.0,0.0,1.0,3.0,2.0,2.0,4.0,0.0,3.0,0.0,0.0,0.0,1.0,4.0,0.0,0.0,0.0,5.0,2.0,6.0,6.0,2.0,0.0,0.0,0.0,0.0,1.0,1.0,1.0,3.0,0.0,4.0,3.0,0.0,0.0,2.0,3.0,1.0,5.0,3.0,0.0,3.0,1.0,2.0,0.0,0.0,0.0,0.0,3.0,0.0,0.0,1.0,3.0,6.0,4.0,1.0,0.0,3.0,4.0,0.0,1.0,6.0,4.0,0.0,6.0,0.0,3.0,2.0,0.0,0.0,0.0,1.0,1.0,2.0,3.0,0.0,1.0,3.0,4.0,3.0,3.0,4.0,4.0,0.0,5.0,0.0,1.0,1.0,3.0,0.0,6.0,0.0,0.0,0.0,6.0,2.0,3.0,1.0,0.0,3.0,0.0,4.0,3.0,0.0,3.0,4.0,4.0,1.0,4.0,4.0,3.0,3.0,4.0,0.0,1.0,4.0,0.0,4.0,0.0,2.0,0.0,4.0,0.0,0.0,4.0,3.0,2.0,5.0,0.0,0.0,1.0,1.0,6.0,0.0,0.0,6.0,4.0,0.0,1.0,1.0,3.0,4.0,0.0,1.0,0.0,3.0,0.0,0.0,2.0,0.0,4.0,0.0,4.0,2.0,1.0,0.0,2.0,3.0,0.0,1.0,4.0,5.0,3.0,1.0,3.0,2.0,3.0,1.0,5.0,2.0,3.0,4.0,6.0,0.0,1.0,5.0,4.0,2.0,3.0,0.0,0.0,0.0,4.0,2.0,2.0,0.0,1.0,4.0,3.0,1.0,0.0,1.0,2.0,0.0,2.0,2.0,2.0,6.0,1.0,0.0,0.0,0.0,1.0,1.0,4.0,4.0,0.0,3.0,0.0,1.0,0.0,1.0,5.0,0.0,3.0,0.0,3.0,3.0,0.0,3.0,0.0,1.0,0.0,4.0,2.0,1.0,3.0,0.0,2.0,4.0,0.0,4.0,3.0,2.0,5.0,6.0,0.0,4.0,0.0,0.0,1.0,0.0,3.0,1.0,3.0,3.0,1.0,1.0,2.0,1.0,2.0,1.0,0.0,0.0,3.0,0.0,0.0,0.0,0.0,4.0,5.0,0.0,0.0,6.0,0.0,2.0,4.0,1.0,0.0,3.0,3.0,0.0,0.0,0.0,0.0,3.0,0.0,5.0,1.0,0.0,2.0,4.0,2.0,3.0,0.0,3.0,3.0,4.0,4.0,3.0,0.0,4.0,3.0,0.0,0.0,2.0,0.0,4.0,2.0,4.0,2.0,2.0,6.0,3.0,0.0,0.0,0.0,0.0,2.0,2.0,2.0,0.0,3.0,1.0,0.0,2.0,6.0,3.0,5.0,0.0,3.0,2.0,1.0,3.0,2.0,0.0,0.0,3.0,4.0,0.0,3.0,0.0,1.0,1.0,2.0,6.0,5.0,5.0,2.0,1.0,0.0,5.0,0.0,0.0,4.0,3.0,0.0,1.0,3.0,0.0,2.0,1.0,4.0,3.0,2.0,4.0,2.0,3.0,2.0,2.0,1.0,6.0,4.0,2.0,4.0,2.0,3.0,1.0,3.0,3.0,4.0,2.0,3.0,1.0,4.0,0.0,0.0,2.0,2.0,4.0,4.0,4.0,4.0,4.0,4.0,3.0,2.0,0.0,0.0,0.0,1.0,0.0,4.0,4.0,5.0,2.0,4.0,2.0,0.0,6.0,4.0,5.0,3.0,1.0,0.0,3.0,3.0,0.0,2.0,2.0,3.0,3.0,2.0,2.0,0.0,6.0,5.0,0.0,2.0,4.0,1.0,3.0,1.0,1.0,0.0,2.0,3.0,4.0,0.0,4.0,1.0,4.0,1.0,4.0,2.0,4.0,0.0,4.0,2.0,5.0,0.0,3.0,0.0,0.0,4.0,3.0,3.0,1.0,1.0,1.0,0.0,4.0,0.0,2.0,3.0,6.0,0.0,1.0,1.0,1.0,0.0,1.0,1.0,0.0,0.0,3.0,4.0,5.0,3.0,2.0,2.0,0.0,2.0,4.0,1.0,0.0,1.0,1.0,0.0,2.0,3.0,4.0,1.0,5.0,0.0,0.0,4.0,1.0,1.0,1.0,0.0,4.0,4.0,0.0,1.0,0.0,3.0,4.0,1.0,4.0,0.0,2.0,0.0,4.0,4.0,1.0,3.0,3.0,0.0,0.0,5.0,1.0,3.0,4.0,1.0,4.0,1.0,0.0,1.0,3.0,0.0,5.0,4.0,3.0,1.0,3.0,0.0,4.0,2.0,3.0,0.0,0.0,0.0,4.0,4.0,0.0,0.0,3.0,2.0,1.0,5.0,3.0,2.0,0.0,0.0,3.0,1.0,0.0,1.0,1.0,0.0,3.0,1.0,2.0,5.0,0.0,0.0,3.0,5.0,1.0,3.0,0.0,0.0,6.0,4.0,0.0,4.0,3.0,0.0,1.0,4.0,6.0,4.0,0.0,3.0,3.0,3.0,0.0,4.0,4.0,0.0,0.0,0.0,3.0,0.0,0.0,4.0,0.0,5.0,2.0,0.0,0.0,5.0,1.0,1.0,2.0,3.0,2.0,0.0,0.0,2.0,5.0,1.0,1.0,1.0,4.0,0.0,0.0,0.0,1.0,1.0,1.0,4.0,0.0,3.0,4.0,3.0,4.0,6.0,4.0,0.0,3.0,1.0,4.0,1.0,0.0,1.0,1.0,0.0,3.0,4.0,0.0,1.0,1.0,1.0,0.0,0.0,3.0,2.0,0.0,4.0,4.0,0.0,4.0,0.0,1.0,3.0,2.0,3.0,0.0,1.0,2.0,4.0,0.0,4.0,1.0,0.0,0.0,3.0,0.0,4.0,0.0,2.0,0.0,5.0,1.0,5.0,2.0,6.0,0.0,4.0,2.0,1.0,0.0,2.0,0.0,2.0,0.0,0.0,0.0,2.0,0.0,1.0,3.0,0.0,3.0,4.0,6.0,1.0,1.0,1.0,1.0,0.0,6.0,0.0,0.0,4.0,3.0,3.0,4.0,1.0,4.0,0.0,3.0,3.0,0.0,4.0,1.0,4.0,0.0,0.0,0.0,1.0,0.0,4.0,0.0,0.0,0.0,5.0,0.0,3.0,1.0,1.0,0.0,4.0,1.0,4.0,0.0,0.0,1.0,1.0,2.0,1.0,0.0,0.0,4.0,2.0,0.0,2.0,2.0,0.0,4.0,1.0,0.0,3.0,2.0,5.0,2.0,0.0,1.0,1.0,0.0,0.0,2.0,4.0,2.0,1.0,1.0,5.0,0.0,6.0,1.0,4.0,0.0,1.0,3.0,0.0,1.0,1.0,2.0,0.0,0.0,2.0,3.0,0.0,1.0,3.0,2.0,3.0,1.0,1.0,0.0,1.0,4.0,2.0,4.0,6.0,1.0,0.0,4.0,0.0,0.0,1.0,1.0,4.0,4.0,5.0,0.0,0.0,0.0,5.0,4.0,4.0,4.0,3.0,6.0,6.0,4.0,2.0,0.0,2.0,1.0,0.0,4.0,0.0,3.0,5.0,0.0,3.0,3.0,0.0,0.0,1.0,0.0,1.0,0.0,1.0,2.0,2.0,0.0,0.0,1.0,0.0,1.0,0.0,2.0,0.0,0.0,1.0,1.0,0.0,0.0,1.0,3.0,4.0,6.0,1.0,1.0,0.0,0.0,2.0,0.0,0.0,0.0,4.0,0.0,0.0,4.0,2.0,0.0,1.0,3.0,0.0,2.0,3.0,2.0,1.0,0.0,3.0,0.0,2.0,1.0,0.0,1.0,4.0,0.0,2.0,1.0,0.0,0.0,0.0,3.0,2.0,4.0,3.0,3.0,4.0,3.0,3.0,2.0,3.0,3.0,6.0,3.0,2.0,4.0,0.0,4.0,2.0,1.0,3.0,4.0,1.0,4.0,3.0,4.0,3.0,1.0,0.0,0.0,1.0,1.0,0.0,0.0,3.0,2.0,2.0,0.0,0.0,0.0,2.0,1.0,2.0,2.0,1.0,0.0,0.0,4.0,1.0,0.0,2.0,3.0,1.0,2.0,0.0,2.0,3.0,2.0,4.0,0.0,0.0,2.0,1.0,0.0,5.0,4.0,0.0,6.0,0.0,2.0,0.0,0.0,0.0,0.0,1.0,0.0,2.0,0.0,2.0,1.0,3.0,1.0,2.0,1.0,0.0,0.0,1.0,1.0,4.0,2.0,1.0,6.0,1.0,4.0,1.0,0.0,2.0,0.0,4.0,0.0,5.0,2.0,0.0,1.0,1.0,3.0,0.0,1.0,0.0,0.0,2.0,0.0,4.0,3.0,2.0,0.0,2.0,0.0,0.0,0.0,0.0,0.0,2.0,1.0,0.0,3.0,3.0,1.0,4.0,6.0,2.0,3.0,6.0,0.0,2.0,0.0,0.0,6.0,2.0,3.0,2.0,1.0,0.0,4.0,4.0,0.0,0.0,0.0,3.0,5.0,3.0,5.0,1.0,2.0,2.0,0.0,4.0,0.0,2.0,4.0,0.0,0.0,0.0,1.0,4.0,0.0,6.0,4.0,0.0,4.0,6.0,3.0,1.0,0.0,4.0,4.0,0.0,1.0,0.0,6.0,5.0,4.0,1.0,4.0,4.0,0.0,4.0,3.0,0.0,5.0,2.0,0.0,3.0,4.0,1.0,0.0,6.0,0.0,1.0,5.0,0.0,4.0,3.0,0.0,6.0,2.0,4.0,3.0,6.0,5.0,1.0,0.0,2.0,3.0,4.0,2.0,1.0,3.0,5.0,2.0,2.0,0.0,4.0,6.0,0.0,0.0,0.0,3.0,0.0,1.0,6.0,2.0,0.0,0.0,0.0,5.0,4.0,4.0,1.0,3.0,1.0,0.0,1.0,0.0,3.0,0.0,0.0,0.0,3.0,3.0,0.0,4.0,1.0,4.0,5.0,4.0,1.0,3.0,4.0,0.0,5.0,1.0,6.0,1.0,1.0,5.0,0.0,4.0,0.0,3.0,2.0,4.0,2.0,3.0,4.0,4.0,4.0,1.0,4.0,0.0,4.0,5.0,0.0,6.0,2.0,4.0,1.0,5.0,4.0,0.0,3.0,4.0,4.0,4.0,0.0,4.0,4.0,1.0,0.0,1.0,3.0,4.0,3.0,0.0,3.0,4.0,1.0,0.0,4.0,4.0,1.0,1.0,0.0,4.0,4.0,1.0,4.0,2.0,0.0,1.0,4.0,1.0,3.0,3.0,5.0,5.0,1.0,1.0,5.0,0.0,6.0,0.0,6.0,1.0,0.0,4.0,2.0,1.0,5.0,0.0,0.0,0.0,3.0,3.0,3.0,4.0,5.0,0.0,0.0,1.0,0.0,0.0,0.0,0.0,1.0,3.0,2.0,0.0,6.0,6.0,0.0,0.0,5.0,1.0,0.0,0.0,0.0,0.0,3.0,0.0,4.0,0.0,4.0,4.0,3.0,0.0,0.0,3.0,4.0,3.0,4.0,0.0,0.0,4.0,2.0,1.0,0.0,4.0,4.0,5.0,0.0,2.0,3.0,1.0,0.0,3.0,5.0,0.0,0.0,4.0,3.0,0.0,0.0,0.0,4.0,0.0,3.0,5.0,0.0,0.0,3.0,3.0,0.0,4.0,0.0,1.0,5.0,0.0,0.0,4.0,4.0,0.0,0.0,0.0,4.0,0.0,4.0,1.0,0.0,6.0,0.0,6.0,4.0,2.0,5.0,0.0,0.0,2.0,0.0,1.0,6.0,4.0,4.0,0.0,4.0,1.0,4.0,4.0,1.0,0.0,4.0,5.0,0.0,0.0,1.0,4.0,3.0,0.0,3.0,0.0,1.0,4.0,0.0,2.0,1.0,0.0,0.0,2.0,5.0,0.0,1.0,6.0,0.0,1.0,0.0,1.0,6.0,1.0,5.0,4.0,4.0,4.0,1.0,4.0,1.0,4.0,4.0,0.0,1.0,1.0,3.0,0.0,1.0,3.0,5.0,3.0,3.0,1.0,0.0,0.0,4.0,2.0,4.0,0.0,4.0,4.0,0.0,0.0,4.0,0.0,3.0,5.0,1.0,2.0,0.0,1.0,4.0,5.0,0.0,1.0,0.0,4.0,1.0,4.0,0.0,3.0,5.0,0.0,0.0,4.0,1.0,0.0,5.0,4.0,1.0,6.0,3.0,4.0,3.0,4.0,0.0,0.0,6.0,4.0,4.0,5.0,2.0,0.0,4.0,4.0,0.0,5.0,2.0,3.0,3.0,4.0,5.0,3.0,2.0,4.0,2.0,0.0,4.0,4.0,1.0,4.0,4.0,5.0,3.0,3.0,0.0,4.0,5.0,0.0,5.0,1.0,2.0,6.0,6.0,4.0,2.0,2.0,5.0,0.0,0.0,5.0,0.0,5.0,4.0,1.0,5.0,5.0,1.0,0.0,1.0,0.0,4.0,4.0,2.0,2.0,0.0,1.0,0.0,4.0,3.0,4.0,4.0,1.0,4.0,2.0,0.0,1.0,4.0,3.0,0.0,0.0,1.0,0.0,4.0,6.0,0.0,0.0,1.0,0.0,1.0,4.0,0.0,6.0,1.0,0.0,1.0,1.0,0.0,0.0,0.0,4.0,4.0,5.0,0.0,0.0,3.0,4.0,0.0,4.0,1.0,4.0,2.0,1.0,3.0,0.0,0.0,4.0,3.0,4.0,4.0,4.0,5.0,4.0,3.0,0.0,3.0,3.0,4.0,0.0,4.0,5.0,4.0,5.0,3.0,4.0,3.0,1.0,1.0,0.0,4.0,0.0,0.0,0.0,0.0,0.0,0.0,3.0,0.0,0.0,5.0,0.0,0.0,0.0,4.0,4.0,2.0,4.0,3.0,1.0,3.0,1.0,0.0,0.0,5.0,2.0,1.0,4.0,2.0,3.0,4.0,5.0,5.0,5.0,1.0,0.0,0.0,0.0,0.0,2.0,6.0,0.0,3.0,4.0,4.0,0.0,1.0,3.0,0.0,6.0,0.0,1.0,2.0,6.0,0.0,5.0,4.0,3.0,0.0,0.0,1.0,0.0,3.0,4.0,4.0,0.0,0.0,1.0,0.0,5.0,0.0,1.0,0.0,4.0,5.0,0.0,4.0,0.0,0.0,0.0,0.0,1.0,0.0,2.0,1.0,5.0,3.0,3.0,0.0,0.0,3.0,3.0,5.0,3.0,0.0,4.0,1.0,0.0,2.0,4.0,3.0,4.0,0.0,4.0,0.0,3.0,3.0,0.0,0.0,2.0,0.0,2.0,5.0,5.0,2.0,0.0,0.0,5.0,2.0,5.0,0.0,4.0,1.0,4.0,2.0,0.0,1.0,6.0,6.0,0.0,0.0,4.0,0.0,3.0,0.0,4.0,0.0,6.0,5.0,2.0,1.0,0.0,4.0,0.0,5.0,0.0,0.0,5.0,4.0,1.0,5.0,0.0,4.0,0.0,0.0,4.0,1.0,3.0,1.0,4.0,1.0,0.0,0.0,4.0,6.0,0.0,4.0,0.0,4.0,0.0,3.0,4.0,1.0,6.0,1.0,3.0,4.0,3.0,0.0,4.0,4.0,6.0,4.0,4.0,3.0,1.0,3.0,5.0,1.0,4.0,1.0,0.0,2.0,0.0,4.0,1.0,4.0,6.0,1.0,0.0,1.0,4.0,6.0,4.0,0.0,4.0,4.0,2.0,2.0,1.0,0.0,0.0,3.0,2.0,1.0,5.0,0.0,0.0,1.0,3.0,0.0,4.0,3.0,4.0,0.0,4.0,3.0,0.0,0.0,0.0,0.0,4.0,0.0,1.0,4.0,1.0,3.0,0.0,0.0,3.0,1.0,0.0,0.0,2.0,6.0,1.0,4.0,5.0,4.0,3.0,5.0,0.0,5.0,5.0,4.0,4.0,1.0,0.0,4.0,0.0,0.0,0.0,3.0,4.0,0.0,4.0,1.0,1.0,5.0,4.0,4.0,0.0,6.0,5.0,0.0,4.0,1.0,0.0,0.0,4.0,3.0,1.0,1.0,6.0,0.0,0.0,0.0,1.0,4.0,4.0,0.0,4.0,0.0,0.0,4.0,2.0,4.0,0.0,1.0,0.0,3.0,4.0,3.0,3.0,4.0,4.0,4.0,5.0,0.0,0.0,0.0,3.0,6.0,4.0,5.0,3.0,5.0,1.0,6.0,2.0,2.0,1.0,5.0,4.0,3.0,0.0,0.0,0.0,1.0,0.0,4.0,3.0,0.0,4.0,3.0,1.0,0.0,0.0,5.0,4.0,1.0,4.0,1.0,3.0,0.0,1.0,4.0,3.0,4.0,2.0,0.0,1.0,0.0,0.0,0.0,4.0,5.0,0.0,4.0,0.0,0.0,4.0,3.0,3.0,0.0,4.0,0.0,3.0,4.0,4.0,0.0,5.0,6.0,5.0,2.0,6.0,5.0,1.0,3.0,0.0,0.0,3.0,0.0,0.0,4.0,6.0,0.0,4.0,6.0,3.0,4.0,1.0,0.0,0.0,3.0,1.0,0.0,0.0,4.0,5.0,5.0,1.0,0.0,0.0,4.0,2.0,3.0,0.0,6.0,0.0,1.0,0.0,0.0,5.0,1.0,4.0,1.0,0.0,0.0,0.0,0.0,6.0,3.0,4.0,4.0,5.0,4.0,0.0,0.0,1.0,5.0,0.0,0.0,4.0,3.0,5.0,0.0,4.0,3.0,2.0,4.0,0.0,0.0,6.0,4.0,3.0,4.0,4.0,4.0,2.0,6.0,3.0,1.0,1.0,0.0,3.0,4.0,4.0,1.0,4.0,5.0,0.0,4.0,0.0,4.0,0.0,0.0,3.0,0.0,4.0,1.0,5.0,1.0,3.0,5.0,4.0,3.0,1.0,1.0,4.0,0.0,3.0,5.0,0.0,5.0,0.0,4.0,0.0,6.0,5.0,4.0,2.0,3.0,0.0,0.0,4.0,2.0,4.0,5.0,5.0,1.0,0.0,4.0,4.0,1.0,4.0,0.0,4.0,3.0,4.0,6.0,3.0,1.0,6.0,3.0,3.0,6.0,5.0,4.0,4.0,2.0,0.0,6.0,2.0,0.0,4.0,0.0,0.0,2.0,4.0,0.0,3.0,0.0,0.0,4.0,4.0,0.0,0.0,0.0,5.0,0.0,0.0,4.0,0.0,4.0,3.0,0.0,4.0,1.0,2.0,0.0,0.0,1.0,0.0,2.0,0.0,1.0,5.0,4.0,4.0,4.0,2.0,3.0,4.0,1.0,6.0,0.0,0.0,0.0,3.0,0.0,5.0,4.0,0.0,4.0,0.0,1.0,0.0,6.0,1.0,5.0,4.0,4.0,0.0,2.0,1.0,3.0,4.0,4.0,0.0,0.0,4.0,2.0,4.0,3.0,0.0,5.0,1.0,0.0,1.0,3.0,5.0,1.0,3.0,5.0,4.0,0.0,4.0,4.0,4.0,1.0,0.0,3.0,3.0,1.0,0.0,0.0,3.0,6.0,1.0,1.0,2.0,5.0,5.0,0.0,2.0,0.0,2.0,4.0,3.0,0.0,5.0,0.0,5.0,4.0,1.0,6.0,2.0,4.0,5.0,1.0,4.0,4.0,3.0,4.0,1.0,4.0,4.0,0.0,3.0,5.0,4.0,6.0,1.0,3.0,1.0,1.0,3.0,1.0,4.0,2.0,5.0,0.0,6.0,1.0,3.0,4.0,1.0,0.0,1.0,4.0,5.0,2.0,0.0,0.0,5.0,0.0,1.0,4.0,5.0,0.0,1.0,6.0,1.0,0.0,0.0,0.0,0.0,1.0,2.0,0.0,0.0,0.0,5.0,4.0,0.0,4.0,4.0,4.0,1.0,0.0,0.0,4.0,0.0,5.0,4.0,0.0,0.0,1.0,5.0,5.0,4.0,4.0,5.0,6.0,1.0,0.0,2.0,0.0,3.0,3.0,5.0,1.0,4.0,0.0,3.0,5.0,5.0,5.0,0.0,2.0,5.0,1.0,3.0,3.0,4.0,0.0,6.0,1.0,0.0,4.0,4.0,0.0,0.0,5.0,1.0,0.0,0.0,1.0,4.0,0.0,4.0,0.0,1.0,5.0,4.0,2.0,4.0,2.0,0.0,4.0,3.0,0.0,3.0,0.0,0.0,0.0,4.0,0.0,0.0,0.0,1.0,3.0,1.0,2.0,0.0,0.0,0.0,0.0,4.0,0.0,2.0,3.0,4.0,6.0,0.0,4.0,6.0,0.0,3.0,4.0,0.0,4.0,4.0,4.0,0.0,1.0,6.0,0.0,4.0,0.0,3.0,0.0,1.0,2.0,4.0,5.0,0.0,0.0,0.0,0.0,3.0,0.0,2.0,4.0,5.0,0.0,0.0,4.0,1.0,0.0,0.0,2.0,4.0,5.0,3.0,1.0,4.0,5.0,1.0,3.0,4.0,4.0,1.0,4.0,4.0,4.0,1.0,2.0,2.0,5.0,5.0,0.0,5.0,3.0,0.0,0.0,4.0,5.0,3.0,5.0,0.0,0.0,4.0,4.0,1.0,4.0,0.0,4.0,4.0,4.0,0.0,0.0,0.0,3.0,0.0,0.0,1.0,2.0,1.0,3.0,2.0,0.0,1.0,3.0,1.0,0.0,3.0,0.0,1.0,0.0,1.0,1.0,0.0,5.0,1.0,0.0,4.0,0.0,5.0,6.0,4.0,1.0,0.0,4.0,4.0,2.0,1.0,1.0,0.0,4.0,3.0,4.0,4.0,0.0,1.0,5.0,5.0,4.0,4.0,1.0,0.0,4.0,3.0,0.0,0.0,0.0,1.0,4.0,0.0,4.0,4.0,1.0,6.0,3.0,6.0,1.0,3.0,0.0,0.0,0.0,4.0,4.0,0.0,4.0,0.0,1.0,5.0,0.0,2.0,3.0,0.0,3.0,3.0,1.0,1.0,3.0,0.0,6.0,0.0,4.0,3.0,1.0,1.0,0.0,6.0,6.0,0.0,4.0,0.0,4.0,0.0,0.0,0.0,0.0,5.0,3.0,0.0,1.0,3.0,5.0,4.0,2.0,2.0,0.0,0.0,1.0,4.0,0.0,2.0,3.0,0.0,0.0,3.0,2.0,6.0,4.0,0.0,0.0,2.0,0.0,1.0,5.0,2.0,5.0,4.0,4.0,3.0,0.0,4.0,3.0,2.0,5.0,0.0,0.0,3.0,0.0,0.0,5.0,2.0,3.0,4.0,0.0,4.0,1.0,4.0,4.0,2.0,0.0,1.0,0.0,0.0,4.0,0.0,6.0,4.0,0.0,1.0,1.0,0.0,1.0,3.0,0.0,4.0,3.0,4.0,0.0,1.0,4.0,4.0,1.0,4.0,1.0,2.0,3.0,3.0,1.0,1.0,1.0,5.0,4.0,5.0,4.0,4.0,4.0,3.0,0.0,3.0,1.0,5.0,1.0,2.0,0.0,5.0,4.0,1.0,2.0,5.0,4.0,4.0,4.0,3.0,4.0,4.0,4.0,1.0,1.0,4.0,4.0,3.0,0.0,4.0,5.0,3.0,0.0,0.0,3.0,1.0,4.0,0.0,4.0,0.0,0.0,4.0,2.0,0.0,5.0,5.0,4.0,4.0,0.0,3.0,1.0,1.0,3.0,0.0,4.0,1.0,3.0,4.0,4.0,4.0,4.0,4.0,1.0,4.0,2.0,1.0,5.0,4.0,4.0,0.0,1.0,1.0,0.0,4.0,1.0,2.0,1.0,1.0,2.0,4.0,4.0,3.0,5.0,2.0,0.0,5.0,0.0,0.0,0.0,4.0,2.0,0.0,2.0,4.0,4.0,1.0,3.0,4.0,2.0,0.0,1.0,0.0,4.0,1.0,1.0,1.0,1.0,5.0,0.0,4.0,0.0,4.0,1.0,0.0,1.0,0.0,4.0,1.0,1.0,1.0,4.0,0.0,0.0,0.0,2.0,4.0,4.0,1.0,5.0,0.0,3.0,4.0,3.0,6.0,1.0,0.0,4.0,1.0,4.0,4.0,4.0,1.0,2.0,4.0,1.0,4.0,1.0,4.0,3.0,1.0,6.0,3.0,4.0,1.0,1.0,4.0,4.0,1.0,0.0,1.0,0.0,2.0,4.0,2.0,0.0,0.0,0.0,5.0,1.0,3.0,1.0,4.0,1.0,4.0,4.0,3.0,5.0,1.0,4.0,3.0,6.0,1.0,0.0,4.0,2.0,0.0,3.0,2.0,4.0,1.0,0.0,1.0,4.0,1.0,0.0,4.0,1.0,0.0,0.0,1.0,3.0,1.0,5.0,1.0,3.0,0.0,1.0,1.0,0.0,4.0,0.0,0.0,1.0,0.0,4.0,4.0,5.0,0.0,3.0,0.0,4.0,1.0,3.0,4.0,2.0,0.0,5.0,3.0,4.0,2.0,4.0,3.0,5.0,0.0,1.0,0.0,0.0,1.0,4.0,0.0,2.0,1.0,4.0,1.0,1.0,4.0,4.0,4.0,2.0,1.0,4.0,1.0,1.0,4.0,0.0,0.0,2.0,1.0,4.0,1.0,0.0,0.0,1.0,0.0,6.0,2.0,5.0,4.0,5.0,4.0,1.0,5.0,0.0,0.0,0.0,4.0,5.0,4.0,4.0,1.0,4.0,1.0,0.0,2.0,4.0,4.0,6.0,2.0,0.0,4.0,4.0,4.0,4.0,0.0,4.0,0.0,2.0,4.0,3.0,0.0,2.0,4.0,4.0,3.0,4.0,6.0,4.0,0.0,0.0,2.0,1.0,4.0,0.0,4.0,6.0,1.0,5.0,2.0,2.0,1.0,3.0,0.0,1.0,3.0,3.0,4.0,4.0,4.0,0.0,1.0,1.0,2.0,5.0,3.0,1.0,4.0,0.0,2.0,0.0,1.0,0.0,2.0,4.0,0.0,3.0,5.0,1.0,4.0,1.0,2.0,0.0,4.0,1.0,1.0,1.0,4.0,0.0,3.0,4.0,3.0,2.0,4.0,3.0,1.0,1.0,4.0,4.0,4.0,1.0,6.0,4.0,4.0,3.0,4.0,1.0,4.0,4.0,1.0,4.0,4.0,1.0,2.0,4.0,4.0,4.0,4.0,0.0,4.0,3.0,3.0,2.0,4.0,2.0,0.0,1.0,1.0,1.0,4.0,0.0,4.0,6.0,0.0,0.0,5.0,0.0,1.0,0.0,4.0,0.0,4.0,5.0,4.0,4.0,4.0,1.0,0.0,2.0,4.0,5.0,4.0,0.0,6.0,0.0,4.0,1.0,4.0,1.0,5.0,0.0,4.0,1.0,1.0,2.0,3.0,1.0,4.0,0.0,0.0,0.0,0.0,4.0,2.0,0.0,3.0,3.0,1.0,3.0,3.0,4.0,0.0,0.0,1.0,2.0,4.0,4.0,3.0,4.0,5.0,2.0,4.0,6.0,1.0,3.0,1.0,3.0,4.0,5.0,0.0,2.0,4.0,4.0,0.0,0.0,2.0,1.0,1.0,4.0,1.0,3.0,6.0,4.0,1.0,1.0,1.0,1.0,4.0,0.0,6.0,4.0,0.0,1.0,2.0,5.0,4.0,2.0,2.0,1.0,4.0,4.0,4.0,1.0,6.0,3.0,4.0,0.0,4.0,0.0,1.0,3.0,0.0,4.0,2.0,4.0,3.0,4.0,0.0,0.0,4.0,3.0,2.0,0.0,2.0,2.0,1.0,4.0,3.0,4.0,0.0,6.0,0.0,6.0,1.0,3.0,1.0,1.0,4.0,3.0,1.0,1.0,3.0,3.0,4.0,0.0,1.0,4.0,1.0,3.0,0.0,4.0,4.0,0.0,3.0,0.0,1.0,4.0,4.0,0.0,1.0,0.0,0.0,6.0,1.0,1.0,0.0,2.0,1.0,4.0,0.0,1.0,4.0,5.0,4.0,1.0,1.0,0.0,1.0,0.0,4.0,3.0,4.0,0.0,1.0,4.0,6.0,0.0,3.0,3.0,0.0,5.0,1.0,3.0,1.0,4.0,1.0,0.0,4.0,0.0,2.0,4.0,1.0,4.0,0.0,4.0,5.0,4.0,0.0,0.0,4.0,0.0,6.0,0.0,5.0,4.0,1.0,4.0,0.0,4.0,1.0,0.0,1.0,1.0,0.0,4.0,0.0,4.0,4.0,1.0,0.0,0.0,4.0,0.0,5.0,4.0,0.0,0.0,0.0,0.0,4.0,1.0,0.0,0.0,3.0,4.0,1.0,0.0,6.0,1.0,2.0,1.0,0.0,0.0,1.0,4.0,1.0,3.0,0.0,0.0,1.0,1.0,4.0,4.0,5.0,0.0,1.0,2.0,5.0,4.0,1.0,0.0,4.0,1.0,0.0,3.0,1.0,3.0,0.0,0.0,1.0,0.0,6.0,1.0,6.0,4.0,1.0,4.0,1.0,1.0,4.0,5.0,3.0,1.0,1.0,1.0,1.0,4.0,5.0,1.0,4.0,0.0,1.0,3.0,4.0,0.0,0.0,3.0,4.0,1.0,3.0,4.0,0.0,2.0,3.0,4.0,0.0,1.0,0.0,4.0,4.0,1.0,0.0,1.0,2.0,0.0,6.0,1.0,1.0,6.0,1.0,1.0,4.0,6.0,2.0,0.0,0.0,1.0,3.0,4.0,3.0,0.0,0.0,6.0,0.0,5.0,1.0,1.0,1.0,4.0,5.0,5.0,5.0,1.0,4.0,4.0,0.0,0.0,4.0,1.0,4.0,3.0,2.0,2.0,2.0,4.0,3.0,4.0,4.0,1.0,3.0,0.0,0.0,4.0,0.0,1.0,6.0,0.0,5.0,4.0,0.0,0.0,4.0,4.0,0.0,3.0,4.0,2.0,0.0,4.0,0.0,4.0,0.0,4.0,5.0,2.0,0.0,2.0,1.0,4.0,4.0,2.0,1.0,0.0,4.0,5.0,3.0,6.0,4.0,1.0,0.0,4.0,0.0,0.0,0.0,6.0,0.0,4.0,4.0,1.0,5.0,1.0,3.0,1.0,1.0,2.0,5.0,1.0,1.0,0.0,5.0,1.0,6.0,1.0,4.0,4.0,2.0,0.0,4.0,0.0,1.0,3.0,0.0,0.0,2.0,0.0,0.0,0.0,1.0,4.0,0.0,5.0,6.0,6.0,1.0,3.0,1.0,3.0,4.0,0.0,5.0,4.0,5.0,1.0,1.0,3.0,6.0,4.0,6.0,4.0,2.0,4.0,1.0,4.0,1.0,3.0,3.0,3.0,4.0,4.0,4.0,0.0,4.0,0.0,4.0,1.0,0.0,4.0,4.0,4.0,1.0,3.0,1.0,4.0,5.0,3.0,0.0,1.0,4.0,3.0,4.0,3.0,4.0,4.0,0.0,2.0,4.0,4.0,4.0,1.0,3.0,4.0,1.0,0.0,0.0,1.0,1.0,6.0,4.0,3.0,2.0,4.0,1.0,3.0,1.0,0.0,0.0,3.0,4.0,1.0,4.0,1.0,1.0,0.0,3.0,1.0,0.0,4.0,1.0,3.0,1.0,2.0,4.0,5.0,6.0,4.0,1.0,0.0,1.0,2.0,3.0,3.0,4.0,0.0,4.0,6.0,4.0,5.0,4.0,6.0,1.0,4.0,2.0,1.0,0.0,2.0,4.0,0.0,5.0,4.0,6.0,1.0,0.0,3.0,4.0,5.0,0.0,1.0,0.0,0.0,4.0,2.0,4.0,0.0,3.0,1.0,1.0,1.0,0.0,4.0,6.0,2.0,1.0,1.0,4.0,4.0,0.0,3.0,4.0,4.0,0.0,4.0,4.0,0.0,4.0,4.0,4.0,3.0,3.0,0.0,2.0,1.0,4.0,0.0,6.0,0.0,0.0,6.0,1.0,4.0,1.0,4.0,4.0,0.0,5.0,0.0,4.0,1.0,1.0,0.0,3.0,0.0,5.0,1.0,5.0,1.0,4.0,1.0,3.0,0.0,1.0,0.0,0.0,0.0,2.0,1.0,0.0,0.0,2.0,4.0,4.0,4.0,0.0,4.0,4.0,3.0,1.0,3.0,4.0,1.0,0.0,3.0,4.0,1.0,4.0,2.0,1.0,0.0,4.0,4.0,5.0,2.0,5.0,1.0,3.0,0.0,4.0,1.0,2.0,1.0,4.0,1.0,0.0,1.0,2.0,0.0,1.0,1.0,4.0,0.0,4.0,0.0,0.0,4.0,4.0,2.0,1.0,1.0,2.0,6.0,4.0,0.0,1.0,5.0,0.0,4.0,3.0,1.0,1.0,0.0,4.0,4.0,4.0,6.0,1.0,4.0,4.0,3.0,3.0,0.0,2.0,0.0,3.0,0.0,4.0,4.0,1.0,4.0,1.0,1.0,0.0,3.0,4.0,0.0,3.0,2.0,0.0,4.0,4.0,2.0,4.0,4.0,4.0,4.0,4.0,4.0,6.0,3.0,4.0,1.0,4.0,3.0,1.0,0.0,4.0,1.0,4.0,5.0,1.0,0.0,0.0,0.0,6.0,1.0,2.0,4.0,4.0,4.0,4.0,4.0,0.0,5.0,4.0,4.0,0.0,4.0,1.0,1.0,6.0,4.0,5.0,4.0,1.0,3.0,2.0,1.0,4.0,0.0,1.0,0.0,4.0,4.0,4.0,1.0,4.0,3.0,1.0,0.0,4.0,4.0,1.0,3.0,1.0,4.0,2.0,3.0,3.0,2.0,4.0,1.0,1.0,5.0,4.0,4.0,1.0,4.0,1.0,0.0,0.0,1.0,4.0,5.0,0.0,4.0,6.0,2.0,0.0,2.0,6.0,0.0,1.0,0.0,0.0,4.0,4.0,6.0,0.0,1.0,3.0,2.0,0.0,1.0,4.0,2.0,4.0,5.0,1.0,4.0,3.0,4.0,0.0,3.0,3.0,0.0,0.0,4.0,4.0,3.0,0.0,3.0,6.0,4.0,6.0,0.0,3.0,0.0,0.0,1.0,4.0,4.0,3.0,2.0,4.0,5.0,1.0,3.0,4.0,2.0,5.0,0.0,1.0,4.0,1.0,0.0,1.0,0.0,4.0,2.0,4.0,0.0,0.0,4.0,0.0,0.0,2.0,0.0,1.0,3.0,1.0,1.0,4.0,0.0,1.0,0.0,2.0,4.0,0.0,1.0,3.0,0.0,2.0,4.0,4.0,0.0,1.0,4.0,0.0,4.0,1.0,3.0,0.0,4.0,4.0,0.0,3.0,1.0,0.0,2.0,1.0,3.0,4.0,4.0,1.0,4.0,4.0,4.0,1.0,1.0,1.0,0.0,1.0,4.0,0.0,4.0,4.0,0.0,5.0,0.0,5.0,1.0,3.0,1.0,3.0,4.0,4.0,0.0,3.0,1.0,1.0,0.0,0.0,3.0,2.0,4.0,0.0,2.0,1.0,2.0,1.0,1.0,4.0,4.0,0.0,4.0,1.0,4.0,3.0,1.0,1.0,4.0,0.0,1.0,4.0,4.0,0.0,4.0,3.0,1.0,4.0,1.0,4.0,0.0,0.0,4.0,5.0,2.0,1.0,0.0,0.0,3.0,4.0,0.0,3.0,4.0,1.0,4.0,5.0,1.0,0.0,1.0,5.0,4.0,4.0,0.0,4.0,4.0,1.0,1.0,0.0,4.0,0.0,0.0,3.0,0.0,4.0,5.0,0.0,0.0,0.0,4.0,1.0,2.0,0.0,1.0,1.0,3.0,1.0,4.0,5.0,3.0,4.0,4.0,1.0,1.0,4.0,0.0,6.0,6.0,0.0,0.0,4.0,0.0,2.0,1.0,1.0,0.0,4.0,1.0,3.0,2.0,1.0,0.0,3.0,0.0,0.0,0.0,3.0,0.0,1.0,1.0,0.0,2.0,4.0,2.0,0.0,1.0,0.0,0.0,3.0,1.0,4.0,2.0,5.0,6.0,2.0,6.0,4.0,0.0,0.0,1.0,4.0,0.0,6.0,0.0,0.0,4.0,0.0,1.0,3.0,1.0,4.0,0.0,4.0,1.0,5.0,4.0,2.0,4.0,0.0,0.0,4.0,2.0,3.0,2.0,1.0,3.0,1.0,0.0,4.0,1.0,0.0,0.0,3.0,4.0,0.0,0.0,1.0,0.0,1.0,1.0,6.0,1.0,2.0,4.0,6.0,1.0,4.0,1.0,4.0,4.0,1.0,1.0,0.0,4.0,1.0,0.0,4.0,3.0,0.0,4.0,0.0,5.0,3.0,5.0,4.0,0.0,0.0,3.0,4.0,4.0,3.0,1.0,3.0,2.0,1.0,0.0,4.0,3.0,2.0,0.0,4.0,0.0,5.0,0.0,4.0,3.0,3.0,0.0,4.0,3.0,2.0,0.0,4.0,4.0,0.0,0.0,5.0,0.0,0.0,1.0,0.0,5.0,5.0,0.0,1.0,6.0,4.0,6.0,5.0,4.0,0.0,2.0,5.0,4.0,5.0,5.0,4.0,4.0,6.0,1.0,5.0,1.0,3.0,1.0,6.0,3.0,6.0,3.0,4.0,4.0,5.0,4.0,3.0,5.0,0.0,4.0,0.0,4.0,4.0,1.0,2.0,6.0,4.0,3.0,4.0,4.0,6.0,1.0,0.0,5.0,4.0,0.0,0.0,0.0,3.0,1.0,2.0,4.0,1.0,6.0,4.0,0.0,0.0,3.0,4.0,1.0,6.0,4.0,0.0,2.0,1.0,1.0,4.0,2.0,1.0,4.0,1.0,4.0,0.0,0.0,4.0,4.0,4.0,3.0,3.0,0.0,2.0,4.0,5.0,0.0,3.0,1.0,4.0,4.0,3.0,1.0,5.0,4.0,1.0,4.0,1.0,3.0,3.0,4.0,4.0,0.0,1.0,4.0,1.0,3.0,6.0,1.0,4.0,3.0,4.0,4.0,4.0,4.0,1.0,5.0,2.0,4.0,1.0,3.0,4.0,3.0,1.0,2.0,5.0,5.0,4.0,4.0,4.0,6.0,3.0,4.0,4.0,3.0,4.0,0.0,3.0,4.0,4.0,0.0,0.0,3.0,1.0,2.0,6.0,4.0,1.0,1.0,0.0,1.0,3.0,4.0,4.0,0.0,1.0,4.0,0.0,3.0,0.0,3.0,5.0,3.0,1.0,4.0,5.0,0.0,1.0,4.0,3.0,3.0,0.0,4.0,2.0,1.0,3.0,3.0,0.0,4.0,0.0,5.0,4.0,0.0,0.0,4.0,2.0,1.0,3.0,5.0,2.0,1.0,2.0,1.0,1.0,3.0,0.0,4.0,0.0,3.0,4.0,5.0,5.0,5.0,4.0,0.0,4.0,3.0,5.0,1.0,4.0,4.0,3.0,5.0,6.0,1.0,2.0,6.0,0.0,2.0,2.0,3.0,3.0,4.0,0.0,5.0,3.0,0.0,4.0,4.0,5.0,2.0,4.0,4.0,3.0,0.0,3.0,3.0,0.0,4.0,3.0,4.0,1.0,4.0,1.0,0.0,2.0,5.0,0.0,1.0,4.0,4.0,0.0,5.0,4.0,6.0,1.0,4.0,5.0,4.0,0.0,1.0,4.0,3.0,3.0,5.0,0.0,0.0,3.0,0.0,5.0,5.0,0.0,3.0,0.0,5.0,4.0,0.0,3.0,5.0,6.0,3.0,0.0,1.0,0.0,0.0,1.0,1.0,2.0,1.0,3.0,3.0,3.0,0.0,1.0,4.0,4.0,1.0,3.0,6.0,1.0,1.0,5.0,0.0,4.0,5.0,1.0,1.0,0.0,5.0,3.0,0.0,3.0,1.0,1.0,0.0,0.0,0.0,3.0,3.0,0.0,1.0,5.0,3.0,3.0,2.0,3.0,0.0,3.0,0.0,2.0,4.0,3.0,0.0,4.0,2.0,0.0,4.0,0.0,2.0,1.0,4.0,5.0,4.0,4.0,3.0,3.0,1.0,4.0,5.0,4.0,5.0,1.0,6.0,3.0,5.0,1.0,1.0,3.0,4.0,4.0,6.0,2.0,1.0,4.0,4.0,1.0,4.0,0.0,5.0,3.0,5.0,6.0,2.0,4.0,0.0,3.0,5.0,0.0,5.0,4.0,1.0,2.0,4.0,0.0,4.0,4.0,3.0,1.0,2.0,3.0,1.0,3.0,2.0,5.0,2.0,4.0,3.0,2.0,5.0,2.0,1.0,0.0,4.0,4.0,5.0,3.0,1.0,1.0,1.0,4.0,5.0,1.0,1.0,3.0,5.0,2.0,3.0,3.0,1.0,4.0,1.0,1.0,3.0,4.0,1.0,4.0,5.0,6.0,0.0,5.0,0.0,0.0,0.0,4.0,4.0,4.0,4.0,3.0,4.0,4.0,1.0,4.0,1.0,3.0,5.0,1.0,4.0,4.0,4.0,3.0,3.0,5.0,0.0,2.0,5.0,3.0,0.0,0.0,0.0,6.0,0.0,2.0,1.0,3.0,4.0,6.0,3.0,0.0,3.0,0.0,4.0,0.0,3.0,0.0,4.0,6.0,4.0,4.0,5.0,0.0,1.0,4.0,1.0,5.0,3.0,6.0,4.0,3.0,1.0,4.0,1.0,3.0,4.0,0.0,3.0,0.0,6.0,4.0,5.0,4.0,2.0,4.0,4.0,5.0,4.0,2.0,5.0,1.0,4.0,5.0,2.0,4.0,3.0,1.0,1.0,3.0,4.0,3.0,4.0,4.0,5.0,2.0,1.0,0.0,4.0,3.0,1.0,4.0,4.0,5.0,1.0,4.0,6.0,0.0,0.0,0.0,4.0,3.0,3.0,4.0,4.0,4.0,0.0,4.0,2.0,1.0,4.0,4.0,0.0,4.0,1.0,4.0,5.0,1.0,4.0,0.0,4.0,3.0,3.0,4.0,3.0,0.0,5.0,4.0,4.0,1.0,4.0,4.0,1.0,0.0,3.0,4.0,0.0,1.0,2.0,0.0,0.0,0.0,4.0,4.0,5.0,5.0,0.0,0.0,3.0,0.0,4.0,1.0,4.0,3.0,3.0,0.0,1.0,3.0,1.0,2.0,4.0,1.0,4.0,4.0,4.0,0.0,5.0,0.0,4.0,0.0,5.0,0.0,5.0,3.0,4.0,5.0,1.0,0.0,4.0,5.0,0.0,3.0,4.0,3.0,5.0,1.0,4.0,5.0,4.0,4.0,1.0,0.0,3.0,5.0,6.0,4.0,4.0,1.0,0.0,2.0,5.0,5.0,0.0,0.0,1.0,2.0,0.0,1.0,3.0,4.0,4.0,2.0,2.0,6.0,4.0,1.0,0.0,2.0,1.0,1.0,5.0,4.0,1.0,4.0,6.0,4.0,0.0,6.0,5.0,5.0,4.0,1.0,1.0,2.0,0.0,0.0,1.0,1.0,0.0,6.0,5.0,4.0,4.0,1.0,3.0,0.0,6.0,1.0,4.0,1.0,4.0,1.0,0.0,6.0,1.0,4.0,1.0,3.0,5.0,0.0,1.0,4.0,1.0,4.0,1.0,0.0,4.0,2.0,1.0,0.0,2.0,2.0,4.0,0.0,5.0,1.0,1.0,0.0,4.0,2.0,6.0,2.0,1.0,0.0,4.0,2.0,3.0,4.0,3.0,4.0,5.0,3.0,3.0,1.0,4.0,5.0,4.0,5.0,1.0,4.0,2.0,0.0,1.0,5.0,5.0,4.0,1.0,1.0,1.0,3.0,4.0,2.0,2.0,1.0,2.0,0.0,1.0,0.0,3.0,2.0,5.0,1.0,3.0,4.0,4.0,1.0,0.0,0.0,4.0,1.0,5.0,3.0,5.0,1.0,4.0,2.0,1.0,1.0,3.0,3.0,1.0,0.0,1.0,0.0,4.0,0.0,1.0,2.0,4.0,3.0,1.0,6.0,3.0,0.0,5.0,1.0,3.0,5.0,6.0,4.0,4.0,4.0,0.0,3.0,3.0,4.0,0.0,0.0,4.0,3.0,3.0,1.0,5.0,1.0,1.0,0.0,5.0,4.0,3.0,3.0,4.0,5.0,5.0,3.0,2.0,5.0,4.0,4.0,4.0,3.0,4.0,4.0,1.0,5.0,2.0,0.0,3.0,4.0,3.0,0.0,6.0,4.0,0.0,1.0,0.0,4.0,4.0,3.0,4.0,4.0,2.0,5.0,0.0,0.0,5.0,6.0,3.0,2.0,0.0,6.0,3.0,4.0,4.0,4.0,5.0,4.0,4.0,3.0,4.0,6.0,3.0,0.0,4.0,5.0,0.0,4.0,4.0,5.0,3.0,1.0,0.0,0.0,0.0,3.0,6.0,3.0,4.0,4.0,4.0,0.0,1.0,6.0,4.0,4.0,4.0,0.0,0.0,3.0,0.0,2.0,1.0,4.0,4.0,0.0,5.0,3.0,0.0,4.0,3.0,1.0,3.0,4.0,1.0,1.0,4.0,1.0,4.0,1.0,5.0,6.0,4.0,3.0,4.0,0.0,1.0,2.0,3.0,3.0,4.0,4.0,2.0,0.0,1.0,4.0,1.0,0.0,6.0,4.0,3.0,3.0,5.0,6.0,3.0,1.0,4.0,5.0,4.0,2.0,4.0,4.0,0.0,4.0,5.0,4.0,4.0,1.0,0.0,3.0,2.0,4.0,1.0,3.0,2.0,3.0,0.0,5.0,4.0,0.0,0.0,4.0,0.0,1.0,1.0,5.0,0.0,1.0,5.0,1.0,3.0,2.0,6.0,4.0,4.0,3.0,4.0,4.0,4.0,4.0,0.0,4.0,1.0,6.0,4.0,1.0,1.0,1.0,1.0,3.0,2.0,3.0,6.0,0.0,5.0,3.0,5.0,4.0,5.0,0.0,4.0,3.0,0.0,1.0,4.0,1.0,2.0,5.0,1.0,3.0,1.0,6.0,1.0,1.0,1.0,6.0,0.0,0.0,1.0,3.0,3.0,5.0,4.0,1.0,0.0,4.0,0.0,6.0,3.0,2.0,4.0,4.0,4.0,1.0,3.0,0.0,1.0,4.0,0.0,4.0,3.0,4.0,1.0,4.0,6.0,3.0,0.0,2.0,1.0,4.0,3.0,4.0,4.0,3.0,2.0,4.0,4.0,0.0,3.0,1.0,4.0,4.0,0.0,2.0,0.0,3.0,5.0,4.0,4.0,6.0,4.0,0.0,4.0,1.0,4.0,5.0,1.0,5.0,4.0,5.0,3.0,4.0,0.0,2.0,3.0,6.0,5.0,1.0,4.0,3.0,2.0,4.0,5.0,0.0,5.0,4.0,2.0,0.0,4.0,4.0,4.0,6.0,6.0,5.0,4.0,2.0,0.0,6.0,3.0,4.0,3.0,0.0,3.0,6.0,4.0,4.0,4.0,1.0,3.0,0.0,1.0,1.0,2.0,0.0,4.0,1.0,0.0,3.0,0.0,3.0,0.0,0.0,3.0,3.0,0.0,5.0,0.0,0.0,2.0,2.0,3.0,1.0,4.0,4.0,4.0,3.0,0.0,0.0,4.0,6.0,0.0,4.0,0.0,4.0,4.0,0.0,0.0,2.0,3.0,3.0,4.0,1.0,5.0,3.0,4.0,2.0,3.0,0.0,5.0,5.0,4.0,6.0,3.0,1.0,1.0,1.0,0.0,2.0,4.0,1.0,0.0,2.0,0.0,4.0,5.0,0.0,1.0,4.0,0.0,5.0,4.0,5.0,4.0,6.0,3.0,0.0,5.0,0.0,4.0,4.0,1.0,1.0,0.0,5.0,6.0,1.0,4.0,3.0,4.0,3.0,1.0,0.0,5.0,6.0,5.0,5.0,4.0,3.0,4.0,1.0,5.0,0.0,0.0,0.0,6.0,6.0,4.0,4.0,0.0,3.0,1.0,1.0,4.0,4.0,0.0,4.0,3.0,1.0,4.0,4.0,0.0,2.0,5.0,4.0,0.0,2.0,4.0,5.0,0.0,3.0,1.0,1.0,1.0,4.0,0.0,1.0,0.0,4.0,4.0,0.0,1.0,0.0,0.0,2.0,1.0,5.0,5.0,2.0,1.0,5.0,2.0,4.0,4.0,4.0,4.0,5.0,4.0,4.0,2.0,4.0,5.0,0.0,4.0,0.0,0.0,1.0,5.0,5.0,0.0,4.0,1.0,2.0,4.0,0.0,3.0,0.0,4.0,4.0,3.0,3.0,1.0,6.0,1.0,3.0,4.0,3.0,2.0,2.0,0.0,0.0,4.0,1.0,0.0,1.0,3.0,3.0,0.0,1.0,4.0,3.0,2.0,4.0,4.0,4.0,4.0,5.0,3.0,0.0,4.0,3.0,6.0,1.0,1.0,4.0,2.0,2.0,5.0,1.0,1.0,6.0,2.0,0.0,0.0,1.0,5.0,2.0,4.0,4.0,0.0,0.0,0.0,2.0,4.0,1.0,4.0,3.0,5.0,0.0,5.0,1.0,5.0,0.0,3.0,4.0,1.0,0.0,4.0,0.0,1.0,3.0,4.0,0.0,1.0,4.0,4.0,5.0,4.0,0.0,2.0,0.0,4.0,2.0,2.0,4.0,4.0,4.0,4.0,3.0,0.0,3.0,0.0,6.0,2.0,4.0,1.0,3.0,1.0,3.0,0.0,4.0,5.0,4.0,0.0,4.0,0.0,4.0,0.0,1.0,0.0,0.0,4.0,0.0,0.0,2.0,0.0,0.0,0.0,1.0,4.0,5.0,3.0,0.0,3.0,4.0,0.0,0.0,5.0,0.0,1.0,0.0,4.0,3.0,4.0,1.0,0.0,4.0,2.0,0.0,4.0,0.0,1.0,0.0,4.0,6.0,4.0,5.0,5.0,0.0,0.0,1.0,5.0,4.0,2.0,4.0,5.0,3.0,4.0,4.0,0.0,0.0,0.0,0.0,4.0,5.0,2.0,4.0,6.0,4.0,0.0,4.0,4.0,4.0,4.0,3.0,2.0,0.0,4.0,0.0,6.0,3.0,4.0,0.0,1.0,6.0,0.0,4.0,3.0,1.0,3.0,0.0,2.0,0.0,4.0,4.0,1.0,5.0,4.0,0.0,5.0,4.0,6.0,0.0,4.0,1.0,2.0,4.0,4.0,2.0,0.0,1.0,5.0,4.0,1.0,5.0,1.0,0.0,0.0,0.0,4.0,0.0,4.0,4.0,1.0,4.0,6.0,0.0,4.0,4.0,0.0,0.0,5.0,0.0,4.0,4.0,1.0,1.0,0.0,3.0,0.0,4.0,0.0,1.0,2.0,1.0,3.0,0.0,1.0,4.0,0.0,4.0,0.0,1.0,4.0,0.0,0.0,4.0,6.0,3.0,1.0,4.0,0.0,0.0,0.0,3.0,4.0,0.0,4.0,0.0,0.0,0.0,5.0,4.0,4.0,4.0,6.0,3.0,4.0,0.0,5.0,0.0,4.0,5.0,4.0,0.0,0.0,4.0,3.0,1.0,4.0,5.0,4.0,0.0,0.0,4.0,4.0,4.0,3.0,1.0,4.0,4.0,4.0,4.0,5.0,0.0,4.0,4.0,0.0,0.0,3.0,1.0,4.0,5.0,1.0,0.0,1.0,5.0,4.0,4.0,0.0,4.0,1.0,1.0,4.0,3.0,5.0,5.0,4.0,3.0,4.0,5.0,0.0,4.0,0.0,4.0,5.0,4.0,4.0,6.0,4.0,5.0,4.0,3.0,3.0,4.0,4.0,4.0,0.0,6.0,5.0,4.0,0.0,4.0,0.0,4.0,1.0,1.0,1.0,0.0,2.0,1.0,0.0,4.0,0.0,4.0,3.0,1.0,4.0,0.0,0.0,0.0,0.0,0.0,2.0,0.0,5.0,3.0,0.0,0.0,1.0,3.0,4.0,1.0,0.0,0.0,0.0,4.0,3.0,4.0,2.0,4.0,3.0,4.0,5.0,4.0,4.0,6.0,3.0,0.0,4.0,4.0,4.0,4.0,2.0,4.0,1.0,0.0,5.0,3.0,3.0,1.0,3.0,0.0,0.0,4.0,0.0,0.0,4.0,4.0,0.0,5.0,5.0,6.0,2.0,4.0,4.0,0.0,0.0,4.0,4.0,0.0,0.0,1.0,6.0,3.0,5.0,3.0,1.0,1.0,4.0,5.0,0.0,4.0,2.0,0.0,4.0,3.0,4.0,1.0,1.0,4.0,4.0,1.0,4.0,0.0,1.0,0.0,4.0,4.0,3.0,0.0,0.0,1.0,5.0,4.0,0.0,6.0,3.0,1.0,4.0,5.0,0.0,3.0,3.0,0.0,2.0,3.0,4.0,4.0,6.0,1.0,4.0,4.0,4.0,2.0,1.0,3.0,1.0,0.0,0.0,0.0,0.0,4.0,5.0,3.0,3.0,4.0,3.0,0.0,4.0,3.0,4.0,0.0,2.0,1.0,4.0,0.0,0.0,0.0,0.0,4.0,4.0,4.0,0.0,4.0,0.0,4.0,0.0,3.0,5.0,4.0,4.0,3.0,0.0,4.0,2.0,0.0,0.0,4.0,2.0,2.0,1.0,4.0,0.0,4.0,4.0,0.0,0.0,0.0,1.0,4.0,1.0,5.0,4.0,0.0,4.0,2.0,1.0,4.0,4.0,4.0,4.0,2.0,0.0,0.0,4.0,6.0,3.0,6.0,0.0,4.0,4.0,4.0,0.0,4.0,4.0,4.0,3.0,5.0,4.0,4.0,1.0,6.0,0.0,4.0,2.0,5.0,0.0,4.0,1.0,3.0,4.0,0.0,4.0,0.0,4.0,4.0,4.0,5.0,4.0,0.0,0.0,5.0,6.0,0.0,5.0,4.0,0.0,5.0,0.0,4.0,4.0,2.0,4.0,4.0,1.0,3.0,4.0,3.0,5.0,1.0,4.0,5.0,4.0,4.0,0.0,0.0,4.0,1.0,3.0,1.0,3.0,3.0,4.0,4.0,4.0,4.0,4.0,4.0,0.0,0.0,4.0,0.0,1.0,5.0,4.0,3.0,3.0,4.0,4.0,0.0,4.0,4.0,3.0,1.0,0.0,6.0,1.0,4.0,4.0,2.0,4.0,5.0,4.0,4.0,4.0,4.0,1.0,0.0,4.0,5.0,5.0,3.0,0.0,4.0,4.0,4.0,4.0,4.0,5.0,0.0,4.0,0.0,0.0,4.0,0.0,5.0,0.0,3.0,4.0,4.0,1.0,4.0,1.0,4.0,0.0,4.0,4.0,1.0,2.0,3.0,3.0,1.0,4.0,0.0,4.0,5.0,4.0,0.0,4.0,5.0,5.0,4.0,4.0,0.0,0.0,0.0,4.0,5.0,4.0,4.0,0.0,2.0,1.0,3.0,0.0,6.0,3.0,4.0,5.0,1.0,0.0,4.0,5.0,4.0,0.0,6.0,4.0,4.0,4.0,0.0,0.0,0.0,0.0,4.0,6.0,0.0,4.0,5.0,2.0,0.0,0.0,4.0,1.0,0.0,0.0,2.0,4.0,2.0,0.0,0.0,4.0,4.0,1.0,4.0,0.0,5.0,0.0,4.0,3.0,4.0,6.0,1.0,4.0,0.0,6.0,1.0,0.0,4.0,3.0,4.0,4.0,2.0,1.0,5.0,4.0,4.0,0.0,5.0,4.0,0.0,0.0,0.0,3.0,0.0,0.0,0.0,0.0,5.0,4.0,0.0,0.0,6.0,0.0,4.0,6.0,4.0,4.0,0.0,4.0,4.0,1.0,4.0,4.0,4.0,4.0,3.0,0.0,0.0,1.0,0.0,4.0,2.0,3.0,4.0,4.0,5.0,3.0,4.0,3.0,4.0,0.0,1.0,2.0,0.0,0.0,4.0,0.0,4.0,0.0,1.0,4.0,5.0,0.0,0.0,2.0,0.0,4.0,0.0,4.0,3.0,0.0,0.0,6.0,1.0,4.0,0.0,4.0,4.0,4.0,1.0,4.0,0.0,6.0,4.0,0.0,4.0,0.0,5.0,4.0,4.0,4.0,4.0,0.0,4.0,3.0,0.0,0.0,0.0,0.0,0.0,1.0,4.0,4.0,0.0,6.0,0.0,4.0,4.0,3.0,0.0,0.0,1.0,3.0,4.0,4.0,6.0,5.0,0.0,2.0,4.0,2.0,4.0,1.0,5.0,0.0,4.0,2.0,3.0,4.0,3.0,4.0,4.0,0.0,1.0,4.0,0.0,4.0,0.0,0.0,0.0,0.0,3.0,4.0,1.0,5.0,6.0,1.0,0.0,1.0,0.0,0.0,5.0,4.0,4.0,4.0,4.0,5.0,0.0,4.0,4.0,3.0,3.0,1.0,4.0,0.0,0.0,5.0,4.0,1.0,0.0,0.0,1.0,6.0,6.0,1.0,5.0,0.0,0.0,3.0,3.0,0.0,0.0,5.0,1.0,4.0,4.0,3.0,4.0,4.0,1.0,4.0,2.0,3.0,0.0,4.0,1.0,0.0,4.0,0.0,0.0,2.0,0.0,1.0,6.0,2.0,0.0,0.0,4.0,5.0,4.0,1.0,0.0,0.0,4.0,4.0,4.0,4.0,6.0,0.0,3.0,5.0,6.0,4.0,1.0,4.0,4.0,1.0,0.0,4.0,3.0,0.0,4.0,5.0,0.0,4.0,0.0,4.0,4.0,1.0,3.0,4.0,0.0,4.0,0.0,6.0,4.0,4.0,0.0,4.0,5.0,4.0,5.0,2.0,0.0,4.0,0.0,4.0,4.0,4.0,0.0,0.0,0.0,4.0,3.0,0.0,4.0,0.0,4.0,3.0,4.0,5.0,4.0,2.0,0.0,6.0,4.0,4.0,4.0,1.0,5.0,4.0,2.0,3.0,5.0,3.0,1.0,4.0,4.0,4.0,1.0,2.0,4.0,0.0,2.0,4.0,1.0,2.0,3.0,4.0,3.0,4.0,3.0,1.0,1.0,5.0,2.0,3.0,4.0,0.0,5.0,5.0,2.0,4.0,0.0,3.0,4.0,4.0,0.0,5.0,3.0,4.0,4.0,0.0,0.0,3.0,4.0,3.0,4.0,0.0,2.0,5.0,5.0,5.0,4.0,0.0,5.0,4.0,6.0,2.0,0.0,1.0,5.0,3.0,0.0,1.0,4.0,0.0,4.0,4.0,4.0,0.0,3.0,4.0,5.0,4.0,0.0,0.0,1.0,4.0,0.0,0.0,0.0,4.0,4.0,3.0,0.0,0.0,6.0,4.0,4.0,0.0,0.0,6.0,3.0,0.0,5.0,0.0,3.0,4.0,0.0,0.0,4.0,0.0,5.0,0.0,4.0,2.0,0.0,3.0,0.0,0.0,5.0,3.0,0.0,4.0,4.0,4.0,4.0,5.0,0.0,4.0,6.0,0.0,4.0,6.0,4.0,6.0,5.0,1.0,4.0,0.0,4.0,0.0,6.0,4.0,6.0,4.0,3.0,0.0,0.0,4.0,0.0,4.0,0.0,4.0,3.0,6.0,4.0,0.0,6.0,5.0,1.0,1.0,0.0,0.0,0.0,4.0,4.0,5.0,2.0,2.0,2.0,0.0,5.0,4.0,0.0,1.0,4.0,1.0,4.0,0.0,0.0,0.0,5.0,0.0,2.0,2.0,1.0,4.0,0.0,0.0,1.0,4.0,3.0,1.0,4.0,3.0,4.0,1.0,0.0,2.0,0.0,4.0,2.0,0.0,3.0,6.0,1.0,4.0,4.0,4.0,4.0,4.0,0.0,0.0,6.0,4.0,5.0,4.0,2.0,4.0,4.0,0.0,0.0,4.0,4.0,0.0,5.0,0.0,4.0,3.0,0.0,5.0,4.0,1.0,0.0,4.0,0.0,4.0,1.0,2.0,3.0,4.0,3.0,5.0,4.0,4.0,4.0,4.0,0.0,0.0,0.0,4.0,4.0,3.0,1.0,0.0,4.0,2.0,0.0,2.0,5.0,4.0,2.0,1.0,6.0,1.0,4.0,4.0,4.0,0.0,4.0,3.0,0.0,4.0,4.0,4.0,0.0,4.0,3.0,1.0,1.0,0.0,0.0,4.0,0.0,0.0,5.0,5.0,1.0,4.0,1.0,6.0,3.0,6.0,2.0,6.0,0.0,0.0,0.0,4.0,5.0,0.0,1.0,5.0,3.0,3.0,3.0,4.0,1.0,1.0,2.0,0.0,4.0,4.0,4.0,0.0,0.0,5.0,1.0,1.0,0.0,0.0,0.0,0.0,4.0,2.0,4.0,3.0,4.0,3.0,0.0,3.0,1.0,3.0,0.0,4.0,2.0,0.0,0.0,2.0,4.0,4.0,4.0,4.0,2.0,4.0,0.0,0.0,4.0,2.0,0.0,4.0,0.0,2.0,4.0,0.0,6.0,0.0,4.0,5.0,2.0,6.0,4.0,0.0,4.0,0.0,6.0,4.0,4.0,1.0,3.0,0.0,5.0,0.0,0.0,0.0,4.0,5.0,1.0,4.0,0.0,3.0,0.0,5.0,0.0,4.0,2.0,5.0,0.0,3.0,2.0,4.0,4.0,4.0,0.0,4.0,4.0,6.0,0.0,3.0,0.0,1.0,0.0,2.0,4.0,4.0,5.0,5.0,5.0,1.0,5.0,0.0,0.0,3.0,0.0,6.0,0.0,3.0,5.0,0.0,4.0,5.0,0.0,1.0,0.0,0.0,5.0,5.0,4.0,0.0,4.0,3.0,4.0,6.0,0.0,4.0,0.0,3.0,1.0,4.0,2.0,0.0,4.0,4.0,0.0,3.0,4.0,0.0,2.0,3.0,3.0,0.0,0.0,3.0,4.0,3.0,5.0,0.0,4.0,4.0,0.0,4.0,3.0,2.0,4.0,0.0,0.0,2.0,4.0,0.0,3.0,4.0,0.0,4.0,0.0,4.0,1.0,4.0,5.0,4.0,4.0,1.0,4.0,4.0,3.0,4.0,5.0,0.0,0.0,2.0,3.0,3.0,5.0,4.0,0.0,4.0,4.0,1.0,5.0,4.0,0.0,0.0,0.0,4.0,1.0,0.0,0.0,3.0,5.0,3.0,0.0,4.0,1.0,2.0,4.0,0.0,0.0,0.0,0.0,4.0,4.0,1.0,5.0,5.0,3.0,1.0,2.0,4.0,1.0,0.0,0.0,4.0,1.0,1.0,3.0,6.0,0.0,4.0,0.0,0.0,4.0,0.0,0.0,4.0,0.0,0.0,0.0,0.0,4.0,4.0,2.0,0.0,0.0,4.0,4.0,1.0,4.0,3.0,0.0,1.0,3.0,4.0,4.0,2.0,0.0,4.0,1.0,6.0,1.0,0.0,0.0,4.0,5.0,0.0,4.0,4.0,4.0,0.0,0.0,3.0,3.0,4.0,0.0,2.0,3.0,0.0,4.0,0.0,0.0,4.0,0.0,0.0,3.0,6.0,4.0,0.0,0.0,3.0,1.0,0.0,0.0,2.0,5.0,6.0,6.0,0.0,4.0,0.0,0.0,3.0,3.0,4.0,0.0,4.0,4.0,3.0,0.0,0.0,0.0,4.0,3.0,1.0,1.0,2.0,4.0,4.0,5.0,1.0,1.0,0.0,3.0,0.0,5.0,0.0,5.0,0.0,0.0,3.0,0.0,5.0,0.0,4.0,3.0,0.0,5.0,5.0,6.0,3.0,1.0,4.0,0.0,1.0,3.0,6.0,0.0,3.0,4.0,1.0,1.0,2.0,6.0,1.0,2.0,0.0,1.0,6.0,0.0,5.0,3.0,2.0,5.0,0.0,0.0,0.0,0.0,4.0,0.0,3.0,5.0,5.0,6.0,5.0,4.0,0.0,0.0,5.0,6.0,4.0,1.0,5.0,4.0,3.0,4.0,0.0,0.0,4.0,4.0,4.0,3.0,4.0,5.0,2.0,6.0,0.0,0.0,4.0,4.0,4.0,4.0,5.0,1.0,2.0,4.0,6.0,2.0,0.0,4.0,2.0,4.0,4.0,6.0,2.0,4.0,4.0,5.0,4.0,4.0,2.0,1.0,1.0,4.0,6.0,1.0,4.0,0.0,1.0,1.0,5.0,4.0,4.0,4.0,5.0,4.0,4.0,4.0,4.0,0.0,4.0,2.0,3.0,2.0,4.0,1.0,1.0,0.0,0.0,0.0,0.0,6.0,1.0,4.0,1.0,0.0,3.0,1.0,3.0,3.0,4.0,0.0,3.0,0.0,0.0,4.0,2.0,2.0,0.0,3.0,3.0,4.0,3.0,4.0,4.0,4.0,0.0,4.0,2.0,0.0,1.0,0.0,5.0,2.0,6.0,0.0,1.0,4.0,5.0,0.0,5.0,4.0,2.0,4.0,0.0,1.0,2.0,6.0,1.0,3.0,5.0,1.0,1.0,3.0,1.0,0.0,6.0,0.0,4.0,4.0,4.0,4.0,3.0,4.0,0.0,1.0,0.0,4.0,0.0,5.0,5.0,4.0,3.0,4.0,0.0,1.0,1.0,5.0,6.0,0.0,1.0,0.0,1.0,0.0,4.0,0.0,4.0,4.0,5.0,0.0,0.0,4.0,0.0,0.0,1.0,0.0,6.0,6.0,4.0,3.0,1.0,0.0,3.0,4.0,5.0,3.0,4.0,3.0,4.0,0.0,2.0,4.0,0.0,0.0,0.0,3.0,1.0,1.0,4.0,1.0,0.0,3.0,0.0,0.0,3.0,0.0,0.0,1.0,0.0,4.0,5.0,1.0,0.0,3.0,3.0,3.0,0.0,5.0,6.0,1.0,3.0,5.0,1.0,5.0,5.0,3.0,5.0,4.0,4.0,6.0,2.0,3.0,0.0,0.0,4.0,0.0,5.0,6.0,5.0,1.0,0.0,4.0,0.0,3.0,0.0,1.0,0.0,1.0,1.0,4.0,5.0,3.0,1.0,3.0,2.0,1.0,3.0,0.0,1.0,1.0,5.0,4.0,0.0,0.0,0.0,4.0,2.0,1.0,5.0,5.0,0.0,5.0,5.0,4.0,0.0,0.0,4.0,2.0,1.0,0.0,2.0,6.0,0.0,3.0,0.0,4.0,1.0,4.0,1.0,1.0,4.0,0.0,1.0,0.0,5.0,4.0,0.0,4.0,0.0,0.0,0.0,6.0,1.0,0.0,1.0,3.0,4.0,1.0,0.0,1.0,3.0,0.0,6.0,4.0,3.0,3.0,3.0,0.0,1.0,0.0,0.0,4.0,3.0,1.0,6.0,0.0,0.0,1.0,4.0,1.0,5.0,0.0,5.0,1.0,4.0,3.0,5.0,5.0,6.0,0.0,4.0,5.0,0.0,4.0,4.0,6.0,1.0,4.0,0.0,1.0,2.0,6.0,5.0,0.0,0.0,2.0,1.0,3.0,0.0,0.0,6.0,3.0,6.0,3.0,0.0,4.0,0.0,2.0,2.0,4.0,1.0,1.0,2.0,1.0,1.0,4.0,0.0,0.0,1.0,4.0,1.0,1.0,2.0,1.0,1.0,4.0,6.0,5.0,0.0,3.0,0.0,3.0,4.0,5.0,4.0,1.0,0.0,0.0,1.0,6.0,0.0,0.0,5.0,1.0,6.0,6.0,3.0,4.0,1.0,1.0,4.0,0.0,1.0,1.0,1.0,4.0,3.0,6.0,1.0,5.0,0.0,1.0,3.0,3.0,5.0,5.0,0.0,5.0,2.0,4.0,4.0,0.0,0.0,4.0,4.0,1.0,0.0,0.0,0.0,1.0,1.0,2.0,4.0,4.0,6.0,3.0,0.0,4.0,3.0,6.0,4.0,2.0,3.0,5.0,4.0,3.0,0.0,5.0,1.0,0.0,4.0,4.0,3.0,4.0,5.0,0.0,0.0,4.0,5.0,4.0,0.0,0.0,3.0,3.0,0.0,5.0,0.0,6.0,2.0,0.0,4.0,4.0,0.0,0.0,3.0,0.0,6.0,5.0,1.0,3.0,0.0,3.0,5.0,0.0,1.0,0.0,6.0,2.0,6.0,4.0,5.0,6.0,0.0,2.0,0.0,1.0,4.0,5.0,0.0,5.0,6.0,0.0,4.0,4.0,1.0,2.0,2.0,0.0,3.0,2.0,0.0,4.0,3.0,4.0,0.0,0.0,4.0,2.0,1.0,4.0,2.0,1.0,0.0,6.0,1.0,1.0,4.0,0.0,3.0,5.0,1.0,4.0,0.0,0.0,4.0,6.0,2.0,3.0,1.0,4.0,3.0,0.0,4.0,4.0,4.0,1.0,0.0,3.0,4.0,3.0,1.0,6.0,0.0,5.0,1.0,1.0,0.0,1.0,1.0,1.0,1.0,1.0,3.0,5.0,4.0,4.0,3.0,0.0,4.0,4.0,0.0,4.0,5.0,0.0,6.0,6.0,4.0,0.0,2.0,1.0,3.0,1.0,3.0,5.0,0.0,0.0,1.0,3.0,5.0,2.0,2.0,2.0,3.0,0.0,4.0,1.0,4.0,6.0,3.0,3.0,1.0,4.0,3.0,4.0,4.0,1.0,3.0,6.0,4.0,1.0,0.0,0.0,0.0,3.0,0.0,0.0,4.0,3.0,0.0,4.0,3.0,3.0,5.0,1.0,4.0,0.0,5.0,3.0,5.0,0.0,4.0,1.0,0.0,5.0,1.0,5.0,0.0,4.0,1.0,1.0,0.0,4.0,5.0,3.0,6.0,2.0,6.0,3.0,4.0,1.0,3.0,1.0,3.0,0.0,0.0,2.0,0.0,1.0,2.0,0.0,3.0,0.0,0.0,4.0,0.0,4.0,4.0,5.0,0.0,0.0,3.0,6.0,2.0,0.0,5.0,0.0,3.0,0.0,4.0,1.0,4.0,6.0,0.0,5.0,1.0,4.0,3.0,4.0,0.0,5.0,4.0,0.0,4.0,3.0,2.0,0.0,0.0,0.0,5.0,5.0,2.0,2.0,3.0,4.0,0.0,5.0,5.0,1.0,4.0,1.0,1.0,5.0,5.0,1.0,4.0,0.0,0.0,2.0,5.0,2.0,5.0,3.0,0.0,5.0,0.0,3.0,1.0,0.0,4.0,0.0,3.0,4.0,4.0,0.0,1.0,0.0,3.0,4.0,1.0,0.0,0.0,1.0,4.0,6.0,1.0,4.0,4.0,5.0,1.0,5.0,1.0,0.0,4.0,3.0,4.0,0.0,0.0,2.0,3.0,3.0,3.0,4.0,1.0,4.0,0.0,2.0,4.0,4.0,1.0,3.0,3.0,2.0,5.0,4.0,1.0,1.0,4.0,4.0,3.0,1.0,5.0,0.0,4.0,0.0,1.0,1.0,5.0,1.0,2.0,5.0,0.0,2.0,0.0,4.0,0.0,3.0,1.0,0.0,4.0,1.0,4.0,3.0,1.0,6.0,5.0,3.0,5.0,1.0,5.0,1.0,0.0,2.0,2.0,2.0,0.0,5.0,3.0,4.0,1.0,3.0,0.0,1.0,1.0,6.0,1.0,0.0,1.0,4.0,0.0,0.0,5.0,4.0,1.0,0.0,0.0,0.0,0.0,2.0,3.0,4.0,5.0,3.0,0.0,5.0,3.0,4.0,1.0,6.0,1.0,0.0,0.0,4.0,2.0,6.0,0.0,5.0,4.0,0.0,3.0,0.0,5.0,3.0,3.0,3.0,0.0,0.0,2.0,0.0,6.0,0.0,3.0,1.0,0.0,2.0,1.0,5.0,1.0,0.0,3.0,1.0,4.0,1.0,4.0,4.0,6.0,4.0,3.0,5.0,0.0,1.0,1.0,3.0,6.0,4.0,0.0,4.0,0.0,1.0,5.0,5.0,5.0,0.0,5.0,4.0,1.0,6.0,5.0,1.0,5.0,3.0,6.0,0.0,0.0,0.0,1.0,3.0,0.0,1.0,4.0,5.0,0.0,0.0,6.0,2.0,3.0,1.0,0.0,0.0,4.0,3.0,0.0,6.0,4.0,5.0,4.0,4.0,4.0,1.0,0.0,0.0,2.0,0.0,4.0,5.0,4.0,6.0,5.0,6.0,2.0,0.0,3.0,6.0,4.0,1.0,0.0,4.0,1.0,0.0,3.0,4.0,2.0,5.0,2.0,0.0,6.0,0.0,3.0,1.0,5.0,3.0,0.0,4.0,1.0,0.0,1.0,5.0,0.0,0.0,1.0,1.0,5.0,0.0,0.0,1.0,4.0,2.0,3.0,1.0,3.0,0.0,5.0,0.0,3.0,0.0,2.0,4.0,2.0,1.0,0.0,3.0,6.0,0.0,0.0,1.0,0.0,3.0,4.0,0.0,1.0,0.0,3.0,0.0,0.0,4.0,3.0,4.0,3.0,5.0,3.0,6.0,2.0,0.0,6.0,2.0,4.0,1.0,3.0,4.0,0.0,1.0,0.0,5.0,1.0,1.0,4.0,1.0,1.0,4.0,0.0,0.0,4.0,4.0,1.0,1.0,0.0,3.0,3.0,0.0,0.0,3.0,0.0,2.0,4.0,5.0,5.0,0.0,6.0,0.0,4.0,0.0,0.0,4.0,0.0,1.0,2.0,0.0,0.0,1.0,1.0,1.0,0.0,6.0,3.0,3.0,4.0,0.0,1.0,3.0,1.0,1.0,1.0,2.0,0.0,1.0,1.0,3.0,4.0,1.0,3.0,0.0,1.0,1.0,1.0,1.0,5.0,4.0,0.0,0.0,3.0,3.0,1.0,4.0,2.0,4.0,6.0,0.0,4.0,3.0,4.0,6.0,1.0,1.0,0.0,0.0,4.0,5.0,4.0,6.0,2.0,4.0,5.0,4.0,0.0,0.0,5.0,1.0,6.0,1.0,0.0,1.0,2.0,0.0,1.0,4.0,5.0,6.0,6.0,3.0,6.0,3.0,0.0,4.0,1.0,4.0,5.0,3.0,0.0,0.0,3.0,0.0,1.0,5.0,4.0,3.0,6.0,4.0,0.0,6.0,3.0,3.0,3.0,4.0,0.0,0.0,4.0,3.0,5.0,4.0,1.0,6.0,5.0,5.0,3.0,6.0,5.0,3.0,0.0,1.0,4.0,1.0,1.0,1.0,0.0,0.0,5.0,0.0,2.0,3.0,0.0,0.0,4.0,4.0,2.0,5.0,5.0,4.0,1.0,1.0,6.0,5.0,0.0,3.0,0.0,5.0,6.0,1.0,2.0,0.0,0.0,3.0,0.0,0.0,0.0,1.0,3.0,5.0,0.0,0.0,6.0,4.0,0.0,6.0,4.0,3.0,1.0,3.0,5.0,1.0,3.0,6.0,5.0,4.0,4.0,0.0,0.0,4.0,4.0,6.0,3.0,4.0,1.0,1.0,3.0,4.0,3.0,6.0,5.0,6.0,3.0,3.0,3.0,4.0,4.0,1.0,0.0,4.0,0.0,0.0,2.0,4.0,0.0,4.0,1.0,0.0,6.0,0.0,1.0,2.0,2.0,1.0,0.0,5.0,4.0,0.0,2.0,4.0,1.0,0.0,3.0,2.0,0.0,0.0,0.0,1.0,2.0,5.0,2.0,3.0,2.0,0.0,1.0,1.0,2.0,4.0,5.0,3.0,5.0,4.0,0.0,4.0,1.0,5.0,1.0,1.0,1.0,6.0,0.0,2.0,0.0,0.0,3.0,3.0,3.0,3.0,1.0,0.0,4.0,5.0,3.0,5.0,5.0,5.0,1.0,5.0,3.0,6.0,4.0,4.0,4.0,5.0,0.0,4.0,4.0,2.0,4.0,0.0,0.0,3.0,3.0,0.0,1.0,4.0,0.0,0.0,2.0,0.0,4.0,3.0,0.0,4.0,0.0,6.0,4.0,0.0,0.0,1.0,4.0,1.0,0.0,0.0,0.0,1.0,6.0,6.0,0.0,3.0,0.0,0.0,0.0,1.0,3.0,1.0,1.0,1.0,0.0,0.0,5.0,2.0,0.0,1.0,6.0,6.0,2.0,0.0,0.0,5.0,0.0,0.0,1.0,5.0,0.0,0.0,1.0,0.0,3.0,0.0,4.0,6.0,4.0,3.0,1.0,0.0,3.0,0.0,0.0,1.0,0.0,5.0,4.0,0.0,3.0,0.0,3.0,3.0,4.0,0.0,1.0,1.0,0.0,0.0,6.0,0.0,2.0,0.0,4.0,4.0,6.0,1.0,3.0,2.0,1.0],\"xaxis\":\"x\",\"yaxis\":\"y\",\"type\":\"histogram\"}],                        {\"template\":{\"data\":{\"histogram2dcontour\":[{\"type\":\"histogram2dcontour\",\"colorbar\":{\"outlinewidth\":0,\"ticks\":\"\"},\"colorscale\":[[0.0,\"#0d0887\"],[0.1111111111111111,\"#46039f\"],[0.2222222222222222,\"#7201a8\"],[0.3333333333333333,\"#9c179e\"],[0.4444444444444444,\"#bd3786\"],[0.5555555555555556,\"#d8576b\"],[0.6666666666666666,\"#ed7953\"],[0.7777777777777778,\"#fb9f3a\"],[0.8888888888888888,\"#fdca26\"],[1.0,\"#f0f921\"]]}],\"choropleth\":[{\"type\":\"choropleth\",\"colorbar\":{\"outlinewidth\":0,\"ticks\":\"\"}}],\"histogram2d\":[{\"type\":\"histogram2d\",\"colorbar\":{\"outlinewidth\":0,\"ticks\":\"\"},\"colorscale\":[[0.0,\"#0d0887\"],[0.1111111111111111,\"#46039f\"],[0.2222222222222222,\"#7201a8\"],[0.3333333333333333,\"#9c179e\"],[0.4444444444444444,\"#bd3786\"],[0.5555555555555556,\"#d8576b\"],[0.6666666666666666,\"#ed7953\"],[0.7777777777777778,\"#fb9f3a\"],[0.8888888888888888,\"#fdca26\"],[1.0,\"#f0f921\"]]}],\"heatmap\":[{\"type\":\"heatmap\",\"colorbar\":{\"outlinewidth\":0,\"ticks\":\"\"},\"colorscale\":[[0.0,\"#0d0887\"],[0.1111111111111111,\"#46039f\"],[0.2222222222222222,\"#7201a8\"],[0.3333333333333333,\"#9c179e\"],[0.4444444444444444,\"#bd3786\"],[0.5555555555555556,\"#d8576b\"],[0.6666666666666666,\"#ed7953\"],[0.7777777777777778,\"#fb9f3a\"],[0.8888888888888888,\"#fdca26\"],[1.0,\"#f0f921\"]]}],\"heatmapgl\":[{\"type\":\"heatmapgl\",\"colorbar\":{\"outlinewidth\":0,\"ticks\":\"\"},\"colorscale\":[[0.0,\"#0d0887\"],[0.1111111111111111,\"#46039f\"],[0.2222222222222222,\"#7201a8\"],[0.3333333333333333,\"#9c179e\"],[0.4444444444444444,\"#bd3786\"],[0.5555555555555556,\"#d8576b\"],[0.6666666666666666,\"#ed7953\"],[0.7777777777777778,\"#fb9f3a\"],[0.8888888888888888,\"#fdca26\"],[1.0,\"#f0f921\"]]}],\"contourcarpet\":[{\"type\":\"contourcarpet\",\"colorbar\":{\"outlinewidth\":0,\"ticks\":\"\"}}],\"contour\":[{\"type\":\"contour\",\"colorbar\":{\"outlinewidth\":0,\"ticks\":\"\"},\"colorscale\":[[0.0,\"#0d0887\"],[0.1111111111111111,\"#46039f\"],[0.2222222222222222,\"#7201a8\"],[0.3333333333333333,\"#9c179e\"],[0.4444444444444444,\"#bd3786\"],[0.5555555555555556,\"#d8576b\"],[0.6666666666666666,\"#ed7953\"],[0.7777777777777778,\"#fb9f3a\"],[0.8888888888888888,\"#fdca26\"],[1.0,\"#f0f921\"]]}],\"surface\":[{\"type\":\"surface\",\"colorbar\":{\"outlinewidth\":0,\"ticks\":\"\"},\"colorscale\":[[0.0,\"#0d0887\"],[0.1111111111111111,\"#46039f\"],[0.2222222222222222,\"#7201a8\"],[0.3333333333333333,\"#9c179e\"],[0.4444444444444444,\"#bd3786\"],[0.5555555555555556,\"#d8576b\"],[0.6666666666666666,\"#ed7953\"],[0.7777777777777778,\"#fb9f3a\"],[0.8888888888888888,\"#fdca26\"],[1.0,\"#f0f921\"]]}],\"mesh3d\":[{\"type\":\"mesh3d\",\"colorbar\":{\"outlinewidth\":0,\"ticks\":\"\"}}],\"scatter\":[{\"fillpattern\":{\"fillmode\":\"overlay\",\"size\":10,\"solidity\":0.2},\"type\":\"scatter\"}],\"parcoords\":[{\"type\":\"parcoords\",\"line\":{\"colorbar\":{\"outlinewidth\":0,\"ticks\":\"\"}}}],\"scatterpolargl\":[{\"type\":\"scatterpolargl\",\"marker\":{\"colorbar\":{\"outlinewidth\":0,\"ticks\":\"\"}}}],\"bar\":[{\"error_x\":{\"color\":\"#2a3f5f\"},\"error_y\":{\"color\":\"#2a3f5f\"},\"marker\":{\"line\":{\"color\":\"#E5ECF6\",\"width\":0.5},\"pattern\":{\"fillmode\":\"overlay\",\"size\":10,\"solidity\":0.2}},\"type\":\"bar\"}],\"scattergeo\":[{\"type\":\"scattergeo\",\"marker\":{\"colorbar\":{\"outlinewidth\":0,\"ticks\":\"\"}}}],\"scatterpolar\":[{\"type\":\"scatterpolar\",\"marker\":{\"colorbar\":{\"outlinewidth\":0,\"ticks\":\"\"}}}],\"histogram\":[{\"marker\":{\"pattern\":{\"fillmode\":\"overlay\",\"size\":10,\"solidity\":0.2}},\"type\":\"histogram\"}],\"scattergl\":[{\"type\":\"scattergl\",\"marker\":{\"colorbar\":{\"outlinewidth\":0,\"ticks\":\"\"}}}],\"scatter3d\":[{\"type\":\"scatter3d\",\"line\":{\"colorbar\":{\"outlinewidth\":0,\"ticks\":\"\"}},\"marker\":{\"colorbar\":{\"outlinewidth\":0,\"ticks\":\"\"}}}],\"scattermapbox\":[{\"type\":\"scattermapbox\",\"marker\":{\"colorbar\":{\"outlinewidth\":0,\"ticks\":\"\"}}}],\"scatterternary\":[{\"type\":\"scatterternary\",\"marker\":{\"colorbar\":{\"outlinewidth\":0,\"ticks\":\"\"}}}],\"scattercarpet\":[{\"type\":\"scattercarpet\",\"marker\":{\"colorbar\":{\"outlinewidth\":0,\"ticks\":\"\"}}}],\"carpet\":[{\"aaxis\":{\"endlinecolor\":\"#2a3f5f\",\"gridcolor\":\"white\",\"linecolor\":\"white\",\"minorgridcolor\":\"white\",\"startlinecolor\":\"#2a3f5f\"},\"baxis\":{\"endlinecolor\":\"#2a3f5f\",\"gridcolor\":\"white\",\"linecolor\":\"white\",\"minorgridcolor\":\"white\",\"startlinecolor\":\"#2a3f5f\"},\"type\":\"carpet\"}],\"table\":[{\"cells\":{\"fill\":{\"color\":\"#EBF0F8\"},\"line\":{\"color\":\"white\"}},\"header\":{\"fill\":{\"color\":\"#C8D4E3\"},\"line\":{\"color\":\"white\"}},\"type\":\"table\"}],\"barpolar\":[{\"marker\":{\"line\":{\"color\":\"#E5ECF6\",\"width\":0.5},\"pattern\":{\"fillmode\":\"overlay\",\"size\":10,\"solidity\":0.2}},\"type\":\"barpolar\"}],\"pie\":[{\"automargin\":true,\"type\":\"pie\"}]},\"layout\":{\"autotypenumbers\":\"strict\",\"colorway\":[\"#636efa\",\"#EF553B\",\"#00cc96\",\"#ab63fa\",\"#FFA15A\",\"#19d3f3\",\"#FF6692\",\"#B6E880\",\"#FF97FF\",\"#FECB52\"],\"font\":{\"color\":\"#2a3f5f\"},\"hovermode\":\"closest\",\"hoverlabel\":{\"align\":\"left\"},\"paper_bgcolor\":\"white\",\"plot_bgcolor\":\"#E5ECF6\",\"polar\":{\"bgcolor\":\"#E5ECF6\",\"angularaxis\":{\"gridcolor\":\"white\",\"linecolor\":\"white\",\"ticks\":\"\"},\"radialaxis\":{\"gridcolor\":\"white\",\"linecolor\":\"white\",\"ticks\":\"\"}},\"ternary\":{\"bgcolor\":\"#E5ECF6\",\"aaxis\":{\"gridcolor\":\"white\",\"linecolor\":\"white\",\"ticks\":\"\"},\"baxis\":{\"gridcolor\":\"white\",\"linecolor\":\"white\",\"ticks\":\"\"},\"caxis\":{\"gridcolor\":\"white\",\"linecolor\":\"white\",\"ticks\":\"\"}},\"coloraxis\":{\"colorbar\":{\"outlinewidth\":0,\"ticks\":\"\"}},\"colorscale\":{\"sequential\":[[0.0,\"#0d0887\"],[0.1111111111111111,\"#46039f\"],[0.2222222222222222,\"#7201a8\"],[0.3333333333333333,\"#9c179e\"],[0.4444444444444444,\"#bd3786\"],[0.5555555555555556,\"#d8576b\"],[0.6666666666666666,\"#ed7953\"],[0.7777777777777778,\"#fb9f3a\"],[0.8888888888888888,\"#fdca26\"],[1.0,\"#f0f921\"]],\"sequentialminus\":[[0.0,\"#0d0887\"],[0.1111111111111111,\"#46039f\"],[0.2222222222222222,\"#7201a8\"],[0.3333333333333333,\"#9c179e\"],[0.4444444444444444,\"#bd3786\"],[0.5555555555555556,\"#d8576b\"],[0.6666666666666666,\"#ed7953\"],[0.7777777777777778,\"#fb9f3a\"],[0.8888888888888888,\"#fdca26\"],[1.0,\"#f0f921\"]],\"diverging\":[[0,\"#8e0152\"],[0.1,\"#c51b7d\"],[0.2,\"#de77ae\"],[0.3,\"#f1b6da\"],[0.4,\"#fde0ef\"],[0.5,\"#f7f7f7\"],[0.6,\"#e6f5d0\"],[0.7,\"#b8e186\"],[0.8,\"#7fbc41\"],[0.9,\"#4d9221\"],[1,\"#276419\"]]},\"xaxis\":{\"gridcolor\":\"white\",\"linecolor\":\"white\",\"ticks\":\"\",\"title\":{\"standoff\":15},\"zerolinecolor\":\"white\",\"automargin\":true,\"zerolinewidth\":2},\"yaxis\":{\"gridcolor\":\"white\",\"linecolor\":\"white\",\"ticks\":\"\",\"title\":{\"standoff\":15},\"zerolinecolor\":\"white\",\"automargin\":true,\"zerolinewidth\":2},\"scene\":{\"xaxis\":{\"backgroundcolor\":\"#E5ECF6\",\"gridcolor\":\"white\",\"linecolor\":\"white\",\"showbackground\":true,\"ticks\":\"\",\"zerolinecolor\":\"white\",\"gridwidth\":2},\"yaxis\":{\"backgroundcolor\":\"#E5ECF6\",\"gridcolor\":\"white\",\"linecolor\":\"white\",\"showbackground\":true,\"ticks\":\"\",\"zerolinecolor\":\"white\",\"gridwidth\":2},\"zaxis\":{\"backgroundcolor\":\"#E5ECF6\",\"gridcolor\":\"white\",\"linecolor\":\"white\",\"showbackground\":true,\"ticks\":\"\",\"zerolinecolor\":\"white\",\"gridwidth\":2}},\"shapedefaults\":{\"line\":{\"color\":\"#2a3f5f\"}},\"annotationdefaults\":{\"arrowcolor\":\"#2a3f5f\",\"arrowhead\":0,\"arrowwidth\":1},\"geo\":{\"bgcolor\":\"white\",\"landcolor\":\"#E5ECF6\",\"subunitcolor\":\"white\",\"showland\":true,\"showlakes\":true,\"lakecolor\":\"white\"},\"title\":{\"x\":0.05},\"mapbox\":{\"style\":\"light\"}}},\"xaxis\":{\"anchor\":\"y\",\"domain\":[0.0,1.0],\"title\":{\"text\":\"Class Label\"}},\"yaxis\":{\"anchor\":\"x\",\"domain\":[0.0,1.0],\"title\":{\"text\":\"Frequency\"}},\"legend\":{\"tracegroupgap\":0},\"margin\":{\"t\":60},\"barmode\":\"relative\",\"title\":{\"font\":{\"color\":\"black\",\"size\":20},\"text\":\"Target Distribution\\u003cbr\\u003e\\u003csup\\u003eSource: experiment 3 - train set augmented with CTGANPlus synthetic data set\\u003c\\u002fsup\\u003e\",\"x\":0},\"font\":{\"family\":\"Times New Roman\"},\"plot_bgcolor\":\"rgba(0,0,0,0)\",\"paper_bgcolor\":\"rgba(0,0,0,0)\",\"width\":600,\"height\":500},                        {\"responsive\": true}                    ).then(function(){\n",
              "                            \n",
              "var gd = document.getElementById('0f7b6ea2-137a-43aa-b0bc-47ebb303aebe');\n",
              "var x = new MutationObserver(function (mutations, observer) {{\n",
              "        var display = window.getComputedStyle(gd).display;\n",
              "        if (!display || display === 'none') {{\n",
              "            console.log([gd, 'removed!']);\n",
              "            Plotly.purge(gd);\n",
              "            observer.disconnect();\n",
              "        }}\n",
              "}});\n",
              "\n",
              "// Listen for the removal of the full notebook cells\n",
              "var notebookContainer = gd.closest('#notebook-container');\n",
              "if (notebookContainer) {{\n",
              "    x.observe(notebookContainer, {childList: true});\n",
              "}}\n",
              "\n",
              "// Listen for the clearing of the current output cell\n",
              "var outputEl = gd.closest('.output');\n",
              "if (outputEl) {{\n",
              "    x.observe(outputEl, {childList: true});\n",
              "}}\n",
              "\n",
              "                        })                };                            </script>        </div>\n",
              "</body>\n",
              "</html>"
            ]
          },
          "metadata": {}
        }
      ],
      "source": [
        "ct_target_eda = EDA(data = ct_y_train,\n",
        "                 target=target,\n",
        "                 output_path = _EXP3_EDA_DIR,\n",
        "                 logx = False,\n",
        "                 logy = False)\n",
        "ct_target_eda.plot_hist(file_name='CTGANPlus_trainset_combined',\n",
        "                     subtitle = 'Source: experiment 3 - train set augmented with CTGANPlus synthetic data set',\n",
        "                     maintitle = 'Target ')"
      ]
    },
    {
      "cell_type": "code",
      "execution_count": null,
      "metadata": {
        "id": "szJeKyVXPiyw",
        "colab": {
          "base_uri": "https://localhost:8080/",
          "height": 223
        },
        "outputId": "3b7baee9-3c4b-4647-b511-c7cb83fb0a9f"
      },
      "outputs": [
        {
          "output_type": "stream",
          "name": "stdout",
          "text": [
            "Model Performance\n"
          ]
        },
        {
          "output_type": "display_data",
          "data": {
            "text/plain": [
              "  Model  acc_valid  acc_test  f1_macro_valid  f1_macro_test\n",
              "0    lr      16.99     18.62            0.12           0.17\n",
              "1   xgb      47.11     53.19            0.47           0.55\n",
              "2   svm      16.67     17.05            0.10           0.12\n",
              "3    rf      42.97     46.66            0.43           0.48\n",
              "4   mlp      14.12     14.76            0.09           0.09"
            ],
            "text/html": [
              "\n",
              "  <div id=\"df-c810177b-a482-49a3-a9b9-cd50f07e67e7\" class=\"colab-df-container\">\n",
              "    <div>\n",
              "<style scoped>\n",
              "    .dataframe tbody tr th:only-of-type {\n",
              "        vertical-align: middle;\n",
              "    }\n",
              "\n",
              "    .dataframe tbody tr th {\n",
              "        vertical-align: top;\n",
              "    }\n",
              "\n",
              "    .dataframe thead th {\n",
              "        text-align: right;\n",
              "    }\n",
              "</style>\n",
              "<table border=\"1\" class=\"dataframe\">\n",
              "  <thead>\n",
              "    <tr style=\"text-align: right;\">\n",
              "      <th></th>\n",
              "      <th>Model</th>\n",
              "      <th>acc_valid</th>\n",
              "      <th>acc_test</th>\n",
              "      <th>f1_macro_valid</th>\n",
              "      <th>f1_macro_test</th>\n",
              "    </tr>\n",
              "  </thead>\n",
              "  <tbody>\n",
              "    <tr>\n",
              "      <th>0</th>\n",
              "      <td>lr</td>\n",
              "      <td>16.99</td>\n",
              "      <td>18.62</td>\n",
              "      <td>0.12</td>\n",
              "      <td>0.17</td>\n",
              "    </tr>\n",
              "    <tr>\n",
              "      <th>1</th>\n",
              "      <td>xgb</td>\n",
              "      <td>47.11</td>\n",
              "      <td>53.19</td>\n",
              "      <td>0.47</td>\n",
              "      <td>0.55</td>\n",
              "    </tr>\n",
              "    <tr>\n",
              "      <th>2</th>\n",
              "      <td>svm</td>\n",
              "      <td>16.67</td>\n",
              "      <td>17.05</td>\n",
              "      <td>0.10</td>\n",
              "      <td>0.12</td>\n",
              "    </tr>\n",
              "    <tr>\n",
              "      <th>3</th>\n",
              "      <td>rf</td>\n",
              "      <td>42.97</td>\n",
              "      <td>46.66</td>\n",
              "      <td>0.43</td>\n",
              "      <td>0.48</td>\n",
              "    </tr>\n",
              "    <tr>\n",
              "      <th>4</th>\n",
              "      <td>mlp</td>\n",
              "      <td>14.12</td>\n",
              "      <td>14.76</td>\n",
              "      <td>0.09</td>\n",
              "      <td>0.09</td>\n",
              "    </tr>\n",
              "  </tbody>\n",
              "</table>\n",
              "</div>\n",
              "    <div class=\"colab-df-buttons\">\n",
              "\n",
              "  <div class=\"colab-df-container\">\n",
              "    <button class=\"colab-df-convert\" onclick=\"convertToInteractive('df-c810177b-a482-49a3-a9b9-cd50f07e67e7')\"\n",
              "            title=\"Convert this dataframe to an interactive table.\"\n",
              "            style=\"display:none;\">\n",
              "\n",
              "  <svg xmlns=\"http://www.w3.org/2000/svg\" height=\"24px\" viewBox=\"0 -960 960 960\">\n",
              "    <path d=\"M120-120v-720h720v720H120Zm60-500h600v-160H180v160Zm220 220h160v-160H400v160Zm0 220h160v-160H400v160ZM180-400h160v-160H180v160Zm440 0h160v-160H620v160ZM180-180h160v-160H180v160Zm440 0h160v-160H620v160Z\"/>\n",
              "  </svg>\n",
              "    </button>\n",
              "\n",
              "  <style>\n",
              "    .colab-df-container {\n",
              "      display:flex;\n",
              "      gap: 12px;\n",
              "    }\n",
              "\n",
              "    .colab-df-convert {\n",
              "      background-color: #E8F0FE;\n",
              "      border: none;\n",
              "      border-radius: 50%;\n",
              "      cursor: pointer;\n",
              "      display: none;\n",
              "      fill: #1967D2;\n",
              "      height: 32px;\n",
              "      padding: 0 0 0 0;\n",
              "      width: 32px;\n",
              "    }\n",
              "\n",
              "    .colab-df-convert:hover {\n",
              "      background-color: #E2EBFA;\n",
              "      box-shadow: 0px 1px 2px rgba(60, 64, 67, 0.3), 0px 1px 3px 1px rgba(60, 64, 67, 0.15);\n",
              "      fill: #174EA6;\n",
              "    }\n",
              "\n",
              "    .colab-df-buttons div {\n",
              "      margin-bottom: 4px;\n",
              "    }\n",
              "\n",
              "    [theme=dark] .colab-df-convert {\n",
              "      background-color: #3B4455;\n",
              "      fill: #D2E3FC;\n",
              "    }\n",
              "\n",
              "    [theme=dark] .colab-df-convert:hover {\n",
              "      background-color: #434B5C;\n",
              "      box-shadow: 0px 1px 3px 1px rgba(0, 0, 0, 0.15);\n",
              "      filter: drop-shadow(0px 1px 2px rgba(0, 0, 0, 0.3));\n",
              "      fill: #FFFFFF;\n",
              "    }\n",
              "  </style>\n",
              "\n",
              "    <script>\n",
              "      const buttonEl =\n",
              "        document.querySelector('#df-c810177b-a482-49a3-a9b9-cd50f07e67e7 button.colab-df-convert');\n",
              "      buttonEl.style.display =\n",
              "        google.colab.kernel.accessAllowed ? 'block' : 'none';\n",
              "\n",
              "      async function convertToInteractive(key) {\n",
              "        const element = document.querySelector('#df-c810177b-a482-49a3-a9b9-cd50f07e67e7');\n",
              "        const dataTable =\n",
              "          await google.colab.kernel.invokeFunction('convertToInteractive',\n",
              "                                                    [key], {});\n",
              "        if (!dataTable) return;\n",
              "\n",
              "        const docLinkHtml = 'Like what you see? Visit the ' +\n",
              "          '<a target=\"_blank\" href=https://colab.research.google.com/notebooks/data_table.ipynb>data table notebook</a>'\n",
              "          + ' to learn more about interactive tables.';\n",
              "        element.innerHTML = '';\n",
              "        dataTable['output_type'] = 'display_data';\n",
              "        await google.colab.output.renderOutput(dataTable, element);\n",
              "        const docLink = document.createElement('div');\n",
              "        docLink.innerHTML = docLinkHtml;\n",
              "        element.appendChild(docLink);\n",
              "      }\n",
              "    </script>\n",
              "  </div>\n",
              "\n",
              "\n",
              "<div id=\"df-6b7f95a7-1153-496c-b4e2-3a519d2c2caa\">\n",
              "  <button class=\"colab-df-quickchart\" onclick=\"quickchart('df-6b7f95a7-1153-496c-b4e2-3a519d2c2caa')\"\n",
              "            title=\"Suggest charts\"\n",
              "            style=\"display:none;\">\n",
              "\n",
              "<svg xmlns=\"http://www.w3.org/2000/svg\" height=\"24px\"viewBox=\"0 0 24 24\"\n",
              "     width=\"24px\">\n",
              "    <g>\n",
              "        <path d=\"M19 3H5c-1.1 0-2 .9-2 2v14c0 1.1.9 2 2 2h14c1.1 0 2-.9 2-2V5c0-1.1-.9-2-2-2zM9 17H7v-7h2v7zm4 0h-2V7h2v10zm4 0h-2v-4h2v4z\"/>\n",
              "    </g>\n",
              "</svg>\n",
              "  </button>\n",
              "\n",
              "<style>\n",
              "  .colab-df-quickchart {\n",
              "      --bg-color: #E8F0FE;\n",
              "      --fill-color: #1967D2;\n",
              "      --hover-bg-color: #E2EBFA;\n",
              "      --hover-fill-color: #174EA6;\n",
              "      --disabled-fill-color: #AAA;\n",
              "      --disabled-bg-color: #DDD;\n",
              "  }\n",
              "\n",
              "  [theme=dark] .colab-df-quickchart {\n",
              "      --bg-color: #3B4455;\n",
              "      --fill-color: #D2E3FC;\n",
              "      --hover-bg-color: #434B5C;\n",
              "      --hover-fill-color: #FFFFFF;\n",
              "      --disabled-bg-color: #3B4455;\n",
              "      --disabled-fill-color: #666;\n",
              "  }\n",
              "\n",
              "  .colab-df-quickchart {\n",
              "    background-color: var(--bg-color);\n",
              "    border: none;\n",
              "    border-radius: 50%;\n",
              "    cursor: pointer;\n",
              "    display: none;\n",
              "    fill: var(--fill-color);\n",
              "    height: 32px;\n",
              "    padding: 0;\n",
              "    width: 32px;\n",
              "  }\n",
              "\n",
              "  .colab-df-quickchart:hover {\n",
              "    background-color: var(--hover-bg-color);\n",
              "    box-shadow: 0 1px 2px rgba(60, 64, 67, 0.3), 0 1px 3px 1px rgba(60, 64, 67, 0.15);\n",
              "    fill: var(--button-hover-fill-color);\n",
              "  }\n",
              "\n",
              "  .colab-df-quickchart-complete:disabled,\n",
              "  .colab-df-quickchart-complete:disabled:hover {\n",
              "    background-color: var(--disabled-bg-color);\n",
              "    fill: var(--disabled-fill-color);\n",
              "    box-shadow: none;\n",
              "  }\n",
              "\n",
              "  .colab-df-spinner {\n",
              "    border: 2px solid var(--fill-color);\n",
              "    border-color: transparent;\n",
              "    border-bottom-color: var(--fill-color);\n",
              "    animation:\n",
              "      spin 1s steps(1) infinite;\n",
              "  }\n",
              "\n",
              "  @keyframes spin {\n",
              "    0% {\n",
              "      border-color: transparent;\n",
              "      border-bottom-color: var(--fill-color);\n",
              "      border-left-color: var(--fill-color);\n",
              "    }\n",
              "    20% {\n",
              "      border-color: transparent;\n",
              "      border-left-color: var(--fill-color);\n",
              "      border-top-color: var(--fill-color);\n",
              "    }\n",
              "    30% {\n",
              "      border-color: transparent;\n",
              "      border-left-color: var(--fill-color);\n",
              "      border-top-color: var(--fill-color);\n",
              "      border-right-color: var(--fill-color);\n",
              "    }\n",
              "    40% {\n",
              "      border-color: transparent;\n",
              "      border-right-color: var(--fill-color);\n",
              "      border-top-color: var(--fill-color);\n",
              "    }\n",
              "    60% {\n",
              "      border-color: transparent;\n",
              "      border-right-color: var(--fill-color);\n",
              "    }\n",
              "    80% {\n",
              "      border-color: transparent;\n",
              "      border-right-color: var(--fill-color);\n",
              "      border-bottom-color: var(--fill-color);\n",
              "    }\n",
              "    90% {\n",
              "      border-color: transparent;\n",
              "      border-bottom-color: var(--fill-color);\n",
              "    }\n",
              "  }\n",
              "</style>\n",
              "\n",
              "  <script>\n",
              "    async function quickchart(key) {\n",
              "      const quickchartButtonEl =\n",
              "        document.querySelector('#' + key + ' button');\n",
              "      quickchartButtonEl.disabled = true;  // To prevent multiple clicks.\n",
              "      quickchartButtonEl.classList.add('colab-df-spinner');\n",
              "      try {\n",
              "        const charts = await google.colab.kernel.invokeFunction(\n",
              "            'suggestCharts', [key], {});\n",
              "      } catch (error) {\n",
              "        console.error('Error during call to suggestCharts:', error);\n",
              "      }\n",
              "      quickchartButtonEl.classList.remove('colab-df-spinner');\n",
              "      quickchartButtonEl.classList.add('colab-df-quickchart-complete');\n",
              "    }\n",
              "    (() => {\n",
              "      let quickchartButtonEl =\n",
              "        document.querySelector('#df-6b7f95a7-1153-496c-b4e2-3a519d2c2caa button');\n",
              "      quickchartButtonEl.style.display =\n",
              "        google.colab.kernel.accessAllowed ? 'block' : 'none';\n",
              "    })();\n",
              "  </script>\n",
              "</div>\n",
              "    </div>\n",
              "  </div>\n"
            ]
          },
          "metadata": {}
        }
      ],
      "source": [
        "model_lst = ['lr','xgb','svm','rf','mlp']\n",
        "problem = 'multiclass'\n",
        "used_feas = keep_feas\n",
        "report_dir = _GEN_CTGANPLUS_RESULT_DIR\n",
        "\n",
        "ct_supervised_result_keep_feas = RunSupervised(model_lst,problem,ct_X_train,ct_y_train,X_valid,y_valid,X_test,y_test,used_feas,report_dir,algorithm='supervised')"
      ]
    },
    {
      "cell_type": "code",
      "execution_count": null,
      "metadata": {
        "id": "LtitPcfKYQlQ",
        "colab": {
          "base_uri": "https://localhost:8080/",
          "height": 1000
        },
        "outputId": "63fe180d-cad9-49e6-a7f7-10de3a370fc0"
      },
      "outputs": [
        {
          "output_type": "stream",
          "name": "stdout",
          "text": [
            "lr\n",
            "Best hyperparameters for lr: {'C': 0.02612927831406337}\n",
            "Best objective value for lr: 0.16\n"
          ]
        },
        {
          "output_type": "display_data",
          "data": {
            "text/html": [
              "<html>\n",
              "<head><meta charset=\"utf-8\" /></head>\n",
              "<body>\n",
              "    <div>            <script src=\"https://cdnjs.cloudflare.com/ajax/libs/mathjax/2.7.5/MathJax.js?config=TeX-AMS-MML_SVG\"></script><script type=\"text/javascript\">if (window.MathJax && window.MathJax.Hub && window.MathJax.Hub.Config) {window.MathJax.Hub.Config({SVG: {font: \"STIX-Web\"}});}</script>                <script type=\"text/javascript\">window.PlotlyConfig = {MathJaxConfig: 'local'};</script>\n",
              "        <script charset=\"utf-8\" src=\"https://cdn.plot.ly/plotly-2.24.1.min.js\"></script>                <div id=\"4513d9c6-8966-4bdb-b649-0d1e39816c26\" class=\"plotly-graph-div\" style=\"height:500px; width:600px;\"></div>            <script type=\"text/javascript\">                                    window.PLOTLYENV=window.PLOTLYENV || {};                                    if (document.getElementById(\"4513d9c6-8966-4bdb-b649-0d1e39816c26\")) {                    Plotly.newPlot(                        \"4513d9c6-8966-4bdb-b649-0d1e39816c26\",                        [{\"mode\":\"markers\",\"name\":\"Objective Value\",\"x\":[0,1,2,3,4,5,6,7,8,9,10,11,12,13,14,15,16,17,18,19,20,21,22,23,24,25,26,27,28,29,30,31,32,33,34,35,36,37,38,39,40,41,42,43,44,45,46,47,48,49],\"y\":[0.15,0.16,0.13,0.12,0.12,0.12,0.13,0.13,0.13,0.12,0.13,0.13,0.14,0.12,0.13,0.12,0.12,0.12,0.13,0.12,0.14,0.12,0.13,0.13,0.15,0.14,0.13,0.14,0.13,0.13,0.13,0.13,0.14,0.12,0.14,0.13,0.12,0.13,0.12,0.12,0.13,0.13,0.12,0.12,0.12,0.12,0.13,0.12,0.15,0.13],\"type\":\"scatter\",\"marker\":{\"color\":\"black\"}},{\"mode\":\"lines\",\"name\":\"Best Value\",\"x\":[0,1,2,3,4,5,6,7,8,9,10,11,12,13,14,15,16,17,18,19,20,21,22,23,24,25,26,27,28,29,30,31,32,33,34,35,36,37,38,39,40,41,42,43,44,45,46,47,48,49],\"y\":[0.15,0.16,0.16,0.16,0.16,0.16,0.16,0.16,0.16,0.16,0.16,0.16,0.16,0.16,0.16,0.16,0.16,0.16,0.16,0.16,0.16,0.16,0.16,0.16,0.16,0.16,0.16,0.16,0.16,0.16,0.16,0.16,0.16,0.16,0.16,0.16,0.16,0.16,0.16,0.16,0.16,0.16,0.16,0.16,0.16,0.16,0.16,0.16,0.16,0.16],\"type\":\"scatter\",\"marker\":{\"color\":\"black\"}},{\"marker\":{\"color\":\"black\"},\"mode\":\"markers\",\"name\":\"Infeasible Trial\",\"showlegend\":false,\"x\":[],\"y\":[],\"type\":\"scatter\"}],                        {\"title\":{\"text\":\"Optimization History\\u003cbr\\u003e\\u003csup\\u003elr\\u003c\\u002fsup\\u003e\",\"font\":{\"color\":\"black\",\"size\":20},\"x\":0},\"xaxis\":{\"title\":{\"text\":\"Trial\"}},\"yaxis\":{\"title\":{\"text\":\"Objective Value\"}},\"template\":{\"data\":{\"histogram2dcontour\":[{\"type\":\"histogram2dcontour\",\"colorbar\":{\"outlinewidth\":0,\"ticks\":\"\"},\"colorscale\":[[0.0,\"#0d0887\"],[0.1111111111111111,\"#46039f\"],[0.2222222222222222,\"#7201a8\"],[0.3333333333333333,\"#9c179e\"],[0.4444444444444444,\"#bd3786\"],[0.5555555555555556,\"#d8576b\"],[0.6666666666666666,\"#ed7953\"],[0.7777777777777778,\"#fb9f3a\"],[0.8888888888888888,\"#fdca26\"],[1.0,\"#f0f921\"]]}],\"choropleth\":[{\"type\":\"choropleth\",\"colorbar\":{\"outlinewidth\":0,\"ticks\":\"\"}}],\"histogram2d\":[{\"type\":\"histogram2d\",\"colorbar\":{\"outlinewidth\":0,\"ticks\":\"\"},\"colorscale\":[[0.0,\"#0d0887\"],[0.1111111111111111,\"#46039f\"],[0.2222222222222222,\"#7201a8\"],[0.3333333333333333,\"#9c179e\"],[0.4444444444444444,\"#bd3786\"],[0.5555555555555556,\"#d8576b\"],[0.6666666666666666,\"#ed7953\"],[0.7777777777777778,\"#fb9f3a\"],[0.8888888888888888,\"#fdca26\"],[1.0,\"#f0f921\"]]}],\"heatmap\":[{\"type\":\"heatmap\",\"colorbar\":{\"outlinewidth\":0,\"ticks\":\"\"},\"colorscale\":[[0.0,\"#0d0887\"],[0.1111111111111111,\"#46039f\"],[0.2222222222222222,\"#7201a8\"],[0.3333333333333333,\"#9c179e\"],[0.4444444444444444,\"#bd3786\"],[0.5555555555555556,\"#d8576b\"],[0.6666666666666666,\"#ed7953\"],[0.7777777777777778,\"#fb9f3a\"],[0.8888888888888888,\"#fdca26\"],[1.0,\"#f0f921\"]]}],\"heatmapgl\":[{\"type\":\"heatmapgl\",\"colorbar\":{\"outlinewidth\":0,\"ticks\":\"\"},\"colorscale\":[[0.0,\"#0d0887\"],[0.1111111111111111,\"#46039f\"],[0.2222222222222222,\"#7201a8\"],[0.3333333333333333,\"#9c179e\"],[0.4444444444444444,\"#bd3786\"],[0.5555555555555556,\"#d8576b\"],[0.6666666666666666,\"#ed7953\"],[0.7777777777777778,\"#fb9f3a\"],[0.8888888888888888,\"#fdca26\"],[1.0,\"#f0f921\"]]}],\"contourcarpet\":[{\"type\":\"contourcarpet\",\"colorbar\":{\"outlinewidth\":0,\"ticks\":\"\"}}],\"contour\":[{\"type\":\"contour\",\"colorbar\":{\"outlinewidth\":0,\"ticks\":\"\"},\"colorscale\":[[0.0,\"#0d0887\"],[0.1111111111111111,\"#46039f\"],[0.2222222222222222,\"#7201a8\"],[0.3333333333333333,\"#9c179e\"],[0.4444444444444444,\"#bd3786\"],[0.5555555555555556,\"#d8576b\"],[0.6666666666666666,\"#ed7953\"],[0.7777777777777778,\"#fb9f3a\"],[0.8888888888888888,\"#fdca26\"],[1.0,\"#f0f921\"]]}],\"surface\":[{\"type\":\"surface\",\"colorbar\":{\"outlinewidth\":0,\"ticks\":\"\"},\"colorscale\":[[0.0,\"#0d0887\"],[0.1111111111111111,\"#46039f\"],[0.2222222222222222,\"#7201a8\"],[0.3333333333333333,\"#9c179e\"],[0.4444444444444444,\"#bd3786\"],[0.5555555555555556,\"#d8576b\"],[0.6666666666666666,\"#ed7953\"],[0.7777777777777778,\"#fb9f3a\"],[0.8888888888888888,\"#fdca26\"],[1.0,\"#f0f921\"]]}],\"mesh3d\":[{\"type\":\"mesh3d\",\"colorbar\":{\"outlinewidth\":0,\"ticks\":\"\"}}],\"scatter\":[{\"fillpattern\":{\"fillmode\":\"overlay\",\"size\":10,\"solidity\":0.2},\"type\":\"scatter\"}],\"parcoords\":[{\"type\":\"parcoords\",\"line\":{\"colorbar\":{\"outlinewidth\":0,\"ticks\":\"\"}}}],\"scatterpolargl\":[{\"type\":\"scatterpolargl\",\"marker\":{\"colorbar\":{\"outlinewidth\":0,\"ticks\":\"\"}}}],\"bar\":[{\"error_x\":{\"color\":\"#2a3f5f\"},\"error_y\":{\"color\":\"#2a3f5f\"},\"marker\":{\"line\":{\"color\":\"#E5ECF6\",\"width\":0.5},\"pattern\":{\"fillmode\":\"overlay\",\"size\":10,\"solidity\":0.2}},\"type\":\"bar\"}],\"scattergeo\":[{\"type\":\"scattergeo\",\"marker\":{\"colorbar\":{\"outlinewidth\":0,\"ticks\":\"\"}}}],\"scatterpolar\":[{\"type\":\"scatterpolar\",\"marker\":{\"colorbar\":{\"outlinewidth\":0,\"ticks\":\"\"}}}],\"histogram\":[{\"marker\":{\"pattern\":{\"fillmode\":\"overlay\",\"size\":10,\"solidity\":0.2}},\"type\":\"histogram\"}],\"scattergl\":[{\"type\":\"scattergl\",\"marker\":{\"colorbar\":{\"outlinewidth\":0,\"ticks\":\"\"}}}],\"scatter3d\":[{\"type\":\"scatter3d\",\"line\":{\"colorbar\":{\"outlinewidth\":0,\"ticks\":\"\"}},\"marker\":{\"colorbar\":{\"outlinewidth\":0,\"ticks\":\"\"}}}],\"scattermapbox\":[{\"type\":\"scattermapbox\",\"marker\":{\"colorbar\":{\"outlinewidth\":0,\"ticks\":\"\"}}}],\"scatterternary\":[{\"type\":\"scatterternary\",\"marker\":{\"colorbar\":{\"outlinewidth\":0,\"ticks\":\"\"}}}],\"scattercarpet\":[{\"type\":\"scattercarpet\",\"marker\":{\"colorbar\":{\"outlinewidth\":0,\"ticks\":\"\"}}}],\"carpet\":[{\"aaxis\":{\"endlinecolor\":\"#2a3f5f\",\"gridcolor\":\"white\",\"linecolor\":\"white\",\"minorgridcolor\":\"white\",\"startlinecolor\":\"#2a3f5f\"},\"baxis\":{\"endlinecolor\":\"#2a3f5f\",\"gridcolor\":\"white\",\"linecolor\":\"white\",\"minorgridcolor\":\"white\",\"startlinecolor\":\"#2a3f5f\"},\"type\":\"carpet\"}],\"table\":[{\"cells\":{\"fill\":{\"color\":\"#EBF0F8\"},\"line\":{\"color\":\"white\"}},\"header\":{\"fill\":{\"color\":\"#C8D4E3\"},\"line\":{\"color\":\"white\"}},\"type\":\"table\"}],\"barpolar\":[{\"marker\":{\"line\":{\"color\":\"#E5ECF6\",\"width\":0.5},\"pattern\":{\"fillmode\":\"overlay\",\"size\":10,\"solidity\":0.2}},\"type\":\"barpolar\"}],\"pie\":[{\"automargin\":true,\"type\":\"pie\"}]},\"layout\":{\"autotypenumbers\":\"strict\",\"colorway\":[\"#636efa\",\"#EF553B\",\"#00cc96\",\"#ab63fa\",\"#FFA15A\",\"#19d3f3\",\"#FF6692\",\"#B6E880\",\"#FF97FF\",\"#FECB52\"],\"font\":{\"color\":\"#2a3f5f\"},\"hovermode\":\"closest\",\"hoverlabel\":{\"align\":\"left\"},\"paper_bgcolor\":\"white\",\"plot_bgcolor\":\"#E5ECF6\",\"polar\":{\"bgcolor\":\"#E5ECF6\",\"angularaxis\":{\"gridcolor\":\"white\",\"linecolor\":\"white\",\"ticks\":\"\"},\"radialaxis\":{\"gridcolor\":\"white\",\"linecolor\":\"white\",\"ticks\":\"\"}},\"ternary\":{\"bgcolor\":\"#E5ECF6\",\"aaxis\":{\"gridcolor\":\"white\",\"linecolor\":\"white\",\"ticks\":\"\"},\"baxis\":{\"gridcolor\":\"white\",\"linecolor\":\"white\",\"ticks\":\"\"},\"caxis\":{\"gridcolor\":\"white\",\"linecolor\":\"white\",\"ticks\":\"\"}},\"coloraxis\":{\"colorbar\":{\"outlinewidth\":0,\"ticks\":\"\"}},\"colorscale\":{\"sequential\":[[0.0,\"#0d0887\"],[0.1111111111111111,\"#46039f\"],[0.2222222222222222,\"#7201a8\"],[0.3333333333333333,\"#9c179e\"],[0.4444444444444444,\"#bd3786\"],[0.5555555555555556,\"#d8576b\"],[0.6666666666666666,\"#ed7953\"],[0.7777777777777778,\"#fb9f3a\"],[0.8888888888888888,\"#fdca26\"],[1.0,\"#f0f921\"]],\"sequentialminus\":[[0.0,\"#0d0887\"],[0.1111111111111111,\"#46039f\"],[0.2222222222222222,\"#7201a8\"],[0.3333333333333333,\"#9c179e\"],[0.4444444444444444,\"#bd3786\"],[0.5555555555555556,\"#d8576b\"],[0.6666666666666666,\"#ed7953\"],[0.7777777777777778,\"#fb9f3a\"],[0.8888888888888888,\"#fdca26\"],[1.0,\"#f0f921\"]],\"diverging\":[[0,\"#8e0152\"],[0.1,\"#c51b7d\"],[0.2,\"#de77ae\"],[0.3,\"#f1b6da\"],[0.4,\"#fde0ef\"],[0.5,\"#f7f7f7\"],[0.6,\"#e6f5d0\"],[0.7,\"#b8e186\"],[0.8,\"#7fbc41\"],[0.9,\"#4d9221\"],[1,\"#276419\"]]},\"xaxis\":{\"gridcolor\":\"white\",\"linecolor\":\"white\",\"ticks\":\"\",\"title\":{\"standoff\":15},\"zerolinecolor\":\"white\",\"automargin\":true,\"zerolinewidth\":2},\"yaxis\":{\"gridcolor\":\"white\",\"linecolor\":\"white\",\"ticks\":\"\",\"title\":{\"standoff\":15},\"zerolinecolor\":\"white\",\"automargin\":true,\"zerolinewidth\":2},\"scene\":{\"xaxis\":{\"backgroundcolor\":\"#E5ECF6\",\"gridcolor\":\"white\",\"linecolor\":\"white\",\"showbackground\":true,\"ticks\":\"\",\"zerolinecolor\":\"white\",\"gridwidth\":2},\"yaxis\":{\"backgroundcolor\":\"#E5ECF6\",\"gridcolor\":\"white\",\"linecolor\":\"white\",\"showbackground\":true,\"ticks\":\"\",\"zerolinecolor\":\"white\",\"gridwidth\":2},\"zaxis\":{\"backgroundcolor\":\"#E5ECF6\",\"gridcolor\":\"white\",\"linecolor\":\"white\",\"showbackground\":true,\"ticks\":\"\",\"zerolinecolor\":\"white\",\"gridwidth\":2}},\"shapedefaults\":{\"line\":{\"color\":\"#2a3f5f\"}},\"annotationdefaults\":{\"arrowcolor\":\"#2a3f5f\",\"arrowhead\":0,\"arrowwidth\":1},\"geo\":{\"bgcolor\":\"white\",\"landcolor\":\"#E5ECF6\",\"subunitcolor\":\"white\",\"showland\":true,\"showlakes\":true,\"lakecolor\":\"white\"},\"title\":{\"x\":0.05},\"mapbox\":{\"style\":\"light\"}}},\"font\":{\"family\":\"Times New Roman\"},\"plot_bgcolor\":\"rgba(0,0,0,0)\",\"paper_bgcolor\":\"rgba(0,0,0,0)\",\"width\":600,\"height\":500},                        {\"responsive\": true}                    ).then(function(){\n",
              "                            \n",
              "var gd = document.getElementById('4513d9c6-8966-4bdb-b649-0d1e39816c26');\n",
              "var x = new MutationObserver(function (mutations, observer) {{\n",
              "        var display = window.getComputedStyle(gd).display;\n",
              "        if (!display || display === 'none') {{\n",
              "            console.log([gd, 'removed!']);\n",
              "            Plotly.purge(gd);\n",
              "            observer.disconnect();\n",
              "        }}\n",
              "}});\n",
              "\n",
              "// Listen for the removal of the full notebook cells\n",
              "var notebookContainer = gd.closest('#notebook-container');\n",
              "if (notebookContainer) {{\n",
              "    x.observe(notebookContainer, {childList: true});\n",
              "}}\n",
              "\n",
              "// Listen for the clearing of the current output cell\n",
              "var outputEl = gd.closest('.output');\n",
              "if (outputEl) {{\n",
              "    x.observe(outputEl, {childList: true});\n",
              "}}\n",
              "\n",
              "                        })                };                            </script>        </div>\n",
              "</body>\n",
              "</html>"
            ]
          },
          "metadata": {}
        },
        {
          "output_type": "display_data",
          "data": {
            "text/html": [
              "<html>\n",
              "<head><meta charset=\"utf-8\" /></head>\n",
              "<body>\n",
              "    <div>            <script src=\"https://cdnjs.cloudflare.com/ajax/libs/mathjax/2.7.5/MathJax.js?config=TeX-AMS-MML_SVG\"></script><script type=\"text/javascript\">if (window.MathJax && window.MathJax.Hub && window.MathJax.Hub.Config) {window.MathJax.Hub.Config({SVG: {font: \"STIX-Web\"}});}</script>                <script type=\"text/javascript\">window.PlotlyConfig = {MathJaxConfig: 'local'};</script>\n",
              "        <script charset=\"utf-8\" src=\"https://cdn.plot.ly/plotly-2.24.1.min.js\"></script>                <div id=\"efc39c66-52dc-478f-b2c4-9b7ff92e93e8\" class=\"plotly-graph-div\" style=\"height:500px; width:600px;\"></div>            <script type=\"text/javascript\">                                    window.PLOTLYENV=window.PLOTLYENV || {};                                    if (document.getElementById(\"efc39c66-52dc-478f-b2c4-9b7ff92e93e8\")) {                    Plotly.newPlot(                        \"efc39c66-52dc-478f-b2c4-9b7ff92e93e8\",                        [{\"cliponaxis\":false,\"hovertemplate\":[\"C (FloatDistribution): 1.0\\u003cextra\\u003e\\u003c\\u002fextra\\u003e\"],\"name\":\"Objective Value\",\"orientation\":\"h\",\"text\":[\"1.00\"],\"textposition\":\"outside\",\"x\":[1.0],\"y\":[\"C\"],\"type\":\"bar\",\"marker\":{\"color\":\"black\"}}],                        {\"title\":{\"text\":\"Hyperparameters Importance\\u003cbr\\u003e\\u003csup\\u003elr\\u003c\\u002fsup\\u003e\",\"font\":{\"color\":\"black\",\"size\":20},\"x\":0},\"xaxis\":{\"title\":{\"text\":\"Hyperparameter Importance\"}},\"yaxis\":{\"title\":{\"text\":\"Hyperparameter\"}},\"template\":{\"data\":{\"histogram2dcontour\":[{\"type\":\"histogram2dcontour\",\"colorbar\":{\"outlinewidth\":0,\"ticks\":\"\"},\"colorscale\":[[0.0,\"#0d0887\"],[0.1111111111111111,\"#46039f\"],[0.2222222222222222,\"#7201a8\"],[0.3333333333333333,\"#9c179e\"],[0.4444444444444444,\"#bd3786\"],[0.5555555555555556,\"#d8576b\"],[0.6666666666666666,\"#ed7953\"],[0.7777777777777778,\"#fb9f3a\"],[0.8888888888888888,\"#fdca26\"],[1.0,\"#f0f921\"]]}],\"choropleth\":[{\"type\":\"choropleth\",\"colorbar\":{\"outlinewidth\":0,\"ticks\":\"\"}}],\"histogram2d\":[{\"type\":\"histogram2d\",\"colorbar\":{\"outlinewidth\":0,\"ticks\":\"\"},\"colorscale\":[[0.0,\"#0d0887\"],[0.1111111111111111,\"#46039f\"],[0.2222222222222222,\"#7201a8\"],[0.3333333333333333,\"#9c179e\"],[0.4444444444444444,\"#bd3786\"],[0.5555555555555556,\"#d8576b\"],[0.6666666666666666,\"#ed7953\"],[0.7777777777777778,\"#fb9f3a\"],[0.8888888888888888,\"#fdca26\"],[1.0,\"#f0f921\"]]}],\"heatmap\":[{\"type\":\"heatmap\",\"colorbar\":{\"outlinewidth\":0,\"ticks\":\"\"},\"colorscale\":[[0.0,\"#0d0887\"],[0.1111111111111111,\"#46039f\"],[0.2222222222222222,\"#7201a8\"],[0.3333333333333333,\"#9c179e\"],[0.4444444444444444,\"#bd3786\"],[0.5555555555555556,\"#d8576b\"],[0.6666666666666666,\"#ed7953\"],[0.7777777777777778,\"#fb9f3a\"],[0.8888888888888888,\"#fdca26\"],[1.0,\"#f0f921\"]]}],\"heatmapgl\":[{\"type\":\"heatmapgl\",\"colorbar\":{\"outlinewidth\":0,\"ticks\":\"\"},\"colorscale\":[[0.0,\"#0d0887\"],[0.1111111111111111,\"#46039f\"],[0.2222222222222222,\"#7201a8\"],[0.3333333333333333,\"#9c179e\"],[0.4444444444444444,\"#bd3786\"],[0.5555555555555556,\"#d8576b\"],[0.6666666666666666,\"#ed7953\"],[0.7777777777777778,\"#fb9f3a\"],[0.8888888888888888,\"#fdca26\"],[1.0,\"#f0f921\"]]}],\"contourcarpet\":[{\"type\":\"contourcarpet\",\"colorbar\":{\"outlinewidth\":0,\"ticks\":\"\"}}],\"contour\":[{\"type\":\"contour\",\"colorbar\":{\"outlinewidth\":0,\"ticks\":\"\"},\"colorscale\":[[0.0,\"#0d0887\"],[0.1111111111111111,\"#46039f\"],[0.2222222222222222,\"#7201a8\"],[0.3333333333333333,\"#9c179e\"],[0.4444444444444444,\"#bd3786\"],[0.5555555555555556,\"#d8576b\"],[0.6666666666666666,\"#ed7953\"],[0.7777777777777778,\"#fb9f3a\"],[0.8888888888888888,\"#fdca26\"],[1.0,\"#f0f921\"]]}],\"surface\":[{\"type\":\"surface\",\"colorbar\":{\"outlinewidth\":0,\"ticks\":\"\"},\"colorscale\":[[0.0,\"#0d0887\"],[0.1111111111111111,\"#46039f\"],[0.2222222222222222,\"#7201a8\"],[0.3333333333333333,\"#9c179e\"],[0.4444444444444444,\"#bd3786\"],[0.5555555555555556,\"#d8576b\"],[0.6666666666666666,\"#ed7953\"],[0.7777777777777778,\"#fb9f3a\"],[0.8888888888888888,\"#fdca26\"],[1.0,\"#f0f921\"]]}],\"mesh3d\":[{\"type\":\"mesh3d\",\"colorbar\":{\"outlinewidth\":0,\"ticks\":\"\"}}],\"scatter\":[{\"fillpattern\":{\"fillmode\":\"overlay\",\"size\":10,\"solidity\":0.2},\"type\":\"scatter\"}],\"parcoords\":[{\"type\":\"parcoords\",\"line\":{\"colorbar\":{\"outlinewidth\":0,\"ticks\":\"\"}}}],\"scatterpolargl\":[{\"type\":\"scatterpolargl\",\"marker\":{\"colorbar\":{\"outlinewidth\":0,\"ticks\":\"\"}}}],\"bar\":[{\"error_x\":{\"color\":\"#2a3f5f\"},\"error_y\":{\"color\":\"#2a3f5f\"},\"marker\":{\"line\":{\"color\":\"#E5ECF6\",\"width\":0.5},\"pattern\":{\"fillmode\":\"overlay\",\"size\":10,\"solidity\":0.2}},\"type\":\"bar\"}],\"scattergeo\":[{\"type\":\"scattergeo\",\"marker\":{\"colorbar\":{\"outlinewidth\":0,\"ticks\":\"\"}}}],\"scatterpolar\":[{\"type\":\"scatterpolar\",\"marker\":{\"colorbar\":{\"outlinewidth\":0,\"ticks\":\"\"}}}],\"histogram\":[{\"marker\":{\"pattern\":{\"fillmode\":\"overlay\",\"size\":10,\"solidity\":0.2}},\"type\":\"histogram\"}],\"scattergl\":[{\"type\":\"scattergl\",\"marker\":{\"colorbar\":{\"outlinewidth\":0,\"ticks\":\"\"}}}],\"scatter3d\":[{\"type\":\"scatter3d\",\"line\":{\"colorbar\":{\"outlinewidth\":0,\"ticks\":\"\"}},\"marker\":{\"colorbar\":{\"outlinewidth\":0,\"ticks\":\"\"}}}],\"scattermapbox\":[{\"type\":\"scattermapbox\",\"marker\":{\"colorbar\":{\"outlinewidth\":0,\"ticks\":\"\"}}}],\"scatterternary\":[{\"type\":\"scatterternary\",\"marker\":{\"colorbar\":{\"outlinewidth\":0,\"ticks\":\"\"}}}],\"scattercarpet\":[{\"type\":\"scattercarpet\",\"marker\":{\"colorbar\":{\"outlinewidth\":0,\"ticks\":\"\"}}}],\"carpet\":[{\"aaxis\":{\"endlinecolor\":\"#2a3f5f\",\"gridcolor\":\"white\",\"linecolor\":\"white\",\"minorgridcolor\":\"white\",\"startlinecolor\":\"#2a3f5f\"},\"baxis\":{\"endlinecolor\":\"#2a3f5f\",\"gridcolor\":\"white\",\"linecolor\":\"white\",\"minorgridcolor\":\"white\",\"startlinecolor\":\"#2a3f5f\"},\"type\":\"carpet\"}],\"table\":[{\"cells\":{\"fill\":{\"color\":\"#EBF0F8\"},\"line\":{\"color\":\"white\"}},\"header\":{\"fill\":{\"color\":\"#C8D4E3\"},\"line\":{\"color\":\"white\"}},\"type\":\"table\"}],\"barpolar\":[{\"marker\":{\"line\":{\"color\":\"#E5ECF6\",\"width\":0.5},\"pattern\":{\"fillmode\":\"overlay\",\"size\":10,\"solidity\":0.2}},\"type\":\"barpolar\"}],\"pie\":[{\"automargin\":true,\"type\":\"pie\"}]},\"layout\":{\"autotypenumbers\":\"strict\",\"colorway\":[\"#636efa\",\"#EF553B\",\"#00cc96\",\"#ab63fa\",\"#FFA15A\",\"#19d3f3\",\"#FF6692\",\"#B6E880\",\"#FF97FF\",\"#FECB52\"],\"font\":{\"color\":\"#2a3f5f\"},\"hovermode\":\"closest\",\"hoverlabel\":{\"align\":\"left\"},\"paper_bgcolor\":\"white\",\"plot_bgcolor\":\"#E5ECF6\",\"polar\":{\"bgcolor\":\"#E5ECF6\",\"angularaxis\":{\"gridcolor\":\"white\",\"linecolor\":\"white\",\"ticks\":\"\"},\"radialaxis\":{\"gridcolor\":\"white\",\"linecolor\":\"white\",\"ticks\":\"\"}},\"ternary\":{\"bgcolor\":\"#E5ECF6\",\"aaxis\":{\"gridcolor\":\"white\",\"linecolor\":\"white\",\"ticks\":\"\"},\"baxis\":{\"gridcolor\":\"white\",\"linecolor\":\"white\",\"ticks\":\"\"},\"caxis\":{\"gridcolor\":\"white\",\"linecolor\":\"white\",\"ticks\":\"\"}},\"coloraxis\":{\"colorbar\":{\"outlinewidth\":0,\"ticks\":\"\"}},\"colorscale\":{\"sequential\":[[0.0,\"#0d0887\"],[0.1111111111111111,\"#46039f\"],[0.2222222222222222,\"#7201a8\"],[0.3333333333333333,\"#9c179e\"],[0.4444444444444444,\"#bd3786\"],[0.5555555555555556,\"#d8576b\"],[0.6666666666666666,\"#ed7953\"],[0.7777777777777778,\"#fb9f3a\"],[0.8888888888888888,\"#fdca26\"],[1.0,\"#f0f921\"]],\"sequentialminus\":[[0.0,\"#0d0887\"],[0.1111111111111111,\"#46039f\"],[0.2222222222222222,\"#7201a8\"],[0.3333333333333333,\"#9c179e\"],[0.4444444444444444,\"#bd3786\"],[0.5555555555555556,\"#d8576b\"],[0.6666666666666666,\"#ed7953\"],[0.7777777777777778,\"#fb9f3a\"],[0.8888888888888888,\"#fdca26\"],[1.0,\"#f0f921\"]],\"diverging\":[[0,\"#8e0152\"],[0.1,\"#c51b7d\"],[0.2,\"#de77ae\"],[0.3,\"#f1b6da\"],[0.4,\"#fde0ef\"],[0.5,\"#f7f7f7\"],[0.6,\"#e6f5d0\"],[0.7,\"#b8e186\"],[0.8,\"#7fbc41\"],[0.9,\"#4d9221\"],[1,\"#276419\"]]},\"xaxis\":{\"gridcolor\":\"white\",\"linecolor\":\"white\",\"ticks\":\"\",\"title\":{\"standoff\":15},\"zerolinecolor\":\"white\",\"automargin\":true,\"zerolinewidth\":2},\"yaxis\":{\"gridcolor\":\"white\",\"linecolor\":\"white\",\"ticks\":\"\",\"title\":{\"standoff\":15},\"zerolinecolor\":\"white\",\"automargin\":true,\"zerolinewidth\":2},\"scene\":{\"xaxis\":{\"backgroundcolor\":\"#E5ECF6\",\"gridcolor\":\"white\",\"linecolor\":\"white\",\"showbackground\":true,\"ticks\":\"\",\"zerolinecolor\":\"white\",\"gridwidth\":2},\"yaxis\":{\"backgroundcolor\":\"#E5ECF6\",\"gridcolor\":\"white\",\"linecolor\":\"white\",\"showbackground\":true,\"ticks\":\"\",\"zerolinecolor\":\"white\",\"gridwidth\":2},\"zaxis\":{\"backgroundcolor\":\"#E5ECF6\",\"gridcolor\":\"white\",\"linecolor\":\"white\",\"showbackground\":true,\"ticks\":\"\",\"zerolinecolor\":\"white\",\"gridwidth\":2}},\"shapedefaults\":{\"line\":{\"color\":\"#2a3f5f\"}},\"annotationdefaults\":{\"arrowcolor\":\"#2a3f5f\",\"arrowhead\":0,\"arrowwidth\":1},\"geo\":{\"bgcolor\":\"white\",\"landcolor\":\"#E5ECF6\",\"subunitcolor\":\"white\",\"showland\":true,\"showlakes\":true,\"lakecolor\":\"white\"},\"title\":{\"x\":0.05},\"mapbox\":{\"style\":\"light\"}}},\"font\":{\"family\":\"Times New Roman\"},\"plot_bgcolor\":\"rgba(0,0,0,0)\",\"paper_bgcolor\":\"rgba(0,0,0,0)\",\"width\":600,\"height\":500},                        {\"responsive\": true}                    ).then(function(){\n",
              "                            \n",
              "var gd = document.getElementById('efc39c66-52dc-478f-b2c4-9b7ff92e93e8');\n",
              "var x = new MutationObserver(function (mutations, observer) {{\n",
              "        var display = window.getComputedStyle(gd).display;\n",
              "        if (!display || display === 'none') {{\n",
              "            console.log([gd, 'removed!']);\n",
              "            Plotly.purge(gd);\n",
              "            observer.disconnect();\n",
              "        }}\n",
              "}});\n",
              "\n",
              "// Listen for the removal of the full notebook cells\n",
              "var notebookContainer = gd.closest('#notebook-container');\n",
              "if (notebookContainer) {{\n",
              "    x.observe(notebookContainer, {childList: true});\n",
              "}}\n",
              "\n",
              "// Listen for the clearing of the current output cell\n",
              "var outputEl = gd.closest('.output');\n",
              "if (outputEl) {{\n",
              "    x.observe(outputEl, {childList: true});\n",
              "}}\n",
              "\n",
              "                        })                };                            </script>        </div>\n",
              "</body>\n",
              "</html>"
            ]
          },
          "metadata": {}
        },
        {
          "output_type": "stream",
          "name": "stdout",
          "text": [
            "----------------------------------------------------------------------\n",
            "xgb\n",
            "Best hyperparameters for xgb: {'n_estimators': 112, 'max_depth': 10, 'learning_rate': 0.05411085535059276}\n",
            "Best objective value for xgb: 0.58\n"
          ]
        },
        {
          "output_type": "display_data",
          "data": {
            "text/html": [
              "<html>\n",
              "<head><meta charset=\"utf-8\" /></head>\n",
              "<body>\n",
              "    <div>            <script src=\"https://cdnjs.cloudflare.com/ajax/libs/mathjax/2.7.5/MathJax.js?config=TeX-AMS-MML_SVG\"></script><script type=\"text/javascript\">if (window.MathJax && window.MathJax.Hub && window.MathJax.Hub.Config) {window.MathJax.Hub.Config({SVG: {font: \"STIX-Web\"}});}</script>                <script type=\"text/javascript\">window.PlotlyConfig = {MathJaxConfig: 'local'};</script>\n",
              "        <script charset=\"utf-8\" src=\"https://cdn.plot.ly/plotly-2.24.1.min.js\"></script>                <div id=\"cf9ec931-d9d6-40a8-a707-16f1cb3489cc\" class=\"plotly-graph-div\" style=\"height:500px; width:600px;\"></div>            <script type=\"text/javascript\">                                    window.PLOTLYENV=window.PLOTLYENV || {};                                    if (document.getElementById(\"cf9ec931-d9d6-40a8-a707-16f1cb3489cc\")) {                    Plotly.newPlot(                        \"cf9ec931-d9d6-40a8-a707-16f1cb3489cc\",                        [{\"mode\":\"markers\",\"name\":\"Objective Value\",\"x\":[0,1,2,3,4,5,6,7,8,9,10,11,12,13,14,15,16,17,18,19,20,21,22,23,24,25,26,27,28,29,30,31,32,33,34,35,36,37,38,39,40,41,42,43,44,45,46,47,48,49],\"y\":[0.45,0.44,0.32,0.51,0.51,0.52,0.39,0.53,0.54,0.56,0.56,0.57,0.53,0.52,0.54,0.56,0.53,0.54,0.55,0.55,0.53,0.55,0.55,0.54,0.5,0.57,0.54,0.54,0.58,0.55,0.56,0.53,0.56,0.58,0.55,0.56,0.52,0.49,0.55,0.56,0.57,0.56,0.54,0.55,0.55,0.53,0.55,0.49,0.52,0.55],\"type\":\"scatter\",\"marker\":{\"color\":\"black\"}},{\"mode\":\"lines\",\"name\":\"Best Value\",\"x\":[0,1,2,3,4,5,6,7,8,9,10,11,12,13,14,15,16,17,18,19,20,21,22,23,24,25,26,27,28,29,30,31,32,33,34,35,36,37,38,39,40,41,42,43,44,45,46,47,48,49],\"y\":[0.45,0.45,0.45,0.51,0.51,0.52,0.52,0.53,0.54,0.56,0.56,0.57,0.57,0.57,0.57,0.57,0.57,0.57,0.57,0.57,0.57,0.57,0.57,0.57,0.57,0.57,0.57,0.57,0.58,0.58,0.58,0.58,0.58,0.58,0.58,0.58,0.58,0.58,0.58,0.58,0.58,0.58,0.58,0.58,0.58,0.58,0.58,0.58,0.58,0.58],\"type\":\"scatter\",\"marker\":{\"color\":\"black\"}},{\"marker\":{\"color\":\"black\"},\"mode\":\"markers\",\"name\":\"Infeasible Trial\",\"showlegend\":false,\"x\":[],\"y\":[],\"type\":\"scatter\"}],                        {\"title\":{\"text\":\"Optimization History\\u003cbr\\u003e\\u003csup\\u003exgb\\u003c\\u002fsup\\u003e\",\"font\":{\"color\":\"black\",\"size\":20},\"x\":0},\"xaxis\":{\"title\":{\"text\":\"Trial\"}},\"yaxis\":{\"title\":{\"text\":\"Objective Value\"}},\"template\":{\"data\":{\"histogram2dcontour\":[{\"type\":\"histogram2dcontour\",\"colorbar\":{\"outlinewidth\":0,\"ticks\":\"\"},\"colorscale\":[[0.0,\"#0d0887\"],[0.1111111111111111,\"#46039f\"],[0.2222222222222222,\"#7201a8\"],[0.3333333333333333,\"#9c179e\"],[0.4444444444444444,\"#bd3786\"],[0.5555555555555556,\"#d8576b\"],[0.6666666666666666,\"#ed7953\"],[0.7777777777777778,\"#fb9f3a\"],[0.8888888888888888,\"#fdca26\"],[1.0,\"#f0f921\"]]}],\"choropleth\":[{\"type\":\"choropleth\",\"colorbar\":{\"outlinewidth\":0,\"ticks\":\"\"}}],\"histogram2d\":[{\"type\":\"histogram2d\",\"colorbar\":{\"outlinewidth\":0,\"ticks\":\"\"},\"colorscale\":[[0.0,\"#0d0887\"],[0.1111111111111111,\"#46039f\"],[0.2222222222222222,\"#7201a8\"],[0.3333333333333333,\"#9c179e\"],[0.4444444444444444,\"#bd3786\"],[0.5555555555555556,\"#d8576b\"],[0.6666666666666666,\"#ed7953\"],[0.7777777777777778,\"#fb9f3a\"],[0.8888888888888888,\"#fdca26\"],[1.0,\"#f0f921\"]]}],\"heatmap\":[{\"type\":\"heatmap\",\"colorbar\":{\"outlinewidth\":0,\"ticks\":\"\"},\"colorscale\":[[0.0,\"#0d0887\"],[0.1111111111111111,\"#46039f\"],[0.2222222222222222,\"#7201a8\"],[0.3333333333333333,\"#9c179e\"],[0.4444444444444444,\"#bd3786\"],[0.5555555555555556,\"#d8576b\"],[0.6666666666666666,\"#ed7953\"],[0.7777777777777778,\"#fb9f3a\"],[0.8888888888888888,\"#fdca26\"],[1.0,\"#f0f921\"]]}],\"heatmapgl\":[{\"type\":\"heatmapgl\",\"colorbar\":{\"outlinewidth\":0,\"ticks\":\"\"},\"colorscale\":[[0.0,\"#0d0887\"],[0.1111111111111111,\"#46039f\"],[0.2222222222222222,\"#7201a8\"],[0.3333333333333333,\"#9c179e\"],[0.4444444444444444,\"#bd3786\"],[0.5555555555555556,\"#d8576b\"],[0.6666666666666666,\"#ed7953\"],[0.7777777777777778,\"#fb9f3a\"],[0.8888888888888888,\"#fdca26\"],[1.0,\"#f0f921\"]]}],\"contourcarpet\":[{\"type\":\"contourcarpet\",\"colorbar\":{\"outlinewidth\":0,\"ticks\":\"\"}}],\"contour\":[{\"type\":\"contour\",\"colorbar\":{\"outlinewidth\":0,\"ticks\":\"\"},\"colorscale\":[[0.0,\"#0d0887\"],[0.1111111111111111,\"#46039f\"],[0.2222222222222222,\"#7201a8\"],[0.3333333333333333,\"#9c179e\"],[0.4444444444444444,\"#bd3786\"],[0.5555555555555556,\"#d8576b\"],[0.6666666666666666,\"#ed7953\"],[0.7777777777777778,\"#fb9f3a\"],[0.8888888888888888,\"#fdca26\"],[1.0,\"#f0f921\"]]}],\"surface\":[{\"type\":\"surface\",\"colorbar\":{\"outlinewidth\":0,\"ticks\":\"\"},\"colorscale\":[[0.0,\"#0d0887\"],[0.1111111111111111,\"#46039f\"],[0.2222222222222222,\"#7201a8\"],[0.3333333333333333,\"#9c179e\"],[0.4444444444444444,\"#bd3786\"],[0.5555555555555556,\"#d8576b\"],[0.6666666666666666,\"#ed7953\"],[0.7777777777777778,\"#fb9f3a\"],[0.8888888888888888,\"#fdca26\"],[1.0,\"#f0f921\"]]}],\"mesh3d\":[{\"type\":\"mesh3d\",\"colorbar\":{\"outlinewidth\":0,\"ticks\":\"\"}}],\"scatter\":[{\"fillpattern\":{\"fillmode\":\"overlay\",\"size\":10,\"solidity\":0.2},\"type\":\"scatter\"}],\"parcoords\":[{\"type\":\"parcoords\",\"line\":{\"colorbar\":{\"outlinewidth\":0,\"ticks\":\"\"}}}],\"scatterpolargl\":[{\"type\":\"scatterpolargl\",\"marker\":{\"colorbar\":{\"outlinewidth\":0,\"ticks\":\"\"}}}],\"bar\":[{\"error_x\":{\"color\":\"#2a3f5f\"},\"error_y\":{\"color\":\"#2a3f5f\"},\"marker\":{\"line\":{\"color\":\"#E5ECF6\",\"width\":0.5},\"pattern\":{\"fillmode\":\"overlay\",\"size\":10,\"solidity\":0.2}},\"type\":\"bar\"}],\"scattergeo\":[{\"type\":\"scattergeo\",\"marker\":{\"colorbar\":{\"outlinewidth\":0,\"ticks\":\"\"}}}],\"scatterpolar\":[{\"type\":\"scatterpolar\",\"marker\":{\"colorbar\":{\"outlinewidth\":0,\"ticks\":\"\"}}}],\"histogram\":[{\"marker\":{\"pattern\":{\"fillmode\":\"overlay\",\"size\":10,\"solidity\":0.2}},\"type\":\"histogram\"}],\"scattergl\":[{\"type\":\"scattergl\",\"marker\":{\"colorbar\":{\"outlinewidth\":0,\"ticks\":\"\"}}}],\"scatter3d\":[{\"type\":\"scatter3d\",\"line\":{\"colorbar\":{\"outlinewidth\":0,\"ticks\":\"\"}},\"marker\":{\"colorbar\":{\"outlinewidth\":0,\"ticks\":\"\"}}}],\"scattermapbox\":[{\"type\":\"scattermapbox\",\"marker\":{\"colorbar\":{\"outlinewidth\":0,\"ticks\":\"\"}}}],\"scatterternary\":[{\"type\":\"scatterternary\",\"marker\":{\"colorbar\":{\"outlinewidth\":0,\"ticks\":\"\"}}}],\"scattercarpet\":[{\"type\":\"scattercarpet\",\"marker\":{\"colorbar\":{\"outlinewidth\":0,\"ticks\":\"\"}}}],\"carpet\":[{\"aaxis\":{\"endlinecolor\":\"#2a3f5f\",\"gridcolor\":\"white\",\"linecolor\":\"white\",\"minorgridcolor\":\"white\",\"startlinecolor\":\"#2a3f5f\"},\"baxis\":{\"endlinecolor\":\"#2a3f5f\",\"gridcolor\":\"white\",\"linecolor\":\"white\",\"minorgridcolor\":\"white\",\"startlinecolor\":\"#2a3f5f\"},\"type\":\"carpet\"}],\"table\":[{\"cells\":{\"fill\":{\"color\":\"#EBF0F8\"},\"line\":{\"color\":\"white\"}},\"header\":{\"fill\":{\"color\":\"#C8D4E3\"},\"line\":{\"color\":\"white\"}},\"type\":\"table\"}],\"barpolar\":[{\"marker\":{\"line\":{\"color\":\"#E5ECF6\",\"width\":0.5},\"pattern\":{\"fillmode\":\"overlay\",\"size\":10,\"solidity\":0.2}},\"type\":\"barpolar\"}],\"pie\":[{\"automargin\":true,\"type\":\"pie\"}]},\"layout\":{\"autotypenumbers\":\"strict\",\"colorway\":[\"#636efa\",\"#EF553B\",\"#00cc96\",\"#ab63fa\",\"#FFA15A\",\"#19d3f3\",\"#FF6692\",\"#B6E880\",\"#FF97FF\",\"#FECB52\"],\"font\":{\"color\":\"#2a3f5f\"},\"hovermode\":\"closest\",\"hoverlabel\":{\"align\":\"left\"},\"paper_bgcolor\":\"white\",\"plot_bgcolor\":\"#E5ECF6\",\"polar\":{\"bgcolor\":\"#E5ECF6\",\"angularaxis\":{\"gridcolor\":\"white\",\"linecolor\":\"white\",\"ticks\":\"\"},\"radialaxis\":{\"gridcolor\":\"white\",\"linecolor\":\"white\",\"ticks\":\"\"}},\"ternary\":{\"bgcolor\":\"#E5ECF6\",\"aaxis\":{\"gridcolor\":\"white\",\"linecolor\":\"white\",\"ticks\":\"\"},\"baxis\":{\"gridcolor\":\"white\",\"linecolor\":\"white\",\"ticks\":\"\"},\"caxis\":{\"gridcolor\":\"white\",\"linecolor\":\"white\",\"ticks\":\"\"}},\"coloraxis\":{\"colorbar\":{\"outlinewidth\":0,\"ticks\":\"\"}},\"colorscale\":{\"sequential\":[[0.0,\"#0d0887\"],[0.1111111111111111,\"#46039f\"],[0.2222222222222222,\"#7201a8\"],[0.3333333333333333,\"#9c179e\"],[0.4444444444444444,\"#bd3786\"],[0.5555555555555556,\"#d8576b\"],[0.6666666666666666,\"#ed7953\"],[0.7777777777777778,\"#fb9f3a\"],[0.8888888888888888,\"#fdca26\"],[1.0,\"#f0f921\"]],\"sequentialminus\":[[0.0,\"#0d0887\"],[0.1111111111111111,\"#46039f\"],[0.2222222222222222,\"#7201a8\"],[0.3333333333333333,\"#9c179e\"],[0.4444444444444444,\"#bd3786\"],[0.5555555555555556,\"#d8576b\"],[0.6666666666666666,\"#ed7953\"],[0.7777777777777778,\"#fb9f3a\"],[0.8888888888888888,\"#fdca26\"],[1.0,\"#f0f921\"]],\"diverging\":[[0,\"#8e0152\"],[0.1,\"#c51b7d\"],[0.2,\"#de77ae\"],[0.3,\"#f1b6da\"],[0.4,\"#fde0ef\"],[0.5,\"#f7f7f7\"],[0.6,\"#e6f5d0\"],[0.7,\"#b8e186\"],[0.8,\"#7fbc41\"],[0.9,\"#4d9221\"],[1,\"#276419\"]]},\"xaxis\":{\"gridcolor\":\"white\",\"linecolor\":\"white\",\"ticks\":\"\",\"title\":{\"standoff\":15},\"zerolinecolor\":\"white\",\"automargin\":true,\"zerolinewidth\":2},\"yaxis\":{\"gridcolor\":\"white\",\"linecolor\":\"white\",\"ticks\":\"\",\"title\":{\"standoff\":15},\"zerolinecolor\":\"white\",\"automargin\":true,\"zerolinewidth\":2},\"scene\":{\"xaxis\":{\"backgroundcolor\":\"#E5ECF6\",\"gridcolor\":\"white\",\"linecolor\":\"white\",\"showbackground\":true,\"ticks\":\"\",\"zerolinecolor\":\"white\",\"gridwidth\":2},\"yaxis\":{\"backgroundcolor\":\"#E5ECF6\",\"gridcolor\":\"white\",\"linecolor\":\"white\",\"showbackground\":true,\"ticks\":\"\",\"zerolinecolor\":\"white\",\"gridwidth\":2},\"zaxis\":{\"backgroundcolor\":\"#E5ECF6\",\"gridcolor\":\"white\",\"linecolor\":\"white\",\"showbackground\":true,\"ticks\":\"\",\"zerolinecolor\":\"white\",\"gridwidth\":2}},\"shapedefaults\":{\"line\":{\"color\":\"#2a3f5f\"}},\"annotationdefaults\":{\"arrowcolor\":\"#2a3f5f\",\"arrowhead\":0,\"arrowwidth\":1},\"geo\":{\"bgcolor\":\"white\",\"landcolor\":\"#E5ECF6\",\"subunitcolor\":\"white\",\"showland\":true,\"showlakes\":true,\"lakecolor\":\"white\"},\"title\":{\"x\":0.05},\"mapbox\":{\"style\":\"light\"}}},\"font\":{\"family\":\"Times New Roman\"},\"plot_bgcolor\":\"rgba(0,0,0,0)\",\"paper_bgcolor\":\"rgba(0,0,0,0)\",\"width\":600,\"height\":500},                        {\"responsive\": true}                    ).then(function(){\n",
              "                            \n",
              "var gd = document.getElementById('cf9ec931-d9d6-40a8-a707-16f1cb3489cc');\n",
              "var x = new MutationObserver(function (mutations, observer) {{\n",
              "        var display = window.getComputedStyle(gd).display;\n",
              "        if (!display || display === 'none') {{\n",
              "            console.log([gd, 'removed!']);\n",
              "            Plotly.purge(gd);\n",
              "            observer.disconnect();\n",
              "        }}\n",
              "}});\n",
              "\n",
              "// Listen for the removal of the full notebook cells\n",
              "var notebookContainer = gd.closest('#notebook-container');\n",
              "if (notebookContainer) {{\n",
              "    x.observe(notebookContainer, {childList: true});\n",
              "}}\n",
              "\n",
              "// Listen for the clearing of the current output cell\n",
              "var outputEl = gd.closest('.output');\n",
              "if (outputEl) {{\n",
              "    x.observe(outputEl, {childList: true});\n",
              "}}\n",
              "\n",
              "                        })                };                            </script>        </div>\n",
              "</body>\n",
              "</html>"
            ]
          },
          "metadata": {}
        },
        {
          "output_type": "display_data",
          "data": {
            "text/html": [
              "<html>\n",
              "<head><meta charset=\"utf-8\" /></head>\n",
              "<body>\n",
              "    <div>            <script src=\"https://cdnjs.cloudflare.com/ajax/libs/mathjax/2.7.5/MathJax.js?config=TeX-AMS-MML_SVG\"></script><script type=\"text/javascript\">if (window.MathJax && window.MathJax.Hub && window.MathJax.Hub.Config) {window.MathJax.Hub.Config({SVG: {font: \"STIX-Web\"}});}</script>                <script type=\"text/javascript\">window.PlotlyConfig = {MathJaxConfig: 'local'};</script>\n",
              "        <script charset=\"utf-8\" src=\"https://cdn.plot.ly/plotly-2.24.1.min.js\"></script>                <div id=\"e50d2db2-514b-44e4-8383-3957e6e0c761\" class=\"plotly-graph-div\" style=\"height:500px; width:600px;\"></div>            <script type=\"text/javascript\">                                    window.PLOTLYENV=window.PLOTLYENV || {};                                    if (document.getElementById(\"e50d2db2-514b-44e4-8383-3957e6e0c761\")) {                    Plotly.newPlot(                        \"e50d2db2-514b-44e4-8383-3957e6e0c761\",                        [{\"cliponaxis\":false,\"hovertemplate\":[\"learning_rate (FloatDistribution): 0.10226238217661077\\u003cextra\\u003e\\u003c\\u002fextra\\u003e\",\"n_estimators (IntDistribution): 0.10798132916249838\\u003cextra\\u003e\\u003c\\u002fextra\\u003e\",\"max_depth (IntDistribution): 0.7897562886608909\\u003cextra\\u003e\\u003c\\u002fextra\\u003e\"],\"name\":\"Objective Value\",\"orientation\":\"h\",\"text\":[\"0.10\",\"0.11\",\"0.79\"],\"textposition\":\"outside\",\"x\":[0.10226238217661077,0.10798132916249838,0.7897562886608909],\"y\":[\"learning_rate\",\"n_estimators\",\"max_depth\"],\"type\":\"bar\",\"marker\":{\"color\":\"black\"}}],                        {\"title\":{\"text\":\"Hyperparameters Importance\\u003cbr\\u003e\\u003csup\\u003exgb\\u003c\\u002fsup\\u003e\",\"font\":{\"color\":\"black\",\"size\":20},\"x\":0},\"xaxis\":{\"title\":{\"text\":\"Hyperparameter Importance\"}},\"yaxis\":{\"title\":{\"text\":\"Hyperparameter\"}},\"template\":{\"data\":{\"histogram2dcontour\":[{\"type\":\"histogram2dcontour\",\"colorbar\":{\"outlinewidth\":0,\"ticks\":\"\"},\"colorscale\":[[0.0,\"#0d0887\"],[0.1111111111111111,\"#46039f\"],[0.2222222222222222,\"#7201a8\"],[0.3333333333333333,\"#9c179e\"],[0.4444444444444444,\"#bd3786\"],[0.5555555555555556,\"#d8576b\"],[0.6666666666666666,\"#ed7953\"],[0.7777777777777778,\"#fb9f3a\"],[0.8888888888888888,\"#fdca26\"],[1.0,\"#f0f921\"]]}],\"choropleth\":[{\"type\":\"choropleth\",\"colorbar\":{\"outlinewidth\":0,\"ticks\":\"\"}}],\"histogram2d\":[{\"type\":\"histogram2d\",\"colorbar\":{\"outlinewidth\":0,\"ticks\":\"\"},\"colorscale\":[[0.0,\"#0d0887\"],[0.1111111111111111,\"#46039f\"],[0.2222222222222222,\"#7201a8\"],[0.3333333333333333,\"#9c179e\"],[0.4444444444444444,\"#bd3786\"],[0.5555555555555556,\"#d8576b\"],[0.6666666666666666,\"#ed7953\"],[0.7777777777777778,\"#fb9f3a\"],[0.8888888888888888,\"#fdca26\"],[1.0,\"#f0f921\"]]}],\"heatmap\":[{\"type\":\"heatmap\",\"colorbar\":{\"outlinewidth\":0,\"ticks\":\"\"},\"colorscale\":[[0.0,\"#0d0887\"],[0.1111111111111111,\"#46039f\"],[0.2222222222222222,\"#7201a8\"],[0.3333333333333333,\"#9c179e\"],[0.4444444444444444,\"#bd3786\"],[0.5555555555555556,\"#d8576b\"],[0.6666666666666666,\"#ed7953\"],[0.7777777777777778,\"#fb9f3a\"],[0.8888888888888888,\"#fdca26\"],[1.0,\"#f0f921\"]]}],\"heatmapgl\":[{\"type\":\"heatmapgl\",\"colorbar\":{\"outlinewidth\":0,\"ticks\":\"\"},\"colorscale\":[[0.0,\"#0d0887\"],[0.1111111111111111,\"#46039f\"],[0.2222222222222222,\"#7201a8\"],[0.3333333333333333,\"#9c179e\"],[0.4444444444444444,\"#bd3786\"],[0.5555555555555556,\"#d8576b\"],[0.6666666666666666,\"#ed7953\"],[0.7777777777777778,\"#fb9f3a\"],[0.8888888888888888,\"#fdca26\"],[1.0,\"#f0f921\"]]}],\"contourcarpet\":[{\"type\":\"contourcarpet\",\"colorbar\":{\"outlinewidth\":0,\"ticks\":\"\"}}],\"contour\":[{\"type\":\"contour\",\"colorbar\":{\"outlinewidth\":0,\"ticks\":\"\"},\"colorscale\":[[0.0,\"#0d0887\"],[0.1111111111111111,\"#46039f\"],[0.2222222222222222,\"#7201a8\"],[0.3333333333333333,\"#9c179e\"],[0.4444444444444444,\"#bd3786\"],[0.5555555555555556,\"#d8576b\"],[0.6666666666666666,\"#ed7953\"],[0.7777777777777778,\"#fb9f3a\"],[0.8888888888888888,\"#fdca26\"],[1.0,\"#f0f921\"]]}],\"surface\":[{\"type\":\"surface\",\"colorbar\":{\"outlinewidth\":0,\"ticks\":\"\"},\"colorscale\":[[0.0,\"#0d0887\"],[0.1111111111111111,\"#46039f\"],[0.2222222222222222,\"#7201a8\"],[0.3333333333333333,\"#9c179e\"],[0.4444444444444444,\"#bd3786\"],[0.5555555555555556,\"#d8576b\"],[0.6666666666666666,\"#ed7953\"],[0.7777777777777778,\"#fb9f3a\"],[0.8888888888888888,\"#fdca26\"],[1.0,\"#f0f921\"]]}],\"mesh3d\":[{\"type\":\"mesh3d\",\"colorbar\":{\"outlinewidth\":0,\"ticks\":\"\"}}],\"scatter\":[{\"fillpattern\":{\"fillmode\":\"overlay\",\"size\":10,\"solidity\":0.2},\"type\":\"scatter\"}],\"parcoords\":[{\"type\":\"parcoords\",\"line\":{\"colorbar\":{\"outlinewidth\":0,\"ticks\":\"\"}}}],\"scatterpolargl\":[{\"type\":\"scatterpolargl\",\"marker\":{\"colorbar\":{\"outlinewidth\":0,\"ticks\":\"\"}}}],\"bar\":[{\"error_x\":{\"color\":\"#2a3f5f\"},\"error_y\":{\"color\":\"#2a3f5f\"},\"marker\":{\"line\":{\"color\":\"#E5ECF6\",\"width\":0.5},\"pattern\":{\"fillmode\":\"overlay\",\"size\":10,\"solidity\":0.2}},\"type\":\"bar\"}],\"scattergeo\":[{\"type\":\"scattergeo\",\"marker\":{\"colorbar\":{\"outlinewidth\":0,\"ticks\":\"\"}}}],\"scatterpolar\":[{\"type\":\"scatterpolar\",\"marker\":{\"colorbar\":{\"outlinewidth\":0,\"ticks\":\"\"}}}],\"histogram\":[{\"marker\":{\"pattern\":{\"fillmode\":\"overlay\",\"size\":10,\"solidity\":0.2}},\"type\":\"histogram\"}],\"scattergl\":[{\"type\":\"scattergl\",\"marker\":{\"colorbar\":{\"outlinewidth\":0,\"ticks\":\"\"}}}],\"scatter3d\":[{\"type\":\"scatter3d\",\"line\":{\"colorbar\":{\"outlinewidth\":0,\"ticks\":\"\"}},\"marker\":{\"colorbar\":{\"outlinewidth\":0,\"ticks\":\"\"}}}],\"scattermapbox\":[{\"type\":\"scattermapbox\",\"marker\":{\"colorbar\":{\"outlinewidth\":0,\"ticks\":\"\"}}}],\"scatterternary\":[{\"type\":\"scatterternary\",\"marker\":{\"colorbar\":{\"outlinewidth\":0,\"ticks\":\"\"}}}],\"scattercarpet\":[{\"type\":\"scattercarpet\",\"marker\":{\"colorbar\":{\"outlinewidth\":0,\"ticks\":\"\"}}}],\"carpet\":[{\"aaxis\":{\"endlinecolor\":\"#2a3f5f\",\"gridcolor\":\"white\",\"linecolor\":\"white\",\"minorgridcolor\":\"white\",\"startlinecolor\":\"#2a3f5f\"},\"baxis\":{\"endlinecolor\":\"#2a3f5f\",\"gridcolor\":\"white\",\"linecolor\":\"white\",\"minorgridcolor\":\"white\",\"startlinecolor\":\"#2a3f5f\"},\"type\":\"carpet\"}],\"table\":[{\"cells\":{\"fill\":{\"color\":\"#EBF0F8\"},\"line\":{\"color\":\"white\"}},\"header\":{\"fill\":{\"color\":\"#C8D4E3\"},\"line\":{\"color\":\"white\"}},\"type\":\"table\"}],\"barpolar\":[{\"marker\":{\"line\":{\"color\":\"#E5ECF6\",\"width\":0.5},\"pattern\":{\"fillmode\":\"overlay\",\"size\":10,\"solidity\":0.2}},\"type\":\"barpolar\"}],\"pie\":[{\"automargin\":true,\"type\":\"pie\"}]},\"layout\":{\"autotypenumbers\":\"strict\",\"colorway\":[\"#636efa\",\"#EF553B\",\"#00cc96\",\"#ab63fa\",\"#FFA15A\",\"#19d3f3\",\"#FF6692\",\"#B6E880\",\"#FF97FF\",\"#FECB52\"],\"font\":{\"color\":\"#2a3f5f\"},\"hovermode\":\"closest\",\"hoverlabel\":{\"align\":\"left\"},\"paper_bgcolor\":\"white\",\"plot_bgcolor\":\"#E5ECF6\",\"polar\":{\"bgcolor\":\"#E5ECF6\",\"angularaxis\":{\"gridcolor\":\"white\",\"linecolor\":\"white\",\"ticks\":\"\"},\"radialaxis\":{\"gridcolor\":\"white\",\"linecolor\":\"white\",\"ticks\":\"\"}},\"ternary\":{\"bgcolor\":\"#E5ECF6\",\"aaxis\":{\"gridcolor\":\"white\",\"linecolor\":\"white\",\"ticks\":\"\"},\"baxis\":{\"gridcolor\":\"white\",\"linecolor\":\"white\",\"ticks\":\"\"},\"caxis\":{\"gridcolor\":\"white\",\"linecolor\":\"white\",\"ticks\":\"\"}},\"coloraxis\":{\"colorbar\":{\"outlinewidth\":0,\"ticks\":\"\"}},\"colorscale\":{\"sequential\":[[0.0,\"#0d0887\"],[0.1111111111111111,\"#46039f\"],[0.2222222222222222,\"#7201a8\"],[0.3333333333333333,\"#9c179e\"],[0.4444444444444444,\"#bd3786\"],[0.5555555555555556,\"#d8576b\"],[0.6666666666666666,\"#ed7953\"],[0.7777777777777778,\"#fb9f3a\"],[0.8888888888888888,\"#fdca26\"],[1.0,\"#f0f921\"]],\"sequentialminus\":[[0.0,\"#0d0887\"],[0.1111111111111111,\"#46039f\"],[0.2222222222222222,\"#7201a8\"],[0.3333333333333333,\"#9c179e\"],[0.4444444444444444,\"#bd3786\"],[0.5555555555555556,\"#d8576b\"],[0.6666666666666666,\"#ed7953\"],[0.7777777777777778,\"#fb9f3a\"],[0.8888888888888888,\"#fdca26\"],[1.0,\"#f0f921\"]],\"diverging\":[[0,\"#8e0152\"],[0.1,\"#c51b7d\"],[0.2,\"#de77ae\"],[0.3,\"#f1b6da\"],[0.4,\"#fde0ef\"],[0.5,\"#f7f7f7\"],[0.6,\"#e6f5d0\"],[0.7,\"#b8e186\"],[0.8,\"#7fbc41\"],[0.9,\"#4d9221\"],[1,\"#276419\"]]},\"xaxis\":{\"gridcolor\":\"white\",\"linecolor\":\"white\",\"ticks\":\"\",\"title\":{\"standoff\":15},\"zerolinecolor\":\"white\",\"automargin\":true,\"zerolinewidth\":2},\"yaxis\":{\"gridcolor\":\"white\",\"linecolor\":\"white\",\"ticks\":\"\",\"title\":{\"standoff\":15},\"zerolinecolor\":\"white\",\"automargin\":true,\"zerolinewidth\":2},\"scene\":{\"xaxis\":{\"backgroundcolor\":\"#E5ECF6\",\"gridcolor\":\"white\",\"linecolor\":\"white\",\"showbackground\":true,\"ticks\":\"\",\"zerolinecolor\":\"white\",\"gridwidth\":2},\"yaxis\":{\"backgroundcolor\":\"#E5ECF6\",\"gridcolor\":\"white\",\"linecolor\":\"white\",\"showbackground\":true,\"ticks\":\"\",\"zerolinecolor\":\"white\",\"gridwidth\":2},\"zaxis\":{\"backgroundcolor\":\"#E5ECF6\",\"gridcolor\":\"white\",\"linecolor\":\"white\",\"showbackground\":true,\"ticks\":\"\",\"zerolinecolor\":\"white\",\"gridwidth\":2}},\"shapedefaults\":{\"line\":{\"color\":\"#2a3f5f\"}},\"annotationdefaults\":{\"arrowcolor\":\"#2a3f5f\",\"arrowhead\":0,\"arrowwidth\":1},\"geo\":{\"bgcolor\":\"white\",\"landcolor\":\"#E5ECF6\",\"subunitcolor\":\"white\",\"showland\":true,\"showlakes\":true,\"lakecolor\":\"white\"},\"title\":{\"x\":0.05},\"mapbox\":{\"style\":\"light\"}}},\"font\":{\"family\":\"Times New Roman\"},\"plot_bgcolor\":\"rgba(0,0,0,0)\",\"paper_bgcolor\":\"rgba(0,0,0,0)\",\"width\":600,\"height\":500},                        {\"responsive\": true}                    ).then(function(){\n",
              "                            \n",
              "var gd = document.getElementById('e50d2db2-514b-44e4-8383-3957e6e0c761');\n",
              "var x = new MutationObserver(function (mutations, observer) {{\n",
              "        var display = window.getComputedStyle(gd).display;\n",
              "        if (!display || display === 'none') {{\n",
              "            console.log([gd, 'removed!']);\n",
              "            Plotly.purge(gd);\n",
              "            observer.disconnect();\n",
              "        }}\n",
              "}});\n",
              "\n",
              "// Listen for the removal of the full notebook cells\n",
              "var notebookContainer = gd.closest('#notebook-container');\n",
              "if (notebookContainer) {{\n",
              "    x.observe(notebookContainer, {childList: true});\n",
              "}}\n",
              "\n",
              "// Listen for the clearing of the current output cell\n",
              "var outputEl = gd.closest('.output');\n",
              "if (outputEl) {{\n",
              "    x.observe(outputEl, {childList: true});\n",
              "}}\n",
              "\n",
              "                        })                };                            </script>        </div>\n",
              "</body>\n",
              "</html>"
            ]
          },
          "metadata": {}
        },
        {
          "output_type": "stream",
          "name": "stdout",
          "text": [
            "----------------------------------------------------------------------\n",
            "rf\n",
            "Best hyperparameters for rf: {'n_estimators': 138, 'max_depth': 9}\n",
            "Best objective value for rf: 0.52\n"
          ]
        },
        {
          "output_type": "display_data",
          "data": {
            "text/html": [
              "<html>\n",
              "<head><meta charset=\"utf-8\" /></head>\n",
              "<body>\n",
              "    <div>            <script src=\"https://cdnjs.cloudflare.com/ajax/libs/mathjax/2.7.5/MathJax.js?config=TeX-AMS-MML_SVG\"></script><script type=\"text/javascript\">if (window.MathJax && window.MathJax.Hub && window.MathJax.Hub.Config) {window.MathJax.Hub.Config({SVG: {font: \"STIX-Web\"}});}</script>                <script type=\"text/javascript\">window.PlotlyConfig = {MathJaxConfig: 'local'};</script>\n",
              "        <script charset=\"utf-8\" src=\"https://cdn.plot.ly/plotly-2.24.1.min.js\"></script>                <div id=\"943cdd11-44e2-423d-b33b-d9ab1e6ccf21\" class=\"plotly-graph-div\" style=\"height:500px; width:600px;\"></div>            <script type=\"text/javascript\">                                    window.PLOTLYENV=window.PLOTLYENV || {};                                    if (document.getElementById(\"943cdd11-44e2-423d-b33b-d9ab1e6ccf21\")) {                    Plotly.newPlot(                        \"943cdd11-44e2-423d-b33b-d9ab1e6ccf21\",                        [{\"mode\":\"markers\",\"name\":\"Objective Value\",\"x\":[0,1,2,3,4,5,6,7,8,9,10,11,12,13,14,15,16,17,18,19,20,21,22,23,24,25,26,27,28,29,30,31,32,33,34,35,36,37,38,39,40,41,42,43,44,45,46,47,48,49],\"y\":[0.3,0.36,0.34,0.39,0.39,0.31,0.32,0.26,0.43,0.26,0.38,0.52,0.49,0.42,0.49,0.49,0.51,0.45,0.45,0.43,0.34,0.51,0.52,0.43,0.4,0.51,0.45,0.52,0.31,0.43,0.43,0.52,0.49,0.4,0.35,0.52,0.44,0.39,0.47,0.33,0.39,0.52,0.42,0.45,0.51,0.44,0.28,0.49,0.52,0.4],\"type\":\"scatter\",\"marker\":{\"color\":\"black\"}},{\"mode\":\"lines\",\"name\":\"Best Value\",\"x\":[0,1,2,3,4,5,6,7,8,9,10,11,12,13,14,15,16,17,18,19,20,21,22,23,24,25,26,27,28,29,30,31,32,33,34,35,36,37,38,39,40,41,42,43,44,45,46,47,48,49],\"y\":[0.3,0.36,0.36,0.39,0.39,0.39,0.39,0.39,0.43,0.43,0.43,0.52,0.52,0.52,0.52,0.52,0.52,0.52,0.52,0.52,0.52,0.52,0.52,0.52,0.52,0.52,0.52,0.52,0.52,0.52,0.52,0.52,0.52,0.52,0.52,0.52,0.52,0.52,0.52,0.52,0.52,0.52,0.52,0.52,0.52,0.52,0.52,0.52,0.52,0.52],\"type\":\"scatter\",\"marker\":{\"color\":\"black\"}},{\"marker\":{\"color\":\"black\"},\"mode\":\"markers\",\"name\":\"Infeasible Trial\",\"showlegend\":false,\"x\":[],\"y\":[],\"type\":\"scatter\"}],                        {\"title\":{\"text\":\"Optimization History\\u003cbr\\u003e\\u003csup\\u003erf\\u003c\\u002fsup\\u003e\",\"font\":{\"color\":\"black\",\"size\":20},\"x\":0},\"xaxis\":{\"title\":{\"text\":\"Trial\"}},\"yaxis\":{\"title\":{\"text\":\"Objective Value\"}},\"template\":{\"data\":{\"histogram2dcontour\":[{\"type\":\"histogram2dcontour\",\"colorbar\":{\"outlinewidth\":0,\"ticks\":\"\"},\"colorscale\":[[0.0,\"#0d0887\"],[0.1111111111111111,\"#46039f\"],[0.2222222222222222,\"#7201a8\"],[0.3333333333333333,\"#9c179e\"],[0.4444444444444444,\"#bd3786\"],[0.5555555555555556,\"#d8576b\"],[0.6666666666666666,\"#ed7953\"],[0.7777777777777778,\"#fb9f3a\"],[0.8888888888888888,\"#fdca26\"],[1.0,\"#f0f921\"]]}],\"choropleth\":[{\"type\":\"choropleth\",\"colorbar\":{\"outlinewidth\":0,\"ticks\":\"\"}}],\"histogram2d\":[{\"type\":\"histogram2d\",\"colorbar\":{\"outlinewidth\":0,\"ticks\":\"\"},\"colorscale\":[[0.0,\"#0d0887\"],[0.1111111111111111,\"#46039f\"],[0.2222222222222222,\"#7201a8\"],[0.3333333333333333,\"#9c179e\"],[0.4444444444444444,\"#bd3786\"],[0.5555555555555556,\"#d8576b\"],[0.6666666666666666,\"#ed7953\"],[0.7777777777777778,\"#fb9f3a\"],[0.8888888888888888,\"#fdca26\"],[1.0,\"#f0f921\"]]}],\"heatmap\":[{\"type\":\"heatmap\",\"colorbar\":{\"outlinewidth\":0,\"ticks\":\"\"},\"colorscale\":[[0.0,\"#0d0887\"],[0.1111111111111111,\"#46039f\"],[0.2222222222222222,\"#7201a8\"],[0.3333333333333333,\"#9c179e\"],[0.4444444444444444,\"#bd3786\"],[0.5555555555555556,\"#d8576b\"],[0.6666666666666666,\"#ed7953\"],[0.7777777777777778,\"#fb9f3a\"],[0.8888888888888888,\"#fdca26\"],[1.0,\"#f0f921\"]]}],\"heatmapgl\":[{\"type\":\"heatmapgl\",\"colorbar\":{\"outlinewidth\":0,\"ticks\":\"\"},\"colorscale\":[[0.0,\"#0d0887\"],[0.1111111111111111,\"#46039f\"],[0.2222222222222222,\"#7201a8\"],[0.3333333333333333,\"#9c179e\"],[0.4444444444444444,\"#bd3786\"],[0.5555555555555556,\"#d8576b\"],[0.6666666666666666,\"#ed7953\"],[0.7777777777777778,\"#fb9f3a\"],[0.8888888888888888,\"#fdca26\"],[1.0,\"#f0f921\"]]}],\"contourcarpet\":[{\"type\":\"contourcarpet\",\"colorbar\":{\"outlinewidth\":0,\"ticks\":\"\"}}],\"contour\":[{\"type\":\"contour\",\"colorbar\":{\"outlinewidth\":0,\"ticks\":\"\"},\"colorscale\":[[0.0,\"#0d0887\"],[0.1111111111111111,\"#46039f\"],[0.2222222222222222,\"#7201a8\"],[0.3333333333333333,\"#9c179e\"],[0.4444444444444444,\"#bd3786\"],[0.5555555555555556,\"#d8576b\"],[0.6666666666666666,\"#ed7953\"],[0.7777777777777778,\"#fb9f3a\"],[0.8888888888888888,\"#fdca26\"],[1.0,\"#f0f921\"]]}],\"surface\":[{\"type\":\"surface\",\"colorbar\":{\"outlinewidth\":0,\"ticks\":\"\"},\"colorscale\":[[0.0,\"#0d0887\"],[0.1111111111111111,\"#46039f\"],[0.2222222222222222,\"#7201a8\"],[0.3333333333333333,\"#9c179e\"],[0.4444444444444444,\"#bd3786\"],[0.5555555555555556,\"#d8576b\"],[0.6666666666666666,\"#ed7953\"],[0.7777777777777778,\"#fb9f3a\"],[0.8888888888888888,\"#fdca26\"],[1.0,\"#f0f921\"]]}],\"mesh3d\":[{\"type\":\"mesh3d\",\"colorbar\":{\"outlinewidth\":0,\"ticks\":\"\"}}],\"scatter\":[{\"fillpattern\":{\"fillmode\":\"overlay\",\"size\":10,\"solidity\":0.2},\"type\":\"scatter\"}],\"parcoords\":[{\"type\":\"parcoords\",\"line\":{\"colorbar\":{\"outlinewidth\":0,\"ticks\":\"\"}}}],\"scatterpolargl\":[{\"type\":\"scatterpolargl\",\"marker\":{\"colorbar\":{\"outlinewidth\":0,\"ticks\":\"\"}}}],\"bar\":[{\"error_x\":{\"color\":\"#2a3f5f\"},\"error_y\":{\"color\":\"#2a3f5f\"},\"marker\":{\"line\":{\"color\":\"#E5ECF6\",\"width\":0.5},\"pattern\":{\"fillmode\":\"overlay\",\"size\":10,\"solidity\":0.2}},\"type\":\"bar\"}],\"scattergeo\":[{\"type\":\"scattergeo\",\"marker\":{\"colorbar\":{\"outlinewidth\":0,\"ticks\":\"\"}}}],\"scatterpolar\":[{\"type\":\"scatterpolar\",\"marker\":{\"colorbar\":{\"outlinewidth\":0,\"ticks\":\"\"}}}],\"histogram\":[{\"marker\":{\"pattern\":{\"fillmode\":\"overlay\",\"size\":10,\"solidity\":0.2}},\"type\":\"histogram\"}],\"scattergl\":[{\"type\":\"scattergl\",\"marker\":{\"colorbar\":{\"outlinewidth\":0,\"ticks\":\"\"}}}],\"scatter3d\":[{\"type\":\"scatter3d\",\"line\":{\"colorbar\":{\"outlinewidth\":0,\"ticks\":\"\"}},\"marker\":{\"colorbar\":{\"outlinewidth\":0,\"ticks\":\"\"}}}],\"scattermapbox\":[{\"type\":\"scattermapbox\",\"marker\":{\"colorbar\":{\"outlinewidth\":0,\"ticks\":\"\"}}}],\"scatterternary\":[{\"type\":\"scatterternary\",\"marker\":{\"colorbar\":{\"outlinewidth\":0,\"ticks\":\"\"}}}],\"scattercarpet\":[{\"type\":\"scattercarpet\",\"marker\":{\"colorbar\":{\"outlinewidth\":0,\"ticks\":\"\"}}}],\"carpet\":[{\"aaxis\":{\"endlinecolor\":\"#2a3f5f\",\"gridcolor\":\"white\",\"linecolor\":\"white\",\"minorgridcolor\":\"white\",\"startlinecolor\":\"#2a3f5f\"},\"baxis\":{\"endlinecolor\":\"#2a3f5f\",\"gridcolor\":\"white\",\"linecolor\":\"white\",\"minorgridcolor\":\"white\",\"startlinecolor\":\"#2a3f5f\"},\"type\":\"carpet\"}],\"table\":[{\"cells\":{\"fill\":{\"color\":\"#EBF0F8\"},\"line\":{\"color\":\"white\"}},\"header\":{\"fill\":{\"color\":\"#C8D4E3\"},\"line\":{\"color\":\"white\"}},\"type\":\"table\"}],\"barpolar\":[{\"marker\":{\"line\":{\"color\":\"#E5ECF6\",\"width\":0.5},\"pattern\":{\"fillmode\":\"overlay\",\"size\":10,\"solidity\":0.2}},\"type\":\"barpolar\"}],\"pie\":[{\"automargin\":true,\"type\":\"pie\"}]},\"layout\":{\"autotypenumbers\":\"strict\",\"colorway\":[\"#636efa\",\"#EF553B\",\"#00cc96\",\"#ab63fa\",\"#FFA15A\",\"#19d3f3\",\"#FF6692\",\"#B6E880\",\"#FF97FF\",\"#FECB52\"],\"font\":{\"color\":\"#2a3f5f\"},\"hovermode\":\"closest\",\"hoverlabel\":{\"align\":\"left\"},\"paper_bgcolor\":\"white\",\"plot_bgcolor\":\"#E5ECF6\",\"polar\":{\"bgcolor\":\"#E5ECF6\",\"angularaxis\":{\"gridcolor\":\"white\",\"linecolor\":\"white\",\"ticks\":\"\"},\"radialaxis\":{\"gridcolor\":\"white\",\"linecolor\":\"white\",\"ticks\":\"\"}},\"ternary\":{\"bgcolor\":\"#E5ECF6\",\"aaxis\":{\"gridcolor\":\"white\",\"linecolor\":\"white\",\"ticks\":\"\"},\"baxis\":{\"gridcolor\":\"white\",\"linecolor\":\"white\",\"ticks\":\"\"},\"caxis\":{\"gridcolor\":\"white\",\"linecolor\":\"white\",\"ticks\":\"\"}},\"coloraxis\":{\"colorbar\":{\"outlinewidth\":0,\"ticks\":\"\"}},\"colorscale\":{\"sequential\":[[0.0,\"#0d0887\"],[0.1111111111111111,\"#46039f\"],[0.2222222222222222,\"#7201a8\"],[0.3333333333333333,\"#9c179e\"],[0.4444444444444444,\"#bd3786\"],[0.5555555555555556,\"#d8576b\"],[0.6666666666666666,\"#ed7953\"],[0.7777777777777778,\"#fb9f3a\"],[0.8888888888888888,\"#fdca26\"],[1.0,\"#f0f921\"]],\"sequentialminus\":[[0.0,\"#0d0887\"],[0.1111111111111111,\"#46039f\"],[0.2222222222222222,\"#7201a8\"],[0.3333333333333333,\"#9c179e\"],[0.4444444444444444,\"#bd3786\"],[0.5555555555555556,\"#d8576b\"],[0.6666666666666666,\"#ed7953\"],[0.7777777777777778,\"#fb9f3a\"],[0.8888888888888888,\"#fdca26\"],[1.0,\"#f0f921\"]],\"diverging\":[[0,\"#8e0152\"],[0.1,\"#c51b7d\"],[0.2,\"#de77ae\"],[0.3,\"#f1b6da\"],[0.4,\"#fde0ef\"],[0.5,\"#f7f7f7\"],[0.6,\"#e6f5d0\"],[0.7,\"#b8e186\"],[0.8,\"#7fbc41\"],[0.9,\"#4d9221\"],[1,\"#276419\"]]},\"xaxis\":{\"gridcolor\":\"white\",\"linecolor\":\"white\",\"ticks\":\"\",\"title\":{\"standoff\":15},\"zerolinecolor\":\"white\",\"automargin\":true,\"zerolinewidth\":2},\"yaxis\":{\"gridcolor\":\"white\",\"linecolor\":\"white\",\"ticks\":\"\",\"title\":{\"standoff\":15},\"zerolinecolor\":\"white\",\"automargin\":true,\"zerolinewidth\":2},\"scene\":{\"xaxis\":{\"backgroundcolor\":\"#E5ECF6\",\"gridcolor\":\"white\",\"linecolor\":\"white\",\"showbackground\":true,\"ticks\":\"\",\"zerolinecolor\":\"white\",\"gridwidth\":2},\"yaxis\":{\"backgroundcolor\":\"#E5ECF6\",\"gridcolor\":\"white\",\"linecolor\":\"white\",\"showbackground\":true,\"ticks\":\"\",\"zerolinecolor\":\"white\",\"gridwidth\":2},\"zaxis\":{\"backgroundcolor\":\"#E5ECF6\",\"gridcolor\":\"white\",\"linecolor\":\"white\",\"showbackground\":true,\"ticks\":\"\",\"zerolinecolor\":\"white\",\"gridwidth\":2}},\"shapedefaults\":{\"line\":{\"color\":\"#2a3f5f\"}},\"annotationdefaults\":{\"arrowcolor\":\"#2a3f5f\",\"arrowhead\":0,\"arrowwidth\":1},\"geo\":{\"bgcolor\":\"white\",\"landcolor\":\"#E5ECF6\",\"subunitcolor\":\"white\",\"showland\":true,\"showlakes\":true,\"lakecolor\":\"white\"},\"title\":{\"x\":0.05},\"mapbox\":{\"style\":\"light\"}}},\"font\":{\"family\":\"Times New Roman\"},\"plot_bgcolor\":\"rgba(0,0,0,0)\",\"paper_bgcolor\":\"rgba(0,0,0,0)\",\"width\":600,\"height\":500},                        {\"responsive\": true}                    ).then(function(){\n",
              "                            \n",
              "var gd = document.getElementById('943cdd11-44e2-423d-b33b-d9ab1e6ccf21');\n",
              "var x = new MutationObserver(function (mutations, observer) {{\n",
              "        var display = window.getComputedStyle(gd).display;\n",
              "        if (!display || display === 'none') {{\n",
              "            console.log([gd, 'removed!']);\n",
              "            Plotly.purge(gd);\n",
              "            observer.disconnect();\n",
              "        }}\n",
              "}});\n",
              "\n",
              "// Listen for the removal of the full notebook cells\n",
              "var notebookContainer = gd.closest('#notebook-container');\n",
              "if (notebookContainer) {{\n",
              "    x.observe(notebookContainer, {childList: true});\n",
              "}}\n",
              "\n",
              "// Listen for the clearing of the current output cell\n",
              "var outputEl = gd.closest('.output');\n",
              "if (outputEl) {{\n",
              "    x.observe(outputEl, {childList: true});\n",
              "}}\n",
              "\n",
              "                        })                };                            </script>        </div>\n",
              "</body>\n",
              "</html>"
            ]
          },
          "metadata": {}
        },
        {
          "output_type": "display_data",
          "data": {
            "text/html": [
              "<html>\n",
              "<head><meta charset=\"utf-8\" /></head>\n",
              "<body>\n",
              "    <div>            <script src=\"https://cdnjs.cloudflare.com/ajax/libs/mathjax/2.7.5/MathJax.js?config=TeX-AMS-MML_SVG\"></script><script type=\"text/javascript\">if (window.MathJax && window.MathJax.Hub && window.MathJax.Hub.Config) {window.MathJax.Hub.Config({SVG: {font: \"STIX-Web\"}});}</script>                <script type=\"text/javascript\">window.PlotlyConfig = {MathJaxConfig: 'local'};</script>\n",
              "        <script charset=\"utf-8\" src=\"https://cdn.plot.ly/plotly-2.24.1.min.js\"></script>                <div id=\"dee37a17-e325-4699-b9ce-340789823948\" class=\"plotly-graph-div\" style=\"height:500px; width:600px;\"></div>            <script type=\"text/javascript\">                                    window.PLOTLYENV=window.PLOTLYENV || {};                                    if (document.getElementById(\"dee37a17-e325-4699-b9ce-340789823948\")) {                    Plotly.newPlot(                        \"dee37a17-e325-4699-b9ce-340789823948\",                        [{\"cliponaxis\":false,\"hovertemplate\":[\"n_estimators (IntDistribution): 0.014467260296830202\\u003cextra\\u003e\\u003c\\u002fextra\\u003e\",\"max_depth (IntDistribution): 0.9855327397031698\\u003cextra\\u003e\\u003c\\u002fextra\\u003e\"],\"name\":\"Objective Value\",\"orientation\":\"h\",\"text\":[\"0.01\",\"0.99\"],\"textposition\":\"outside\",\"x\":[0.014467260296830202,0.9855327397031698],\"y\":[\"n_estimators\",\"max_depth\"],\"type\":\"bar\",\"marker\":{\"color\":\"black\"}}],                        {\"title\":{\"text\":\"Hyperparameters Importance\\u003cbr\\u003e\\u003csup\\u003erf\\u003c\\u002fsup\\u003e\",\"font\":{\"color\":\"black\",\"size\":20},\"x\":0},\"xaxis\":{\"title\":{\"text\":\"Hyperparameter Importance\"}},\"yaxis\":{\"title\":{\"text\":\"Hyperparameter\"}},\"template\":{\"data\":{\"histogram2dcontour\":[{\"type\":\"histogram2dcontour\",\"colorbar\":{\"outlinewidth\":0,\"ticks\":\"\"},\"colorscale\":[[0.0,\"#0d0887\"],[0.1111111111111111,\"#46039f\"],[0.2222222222222222,\"#7201a8\"],[0.3333333333333333,\"#9c179e\"],[0.4444444444444444,\"#bd3786\"],[0.5555555555555556,\"#d8576b\"],[0.6666666666666666,\"#ed7953\"],[0.7777777777777778,\"#fb9f3a\"],[0.8888888888888888,\"#fdca26\"],[1.0,\"#f0f921\"]]}],\"choropleth\":[{\"type\":\"choropleth\",\"colorbar\":{\"outlinewidth\":0,\"ticks\":\"\"}}],\"histogram2d\":[{\"type\":\"histogram2d\",\"colorbar\":{\"outlinewidth\":0,\"ticks\":\"\"},\"colorscale\":[[0.0,\"#0d0887\"],[0.1111111111111111,\"#46039f\"],[0.2222222222222222,\"#7201a8\"],[0.3333333333333333,\"#9c179e\"],[0.4444444444444444,\"#bd3786\"],[0.5555555555555556,\"#d8576b\"],[0.6666666666666666,\"#ed7953\"],[0.7777777777777778,\"#fb9f3a\"],[0.8888888888888888,\"#fdca26\"],[1.0,\"#f0f921\"]]}],\"heatmap\":[{\"type\":\"heatmap\",\"colorbar\":{\"outlinewidth\":0,\"ticks\":\"\"},\"colorscale\":[[0.0,\"#0d0887\"],[0.1111111111111111,\"#46039f\"],[0.2222222222222222,\"#7201a8\"],[0.3333333333333333,\"#9c179e\"],[0.4444444444444444,\"#bd3786\"],[0.5555555555555556,\"#d8576b\"],[0.6666666666666666,\"#ed7953\"],[0.7777777777777778,\"#fb9f3a\"],[0.8888888888888888,\"#fdca26\"],[1.0,\"#f0f921\"]]}],\"heatmapgl\":[{\"type\":\"heatmapgl\",\"colorbar\":{\"outlinewidth\":0,\"ticks\":\"\"},\"colorscale\":[[0.0,\"#0d0887\"],[0.1111111111111111,\"#46039f\"],[0.2222222222222222,\"#7201a8\"],[0.3333333333333333,\"#9c179e\"],[0.4444444444444444,\"#bd3786\"],[0.5555555555555556,\"#d8576b\"],[0.6666666666666666,\"#ed7953\"],[0.7777777777777778,\"#fb9f3a\"],[0.8888888888888888,\"#fdca26\"],[1.0,\"#f0f921\"]]}],\"contourcarpet\":[{\"type\":\"contourcarpet\",\"colorbar\":{\"outlinewidth\":0,\"ticks\":\"\"}}],\"contour\":[{\"type\":\"contour\",\"colorbar\":{\"outlinewidth\":0,\"ticks\":\"\"},\"colorscale\":[[0.0,\"#0d0887\"],[0.1111111111111111,\"#46039f\"],[0.2222222222222222,\"#7201a8\"],[0.3333333333333333,\"#9c179e\"],[0.4444444444444444,\"#bd3786\"],[0.5555555555555556,\"#d8576b\"],[0.6666666666666666,\"#ed7953\"],[0.7777777777777778,\"#fb9f3a\"],[0.8888888888888888,\"#fdca26\"],[1.0,\"#f0f921\"]]}],\"surface\":[{\"type\":\"surface\",\"colorbar\":{\"outlinewidth\":0,\"ticks\":\"\"},\"colorscale\":[[0.0,\"#0d0887\"],[0.1111111111111111,\"#46039f\"],[0.2222222222222222,\"#7201a8\"],[0.3333333333333333,\"#9c179e\"],[0.4444444444444444,\"#bd3786\"],[0.5555555555555556,\"#d8576b\"],[0.6666666666666666,\"#ed7953\"],[0.7777777777777778,\"#fb9f3a\"],[0.8888888888888888,\"#fdca26\"],[1.0,\"#f0f921\"]]}],\"mesh3d\":[{\"type\":\"mesh3d\",\"colorbar\":{\"outlinewidth\":0,\"ticks\":\"\"}}],\"scatter\":[{\"fillpattern\":{\"fillmode\":\"overlay\",\"size\":10,\"solidity\":0.2},\"type\":\"scatter\"}],\"parcoords\":[{\"type\":\"parcoords\",\"line\":{\"colorbar\":{\"outlinewidth\":0,\"ticks\":\"\"}}}],\"scatterpolargl\":[{\"type\":\"scatterpolargl\",\"marker\":{\"colorbar\":{\"outlinewidth\":0,\"ticks\":\"\"}}}],\"bar\":[{\"error_x\":{\"color\":\"#2a3f5f\"},\"error_y\":{\"color\":\"#2a3f5f\"},\"marker\":{\"line\":{\"color\":\"#E5ECF6\",\"width\":0.5},\"pattern\":{\"fillmode\":\"overlay\",\"size\":10,\"solidity\":0.2}},\"type\":\"bar\"}],\"scattergeo\":[{\"type\":\"scattergeo\",\"marker\":{\"colorbar\":{\"outlinewidth\":0,\"ticks\":\"\"}}}],\"scatterpolar\":[{\"type\":\"scatterpolar\",\"marker\":{\"colorbar\":{\"outlinewidth\":0,\"ticks\":\"\"}}}],\"histogram\":[{\"marker\":{\"pattern\":{\"fillmode\":\"overlay\",\"size\":10,\"solidity\":0.2}},\"type\":\"histogram\"}],\"scattergl\":[{\"type\":\"scattergl\",\"marker\":{\"colorbar\":{\"outlinewidth\":0,\"ticks\":\"\"}}}],\"scatter3d\":[{\"type\":\"scatter3d\",\"line\":{\"colorbar\":{\"outlinewidth\":0,\"ticks\":\"\"}},\"marker\":{\"colorbar\":{\"outlinewidth\":0,\"ticks\":\"\"}}}],\"scattermapbox\":[{\"type\":\"scattermapbox\",\"marker\":{\"colorbar\":{\"outlinewidth\":0,\"ticks\":\"\"}}}],\"scatterternary\":[{\"type\":\"scatterternary\",\"marker\":{\"colorbar\":{\"outlinewidth\":0,\"ticks\":\"\"}}}],\"scattercarpet\":[{\"type\":\"scattercarpet\",\"marker\":{\"colorbar\":{\"outlinewidth\":0,\"ticks\":\"\"}}}],\"carpet\":[{\"aaxis\":{\"endlinecolor\":\"#2a3f5f\",\"gridcolor\":\"white\",\"linecolor\":\"white\",\"minorgridcolor\":\"white\",\"startlinecolor\":\"#2a3f5f\"},\"baxis\":{\"endlinecolor\":\"#2a3f5f\",\"gridcolor\":\"white\",\"linecolor\":\"white\",\"minorgridcolor\":\"white\",\"startlinecolor\":\"#2a3f5f\"},\"type\":\"carpet\"}],\"table\":[{\"cells\":{\"fill\":{\"color\":\"#EBF0F8\"},\"line\":{\"color\":\"white\"}},\"header\":{\"fill\":{\"color\":\"#C8D4E3\"},\"line\":{\"color\":\"white\"}},\"type\":\"table\"}],\"barpolar\":[{\"marker\":{\"line\":{\"color\":\"#E5ECF6\",\"width\":0.5},\"pattern\":{\"fillmode\":\"overlay\",\"size\":10,\"solidity\":0.2}},\"type\":\"barpolar\"}],\"pie\":[{\"automargin\":true,\"type\":\"pie\"}]},\"layout\":{\"autotypenumbers\":\"strict\",\"colorway\":[\"#636efa\",\"#EF553B\",\"#00cc96\",\"#ab63fa\",\"#FFA15A\",\"#19d3f3\",\"#FF6692\",\"#B6E880\",\"#FF97FF\",\"#FECB52\"],\"font\":{\"color\":\"#2a3f5f\"},\"hovermode\":\"closest\",\"hoverlabel\":{\"align\":\"left\"},\"paper_bgcolor\":\"white\",\"plot_bgcolor\":\"#E5ECF6\",\"polar\":{\"bgcolor\":\"#E5ECF6\",\"angularaxis\":{\"gridcolor\":\"white\",\"linecolor\":\"white\",\"ticks\":\"\"},\"radialaxis\":{\"gridcolor\":\"white\",\"linecolor\":\"white\",\"ticks\":\"\"}},\"ternary\":{\"bgcolor\":\"#E5ECF6\",\"aaxis\":{\"gridcolor\":\"white\",\"linecolor\":\"white\",\"ticks\":\"\"},\"baxis\":{\"gridcolor\":\"white\",\"linecolor\":\"white\",\"ticks\":\"\"},\"caxis\":{\"gridcolor\":\"white\",\"linecolor\":\"white\",\"ticks\":\"\"}},\"coloraxis\":{\"colorbar\":{\"outlinewidth\":0,\"ticks\":\"\"}},\"colorscale\":{\"sequential\":[[0.0,\"#0d0887\"],[0.1111111111111111,\"#46039f\"],[0.2222222222222222,\"#7201a8\"],[0.3333333333333333,\"#9c179e\"],[0.4444444444444444,\"#bd3786\"],[0.5555555555555556,\"#d8576b\"],[0.6666666666666666,\"#ed7953\"],[0.7777777777777778,\"#fb9f3a\"],[0.8888888888888888,\"#fdca26\"],[1.0,\"#f0f921\"]],\"sequentialminus\":[[0.0,\"#0d0887\"],[0.1111111111111111,\"#46039f\"],[0.2222222222222222,\"#7201a8\"],[0.3333333333333333,\"#9c179e\"],[0.4444444444444444,\"#bd3786\"],[0.5555555555555556,\"#d8576b\"],[0.6666666666666666,\"#ed7953\"],[0.7777777777777778,\"#fb9f3a\"],[0.8888888888888888,\"#fdca26\"],[1.0,\"#f0f921\"]],\"diverging\":[[0,\"#8e0152\"],[0.1,\"#c51b7d\"],[0.2,\"#de77ae\"],[0.3,\"#f1b6da\"],[0.4,\"#fde0ef\"],[0.5,\"#f7f7f7\"],[0.6,\"#e6f5d0\"],[0.7,\"#b8e186\"],[0.8,\"#7fbc41\"],[0.9,\"#4d9221\"],[1,\"#276419\"]]},\"xaxis\":{\"gridcolor\":\"white\",\"linecolor\":\"white\",\"ticks\":\"\",\"title\":{\"standoff\":15},\"zerolinecolor\":\"white\",\"automargin\":true,\"zerolinewidth\":2},\"yaxis\":{\"gridcolor\":\"white\",\"linecolor\":\"white\",\"ticks\":\"\",\"title\":{\"standoff\":15},\"zerolinecolor\":\"white\",\"automargin\":true,\"zerolinewidth\":2},\"scene\":{\"xaxis\":{\"backgroundcolor\":\"#E5ECF6\",\"gridcolor\":\"white\",\"linecolor\":\"white\",\"showbackground\":true,\"ticks\":\"\",\"zerolinecolor\":\"white\",\"gridwidth\":2},\"yaxis\":{\"backgroundcolor\":\"#E5ECF6\",\"gridcolor\":\"white\",\"linecolor\":\"white\",\"showbackground\":true,\"ticks\":\"\",\"zerolinecolor\":\"white\",\"gridwidth\":2},\"zaxis\":{\"backgroundcolor\":\"#E5ECF6\",\"gridcolor\":\"white\",\"linecolor\":\"white\",\"showbackground\":true,\"ticks\":\"\",\"zerolinecolor\":\"white\",\"gridwidth\":2}},\"shapedefaults\":{\"line\":{\"color\":\"#2a3f5f\"}},\"annotationdefaults\":{\"arrowcolor\":\"#2a3f5f\",\"arrowhead\":0,\"arrowwidth\":1},\"geo\":{\"bgcolor\":\"white\",\"landcolor\":\"#E5ECF6\",\"subunitcolor\":\"white\",\"showland\":true,\"showlakes\":true,\"lakecolor\":\"white\"},\"title\":{\"x\":0.05},\"mapbox\":{\"style\":\"light\"}}},\"font\":{\"family\":\"Times New Roman\"},\"plot_bgcolor\":\"rgba(0,0,0,0)\",\"paper_bgcolor\":\"rgba(0,0,0,0)\",\"width\":600,\"height\":500},                        {\"responsive\": true}                    ).then(function(){\n",
              "                            \n",
              "var gd = document.getElementById('dee37a17-e325-4699-b9ce-340789823948');\n",
              "var x = new MutationObserver(function (mutations, observer) {{\n",
              "        var display = window.getComputedStyle(gd).display;\n",
              "        if (!display || display === 'none') {{\n",
              "            console.log([gd, 'removed!']);\n",
              "            Plotly.purge(gd);\n",
              "            observer.disconnect();\n",
              "        }}\n",
              "}});\n",
              "\n",
              "// Listen for the removal of the full notebook cells\n",
              "var notebookContainer = gd.closest('#notebook-container');\n",
              "if (notebookContainer) {{\n",
              "    x.observe(notebookContainer, {childList: true});\n",
              "}}\n",
              "\n",
              "// Listen for the clearing of the current output cell\n",
              "var outputEl = gd.closest('.output');\n",
              "if (outputEl) {{\n",
              "    x.observe(outputEl, {childList: true});\n",
              "}}\n",
              "\n",
              "                        })                };                            </script>        </div>\n",
              "</body>\n",
              "</html>"
            ]
          },
          "metadata": {}
        },
        {
          "output_type": "stream",
          "name": "stdout",
          "text": [
            "----------------------------------------------------------------------\n",
            "mlp\n"
          ]
        },
        {
          "output_type": "stream",
          "name": "stderr",
          "text": [
            "[W 2023-12-07 21:13:58,005] Trial 4 failed with parameters: {'hidden_layer_sizes': 140, 'activation': 'identity', 'solver': 'sgd', 'alpha': 0.0007530891160231476, 'learning_rate': 'adaptive'} because of the following error: ValueError('Solver produced non-finite parameter weights. The input data may contain large values and need to be preprocessed.').\n",
            "Traceback (most recent call last):\n",
            "  File \"/usr/local/lib/python3.10/dist-packages/optuna/study/_optimize.py\", line 200, in _run_trial\n",
            "    value_or_values = func(trial)\n",
            "  File \"/content/drive/MyDrive/ThesisFinal/supervised.py\", line 125, in objective\n",
            "    model.fit(x_train, y_train)\n",
            "  File \"/usr/local/lib/python3.10/dist-packages/sklearn/neural_network/_multilayer_perceptron.py\", line 749, in fit\n",
            "    return self._fit(X, y, incremental=False)\n",
            "  File \"/usr/local/lib/python3.10/dist-packages/sklearn/neural_network/_multilayer_perceptron.py\", line 491, in _fit\n",
            "    raise ValueError(\n",
            "ValueError: Solver produced non-finite parameter weights. The input data may contain large values and need to be preprocessed.\n",
            "[W 2023-12-07 21:13:58,014] Trial 4 failed with value None.\n"
          ]
        },
        {
          "output_type": "error",
          "ename": "ValueError",
          "evalue": "ignored",
          "traceback": [
            "\u001b[0;31m---------------------------------------------------------------------------\u001b[0m",
            "\u001b[0;31mValueError\u001b[0m                                Traceback (most recent call last)",
            "\u001b[0;32m<timed exec>\u001b[0m in \u001b[0;36m<module>\u001b[0;34m\u001b[0m\n",
            "\u001b[0;32m/content/drive/MyDrive/ThesisFinal/supervised.py\u001b[0m in \u001b[0;36msupervised_fintune\u001b[0;34m(model_name, problem, model_dir, x_train, y_train, x_valid, y_valid, sample_weights)\u001b[0m\n\u001b[1;32m    145\u001b[0m \u001b[0;34m\u001b[0m\u001b[0m\n\u001b[1;32m    146\u001b[0m     \u001b[0;31m# Run the optimization\u001b[0m\u001b[0;34m\u001b[0m\u001b[0;34m\u001b[0m\u001b[0m\n\u001b[0;32m--> 147\u001b[0;31m     \u001b[0mstudy\u001b[0m\u001b[0;34m.\u001b[0m\u001b[0moptimize\u001b[0m\u001b[0;34m(\u001b[0m\u001b[0mobjective\u001b[0m\u001b[0;34m,\u001b[0m \u001b[0mn_trials\u001b[0m\u001b[0;34m=\u001b[0m\u001b[0;36m50\u001b[0m\u001b[0;34m)\u001b[0m\u001b[0;34m\u001b[0m\u001b[0;34m\u001b[0m\u001b[0m\n\u001b[0m\u001b[1;32m    148\u001b[0m \u001b[0;34m\u001b[0m\u001b[0m\n\u001b[1;32m    149\u001b[0m     \u001b[0;31m# Get the best hyperparameters and the best objective value\u001b[0m\u001b[0;34m\u001b[0m\u001b[0;34m\u001b[0m\u001b[0m\n",
            "\u001b[0;32m/usr/local/lib/python3.10/dist-packages/optuna/study/study.py\u001b[0m in \u001b[0;36moptimize\u001b[0;34m(self, func, n_trials, timeout, n_jobs, catch, callbacks, gc_after_trial, show_progress_bar)\u001b[0m\n\u001b[1;32m    449\u001b[0m                 \u001b[0mIf\u001b[0m \u001b[0mnested\u001b[0m \u001b[0minvocation\u001b[0m \u001b[0mof\u001b[0m \u001b[0mthis\u001b[0m \u001b[0mmethod\u001b[0m \u001b[0moccurs\u001b[0m\u001b[0;34m.\u001b[0m\u001b[0;34m\u001b[0m\u001b[0;34m\u001b[0m\u001b[0m\n\u001b[1;32m    450\u001b[0m         \"\"\"\n\u001b[0;32m--> 451\u001b[0;31m         _optimize(\n\u001b[0m\u001b[1;32m    452\u001b[0m             \u001b[0mstudy\u001b[0m\u001b[0;34m=\u001b[0m\u001b[0mself\u001b[0m\u001b[0;34m,\u001b[0m\u001b[0;34m\u001b[0m\u001b[0;34m\u001b[0m\u001b[0m\n\u001b[1;32m    453\u001b[0m             \u001b[0mfunc\u001b[0m\u001b[0;34m=\u001b[0m\u001b[0mfunc\u001b[0m\u001b[0;34m,\u001b[0m\u001b[0;34m\u001b[0m\u001b[0;34m\u001b[0m\u001b[0m\n",
            "\u001b[0;32m/usr/local/lib/python3.10/dist-packages/optuna/study/_optimize.py\u001b[0m in \u001b[0;36m_optimize\u001b[0;34m(study, func, n_trials, timeout, n_jobs, catch, callbacks, gc_after_trial, show_progress_bar)\u001b[0m\n\u001b[1;32m     64\u001b[0m     \u001b[0;32mtry\u001b[0m\u001b[0;34m:\u001b[0m\u001b[0;34m\u001b[0m\u001b[0;34m\u001b[0m\u001b[0m\n\u001b[1;32m     65\u001b[0m         \u001b[0;32mif\u001b[0m \u001b[0mn_jobs\u001b[0m \u001b[0;34m==\u001b[0m \u001b[0;36m1\u001b[0m\u001b[0;34m:\u001b[0m\u001b[0;34m\u001b[0m\u001b[0;34m\u001b[0m\u001b[0m\n\u001b[0;32m---> 66\u001b[0;31m             _optimize_sequential(\n\u001b[0m\u001b[1;32m     67\u001b[0m                 \u001b[0mstudy\u001b[0m\u001b[0;34m,\u001b[0m\u001b[0;34m\u001b[0m\u001b[0;34m\u001b[0m\u001b[0m\n\u001b[1;32m     68\u001b[0m                 \u001b[0mfunc\u001b[0m\u001b[0;34m,\u001b[0m\u001b[0;34m\u001b[0m\u001b[0;34m\u001b[0m\u001b[0m\n",
            "\u001b[0;32m/usr/local/lib/python3.10/dist-packages/optuna/study/_optimize.py\u001b[0m in \u001b[0;36m_optimize_sequential\u001b[0;34m(study, func, n_trials, timeout, catch, callbacks, gc_after_trial, reseed_sampler_rng, time_start, progress_bar)\u001b[0m\n\u001b[1;32m    161\u001b[0m \u001b[0;34m\u001b[0m\u001b[0m\n\u001b[1;32m    162\u001b[0m         \u001b[0;32mtry\u001b[0m\u001b[0;34m:\u001b[0m\u001b[0;34m\u001b[0m\u001b[0;34m\u001b[0m\u001b[0m\n\u001b[0;32m--> 163\u001b[0;31m             \u001b[0mfrozen_trial\u001b[0m \u001b[0;34m=\u001b[0m \u001b[0m_run_trial\u001b[0m\u001b[0;34m(\u001b[0m\u001b[0mstudy\u001b[0m\u001b[0;34m,\u001b[0m \u001b[0mfunc\u001b[0m\u001b[0;34m,\u001b[0m \u001b[0mcatch\u001b[0m\u001b[0;34m)\u001b[0m\u001b[0;34m\u001b[0m\u001b[0;34m\u001b[0m\u001b[0m\n\u001b[0m\u001b[1;32m    164\u001b[0m         \u001b[0;32mfinally\u001b[0m\u001b[0;34m:\u001b[0m\u001b[0;34m\u001b[0m\u001b[0;34m\u001b[0m\u001b[0m\n\u001b[1;32m    165\u001b[0m             \u001b[0;31m# The following line mitigates memory problems that can be occurred in some\u001b[0m\u001b[0;34m\u001b[0m\u001b[0;34m\u001b[0m\u001b[0m\n",
            "\u001b[0;32m/usr/local/lib/python3.10/dist-packages/optuna/study/_optimize.py\u001b[0m in \u001b[0;36m_run_trial\u001b[0;34m(study, func, catch)\u001b[0m\n\u001b[1;32m    249\u001b[0m         \u001b[0;32mand\u001b[0m \u001b[0;32mnot\u001b[0m \u001b[0misinstance\u001b[0m\u001b[0;34m(\u001b[0m\u001b[0mfunc_err\u001b[0m\u001b[0;34m,\u001b[0m \u001b[0mcatch\u001b[0m\u001b[0;34m)\u001b[0m\u001b[0;34m\u001b[0m\u001b[0;34m\u001b[0m\u001b[0m\n\u001b[1;32m    250\u001b[0m     ):\n\u001b[0;32m--> 251\u001b[0;31m         \u001b[0;32mraise\u001b[0m \u001b[0mfunc_err\u001b[0m\u001b[0;34m\u001b[0m\u001b[0;34m\u001b[0m\u001b[0m\n\u001b[0m\u001b[1;32m    252\u001b[0m     \u001b[0;32mreturn\u001b[0m \u001b[0mfrozen_trial\u001b[0m\u001b[0;34m\u001b[0m\u001b[0;34m\u001b[0m\u001b[0m\n\u001b[1;32m    253\u001b[0m \u001b[0;34m\u001b[0m\u001b[0m\n",
            "\u001b[0;32m/usr/local/lib/python3.10/dist-packages/optuna/study/_optimize.py\u001b[0m in \u001b[0;36m_run_trial\u001b[0;34m(study, func, catch)\u001b[0m\n\u001b[1;32m    198\u001b[0m     \u001b[0;32mwith\u001b[0m \u001b[0mget_heartbeat_thread\u001b[0m\u001b[0;34m(\u001b[0m\u001b[0mtrial\u001b[0m\u001b[0;34m.\u001b[0m\u001b[0m_trial_id\u001b[0m\u001b[0;34m,\u001b[0m \u001b[0mstudy\u001b[0m\u001b[0;34m.\u001b[0m\u001b[0m_storage\u001b[0m\u001b[0;34m)\u001b[0m\u001b[0;34m:\u001b[0m\u001b[0;34m\u001b[0m\u001b[0;34m\u001b[0m\u001b[0m\n\u001b[1;32m    199\u001b[0m         \u001b[0;32mtry\u001b[0m\u001b[0;34m:\u001b[0m\u001b[0;34m\u001b[0m\u001b[0;34m\u001b[0m\u001b[0m\n\u001b[0;32m--> 200\u001b[0;31m             \u001b[0mvalue_or_values\u001b[0m \u001b[0;34m=\u001b[0m \u001b[0mfunc\u001b[0m\u001b[0;34m(\u001b[0m\u001b[0mtrial\u001b[0m\u001b[0;34m)\u001b[0m\u001b[0;34m\u001b[0m\u001b[0;34m\u001b[0m\u001b[0m\n\u001b[0m\u001b[1;32m    201\u001b[0m         \u001b[0;32mexcept\u001b[0m \u001b[0mexceptions\u001b[0m\u001b[0;34m.\u001b[0m\u001b[0mTrialPruned\u001b[0m \u001b[0;32mas\u001b[0m \u001b[0me\u001b[0m\u001b[0;34m:\u001b[0m\u001b[0;34m\u001b[0m\u001b[0;34m\u001b[0m\u001b[0m\n\u001b[1;32m    202\u001b[0m             \u001b[0;31m# TODO(mamu): Handle multi-objective cases.\u001b[0m\u001b[0;34m\u001b[0m\u001b[0;34m\u001b[0m\u001b[0m\n",
            "\u001b[0;32m/content/drive/MyDrive/ThesisFinal/supervised.py\u001b[0m in \u001b[0;36mobjective\u001b[0;34m(trial)\u001b[0m\n\u001b[1;32m    123\u001b[0m             \u001b[0mmodel\u001b[0m \u001b[0;34m=\u001b[0m \u001b[0mMLPClassifier\u001b[0m\u001b[0;34m(\u001b[0m\u001b[0mhidden_layer_sizes\u001b[0m\u001b[0;34m=\u001b[0m\u001b[0mhidden_layer_sizes\u001b[0m\u001b[0;34m,\u001b[0m \u001b[0mactivation\u001b[0m\u001b[0;34m=\u001b[0m\u001b[0mactivation\u001b[0m\u001b[0;34m,\u001b[0m \u001b[0msolver\u001b[0m\u001b[0;34m=\u001b[0m\u001b[0msolver\u001b[0m\u001b[0;34m,\u001b[0m \u001b[0malpha\u001b[0m\u001b[0;34m=\u001b[0m\u001b[0malpha\u001b[0m\u001b[0;34m,\u001b[0m \u001b[0mlearning_rate\u001b[0m\u001b[0;34m=\u001b[0m\u001b[0mlearning_rate\u001b[0m\u001b[0;34m,\u001b[0m \u001b[0mrandom_state\u001b[0m\u001b[0;34m=\u001b[0m\u001b[0;36m42\u001b[0m\u001b[0;34m,\u001b[0m \u001b[0mmax_iter\u001b[0m\u001b[0;34m=\u001b[0m\u001b[0;36m100\u001b[0m\u001b[0;34m)\u001b[0m\u001b[0;34m\u001b[0m\u001b[0;34m\u001b[0m\u001b[0m\n\u001b[1;32m    124\u001b[0m         \u001b[0;31m# Train the model and make predictions\u001b[0m\u001b[0;34m\u001b[0m\u001b[0;34m\u001b[0m\u001b[0m\n\u001b[0;32m--> 125\u001b[0;31m         \u001b[0mmodel\u001b[0m\u001b[0;34m.\u001b[0m\u001b[0mfit\u001b[0m\u001b[0;34m(\u001b[0m\u001b[0mx_train\u001b[0m\u001b[0;34m,\u001b[0m \u001b[0my_train\u001b[0m\u001b[0;34m)\u001b[0m\u001b[0;34m\u001b[0m\u001b[0;34m\u001b[0m\u001b[0m\n\u001b[0m\u001b[1;32m    126\u001b[0m         \u001b[0mtrial\u001b[0m\u001b[0;34m.\u001b[0m\u001b[0mset_user_attr\u001b[0m\u001b[0;34m(\u001b[0m\u001b[0;34m'model'\u001b[0m\u001b[0;34m,\u001b[0m \u001b[0mmodel\u001b[0m\u001b[0;34m)\u001b[0m\u001b[0;34m\u001b[0m\u001b[0;34m\u001b[0m\u001b[0m\n\u001b[1;32m    127\u001b[0m \u001b[0;34m\u001b[0m\u001b[0m\n",
            "\u001b[0;32m/usr/local/lib/python3.10/dist-packages/sklearn/neural_network/_multilayer_perceptron.py\u001b[0m in \u001b[0;36mfit\u001b[0;34m(self, X, y)\u001b[0m\n\u001b[1;32m    747\u001b[0m         \u001b[0mself\u001b[0m\u001b[0;34m.\u001b[0m\u001b[0m_validate_params\u001b[0m\u001b[0;34m(\u001b[0m\u001b[0;34m)\u001b[0m\u001b[0;34m\u001b[0m\u001b[0;34m\u001b[0m\u001b[0m\n\u001b[1;32m    748\u001b[0m \u001b[0;34m\u001b[0m\u001b[0m\n\u001b[0;32m--> 749\u001b[0;31m         \u001b[0;32mreturn\u001b[0m \u001b[0mself\u001b[0m\u001b[0;34m.\u001b[0m\u001b[0m_fit\u001b[0m\u001b[0;34m(\u001b[0m\u001b[0mX\u001b[0m\u001b[0;34m,\u001b[0m \u001b[0my\u001b[0m\u001b[0;34m,\u001b[0m \u001b[0mincremental\u001b[0m\u001b[0;34m=\u001b[0m\u001b[0;32mFalse\u001b[0m\u001b[0;34m)\u001b[0m\u001b[0;34m\u001b[0m\u001b[0;34m\u001b[0m\u001b[0m\n\u001b[0m\u001b[1;32m    750\u001b[0m \u001b[0;34m\u001b[0m\u001b[0m\n\u001b[1;32m    751\u001b[0m     \u001b[0;32mdef\u001b[0m \u001b[0m_check_solver\u001b[0m\u001b[0;34m(\u001b[0m\u001b[0mself\u001b[0m\u001b[0;34m)\u001b[0m\u001b[0;34m:\u001b[0m\u001b[0;34m\u001b[0m\u001b[0;34m\u001b[0m\u001b[0m\n",
            "\u001b[0;32m/usr/local/lib/python3.10/dist-packages/sklearn/neural_network/_multilayer_perceptron.py\u001b[0m in \u001b[0;36m_fit\u001b[0;34m(self, X, y, incremental)\u001b[0m\n\u001b[1;32m    489\u001b[0m         \u001b[0mweights\u001b[0m \u001b[0;34m=\u001b[0m \u001b[0mchain\u001b[0m\u001b[0;34m(\u001b[0m\u001b[0mself\u001b[0m\u001b[0;34m.\u001b[0m\u001b[0mcoefs_\u001b[0m\u001b[0;34m,\u001b[0m \u001b[0mself\u001b[0m\u001b[0;34m.\u001b[0m\u001b[0mintercepts_\u001b[0m\u001b[0;34m)\u001b[0m\u001b[0;34m\u001b[0m\u001b[0;34m\u001b[0m\u001b[0m\n\u001b[1;32m    490\u001b[0m         \u001b[0;32mif\u001b[0m \u001b[0;32mnot\u001b[0m \u001b[0mall\u001b[0m\u001b[0;34m(\u001b[0m\u001b[0mnp\u001b[0m\u001b[0;34m.\u001b[0m\u001b[0misfinite\u001b[0m\u001b[0;34m(\u001b[0m\u001b[0mw\u001b[0m\u001b[0;34m)\u001b[0m\u001b[0;34m.\u001b[0m\u001b[0mall\u001b[0m\u001b[0;34m(\u001b[0m\u001b[0;34m)\u001b[0m \u001b[0;32mfor\u001b[0m \u001b[0mw\u001b[0m \u001b[0;32min\u001b[0m \u001b[0mweights\u001b[0m\u001b[0;34m)\u001b[0m\u001b[0;34m:\u001b[0m\u001b[0;34m\u001b[0m\u001b[0;34m\u001b[0m\u001b[0m\n\u001b[0;32m--> 491\u001b[0;31m             raise ValueError(\n\u001b[0m\u001b[1;32m    492\u001b[0m                 \u001b[0;34m\"Solver produced non-finite parameter weights. The input data may\"\u001b[0m\u001b[0;34m\u001b[0m\u001b[0;34m\u001b[0m\u001b[0m\n\u001b[1;32m    493\u001b[0m                 \u001b[0;34m\" contain large values and need to be preprocessed.\"\u001b[0m\u001b[0;34m\u001b[0m\u001b[0;34m\u001b[0m\u001b[0m\n",
            "\u001b[0;31mValueError\u001b[0m: Solver produced non-finite parameter weights. The input data may contain large values and need to be preprocessed."
          ]
        }
      ],
      "source": [
        "%%time\n",
        "####################### mlp 报错了，回头再调整 #######################################\n",
        "model_lst = ['lr','xgb','rf','mlp']\n",
        "best_models_ct = []\n",
        "problem = 'multiclass'\n",
        "model_dir = '/content/drive/MyDrive/ThesisFinal/experiment3/experiment3/ctgan+'\n",
        "sample_weights = compute_sample_weight(class_weight='balanced',y=ct_y_train['industry'])\n",
        "for model in model_lst:\n",
        "  print(model)\n",
        "  sub_best = supervised_fintune(model,problem,model_dir,ct_X_train,ct_y_train,X_valid[keep_feas],y_valid,sample_weights)\n",
        "  best_models_ct.append(sub_best)\n",
        "  print('-'*70)"
      ]
    },
    {
      "cell_type": "code",
      "source": [
        "model_dir = '/content/drive/MyDrive/ThesisFinal/experiment3/experiment3/ctgan+'\n",
        "bmc_path=os.path.join(model_dir,\"bmc.pkl\")\n",
        "\n",
        "# ###################### dump #####################\n",
        "# with open(bmc_path,\"wb\") as file:\n",
        "#   pickle.dump(best_models_ct,file)\n",
        "# ###################################################\n",
        "\n",
        "####################load##########################\n",
        "with open(bmc_path,\"rb\") as file:\n",
        "  best_models_ct=pickle.load(file)\n",
        "##################################################"
      ],
      "metadata": {
        "id": "g0FQ1OduGgqU"
      },
      "execution_count": null,
      "outputs": []
    },
    {
      "cell_type": "code",
      "execution_count": null,
      "metadata": {
        "id": "pZBUArYrbCFe",
        "colab": {
          "base_uri": "https://localhost:8080/",
          "height": 1000
        },
        "outputId": "7652b4a3-5552-415c-e111-f38916a853c1"
      },
      "outputs": [
        {
          "output_type": "display_data",
          "data": {
            "text/plain": [
              "LogisticRegression(C=0.02612927831406337, class_weight='balanced', max_iter=500,\n",
              "                   random_state=42)"
            ],
            "text/html": [
              "<style>#sk-container-id-1 {color: black;background-color: white;}#sk-container-id-1 pre{padding: 0;}#sk-container-id-1 div.sk-toggleable {background-color: white;}#sk-container-id-1 label.sk-toggleable__label {cursor: pointer;display: block;width: 100%;margin-bottom: 0;padding: 0.3em;box-sizing: border-box;text-align: center;}#sk-container-id-1 label.sk-toggleable__label-arrow:before {content: \"▸\";float: left;margin-right: 0.25em;color: #696969;}#sk-container-id-1 label.sk-toggleable__label-arrow:hover:before {color: black;}#sk-container-id-1 div.sk-estimator:hover label.sk-toggleable__label-arrow:before {color: black;}#sk-container-id-1 div.sk-toggleable__content {max-height: 0;max-width: 0;overflow: hidden;text-align: left;background-color: #f0f8ff;}#sk-container-id-1 div.sk-toggleable__content pre {margin: 0.2em;color: black;border-radius: 0.25em;background-color: #f0f8ff;}#sk-container-id-1 input.sk-toggleable__control:checked~div.sk-toggleable__content {max-height: 200px;max-width: 100%;overflow: auto;}#sk-container-id-1 input.sk-toggleable__control:checked~label.sk-toggleable__label-arrow:before {content: \"▾\";}#sk-container-id-1 div.sk-estimator input.sk-toggleable__control:checked~label.sk-toggleable__label {background-color: #d4ebff;}#sk-container-id-1 div.sk-label input.sk-toggleable__control:checked~label.sk-toggleable__label {background-color: #d4ebff;}#sk-container-id-1 input.sk-hidden--visually {border: 0;clip: rect(1px 1px 1px 1px);clip: rect(1px, 1px, 1px, 1px);height: 1px;margin: -1px;overflow: hidden;padding: 0;position: absolute;width: 1px;}#sk-container-id-1 div.sk-estimator {font-family: monospace;background-color: #f0f8ff;border: 1px dotted black;border-radius: 0.25em;box-sizing: border-box;margin-bottom: 0.5em;}#sk-container-id-1 div.sk-estimator:hover {background-color: #d4ebff;}#sk-container-id-1 div.sk-parallel-item::after {content: \"\";width: 100%;border-bottom: 1px solid gray;flex-grow: 1;}#sk-container-id-1 div.sk-label:hover label.sk-toggleable__label {background-color: #d4ebff;}#sk-container-id-1 div.sk-serial::before {content: \"\";position: absolute;border-left: 1px solid gray;box-sizing: border-box;top: 0;bottom: 0;left: 50%;z-index: 0;}#sk-container-id-1 div.sk-serial {display: flex;flex-direction: column;align-items: center;background-color: white;padding-right: 0.2em;padding-left: 0.2em;position: relative;}#sk-container-id-1 div.sk-item {position: relative;z-index: 1;}#sk-container-id-1 div.sk-parallel {display: flex;align-items: stretch;justify-content: center;background-color: white;position: relative;}#sk-container-id-1 div.sk-item::before, #sk-container-id-1 div.sk-parallel-item::before {content: \"\";position: absolute;border-left: 1px solid gray;box-sizing: border-box;top: 0;bottom: 0;left: 50%;z-index: -1;}#sk-container-id-1 div.sk-parallel-item {display: flex;flex-direction: column;z-index: 1;position: relative;background-color: white;}#sk-container-id-1 div.sk-parallel-item:first-child::after {align-self: flex-end;width: 50%;}#sk-container-id-1 div.sk-parallel-item:last-child::after {align-self: flex-start;width: 50%;}#sk-container-id-1 div.sk-parallel-item:only-child::after {width: 0;}#sk-container-id-1 div.sk-dashed-wrapped {border: 1px dashed gray;margin: 0 0.4em 0.5em 0.4em;box-sizing: border-box;padding-bottom: 0.4em;background-color: white;}#sk-container-id-1 div.sk-label label {font-family: monospace;font-weight: bold;display: inline-block;line-height: 1.2em;}#sk-container-id-1 div.sk-label-container {text-align: center;}#sk-container-id-1 div.sk-container {/* jupyter's `normalize.less` sets `[hidden] { display: none; }` but bootstrap.min.css set `[hidden] { display: none !important; }` so we also need the `!important` here to be able to override the default hidden behavior on the sphinx rendered scikit-learn.org. See: https://github.com/scikit-learn/scikit-learn/issues/21755 */display: inline-block !important;position: relative;}#sk-container-id-1 div.sk-text-repr-fallback {display: none;}</style><div id=\"sk-container-id-1\" class=\"sk-top-container\"><div class=\"sk-text-repr-fallback\"><pre>LogisticRegression(C=0.02612927831406337, class_weight=&#x27;balanced&#x27;, max_iter=500,\n",
              "                   random_state=42)</pre><b>In a Jupyter environment, please rerun this cell to show the HTML representation or trust the notebook. <br />On GitHub, the HTML representation is unable to render, please try loading this page with nbviewer.org.</b></div><div class=\"sk-container\" hidden><div class=\"sk-item\"><div class=\"sk-estimator sk-toggleable\"><input class=\"sk-toggleable__control sk-hidden--visually\" id=\"sk-estimator-id-1\" type=\"checkbox\" checked><label for=\"sk-estimator-id-1\" class=\"sk-toggleable__label sk-toggleable__label-arrow\">LogisticRegression</label><div class=\"sk-toggleable__content\"><pre>LogisticRegression(C=0.02612927831406337, class_weight=&#x27;balanced&#x27;, max_iter=500,\n",
              "                   random_state=42)</pre></div></div></div></div></div>"
            ]
          },
          "metadata": {}
        },
        {
          "output_type": "stream",
          "name": "stdout",
          "text": [
            "              precision    recall  f1-score   support\n",
            "\n",
            "         0.0       0.35      0.49      0.41       243\n",
            "         1.0       0.19      0.10      0.13       112\n",
            "         2.0       0.16      0.39      0.22       118\n",
            "         3.0       0.07      0.01      0.02       107\n",
            "         4.0       0.29      0.04      0.07        95\n",
            "         5.0       0.17      0.04      0.06        26\n",
            "         6.0       0.00      0.00      0.00        26\n",
            "\n",
            "    accuracy                           0.25       727\n",
            "   macro avg       0.17      0.15      0.13       727\n",
            "weighted avg       0.23      0.25      0.21       727\n",
            "\n"
          ]
        },
        {
          "output_type": "display_data",
          "data": {
            "text/plain": [
              "XGBClassifier(base_score=None, booster=None, callbacks=None,\n",
              "              colsample_bylevel=None, colsample_bynode=None,\n",
              "              colsample_bytree=None, device=None, early_stopping_rounds=None,\n",
              "              enable_categorical=False, eval_metric=None, feature_types=None,\n",
              "              gamma=None, grow_policy=None, importance_type=None,\n",
              "              interaction_constraints=None, learning_rate=0.05411085535059276,\n",
              "              max_bin=None, max_cat_threshold=None, max_cat_to_onehot=None,\n",
              "              max_delta_step=None, max_depth=10, max_leaves=None,\n",
              "              min_child_weight=None, missing=nan, monotone_constraints=None,\n",
              "              multi_strategy=None, n_estimators=112, n_jobs=None,\n",
              "              num_parallel_tree=None, objective='multi:softprob', ...)"
            ],
            "text/html": [
              "<style>#sk-container-id-2 {color: black;background-color: white;}#sk-container-id-2 pre{padding: 0;}#sk-container-id-2 div.sk-toggleable {background-color: white;}#sk-container-id-2 label.sk-toggleable__label {cursor: pointer;display: block;width: 100%;margin-bottom: 0;padding: 0.3em;box-sizing: border-box;text-align: center;}#sk-container-id-2 label.sk-toggleable__label-arrow:before {content: \"▸\";float: left;margin-right: 0.25em;color: #696969;}#sk-container-id-2 label.sk-toggleable__label-arrow:hover:before {color: black;}#sk-container-id-2 div.sk-estimator:hover label.sk-toggleable__label-arrow:before {color: black;}#sk-container-id-2 div.sk-toggleable__content {max-height: 0;max-width: 0;overflow: hidden;text-align: left;background-color: #f0f8ff;}#sk-container-id-2 div.sk-toggleable__content pre {margin: 0.2em;color: black;border-radius: 0.25em;background-color: #f0f8ff;}#sk-container-id-2 input.sk-toggleable__control:checked~div.sk-toggleable__content {max-height: 200px;max-width: 100%;overflow: auto;}#sk-container-id-2 input.sk-toggleable__control:checked~label.sk-toggleable__label-arrow:before {content: \"▾\";}#sk-container-id-2 div.sk-estimator input.sk-toggleable__control:checked~label.sk-toggleable__label {background-color: #d4ebff;}#sk-container-id-2 div.sk-label input.sk-toggleable__control:checked~label.sk-toggleable__label {background-color: #d4ebff;}#sk-container-id-2 input.sk-hidden--visually {border: 0;clip: rect(1px 1px 1px 1px);clip: rect(1px, 1px, 1px, 1px);height: 1px;margin: -1px;overflow: hidden;padding: 0;position: absolute;width: 1px;}#sk-container-id-2 div.sk-estimator {font-family: monospace;background-color: #f0f8ff;border: 1px dotted black;border-radius: 0.25em;box-sizing: border-box;margin-bottom: 0.5em;}#sk-container-id-2 div.sk-estimator:hover {background-color: #d4ebff;}#sk-container-id-2 div.sk-parallel-item::after {content: \"\";width: 100%;border-bottom: 1px solid gray;flex-grow: 1;}#sk-container-id-2 div.sk-label:hover label.sk-toggleable__label {background-color: #d4ebff;}#sk-container-id-2 div.sk-serial::before {content: \"\";position: absolute;border-left: 1px solid gray;box-sizing: border-box;top: 0;bottom: 0;left: 50%;z-index: 0;}#sk-container-id-2 div.sk-serial {display: flex;flex-direction: column;align-items: center;background-color: white;padding-right: 0.2em;padding-left: 0.2em;position: relative;}#sk-container-id-2 div.sk-item {position: relative;z-index: 1;}#sk-container-id-2 div.sk-parallel {display: flex;align-items: stretch;justify-content: center;background-color: white;position: relative;}#sk-container-id-2 div.sk-item::before, #sk-container-id-2 div.sk-parallel-item::before {content: \"\";position: absolute;border-left: 1px solid gray;box-sizing: border-box;top: 0;bottom: 0;left: 50%;z-index: -1;}#sk-container-id-2 div.sk-parallel-item {display: flex;flex-direction: column;z-index: 1;position: relative;background-color: white;}#sk-container-id-2 div.sk-parallel-item:first-child::after {align-self: flex-end;width: 50%;}#sk-container-id-2 div.sk-parallel-item:last-child::after {align-self: flex-start;width: 50%;}#sk-container-id-2 div.sk-parallel-item:only-child::after {width: 0;}#sk-container-id-2 div.sk-dashed-wrapped {border: 1px dashed gray;margin: 0 0.4em 0.5em 0.4em;box-sizing: border-box;padding-bottom: 0.4em;background-color: white;}#sk-container-id-2 div.sk-label label {font-family: monospace;font-weight: bold;display: inline-block;line-height: 1.2em;}#sk-container-id-2 div.sk-label-container {text-align: center;}#sk-container-id-2 div.sk-container {/* jupyter's `normalize.less` sets `[hidden] { display: none; }` but bootstrap.min.css set `[hidden] { display: none !important; }` so we also need the `!important` here to be able to override the default hidden behavior on the sphinx rendered scikit-learn.org. See: https://github.com/scikit-learn/scikit-learn/issues/21755 */display: inline-block !important;position: relative;}#sk-container-id-2 div.sk-text-repr-fallback {display: none;}</style><div id=\"sk-container-id-2\" class=\"sk-top-container\"><div class=\"sk-text-repr-fallback\"><pre>XGBClassifier(base_score=None, booster=None, callbacks=None,\n",
              "              colsample_bylevel=None, colsample_bynode=None,\n",
              "              colsample_bytree=None, device=None, early_stopping_rounds=None,\n",
              "              enable_categorical=False, eval_metric=None, feature_types=None,\n",
              "              gamma=None, grow_policy=None, importance_type=None,\n",
              "              interaction_constraints=None, learning_rate=0.05411085535059276,\n",
              "              max_bin=None, max_cat_threshold=None, max_cat_to_onehot=None,\n",
              "              max_delta_step=None, max_depth=10, max_leaves=None,\n",
              "              min_child_weight=None, missing=nan, monotone_constraints=None,\n",
              "              multi_strategy=None, n_estimators=112, n_jobs=None,\n",
              "              num_parallel_tree=None, objective=&#x27;multi:softprob&#x27;, ...)</pre><b>In a Jupyter environment, please rerun this cell to show the HTML representation or trust the notebook. <br />On GitHub, the HTML representation is unable to render, please try loading this page with nbviewer.org.</b></div><div class=\"sk-container\" hidden><div class=\"sk-item\"><div class=\"sk-estimator sk-toggleable\"><input class=\"sk-toggleable__control sk-hidden--visually\" id=\"sk-estimator-id-2\" type=\"checkbox\" checked><label for=\"sk-estimator-id-2\" class=\"sk-toggleable__label sk-toggleable__label-arrow\">XGBClassifier</label><div class=\"sk-toggleable__content\"><pre>XGBClassifier(base_score=None, booster=None, callbacks=None,\n",
              "              colsample_bylevel=None, colsample_bynode=None,\n",
              "              colsample_bytree=None, device=None, early_stopping_rounds=None,\n",
              "              enable_categorical=False, eval_metric=None, feature_types=None,\n",
              "              gamma=None, grow_policy=None, importance_type=None,\n",
              "              interaction_constraints=None, learning_rate=0.05411085535059276,\n",
              "              max_bin=None, max_cat_threshold=None, max_cat_to_onehot=None,\n",
              "              max_delta_step=None, max_depth=10, max_leaves=None,\n",
              "              min_child_weight=None, missing=nan, monotone_constraints=None,\n",
              "              multi_strategy=None, n_estimators=112, n_jobs=None,\n",
              "              num_parallel_tree=None, objective=&#x27;multi:softprob&#x27;, ...)</pre></div></div></div></div></div>"
            ]
          },
          "metadata": {}
        },
        {
          "output_type": "stream",
          "name": "stdout",
          "text": [
            "              precision    recall  f1-score   support\n",
            "\n",
            "         0.0       0.81      0.89      0.85       243\n",
            "         1.0       0.55      0.66      0.60       112\n",
            "         2.0       0.75      0.58      0.66       118\n",
            "         3.0       0.53      0.55      0.54       107\n",
            "         4.0       0.66      0.71      0.68        95\n",
            "         5.0       0.92      0.42      0.58        26\n",
            "         6.0       0.29      0.08      0.12        26\n",
            "\n",
            "    accuracy                           0.69       727\n",
            "   macro avg       0.64      0.56      0.57       727\n",
            "weighted avg       0.68      0.69      0.68       727\n",
            "\n"
          ]
        },
        {
          "output_type": "display_data",
          "data": {
            "text/plain": [
              "RandomForestClassifier(class_weight='balanced', max_depth=9, n_estimators=138,\n",
              "                       random_state=42)"
            ],
            "text/html": [
              "<style>#sk-container-id-3 {color: black;background-color: white;}#sk-container-id-3 pre{padding: 0;}#sk-container-id-3 div.sk-toggleable {background-color: white;}#sk-container-id-3 label.sk-toggleable__label {cursor: pointer;display: block;width: 100%;margin-bottom: 0;padding: 0.3em;box-sizing: border-box;text-align: center;}#sk-container-id-3 label.sk-toggleable__label-arrow:before {content: \"▸\";float: left;margin-right: 0.25em;color: #696969;}#sk-container-id-3 label.sk-toggleable__label-arrow:hover:before {color: black;}#sk-container-id-3 div.sk-estimator:hover label.sk-toggleable__label-arrow:before {color: black;}#sk-container-id-3 div.sk-toggleable__content {max-height: 0;max-width: 0;overflow: hidden;text-align: left;background-color: #f0f8ff;}#sk-container-id-3 div.sk-toggleable__content pre {margin: 0.2em;color: black;border-radius: 0.25em;background-color: #f0f8ff;}#sk-container-id-3 input.sk-toggleable__control:checked~div.sk-toggleable__content {max-height: 200px;max-width: 100%;overflow: auto;}#sk-container-id-3 input.sk-toggleable__control:checked~label.sk-toggleable__label-arrow:before {content: \"▾\";}#sk-container-id-3 div.sk-estimator input.sk-toggleable__control:checked~label.sk-toggleable__label {background-color: #d4ebff;}#sk-container-id-3 div.sk-label input.sk-toggleable__control:checked~label.sk-toggleable__label {background-color: #d4ebff;}#sk-container-id-3 input.sk-hidden--visually {border: 0;clip: rect(1px 1px 1px 1px);clip: rect(1px, 1px, 1px, 1px);height: 1px;margin: -1px;overflow: hidden;padding: 0;position: absolute;width: 1px;}#sk-container-id-3 div.sk-estimator {font-family: monospace;background-color: #f0f8ff;border: 1px dotted black;border-radius: 0.25em;box-sizing: border-box;margin-bottom: 0.5em;}#sk-container-id-3 div.sk-estimator:hover {background-color: #d4ebff;}#sk-container-id-3 div.sk-parallel-item::after {content: \"\";width: 100%;border-bottom: 1px solid gray;flex-grow: 1;}#sk-container-id-3 div.sk-label:hover label.sk-toggleable__label {background-color: #d4ebff;}#sk-container-id-3 div.sk-serial::before {content: \"\";position: absolute;border-left: 1px solid gray;box-sizing: border-box;top: 0;bottom: 0;left: 50%;z-index: 0;}#sk-container-id-3 div.sk-serial {display: flex;flex-direction: column;align-items: center;background-color: white;padding-right: 0.2em;padding-left: 0.2em;position: relative;}#sk-container-id-3 div.sk-item {position: relative;z-index: 1;}#sk-container-id-3 div.sk-parallel {display: flex;align-items: stretch;justify-content: center;background-color: white;position: relative;}#sk-container-id-3 div.sk-item::before, #sk-container-id-3 div.sk-parallel-item::before {content: \"\";position: absolute;border-left: 1px solid gray;box-sizing: border-box;top: 0;bottom: 0;left: 50%;z-index: -1;}#sk-container-id-3 div.sk-parallel-item {display: flex;flex-direction: column;z-index: 1;position: relative;background-color: white;}#sk-container-id-3 div.sk-parallel-item:first-child::after {align-self: flex-end;width: 50%;}#sk-container-id-3 div.sk-parallel-item:last-child::after {align-self: flex-start;width: 50%;}#sk-container-id-3 div.sk-parallel-item:only-child::after {width: 0;}#sk-container-id-3 div.sk-dashed-wrapped {border: 1px dashed gray;margin: 0 0.4em 0.5em 0.4em;box-sizing: border-box;padding-bottom: 0.4em;background-color: white;}#sk-container-id-3 div.sk-label label {font-family: monospace;font-weight: bold;display: inline-block;line-height: 1.2em;}#sk-container-id-3 div.sk-label-container {text-align: center;}#sk-container-id-3 div.sk-container {/* jupyter's `normalize.less` sets `[hidden] { display: none; }` but bootstrap.min.css set `[hidden] { display: none !important; }` so we also need the `!important` here to be able to override the default hidden behavior on the sphinx rendered scikit-learn.org. See: https://github.com/scikit-learn/scikit-learn/issues/21755 */display: inline-block !important;position: relative;}#sk-container-id-3 div.sk-text-repr-fallback {display: none;}</style><div id=\"sk-container-id-3\" class=\"sk-top-container\"><div class=\"sk-text-repr-fallback\"><pre>RandomForestClassifier(class_weight=&#x27;balanced&#x27;, max_depth=9, n_estimators=138,\n",
              "                       random_state=42)</pre><b>In a Jupyter environment, please rerun this cell to show the HTML representation or trust the notebook. <br />On GitHub, the HTML representation is unable to render, please try loading this page with nbviewer.org.</b></div><div class=\"sk-container\" hidden><div class=\"sk-item\"><div class=\"sk-estimator sk-toggleable\"><input class=\"sk-toggleable__control sk-hidden--visually\" id=\"sk-estimator-id-3\" type=\"checkbox\" checked><label for=\"sk-estimator-id-3\" class=\"sk-toggleable__label sk-toggleable__label-arrow\">RandomForestClassifier</label><div class=\"sk-toggleable__content\"><pre>RandomForestClassifier(class_weight=&#x27;balanced&#x27;, max_depth=9, n_estimators=138,\n",
              "                       random_state=42)</pre></div></div></div></div></div>"
            ]
          },
          "metadata": {}
        },
        {
          "output_type": "stream",
          "name": "stdout",
          "text": [
            "              precision    recall  f1-score   support\n",
            "\n",
            "         0.0       0.79      0.58      0.67       243\n",
            "         1.0       0.52      0.42      0.46       112\n",
            "         2.0       0.49      0.91      0.63       118\n",
            "         3.0       0.43      0.77      0.55       107\n",
            "         4.0       0.81      0.18      0.29        95\n",
            "         5.0       0.43      0.23      0.30        26\n",
            "         6.0       0.33      0.19      0.24        26\n",
            "\n",
            "    accuracy                           0.56       727\n",
            "   macro avg       0.54      0.47      0.45       727\n",
            "weighted avg       0.62      0.56      0.54       727\n",
            "\n"
          ]
        },
        {
          "output_type": "error",
          "ename": "ValueError",
          "evalue": "ignored",
          "traceback": [
            "\u001b[0;31m---------------------------------------------------------------------------\u001b[0m",
            "\u001b[0;31mValueError\u001b[0m                                Traceback (most recent call last)",
            "\u001b[0;32m<timed exec>\u001b[0m in \u001b[0;36m<module>\u001b[0;34m\u001b[0m\n",
            "\u001b[0;32m/usr/local/lib/python3.10/dist-packages/pandas/core/generic.py\u001b[0m in \u001b[0;36m__setattr__\u001b[0;34m(self, name, value)\u001b[0m\n\u001b[1;32m   5913\u001b[0m         \u001b[0;32mtry\u001b[0m\u001b[0;34m:\u001b[0m\u001b[0;34m\u001b[0m\u001b[0;34m\u001b[0m\u001b[0m\n\u001b[1;32m   5914\u001b[0m             \u001b[0mobject\u001b[0m\u001b[0;34m.\u001b[0m\u001b[0m__getattribute__\u001b[0m\u001b[0;34m(\u001b[0m\u001b[0mself\u001b[0m\u001b[0;34m,\u001b[0m \u001b[0mname\u001b[0m\u001b[0;34m)\u001b[0m\u001b[0;34m\u001b[0m\u001b[0;34m\u001b[0m\u001b[0m\n\u001b[0;32m-> 5915\u001b[0;31m             \u001b[0;32mreturn\u001b[0m \u001b[0mobject\u001b[0m\u001b[0;34m.\u001b[0m\u001b[0m__setattr__\u001b[0m\u001b[0;34m(\u001b[0m\u001b[0mself\u001b[0m\u001b[0;34m,\u001b[0m \u001b[0mname\u001b[0m\u001b[0;34m,\u001b[0m \u001b[0mvalue\u001b[0m\u001b[0;34m)\u001b[0m\u001b[0;34m\u001b[0m\u001b[0;34m\u001b[0m\u001b[0m\n\u001b[0m\u001b[1;32m   5916\u001b[0m         \u001b[0;32mexcept\u001b[0m \u001b[0mAttributeError\u001b[0m\u001b[0;34m:\u001b[0m\u001b[0;34m\u001b[0m\u001b[0;34m\u001b[0m\u001b[0m\n\u001b[1;32m   5917\u001b[0m             \u001b[0;32mpass\u001b[0m\u001b[0;34m\u001b[0m\u001b[0;34m\u001b[0m\u001b[0m\n",
            "\u001b[0;32m/usr/local/lib/python3.10/dist-packages/pandas/_libs/properties.pyx\u001b[0m in \u001b[0;36mpandas._libs.properties.AxisProperty.__set__\u001b[0;34m()\u001b[0m\n",
            "\u001b[0;32m/usr/local/lib/python3.10/dist-packages/pandas/core/generic.py\u001b[0m in \u001b[0;36m_set_axis\u001b[0;34m(self, axis, labels)\u001b[0m\n\u001b[1;32m    821\u001b[0m     \u001b[0;32mdef\u001b[0m \u001b[0m_set_axis\u001b[0m\u001b[0;34m(\u001b[0m\u001b[0mself\u001b[0m\u001b[0;34m,\u001b[0m \u001b[0maxis\u001b[0m\u001b[0;34m:\u001b[0m \u001b[0mint\u001b[0m\u001b[0;34m,\u001b[0m \u001b[0mlabels\u001b[0m\u001b[0;34m:\u001b[0m \u001b[0mAnyArrayLike\u001b[0m \u001b[0;34m|\u001b[0m \u001b[0mlist\u001b[0m\u001b[0;34m)\u001b[0m \u001b[0;34m->\u001b[0m \u001b[0;32mNone\u001b[0m\u001b[0;34m:\u001b[0m\u001b[0;34m\u001b[0m\u001b[0;34m\u001b[0m\u001b[0m\n\u001b[1;32m    822\u001b[0m         \u001b[0mlabels\u001b[0m \u001b[0;34m=\u001b[0m \u001b[0mensure_index\u001b[0m\u001b[0;34m(\u001b[0m\u001b[0mlabels\u001b[0m\u001b[0;34m)\u001b[0m\u001b[0;34m\u001b[0m\u001b[0;34m\u001b[0m\u001b[0m\n\u001b[0;32m--> 823\u001b[0;31m         \u001b[0mself\u001b[0m\u001b[0;34m.\u001b[0m\u001b[0m_mgr\u001b[0m\u001b[0;34m.\u001b[0m\u001b[0mset_axis\u001b[0m\u001b[0;34m(\u001b[0m\u001b[0maxis\u001b[0m\u001b[0;34m,\u001b[0m \u001b[0mlabels\u001b[0m\u001b[0;34m)\u001b[0m\u001b[0;34m\u001b[0m\u001b[0;34m\u001b[0m\u001b[0m\n\u001b[0m\u001b[1;32m    824\u001b[0m         \u001b[0mself\u001b[0m\u001b[0;34m.\u001b[0m\u001b[0m_clear_item_cache\u001b[0m\u001b[0;34m(\u001b[0m\u001b[0;34m)\u001b[0m\u001b[0;34m\u001b[0m\u001b[0;34m\u001b[0m\u001b[0m\n\u001b[1;32m    825\u001b[0m \u001b[0;34m\u001b[0m\u001b[0m\n",
            "\u001b[0;32m/usr/local/lib/python3.10/dist-packages/pandas/core/internals/managers.py\u001b[0m in \u001b[0;36mset_axis\u001b[0;34m(self, axis, new_labels)\u001b[0m\n\u001b[1;32m    228\u001b[0m     \u001b[0;32mdef\u001b[0m \u001b[0mset_axis\u001b[0m\u001b[0;34m(\u001b[0m\u001b[0mself\u001b[0m\u001b[0;34m,\u001b[0m \u001b[0maxis\u001b[0m\u001b[0;34m:\u001b[0m \u001b[0mint\u001b[0m\u001b[0;34m,\u001b[0m \u001b[0mnew_labels\u001b[0m\u001b[0;34m:\u001b[0m \u001b[0mIndex\u001b[0m\u001b[0;34m)\u001b[0m \u001b[0;34m->\u001b[0m \u001b[0;32mNone\u001b[0m\u001b[0;34m:\u001b[0m\u001b[0;34m\u001b[0m\u001b[0;34m\u001b[0m\u001b[0m\n\u001b[1;32m    229\u001b[0m         \u001b[0;31m# Caller is responsible for ensuring we have an Index object.\u001b[0m\u001b[0;34m\u001b[0m\u001b[0;34m\u001b[0m\u001b[0m\n\u001b[0;32m--> 230\u001b[0;31m         \u001b[0mself\u001b[0m\u001b[0;34m.\u001b[0m\u001b[0m_validate_set_axis\u001b[0m\u001b[0;34m(\u001b[0m\u001b[0maxis\u001b[0m\u001b[0;34m,\u001b[0m \u001b[0mnew_labels\u001b[0m\u001b[0;34m)\u001b[0m\u001b[0;34m\u001b[0m\u001b[0;34m\u001b[0m\u001b[0m\n\u001b[0m\u001b[1;32m    231\u001b[0m         \u001b[0mself\u001b[0m\u001b[0;34m.\u001b[0m\u001b[0maxes\u001b[0m\u001b[0;34m[\u001b[0m\u001b[0maxis\u001b[0m\u001b[0;34m]\u001b[0m \u001b[0;34m=\u001b[0m \u001b[0mnew_labels\u001b[0m\u001b[0;34m\u001b[0m\u001b[0;34m\u001b[0m\u001b[0m\n\u001b[1;32m    232\u001b[0m \u001b[0;34m\u001b[0m\u001b[0m\n",
            "\u001b[0;32m/usr/local/lib/python3.10/dist-packages/pandas/core/internals/base.py\u001b[0m in \u001b[0;36m_validate_set_axis\u001b[0;34m(self, axis, new_labels)\u001b[0m\n\u001b[1;32m     68\u001b[0m \u001b[0;34m\u001b[0m\u001b[0m\n\u001b[1;32m     69\u001b[0m         \u001b[0;32melif\u001b[0m \u001b[0mnew_len\u001b[0m \u001b[0;34m!=\u001b[0m \u001b[0mold_len\u001b[0m\u001b[0;34m:\u001b[0m\u001b[0;34m\u001b[0m\u001b[0;34m\u001b[0m\u001b[0m\n\u001b[0;32m---> 70\u001b[0;31m             raise ValueError(\n\u001b[0m\u001b[1;32m     71\u001b[0m                 \u001b[0;34mf\"Length mismatch: Expected axis has {old_len} elements, new \"\u001b[0m\u001b[0;34m\u001b[0m\u001b[0;34m\u001b[0m\u001b[0m\n\u001b[1;32m     72\u001b[0m                 \u001b[0;34mf\"values have {new_len} elements\"\u001b[0m\u001b[0;34m\u001b[0m\u001b[0;34m\u001b[0m\u001b[0m\n",
            "\u001b[0;31mValueError\u001b[0m: Length mismatch: Expected axis has 3 elements, new values have 5 elements"
          ]
        }
      ],
      "source": [
        "%%time\n",
        "Supervised_Best_ct = RunBestSupervised(best_models_ct,ct_X_train,X_test,keep_feas,ct_y_train,y_test)\n",
        "Supervised_Best_ct.index=model_lst\n",
        "display(Supervised_Best_ct)"
      ]
    },
    {
      "cell_type": "code",
      "execution_count": null,
      "metadata": {
        "id": "2jd7Grdk09ya",
        "colab": {
          "base_uri": "https://localhost:8080/"
        },
        "outputId": "a7bb663a-5845-461a-ba03-ffcddcd9e73c"
      },
      "outputs": [
        {
          "output_type": "stream",
          "name": "stdout",
          "text": [
            "/content/drive/MyDrive/ThesisFinal/experiment3/results/fine_tuning/ctgan+\n"
          ]
        }
      ],
      "source": [
        "_CTGAN_FN_RESULT = create_dir(_SUPERVISED_FINETUNING,'ctgan+')"
      ]
    },
    {
      "cell_type": "code",
      "execution_count": null,
      "metadata": {
        "id": "2GdN4Gbn0nH_"
      },
      "outputs": [],
      "source": [
        "Supervised_Best_ct.to_csv(_CTGAN_FN_RESULT + '/' + 'ctgan_fn_best.csv')"
      ]
    },
    {
      "cell_type": "code",
      "execution_count": null,
      "metadata": {
        "id": "yjDHJsTtORAU"
      },
      "outputs": [],
      "source": []
    }
  ],
  "metadata": {
    "accelerator": "GPU",
    "colab": {
      "provenance": [],
      "toc_visible": true,
      "gpuType": "V100",
      "collapsed_sections": [
        "uMNmkpZ2pP21",
        "qtPqr4Pk9Die"
      ],
      "mount_file_id": "14l8PjBS6LXcb9Vfgh3J8V3MaPLDFNYmp",
      "authorship_tag": "ABX9TyMjsR4gn2yWhMELutiV89aY",
      "include_colab_link": true
    },
    "kernelspec": {
      "display_name": "Python 3",
      "name": "python3"
    },
    "language_info": {
      "name": "python"
    }
  },
  "nbformat": 4,
  "nbformat_minor": 0
}